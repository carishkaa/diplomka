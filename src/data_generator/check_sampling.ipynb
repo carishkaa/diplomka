{
 "cells": [
  {
   "cell_type": "code",
   "execution_count": 1,
   "metadata": {},
   "outputs": [],
   "source": [
    "import bindata as bnd\n",
    "import pandas as pd\n",
    "import numpy as np\n",
    "capsules = pd.read_csv('../../data/capsules_with_freq.csv', sep=';')\n",
    "drug_names_unique = capsules[['Drug_1', 'Drug_2', 'Drug_3', 'Drug_4', 'Drug_5', 'Drug_6', 'Drug_7', 'Drug_8']].stack().unique()\n",
    "# normalize capsules['exact_exposure_count] to 0, 100\n",
    "capsules['exact_exposure_count'] = capsules['exact_exposure_count'].replace('<100', 100)\n",
    "capsules['exact_exposure_count'] = capsules['exact_exposure_count'].replace('1', 100)\n",
    "capsules['exact_exposure_count'] = capsules['exact_exposure_count'].astype(int)\n",
    "capsules['exact_exposure_count'] = capsules['exact_exposure_count'] / (capsules['exact_exposure_count']).max() * 20000\n",
    "capsules['exact_exposure_count'] = capsules['exact_exposure_count'].astype(int) + 1\n",
    "\n",
    "# Restructure the data (columns are drugs and rows are patients, values are 0 or 1)\n",
    "data = []\n",
    "for i, row in capsules.iterrows():\n",
    "    patient_data = []\n",
    "    for drug in drug_names_unique:\n",
    "        patient_data.append(int(drug in row.values))\n",
    "    \n",
    "    # data.append(patient_data)\n",
    "    data.extend([patient_data] * row['exact_exposure_count'])\n",
    "\n",
    "index = [f\"comb{i}\" for i in range(len(data))]\n",
    "data = pd.DataFrame(data, columns=drug_names_unique, dtype=int, index=index)\n",
    "data.head()\n",
    "data.shape\n",
    "\n",
    "feature_probs = np.mean(data, axis=0)\n",
    "\n",
    "correlation_matrix = np.corrcoef(data, rowvar=False) # correlation, same as (np.cov(X,Y)[0,1]/(np.std(X,ddof=1)*np.std(Y,ddof=1)))\n",
    "correlation_matrix = np.ceil(correlation_matrix * 1e12) / 1e12\n",
    "# store feat_probs and correlation_matrix csv\n",
    "# np.savetxt('feat_probs.csv', feature_probs, delimiter=',')\n",
    "# np.savetxt('correlation_matrix.csv', correlation_matrix, delimiter=',')"
   ]
  },
  {
   "cell_type": "code",
   "execution_count": 2,
   "metadata": {},
   "outputs": [
    {
     "name": "stderr",
     "output_type": "stream",
     "text": [
      "/Users/karina/Library/Python/3.9/lib/python/site-packages/bindata/check_commonprob.py:81: UserWarning: simulvals provided is not computed to a sufficient resolution\n",
      "to resolve the common probabilies provided in commonprob.\n",
      "\n",
      "\n",
      "INTERPOLATION IS GOING TO BE USED.\n",
      "\n",
      "Consider computing simulvals on a finer grid.\n",
      "The current resolution is on these points:\n",
      "[(0, 0), (0, 0.001), (0, 0.01), (0, np.float64(0.05)), (0, np.float64(0.1)), (0, np.float64(0.15)), (0, np.float64(0.2)), (0, np.float64(0.25)), (0, np.float64(0.3)), (0, np.float64(0.35)), (0, np.float64(0.4)), (0, np.float64(0.45)), (0, np.float64(0.5)), (0, np.float64(0.55)), (0, np.float64(0.6)), (0, np.float64(0.65)), (0, np.float64(0.7)), (0, np.float64(0.75)), (0, np.float64(0.8)), (0, np.float64(0.85)), (0, np.float64(0.9)), (0, np.float64(0.95)), (0, 0.99), (0, 0.999), (0, 1), (0.001, 0.001), (0.001, 0.01), (0.001, np.float64(0.05)), (0.001, np.float64(0.1)), (0.001, np.float64(0.15)), (0.001, np.float64(0.2)), (0.001, np.float64(0.25)), (0.001, np.float64(0.3)), (0.001, np.float64(0.35)), (0.001, np.float64(0.4)), (0.001, np.float64(0.45)), (0.001, np.float64(0.5)), (0.001, np.float64(0.55)), (0.001, np.float64(0.6)), (0.001, np.float64(0.65)), (0.001, np.float64(0.7)), (0.001, np.float64(0.75)), (0.001, np.float64(0.8)), (0.001, np.float64(0.85)), (0.001, np.float64(0.9)), (0.001, np.float64(0.95)), (0.001, 0.99), (0.001, 0.999), (0.001, 1), (0.01, 0.01), (0.01, np.float64(0.05)), (0.01, np.float64(0.1)), (0.01, np.float64(0.15)), (0.01, np.float64(0.2)), (0.01, np.float64(0.25)), (0.01, np.float64(0.3)), (0.01, np.float64(0.35)), (0.01, np.float64(0.4)), (0.01, np.float64(0.45)), (0.01, np.float64(0.5)), (0.01, np.float64(0.55)), (0.01, np.float64(0.6)), (0.01, np.float64(0.65)), (0.01, np.float64(0.7)), (0.01, np.float64(0.75)), (0.01, np.float64(0.8)), (0.01, np.float64(0.85)), (0.01, np.float64(0.9)), (0.01, np.float64(0.95)), (0.01, 0.99), (0.01, 0.999), (0.01, 1), (np.float64(0.05), np.float64(0.05)), (np.float64(0.05), np.float64(0.1)), (np.float64(0.05), np.float64(0.15)), (np.float64(0.05), np.float64(0.2)), (np.float64(0.05), np.float64(0.25)), (np.float64(0.05), np.float64(0.3)), (np.float64(0.05), np.float64(0.35)), (np.float64(0.05), np.float64(0.4)), (np.float64(0.05), np.float64(0.45)), (np.float64(0.05), np.float64(0.5)), (np.float64(0.05), np.float64(0.55)), (np.float64(0.05), np.float64(0.6)), (np.float64(0.05), np.float64(0.65)), (np.float64(0.05), np.float64(0.7)), (np.float64(0.05), np.float64(0.75)), (np.float64(0.05), np.float64(0.8)), (np.float64(0.05), np.float64(0.85)), (np.float64(0.05), np.float64(0.9)), (np.float64(0.05), np.float64(0.95)), (np.float64(0.05), 0.99), (np.float64(0.05), 0.999), (np.float64(0.05), 1), (np.float64(0.1), np.float64(0.1)), (np.float64(0.1), np.float64(0.15)), (np.float64(0.1), np.float64(0.2)), (np.float64(0.1), np.float64(0.25)), (np.float64(0.1), np.float64(0.3)), (np.float64(0.1), np.float64(0.35)), (np.float64(0.1), np.float64(0.4)), (np.float64(0.1), np.float64(0.45)), (np.float64(0.1), np.float64(0.5)), (np.float64(0.1), np.float64(0.55)), (np.float64(0.1), np.float64(0.6)), (np.float64(0.1), np.float64(0.65)), (np.float64(0.1), np.float64(0.7)), (np.float64(0.1), np.float64(0.75)), (np.float64(0.1), np.float64(0.8)), (np.float64(0.1), np.float64(0.85)), (np.float64(0.1), np.float64(0.9)), (np.float64(0.1), np.float64(0.95)), (np.float64(0.1), 0.99), (np.float64(0.1), 0.999), (np.float64(0.1), 1), (np.float64(0.15), np.float64(0.15)), (np.float64(0.15), np.float64(0.2)), (np.float64(0.15), np.float64(0.25)), (np.float64(0.15), np.float64(0.3)), (np.float64(0.15), np.float64(0.35)), (np.float64(0.15), np.float64(0.4)), (np.float64(0.15), np.float64(0.45)), (np.float64(0.15), np.float64(0.5)), (np.float64(0.15), np.float64(0.55)), (np.float64(0.15), np.float64(0.6)), (np.float64(0.15), np.float64(0.65)), (np.float64(0.15), np.float64(0.7)), (np.float64(0.15), np.float64(0.75)), (np.float64(0.15), np.float64(0.8)), (np.float64(0.15), np.float64(0.85)), (np.float64(0.15), np.float64(0.9)), (np.float64(0.15), np.float64(0.95)), (np.float64(0.15), 0.99), (np.float64(0.15), 0.999), (np.float64(0.15), 1), (np.float64(0.2), np.float64(0.2)), (np.float64(0.2), np.float64(0.25)), (np.float64(0.2), np.float64(0.3)), (np.float64(0.2), np.float64(0.35)), (np.float64(0.2), np.float64(0.4)), (np.float64(0.2), np.float64(0.45)), (np.float64(0.2), np.float64(0.5)), (np.float64(0.2), np.float64(0.55)), (np.float64(0.2), np.float64(0.6)), (np.float64(0.2), np.float64(0.65)), (np.float64(0.2), np.float64(0.7)), (np.float64(0.2), np.float64(0.75)), (np.float64(0.2), np.float64(0.8)), (np.float64(0.2), np.float64(0.85)), (np.float64(0.2), np.float64(0.9)), (np.float64(0.2), np.float64(0.95)), (np.float64(0.2), 0.99), (np.float64(0.2), 0.999), (np.float64(0.2), 1), (np.float64(0.25), np.float64(0.25)), (np.float64(0.25), np.float64(0.3)), (np.float64(0.25), np.float64(0.35)), (np.float64(0.25), np.float64(0.4)), (np.float64(0.25), np.float64(0.45)), (np.float64(0.25), np.float64(0.5)), (np.float64(0.25), np.float64(0.55)), (np.float64(0.25), np.float64(0.6)), (np.float64(0.25), np.float64(0.65)), (np.float64(0.25), np.float64(0.7)), (np.float64(0.25), np.float64(0.75)), (np.float64(0.25), np.float64(0.8)), (np.float64(0.25), np.float64(0.85)), (np.float64(0.25), np.float64(0.9)), (np.float64(0.25), np.float64(0.95)), (np.float64(0.25), 0.99), (np.float64(0.25), 0.999), (np.float64(0.25), 1), (np.float64(0.3), np.float64(0.3)), (np.float64(0.3), np.float64(0.35)), (np.float64(0.3), np.float64(0.4)), (np.float64(0.3), np.float64(0.45)), (np.float64(0.3), np.float64(0.5)), (np.float64(0.3), np.float64(0.55)), (np.float64(0.3), np.float64(0.6)), (np.float64(0.3), np.float64(0.65)), (np.float64(0.3), np.float64(0.7)), (np.float64(0.3), np.float64(0.75)), (np.float64(0.3), np.float64(0.8)), (np.float64(0.3), np.float64(0.85)), (np.float64(0.3), np.float64(0.9)), (np.float64(0.3), np.float64(0.95)), (np.float64(0.3), 0.99), (np.float64(0.3), 0.999), (np.float64(0.3), 1), (np.float64(0.35), np.float64(0.35)), (np.float64(0.35), np.float64(0.4)), (np.float64(0.35), np.float64(0.45)), (np.float64(0.35), np.float64(0.5)), (np.float64(0.35), np.float64(0.55)), (np.float64(0.35), np.float64(0.6)), (np.float64(0.35), np.float64(0.65)), (np.float64(0.35), np.float64(0.7)), (np.float64(0.35), np.float64(0.75)), (np.float64(0.35), np.float64(0.8)), (np.float64(0.35), np.float64(0.85)), (np.float64(0.35), np.float64(0.9)), (np.float64(0.35), np.float64(0.95)), (np.float64(0.35), 0.99), (np.float64(0.35), 0.999), (np.float64(0.35), 1), (np.float64(0.4), np.float64(0.4)), (np.float64(0.4), np.float64(0.45)), (np.float64(0.4), np.float64(0.5)), (np.float64(0.4), np.float64(0.55)), (np.float64(0.4), np.float64(0.6)), (np.float64(0.4), np.float64(0.65)), (np.float64(0.4), np.float64(0.7)), (np.float64(0.4), np.float64(0.75)), (np.float64(0.4), np.float64(0.8)), (np.float64(0.4), np.float64(0.85)), (np.float64(0.4), np.float64(0.9)), (np.float64(0.4), np.float64(0.95)), (np.float64(0.4), 0.99), (np.float64(0.4), 0.999), (np.float64(0.4), 1), (np.float64(0.45), np.float64(0.45)), (np.float64(0.45), np.float64(0.5)), (np.float64(0.45), np.float64(0.55)), (np.float64(0.45), np.float64(0.6)), (np.float64(0.45), np.float64(0.65)), (np.float64(0.45), np.float64(0.7)), (np.float64(0.45), np.float64(0.75)), (np.float64(0.45), np.float64(0.8)), (np.float64(0.45), np.float64(0.85)), (np.float64(0.45), np.float64(0.9)), (np.float64(0.45), np.float64(0.95)), (np.float64(0.45), 0.99), (np.float64(0.45), 0.999), (np.float64(0.45), 1), (np.float64(0.5), np.float64(0.5)), (np.float64(0.5), np.float64(0.55)), (np.float64(0.5), np.float64(0.6)), (np.float64(0.5), np.float64(0.65)), (np.float64(0.5), np.float64(0.7)), (np.float64(0.5), np.float64(0.75)), (np.float64(0.5), np.float64(0.8)), (np.float64(0.5), np.float64(0.85)), (np.float64(0.5), np.float64(0.9)), (np.float64(0.5), np.float64(0.95)), (np.float64(0.5), 0.99), (np.float64(0.5), 0.999), (np.float64(0.5), 1), (np.float64(0.55), np.float64(0.55)), (np.float64(0.55), np.float64(0.6)), (np.float64(0.55), np.float64(0.65)), (np.float64(0.55), np.float64(0.7)), (np.float64(0.55), np.float64(0.75)), (np.float64(0.55), np.float64(0.8)), (np.float64(0.55), np.float64(0.85)), (np.float64(0.55), np.float64(0.9)), (np.float64(0.55), np.float64(0.95)), (np.float64(0.55), 0.99), (np.float64(0.55), 0.999), (np.float64(0.55), 1), (np.float64(0.6), np.float64(0.6)), (np.float64(0.6), np.float64(0.65)), (np.float64(0.6), np.float64(0.7)), (np.float64(0.6), np.float64(0.75)), (np.float64(0.6), np.float64(0.8)), (np.float64(0.6), np.float64(0.85)), (np.float64(0.6), np.float64(0.9)), (np.float64(0.6), np.float64(0.95)), (np.float64(0.6), 0.99), (np.float64(0.6), 0.999), (np.float64(0.6), 1), (np.float64(0.65), np.float64(0.65)), (np.float64(0.65), np.float64(0.7)), (np.float64(0.65), np.float64(0.75)), (np.float64(0.65), np.float64(0.8)), (np.float64(0.65), np.float64(0.85)), (np.float64(0.65), np.float64(0.9)), (np.float64(0.65), np.float64(0.95)), (np.float64(0.65), 0.99), (np.float64(0.65), 0.999), (np.float64(0.65), 1), (np.float64(0.7), np.float64(0.7)), (np.float64(0.7), np.float64(0.75)), (np.float64(0.7), np.float64(0.8)), (np.float64(0.7), np.float64(0.85)), (np.float64(0.7), np.float64(0.9)), (np.float64(0.7), np.float64(0.95)), (np.float64(0.7), 0.99), (np.float64(0.7), 0.999), (np.float64(0.7), 1), (np.float64(0.75), np.float64(0.75)), (np.float64(0.75), np.float64(0.8)), (np.float64(0.75), np.float64(0.85)), (np.float64(0.75), np.float64(0.9)), (np.float64(0.75), np.float64(0.95)), (np.float64(0.75), 0.99), (np.float64(0.75), 0.999), (np.float64(0.75), 1), (np.float64(0.8), np.float64(0.8)), (np.float64(0.8), np.float64(0.85)), (np.float64(0.8), np.float64(0.9)), (np.float64(0.8), np.float64(0.95)), (np.float64(0.8), 0.99), (np.float64(0.8), 0.999), (np.float64(0.8), 1), (np.float64(0.85), np.float64(0.85)), (np.float64(0.85), np.float64(0.9)), (np.float64(0.85), np.float64(0.95)), (np.float64(0.85), 0.99), (np.float64(0.85), 0.999), (np.float64(0.85), 1), (np.float64(0.9), np.float64(0.9)), (np.float64(0.9), np.float64(0.95)), (np.float64(0.9), 0.99), (np.float64(0.9), 0.999), (np.float64(0.9), 1), (np.float64(0.95), np.float64(0.95)), (np.float64(0.95), 0.99), (np.float64(0.95), 0.999), (np.float64(0.95), 1), (0.99, 0.99), (0.99, 0.999), (0.99, 1), (0.999, 0.999), (0.999, 1), (1, 1)]\n",
      "Alternatively round the common probabilities or correlations provided\n",
      "to fewer decimal places.\n",
      "  warnings.warn(f\"simulvals provided is not computed to a sufficient resolution\\n\"\n"
     ]
    }
   ],
   "source": [
    "from main import generate_multivariate_binary\n",
    "\n",
    "nsamples = 100000\n",
    "sample, metadata = generate_multivariate_binary(40, nsamples, feature_probs, correlation_matrix, (3, 6))"
   ]
  },
  {
   "cell_type": "code",
   "execution_count": 3,
   "metadata": {},
   "outputs": [
    {
     "data": {
      "image/png": "[encoded data removed]",
      "text/plain": [
       "<Figure size 640x480 with 1 Axes>"
      ]
     },
     "metadata": {},
     "output_type": "display_data"
    }
   ],
   "source": [
    "# Plot the histogram of a drug\n",
    "import matplotlib.pyplot as plt\n",
    "drug_idx = 2 # any number from 0 to 40\n",
    "plt.hist(metadata['sample_norm'][:,drug_idx], bins=40)\n",
    "# plt.hist(sample[:,drug_idx], bins=2, alpha=0.5)\n",
    "plt.title(f'Histogram of drug {drug_names_unique[drug_idx]}')\n",
    "plt.legend(['Normal', 'Binary'])\n",
    "plt.show()"
   ]
  },
  {
   "cell_type": "code",
   "execution_count": 4,
   "metadata": {},
   "outputs": [
    {
     "name": "stdout",
     "output_type": "stream",
     "text": [
      "Count of drugs per patient in real data:  sum\n",
      "3    352760\n",
      "4     29011\n",
      "5      1735\n",
      "6       104\n",
      "7        26\n",
      "8         6\n",
      "Name: count, dtype: int64\n",
      "Count of drugs per patient in generated data:  sum\n",
      "3    25192\n",
      "4    24820\n",
      "5    25136\n",
      "6    24852\n",
      "Name: count, dtype: int64\n"
     ]
    }
   ],
   "source": [
    "# group by sum \n",
    "sample = sample.astype(int)\n",
    "sampledf = pd.DataFrame(data, columns=drug_names_unique)\n",
    "sampledf['sum'] = sampledf.sum(axis=1)\n",
    "sums = sampledf['sum'].value_counts().sort_index()\n",
    "print('Count of drugs per patient in real data: ', sums) \n",
    "# print(sums / sums.sum())\n",
    "\n",
    "sampledf = pd.DataFrame(sample, columns=drug_names_unique)\n",
    "sampledf['sum'] = sampledf.sum(axis=1)\n",
    "print('Count of drugs per patient in generated data: ', sampledf['sum'].value_counts().sort_index())"
   ]
  },
  {
   "cell_type": "code",
   "execution_count": 5,
   "metadata": {},
   "outputs": [],
   "source": [
    "import plotly.express as px\n",
    "def visualize(sample_data):\n",
    "    corr_with_zero_diag = np.corrcoef(data, rowvar=False) - np.eye(sample_data.shape[1])\n",
    "    fig = px.imshow(corr_with_zero_diag, x=drug_names_unique, y=drug_names_unique, zmin=-1, zmax=1, color_continuous_scale='RdBu', title='Input correlation matrix')\n",
    "    fig.show()\n",
    "    corr_with_zero_diag = np.corrcoef(sample_data, rowvar=False) - np.eye(sample_data.shape[1])\n",
    "    fig = px.imshow(corr_with_zero_diag, x=drug_names_unique, y=drug_names_unique, zmin=-1, zmax=1, color_continuous_scale='RdBu', title='Sample correlation matrix')\n",
    "    fig.show()\n",
    "\n",
    "    # sort drug_names_unique and feature_probs by feature_probs\n",
    "    drug_names_unique_sorted = [x for _, x in sorted(zip(feature_probs, drug_names_unique), reverse=True)]\n",
    "    feature_probs_sorted = sorted(feature_probs, reverse=True)\n",
    "    sample_marg_sorted = np.mean(sample_data, axis=0)[np.argsort(feature_probs)[::-1]]\n",
    "\n",
    "    fig = px.bar(x=drug_names_unique_sorted, y=feature_probs_sorted, title='Input marginal probabilities')\n",
    "    # fig.update_xaxes(categoryorder='total descending')\n",
    "    fig.show()\n",
    "    fig = px.bar(x=drug_names_unique_sorted, y=sample_marg_sorted, title='Sampled marginal probabilities')\n",
    "    # fig.update_xaxes(categoryorder='total descending') same ordering as in fig 1\n",
    "    fig.update_xaxes(categoryorder='array', categoryarray=drug_names_unique_sorted)\n",
    "    fig.show()"
   ]
  },
  {
   "cell_type": "code",
   "execution_count": 6,
   "metadata": {},
   "outputs": [
    {
     "data": {
      "application/vnd.plotly.v1+json": {
       "config": {
        "plotlyServerURL": "https://plot.ly"
       },
       "data": [
        {
         "coloraxis": "coloraxis",
         "hovertemplate": "x: %{x}<br>y: %{y}<br>color: %{z}<extra></extra>",
         "name": "0",
         "type": "heatmap",
         "x": [
          "CARVEDILOL",
          "ESOMEPRAZOLE",
          "LEVOTHYROXINE",
          "TRAMADOL",
          "AMLODIPINE",
          "METOPROLOL",
          "OMEPRAZOLE",
          "SIMVASTATIN",
          "TAMSULOSIN",
          "ALENDRONATE",
          "ATORVASTATIN",
          "LISINOPRIL",
          "LOSARTAN",
          "SERTRALINE",
          "METFORMIN",
          "PIOGLITAZONE",
          "PRAVASTATIN",
          "FUROSEMIDE",
          "POTASSIUM CHLORIDE",
          "HYDROCHLOROTHIAZIDE",
          "ATENOLOL",
          "WARFARIN",
          "ASPIRIN",
          "LOVASTATIN",
          "ALBUTEROL",
          "GLIPIZIDE",
          "RANITIDINE",
          "GABAPENTIN",
          "INSULIN GLARGINE",
          "CLOPIDOGREL",
          "ZOLPIDEM",
          "ALLOPURINOL",
          "CITALOPRAM",
          "PREDNISONE",
          "ROSUVASTATIN",
          "VALSARTAN",
          "IBUPROFEN",
          "FEXOFENADINE",
          "MONTELUKAST",
          "FLUTICASONE NASAL"
         ],
         "xaxis": "x",
         "y": [
          "CARVEDILOL",
          "ESOMEPRAZOLE",
          "LEVOTHYROXINE",
          "TRAMADOL",
          "AMLODIPINE",
          "METOPROLOL",
          "OMEPRAZOLE",
          "SIMVASTATIN",
          "TAMSULOSIN",
          "ALENDRONATE",
          "ATORVASTATIN",
          "LISINOPRIL",
          "LOSARTAN",
          "SERTRALINE",
          "METFORMIN",
          "PIOGLITAZONE",
          "PRAVASTATIN",
          "FUROSEMIDE",
          "POTASSIUM CHLORIDE",
          "HYDROCHLOROTHIAZIDE",
          "ATENOLOL",
          "WARFARIN",
          "ASPIRIN",
          "LOVASTATIN",
          "ALBUTEROL",
          "GLIPIZIDE",
          "RANITIDINE",
          "GABAPENTIN",
          "INSULIN GLARGINE",
          "CLOPIDOGREL",
          "ZOLPIDEM",
          "ALLOPURINOL",
          "CITALOPRAM",
          "PREDNISONE",
          "ROSUVASTATIN",
          "VALSARTAN",
          "IBUPROFEN",
          "FEXOFENADINE",
          "MONTELUKAST",
          "FLUTICASONE NASAL"
         ],
         "yaxis": "y",
         "z": {
          "bdata": "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",
          "dtype": "f8",
          "shape": "40, 40"
         }
        }
       ],
       "layout": {
        "coloraxis": {
         "cmax": 1,
         "cmin": -1,
         "colorscale": [
          [
           0,
           "rgb(103,0,31)"
          ],
          [
           0.1,
           "rgb(178,24,43)"
          ],
          [
           0.2,
           "rgb(214,96,77)"
          ],
          [
           0.3,
           "rgb(244,165,130)"
          ],
          [
           0.4,
           "rgb(253,219,199)"
          ],
          [
           0.5,
           "rgb(247,247,247)"
          ],
          [
           0.6,
           "rgb(209,229,240)"
          ],
          [
           0.7,
           "rgb(146,197,222)"
          ],
          [
           0.8,
           "rgb(67,147,195)"
          ],
          [
           0.9,
           "rgb(33,102,172)"
          ],
          [
           1,
           "rgb(5,48,97)"
          ]
         ]
        },
        "template": {
         "data": {
          "bar": [
           {
            "error_x": {
             "color": "#2a3f5f"
            },
            "error_y": {
             "color": "#2a3f5f"
            },
            "marker": {
             "line": {
              "color": "#E5ECF6",
              "width": 0.5
             },
             "pattern": {
              "fillmode": "overlay",
              "size": 10,
              "solidity": 0.2
             }
            },
            "type": "bar"
           }
          ],
          "barpolar": [
           {
            "marker": {
             "line": {
              "color": "#E5ECF6",
              "width": 0.5
             },
             "pattern": {
              "fillmode": "overlay",
              "size": 10,
              "solidity": 0.2
             }
            },
            "type": "barpolar"
           }
          ],
          "carpet": [
           {
            "aaxis": {
             "endlinecolor": "#2a3f5f",
             "gridcolor": "white",
             "linecolor": "white",
             "minorgridcolor": "white",
             "startlinecolor": "#2a3f5f"
            },
            "baxis": {
             "endlinecolor": "#2a3f5f",
             "gridcolor": "white",
             "linecolor": "white",
             "minorgridcolor": "white",
             "startlinecolor": "#2a3f5f"
            },
            "type": "carpet"
           }
          ],
          "choropleth": [
           {
            "colorbar": {
             "outlinewidth": 0,
             "ticks": ""
            },
            "type": "choropleth"
           }
          ],
          "contour": [
           {
            "colorbar": {
             "outlinewidth": 0,
             "ticks": ""
            },
            "colorscale": [
             [
              0,
              "#0d0887"
             ],
             [
              0.1111111111111111,
              "#46039f"
             ],
             [
              0.2222222222222222,
              "#7201a8"
             ],
             [
              0.3333333333333333,
              "#9c179e"
             ],
             [
              0.4444444444444444,
              "#bd3786"
             ],
             [
              0.5555555555555556,
              "#d8576b"
             ],
             [
              0.6666666666666666,
              "#ed7953"
             ],
             [
              0.7777777777777778,
              "#fb9f3a"
             ],
             [
              0.8888888888888888,
              "#fdca26"
             ],
             [
              1,
              "#f0f921"
             ]
            ],
            "type": "contour"
           }
          ],
          "contourcarpet": [
           {
            "colorbar": {
             "outlinewidth": 0,
             "ticks": ""
            },
            "type": "contourcarpet"
           }
          ],
          "heatmap": [
           {
            "colorbar": {
             "outlinewidth": 0,
             "ticks": ""
            },
            "colorscale": [
             [
              0,
              "#0d0887"
             ],
             [
              0.1111111111111111,
              "#46039f"
             ],
             [
              0.2222222222222222,
              "#7201a8"
             ],
             [
              0.3333333333333333,
              "#9c179e"
             ],
             [
              0.4444444444444444,
              "#bd3786"
             ],
             [
              0.5555555555555556,
              "#d8576b"
             ],
             [
              0.6666666666666666,
              "#ed7953"
             ],
             [
              0.7777777777777778,
              "#fb9f3a"
             ],
             [
              0.8888888888888888,
              "#fdca26"
             ],
             [
              1,
              "#f0f921"
             ]
            ],
            "type": "heatmap"
           }
          ],
          "histogram": [
           {
            "marker": {
             "pattern": {
              "fillmode": "overlay",
              "size": 10,
              "solidity": 0.2
             }
            },
            "type": "histogram"
           }
          ],
          "histogram2d": [
           {
            "colorbar": {
             "outlinewidth": 0,
             "ticks": ""
            },
            "colorscale": [
             [
              0,
              "#0d0887"
             ],
             [
              0.1111111111111111,
              "#46039f"
             ],
             [
              0.2222222222222222,
              "#7201a8"
             ],
             [
              0.3333333333333333,
              "#9c179e"
             ],
             [
              0.4444444444444444,
              "#bd3786"
             ],
             [
              0.5555555555555556,
              "#d8576b"
             ],
             [
              0.6666666666666666,
              "#ed7953"
             ],
             [
              0.7777777777777778,
              "#fb9f3a"
             ],
             [
              0.8888888888888888,
              "#fdca26"
             ],
             [
              1,
              "#f0f921"
             ]
            ],
            "type": "histogram2d"
           }
          ],
          "histogram2dcontour": [
           {
            "colorbar": {
             "outlinewidth": 0,
             "ticks": ""
            },
            "colorscale": [
             [
              0,
              "#0d0887"
             ],
             [
              0.1111111111111111,
              "#46039f"
             ],
             [
              0.2222222222222222,
              "#7201a8"
             ],
             [
              0.3333333333333333,
              "#9c179e"
             ],
             [
              0.4444444444444444,
              "#bd3786"
             ],
             [
              0.5555555555555556,
              "#d8576b"
             ],
             [
              0.6666666666666666,
              "#ed7953"
             ],
             [
              0.7777777777777778,
              "#fb9f3a"
             ],
             [
              0.8888888888888888,
              "#fdca26"
             ],
             [
              1,
              "#f0f921"
             ]
            ],
            "type": "histogram2dcontour"
           }
          ],
          "mesh3d": [
           {
            "colorbar": {
             "outlinewidth": 0,
             "ticks": ""
            },
            "type": "mesh3d"
           }
          ],
          "parcoords": [
           {
            "line": {
             "colorbar": {
              "outlinewidth": 0,
              "ticks": ""
             }
            },
            "type": "parcoords"
           }
          ],
          "pie": [
           {
            "automargin": true,
            "type": "pie"
           }
          ],
          "scatter": [
           {
            "fillpattern": {
             "fillmode": "overlay",
             "size": 10,
             "solidity": 0.2
            },
            "type": "scatter"
           }
          ],
          "scatter3d": [
           {
            "line": {
             "colorbar": {
              "outlinewidth": 0,
              "ticks": ""
             }
            },
            "marker": {
             "colorbar": {
              "outlinewidth": 0,
              "ticks": ""
             }
            },
            "type": "scatter3d"
           }
          ],
          "scattercarpet": [
           {
            "marker": {
             "colorbar": {
              "outlinewidth": 0,
              "ticks": ""
             }
            },
            "type": "scattercarpet"
           }
          ],
          "scattergeo": [
           {
            "marker": {
             "colorbar": {
              "outlinewidth": 0,
              "ticks": ""
             }
            },
            "type": "scattergeo"
           }
          ],
          "scattergl": [
           {
            "marker": {
             "colorbar": {
              "outlinewidth": 0,
              "ticks": ""
             }
            },
            "type": "scattergl"
           }
          ],
          "scattermap": [
           {
            "marker": {
             "colorbar": {
              "outlinewidth": 0,
              "ticks": ""
             }
            },
            "type": "scattermap"
           }
          ],
          "scattermapbox": [
           {
            "marker": {
             "colorbar": {
              "outlinewidth": 0,
              "ticks": ""
             }
            },
            "type": "scattermapbox"
           }
          ],
          "scatterpolar": [
           {
            "marker": {
             "colorbar": {
              "outlinewidth": 0,
              "ticks": ""
             }
            },
            "type": "scatterpolar"
           }
          ],
          "scatterpolargl": [
           {
            "marker": {
             "colorbar": {
              "outlinewidth": 0,
              "ticks": ""
             }
            },
            "type": "scatterpolargl"
           }
          ],
          "scatterternary": [
           {
            "marker": {
             "colorbar": {
              "outlinewidth": 0,
              "ticks": ""
             }
            },
            "type": "scatterternary"
           }
          ],
          "surface": [
           {
            "colorbar": {
             "outlinewidth": 0,
             "ticks": ""
            },
            "colorscale": [
             [
              0,
              "#0d0887"
             ],
             [
              0.1111111111111111,
              "#46039f"
             ],
             [
              0.2222222222222222,
              "#7201a8"
             ],
             [
              0.3333333333333333,
              "#9c179e"
             ],
             [
              0.4444444444444444,
              "#bd3786"
             ],
             [
              0.5555555555555556,
              "#d8576b"
             ],
             [
              0.6666666666666666,
              "#ed7953"
             ],
             [
              0.7777777777777778,
              "#fb9f3a"
             ],
             [
              0.8888888888888888,
              "#fdca26"
             ],
             [
              1,
              "#f0f921"
             ]
            ],
            "type": "surface"
           }
          ],
          "table": [
           {
            "cells": {
             "fill": {
              "color": "#EBF0F8"
             },
             "line": {
              "color": "white"
             }
            },
            "header": {
             "fill": {
              "color": "#C8D4E3"
             },
             "line": {
              "color": "white"
             }
            },
            "type": "table"
           }
          ]
         },
         "layout": {
          "annotationdefaults": {
           "arrowcolor": "#2a3f5f",
           "arrowhead": 0,
           "arrowwidth": 1
          },
          "autotypenumbers": "strict",
          "coloraxis": {
           "colorbar": {
            "outlinewidth": 0,
            "ticks": ""
           }
          },
          "colorscale": {
           "diverging": [
            [
             0,
             "#8e0152"
            ],
            [
             0.1,
             "#c51b7d"
            ],
            [
             0.2,
             "#de77ae"
            ],
            [
             0.3,
             "#f1b6da"
            ],
            [
             0.4,
             "#fde0ef"
            ],
            [
             0.5,
             "#f7f7f7"
            ],
            [
             0.6,
             "#e6f5d0"
            ],
            [
             0.7,
             "#b8e186"
            ],
            [
             0.8,
             "#7fbc41"
            ],
            [
             0.9,
             "#4d9221"
            ],
            [
             1,
             "#276419"
            ]
           ],
           "sequential": [
            [
             0,
             "#0d0887"
            ],
            [
             0.1111111111111111,
             "#46039f"
            ],
            [
             0.2222222222222222,
             "#7201a8"
            ],
            [
             0.3333333333333333,
             "#9c179e"
            ],
            [
             0.4444444444444444,
             "#bd3786"
            ],
            [
             0.5555555555555556,
             "#d8576b"
            ],
            [
             0.6666666666666666,
             "#ed7953"
            ],
            [
             0.7777777777777778,
             "#fb9f3a"
            ],
            [
             0.8888888888888888,
             "#fdca26"
            ],
            [
             1,
             "#f0f921"
            ]
           ],
           "sequentialminus": [
            [
             0,
             "#0d0887"
            ],
            [
             0.1111111111111111,
             "#46039f"
            ],
            [
             0.2222222222222222,
             "#7201a8"
            ],
            [
             0.3333333333333333,
             "#9c179e"
            ],
            [
             0.4444444444444444,
             "#bd3786"
            ],
            [
             0.5555555555555556,
             "#d8576b"
            ],
            [
             0.6666666666666666,
             "#ed7953"
            ],
            [
             0.7777777777777778,
             "#fb9f3a"
            ],
            [
             0.8888888888888888,
             "#fdca26"
            ],
            [
             1,
             "#f0f921"
            ]
           ]
          },
          "colorway": [
           "#636efa",
           "#EF553B",
           "#00cc96",
           "#ab63fa",
           "#FFA15A",
           "#19d3f3",
           "#FF6692",
           "#B6E880",
           "#FF97FF",
           "#FECB52"
          ],
          "font": {
           "color": "#2a3f5f"
          },
          "geo": {
           "bgcolor": "white",
           "lakecolor": "white",
           "landcolor": "#E5ECF6",
           "showlakes": true,
           "showland": true,
           "subunitcolor": "white"
          },
          "hoverlabel": {
           "align": "left"
          },
          "hovermode": "closest",
          "mapbox": {
           "style": "light"
          },
          "paper_bgcolor": "white",
          "plot_bgcolor": "#E5ECF6",
          "polar": {
           "angularaxis": {
            "gridcolor": "white",
            "linecolor": "white",
            "ticks": ""
           },
           "bgcolor": "#E5ECF6",
           "radialaxis": {
            "gridcolor": "white",
            "linecolor": "white",
            "ticks": ""
           }
          },
          "scene": {
           "xaxis": {
            "backgroundcolor": "#E5ECF6",
            "gridcolor": "white",
            "gridwidth": 2,
            "linecolor": "white",
            "showbackground": true,
            "ticks": "",
            "zerolinecolor": "white"
           },
           "yaxis": {
            "backgroundcolor": "#E5ECF6",
            "gridcolor": "white",
            "gridwidth": 2,
            "linecolor": "white",
            "showbackground": true,
            "ticks": "",
            "zerolinecolor": "white"
           },
           "zaxis": {
            "backgroundcolor": "#E5ECF6",
            "gridcolor": "white",
            "gridwidth": 2,
            "linecolor": "white",
            "showbackground": true,
            "ticks": "",
            "zerolinecolor": "white"
           }
          },
          "shapedefaults": {
           "line": {
            "color": "#2a3f5f"
           }
          },
          "ternary": {
           "aaxis": {
            "gridcolor": "white",
            "linecolor": "white",
            "ticks": ""
           },
           "baxis": {
            "gridcolor": "white",
            "linecolor": "white",
            "ticks": ""
           },
           "bgcolor": "#E5ECF6",
           "caxis": {
            "gridcolor": "white",
            "linecolor": "white",
            "ticks": ""
           }
          },
          "title": {
           "x": 0.05
          },
          "xaxis": {
           "automargin": true,
           "gridcolor": "white",
           "linecolor": "white",
           "ticks": "",
           "title": {
            "standoff": 15
           },
           "zerolinecolor": "white",
           "zerolinewidth": 2
          },
          "yaxis": {
           "automargin": true,
           "gridcolor": "white",
           "linecolor": "white",
           "ticks": "",
           "title": {
            "standoff": 15
           },
           "zerolinecolor": "white",
           "zerolinewidth": 2
          }
         }
        },
        "title": {
         "text": "Input correlation matrix"
        },
        "xaxis": {
         "anchor": "y",
         "constrain": "domain",
         "domain": [
          0,
          1
         ],
         "scaleanchor": "y"
        },
        "yaxis": {
         "anchor": "x",
         "autorange": "reversed",
         "constrain": "domain",
         "domain": [
          0,
          1
         ]
        }
       }
      }
     },
     "metadata": {},
     "output_type": "display_data"
    },
    {
     "data": {
      "application/vnd.plotly.v1+json": {
       "config": {
        "plotlyServerURL": "https://plot.ly"
       },
       "data": [
        {
         "coloraxis": "coloraxis",
         "hovertemplate": "x: %{x}<br>y: %{y}<br>color: %{z}<extra></extra>",
         "name": "0",
         "type": "heatmap",
         "x": [
          "CARVEDILOL",
          "ESOMEPRAZOLE",
          "LEVOTHYROXINE",
          "TRAMADOL",
          "AMLODIPINE",
          "METOPROLOL",
          "OMEPRAZOLE",
          "SIMVASTATIN",
          "TAMSULOSIN",
          "ALENDRONATE",
          "ATORVASTATIN",
          "LISINOPRIL",
          "LOSARTAN",
          "SERTRALINE",
          "METFORMIN",
          "PIOGLITAZONE",
          "PRAVASTATIN",
          "FUROSEMIDE",
          "POTASSIUM CHLORIDE",
          "HYDROCHLOROTHIAZIDE",
          "ATENOLOL",
          "WARFARIN",
          "ASPIRIN",
          "LOVASTATIN",
          "ALBUTEROL",
          "GLIPIZIDE",
          "RANITIDINE",
          "GABAPENTIN",
          "INSULIN GLARGINE",
          "CLOPIDOGREL",
          "ZOLPIDEM",
          "ALLOPURINOL",
          "CITALOPRAM",
          "PREDNISONE",
          "ROSUVASTATIN",
          "VALSARTAN",
          "IBUPROFEN",
          "FEXOFENADINE",
          "MONTELUKAST",
          "FLUTICASONE NASAL"
         ],
         "xaxis": "x",
         "y": [
          "CARVEDILOL",
          "ESOMEPRAZOLE",
          "LEVOTHYROXINE",
          "TRAMADOL",
          "AMLODIPINE",
          "METOPROLOL",
          "OMEPRAZOLE",
          "SIMVASTATIN",
          "TAMSULOSIN",
          "ALENDRONATE",
          "ATORVASTATIN",
          "LISINOPRIL",
          "LOSARTAN",
          "SERTRALINE",
          "METFORMIN",
          "PIOGLITAZONE",
          "PRAVASTATIN",
          "FUROSEMIDE",
          "POTASSIUM CHLORIDE",
          "HYDROCHLOROTHIAZIDE",
          "ATENOLOL",
          "WARFARIN",
          "ASPIRIN",
          "LOVASTATIN",
          "ALBUTEROL",
          "GLIPIZIDE",
          "RANITIDINE",
          "GABAPENTIN",
          "INSULIN GLARGINE",
          "CLOPIDOGREL",
          "ZOLPIDEM",
          "ALLOPURINOL",
          "CITALOPRAM",
          "PREDNISONE",
          "ROSUVASTATIN",
          "VALSARTAN",
          "IBUPROFEN",
          "FEXOFENADINE",
          "MONTELUKAST",
          "FLUTICASONE NASAL"
         ],
         "yaxis": "y",
         "z": {
          "bdata": "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",
          "dtype": "f8",
          "shape": "40, 40"
         }
        }
       ],
       "layout": {
        "coloraxis": {
         "cmax": 1,
         "cmin": -1,
         "colorscale": [
          [
           0,
           "rgb(103,0,31)"
          ],
          [
           0.1,
           "rgb(178,24,43)"
          ],
          [
           0.2,
           "rgb(214,96,77)"
          ],
          [
           0.3,
           "rgb(244,165,130)"
          ],
          [
           0.4,
           "rgb(253,219,199)"
          ],
          [
           0.5,
           "rgb(247,247,247)"
          ],
          [
           0.6,
           "rgb(209,229,240)"
          ],
          [
           0.7,
           "rgb(146,197,222)"
          ],
          [
           0.8,
           "rgb(67,147,195)"
          ],
          [
           0.9,
           "rgb(33,102,172)"
          ],
          [
           1,
           "rgb(5,48,97)"
          ]
         ]
        },
        "template": {
         "data": {
          "bar": [
           {
            "error_x": {
             "color": "#2a3f5f"
            },
            "error_y": {
             "color": "#2a3f5f"
            },
            "marker": {
             "line": {
              "color": "#E5ECF6",
              "width": 0.5
             },
             "pattern": {
              "fillmode": "overlay",
              "size": 10,
              "solidity": 0.2
             }
            },
            "type": "bar"
           }
          ],
          "barpolar": [
           {
            "marker": {
             "line": {
              "color": "#E5ECF6",
              "width": 0.5
             },
             "pattern": {
              "fillmode": "overlay",
              "size": 10,
              "solidity": 0.2
             }
            },
            "type": "barpolar"
           }
          ],
          "carpet": [
           {
            "aaxis": {
             "endlinecolor": "#2a3f5f",
             "gridcolor": "white",
             "linecolor": "white",
             "minorgridcolor": "white",
             "startlinecolor": "#2a3f5f"
            },
            "baxis": {
             "endlinecolor": "#2a3f5f",
             "gridcolor": "white",
             "linecolor": "white",
             "minorgridcolor": "white",
             "startlinecolor": "#2a3f5f"
            },
            "type": "carpet"
           }
          ],
          "choropleth": [
           {
            "colorbar": {
             "outlinewidth": 0,
             "ticks": ""
            },
            "type": "choropleth"
           }
          ],
          "contour": [
           {
            "colorbar": {
             "outlinewidth": 0,
             "ticks": ""
            },
            "colorscale": [
             [
              0,
              "#0d0887"
             ],
             [
              0.1111111111111111,
              "#46039f"
             ],
             [
              0.2222222222222222,
              "#7201a8"
             ],
             [
              0.3333333333333333,
              "#9c179e"
             ],
             [
              0.4444444444444444,
              "#bd3786"
             ],
             [
              0.5555555555555556,
              "#d8576b"
             ],
             [
              0.6666666666666666,
              "#ed7953"
             ],
             [
              0.7777777777777778,
              "#fb9f3a"
             ],
             [
              0.8888888888888888,
              "#fdca26"
             ],
             [
              1,
              "#f0f921"
             ]
            ],
            "type": "contour"
           }
          ],
          "contourcarpet": [
           {
            "colorbar": {
             "outlinewidth": 0,
             "ticks": ""
            },
            "type": "contourcarpet"
           }
          ],
          "heatmap": [
           {
            "colorbar": {
             "outlinewidth": 0,
             "ticks": ""
            },
            "colorscale": [
             [
              0,
              "#0d0887"
             ],
             [
              0.1111111111111111,
              "#46039f"
             ],
             [
              0.2222222222222222,
              "#7201a8"
             ],
             [
              0.3333333333333333,
              "#9c179e"
             ],
             [
              0.4444444444444444,
              "#bd3786"
             ],
             [
              0.5555555555555556,
              "#d8576b"
             ],
             [
              0.6666666666666666,
              "#ed7953"
             ],
             [
              0.7777777777777778,
              "#fb9f3a"
             ],
             [
              0.8888888888888888,
              "#fdca26"
             ],
             [
              1,
              "#f0f921"
             ]
            ],
            "type": "heatmap"
           }
          ],
          "histogram": [
           {
            "marker": {
             "pattern": {
              "fillmode": "overlay",
              "size": 10,
              "solidity": 0.2
             }
            },
            "type": "histogram"
           }
          ],
          "histogram2d": [
           {
            "colorbar": {
             "outlinewidth": 0,
             "ticks": ""
            },
            "colorscale": [
             [
              0,
              "#0d0887"
             ],
             [
              0.1111111111111111,
              "#46039f"
             ],
             [
              0.2222222222222222,
              "#7201a8"
             ],
             [
              0.3333333333333333,
              "#9c179e"
             ],
             [
              0.4444444444444444,
              "#bd3786"
             ],
             [
              0.5555555555555556,
              "#d8576b"
             ],
             [
              0.6666666666666666,
              "#ed7953"
             ],
             [
              0.7777777777777778,
              "#fb9f3a"
             ],
             [
              0.8888888888888888,
              "#fdca26"
             ],
             [
              1,
              "#f0f921"
             ]
            ],
            "type": "histogram2d"
           }
          ],
          "histogram2dcontour": [
           {
            "colorbar": {
             "outlinewidth": 0,
             "ticks": ""
            },
            "colorscale": [
             [
              0,
              "#0d0887"
             ],
             [
              0.1111111111111111,
              "#46039f"
             ],
             [
              0.2222222222222222,
              "#7201a8"
             ],
             [
              0.3333333333333333,
              "#9c179e"
             ],
             [
              0.4444444444444444,
              "#bd3786"
             ],
             [
              0.5555555555555556,
              "#d8576b"
             ],
             [
              0.6666666666666666,
              "#ed7953"
             ],
             [
              0.7777777777777778,
              "#fb9f3a"
             ],
             [
              0.8888888888888888,
              "#fdca26"
             ],
             [
              1,
              "#f0f921"
             ]
            ],
            "type": "histogram2dcontour"
           }
          ],
          "mesh3d": [
           {
            "colorbar": {
             "outlinewidth": 0,
             "ticks": ""
            },
            "type": "mesh3d"
           }
          ],
          "parcoords": [
           {
            "line": {
             "colorbar": {
              "outlinewidth": 0,
              "ticks": ""
             }
            },
            "type": "parcoords"
           }
          ],
          "pie": [
           {
            "automargin": true,
            "type": "pie"
           }
          ],
          "scatter": [
           {
            "fillpattern": {
             "fillmode": "overlay",
             "size": 10,
             "solidity": 0.2
            },
            "type": "scatter"
           }
          ],
          "scatter3d": [
           {
            "line": {
             "colorbar": {
              "outlinewidth": 0,
              "ticks": ""
             }
            },
            "marker": {
             "colorbar": {
              "outlinewidth": 0,
              "ticks": ""
             }
            },
            "type": "scatter3d"
           }
          ],
          "scattercarpet": [
           {
            "marker": {
             "colorbar": {
              "outlinewidth": 0,
              "ticks": ""
             }
            },
            "type": "scattercarpet"
           }
          ],
          "scattergeo": [
           {
            "marker": {
             "colorbar": {
              "outlinewidth": 0,
              "ticks": ""
             }
            },
            "type": "scattergeo"
           }
          ],
          "scattergl": [
           {
            "marker": {
             "colorbar": {
              "outlinewidth": 0,
              "ticks": ""
             }
            },
            "type": "scattergl"
           }
          ],
          "scattermap": [
           {
            "marker": {
             "colorbar": {
              "outlinewidth": 0,
              "ticks": ""
             }
            },
            "type": "scattermap"
           }
          ],
          "scattermapbox": [
           {
            "marker": {
             "colorbar": {
              "outlinewidth": 0,
              "ticks": ""
             }
            },
            "type": "scattermapbox"
           }
          ],
          "scatterpolar": [
           {
            "marker": {
             "colorbar": {
              "outlinewidth": 0,
              "ticks": ""
             }
            },
            "type": "scatterpolar"
           }
          ],
          "scatterpolargl": [
           {
            "marker": {
             "colorbar": {
              "outlinewidth": 0,
              "ticks": ""
             }
            },
            "type": "scatterpolargl"
           }
          ],
          "scatterternary": [
           {
            "marker": {
             "colorbar": {
              "outlinewidth": 0,
              "ticks": ""
             }
            },
            "type": "scatterternary"
           }
          ],
          "surface": [
           {
            "colorbar": {
             "outlinewidth": 0,
             "ticks": ""
            },
            "colorscale": [
             [
              0,
              "#0d0887"
             ],
             [
              0.1111111111111111,
              "#46039f"
             ],
             [
              0.2222222222222222,
              "#7201a8"
             ],
             [
              0.3333333333333333,
              "#9c179e"
             ],
             [
              0.4444444444444444,
              "#bd3786"
             ],
             [
              0.5555555555555556,
              "#d8576b"
             ],
             [
              0.6666666666666666,
              "#ed7953"
             ],
             [
              0.7777777777777778,
              "#fb9f3a"
             ],
             [
              0.8888888888888888,
              "#fdca26"
             ],
             [
              1,
              "#f0f921"
             ]
            ],
            "type": "surface"
           }
          ],
          "table": [
           {
            "cells": {
             "fill": {
              "color": "#EBF0F8"
             },
             "line": {
              "color": "white"
             }
            },
            "header": {
             "fill": {
              "color": "#C8D4E3"
             },
             "line": {
              "color": "white"
             }
            },
            "type": "table"
           }
          ]
         },
         "layout": {
          "annotationdefaults": {
           "arrowcolor": "#2a3f5f",
           "arrowhead": 0,
           "arrowwidth": 1
          },
          "autotypenumbers": "strict",
          "coloraxis": {
           "colorbar": {
            "outlinewidth": 0,
            "ticks": ""
           }
          },
          "colorscale": {
           "diverging": [
            [
             0,
             "#8e0152"
            ],
            [
             0.1,
             "#c51b7d"
            ],
            [
             0.2,
             "#de77ae"
            ],
            [
             0.3,
             "#f1b6da"
            ],
            [
             0.4,
             "#fde0ef"
            ],
            [
             0.5,
             "#f7f7f7"
            ],
            [
             0.6,
             "#e6f5d0"
            ],
            [
             0.7,
             "#b8e186"
            ],
            [
             0.8,
             "#7fbc41"
            ],
            [
             0.9,
             "#4d9221"
            ],
            [
             1,
             "#276419"
            ]
           ],
           "sequential": [
            [
             0,
             "#0d0887"
            ],
            [
             0.1111111111111111,
             "#46039f"
            ],
            [
             0.2222222222222222,
             "#7201a8"
            ],
            [
             0.3333333333333333,
             "#9c179e"
            ],
            [
             0.4444444444444444,
             "#bd3786"
            ],
            [
             0.5555555555555556,
             "#d8576b"
            ],
            [
             0.6666666666666666,
             "#ed7953"
            ],
            [
             0.7777777777777778,
             "#fb9f3a"
            ],
            [
             0.8888888888888888,
             "#fdca26"
            ],
            [
             1,
             "#f0f921"
            ]
           ],
           "sequentialminus": [
            [
             0,
             "#0d0887"
            ],
            [
             0.1111111111111111,
             "#46039f"
            ],
            [
             0.2222222222222222,
             "#7201a8"
            ],
            [
             0.3333333333333333,
             "#9c179e"
            ],
            [
             0.4444444444444444,
             "#bd3786"
            ],
            [
             0.5555555555555556,
             "#d8576b"
            ],
            [
             0.6666666666666666,
             "#ed7953"
            ],
            [
             0.7777777777777778,
             "#fb9f3a"
            ],
            [
             0.8888888888888888,
             "#fdca26"
            ],
            [
             1,
             "#f0f921"
            ]
           ]
          },
          "colorway": [
           "#636efa",
           "#EF553B",
           "#00cc96",
           "#ab63fa",
           "#FFA15A",
           "#19d3f3",
           "#FF6692",
           "#B6E880",
           "#FF97FF",
           "#FECB52"
          ],
          "font": {
           "color": "#2a3f5f"
          },
          "geo": {
           "bgcolor": "white",
           "lakecolor": "white",
           "landcolor": "#E5ECF6",
           "showlakes": true,
           "showland": true,
           "subunitcolor": "white"
          },
          "hoverlabel": {
           "align": "left"
          },
          "hovermode": "closest",
          "mapbox": {
           "style": "light"
          },
          "paper_bgcolor": "white",
          "plot_bgcolor": "#E5ECF6",
          "polar": {
           "angularaxis": {
            "gridcolor": "white",
            "linecolor": "white",
            "ticks": ""
           },
           "bgcolor": "#E5ECF6",
           "radialaxis": {
            "gridcolor": "white",
            "linecolor": "white",
            "ticks": ""
           }
          },
          "scene": {
           "xaxis": {
            "backgroundcolor": "#E5ECF6",
            "gridcolor": "white",
            "gridwidth": 2,
            "linecolor": "white",
            "showbackground": true,
            "ticks": "",
            "zerolinecolor": "white"
           },
           "yaxis": {
            "backgroundcolor": "#E5ECF6",
            "gridcolor": "white",
            "gridwidth": 2,
            "linecolor": "white",
            "showbackground": true,
            "ticks": "",
            "zerolinecolor": "white"
           },
           "zaxis": {
            "backgroundcolor": "#E5ECF6",
            "gridcolor": "white",
            "gridwidth": 2,
            "linecolor": "white",
            "showbackground": true,
            "ticks": "",
            "zerolinecolor": "white"
           }
          },
          "shapedefaults": {
           "line": {
            "color": "#2a3f5f"
           }
          },
          "ternary": {
           "aaxis": {
            "gridcolor": "white",
            "linecolor": "white",
            "ticks": ""
           },
           "baxis": {
            "gridcolor": "white",
            "linecolor": "white",
            "ticks": ""
           },
           "bgcolor": "#E5ECF6",
           "caxis": {
            "gridcolor": "white",
            "linecolor": "white",
            "ticks": ""
           }
          },
          "title": {
           "x": 0.05
          },
          "xaxis": {
           "automargin": true,
           "gridcolor": "white",
           "linecolor": "white",
           "ticks": "",
           "title": {
            "standoff": 15
           },
           "zerolinecolor": "white",
           "zerolinewidth": 2
          },
          "yaxis": {
           "automargin": true,
           "gridcolor": "white",
           "linecolor": "white",
           "ticks": "",
           "title": {
            "standoff": 15
           },
           "zerolinecolor": "white",
           "zerolinewidth": 2
          }
         }
        },
        "title": {
         "text": "Sample correlation matrix"
        },
        "xaxis": {
         "anchor": "y",
         "constrain": "domain",
         "domain": [
          0,
          1
         ],
         "scaleanchor": "y"
        },
        "yaxis": {
         "anchor": "x",
         "autorange": "reversed",
         "constrain": "domain",
         "domain": [
          0,
          1
         ]
        }
       }
      }
     },
     "metadata": {},
     "output_type": "display_data"
    },
    {
     "data": {
      "application/vnd.plotly.v1+json": {
       "config": {
        "plotlyServerURL": "https://plot.ly"
       },
       "data": [
        {
         "hovertemplate": "x=%{x}<br>y=%{y}<extra></extra>",
         "legendgroup": "",
         "marker": {
          "color": "#636efa",
          "pattern": {
           "shape": ""
          }
         },
         "name": "",
         "orientation": "v",
         "showlegend": false,
         "textposition": "auto",
         "type": "bar",
         "x": [
          "LISINOPRIL",
          "SIMVASTATIN",
          "HYDROCHLOROTHIAZIDE",
          "METFORMIN",
          "METOPROLOL",
          "ATORVASTATIN",
          "AMLODIPINE",
          "LEVOTHYROXINE",
          "CLOPIDOGREL",
          "ATENOLOL",
          "GLIPIZIDE",
          "LOSARTAN",
          "OMEPRAZOLE",
          "LOVASTATIN",
          "VALSARTAN",
          "FUROSEMIDE",
          "PRAVASTATIN",
          "WARFARIN",
          "ALENDRONATE",
          "PIOGLITAZONE",
          "CARVEDILOL",
          "ROSUVASTATIN",
          "ALBUTEROL",
          "TAMSULOSIN",
          "MONTELUKAST",
          "CITALOPRAM",
          "ESOMEPRAZOLE",
          "SERTRALINE",
          "ALLOPURINOL",
          "ZOLPIDEM",
          "PREDNISONE",
          "FEXOFENADINE",
          "INSULIN GLARGINE",
          "IBUPROFEN",
          "GABAPENTIN",
          "RANITIDINE",
          "TRAMADOL",
          "ASPIRIN",
          "POTASSIUM CHLORIDE",
          "FLUTICASONE NASAL"
         ],
         "xaxis": "x",
         "y": {
          "bdata": "bV96GoA85z9pt1dKg5jiP7aKhSVhSN4/MhMaZkOi0D/yVTCecTrQP6Bc7/6V2MA/TRTuQ9z3vj/3vkamFSq6P0/M9iq7V7M/TlfTEn5xsD+4cN8AOiKqPwDzwLtEGqE/jqKT5TKjnz+UTEzh0BaYP3NAR78vu5E/yWxzyHKtjz+qTJETogyOPxouywHAhYk/3iI/BNpgiT9BManoj22FP6S5r81TjoI/M3K2cVdGgT/B6nTyM8R9P+7t+Hn2X3s/2lfRz6LJej/xuGauLfd5P3cDTA8iC3I/zDIf64vTcD/ZBe/08z9wP/Mq7RrwnW0/jDh2XbVDaj+onbym2NtpP0HE5I3rN18/tXCMsEBIWT8iOjihlhFZP3Hf9hJ2g1g/jB/XuGeNUT/M/p3GSHFMP3kosrJTmTg/0y66wdjQIz8=",
          "dtype": "f8"
         },
         "yaxis": "y"
        }
       ],
       "layout": {
        "barmode": "relative",
        "legend": {
         "tracegroupgap": 0
        },
        "template": {
         "data": {
          "bar": [
           {
            "error_x": {
             "color": "#2a3f5f"
            },
            "error_y": {
             "color": "#2a3f5f"
            },
            "marker": {
             "line": {
              "color": "#E5ECF6",
              "width": 0.5
             },
             "pattern": {
              "fillmode": "overlay",
              "size": 10,
              "solidity": 0.2
             }
            },
            "type": "bar"
           }
          ],
          "barpolar": [
           {
            "marker": {
             "line": {
              "color": "#E5ECF6",
              "width": 0.5
             },
             "pattern": {
              "fillmode": "overlay",
              "size": 10,
              "solidity": 0.2
             }
            },
            "type": "barpolar"
           }
          ],
          "carpet": [
           {
            "aaxis": {
             "endlinecolor": "#2a3f5f",
             "gridcolor": "white",
             "linecolor": "white",
             "minorgridcolor": "white",
             "startlinecolor": "#2a3f5f"
            },
            "baxis": {
             "endlinecolor": "#2a3f5f",
             "gridcolor": "white",
             "linecolor": "white",
             "minorgridcolor": "white",
             "startlinecolor": "#2a3f5f"
            },
            "type": "carpet"
           }
          ],
          "choropleth": [
           {
            "colorbar": {
             "outlinewidth": 0,
             "ticks": ""
            },
            "type": "choropleth"
           }
          ],
          "contour": [
           {
            "colorbar": {
             "outlinewidth": 0,
             "ticks": ""
            },
            "colorscale": [
             [
              0,
              "#0d0887"
             ],
             [
              0.1111111111111111,
              "#46039f"
             ],
             [
              0.2222222222222222,
              "#7201a8"
             ],
             [
              0.3333333333333333,
              "#9c179e"
             ],
             [
              0.4444444444444444,
              "#bd3786"
             ],
             [
              0.5555555555555556,
              "#d8576b"
             ],
             [
              0.6666666666666666,
              "#ed7953"
             ],
             [
              0.7777777777777778,
              "#fb9f3a"
             ],
             [
              0.8888888888888888,
              "#fdca26"
             ],
             [
              1,
              "#f0f921"
             ]
            ],
            "type": "contour"
           }
          ],
          "contourcarpet": [
           {
            "colorbar": {
             "outlinewidth": 0,
             "ticks": ""
            },
            "type": "contourcarpet"
           }
          ],
          "heatmap": [
           {
            "colorbar": {
             "outlinewidth": 0,
             "ticks": ""
            },
            "colorscale": [
             [
              0,
              "#0d0887"
             ],
             [
              0.1111111111111111,
              "#46039f"
             ],
             [
              0.2222222222222222,
              "#7201a8"
             ],
             [
              0.3333333333333333,
              "#9c179e"
             ],
             [
              0.4444444444444444,
              "#bd3786"
             ],
             [
              0.5555555555555556,
              "#d8576b"
             ],
             [
              0.6666666666666666,
              "#ed7953"
             ],
             [
              0.7777777777777778,
              "#fb9f3a"
             ],
             [
              0.8888888888888888,
              "#fdca26"
             ],
             [
              1,
              "#f0f921"
             ]
            ],
            "type": "heatmap"
           }
          ],
          "histogram": [
           {
            "marker": {
             "pattern": {
              "fillmode": "overlay",
              "size": 10,
              "solidity": 0.2
             }
            },
            "type": "histogram"
           }
          ],
          "histogram2d": [
           {
            "colorbar": {
             "outlinewidth": 0,
             "ticks": ""
            },
            "colorscale": [
             [
              0,
              "#0d0887"
             ],
             [
              0.1111111111111111,
              "#46039f"
             ],
             [
              0.2222222222222222,
              "#7201a8"
             ],
             [
              0.3333333333333333,
              "#9c179e"
             ],
             [
              0.4444444444444444,
              "#bd3786"
             ],
             [
              0.5555555555555556,
              "#d8576b"
             ],
             [
              0.6666666666666666,
              "#ed7953"
             ],
             [
              0.7777777777777778,
              "#fb9f3a"
             ],
             [
              0.8888888888888888,
              "#fdca26"
             ],
             [
              1,
              "#f0f921"
             ]
            ],
            "type": "histogram2d"
           }
          ],
          "histogram2dcontour": [
           {
            "colorbar": {
             "outlinewidth": 0,
             "ticks": ""
            },
            "colorscale": [
             [
              0,
              "#0d0887"
             ],
             [
              0.1111111111111111,
              "#46039f"
             ],
             [
              0.2222222222222222,
              "#7201a8"
             ],
             [
              0.3333333333333333,
              "#9c179e"
             ],
             [
              0.4444444444444444,
              "#bd3786"
             ],
             [
              0.5555555555555556,
              "#d8576b"
             ],
             [
              0.6666666666666666,
              "#ed7953"
             ],
             [
              0.7777777777777778,
              "#fb9f3a"
             ],
             [
              0.8888888888888888,
              "#fdca26"
             ],
             [
              1,
              "#f0f921"
             ]
            ],
            "type": "histogram2dcontour"
           }
          ],
          "mesh3d": [
           {
            "colorbar": {
             "outlinewidth": 0,
             "ticks": ""
            },
            "type": "mesh3d"
           }
          ],
          "parcoords": [
           {
            "line": {
             "colorbar": {
              "outlinewidth": 0,
              "ticks": ""
             }
            },
            "type": "parcoords"
           }
          ],
          "pie": [
           {
            "automargin": true,
            "type": "pie"
           }
          ],
          "scatter": [
           {
            "fillpattern": {
             "fillmode": "overlay",
             "size": 10,
             "solidity": 0.2
            },
            "type": "scatter"
           }
          ],
          "scatter3d": [
           {
            "line": {
             "colorbar": {
              "outlinewidth": 0,
              "ticks": ""
             }
            },
            "marker": {
             "colorbar": {
              "outlinewidth": 0,
              "ticks": ""
             }
            },
            "type": "scatter3d"
           }
          ],
          "scattercarpet": [
           {
            "marker": {
             "colorbar": {
              "outlinewidth": 0,
              "ticks": ""
             }
            },
            "type": "scattercarpet"
           }
          ],
          "scattergeo": [
           {
            "marker": {
             "colorbar": {
              "outlinewidth": 0,
              "ticks": ""
             }
            },
            "type": "scattergeo"
           }
          ],
          "scattergl": [
           {
            "marker": {
             "colorbar": {
              "outlinewidth": 0,
              "ticks": ""
             }
            },
            "type": "scattergl"
           }
          ],
          "scattermap": [
           {
            "marker": {
             "colorbar": {
              "outlinewidth": 0,
              "ticks": ""
             }
            },
            "type": "scattermap"
           }
          ],
          "scattermapbox": [
           {
            "marker": {
             "colorbar": {
              "outlinewidth": 0,
              "ticks": ""
             }
            },
            "type": "scattermapbox"
           }
          ],
          "scatterpolar": [
           {
            "marker": {
             "colorbar": {
              "outlinewidth": 0,
              "ticks": ""
             }
            },
            "type": "scatterpolar"
           }
          ],
          "scatterpolargl": [
           {
            "marker": {
             "colorbar": {
              "outlinewidth": 0,
              "ticks": ""
             }
            },
            "type": "scatterpolargl"
           }
          ],
          "scatterternary": [
           {
            "marker": {
             "colorbar": {
              "outlinewidth": 0,
              "ticks": ""
             }
            },
            "type": "scatterternary"
           }
          ],
          "surface": [
           {
            "colorbar": {
             "outlinewidth": 0,
             "ticks": ""
            },
            "colorscale": [
             [
              0,
              "#0d0887"
             ],
             [
              0.1111111111111111,
              "#46039f"
             ],
             [
              0.2222222222222222,
              "#7201a8"
             ],
             [
              0.3333333333333333,
              "#9c179e"
             ],
             [
              0.4444444444444444,
              "#bd3786"
             ],
             [
              0.5555555555555556,
              "#d8576b"
             ],
             [
              0.6666666666666666,
              "#ed7953"
             ],
             [
              0.7777777777777778,
              "#fb9f3a"
             ],
             [
              0.8888888888888888,
              "#fdca26"
             ],
             [
              1,
              "#f0f921"
             ]
            ],
            "type": "surface"
           }
          ],
          "table": [
           {
            "cells": {
             "fill": {
              "color": "#EBF0F8"
             },
             "line": {
              "color": "white"
             }
            },
            "header": {
             "fill": {
              "color": "#C8D4E3"
             },
             "line": {
              "color": "white"
             }
            },
            "type": "table"
           }
          ]
         },
         "layout": {
          "annotationdefaults": {
           "arrowcolor": "#2a3f5f",
           "arrowhead": 0,
           "arrowwidth": 1
          },
          "autotypenumbers": "strict",
          "coloraxis": {
           "colorbar": {
            "outlinewidth": 0,
            "ticks": ""
           }
          },
          "colorscale": {
           "diverging": [
            [
             0,
             "#8e0152"
            ],
            [
             0.1,
             "#c51b7d"
            ],
            [
             0.2,
             "#de77ae"
            ],
            [
             0.3,
             "#f1b6da"
            ],
            [
             0.4,
             "#fde0ef"
            ],
            [
             0.5,
             "#f7f7f7"
            ],
            [
             0.6,
             "#e6f5d0"
            ],
            [
             0.7,
             "#b8e186"
            ],
            [
             0.8,
             "#7fbc41"
            ],
            [
             0.9,
             "#4d9221"
            ],
            [
             1,
             "#276419"
            ]
           ],
           "sequential": [
            [
             0,
             "#0d0887"
            ],
            [
             0.1111111111111111,
             "#46039f"
            ],
            [
             0.2222222222222222,
             "#7201a8"
            ],
            [
             0.3333333333333333,
             "#9c179e"
            ],
            [
             0.4444444444444444,
             "#bd3786"
            ],
            [
             0.5555555555555556,
             "#d8576b"
            ],
            [
             0.6666666666666666,
             "#ed7953"
            ],
            [
             0.7777777777777778,
             "#fb9f3a"
            ],
            [
             0.8888888888888888,
             "#fdca26"
            ],
            [
             1,
             "#f0f921"
            ]
           ],
           "sequentialminus": [
            [
             0,
             "#0d0887"
            ],
            [
             0.1111111111111111,
             "#46039f"
            ],
            [
             0.2222222222222222,
             "#7201a8"
            ],
            [
             0.3333333333333333,
             "#9c179e"
            ],
            [
             0.4444444444444444,
             "#bd3786"
            ],
            [
             0.5555555555555556,
             "#d8576b"
            ],
            [
             0.6666666666666666,
             "#ed7953"
            ],
            [
             0.7777777777777778,
             "#fb9f3a"
            ],
            [
             0.8888888888888888,
             "#fdca26"
            ],
            [
             1,
             "#f0f921"
            ]
           ]
          },
          "colorway": [
           "#636efa",
           "#EF553B",
           "#00cc96",
           "#ab63fa",
           "#FFA15A",
           "#19d3f3",
           "#FF6692",
           "#B6E880",
           "#FF97FF",
           "#FECB52"
          ],
          "font": {
           "color": "#2a3f5f"
          },
          "geo": {
           "bgcolor": "white",
           "lakecolor": "white",
           "landcolor": "#E5ECF6",
           "showlakes": true,
           "showland": true,
           "subunitcolor": "white"
          },
          "hoverlabel": {
           "align": "left"
          },
          "hovermode": "closest",
          "mapbox": {
           "style": "light"
          },
          "paper_bgcolor": "white",
          "plot_bgcolor": "#E5ECF6",
          "polar": {
           "angularaxis": {
            "gridcolor": "white",
            "linecolor": "white",
            "ticks": ""
           },
           "bgcolor": "#E5ECF6",
           "radialaxis": {
            "gridcolor": "white",
            "linecolor": "white",
            "ticks": ""
           }
          },
          "scene": {
           "xaxis": {
            "backgroundcolor": "#E5ECF6",
            "gridcolor": "white",
            "gridwidth": 2,
            "linecolor": "white",
            "showbackground": true,
            "ticks": "",
            "zerolinecolor": "white"
           },
           "yaxis": {
            "backgroundcolor": "#E5ECF6",
            "gridcolor": "white",
            "gridwidth": 2,
            "linecolor": "white",
            "showbackground": true,
            "ticks": "",
            "zerolinecolor": "white"
           },
           "zaxis": {
            "backgroundcolor": "#E5ECF6",
            "gridcolor": "white",
            "gridwidth": 2,
            "linecolor": "white",
            "showbackground": true,
            "ticks": "",
            "zerolinecolor": "white"
           }
          },
          "shapedefaults": {
           "line": {
            "color": "#2a3f5f"
           }
          },
          "ternary": {
           "aaxis": {
            "gridcolor": "white",
            "linecolor": "white",
            "ticks": ""
           },
           "baxis": {
            "gridcolor": "white",
            "linecolor": "white",
            "ticks": ""
           },
           "bgcolor": "#E5ECF6",
           "caxis": {
            "gridcolor": "white",
            "linecolor": "white",
            "ticks": ""
           }
          },
          "title": {
           "x": 0.05
          },
          "xaxis": {
           "automargin": true,
           "gridcolor": "white",
           "linecolor": "white",
           "ticks": "",
           "title": {
            "standoff": 15
           },
           "zerolinecolor": "white",
           "zerolinewidth": 2
          },
          "yaxis": {
           "automargin": true,
           "gridcolor": "white",
           "linecolor": "white",
           "ticks": "",
           "title": {
            "standoff": 15
           },
           "zerolinecolor": "white",
           "zerolinewidth": 2
          }
         }
        },
        "title": {
         "text": "Input marginal probabilities"
        },
        "xaxis": {
         "anchor": "y",
         "domain": [
          0,
          1
         ],
         "title": {
          "text": "x"
         }
        },
        "yaxis": {
         "anchor": "x",
         "domain": [
          0,
          1
         ],
         "title": {
          "text": "y"
         }
        }
       }
      }
     },
     "metadata": {},
     "output_type": "display_data"
    },
    {
     "data": {
      "application/vnd.plotly.v1+json": {
       "config": {
        "plotlyServerURL": "https://plot.ly"
       },
       "data": [
        {
         "hovertemplate": "x=%{x}<br>y=%{y}<extra></extra>",
         "legendgroup": "",
         "marker": {
          "color": "#636efa",
          "pattern": {
           "shape": ""
          }
         },
         "name": "",
         "orientation": "v",
         "showlegend": false,
         "textposition": "auto",
         "type": "bar",
         "x": [
          "LISINOPRIL",
          "SIMVASTATIN",
          "HYDROCHLOROTHIAZIDE",
          "METFORMIN",
          "METOPROLOL",
          "ATORVASTATIN",
          "AMLODIPINE",
          "LEVOTHYROXINE",
          "CLOPIDOGREL",
          "ATENOLOL",
          "GLIPIZIDE",
          "LOSARTAN",
          "OMEPRAZOLE",
          "LOVASTATIN",
          "VALSARTAN",
          "FUROSEMIDE",
          "PRAVASTATIN",
          "WARFARIN",
          "ALENDRONATE",
          "PIOGLITAZONE",
          "CARVEDILOL",
          "ROSUVASTATIN",
          "ALBUTEROL",
          "TAMSULOSIN",
          "MONTELUKAST",
          "CITALOPRAM",
          "ESOMEPRAZOLE",
          "SERTRALINE",
          "ALLOPURINOL",
          "ZOLPIDEM",
          "PREDNISONE",
          "FEXOFENADINE",
          "INSULIN GLARGINE",
          "IBUPROFEN",
          "GABAPENTIN",
          "RANITIDINE",
          "TRAMADOL",
          "ASPIRIN",
          "POTASSIUM CHLORIDE",
          "FLUTICASONE NASAL"
         ],
         "xaxis": "x",
         "y": {
          "bdata": "l/+Qfvs66j+g/UgRGVbmP3BfB84ZUeM/at5xio7k2D/XNO84RUfYP2RA9nr3x8s/OjsZHCWvyj/shm2LMhvIP1oSoKaWrcE/8Z2Y9WIovz/+mqxRD9G4Pz+p9ul4zLA/4Zf6eVORsj+emPViKCeqP5AUkWEVb6Q/z9ptF5rrpD+TqYJRSZ2gP4+NQLyuX6A/98d71cqEnz9FgT6RJ0mXPy1b64uEtpw/Ne84RUdymT8UBfpEniSdPwE1tWytL5I/1LfM6bKYmD9Z+tAF9S2TPz7L8+DurI0/ibX4FADjiT/xaOOItfiEP3i5iO/ErIc/ObTIdr6fij+FtpxLcVWJP7fu5qkOuXk/qU2c3O9QdD+VDtb/Ocx3P6Xap+MxA3U/XaeRlsrbcT9n7bYLzXVqP7x5qkNuhls/OIQqNXugRT8=",
          "dtype": "f8"
         },
         "yaxis": "y"
        }
       ],
       "layout": {
        "barmode": "relative",
        "legend": {
         "tracegroupgap": 0
        },
        "template": {
         "data": {
          "bar": [
           {
            "error_x": {
             "color": "#2a3f5f"
            },
            "error_y": {
             "color": "#2a3f5f"
            },
            "marker": {
             "line": {
              "color": "#E5ECF6",
              "width": 0.5
             },
             "pattern": {
              "fillmode": "overlay",
              "size": 10,
              "solidity": 0.2
             }
            },
            "type": "bar"
           }
          ],
          "barpolar": [
           {
            "marker": {
             "line": {
              "color": "#E5ECF6",
              "width": 0.5
             },
             "pattern": {
              "fillmode": "overlay",
              "size": 10,
              "solidity": 0.2
             }
            },
            "type": "barpolar"
           }
          ],
          "carpet": [
           {
            "aaxis": {
             "endlinecolor": "#2a3f5f",
             "gridcolor": "white",
             "linecolor": "white",
             "minorgridcolor": "white",
             "startlinecolor": "#2a3f5f"
            },
            "baxis": {
             "endlinecolor": "#2a3f5f",
             "gridcolor": "white",
             "linecolor": "white",
             "minorgridcolor": "white",
             "startlinecolor": "#2a3f5f"
            },
            "type": "carpet"
           }
          ],
          "choropleth": [
           {
            "colorbar": {
             "outlinewidth": 0,
             "ticks": ""
            },
            "type": "choropleth"
           }
          ],
          "contour": [
           {
            "colorbar": {
             "outlinewidth": 0,
             "ticks": ""
            },
            "colorscale": [
             [
              0,
              "#0d0887"
             ],
             [
              0.1111111111111111,
              "#46039f"
             ],
             [
              0.2222222222222222,
              "#7201a8"
             ],
             [
              0.3333333333333333,
              "#9c179e"
             ],
             [
              0.4444444444444444,
              "#bd3786"
             ],
             [
              0.5555555555555556,
              "#d8576b"
             ],
             [
              0.6666666666666666,
              "#ed7953"
             ],
             [
              0.7777777777777778,
              "#fb9f3a"
             ],
             [
              0.8888888888888888,
              "#fdca26"
             ],
             [
              1,
              "#f0f921"
             ]
            ],
            "type": "contour"
           }
          ],
          "contourcarpet": [
           {
            "colorbar": {
             "outlinewidth": 0,
             "ticks": ""
            },
            "type": "contourcarpet"
           }
          ],
          "heatmap": [
           {
            "colorbar": {
             "outlinewidth": 0,
             "ticks": ""
            },
            "colorscale": [
             [
              0,
              "#0d0887"
             ],
             [
              0.1111111111111111,
              "#46039f"
             ],
             [
              0.2222222222222222,
              "#7201a8"
             ],
             [
              0.3333333333333333,
              "#9c179e"
             ],
             [
              0.4444444444444444,
              "#bd3786"
             ],
             [
              0.5555555555555556,
              "#d8576b"
             ],
             [
              0.6666666666666666,
              "#ed7953"
             ],
             [
              0.7777777777777778,
              "#fb9f3a"
             ],
             [
              0.8888888888888888,
              "#fdca26"
             ],
             [
              1,
              "#f0f921"
             ]
            ],
            "type": "heatmap"
           }
          ],
          "histogram": [
           {
            "marker": {
             "pattern": {
              "fillmode": "overlay",
              "size": 10,
              "solidity": 0.2
             }
            },
            "type": "histogram"
           }
          ],
          "histogram2d": [
           {
            "colorbar": {
             "outlinewidth": 0,
             "ticks": ""
            },
            "colorscale": [
             [
              0,
              "#0d0887"
             ],
             [
              0.1111111111111111,
              "#46039f"
             ],
             [
              0.2222222222222222,
              "#7201a8"
             ],
             [
              0.3333333333333333,
              "#9c179e"
             ],
             [
              0.4444444444444444,
              "#bd3786"
             ],
             [
              0.5555555555555556,
              "#d8576b"
             ],
             [
              0.6666666666666666,
              "#ed7953"
             ],
             [
              0.7777777777777778,
              "#fb9f3a"
             ],
             [
              0.8888888888888888,
              "#fdca26"
             ],
             [
              1,
              "#f0f921"
             ]
            ],
            "type": "histogram2d"
           }
          ],
          "histogram2dcontour": [
           {
            "colorbar": {
             "outlinewidth": 0,
             "ticks": ""
            },
            "colorscale": [
             [
              0,
              "#0d0887"
             ],
             [
              0.1111111111111111,
              "#46039f"
             ],
             [
              0.2222222222222222,
              "#7201a8"
             ],
             [
              0.3333333333333333,
              "#9c179e"
             ],
             [
              0.4444444444444444,
              "#bd3786"
             ],
             [
              0.5555555555555556,
              "#d8576b"
             ],
             [
              0.6666666666666666,
              "#ed7953"
             ],
             [
              0.7777777777777778,
              "#fb9f3a"
             ],
             [
              0.8888888888888888,
              "#fdca26"
             ],
             [
              1,
              "#f0f921"
             ]
            ],
            "type": "histogram2dcontour"
           }
          ],
          "mesh3d": [
           {
            "colorbar": {
             "outlinewidth": 0,
             "ticks": ""
            },
            "type": "mesh3d"
           }
          ],
          "parcoords": [
           {
            "line": {
             "colorbar": {
              "outlinewidth": 0,
              "ticks": ""
             }
            },
            "type": "parcoords"
           }
          ],
          "pie": [
           {
            "automargin": true,
            "type": "pie"
           }
          ],
          "scatter": [
           {
            "fillpattern": {
             "fillmode": "overlay",
             "size": 10,
             "solidity": 0.2
            },
            "type": "scatter"
           }
          ],
          "scatter3d": [
           {
            "line": {
             "colorbar": {
              "outlinewidth": 0,
              "ticks": ""
             }
            },
            "marker": {
             "colorbar": {
              "outlinewidth": 0,
              "ticks": ""
             }
            },
            "type": "scatter3d"
           }
          ],
          "scattercarpet": [
           {
            "marker": {
             "colorbar": {
              "outlinewidth": 0,
              "ticks": ""
             }
            },
            "type": "scattercarpet"
           }
          ],
          "scattergeo": [
           {
            "marker": {
             "colorbar": {
              "outlinewidth": 0,
              "ticks": ""
             }
            },
            "type": "scattergeo"
           }
          ],
          "scattergl": [
           {
            "marker": {
             "colorbar": {
              "outlinewidth": 0,
              "ticks": ""
             }
            },
            "type": "scattergl"
           }
          ],
          "scattermap": [
           {
            "marker": {
             "colorbar": {
              "outlinewidth": 0,
              "ticks": ""
             }
            },
            "type": "scattermap"
           }
          ],
          "scattermapbox": [
           {
            "marker": {
             "colorbar": {
              "outlinewidth": 0,
              "ticks": ""
             }
            },
            "type": "scattermapbox"
           }
          ],
          "scatterpolar": [
           {
            "marker": {
             "colorbar": {
              "outlinewidth": 0,
              "ticks": ""
             }
            },
            "type": "scatterpolar"
           }
          ],
          "scatterpolargl": [
           {
            "marker": {
             "colorbar": {
              "outlinewidth": 0,
              "ticks": ""
             }
            },
            "type": "scatterpolargl"
           }
          ],
          "scatterternary": [
           {
            "marker": {
             "colorbar": {
              "outlinewidth": 0,
              "ticks": ""
             }
            },
            "type": "scatterternary"
           }
          ],
          "surface": [
           {
            "colorbar": {
             "outlinewidth": 0,
             "ticks": ""
            },
            "colorscale": [
             [
              0,
              "#0d0887"
             ],
             [
              0.1111111111111111,
              "#46039f"
             ],
             [
              0.2222222222222222,
              "#7201a8"
             ],
             [
              0.3333333333333333,
              "#9c179e"
             ],
             [
              0.4444444444444444,
              "#bd3786"
             ],
             [
              0.5555555555555556,
              "#d8576b"
             ],
             [
              0.6666666666666666,
              "#ed7953"
             ],
             [
              0.7777777777777778,
              "#fb9f3a"
             ],
             [
              0.8888888888888888,
              "#fdca26"
             ],
             [
              1,
              "#f0f921"
             ]
            ],
            "type": "surface"
           }
          ],
          "table": [
           {
            "cells": {
             "fill": {
              "color": "#EBF0F8"
             },
             "line": {
              "color": "white"
             }
            },
            "header": {
             "fill": {
              "color": "#C8D4E3"
             },
             "line": {
              "color": "white"
             }
            },
            "type": "table"
           }
          ]
         },
         "layout": {
          "annotationdefaults": {
           "arrowcolor": "#2a3f5f",
           "arrowhead": 0,
           "arrowwidth": 1
          },
          "autotypenumbers": "strict",
          "coloraxis": {
           "colorbar": {
            "outlinewidth": 0,
            "ticks": ""
           }
          },
          "colorscale": {
           "diverging": [
            [
             0,
             "#8e0152"
            ],
            [
             0.1,
             "#c51b7d"
            ],
            [
             0.2,
             "#de77ae"
            ],
            [
             0.3,
             "#f1b6da"
            ],
            [
             0.4,
             "#fde0ef"
            ],
            [
             0.5,
             "#f7f7f7"
            ],
            [
             0.6,
             "#e6f5d0"
            ],
            [
             0.7,
             "#b8e186"
            ],
            [
             0.8,
             "#7fbc41"
            ],
            [
             0.9,
             "#4d9221"
            ],
            [
             1,
             "#276419"
            ]
           ],
           "sequential": [
            [
             0,
             "#0d0887"
            ],
            [
             0.1111111111111111,
             "#46039f"
            ],
            [
             0.2222222222222222,
             "#7201a8"
            ],
            [
             0.3333333333333333,
             "#9c179e"
            ],
            [
             0.4444444444444444,
             "#bd3786"
            ],
            [
             0.5555555555555556,
             "#d8576b"
            ],
            [
             0.6666666666666666,
             "#ed7953"
            ],
            [
             0.7777777777777778,
             "#fb9f3a"
            ],
            [
             0.8888888888888888,
             "#fdca26"
            ],
            [
             1,
             "#f0f921"
            ]
           ],
           "sequentialminus": [
            [
             0,
             "#0d0887"
            ],
            [
             0.1111111111111111,
             "#46039f"
            ],
            [
             0.2222222222222222,
             "#7201a8"
            ],
            [
             0.3333333333333333,
             "#9c179e"
            ],
            [
             0.4444444444444444,
             "#bd3786"
            ],
            [
             0.5555555555555556,
             "#d8576b"
            ],
            [
             0.6666666666666666,
             "#ed7953"
            ],
            [
             0.7777777777777778,
             "#fb9f3a"
            ],
            [
             0.8888888888888888,
             "#fdca26"
            ],
            [
             1,
             "#f0f921"
            ]
           ]
          },
          "colorway": [
           "#636efa",
           "#EF553B",
           "#00cc96",
           "#ab63fa",
           "#FFA15A",
           "#19d3f3",
           "#FF6692",
           "#B6E880",
           "#FF97FF",
           "#FECB52"
          ],
          "font": {
           "color": "#2a3f5f"
          },
          "geo": {
           "bgcolor": "white",
           "lakecolor": "white",
           "landcolor": "#E5ECF6",
           "showlakes": true,
           "showland": true,
           "subunitcolor": "white"
          },
          "hoverlabel": {
           "align": "left"
          },
          "hovermode": "closest",
          "mapbox": {
           "style": "light"
          },
          "paper_bgcolor": "white",
          "plot_bgcolor": "#E5ECF6",
          "polar": {
           "angularaxis": {
            "gridcolor": "white",
            "linecolor": "white",
            "ticks": ""
           },
           "bgcolor": "#E5ECF6",
           "radialaxis": {
            "gridcolor": "white",
            "linecolor": "white",
            "ticks": ""
           }
          },
          "scene": {
           "xaxis": {
            "backgroundcolor": "#E5ECF6",
            "gridcolor": "white",
            "gridwidth": 2,
            "linecolor": "white",
            "showbackground": true,
            "ticks": "",
            "zerolinecolor": "white"
           },
           "yaxis": {
            "backgroundcolor": "#E5ECF6",
            "gridcolor": "white",
            "gridwidth": 2,
            "linecolor": "white",
            "showbackground": true,
            "ticks": "",
            "zerolinecolor": "white"
           },
           "zaxis": {
            "backgroundcolor": "#E5ECF6",
            "gridcolor": "white",
            "gridwidth": 2,
            "linecolor": "white",
            "showbackground": true,
            "ticks": "",
            "zerolinecolor": "white"
           }
          },
          "shapedefaults": {
           "line": {
            "color": "#2a3f5f"
           }
          },
          "ternary": {
           "aaxis": {
            "gridcolor": "white",
            "linecolor": "white",
            "ticks": ""
           },
           "baxis": {
            "gridcolor": "white",
            "linecolor": "white",
            "ticks": ""
           },
           "bgcolor": "#E5ECF6",
           "caxis": {
            "gridcolor": "white",
            "linecolor": "white",
            "ticks": ""
           }
          },
          "title": {
           "x": 0.05
          },
          "xaxis": {
           "automargin": true,
           "gridcolor": "white",
           "linecolor": "white",
           "ticks": "",
           "title": {
            "standoff": 15
           },
           "zerolinecolor": "white",
           "zerolinewidth": 2
          },
          "yaxis": {
           "automargin": true,
           "gridcolor": "white",
           "linecolor": "white",
           "ticks": "",
           "title": {
            "standoff": 15
           },
           "zerolinecolor": "white",
           "zerolinewidth": 2
          }
         }
        },
        "title": {
         "text": "Sampled marginal probabilities"
        },
        "xaxis": {
         "anchor": "y",
         "categoryarray": [
          "LISINOPRIL",
          "SIMVASTATIN",
          "HYDROCHLOROTHIAZIDE",
          "METFORMIN",
          "METOPROLOL",
          "ATORVASTATIN",
          "AMLODIPINE",
          "LEVOTHYROXINE",
          "CLOPIDOGREL",
          "ATENOLOL",
          "GLIPIZIDE",
          "LOSARTAN",
          "OMEPRAZOLE",
          "LOVASTATIN",
          "VALSARTAN",
          "FUROSEMIDE",
          "PRAVASTATIN",
          "WARFARIN",
          "ALENDRONATE",
          "PIOGLITAZONE",
          "CARVEDILOL",
          "ROSUVASTATIN",
          "ALBUTEROL",
          "TAMSULOSIN",
          "MONTELUKAST",
          "CITALOPRAM",
          "ESOMEPRAZOLE",
          "SERTRALINE",
          "ALLOPURINOL",
          "ZOLPIDEM",
          "PREDNISONE",
          "FEXOFENADINE",
          "INSULIN GLARGINE",
          "IBUPROFEN",
          "GABAPENTIN",
          "RANITIDINE",
          "TRAMADOL",
          "ASPIRIN",
          "POTASSIUM CHLORIDE",
          "FLUTICASONE NASAL"
         ],
         "categoryorder": "array",
         "domain": [
          0,
          1
         ],
         "title": {
          "text": "x"
         }
        },
        "yaxis": {
         "anchor": "x",
         "domain": [
          0,
          1
         ],
         "title": {
          "text": "y"
         }
        }
       }
      }
     },
     "metadata": {},
     "output_type": "display_data"
    }
   ],
   "source": [
    "sample.astype(int)\n",
    "\n",
    "visualize(sample)\n"
   ]
  },
  {
   "cell_type": "code",
   "execution_count": 8,
   "metadata": {},
   "outputs": [
    {
     "data": {
      "application/vnd.plotly.v1+json": {
       "config": {
        "plotlyServerURL": "https://plot.ly"
       },
       "data": [
        {
         "coloraxis": "coloraxis",
         "hovertemplate": "x: %{x}<br>y: %{y}<br>color: %{z}<extra></extra>",
         "name": "0",
         "type": "heatmap",
         "x": [
          "CARVEDILOL",
          "ESOMEPRAZOLE",
          "LEVOTHYROXINE",
          "TRAMADOL",
          "AMLODIPINE",
          "METOPROLOL",
          "OMEPRAZOLE",
          "SIMVASTATIN",
          "TAMSULOSIN",
          "ALENDRONATE",
          "ATORVASTATIN",
          "LISINOPRIL",
          "LOSARTAN",
          "SERTRALINE",
          "METFORMIN",
          "PIOGLITAZONE",
          "PRAVASTATIN",
          "FUROSEMIDE",
          "POTASSIUM CHLORIDE",
          "HYDROCHLOROTHIAZIDE",
          "ATENOLOL",
          "WARFARIN",
          "ASPIRIN",
          "LOVASTATIN",
          "ALBUTEROL",
          "GLIPIZIDE",
          "RANITIDINE",
          "GABAPENTIN",
          "INSULIN GLARGINE",
          "CLOPIDOGREL",
          "ZOLPIDEM",
          "ALLOPURINOL",
          "CITALOPRAM",
          "PREDNISONE",
          "ROSUVASTATIN",
          "VALSARTAN",
          "IBUPROFEN",
          "FEXOFENADINE",
          "MONTELUKAST",
          "FLUTICASONE NASAL"
         ],
         "xaxis": "x",
         "y": [
          "CARVEDILOL",
          "ESOMEPRAZOLE",
          "LEVOTHYROXINE",
          "TRAMADOL",
          "AMLODIPINE",
          "METOPROLOL",
          "OMEPRAZOLE",
          "SIMVASTATIN",
          "TAMSULOSIN",
          "ALENDRONATE",
          "ATORVASTATIN",
          "LISINOPRIL",
          "LOSARTAN",
          "SERTRALINE",
          "METFORMIN",
          "PIOGLITAZONE",
          "PRAVASTATIN",
          "FUROSEMIDE",
          "POTASSIUM CHLORIDE",
          "HYDROCHLOROTHIAZIDE",
          "ATENOLOL",
          "WARFARIN",
          "ASPIRIN",
          "LOVASTATIN",
          "ALBUTEROL",
          "GLIPIZIDE",
          "RANITIDINE",
          "GABAPENTIN",
          "INSULIN GLARGINE",
          "CLOPIDOGREL",
          "ZOLPIDEM",
          "ALLOPURINOL",
          "CITALOPRAM",
          "PREDNISONE",
          "ROSUVASTATIN",
          "VALSARTAN",
          "IBUPROFEN",
          "FEXOFENADINE",
          "MONTELUKAST",
          "FLUTICASONE NASAL"
         ],
         "yaxis": "y",
         "z": {
          "bdata": "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",
          "dtype": "f8",
          "shape": "40, 40"
         }
        }
       ],
       "layout": {
        "coloraxis": {
         "cmax": 1,
         "cmin": -1,
         "colorscale": [
          [
           0,
           "rgb(103,0,31)"
          ],
          [
           0.1,
           "rgb(178,24,43)"
          ],
          [
           0.2,
           "rgb(214,96,77)"
          ],
          [
           0.3,
           "rgb(244,165,130)"
          ],
          [
           0.4,
           "rgb(253,219,199)"
          ],
          [
           0.5,
           "rgb(247,247,247)"
          ],
          [
           0.6,
           "rgb(209,229,240)"
          ],
          [
           0.7,
           "rgb(146,197,222)"
          ],
          [
           0.8,
           "rgb(67,147,195)"
          ],
          [
           0.9,
           "rgb(33,102,172)"
          ],
          [
           1,
           "rgb(5,48,97)"
          ]
         ]
        },
        "template": {
         "data": {
          "bar": [
           {
            "error_x": {
             "color": "#2a3f5f"
            },
            "error_y": {
             "color": "#2a3f5f"
            },
            "marker": {
             "line": {
              "color": "#E5ECF6",
              "width": 0.5
             },
             "pattern": {
              "fillmode": "overlay",
              "size": 10,
              "solidity": 0.2
             }
            },
            "type": "bar"
           }
          ],
          "barpolar": [
           {
            "marker": {
             "line": {
              "color": "#E5ECF6",
              "width": 0.5
             },
             "pattern": {
              "fillmode": "overlay",
              "size": 10,
              "solidity": 0.2
             }
            },
            "type": "barpolar"
           }
          ],
          "carpet": [
           {
            "aaxis": {
             "endlinecolor": "#2a3f5f",
             "gridcolor": "white",
             "linecolor": "white",
             "minorgridcolor": "white",
             "startlinecolor": "#2a3f5f"
            },
            "baxis": {
             "endlinecolor": "#2a3f5f",
             "gridcolor": "white",
             "linecolor": "white",
             "minorgridcolor": "white",
             "startlinecolor": "#2a3f5f"
            },
            "type": "carpet"
           }
          ],
          "choropleth": [
           {
            "colorbar": {
             "outlinewidth": 0,
             "ticks": ""
            },
            "type": "choropleth"
           }
          ],
          "contour": [
           {
            "colorbar": {
             "outlinewidth": 0,
             "ticks": ""
            },
            "colorscale": [
             [
              0,
              "#0d0887"
             ],
             [
              0.1111111111111111,
              "#46039f"
             ],
             [
              0.2222222222222222,
              "#7201a8"
             ],
             [
              0.3333333333333333,
              "#9c179e"
             ],
             [
              0.4444444444444444,
              "#bd3786"
             ],
             [
              0.5555555555555556,
              "#d8576b"
             ],
             [
              0.6666666666666666,
              "#ed7953"
             ],
             [
              0.7777777777777778,
              "#fb9f3a"
             ],
             [
              0.8888888888888888,
              "#fdca26"
             ],
             [
              1,
              "#f0f921"
             ]
            ],
            "type": "contour"
           }
          ],
          "contourcarpet": [
           {
            "colorbar": {
             "outlinewidth": 0,
             "ticks": ""
            },
            "type": "contourcarpet"
           }
          ],
          "heatmap": [
           {
            "colorbar": {
             "outlinewidth": 0,
             "ticks": ""
            },
            "colorscale": [
             [
              0,
              "#0d0887"
             ],
             [
              0.1111111111111111,
              "#46039f"
             ],
             [
              0.2222222222222222,
              "#7201a8"
             ],
             [
              0.3333333333333333,
              "#9c179e"
             ],
             [
              0.4444444444444444,
              "#bd3786"
             ],
             [
              0.5555555555555556,
              "#d8576b"
             ],
             [
              0.6666666666666666,
              "#ed7953"
             ],
             [
              0.7777777777777778,
              "#fb9f3a"
             ],
             [
              0.8888888888888888,
              "#fdca26"
             ],
             [
              1,
              "#f0f921"
             ]
            ],
            "type": "heatmap"
           }
          ],
          "histogram": [
           {
            "marker": {
             "pattern": {
              "fillmode": "overlay",
              "size": 10,
              "solidity": 0.2
             }
            },
            "type": "histogram"
           }
          ],
          "histogram2d": [
           {
            "colorbar": {
             "outlinewidth": 0,
             "ticks": ""
            },
            "colorscale": [
             [
              0,
              "#0d0887"
             ],
             [
              0.1111111111111111,
              "#46039f"
             ],
             [
              0.2222222222222222,
              "#7201a8"
             ],
             [
              0.3333333333333333,
              "#9c179e"
             ],
             [
              0.4444444444444444,
              "#bd3786"
             ],
             [
              0.5555555555555556,
              "#d8576b"
             ],
             [
              0.6666666666666666,
              "#ed7953"
             ],
             [
              0.7777777777777778,
              "#fb9f3a"
             ],
             [
              0.8888888888888888,
              "#fdca26"
             ],
             [
              1,
              "#f0f921"
             ]
            ],
            "type": "histogram2d"
           }
          ],
          "histogram2dcontour": [
           {
            "colorbar": {
             "outlinewidth": 0,
             "ticks": ""
            },
            "colorscale": [
             [
              0,
              "#0d0887"
             ],
             [
              0.1111111111111111,
              "#46039f"
             ],
             [
              0.2222222222222222,
              "#7201a8"
             ],
             [
              0.3333333333333333,
              "#9c179e"
             ],
             [
              0.4444444444444444,
              "#bd3786"
             ],
             [
              0.5555555555555556,
              "#d8576b"
             ],
             [
              0.6666666666666666,
              "#ed7953"
             ],
             [
              0.7777777777777778,
              "#fb9f3a"
             ],
             [
              0.8888888888888888,
              "#fdca26"
             ],
             [
              1,
              "#f0f921"
             ]
            ],
            "type": "histogram2dcontour"
           }
          ],
          "mesh3d": [
           {
            "colorbar": {
             "outlinewidth": 0,
             "ticks": ""
            },
            "type": "mesh3d"
           }
          ],
          "parcoords": [
           {
            "line": {
             "colorbar": {
              "outlinewidth": 0,
              "ticks": ""
             }
            },
            "type": "parcoords"
           }
          ],
          "pie": [
           {
            "automargin": true,
            "type": "pie"
           }
          ],
          "scatter": [
           {
            "fillpattern": {
             "fillmode": "overlay",
             "size": 10,
             "solidity": 0.2
            },
            "type": "scatter"
           }
          ],
          "scatter3d": [
           {
            "line": {
             "colorbar": {
              "outlinewidth": 0,
              "ticks": ""
             }
            },
            "marker": {
             "colorbar": {
              "outlinewidth": 0,
              "ticks": ""
             }
            },
            "type": "scatter3d"
           }
          ],
          "scattercarpet": [
           {
            "marker": {
             "colorbar": {
              "outlinewidth": 0,
              "ticks": ""
             }
            },
            "type": "scattercarpet"
           }
          ],
          "scattergeo": [
           {
            "marker": {
             "colorbar": {
              "outlinewidth": 0,
              "ticks": ""
             }
            },
            "type": "scattergeo"
           }
          ],
          "scattergl": [
           {
            "marker": {
             "colorbar": {
              "outlinewidth": 0,
              "ticks": ""
             }
            },
            "type": "scattergl"
           }
          ],
          "scattermap": [
           {
            "marker": {
             "colorbar": {
              "outlinewidth": 0,
              "ticks": ""
             }
            },
            "type": "scattermap"
           }
          ],
          "scattermapbox": [
           {
            "marker": {
             "colorbar": {
              "outlinewidth": 0,
              "ticks": ""
             }
            },
            "type": "scattermapbox"
           }
          ],
          "scatterpolar": [
           {
            "marker": {
             "colorbar": {
              "outlinewidth": 0,
              "ticks": ""
             }
            },
            "type": "scatterpolar"
           }
          ],
          "scatterpolargl": [
           {
            "marker": {
             "colorbar": {
              "outlinewidth": 0,
              "ticks": ""
             }
            },
            "type": "scatterpolargl"
           }
          ],
          "scatterternary": [
           {
            "marker": {
             "colorbar": {
              "outlinewidth": 0,
              "ticks": ""
             }
            },
            "type": "scatterternary"
           }
          ],
          "surface": [
           {
            "colorbar": {
             "outlinewidth": 0,
             "ticks": ""
            },
            "colorscale": [
             [
              0,
              "#0d0887"
             ],
             [
              0.1111111111111111,
              "#46039f"
             ],
             [
              0.2222222222222222,
              "#7201a8"
             ],
             [
              0.3333333333333333,
              "#9c179e"
             ],
             [
              0.4444444444444444,
              "#bd3786"
             ],
             [
              0.5555555555555556,
              "#d8576b"
             ],
             [
              0.6666666666666666,
              "#ed7953"
             ],
             [
              0.7777777777777778,
              "#fb9f3a"
             ],
             [
              0.8888888888888888,
              "#fdca26"
             ],
             [
              1,
              "#f0f921"
             ]
            ],
            "type": "surface"
           }
          ],
          "table": [
           {
            "cells": {
             "fill": {
              "color": "#EBF0F8"
             },
             "line": {
              "color": "white"
             }
            },
            "header": {
             "fill": {
              "color": "#C8D4E3"
             },
             "line": {
              "color": "white"
             }
            },
            "type": "table"
           }
          ]
         },
         "layout": {
          "annotationdefaults": {
           "arrowcolor": "#2a3f5f",
           "arrowhead": 0,
           "arrowwidth": 1
          },
          "autotypenumbers": "strict",
          "coloraxis": {
           "colorbar": {
            "outlinewidth": 0,
            "ticks": ""
           }
          },
          "colorscale": {
           "diverging": [
            [
             0,
             "#8e0152"
            ],
            [
             0.1,
             "#c51b7d"
            ],
            [
             0.2,
             "#de77ae"
            ],
            [
             0.3,
             "#f1b6da"
            ],
            [
             0.4,
             "#fde0ef"
            ],
            [
             0.5,
             "#f7f7f7"
            ],
            [
             0.6,
             "#e6f5d0"
            ],
            [
             0.7,
             "#b8e186"
            ],
            [
             0.8,
             "#7fbc41"
            ],
            [
             0.9,
             "#4d9221"
            ],
            [
             1,
             "#276419"
            ]
           ],
           "sequential": [
            [
             0,
             "#0d0887"
            ],
            [
             0.1111111111111111,
             "#46039f"
            ],
            [
             0.2222222222222222,
             "#7201a8"
            ],
            [
             0.3333333333333333,
             "#9c179e"
            ],
            [
             0.4444444444444444,
             "#bd3786"
            ],
            [
             0.5555555555555556,
             "#d8576b"
            ],
            [
             0.6666666666666666,
             "#ed7953"
            ],
            [
             0.7777777777777778,
             "#fb9f3a"
            ],
            [
             0.8888888888888888,
             "#fdca26"
            ],
            [
             1,
             "#f0f921"
            ]
           ],
           "sequentialminus": [
            [
             0,
             "#0d0887"
            ],
            [
             0.1111111111111111,
             "#46039f"
            ],
            [
             0.2222222222222222,
             "#7201a8"
            ],
            [
             0.3333333333333333,
             "#9c179e"
            ],
            [
             0.4444444444444444,
             "#bd3786"
            ],
            [
             0.5555555555555556,
             "#d8576b"
            ],
            [
             0.6666666666666666,
             "#ed7953"
            ],
            [
             0.7777777777777778,
             "#fb9f3a"
            ],
            [
             0.8888888888888888,
             "#fdca26"
            ],
            [
             1,
             "#f0f921"
            ]
           ]
          },
          "colorway": [
           "#636efa",
           "#EF553B",
           "#00cc96",
           "#ab63fa",
           "#FFA15A",
           "#19d3f3",
           "#FF6692",
           "#B6E880",
           "#FF97FF",
           "#FECB52"
          ],
          "font": {
           "color": "#2a3f5f"
          },
          "geo": {
           "bgcolor": "white",
           "lakecolor": "white",
           "landcolor": "#E5ECF6",
           "showlakes": true,
           "showland": true,
           "subunitcolor": "white"
          },
          "hoverlabel": {
           "align": "left"
          },
          "hovermode": "closest",
          "mapbox": {
           "style": "light"
          },
          "paper_bgcolor": "white",
          "plot_bgcolor": "#E5ECF6",
          "polar": {
           "angularaxis": {
            "gridcolor": "white",
            "linecolor": "white",
            "ticks": ""
           },
           "bgcolor": "#E5ECF6",
           "radialaxis": {
            "gridcolor": "white",
            "linecolor": "white",
            "ticks": ""
           }
          },
          "scene": {
           "xaxis": {
            "backgroundcolor": "#E5ECF6",
            "gridcolor": "white",
            "gridwidth": 2,
            "linecolor": "white",
            "showbackground": true,
            "ticks": "",
            "zerolinecolor": "white"
           },
           "yaxis": {
            "backgroundcolor": "#E5ECF6",
            "gridcolor": "white",
            "gridwidth": 2,
            "linecolor": "white",
            "showbackground": true,
            "ticks": "",
            "zerolinecolor": "white"
           },
           "zaxis": {
            "backgroundcolor": "#E5ECF6",
            "gridcolor": "white",
            "gridwidth": 2,
            "linecolor": "white",
            "showbackground": true,
            "ticks": "",
            "zerolinecolor": "white"
           }
          },
          "shapedefaults": {
           "line": {
            "color": "#2a3f5f"
           }
          },
          "ternary": {
           "aaxis": {
            "gridcolor": "white",
            "linecolor": "white",
            "ticks": ""
           },
           "baxis": {
            "gridcolor": "white",
            "linecolor": "white",
            "ticks": ""
           },
           "bgcolor": "#E5ECF6",
           "caxis": {
            "gridcolor": "white",
            "linecolor": "white",
            "ticks": ""
           }
          },
          "title": {
           "x": 0.05
          },
          "xaxis": {
           "automargin": true,
           "gridcolor": "white",
           "linecolor": "white",
           "ticks": "",
           "title": {
            "standoff": 15
           },
           "zerolinecolor": "white",
           "zerolinewidth": 2
          },
          "yaxis": {
           "automargin": true,
           "gridcolor": "white",
           "linecolor": "white",
           "ticks": "",
           "title": {
            "standoff": 15
           },
           "zerolinecolor": "white",
           "zerolinewidth": 2
          }
         }
        },
        "title": {
         "text": "Input correlation matrix"
        },
        "xaxis": {
         "anchor": "y",
         "constrain": "domain",
         "domain": [
          0,
          1
         ],
         "scaleanchor": "y"
        },
        "yaxis": {
         "anchor": "x",
         "autorange": "reversed",
         "constrain": "domain",
         "domain": [
          0,
          1
         ]
        }
       }
      }
     },
     "metadata": {},
     "output_type": "display_data"
    },
    {
     "data": {
      "application/vnd.plotly.v1+json": {
       "config": {
        "plotlyServerURL": "https://plot.ly"
       },
       "data": [
        {
         "coloraxis": "coloraxis",
         "hovertemplate": "x: %{x}<br>y: %{y}<br>color: %{z}<extra></extra>",
         "name": "0",
         "type": "heatmap",
         "x": [
          "CARVEDILOL",
          "ESOMEPRAZOLE",
          "LEVOTHYROXINE",
          "TRAMADOL",
          "AMLODIPINE",
          "METOPROLOL",
          "OMEPRAZOLE",
          "SIMVASTATIN",
          "TAMSULOSIN",
          "ALENDRONATE",
          "ATORVASTATIN",
          "LISINOPRIL",
          "LOSARTAN",
          "SERTRALINE",
          "METFORMIN",
          "PIOGLITAZONE",
          "PRAVASTATIN",
          "FUROSEMIDE",
          "POTASSIUM CHLORIDE",
          "HYDROCHLOROTHIAZIDE",
          "ATENOLOL",
          "WARFARIN",
          "ASPIRIN",
          "LOVASTATIN",
          "ALBUTEROL",
          "GLIPIZIDE",
          "RANITIDINE",
          "GABAPENTIN",
          "INSULIN GLARGINE",
          "CLOPIDOGREL",
          "ZOLPIDEM",
          "ALLOPURINOL",
          "CITALOPRAM",
          "PREDNISONE",
          "ROSUVASTATIN",
          "VALSARTAN",
          "IBUPROFEN",
          "FEXOFENADINE",
          "MONTELUKAST",
          "FLUTICASONE NASAL"
         ],
         "xaxis": "x",
         "y": [
          "CARVEDILOL",
          "ESOMEPRAZOLE",
          "LEVOTHYROXINE",
          "TRAMADOL",
          "AMLODIPINE",
          "METOPROLOL",
          "OMEPRAZOLE",
          "SIMVASTATIN",
          "TAMSULOSIN",
          "ALENDRONATE",
          "ATORVASTATIN",
          "LISINOPRIL",
          "LOSARTAN",
          "SERTRALINE",
          "METFORMIN",
          "PIOGLITAZONE",
          "PRAVASTATIN",
          "FUROSEMIDE",
          "POTASSIUM CHLORIDE",
          "HYDROCHLOROTHIAZIDE",
          "ATENOLOL",
          "WARFARIN",
          "ASPIRIN",
          "LOVASTATIN",
          "ALBUTEROL",
          "GLIPIZIDE",
          "RANITIDINE",
          "GABAPENTIN",
          "INSULIN GLARGINE",
          "CLOPIDOGREL",
          "ZOLPIDEM",
          "ALLOPURINOL",
          "CITALOPRAM",
          "PREDNISONE",
          "ROSUVASTATIN",
          "VALSARTAN",
          "IBUPROFEN",
          "FEXOFENADINE",
          "MONTELUKAST",
          "FLUTICASONE NASAL"
         ],
         "yaxis": "y",
         "z": {
          "bdata": "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",
          "dtype": "f8",
          "shape": "40, 40"
         }
        }
       ],
       "layout": {
        "coloraxis": {
         "cmax": 1,
         "cmin": -1,
         "colorscale": [
          [
           0,
           "rgb(103,0,31)"
          ],
          [
           0.1,
           "rgb(178,24,43)"
          ],
          [
           0.2,
           "rgb(214,96,77)"
          ],
          [
           0.3,
           "rgb(244,165,130)"
          ],
          [
           0.4,
           "rgb(253,219,199)"
          ],
          [
           0.5,
           "rgb(247,247,247)"
          ],
          [
           0.6,
           "rgb(209,229,240)"
          ],
          [
           0.7,
           "rgb(146,197,222)"
          ],
          [
           0.8,
           "rgb(67,147,195)"
          ],
          [
           0.9,
           "rgb(33,102,172)"
          ],
          [
           1,
           "rgb(5,48,97)"
          ]
         ]
        },
        "template": {
         "data": {
          "bar": [
           {
            "error_x": {
             "color": "#2a3f5f"
            },
            "error_y": {
             "color": "#2a3f5f"
            },
            "marker": {
             "line": {
              "color": "#E5ECF6",
              "width": 0.5
             },
             "pattern": {
              "fillmode": "overlay",
              "size": 10,
              "solidity": 0.2
             }
            },
            "type": "bar"
           }
          ],
          "barpolar": [
           {
            "marker": {
             "line": {
              "color": "#E5ECF6",
              "width": 0.5
             },
             "pattern": {
              "fillmode": "overlay",
              "size": 10,
              "solidity": 0.2
             }
            },
            "type": "barpolar"
           }
          ],
          "carpet": [
           {
            "aaxis": {
             "endlinecolor": "#2a3f5f",
             "gridcolor": "white",
             "linecolor": "white",
             "minorgridcolor": "white",
             "startlinecolor": "#2a3f5f"
            },
            "baxis": {
             "endlinecolor": "#2a3f5f",
             "gridcolor": "white",
             "linecolor": "white",
             "minorgridcolor": "white",
             "startlinecolor": "#2a3f5f"
            },
            "type": "carpet"
           }
          ],
          "choropleth": [
           {
            "colorbar": {
             "outlinewidth": 0,
             "ticks": ""
            },
            "type": "choropleth"
           }
          ],
          "contour": [
           {
            "colorbar": {
             "outlinewidth": 0,
             "ticks": ""
            },
            "colorscale": [
             [
              0,
              "#0d0887"
             ],
             [
              0.1111111111111111,
              "#46039f"
             ],
             [
              0.2222222222222222,
              "#7201a8"
             ],
             [
              0.3333333333333333,
              "#9c179e"
             ],
             [
              0.4444444444444444,
              "#bd3786"
             ],
             [
              0.5555555555555556,
              "#d8576b"
             ],
             [
              0.6666666666666666,
              "#ed7953"
             ],
             [
              0.7777777777777778,
              "#fb9f3a"
             ],
             [
              0.8888888888888888,
              "#fdca26"
             ],
             [
              1,
              "#f0f921"
             ]
            ],
            "type": "contour"
           }
          ],
          "contourcarpet": [
           {
            "colorbar": {
             "outlinewidth": 0,
             "ticks": ""
            },
            "type": "contourcarpet"
           }
          ],
          "heatmap": [
           {
            "colorbar": {
             "outlinewidth": 0,
             "ticks": ""
            },
            "colorscale": [
             [
              0,
              "#0d0887"
             ],
             [
              0.1111111111111111,
              "#46039f"
             ],
             [
              0.2222222222222222,
              "#7201a8"
             ],
             [
              0.3333333333333333,
              "#9c179e"
             ],
             [
              0.4444444444444444,
              "#bd3786"
             ],
             [
              0.5555555555555556,
              "#d8576b"
             ],
             [
              0.6666666666666666,
              "#ed7953"
             ],
             [
              0.7777777777777778,
              "#fb9f3a"
             ],
             [
              0.8888888888888888,
              "#fdca26"
             ],
             [
              1,
              "#f0f921"
             ]
            ],
            "type": "heatmap"
           }
          ],
          "histogram": [
           {
            "marker": {
             "pattern": {
              "fillmode": "overlay",
              "size": 10,
              "solidity": 0.2
             }
            },
            "type": "histogram"
           }
          ],
          "histogram2d": [
           {
            "colorbar": {
             "outlinewidth": 0,
             "ticks": ""
            },
            "colorscale": [
             [
              0,
              "#0d0887"
             ],
             [
              0.1111111111111111,
              "#46039f"
             ],
             [
              0.2222222222222222,
              "#7201a8"
             ],
             [
              0.3333333333333333,
              "#9c179e"
             ],
             [
              0.4444444444444444,
              "#bd3786"
             ],
             [
              0.5555555555555556,
              "#d8576b"
             ],
             [
              0.6666666666666666,
              "#ed7953"
             ],
             [
              0.7777777777777778,
              "#fb9f3a"
             ],
             [
              0.8888888888888888,
              "#fdca26"
             ],
             [
              1,
              "#f0f921"
             ]
            ],
            "type": "histogram2d"
           }
          ],
          "histogram2dcontour": [
           {
            "colorbar": {
             "outlinewidth": 0,
             "ticks": ""
            },
            "colorscale": [
             [
              0,
              "#0d0887"
             ],
             [
              0.1111111111111111,
              "#46039f"
             ],
             [
              0.2222222222222222,
              "#7201a8"
             ],
             [
              0.3333333333333333,
              "#9c179e"
             ],
             [
              0.4444444444444444,
              "#bd3786"
             ],
             [
              0.5555555555555556,
              "#d8576b"
             ],
             [
              0.6666666666666666,
              "#ed7953"
             ],
             [
              0.7777777777777778,
              "#fb9f3a"
             ],
             [
              0.8888888888888888,
              "#fdca26"
             ],
             [
              1,
              "#f0f921"
             ]
            ],
            "type": "histogram2dcontour"
           }
          ],
          "mesh3d": [
           {
            "colorbar": {
             "outlinewidth": 0,
             "ticks": ""
            },
            "type": "mesh3d"
           }
          ],
          "parcoords": [
           {
            "line": {
             "colorbar": {
              "outlinewidth": 0,
              "ticks": ""
             }
            },
            "type": "parcoords"
           }
          ],
          "pie": [
           {
            "automargin": true,
            "type": "pie"
           }
          ],
          "scatter": [
           {
            "fillpattern": {
             "fillmode": "overlay",
             "size": 10,
             "solidity": 0.2
            },
            "type": "scatter"
           }
          ],
          "scatter3d": [
           {
            "line": {
             "colorbar": {
              "outlinewidth": 0,
              "ticks": ""
             }
            },
            "marker": {
             "colorbar": {
              "outlinewidth": 0,
              "ticks": ""
             }
            },
            "type": "scatter3d"
           }
          ],
          "scattercarpet": [
           {
            "marker": {
             "colorbar": {
              "outlinewidth": 0,
              "ticks": ""
             }
            },
            "type": "scattercarpet"
           }
          ],
          "scattergeo": [
           {
            "marker": {
             "colorbar": {
              "outlinewidth": 0,
              "ticks": ""
             }
            },
            "type": "scattergeo"
           }
          ],
          "scattergl": [
           {
            "marker": {
             "colorbar": {
              "outlinewidth": 0,
              "ticks": ""
             }
            },
            "type": "scattergl"
           }
          ],
          "scattermap": [
           {
            "marker": {
             "colorbar": {
              "outlinewidth": 0,
              "ticks": ""
             }
            },
            "type": "scattermap"
           }
          ],
          "scattermapbox": [
           {
            "marker": {
             "colorbar": {
              "outlinewidth": 0,
              "ticks": ""
             }
            },
            "type": "scattermapbox"
           }
          ],
          "scatterpolar": [
           {
            "marker": {
             "colorbar": {
              "outlinewidth": 0,
              "ticks": ""
             }
            },
            "type": "scatterpolar"
           }
          ],
          "scatterpolargl": [
           {
            "marker": {
             "colorbar": {
              "outlinewidth": 0,
              "ticks": ""
             }
            },
            "type": "scatterpolargl"
           }
          ],
          "scatterternary": [
           {
            "marker": {
             "colorbar": {
              "outlinewidth": 0,
              "ticks": ""
             }
            },
            "type": "scatterternary"
           }
          ],
          "surface": [
           {
            "colorbar": {
             "outlinewidth": 0,
             "ticks": ""
            },
            "colorscale": [
             [
              0,
              "#0d0887"
             ],
             [
              0.1111111111111111,
              "#46039f"
             ],
             [
              0.2222222222222222,
              "#7201a8"
             ],
             [
              0.3333333333333333,
              "#9c179e"
             ],
             [
              0.4444444444444444,
              "#bd3786"
             ],
             [
              0.5555555555555556,
              "#d8576b"
             ],
             [
              0.6666666666666666,
              "#ed7953"
             ],
             [
              0.7777777777777778,
              "#fb9f3a"
             ],
             [
              0.8888888888888888,
              "#fdca26"
             ],
             [
              1,
              "#f0f921"
             ]
            ],
            "type": "surface"
           }
          ],
          "table": [
           {
            "cells": {
             "fill": {
              "color": "#EBF0F8"
             },
             "line": {
              "color": "white"
             }
            },
            "header": {
             "fill": {
              "color": "#C8D4E3"
             },
             "line": {
              "color": "white"
             }
            },
            "type": "table"
           }
          ]
         },
         "layout": {
          "annotationdefaults": {
           "arrowcolor": "#2a3f5f",
           "arrowhead": 0,
           "arrowwidth": 1
          },
          "autotypenumbers": "strict",
          "coloraxis": {
           "colorbar": {
            "outlinewidth": 0,
            "ticks": ""
           }
          },
          "colorscale": {
           "diverging": [
            [
             0,
             "#8e0152"
            ],
            [
             0.1,
             "#c51b7d"
            ],
            [
             0.2,
             "#de77ae"
            ],
            [
             0.3,
             "#f1b6da"
            ],
            [
             0.4,
             "#fde0ef"
            ],
            [
             0.5,
             "#f7f7f7"
            ],
            [
             0.6,
             "#e6f5d0"
            ],
            [
             0.7,
             "#b8e186"
            ],
            [
             0.8,
             "#7fbc41"
            ],
            [
             0.9,
             "#4d9221"
            ],
            [
             1,
             "#276419"
            ]
           ],
           "sequential": [
            [
             0,
             "#0d0887"
            ],
            [
             0.1111111111111111,
             "#46039f"
            ],
            [
             0.2222222222222222,
             "#7201a8"
            ],
            [
             0.3333333333333333,
             "#9c179e"
            ],
            [
             0.4444444444444444,
             "#bd3786"
            ],
            [
             0.5555555555555556,
             "#d8576b"
            ],
            [
             0.6666666666666666,
             "#ed7953"
            ],
            [
             0.7777777777777778,
             "#fb9f3a"
            ],
            [
             0.8888888888888888,
             "#fdca26"
            ],
            [
             1,
             "#f0f921"
            ]
           ],
           "sequentialminus": [
            [
             0,
             "#0d0887"
            ],
            [
             0.1111111111111111,
             "#46039f"
            ],
            [
             0.2222222222222222,
             "#7201a8"
            ],
            [
             0.3333333333333333,
             "#9c179e"
            ],
            [
             0.4444444444444444,
             "#bd3786"
            ],
            [
             0.5555555555555556,
             "#d8576b"
            ],
            [
             0.6666666666666666,
             "#ed7953"
            ],
            [
             0.7777777777777778,
             "#fb9f3a"
            ],
            [
             0.8888888888888888,
             "#fdca26"
            ],
            [
             1,
             "#f0f921"
            ]
           ]
          },
          "colorway": [
           "#636efa",
           "#EF553B",
           "#00cc96",
           "#ab63fa",
           "#FFA15A",
           "#19d3f3",
           "#FF6692",
           "#B6E880",
           "#FF97FF",
           "#FECB52"
          ],
          "font": {
           "color": "#2a3f5f"
          },
          "geo": {
           "bgcolor": "white",
           "lakecolor": "white",
           "landcolor": "#E5ECF6",
           "showlakes": true,
           "showland": true,
           "subunitcolor": "white"
          },
          "hoverlabel": {
           "align": "left"
          },
          "hovermode": "closest",
          "mapbox": {
           "style": "light"
          },
          "paper_bgcolor": "white",
          "plot_bgcolor": "#E5ECF6",
          "polar": {
           "angularaxis": {
            "gridcolor": "white",
            "linecolor": "white",
            "ticks": ""
           },
           "bgcolor": "#E5ECF6",
           "radialaxis": {
            "gridcolor": "white",
            "linecolor": "white",
            "ticks": ""
           }
          },
          "scene": {
           "xaxis": {
            "backgroundcolor": "#E5ECF6",
            "gridcolor": "white",
            "gridwidth": 2,
            "linecolor": "white",
            "showbackground": true,
            "ticks": "",
            "zerolinecolor": "white"
           },
           "yaxis": {
            "backgroundcolor": "#E5ECF6",
            "gridcolor": "white",
            "gridwidth": 2,
            "linecolor": "white",
            "showbackground": true,
            "ticks": "",
            "zerolinecolor": "white"
           },
           "zaxis": {
            "backgroundcolor": "#E5ECF6",
            "gridcolor": "white",
            "gridwidth": 2,
            "linecolor": "white",
            "showbackground": true,
            "ticks": "",
            "zerolinecolor": "white"
           }
          },
          "shapedefaults": {
           "line": {
            "color": "#2a3f5f"
           }
          },
          "ternary": {
           "aaxis": {
            "gridcolor": "white",
            "linecolor": "white",
            "ticks": ""
           },
           "baxis": {
            "gridcolor": "white",
            "linecolor": "white",
            "ticks": ""
           },
           "bgcolor": "#E5ECF6",
           "caxis": {
            "gridcolor": "white",
            "linecolor": "white",
            "ticks": ""
           }
          },
          "title": {
           "x": 0.05
          },
          "xaxis": {
           "automargin": true,
           "gridcolor": "white",
           "linecolor": "white",
           "ticks": "",
           "title": {
            "standoff": 15
           },
           "zerolinecolor": "white",
           "zerolinewidth": 2
          },
          "yaxis": {
           "automargin": true,
           "gridcolor": "white",
           "linecolor": "white",
           "ticks": "",
           "title": {
            "standoff": 15
           },
           "zerolinecolor": "white",
           "zerolinewidth": 2
          }
         }
        },
        "title": {
         "text": "Sample correlation matrix"
        },
        "xaxis": {
         "anchor": "y",
         "constrain": "domain",
         "domain": [
          0,
          1
         ],
         "scaleanchor": "y"
        },
        "yaxis": {
         "anchor": "x",
         "autorange": "reversed",
         "constrain": "domain",
         "domain": [
          0,
          1
         ]
        }
       }
      }
     },
     "metadata": {},
     "output_type": "display_data"
    },
    {
     "data": {
      "application/vnd.plotly.v1+json": {
       "config": {
        "plotlyServerURL": "https://plot.ly"
       },
       "data": [
        {
         "hovertemplate": "x=%{x}<br>y=%{y}<extra></extra>",
         "legendgroup": "",
         "marker": {
          "color": "#636efa",
          "pattern": {
           "shape": ""
          }
         },
         "name": "",
         "orientation": "v",
         "showlegend": false,
         "textposition": "auto",
         "type": "bar",
         "x": [
          "LISINOPRIL",
          "SIMVASTATIN",
          "METOPROLOL",
          "METFORMIN",
          "LEVOTHYROXINE",
          "AMLODIPINE",
          "HYDROCHLOROTHIAZIDE",
          "FUROSEMIDE",
          "ATORVASTATIN",
          "OMEPRAZOLE",
          "ATENOLOL",
          "GLIPIZIDE",
          "ALBUTEROL",
          "WARFARIN",
          "ASPIRIN",
          "POTASSIUM CHLORIDE",
          "ESOMEPRAZOLE",
          "CLOPIDOGREL",
          "CARVEDILOL",
          "VALSARTAN",
          "LOSARTAN",
          "ROSUVASTATIN",
          "GABAPENTIN",
          "LOVASTATIN",
          "PIOGLITAZONE",
          "RANITIDINE",
          "PRAVASTATIN",
          "TRAMADOL",
          "IBUPROFEN",
          "INSULIN GLARGINE",
          "CITALOPRAM",
          "ALENDRONATE",
          "ALLOPURINOL",
          "MONTELUKAST",
          "FEXOFENADINE",
          "ZOLPIDEM",
          "TAMSULOSIN",
          "SERTRALINE",
          "FLUTICASONE NASAL",
          "PREDNISONE"
         ],
         "xaxis": "x",
         "y": {
          "bdata": "G8prKK+h1D8or6G8hvLSP8Z0FtNZTM8/z2I6i+kszj/BfQT3EdzHPw3lNZTXUMY/kOA+gvsIxj+rqqqqqqrCP6uqqqqqqsI/MZ3FdBbTwT82lNdQXkPBPyS4j+A+grs/SHAfwX0Etz/Kayivoby2P9hQXkN5DbU/XkN5DeU1tD/uI7iP4D6yP+4juI/gPrI/8xrKayivsT91FtNZTGexPwnuI7iP4K4/DeU1lNdQrj8N5TWU11CuPxbTWUxnMa0/H8F9BPcRrD8or6G8hvKqPyivobyG8qo/MZ3FdBbTqT8/gvsI7iOoP0N5DeU1lKc/Q3kN5TWUpz9DeQ3lNZSnP1FeQ3kN5aU/ZzGdxXQWoz9sKK+hvIaiP3AfwX0E96E/cB/BfQT3oT9wH8F9BPehP34E9xHcR6A/BPcR3Edwnz8=",
          "dtype": "f8"
         },
         "yaxis": "y"
        }
       ],
       "layout": {
        "barmode": "relative",
        "legend": {
         "tracegroupgap": 0
        },
        "template": {
         "data": {
          "bar": [
           {
            "error_x": {
             "color": "#2a3f5f"
            },
            "error_y": {
             "color": "#2a3f5f"
            },
            "marker": {
             "line": {
              "color": "#E5ECF6",
              "width": 0.5
             },
             "pattern": {
              "fillmode": "overlay",
              "size": 10,
              "solidity": 0.2
             }
            },
            "type": "bar"
           }
          ],
          "barpolar": [
           {
            "marker": {
             "line": {
              "color": "#E5ECF6",
              "width": 0.5
             },
             "pattern": {
              "fillmode": "overlay",
              "size": 10,
              "solidity": 0.2
             }
            },
            "type": "barpolar"
           }
          ],
          "carpet": [
           {
            "aaxis": {
             "endlinecolor": "#2a3f5f",
             "gridcolor": "white",
             "linecolor": "white",
             "minorgridcolor": "white",
             "startlinecolor": "#2a3f5f"
            },
            "baxis": {
             "endlinecolor": "#2a3f5f",
             "gridcolor": "white",
             "linecolor": "white",
             "minorgridcolor": "white",
             "startlinecolor": "#2a3f5f"
            },
            "type": "carpet"
           }
          ],
          "choropleth": [
           {
            "colorbar": {
             "outlinewidth": 0,
             "ticks": ""
            },
            "type": "choropleth"
           }
          ],
          "contour": [
           {
            "colorbar": {
             "outlinewidth": 0,
             "ticks": ""
            },
            "colorscale": [
             [
              0,
              "#0d0887"
             ],
             [
              0.1111111111111111,
              "#46039f"
             ],
             [
              0.2222222222222222,
              "#7201a8"
             ],
             [
              0.3333333333333333,
              "#9c179e"
             ],
             [
              0.4444444444444444,
              "#bd3786"
             ],
             [
              0.5555555555555556,
              "#d8576b"
             ],
             [
              0.6666666666666666,
              "#ed7953"
             ],
             [
              0.7777777777777778,
              "#fb9f3a"
             ],
             [
              0.8888888888888888,
              "#fdca26"
             ],
             [
              1,
              "#f0f921"
             ]
            ],
            "type": "contour"
           }
          ],
          "contourcarpet": [
           {
            "colorbar": {
             "outlinewidth": 0,
             "ticks": ""
            },
            "type": "contourcarpet"
           }
          ],
          "heatmap": [
           {
            "colorbar": {
             "outlinewidth": 0,
             "ticks": ""
            },
            "colorscale": [
             [
              0,
              "#0d0887"
             ],
             [
              0.1111111111111111,
              "#46039f"
             ],
             [
              0.2222222222222222,
              "#7201a8"
             ],
             [
              0.3333333333333333,
              "#9c179e"
             ],
             [
              0.4444444444444444,
              "#bd3786"
             ],
             [
              0.5555555555555556,
              "#d8576b"
             ],
             [
              0.6666666666666666,
              "#ed7953"
             ],
             [
              0.7777777777777778,
              "#fb9f3a"
             ],
             [
              0.8888888888888888,
              "#fdca26"
             ],
             [
              1,
              "#f0f921"
             ]
            ],
            "type": "heatmap"
           }
          ],
          "histogram": [
           {
            "marker": {
             "pattern": {
              "fillmode": "overlay",
              "size": 10,
              "solidity": 0.2
             }
            },
            "type": "histogram"
           }
          ],
          "histogram2d": [
           {
            "colorbar": {
             "outlinewidth": 0,
             "ticks": ""
            },
            "colorscale": [
             [
              0,
              "#0d0887"
             ],
             [
              0.1111111111111111,
              "#46039f"
             ],
             [
              0.2222222222222222,
              "#7201a8"
             ],
             [
              0.3333333333333333,
              "#9c179e"
             ],
             [
              0.4444444444444444,
              "#bd3786"
             ],
             [
              0.5555555555555556,
              "#d8576b"
             ],
             [
              0.6666666666666666,
              "#ed7953"
             ],
             [
              0.7777777777777778,
              "#fb9f3a"
             ],
             [
              0.8888888888888888,
              "#fdca26"
             ],
             [
              1,
              "#f0f921"
             ]
            ],
            "type": "histogram2d"
           }
          ],
          "histogram2dcontour": [
           {
            "colorbar": {
             "outlinewidth": 0,
             "ticks": ""
            },
            "colorscale": [
             [
              0,
              "#0d0887"
             ],
             [
              0.1111111111111111,
              "#46039f"
             ],
             [
              0.2222222222222222,
              "#7201a8"
             ],
             [
              0.3333333333333333,
              "#9c179e"
             ],
             [
              0.4444444444444444,
              "#bd3786"
             ],
             [
              0.5555555555555556,
              "#d8576b"
             ],
             [
              0.6666666666666666,
              "#ed7953"
             ],
             [
              0.7777777777777778,
              "#fb9f3a"
             ],
             [
              0.8888888888888888,
              "#fdca26"
             ],
             [
              1,
              "#f0f921"
             ]
            ],
            "type": "histogram2dcontour"
           }
          ],
          "mesh3d": [
           {
            "colorbar": {
             "outlinewidth": 0,
             "ticks": ""
            },
            "type": "mesh3d"
           }
          ],
          "parcoords": [
           {
            "line": {
             "colorbar": {
              "outlinewidth": 0,
              "ticks": ""
             }
            },
            "type": "parcoords"
           }
          ],
          "pie": [
           {
            "automargin": true,
            "type": "pie"
           }
          ],
          "scatter": [
           {
            "fillpattern": {
             "fillmode": "overlay",
             "size": 10,
             "solidity": 0.2
            },
            "type": "scatter"
           }
          ],
          "scatter3d": [
           {
            "line": {
             "colorbar": {
              "outlinewidth": 0,
              "ticks": ""
             }
            },
            "marker": {
             "colorbar": {
              "outlinewidth": 0,
              "ticks": ""
             }
            },
            "type": "scatter3d"
           }
          ],
          "scattercarpet": [
           {
            "marker": {
             "colorbar": {
              "outlinewidth": 0,
              "ticks": ""
             }
            },
            "type": "scattercarpet"
           }
          ],
          "scattergeo": [
           {
            "marker": {
             "colorbar": {
              "outlinewidth": 0,
              "ticks": ""
             }
            },
            "type": "scattergeo"
           }
          ],
          "scattergl": [
           {
            "marker": {
             "colorbar": {
              "outlinewidth": 0,
              "ticks": ""
             }
            },
            "type": "scattergl"
           }
          ],
          "scattermap": [
           {
            "marker": {
             "colorbar": {
              "outlinewidth": 0,
              "ticks": ""
             }
            },
            "type": "scattermap"
           }
          ],
          "scattermapbox": [
           {
            "marker": {
             "colorbar": {
              "outlinewidth": 0,
              "ticks": ""
             }
            },
            "type": "scattermapbox"
           }
          ],
          "scatterpolar": [
           {
            "marker": {
             "colorbar": {
              "outlinewidth": 0,
              "ticks": ""
             }
            },
            "type": "scatterpolar"
           }
          ],
          "scatterpolargl": [
           {
            "marker": {
             "colorbar": {
              "outlinewidth": 0,
              "ticks": ""
             }
            },
            "type": "scatterpolargl"
           }
          ],
          "scatterternary": [
           {
            "marker": {
             "colorbar": {
              "outlinewidth": 0,
              "ticks": ""
             }
            },
            "type": "scatterternary"
           }
          ],
          "surface": [
           {
            "colorbar": {
             "outlinewidth": 0,
             "ticks": ""
            },
            "colorscale": [
             [
              0,
              "#0d0887"
             ],
             [
              0.1111111111111111,
              "#46039f"
             ],
             [
              0.2222222222222222,
              "#7201a8"
             ],
             [
              0.3333333333333333,
              "#9c179e"
             ],
             [
              0.4444444444444444,
              "#bd3786"
             ],
             [
              0.5555555555555556,
              "#d8576b"
             ],
             [
              0.6666666666666666,
              "#ed7953"
             ],
             [
              0.7777777777777778,
              "#fb9f3a"
             ],
             [
              0.8888888888888888,
              "#fdca26"
             ],
             [
              1,
              "#f0f921"
             ]
            ],
            "type": "surface"
           }
          ],
          "table": [
           {
            "cells": {
             "fill": {
              "color": "#EBF0F8"
             },
             "line": {
              "color": "white"
             }
            },
            "header": {
             "fill": {
              "color": "#C8D4E3"
             },
             "line": {
              "color": "white"
             }
            },
            "type": "table"
           }
          ]
         },
         "layout": {
          "annotationdefaults": {
           "arrowcolor": "#2a3f5f",
           "arrowhead": 0,
           "arrowwidth": 1
          },
          "autotypenumbers": "strict",
          "coloraxis": {
           "colorbar": {
            "outlinewidth": 0,
            "ticks": ""
           }
          },
          "colorscale": {
           "diverging": [
            [
             0,
             "#8e0152"
            ],
            [
             0.1,
             "#c51b7d"
            ],
            [
             0.2,
             "#de77ae"
            ],
            [
             0.3,
             "#f1b6da"
            ],
            [
             0.4,
             "#fde0ef"
            ],
            [
             0.5,
             "#f7f7f7"
            ],
            [
             0.6,
             "#e6f5d0"
            ],
            [
             0.7,
             "#b8e186"
            ],
            [
             0.8,
             "#7fbc41"
            ],
            [
             0.9,
             "#4d9221"
            ],
            [
             1,
             "#276419"
            ]
           ],
           "sequential": [
            [
             0,
             "#0d0887"
            ],
            [
             0.1111111111111111,
             "#46039f"
            ],
            [
             0.2222222222222222,
             "#7201a8"
            ],
            [
             0.3333333333333333,
             "#9c179e"
            ],
            [
             0.4444444444444444,
             "#bd3786"
            ],
            [
             0.5555555555555556,
             "#d8576b"
            ],
            [
             0.6666666666666666,
             "#ed7953"
            ],
            [
             0.7777777777777778,
             "#fb9f3a"
            ],
            [
             0.8888888888888888,
             "#fdca26"
            ],
            [
             1,
             "#f0f921"
            ]
           ],
           "sequentialminus": [
            [
             0,
             "#0d0887"
            ],
            [
             0.1111111111111111,
             "#46039f"
            ],
            [
             0.2222222222222222,
             "#7201a8"
            ],
            [
             0.3333333333333333,
             "#9c179e"
            ],
            [
             0.4444444444444444,
             "#bd3786"
            ],
            [
             0.5555555555555556,
             "#d8576b"
            ],
            [
             0.6666666666666666,
             "#ed7953"
            ],
            [
             0.7777777777777778,
             "#fb9f3a"
            ],
            [
             0.8888888888888888,
             "#fdca26"
            ],
            [
             1,
             "#f0f921"
            ]
           ]
          },
          "colorway": [
           "#636efa",
           "#EF553B",
           "#00cc96",
           "#ab63fa",
           "#FFA15A",
           "#19d3f3",
           "#FF6692",
           "#B6E880",
           "#FF97FF",
           "#FECB52"
          ],
          "font": {
           "color": "#2a3f5f"
          },
          "geo": {
           "bgcolor": "white",
           "lakecolor": "white",
           "landcolor": "#E5ECF6",
           "showlakes": true,
           "showland": true,
           "subunitcolor": "white"
          },
          "hoverlabel": {
           "align": "left"
          },
          "hovermode": "closest",
          "mapbox": {
           "style": "light"
          },
          "paper_bgcolor": "white",
          "plot_bgcolor": "#E5ECF6",
          "polar": {
           "angularaxis": {
            "gridcolor": "white",
            "linecolor": "white",
            "ticks": ""
           },
           "bgcolor": "#E5ECF6",
           "radialaxis": {
            "gridcolor": "white",
            "linecolor": "white",
            "ticks": ""
           }
          },
          "scene": {
           "xaxis": {
            "backgroundcolor": "#E5ECF6",
            "gridcolor": "white",
            "gridwidth": 2,
            "linecolor": "white",
            "showbackground": true,
            "ticks": "",
            "zerolinecolor": "white"
           },
           "yaxis": {
            "backgroundcolor": "#E5ECF6",
            "gridcolor": "white",
            "gridwidth": 2,
            "linecolor": "white",
            "showbackground": true,
            "ticks": "",
            "zerolinecolor": "white"
           },
           "zaxis": {
            "backgroundcolor": "#E5ECF6",
            "gridcolor": "white",
            "gridwidth": 2,
            "linecolor": "white",
            "showbackground": true,
            "ticks": "",
            "zerolinecolor": "white"
           }
          },
          "shapedefaults": {
           "line": {
            "color": "#2a3f5f"
           }
          },
          "ternary": {
           "aaxis": {
            "gridcolor": "white",
            "linecolor": "white",
            "ticks": ""
           },
           "baxis": {
            "gridcolor": "white",
            "linecolor": "white",
            "ticks": ""
           },
           "bgcolor": "#E5ECF6",
           "caxis": {
            "gridcolor": "white",
            "linecolor": "white",
            "ticks": ""
           }
          },
          "title": {
           "x": 0.05
          },
          "xaxis": {
           "automargin": true,
           "gridcolor": "white",
           "linecolor": "white",
           "ticks": "",
           "title": {
            "standoff": 15
           },
           "zerolinecolor": "white",
           "zerolinewidth": 2
          },
          "yaxis": {
           "automargin": true,
           "gridcolor": "white",
           "linecolor": "white",
           "ticks": "",
           "title": {
            "standoff": 15
           },
           "zerolinecolor": "white",
           "zerolinewidth": 2
          }
         }
        },
        "title": {
         "text": "Input marginal probabilities"
        },
        "xaxis": {
         "anchor": "y",
         "domain": [
          0,
          1
         ],
         "title": {
          "text": "x"
         }
        },
        "yaxis": {
         "anchor": "x",
         "domain": [
          0,
          1
         ],
         "title": {
          "text": "y"
         }
        }
       }
      }
     },
     "metadata": {},
     "output_type": "display_data"
    },
    {
     "data": {
      "application/vnd.plotly.v1+json": {
       "config": {
        "plotlyServerURL": "https://plot.ly"
       },
       "data": [
        {
         "hovertemplate": "x=%{x}<br>y=%{y}<extra></extra>",
         "legendgroup": "",
         "marker": {
          "color": "#636efa",
          "pattern": {
           "shape": ""
          }
         },
         "name": "",
         "orientation": "v",
         "showlegend": false,
         "textposition": "auto",
         "type": "bar",
         "x": [
          "LISINOPRIL",
          "SIMVASTATIN",
          "METOPROLOL",
          "METFORMIN",
          "LEVOTHYROXINE",
          "AMLODIPINE",
          "HYDROCHLOROTHIAZIDE",
          "FUROSEMIDE",
          "ATORVASTATIN",
          "OMEPRAZOLE",
          "ATENOLOL",
          "GLIPIZIDE",
          "ALBUTEROL",
          "WARFARIN",
          "ASPIRIN",
          "POTASSIUM CHLORIDE",
          "ESOMEPRAZOLE",
          "CLOPIDOGREL",
          "CARVEDILOL",
          "VALSARTAN",
          "LOSARTAN",
          "ROSUVASTATIN",
          "GABAPENTIN",
          "LOVASTATIN",
          "PIOGLITAZONE",
          "RANITIDINE",
          "PRAVASTATIN",
          "TRAMADOL",
          "IBUPROFEN",
          "INSULIN GLARGINE",
          "CITALOPRAM",
          "ALENDRONATE",
          "ALLOPURINOL",
          "MONTELUKAST",
          "FEXOFENADINE",
          "ZOLPIDEM",
          "TAMSULOSIN",
          "SERTRALINE",
          "FLUTICASONE NASAL",
          "PREDNISONE"
         ],
         "xaxis": "x",
         "y": {
          "bdata": "s193uvPE1z9hFto5zQLWP917uOS4U9I/t0JYjSWs0T/gZYaNsn7LP4Dz4sRXO8o/CvX0EfjDyz+MEYlCy7rFP4oGKXgKucQ/gSBAho4dxD80ETY8vVLEPwIMy59vC8A/fVwbKsb5uz/nyMovgzG6P6huLv62J7g/vK/Khcq/tj9A+5EiMqy2P0zChTyCG7U/g6Pk1TkGtD8bKzHPSlq1Px0AcVevIrM/0Jz1KcdksT+l12ZjJeaxP4/C9Shcj7I/bhlwlpLlsD/U8ZiByvivP1FoWfePhbA/SS7/If32rT+iDivc8pGsP20CDMufb6s/YoOFkzR/rD+k4ZS5+UasP7afjPFh9qo//fohNlg4oT8iizTxDvCkP12HakqyDqc/qgzjbhCtpT+oOA68Wu6kP0m+EkiJXaM/B7ZKsDicoT8=",
          "dtype": "f8"
         },
         "yaxis": "y"
        }
       ],
       "layout": {
        "barmode": "relative",
        "legend": {
         "tracegroupgap": 0
        },
        "template": {
         "data": {
          "bar": [
           {
            "error_x": {
             "color": "#2a3f5f"
            },
            "error_y": {
             "color": "#2a3f5f"
            },
            "marker": {
             "line": {
              "color": "#E5ECF6",
              "width": 0.5
             },
             "pattern": {
              "fillmode": "overlay",
              "size": 10,
              "solidity": 0.2
             }
            },
            "type": "bar"
           }
          ],
          "barpolar": [
           {
            "marker": {
             "line": {
              "color": "#E5ECF6",
              "width": 0.5
             },
             "pattern": {
              "fillmode": "overlay",
              "size": 10,
              "solidity": 0.2
             }
            },
            "type": "barpolar"
           }
          ],
          "carpet": [
           {
            "aaxis": {
             "endlinecolor": "#2a3f5f",
             "gridcolor": "white",
             "linecolor": "white",
             "minorgridcolor": "white",
             "startlinecolor": "#2a3f5f"
            },
            "baxis": {
             "endlinecolor": "#2a3f5f",
             "gridcolor": "white",
             "linecolor": "white",
             "minorgridcolor": "white",
             "startlinecolor": "#2a3f5f"
            },
            "type": "carpet"
           }
          ],
          "choropleth": [
           {
            "colorbar": {
             "outlinewidth": 0,
             "ticks": ""
            },
            "type": "choropleth"
           }
          ],
          "contour": [
           {
            "colorbar": {
             "outlinewidth": 0,
             "ticks": ""
            },
            "colorscale": [
             [
              0,
              "#0d0887"
             ],
             [
              0.1111111111111111,
              "#46039f"
             ],
             [
              0.2222222222222222,
              "#7201a8"
             ],
             [
              0.3333333333333333,
              "#9c179e"
             ],
             [
              0.4444444444444444,
              "#bd3786"
             ],
             [
              0.5555555555555556,
              "#d8576b"
             ],
             [
              0.6666666666666666,
              "#ed7953"
             ],
             [
              0.7777777777777778,
              "#fb9f3a"
             ],
             [
              0.8888888888888888,
              "#fdca26"
             ],
             [
              1,
              "#f0f921"
             ]
            ],
            "type": "contour"
           }
          ],
          "contourcarpet": [
           {
            "colorbar": {
             "outlinewidth": 0,
             "ticks": ""
            },
            "type": "contourcarpet"
           }
          ],
          "heatmap": [
           {
            "colorbar": {
             "outlinewidth": 0,
             "ticks": ""
            },
            "colorscale": [
             [
              0,
              "#0d0887"
             ],
             [
              0.1111111111111111,
              "#46039f"
             ],
             [
              0.2222222222222222,
              "#7201a8"
             ],
             [
              0.3333333333333333,
              "#9c179e"
             ],
             [
              0.4444444444444444,
              "#bd3786"
             ],
             [
              0.5555555555555556,
              "#d8576b"
             ],
             [
              0.6666666666666666,
              "#ed7953"
             ],
             [
              0.7777777777777778,
              "#fb9f3a"
             ],
             [
              0.8888888888888888,
              "#fdca26"
             ],
             [
              1,
              "#f0f921"
             ]
            ],
            "type": "heatmap"
           }
          ],
          "histogram": [
           {
            "marker": {
             "pattern": {
              "fillmode": "overlay",
              "size": 10,
              "solidity": 0.2
             }
            },
            "type": "histogram"
           }
          ],
          "histogram2d": [
           {
            "colorbar": {
             "outlinewidth": 0,
             "ticks": ""
            },
            "colorscale": [
             [
              0,
              "#0d0887"
             ],
             [
              0.1111111111111111,
              "#46039f"
             ],
             [
              0.2222222222222222,
              "#7201a8"
             ],
             [
              0.3333333333333333,
              "#9c179e"
             ],
             [
              0.4444444444444444,
              "#bd3786"
             ],
             [
              0.5555555555555556,
              "#d8576b"
             ],
             [
              0.6666666666666666,
              "#ed7953"
             ],
             [
              0.7777777777777778,
              "#fb9f3a"
             ],
             [
              0.8888888888888888,
              "#fdca26"
             ],
             [
              1,
              "#f0f921"
             ]
            ],
            "type": "histogram2d"
           }
          ],
          "histogram2dcontour": [
           {
            "colorbar": {
             "outlinewidth": 0,
             "ticks": ""
            },
            "colorscale": [
             [
              0,
              "#0d0887"
             ],
             [
              0.1111111111111111,
              "#46039f"
             ],
             [
              0.2222222222222222,
              "#7201a8"
             ],
             [
              0.3333333333333333,
              "#9c179e"
             ],
             [
              0.4444444444444444,
              "#bd3786"
             ],
             [
              0.5555555555555556,
              "#d8576b"
             ],
             [
              0.6666666666666666,
              "#ed7953"
             ],
             [
              0.7777777777777778,
              "#fb9f3a"
             ],
             [
              0.8888888888888888,
              "#fdca26"
             ],
             [
              1,
              "#f0f921"
             ]
            ],
            "type": "histogram2dcontour"
           }
          ],
          "mesh3d": [
           {
            "colorbar": {
             "outlinewidth": 0,
             "ticks": ""
            },
            "type": "mesh3d"
           }
          ],
          "parcoords": [
           {
            "line": {
             "colorbar": {
              "outlinewidth": 0,
              "ticks": ""
             }
            },
            "type": "parcoords"
           }
          ],
          "pie": [
           {
            "automargin": true,
            "type": "pie"
           }
          ],
          "scatter": [
           {
            "fillpattern": {
             "fillmode": "overlay",
             "size": 10,
             "solidity": 0.2
            },
            "type": "scatter"
           }
          ],
          "scatter3d": [
           {
            "line": {
             "colorbar": {
              "outlinewidth": 0,
              "ticks": ""
             }
            },
            "marker": {
             "colorbar": {
              "outlinewidth": 0,
              "ticks": ""
             }
            },
            "type": "scatter3d"
           }
          ],
          "scattercarpet": [
           {
            "marker": {
             "colorbar": {
              "outlinewidth": 0,
              "ticks": ""
             }
            },
            "type": "scattercarpet"
           }
          ],
          "scattergeo": [
           {
            "marker": {
             "colorbar": {
              "outlinewidth": 0,
              "ticks": ""
             }
            },
            "type": "scattergeo"
           }
          ],
          "scattergl": [
           {
            "marker": {
             "colorbar": {
              "outlinewidth": 0,
              "ticks": ""
             }
            },
            "type": "scattergl"
           }
          ],
          "scattermap": [
           {
            "marker": {
             "colorbar": {
              "outlinewidth": 0,
              "ticks": ""
             }
            },
            "type": "scattermap"
           }
          ],
          "scattermapbox": [
           {
            "marker": {
             "colorbar": {
              "outlinewidth": 0,
              "ticks": ""
             }
            },
            "type": "scattermapbox"
           }
          ],
          "scatterpolar": [
           {
            "marker": {
             "colorbar": {
              "outlinewidth": 0,
              "ticks": ""
             }
            },
            "type": "scatterpolar"
           }
          ],
          "scatterpolargl": [
           {
            "marker": {
             "colorbar": {
              "outlinewidth": 0,
              "ticks": ""
             }
            },
            "type": "scatterpolargl"
           }
          ],
          "scatterternary": [
           {
            "marker": {
             "colorbar": {
              "outlinewidth": 0,
              "ticks": ""
             }
            },
            "type": "scatterternary"
           }
          ],
          "surface": [
           {
            "colorbar": {
             "outlinewidth": 0,
             "ticks": ""
            },
            "colorscale": [
             [
              0,
              "#0d0887"
             ],
             [
              0.1111111111111111,
              "#46039f"
             ],
             [
              0.2222222222222222,
              "#7201a8"
             ],
             [
              0.3333333333333333,
              "#9c179e"
             ],
             [
              0.4444444444444444,
              "#bd3786"
             ],
             [
              0.5555555555555556,
              "#d8576b"
             ],
             [
              0.6666666666666666,
              "#ed7953"
             ],
             [
              0.7777777777777778,
              "#fb9f3a"
             ],
             [
              0.8888888888888888,
              "#fdca26"
             ],
             [
              1,
              "#f0f921"
             ]
            ],
            "type": "surface"
           }
          ],
          "table": [
           {
            "cells": {
             "fill": {
              "color": "#EBF0F8"
             },
             "line": {
              "color": "white"
             }
            },
            "header": {
             "fill": {
              "color": "#C8D4E3"
             },
             "line": {
              "color": "white"
             }
            },
            "type": "table"
           }
          ]
         },
         "layout": {
          "annotationdefaults": {
           "arrowcolor": "#2a3f5f",
           "arrowhead": 0,
           "arrowwidth": 1
          },
          "autotypenumbers": "strict",
          "coloraxis": {
           "colorbar": {
            "outlinewidth": 0,
            "ticks": ""
           }
          },
          "colorscale": {
           "diverging": [
            [
             0,
             "#8e0152"
            ],
            [
             0.1,
             "#c51b7d"
            ],
            [
             0.2,
             "#de77ae"
            ],
            [
             0.3,
             "#f1b6da"
            ],
            [
             0.4,
             "#fde0ef"
            ],
            [
             0.5,
             "#f7f7f7"
            ],
            [
             0.6,
             "#e6f5d0"
            ],
            [
             0.7,
             "#b8e186"
            ],
            [
             0.8,
             "#7fbc41"
            ],
            [
             0.9,
             "#4d9221"
            ],
            [
             1,
             "#276419"
            ]
           ],
           "sequential": [
            [
             0,
             "#0d0887"
            ],
            [
             0.1111111111111111,
             "#46039f"
            ],
            [
             0.2222222222222222,
             "#7201a8"
            ],
            [
             0.3333333333333333,
             "#9c179e"
            ],
            [
             0.4444444444444444,
             "#bd3786"
            ],
            [
             0.5555555555555556,
             "#d8576b"
            ],
            [
             0.6666666666666666,
             "#ed7953"
            ],
            [
             0.7777777777777778,
             "#fb9f3a"
            ],
            [
             0.8888888888888888,
             "#fdca26"
            ],
            [
             1,
             "#f0f921"
            ]
           ],
           "sequentialminus": [
            [
             0,
             "#0d0887"
            ],
            [
             0.1111111111111111,
             "#46039f"
            ],
            [
             0.2222222222222222,
             "#7201a8"
            ],
            [
             0.3333333333333333,
             "#9c179e"
            ],
            [
             0.4444444444444444,
             "#bd3786"
            ],
            [
             0.5555555555555556,
             "#d8576b"
            ],
            [
             0.6666666666666666,
             "#ed7953"
            ],
            [
             0.7777777777777778,
             "#fb9f3a"
            ],
            [
             0.8888888888888888,
             "#fdca26"
            ],
            [
             1,
             "#f0f921"
            ]
           ]
          },
          "colorway": [
           "#636efa",
           "#EF553B",
           "#00cc96",
           "#ab63fa",
           "#FFA15A",
           "#19d3f3",
           "#FF6692",
           "#B6E880",
           "#FF97FF",
           "#FECB52"
          ],
          "font": {
           "color": "#2a3f5f"
          },
          "geo": {
           "bgcolor": "white",
           "lakecolor": "white",
           "landcolor": "#E5ECF6",
           "showlakes": true,
           "showland": true,
           "subunitcolor": "white"
          },
          "hoverlabel": {
           "align": "left"
          },
          "hovermode": "closest",
          "mapbox": {
           "style": "light"
          },
          "paper_bgcolor": "white",
          "plot_bgcolor": "#E5ECF6",
          "polar": {
           "angularaxis": {
            "gridcolor": "white",
            "linecolor": "white",
            "ticks": ""
           },
           "bgcolor": "#E5ECF6",
           "radialaxis": {
            "gridcolor": "white",
            "linecolor": "white",
            "ticks": ""
           }
          },
          "scene": {
           "xaxis": {
            "backgroundcolor": "#E5ECF6",
            "gridcolor": "white",
            "gridwidth": 2,
            "linecolor": "white",
            "showbackground": true,
            "ticks": "",
            "zerolinecolor": "white"
           },
           "yaxis": {
            "backgroundcolor": "#E5ECF6",
            "gridcolor": "white",
            "gridwidth": 2,
            "linecolor": "white",
            "showbackground": true,
            "ticks": "",
            "zerolinecolor": "white"
           },
           "zaxis": {
            "backgroundcolor": "#E5ECF6",
            "gridcolor": "white",
            "gridwidth": 2,
            "linecolor": "white",
            "showbackground": true,
            "ticks": "",
            "zerolinecolor": "white"
           }
          },
          "shapedefaults": {
           "line": {
            "color": "#2a3f5f"
           }
          },
          "ternary": {
           "aaxis": {
            "gridcolor": "white",
            "linecolor": "white",
            "ticks": ""
           },
           "baxis": {
            "gridcolor": "white",
            "linecolor": "white",
            "ticks": ""
           },
           "bgcolor": "#E5ECF6",
           "caxis": {
            "gridcolor": "white",
            "linecolor": "white",
            "ticks": ""
           }
          },
          "title": {
           "x": 0.05
          },
          "xaxis": {
           "automargin": true,
           "gridcolor": "white",
           "linecolor": "white",
           "ticks": "",
           "title": {
            "standoff": 15
           },
           "zerolinecolor": "white",
           "zerolinewidth": 2
          },
          "yaxis": {
           "automargin": true,
           "gridcolor": "white",
           "linecolor": "white",
           "ticks": "",
           "title": {
            "standoff": 15
           },
           "zerolinecolor": "white",
           "zerolinewidth": 2
          }
         }
        },
        "title": {
         "text": "Sampled marginal probabilities"
        },
        "xaxis": {
         "anchor": "y",
         "categoryarray": [
          "LISINOPRIL",
          "SIMVASTATIN",
          "METOPROLOL",
          "METFORMIN",
          "LEVOTHYROXINE",
          "AMLODIPINE",
          "HYDROCHLOROTHIAZIDE",
          "FUROSEMIDE",
          "ATORVASTATIN",
          "OMEPRAZOLE",
          "ATENOLOL",
          "GLIPIZIDE",
          "ALBUTEROL",
          "WARFARIN",
          "ASPIRIN",
          "POTASSIUM CHLORIDE",
          "ESOMEPRAZOLE",
          "CLOPIDOGREL",
          "CARVEDILOL",
          "VALSARTAN",
          "LOSARTAN",
          "ROSUVASTATIN",
          "GABAPENTIN",
          "LOVASTATIN",
          "PIOGLITAZONE",
          "RANITIDINE",
          "PRAVASTATIN",
          "TRAMADOL",
          "IBUPROFEN",
          "INSULIN GLARGINE",
          "CITALOPRAM",
          "ALENDRONATE",
          "ALLOPURINOL",
          "MONTELUKAST",
          "FEXOFENADINE",
          "ZOLPIDEM",
          "TAMSULOSIN",
          "SERTRALINE",
          "FLUTICASONE NASAL",
          "PREDNISONE"
         ],
         "categoryorder": "array",
         "domain": [
          0,
          1
         ],
         "title": {
          "text": "x"
         }
        },
        "yaxis": {
         "anchor": "x",
         "domain": [
          0,
          1
         ],
         "title": {
          "text": "y"
         }
        }
       }
      }
     },
     "metadata": {},
     "output_type": "display_data"
    }
   ],
   "source": [
    "feature_probs = np.loadtxt('feat_probs_smoother.csv', delimiter=',')\n",
    "\n",
    "nsamples = 1000000\n",
    "sample_2, _ = generate_multivariate_binary(40, nsamples, feature_probs, correlation_matrix, (3, 6))\n",
    "visualize(sample_2)"
   ]
  },
  {
   "cell_type": "code",
   "execution_count": 9,
   "metadata": {},
   "outputs": [
    {
     "data": {
      "application/vnd.plotly.v1+json": {
       "config": {
        "plotlyServerURL": "https://plot.ly"
       },
       "data": [
        {
         "coloraxis": "coloraxis",
         "hovertemplate": "x: %{x}<br>y: %{y}<br>color: %{z}<extra></extra>",
         "name": "0",
         "type": "heatmap",
         "x": [
          "CARVEDILOL",
          "ESOMEPRAZOLE",
          "LEVOTHYROXINE",
          "TRAMADOL",
          "AMLODIPINE",
          "METOPROLOL",
          "OMEPRAZOLE",
          "SIMVASTATIN",
          "TAMSULOSIN",
          "ALENDRONATE",
          "ATORVASTATIN",
          "LISINOPRIL",
          "LOSARTAN",
          "SERTRALINE",
          "METFORMIN",
          "PIOGLITAZONE",
          "PRAVASTATIN",
          "FUROSEMIDE",
          "POTASSIUM CHLORIDE",
          "HYDROCHLOROTHIAZIDE",
          "ATENOLOL",
          "WARFARIN",
          "ASPIRIN",
          "LOVASTATIN",
          "ALBUTEROL",
          "GLIPIZIDE",
          "RANITIDINE",
          "GABAPENTIN",
          "INSULIN GLARGINE",
          "CLOPIDOGREL",
          "ZOLPIDEM",
          "ALLOPURINOL",
          "CITALOPRAM",
          "PREDNISONE",
          "ROSUVASTATIN",
          "VALSARTAN",
          "IBUPROFEN",
          "FEXOFENADINE",
          "MONTELUKAST",
          "FLUTICASONE NASAL"
         ],
         "xaxis": "x",
         "y": [
          "CARVEDILOL",
          "ESOMEPRAZOLE",
          "LEVOTHYROXINE",
          "TRAMADOL",
          "AMLODIPINE",
          "METOPROLOL",
          "OMEPRAZOLE",
          "SIMVASTATIN",
          "TAMSULOSIN",
          "ALENDRONATE",
          "ATORVASTATIN",
          "LISINOPRIL",
          "LOSARTAN",
          "SERTRALINE",
          "METFORMIN",
          "PIOGLITAZONE",
          "PRAVASTATIN",
          "FUROSEMIDE",
          "POTASSIUM CHLORIDE",
          "HYDROCHLOROTHIAZIDE",
          "ATENOLOL",
          "WARFARIN",
          "ASPIRIN",
          "LOVASTATIN",
          "ALBUTEROL",
          "GLIPIZIDE",
          "RANITIDINE",
          "GABAPENTIN",
          "INSULIN GLARGINE",
          "CLOPIDOGREL",
          "ZOLPIDEM",
          "ALLOPURINOL",
          "CITALOPRAM",
          "PREDNISONE",
          "ROSUVASTATIN",
          "VALSARTAN",
          "IBUPROFEN",
          "FEXOFENADINE",
          "MONTELUKAST",
          "FLUTICASONE NASAL"
         ],
         "yaxis": "y",
         "z": {
          "bdata": "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",
          "dtype": "f8",
          "shape": "40, 40"
         }
        }
       ],
       "layout": {
        "coloraxis": {
         "cmax": 1,
         "cmin": -1,
         "colorscale": [
          [
           0,
           "rgb(103,0,31)"
          ],
          [
           0.1,
           "rgb(178,24,43)"
          ],
          [
           0.2,
           "rgb(214,96,77)"
          ],
          [
           0.3,
           "rgb(244,165,130)"
          ],
          [
           0.4,
           "rgb(253,219,199)"
          ],
          [
           0.5,
           "rgb(247,247,247)"
          ],
          [
           0.6,
           "rgb(209,229,240)"
          ],
          [
           0.7,
           "rgb(146,197,222)"
          ],
          [
           0.8,
           "rgb(67,147,195)"
          ],
          [
           0.9,
           "rgb(33,102,172)"
          ],
          [
           1,
           "rgb(5,48,97)"
          ]
         ]
        },
        "template": {
         "data": {
          "bar": [
           {
            "error_x": {
             "color": "#2a3f5f"
            },
            "error_y": {
             "color": "#2a3f5f"
            },
            "marker": {
             "line": {
              "color": "#E5ECF6",
              "width": 0.5
             },
             "pattern": {
              "fillmode": "overlay",
              "size": 10,
              "solidity": 0.2
             }
            },
            "type": "bar"
           }
          ],
          "barpolar": [
           {
            "marker": {
             "line": {
              "color": "#E5ECF6",
              "width": 0.5
             },
             "pattern": {
              "fillmode": "overlay",
              "size": 10,
              "solidity": 0.2
             }
            },
            "type": "barpolar"
           }
          ],
          "carpet": [
           {
            "aaxis": {
             "endlinecolor": "#2a3f5f",
             "gridcolor": "white",
             "linecolor": "white",
             "minorgridcolor": "white",
             "startlinecolor": "#2a3f5f"
            },
            "baxis": {
             "endlinecolor": "#2a3f5f",
             "gridcolor": "white",
             "linecolor": "white",
             "minorgridcolor": "white",
             "startlinecolor": "#2a3f5f"
            },
            "type": "carpet"
           }
          ],
          "choropleth": [
           {
            "colorbar": {
             "outlinewidth": 0,
             "ticks": ""
            },
            "type": "choropleth"
           }
          ],
          "contour": [
           {
            "colorbar": {
             "outlinewidth": 0,
             "ticks": ""
            },
            "colorscale": [
             [
              0,
              "#0d0887"
             ],
             [
              0.1111111111111111,
              "#46039f"
             ],
             [
              0.2222222222222222,
              "#7201a8"
             ],
             [
              0.3333333333333333,
              "#9c179e"
             ],
             [
              0.4444444444444444,
              "#bd3786"
             ],
             [
              0.5555555555555556,
              "#d8576b"
             ],
             [
              0.6666666666666666,
              "#ed7953"
             ],
             [
              0.7777777777777778,
              "#fb9f3a"
             ],
             [
              0.8888888888888888,
              "#fdca26"
             ],
             [
              1,
              "#f0f921"
             ]
            ],
            "type": "contour"
           }
          ],
          "contourcarpet": [
           {
            "colorbar": {
             "outlinewidth": 0,
             "ticks": ""
            },
            "type": "contourcarpet"
           }
          ],
          "heatmap": [
           {
            "colorbar": {
             "outlinewidth": 0,
             "ticks": ""
            },
            "colorscale": [
             [
              0,
              "#0d0887"
             ],
             [
              0.1111111111111111,
              "#46039f"
             ],
             [
              0.2222222222222222,
              "#7201a8"
             ],
             [
              0.3333333333333333,
              "#9c179e"
             ],
             [
              0.4444444444444444,
              "#bd3786"
             ],
             [
              0.5555555555555556,
              "#d8576b"
             ],
             [
              0.6666666666666666,
              "#ed7953"
             ],
             [
              0.7777777777777778,
              "#fb9f3a"
             ],
             [
              0.8888888888888888,
              "#fdca26"
             ],
             [
              1,
              "#f0f921"
             ]
            ],
            "type": "heatmap"
           }
          ],
          "histogram": [
           {
            "marker": {
             "pattern": {
              "fillmode": "overlay",
              "size": 10,
              "solidity": 0.2
             }
            },
            "type": "histogram"
           }
          ],
          "histogram2d": [
           {
            "colorbar": {
             "outlinewidth": 0,
             "ticks": ""
            },
            "colorscale": [
             [
              0,
              "#0d0887"
             ],
             [
              0.1111111111111111,
              "#46039f"
             ],
             [
              0.2222222222222222,
              "#7201a8"
             ],
             [
              0.3333333333333333,
              "#9c179e"
             ],
             [
              0.4444444444444444,
              "#bd3786"
             ],
             [
              0.5555555555555556,
              "#d8576b"
             ],
             [
              0.6666666666666666,
              "#ed7953"
             ],
             [
              0.7777777777777778,
              "#fb9f3a"
             ],
             [
              0.8888888888888888,
              "#fdca26"
             ],
             [
              1,
              "#f0f921"
             ]
            ],
            "type": "histogram2d"
           }
          ],
          "histogram2dcontour": [
           {
            "colorbar": {
             "outlinewidth": 0,
             "ticks": ""
            },
            "colorscale": [
             [
              0,
              "#0d0887"
             ],
             [
              0.1111111111111111,
              "#46039f"
             ],
             [
              0.2222222222222222,
              "#7201a8"
             ],
             [
              0.3333333333333333,
              "#9c179e"
             ],
             [
              0.4444444444444444,
              "#bd3786"
             ],
             [
              0.5555555555555556,
              "#d8576b"
             ],
             [
              0.6666666666666666,
              "#ed7953"
             ],
             [
              0.7777777777777778,
              "#fb9f3a"
             ],
             [
              0.8888888888888888,
              "#fdca26"
             ],
             [
              1,
              "#f0f921"
             ]
            ],
            "type": "histogram2dcontour"
           }
          ],
          "mesh3d": [
           {
            "colorbar": {
             "outlinewidth": 0,
             "ticks": ""
            },
            "type": "mesh3d"
           }
          ],
          "parcoords": [
           {
            "line": {
             "colorbar": {
              "outlinewidth": 0,
              "ticks": ""
             }
            },
            "type": "parcoords"
           }
          ],
          "pie": [
           {
            "automargin": true,
            "type": "pie"
           }
          ],
          "scatter": [
           {
            "fillpattern": {
             "fillmode": "overlay",
             "size": 10,
             "solidity": 0.2
            },
            "type": "scatter"
           }
          ],
          "scatter3d": [
           {
            "line": {
             "colorbar": {
              "outlinewidth": 0,
              "ticks": ""
             }
            },
            "marker": {
             "colorbar": {
              "outlinewidth": 0,
              "ticks": ""
             }
            },
            "type": "scatter3d"
           }
          ],
          "scattercarpet": [
           {
            "marker": {
             "colorbar": {
              "outlinewidth": 0,
              "ticks": ""
             }
            },
            "type": "scattercarpet"
           }
          ],
          "scattergeo": [
           {
            "marker": {
             "colorbar": {
              "outlinewidth": 0,
              "ticks": ""
             }
            },
            "type": "scattergeo"
           }
          ],
          "scattergl": [
           {
            "marker": {
             "colorbar": {
              "outlinewidth": 0,
              "ticks": ""
             }
            },
            "type": "scattergl"
           }
          ],
          "scattermap": [
           {
            "marker": {
             "colorbar": {
              "outlinewidth": 0,
              "ticks": ""
             }
            },
            "type": "scattermap"
           }
          ],
          "scattermapbox": [
           {
            "marker": {
             "colorbar": {
              "outlinewidth": 0,
              "ticks": ""
             }
            },
            "type": "scattermapbox"
           }
          ],
          "scatterpolar": [
           {
            "marker": {
             "colorbar": {
              "outlinewidth": 0,
              "ticks": ""
             }
            },
            "type": "scatterpolar"
           }
          ],
          "scatterpolargl": [
           {
            "marker": {
             "colorbar": {
              "outlinewidth": 0,
              "ticks": ""
             }
            },
            "type": "scatterpolargl"
           }
          ],
          "scatterternary": [
           {
            "marker": {
             "colorbar": {
              "outlinewidth": 0,
              "ticks": ""
             }
            },
            "type": "scatterternary"
           }
          ],
          "surface": [
           {
            "colorbar": {
             "outlinewidth": 0,
             "ticks": ""
            },
            "colorscale": [
             [
              0,
              "#0d0887"
             ],
             [
              0.1111111111111111,
              "#46039f"
             ],
             [
              0.2222222222222222,
              "#7201a8"
             ],
             [
              0.3333333333333333,
              "#9c179e"
             ],
             [
              0.4444444444444444,
              "#bd3786"
             ],
             [
              0.5555555555555556,
              "#d8576b"
             ],
             [
              0.6666666666666666,
              "#ed7953"
             ],
             [
              0.7777777777777778,
              "#fb9f3a"
             ],
             [
              0.8888888888888888,
              "#fdca26"
             ],
             [
              1,
              "#f0f921"
             ]
            ],
            "type": "surface"
           }
          ],
          "table": [
           {
            "cells": {
             "fill": {
              "color": "#EBF0F8"
             },
             "line": {
              "color": "white"
             }
            },
            "header": {
             "fill": {
              "color": "#C8D4E3"
             },
             "line": {
              "color": "white"
             }
            },
            "type": "table"
           }
          ]
         },
         "layout": {
          "annotationdefaults": {
           "arrowcolor": "#2a3f5f",
           "arrowhead": 0,
           "arrowwidth": 1
          },
          "autotypenumbers": "strict",
          "coloraxis": {
           "colorbar": {
            "outlinewidth": 0,
            "ticks": ""
           }
          },
          "colorscale": {
           "diverging": [
            [
             0,
             "#8e0152"
            ],
            [
             0.1,
             "#c51b7d"
            ],
            [
             0.2,
             "#de77ae"
            ],
            [
             0.3,
             "#f1b6da"
            ],
            [
             0.4,
             "#fde0ef"
            ],
            [
             0.5,
             "#f7f7f7"
            ],
            [
             0.6,
             "#e6f5d0"
            ],
            [
             0.7,
             "#b8e186"
            ],
            [
             0.8,
             "#7fbc41"
            ],
            [
             0.9,
             "#4d9221"
            ],
            [
             1,
             "#276419"
            ]
           ],
           "sequential": [
            [
             0,
             "#0d0887"
            ],
            [
             0.1111111111111111,
             "#46039f"
            ],
            [
             0.2222222222222222,
             "#7201a8"
            ],
            [
             0.3333333333333333,
             "#9c179e"
            ],
            [
             0.4444444444444444,
             "#bd3786"
            ],
            [
             0.5555555555555556,
             "#d8576b"
            ],
            [
             0.6666666666666666,
             "#ed7953"
            ],
            [
             0.7777777777777778,
             "#fb9f3a"
            ],
            [
             0.8888888888888888,
             "#fdca26"
            ],
            [
             1,
             "#f0f921"
            ]
           ],
           "sequentialminus": [
            [
             0,
             "#0d0887"
            ],
            [
             0.1111111111111111,
             "#46039f"
            ],
            [
             0.2222222222222222,
             "#7201a8"
            ],
            [
             0.3333333333333333,
             "#9c179e"
            ],
            [
             0.4444444444444444,
             "#bd3786"
            ],
            [
             0.5555555555555556,
             "#d8576b"
            ],
            [
             0.6666666666666666,
             "#ed7953"
            ],
            [
             0.7777777777777778,
             "#fb9f3a"
            ],
            [
             0.8888888888888888,
             "#fdca26"
            ],
            [
             1,
             "#f0f921"
            ]
           ]
          },
          "colorway": [
           "#636efa",
           "#EF553B",
           "#00cc96",
           "#ab63fa",
           "#FFA15A",
           "#19d3f3",
           "#FF6692",
           "#B6E880",
           "#FF97FF",
           "#FECB52"
          ],
          "font": {
           "color": "#2a3f5f"
          },
          "geo": {
           "bgcolor": "white",
           "lakecolor": "white",
           "landcolor": "#E5ECF6",
           "showlakes": true,
           "showland": true,
           "subunitcolor": "white"
          },
          "hoverlabel": {
           "align": "left"
          },
          "hovermode": "closest",
          "mapbox": {
           "style": "light"
          },
          "paper_bgcolor": "white",
          "plot_bgcolor": "#E5ECF6",
          "polar": {
           "angularaxis": {
            "gridcolor": "white",
            "linecolor": "white",
            "ticks": ""
           },
           "bgcolor": "#E5ECF6",
           "radialaxis": {
            "gridcolor": "white",
            "linecolor": "white",
            "ticks": ""
           }
          },
          "scene": {
           "xaxis": {
            "backgroundcolor": "#E5ECF6",
            "gridcolor": "white",
            "gridwidth": 2,
            "linecolor": "white",
            "showbackground": true,
            "ticks": "",
            "zerolinecolor": "white"
           },
           "yaxis": {
            "backgroundcolor": "#E5ECF6",
            "gridcolor": "white",
            "gridwidth": 2,
            "linecolor": "white",
            "showbackground": true,
            "ticks": "",
            "zerolinecolor": "white"
           },
           "zaxis": {
            "backgroundcolor": "#E5ECF6",
            "gridcolor": "white",
            "gridwidth": 2,
            "linecolor": "white",
            "showbackground": true,
            "ticks": "",
            "zerolinecolor": "white"
           }
          },
          "shapedefaults": {
           "line": {
            "color": "#2a3f5f"
           }
          },
          "ternary": {
           "aaxis": {
            "gridcolor": "white",
            "linecolor": "white",
            "ticks": ""
           },
           "baxis": {
            "gridcolor": "white",
            "linecolor": "white",
            "ticks": ""
           },
           "bgcolor": "#E5ECF6",
           "caxis": {
            "gridcolor": "white",
            "linecolor": "white",
            "ticks": ""
           }
          },
          "title": {
           "x": 0.05
          },
          "xaxis": {
           "automargin": true,
           "gridcolor": "white",
           "linecolor": "white",
           "ticks": "",
           "title": {
            "standoff": 15
           },
           "zerolinecolor": "white",
           "zerolinewidth": 2
          },
          "yaxis": {
           "automargin": true,
           "gridcolor": "white",
           "linecolor": "white",
           "ticks": "",
           "title": {
            "standoff": 15
           },
           "zerolinecolor": "white",
           "zerolinewidth": 2
          }
         }
        },
        "title": {
         "text": "Input correlation matrix"
        },
        "xaxis": {
         "anchor": "y",
         "constrain": "domain",
         "domain": [
          0,
          1
         ],
         "scaleanchor": "y"
        },
        "yaxis": {
         "anchor": "x",
         "autorange": "reversed",
         "constrain": "domain",
         "domain": [
          0,
          1
         ]
        }
       }
      }
     },
     "metadata": {},
     "output_type": "display_data"
    },
    {
     "data": {
      "application/vnd.plotly.v1+json": {
       "config": {
        "plotlyServerURL": "https://plot.ly"
       },
       "data": [
        {
         "coloraxis": "coloraxis",
         "hovertemplate": "x: %{x}<br>y: %{y}<br>color: %{z}<extra></extra>",
         "name": "0",
         "type": "heatmap",
         "x": [
          "CARVEDILOL",
          "ESOMEPRAZOLE",
          "LEVOTHYROXINE",
          "TRAMADOL",
          "AMLODIPINE",
          "METOPROLOL",
          "OMEPRAZOLE",
          "SIMVASTATIN",
          "TAMSULOSIN",
          "ALENDRONATE",
          "ATORVASTATIN",
          "LISINOPRIL",
          "LOSARTAN",
          "SERTRALINE",
          "METFORMIN",
          "PIOGLITAZONE",
          "PRAVASTATIN",
          "FUROSEMIDE",
          "POTASSIUM CHLORIDE",
          "HYDROCHLOROTHIAZIDE",
          "ATENOLOL",
          "WARFARIN",
          "ASPIRIN",
          "LOVASTATIN",
          "ALBUTEROL",
          "GLIPIZIDE",
          "RANITIDINE",
          "GABAPENTIN",
          "INSULIN GLARGINE",
          "CLOPIDOGREL",
          "ZOLPIDEM",
          "ALLOPURINOL",
          "CITALOPRAM",
          "PREDNISONE",
          "ROSUVASTATIN",
          "VALSARTAN",
          "IBUPROFEN",
          "FEXOFENADINE",
          "MONTELUKAST",
          "FLUTICASONE NASAL"
         ],
         "xaxis": "x",
         "y": [
          "CARVEDILOL",
          "ESOMEPRAZOLE",
          "LEVOTHYROXINE",
          "TRAMADOL",
          "AMLODIPINE",
          "METOPROLOL",
          "OMEPRAZOLE",
          "SIMVASTATIN",
          "TAMSULOSIN",
          "ALENDRONATE",
          "ATORVASTATIN",
          "LISINOPRIL",
          "LOSARTAN",
          "SERTRALINE",
          "METFORMIN",
          "PIOGLITAZONE",
          "PRAVASTATIN",
          "FUROSEMIDE",
          "POTASSIUM CHLORIDE",
          "HYDROCHLOROTHIAZIDE",
          "ATENOLOL",
          "WARFARIN",
          "ASPIRIN",
          "LOVASTATIN",
          "ALBUTEROL",
          "GLIPIZIDE",
          "RANITIDINE",
          "GABAPENTIN",
          "INSULIN GLARGINE",
          "CLOPIDOGREL",
          "ZOLPIDEM",
          "ALLOPURINOL",
          "CITALOPRAM",
          "PREDNISONE",
          "ROSUVASTATIN",
          "VALSARTAN",
          "IBUPROFEN",
          "FEXOFENADINE",
          "MONTELUKAST",
          "FLUTICASONE NASAL"
         ],
         "yaxis": "y",
         "z": {
          "bdata": "AAAAAAAAAACwhowQ4CeHv0BJmSPhjpm//VykBAgjn78TXlNy9dufv5nlKlq2ibm/xpj8hCmDZ7/rNSEcXNS0v51CYNr61Ji/6OwT6a/Wm7/iEVYg3GGIPzZ080eXJ5k/6gWZuhiiob8WlHE7uiihv0OwcMvnj7G/zAU3aU0MJj/lkDA4MzVnv2c6Pb9CRM0/eINC+POORr9FiLlQ/eSzv9d9BobzoaC/dmIZAPfzi7+HLVF+YkKdv9XL3W4DeIK/Wl03Q066p7/DXBTYvOSGv3GWO0Mz1Jq/6VMkXUmjob8AfcLvLCCIvzdwUov0Fqs/isKlxNvKmL+k0kPtKF2Ovyh1rzz07J+/Bemf99vdor+JBtFBicWtP6kAfYt08KW/b6kTjT8gm7/IHLS+TwGiv2T0OF2x2qG/cgpeDLjin7+whowQ4CeHvwAAAAAAAAAAdd8V9uWKhT/GF25nCwOav9epBpvL/YM/tg79BnO8db9TpLOsxzmhv7ZxPXyegLe/2RLKJtvFm79kU4Fyjw6cv7M6owP2qZc/6PU2Ce3XuL+zkklrO+lZv50NPl30pKY/oSskFvCqlL9ZHfq5bX6Bv04Fp87okoC/pZ2gfoXUob8kxab69XiWv/plZ9gEdre/Q8OaUQMGgD9uq5N8i0+ev4W9Bjw4mJS/6VEchZZ7mb8xql7SUy6Mv68wafjStpC/r6102oFOlr/QKjPokYmZvyWRN1sbYZi/1MqNsCjFnL9i3Cxs11Shv8BTjj60Ypa/frNy9ydYf78vCs6zwQ95v3srhraIzoE/w6txtiMysT8OPqP26VaZv4p6gbiV1aG/C5uTara1pD/oLvEBf8SEP0BJmSPhjpm/dd8V9uWKhT8AAAAAAACwvGbVH6Q2dJO/Q+wuilsjuL8Lxoetub+1v9O3wPUIQrs/5R+/Y4ctrb9KNZObrUujv/12wx6W9MY/+k2p6Vkdmz9K0sqI2Tenv2LJ6BMNNLO/qEYPu3dlsT/egNQs9cW3v24ivYye1aO/KDbMWuuZgT8oPbIdbuCJvxPY5Vs8J56/DlCNmb3Lrr+3S62zm8qjPwkYpSvZjp+/qBovfuU8ob+OehnRWJelP2dKtiRg16e/VBX8tmPJs78jTd5R1yWMvw4J0e0Yl5+/eGkXANvBk7+bGiMyRsy1v3cy4T6Pkak/VAVATnraor/IO9Xum/ulPx5DeQ4X/6G/ZeJWz3zsj7+Go+G6T4OPP3CVPoUuZKK/UsYNQYEem79ZwE6rziOmv58jONv7B5y//VykBAgjn7/FF25nCwOav2bVH6Q2dJO/AAAAAAAAAAAwy5JwRxuLv9OMfCs57pS/Sn/N9gYrUT+qYw7DLT6Xvw7ZUfpC5ZC/5kuJt/8vl78H+MjCqTyVv6Kd6MRUqpK/0r1/WYW5m797IS/iQpOZP8fLBT8jx5m/CIUVZg94lr/90z8c0LJ1P5jWQQLcN5O/Bv3RmW0ZlL/WBqMOJ3CXvzKYwbttb5G/g8y9Foe+lL/Du54n+NyOv38XMW9A0pi/v2BBctgYpb/qw3req8OZv2q+pzGkK4+/XIgA9iTWkD8q3UHKY02Rv4X4bTE4wJe/Y/U/TpBLiL+xaIZXqDmSv9zNNW0dypu/XpPmQ3+Knb92MsTpjKVzP02uzjA04ZW/PZ08w224jr/f1LplfS2gvwmpwja4Equ/AUYRBL71fz8TXlNy9dufv9ipBpvL/YM/Q+wuilsjuL8yy5JwRxuLvwAAAAAAAAAAsWXYXevXtD+sYZ5ReUi8vxD6RzgmjLG/CSXnBDR6or93zXYXO3adv4O3YFYdtHG/XUnMH+jjqb/jFf++DaPMP5QJelijsoy/bdJQ5X06s7/2eWQDnTGjv6vTmSrzZJo/aezBwoMahz/BoxTFc9SXv+oHYp71qro/woCWpSNzsj/d4eqM7p+Uv9RVdjOxQpi/c8QMsNgav7/Vdy5m+rGtv+YHhdgCcLi/BxJbyludkr9Qc6eU2jp2v4drpXhngaO/raN8cGo+tb/jyQJy4VSbv2zqQlzojpy/Ui7RogV/pb/l3ifv+QWXvyk6E+Lp7pM/cQtYASIMrT++XdDl+PScvz4lM1TuGZ6/I5alQCyaq7/9Tv2nM2CVv5nlKlq2ibm/tg79BnO8db8Lxoetub+1v9OMfCs57pS/sGXYXevXtD8AAAAAAAAAAKDw2Pafzrq/UTFd0yN9mr/3NrKEbLZ4Pz/U64n+dK+/PJkTluh1uj/X/Wi4/zWkv0AttLHe0Ju/G+SvOjT7ir8TPgTGSEq1vzG7Fj/2VLu/Em/zjeC4lz/Ei6kPLjalPyClO0Rvnpy/no/CEQnKkL/hcDeHSg26v0jre6neJrg/xbHmrFQucL/weOsF33O0v2gNMk+XdrC/sX1jCR/Zsr8vmoplpxOZv0RkIyQ8y5e/LA2QZ6CKnr9ceLUHzEzPP/VjLzMmOaS/vk4azg8cmL+p9eGjKz+Jv4Oqna67o6G/amnB6NTskb97kO7wY/KzP0BEpVu21qG/8lxCPTbxmL+h2AXuzuOxv2N5eBybjZi/xpj8hCmDZ79TpLOsxzmhv9K3wPUIQrs/S3/N9gYrUT+sYZ5ReUi8v6Dw2Pafzrq/AAAAAAAAAADLcO4sUYuZPy47QDmjc5A/k1+frkbTkD9qC0SZvliQP0iDzuZXl7O/LxaZwb3NdT/DIWKlxQKEv9ArQoiIJLe/ZRhlo+QElb/BDuklg2yrv/W2IZu2a6S/uAkbZubumL9oAVHgTgOyvykBDHVZ27Q/sxcvdxever9lY5FroO+dv5NywR4ZoHe/YdBR7whUmL+ITBpJcCqhv009GXiWmIS/D5KgK2BRcb/YW/oRABujv9JtN9SXzqe/jlUdFzCnmb/pfTX1GgaWv/SYf5Jd+7g/Yq/o8sIWo79NV4hiRLtlP0k09n8ZEqW/TvqkbaOfhT8iDCnwldabv7RP23NgEoW/xT5JKIZLmb/sNSEcXNS0v7dxPXyegLe/5R+/Y4ctrb+rYw7DLT6XvxD6RzgmjLG/UDFd0yN9mr/LcO4sUYuZPwAAAAAAAKC8+zptLV0XQr/w4CMly92zP9TcXRcuya6/1LCGLwTLyj9UDr+GLwG2v6trSPkEcJc/Gu5inTr+vz+cVPcXMZmsP2LZKgqut7e/o9HCMBXetr8gYuDSJfGOv6MPZ3JlpZE/zm2gS2Cysb+Uas0eewGRP3tOG1AtUoG/3BPImXwqtL8ViTkL15O5v00kxinPAa2/RHlx/k3Vlb+P3YvOYtSWv1MIJf5KYKa/L98sN67etz/DYsjAnHuRP33zef1F16E/k+alNvqdjj8k0RB7Ruu2v7bTrizlD7W/03KN9w62t7+tp/tC92VQP6BLwuaBZLe//k2iXle1uL/nJRKckmx7v5xCYNr61Ji/2BLKJtvFm79KNZObrUujvw7ZUfpC5ZC/CSXnBDR6or/3NrKEbLZ4Py47QDmjc5A/+zptLV0XQr8AAAAAAAAAADW/IqZCuZa/dj2bcD5RmD/lBnknKdqWP/PqyzREwZK/1mhiU4OYk79BwSimre+ov1cHwW+PHJi//wla1Baqkb8buMudqBGav5daHFCzZY+/FWmj+uxYZL8NW9UyN+Cdv+LpYHlmV3i/pd8PNc4qjb9UfisTQmGYv2q4yDwSf6S/85Arjsz4k7+wFPg3pj2Nv8/7NBv3PZ2/+RTw5VNflL/iSXk3TvyQv7lhRgtfCpa/+xdXJ1/Skr+RQN9+6oCbvzOs+Yba6p2/q6jI39cjkr9G64nzAV+Sv1630qRq3ZG/Dy+r/VWqnr/wnz1TMGikv3U7zDVVSpO/6OwT6a/Wm79jU4Fyjw6cv/x2wx6W9MY/5kuJt/8vl794zXYXO3advz7U64n+dK+/k1+frkbTkD/w4CMly92zPzW/IqZCuZa/AAAAAAAAsLyO2i74WcGYvwRhlONHBLS/L5C82EG5ob9YF0s/yz+pPzmI1YoN0ri/fhJFXIXjyr5g/RKivOOcvyQHCfNEL5y/bjZyqoA2mb9i+R68Fv6yv1KWmeCHW5a/PnR6VE0EjT/99BQcT26Wv0ys9TEoDIq/NubTfui2pb9rt6ahVByiv9bwvHGb3pW/g5QJG6RIlL95/gEBm8uVv8BWhhbQ+46/g73Aawrlab/R8iSxOpCPv8I689YEeYW/nkIpBRntnb+BwK0+6suhv5vxqYfwLpC/oNO776Knnb+bHg6ylJGgv1xOfyXW8Z6/Cv7XcYxol7/jEVYg3GGIP7M6owP2qZc/+U2p6Vkdmz8G+MjCqTyVv4O3YFYdtHG/PZkTluh1uj9pC0SZvliQP9TcXRcuya6/dz2bcD5RmD+O2i74WcGYvwAAAAAAALC8qhuozMNQtr8bBPw4KQgZP4297pijaZ2/vSzo/2Potr+t7d9Sv/Obv2GWZ9oNSq6/a6JQEwsHlb/vYn3NfLegv50dQzY+K66/+ZVTBiohdb84ecUsBByNv323mWk7aJS/v1WxKZYCvb+HOe/Dw4+xv2QAMtBaWaI/xJvCXMb6Vz+72EgsX5SEv+I5rAX/4IC/anaaAey+uD9u47Zqrw1Yv06d0GTA2JK/mc/t79fwo7+jjwzLZO+ev876+IB5faO/Y8Wgsdj9eT9kwTcY5AmXv5JYb3zj9J6/KK17tK5EsL8pkXkZZm6cvzd080eXJ5k/6fU2Ce3XuL9J0sqI2Tenv6Kd6MRUqpK/XUnMH+jjqb/X/Wi4/zWkv0mDzuZXl7O/1LCGLwTLyj/lBnknKdqWPwVhlONHBLS/qxuozMNQtr8AAAAAAACgvBN39i5KwLK/AURJvx56uL9IKbmSieLKP9UR/GnjWqy/fGwsw1Vgdr/rfc6Pkd9yPyjd6vrnTo+/s2upkZpW0D+SFDJlKCWqv29Krc05v7S/yRfSgYDxfr/8llqcpxqnP314/eKweru/MAQezgv7pb8fXNziqreAv6vv1EeyALu/CnqX6cGDlb/DzJQyylyOv8HeBVI9XKe/ZLxOunA8nD8BayZKM2i3v5paET0EDLW/r4ufpB1Xc7/LHqAT0s60v67ZVzAaRY6/KWzuPcl+tb/nLWcKEnG6v/qdeOE8jXW/6gWZuhiiob+ykklrO+lZv2PJ6BMNNLO/071/WYW5m7/jFf++DaPMPz8ttLHe0Ju/LxaZwb3NdT9UDr+GLwG2v/LqyzREwZK/L5C82EG5ob8bBPw4KQgZPxN39i5KwLK/AAAAAAAAAADzdQqHjmWdvwj9qSAJmo2/pMAp1Tslmr+VQuSBHB2TP7HxVlHG6aO/BeI1tbJskr/H9I8ICDSzP0uvRNqtQYs/z/UI32MBor8UYMIe/fmYv8X9uE6fMZO/2YDG7jKtrb/JX/c0UAOQPxLrC9/Uh5e/SvWg5Rgmkr8qZgt5SfVQPwXz3V4xULu/aoJA5c4UoL+FBNT0m3Z2v6YmANk6O5i/noLJRVCkl7996YZKdzKbvyJp/2bTMaC/QNbBgzn6lr/HOGdMntWUv1Pcnc9tOqq/nbemmCGTmr8WlHE7uiihv50NPl30pKY/qEYPu3dlsT98IS/iQpOZP5QJelijsoy/G+SvOjT7ir/EIWKlxQKEv6prSPkEcJc/1mhiU4OYk79YF0s/yz+pP4297pijaZ2/AURJvx56uL/zdQqHjmWdvwAAAAAAAAAAUbtS2cnHmr8cTXs+C+OKv3cBCasSPaC/6GucXx1QoL+y0SLxUGaSvzJBkuLR0Li/2nFjxShlor9BN7dzOBuIv+OIpUk5oJy/+xOEmX3yoL85aQ3H0sKhv+cWQRZkUqC/dTCiq8ajnr+jm3FCjWOcP1AG6onDiJ2/AJOB0DW2jr/8CUXudTWKP0Xow+XDyZW/6AMalY8Flr+obZNSAFShvzzoVs4Hk58/78SQgVMkcL+9Mkx7C3OfvzgeGpkC3aC/PVWXDk4jrL8jiKLjCZOav0SwcMvnj7G/oSskFvCqlL/egNQs9cW3v8jLBT8jx5m/btJQ5X06s78UPgTGSEq1v9ArQoiIJLe/Ge5inTr+vz9BwSimre+ovzmI1YoN0ri/vizo/2Potr9HKbmSieLKPwj9qSAJmo2/UbtS2cnHmr8AAAAAAAAAAD6+rsEzpL8/1pKOChQEoD8u/+hPscK6vzbW4oWkXJi/NoHriubyjb/ys6KLyWe7v2nZVAT/Abm/lKFfT9e7kL+mLBl0UnOUP3/qVz9R2ay/tkRzA2sKzz+l6dVdZciWv+CsUY5TiYK/vJ39A9wgnT/GFwDdz2yyv7RFW5eq56G/PjMlltPiiz/EjyEePF+kv9I7YmlUn6a/EJjVh/CKoT/UniWxk9G8v3pL4tqWTz2/26HIPHgCp7+ZYjLjvjavv6ky2VI1mpO/zAU3aU0MJj9ZHfq5bX6Bv28ivYye1aO/B4UVZg94lr/1eWQDnTGjvzC7Fj/2VLu/ZRhlo+QElb+dVPcXMZmsP1gHwW+PHJi/fxJFXIXjyr6u7d9Sv/Obv9QR/GnjWqy/pMAp1Tslmr8bTXs+C+OKvz6+rsEzpL8/AAAAAAAAAADMsKUtDN2QP1H6hdsLF6S/d73YrmObm7/ncmJqYJy2vxNrzwpzKYu/hTdUu/83j7/t0gOrTemVv4+b9iOFTo2/Rz3kyRmvpb+aeD4aSYq5P1NWRl8KQZa/JcGxaqCrk7/bIVlAvwCUvxH1ABYbHqC/5dVMJENgkr/k23KqVqWSv6ujt6oAVpG/iQQygUDGnb+ADMRDcoWYvxyQdLJam52/2fc8anS4lb8ZPz2eOOugvxlnR1IAGaa/59OWmae3m7/lkDA4MzVnv04Fp87okoC/KDbMWuuZgT/90z8c0LJ1P6vTmSrzZJo/Em/zjeC4lz/BDuklg2yrv2HZKgqut7e//wla1Baqkb9h/RKivOOcv2GWZ9oNSq6/fGwsw1Vgdr+WQuSBHB2TP3cBCasSPaC/15KOChQEoD/MsKUtDN2QPwAAAAAAAAAAiVFGx30Lhb+P03O55jyUv4kjeCx2a5K/0wvZOkh1p79P1eT27Jegv7kEHVayV4+/KBYpC1CehL88m1HTUmOlv3nIjLzbrIw/8ccvNeX6mr+P66p0ziGav/8RV1sc/Za/PQKb70bal79YLd8wpO2dv33832B+R5u/adpYq3/Fmb/22WR3HOaUv72kDXd41ny/DboneYHhmL/LDUfFp5+Vv25k1nEnwZS/cnVnD9nfq7+Xn5PGgeGav2c6Pb9CRM0/pZ2gfoXUob8nPbIdbuCJv5jWQQLcN5O/aezBwoMahz/Fi6kPLjalP/W2IZu2a6S/otHCMBXetr8buMudqBGavyQHCfNEL5y/a6JQEwsHlb/rfc6Pkd9yP7LxVlHG6aO/6GucXx1QoL8u/+hPscK6v1H6hdsLF6S/ilFGx30Lhb8AAAAAAAAAAMdPKE91W6c/t07Dmvbitb+X/t8hQGyev7c9zp9kxb8/tuZn+erCkr/ACph9QgeSvwjPevzJ06W/2MrUwQqhpL+PDsNZecuWv/qC4f8BVqS/pEL1CKELlb9ZQ3O8pLGav5u6boA78aG/nuPA0nWxgL854SgRaTCPv80E5FuYpaO/vg8IFj+Qkr+idXZt0SKRv+moYALKEZ+/fPEg8Czfob+WwYzoRtOlv8k16W7mqp6/eINC+POORr8lxab69XiWvxPY5Vs8J56/Bv3RmW0ZlL/CoxTFc9SXvyClO0Rvnpy/uAkbZubumL8gYuDSJfGOv5daHFCzZY+/bjZyqoA2mb/vYn3NfLegvyfd6vrnTo+/BeI1tbJskr+y0SLxUGaSvzXW4oWkXJi/eL3YrmObm7+P03O55jyUv8dPKE91W6c/AAAAAAAAAACSa1ZJf7iKvziQWMyAt5O/QvI2l4shib9ONlSimF2cP/2EUyiiR5+/Tg/5tKY8or9zfYiIElabv9+rYn8aS0E/ULle4Jbndr+XHAHRHZRsv+jdWPHviJm/7JlWPFMYmr8O60H5ubV6vx4kXYCABZe/2L0og0eEnL9lahNcwY+gvx2VALT7e42/K2SLK8P/gL8WiGu0mGaZvze2vzRwhKW/FnncufqHmr9FiLlQ/eSzv/plZ9gEdre/DVCNmb3Lrr/WBqMOJ3CXv+oHYp71qro/n4/CEQnKkL9oAVHgTgOyv6MPZ3JlpZE/FWmj+uxYZL9j+R68Fv6yv50dQzY+K66/s2upkZpW0D/H9I8ICDSzPzJBkuLR0Li/NYHriubyjb/ncmJqYJy2v4kjeCx2a5K/t07Dmvbitb+Sa1ZJf7iKvwAAAAAAAAAAASxRHGjIwT8V7YdIifq1v5RQytH4OYC/prtXX3qmtz9cJWVOFba4v1he5HuDkrC/7Ow94o4ZjL9aIMR6BC6dv7V3mLK8tXG/f7l6Sd8gr7/OBfjYp7ymv3ndPPsfbK6/hTrSTJoAuL/vFhcMXO2ov74G73Xy47a/VKph7DreuT/gAOTETC+Qv1pB0f2OXZy/uw+Yo/S2t7+2CHzJuytwv9d9BobzoaC/RMOaUQMGgD+3S62zm8qjPzKYwbttb5G/woCWpSNzsj/hcDeHSg26vykBDHVZ27Q/zm2gS2Cysb8OW9UyN+Cdv1GWmeCHW5a/+ZVTBiohdb+TFDJlKCWqv0yvRNqtQYs/2nFjxShlor/ys6KLyWe7vxNrzwpzKYu/0wvZOkh1p7+X/t8hQGyevzeQWMyAt5O/ASxRHGjIwT8AAAAAAACwvOZCA8EazaA/vt/sD0s3lb/82HVS/GaYP+CV8L21caq/saeOqP9euL+E8n1spndwv7I+cwH4BIO/kld8HtjSmb8j6KrwvWC4v8JdYSzHI6G/yiyUaGZVcj/EMDfvURmhv+30YSCuQ5i/N7bibXvdh78PIN6pxeKfv0giQP8RtG4/TxPMa3lBlb/pfoua/tanv0Gtr+Z+f5e/dmIZAPfzi79tq5N8i0+evwkYpSvZjp+/g8y9Foe+lL/d4eqM7p+Uv0jre6neJrg/tBcvdxever+Uas0eewGRP+PpYHlmV3i/PXR6VE0EjT84ecUsBByNv29Krc05v7S/z/UI32MBor9BN7dzOBuIv2nZVAT/Abm/hDdUu/83j79P1eT27Jegv7Y9zp9kxb8/QvI2l4shib8V7YdIifq1v+dCA8EazaA/AAAAAAAAAACKdT3TmluWv8ZB5J4285+/w+xks9gup78uQnzXlEyXv5/SGk4PYpe/c1Vv1FJmiL+SPSBKs2Cav2WLhmVEjoG/EAJVzb6elr81EXPl2G+Pv9wOIFmDDYa/HvATXay6n7/FyyBjNaKav+E4Nxuu/Yq/8OAeRJ+snL/o5+CwDUChv7kgjVuq+qe/NkqA4Qx5m7+ILVF+YkKdv4S9Bjw4mJS/pxovfuU8ob/Eu54n+NyOv9RVdjOxQpi/xrHmrFQucL9lY5FroO+dv3pOG1AtUoG/pd8PNc4qjb/99BQcT26Wv3y3mWk7aJS/yRfSgYDxfr8UYMIe/fmYv+KIpUk5oJy/lKFfT9e7kL/t0gOrTemVv7gEHVayV4+/t+Zn+erCkr9ONlSimF2cP5RQytH4OYC/vt/sD0s3lb+KdT3TmluWvwAAAAAAAAAAhNCdCFlck7+1X9+0cDCjv3yZL/1p+pi/FAeAPNnbgz/l8ZBnknRvP93Uxv/pXoK/ejZ7jAK2ib+s5cy1ziuXv5UuoziojH+/DUQ3ugKCnr+uITNUisShvyYtVTSszJm/vJwoQbAElb9VKZEltHJ7v6hud1Se8Z+/6OJyUGPnqr9vBhlK/Wxzv9XL3W4DeIK/6VEchZZ7mb+OehnRWJelP38XMW9A0pi/c8QMsNgav7/weOsF33O0v5NywR4ZoHe/3BPImXwqtL9TfisTQmGYv0ys9TEoDIq/v1WxKZYCvb/8llqcpxqnP8b9uE6fMZO/+xOEmX3yoL+nLBl0UnOUP5Cb9iOFTo2/KBYpC1CehL/BCph9QgeSv/2EUyiiR5+/prtXX3qmtz/82HVS/GaYP8ZB5J4285+/g9CdCFlck78AAAAAAAAAAPHlvA1izqu/6+0m6/eioj/X8q2mK/+IP0W72DpqzZO/XDWJCGXAhD9Ml6YqsGmYv0yGT+0Bnpy/ow1FGBgqm7+KELX2z02evznfTNa53Ya/3lEhcglSib89Cwn+JxuHv/z2qfatIZm/K1ZXWqDZhb819Xb7uNapv0ia62gtwJe/Wl03Q066p78yql7SUy6Mv2dKtiRg16e/v2BBctgYpb/Udy5m+rGtv2gNMk+XdrC/YtBR7whUmL8UiTkL15O5v2q4yDwSf6S/NubTfui2pb+HOe/Dw4+xv3x4/eKweru/2YDG7jKtrb85aQ3H0sKhv4DqVz9R2ay/Rz3kyRmvpb88m1HTUmOlvwjPevzJ06W/TQ/5tKY8or9bJWVOFba4v9+V8L21caq/w+xks9gup7+2X9+0cDCjv/HlvA1izqu/AAAAAAAAAADTyuxm6fKlvzyAbdkPBKe/ktvRJQNcqL801zTMF7OovyrwU7efoaa/jGa5T5xgpr+98cWJQGumv9enYVedF52/iGdygrcd1D9aPQjUNbKkv3+CWgdftq2/M757LGyoX7+bLhO70mbRP3jI7SQoKeU/TGAEnHqnlr/DXBTYvOSGv68wafjStpC/VRX8tmPJs7/rw3req8OZv+YHhdgCcLi/sX1jCR/Zsr+ITBpJcCqhv00kxinPAa2/9JArjsz4k79st6ahVByiv2QAMtBaWaI/MQQezgv7pb/JX/c0UAOQP+YWQRZkUqC/tkRzA2sKzz+aeD4aSYq5P3nIjLzbrIw/2crUwQqhpL90fYiIElabv1he5HuDkrC/saeOqP9euL8tQnzXlEyXv32ZL/1p+pi/7O0m6/eioj/Tyuxm6fKlvwAAAAAAAAAAmsYZXginmb+4dyL0CFiIP1PYVAtA16M/mZHIPqX/tL8OluGYSZGcv3YW8kGJCp2/RdX6TJnEnL+YWlvVlYaNvwEidUC+fJu/0NAtLRetiL8SHKBy5R2WvwXQIxmnyYu/5LJffiV/pr9XiHEJbsmcv3GWO0Mz1Jq/rq102oFOlr8jTd5R1yWMv2q+pzGkK4+/BxJbyludkr8wmoplpxOZv009GXiWmIS/RXlx/k3Vlb+xFPg3pj2Nv9bwvHGb3pW/xJvCXMb6Vz8fXNziqreAvxLrC9/Uh5e/dTCiq8ajnr+l6dVdZciWv1NWRl8KQZa/8ccvNeX6mr+PDsNZecuWv+CrYn8aS0E/7ew94o4ZjL+E8n1spndwv57SGk4PYpe/FAeAPNnbgz/X8q2mK/+IPz2AbdkPBKe/msYZXginmb8AAAAAAACwvJgud49Dp5C/vRH9ZaGmkb+QgjWepr2VvyP12NtzQJS/1P9CWzMBhr+VdfsBymWZv2ZaYqhY1Jy/rsXsPkTYkb88lr5QWxSYvxB3awXy8oO/WiQNAPlthr9Cp8G7msuov4OP8N4/bpm/6VMkXUmjob/QKjPokYmZvw4J0e0Yl5+/XIgA9iTWkD9Qc6eU2jp2v0RkIyQ8y5e/D5KgK2BRcb+Q3YvOYtSWv8/7NBv3PZ2/g5QJG6RIlL+72EgsX5SEv6zv1EeyALu/SvWg5Rgmkr+km3FCjWOcP+CsUY5TiYK/JcGxaqCrk7+O66p0ziGav/uC4f8BVqS/ULle4Jbndr9aIMR6BC6dv7E+cwH4BIO/clVv1FJmiL/l8ZBnknRvP0W72DpqzZO/ktvRJQNcqL+4dyL0CFiIP5cud49Dp5C/AAAAAAAAAAAqDRF8PDyEPw37wvK4h4q/4jmih8zBoz8zNOrgLMWYvxH7K4oHM4W/PksaPX1tmL+RhbXs1jSfv4WRSAN0D4S/vKYVy1kzl79Nb6n44wOZv/t0SdUNs6u/cHATaAgJd78AfcLvLCCIvyaRN1sbYZi/d2kXANvBk78q3UHKY02Rv4hrpXhngaO/LQ2QZ6CKnr/YW/oRABujv1MIJf5KYKa/+BTw5VNflL95/gEBm8uVv+I5rAX/4IC/CnqX6cGDlb8qZgt5SfVQP1AG6onDiJ2/vJ39A9wgnT/bIVlAvwCUv/8RV1sc/Za/pEL1CKELlb+YHAHRHZRsv7V3mLK8tXG/kld8HtjSmb+TPSBKs2Cav97Uxv/pXoK/XDWJCGXAhD801zTMF7Oov1PYVAtA16M/vRH9ZaGmkb8qDRF8PDyEPwAAAAAAAAAAjT/DsOCKmL9/KqQPKe6Zv5NdU5VxaY+/6mr7yzXflr92lDkU3Uycv+R3lJzTcpW/2ISMl+2kkb+cAvWfovOMvwkxkjag/py/ev8kvkUorL+ibeWHKkSYvzZwUov0Fqs/1MqNsCjFnL+bGiMyRsy1v4X4bTE4wJe/raN8cGo+tb9ceLUHzEzPP9NtN9SXzqe/L98sN67etz/hSXk3TvyQv8BWhhbQ+46/a3aaAey+uD/CzJQyylyOvwTz3V4xULu//5KB0DW2jr/GFwDdz2yyvxH1ABYbHqC/PAKb70bal79ZQ3O8pLGav+jdWPHviJm/gLl6Sd8gr78j6KrwvWC4v2WLhmVEjoG/ejZ7jAK2ib9Ml6YqsGmYvyvwU7efoaa/mZHIPqX/tL+QgjWepr2Vvwz7wvK4h4q/jT/DsOCKmL8AAAAAAAAAAGRDcZMK0pO/znEocNRGlr81z1pE5WWSv1i/YFfpdZS/p6q2C1KAj79/S3zRLaSXvzbtG8XJJZe/1tpPqv3KlL8slF+Eb9ekv1z4BS6ZjZK/icKlxNvKmL9i3Cxs11Shv3cy4T6Pkak/YvU/TpBLiL/iyQJy4VSbv/VjLzMmOaS/j1UdFzCnmb/EYsjAnHuRP7lhRgtfCpa/gr3Aawrlab9u47Zqrw1Yv8DeBVI9XKe/aoJA5c4UoL/9CUXudTWKP7RFW5eq56G/5tVMJENgkr9YLd8wpO2dv5u6boA78aG/7ZlWPFMYmr/OBfjYp7ymv8JdYSzHI6G/DwJVzb6elr+s5cy1ziuXv02GT+0Bnpy/jGa5T5xgpr8OluGYSZGcvyP12NtzQJS/4jmih8zBoz9/KqQPKe6Zv2RDcZMK0pO/AAAAAAAAAAB5WQkLbNeWv/ZRDscQyrI/4Nxz4Lm8g79lhUrV9WyGv9Yql6XybZm/4HKom3tgm7+0wnE/6Huhv5ro7P+kyqm/Cl4JYaFvET+k0kPtKF2Ov79Tjj60Ypa/VAVATnraor+waIZXqDmSv2vqQlzojpy/vk4azg8cmL/qfTX1GgaWv33zef1F16E/+xdXJ1/Skr/R8iSxOpCPv06d0GTA2JK/ZLxOunA8nD+FBNT0m3Z2v0bow+XDyZW/PjMlltPiiz/k23KqVqWSv3z832B+R5u/nePA0nWxgL8P60H5ubV6v3rdPPsfbK6/yiyUaGZVcj81EXPl2G+Pv5UuoziojH+/pA1FGBgqm7+98cWJQGumv3YW8kGJCp2/1P9CWzMBhr8zNOrgLMWYv5NdU5VxaY+/znEocNRGlr95WQkLbNeWvwAAAAAAAAAAvQF6lQ4LmL8hsgQ/oTahvxFwb7fEbIa/XOZ2UjgSob/JwGAulguXv6e9pppeqJu/F+Rclvfcpb/jwhYcX4mXvyl1rzz07J+/frNy9ydYf7/IO9Xum/ulP9vNNW0dypu/Ui7RogV/pb+p9eGjKz+Jv/SYf5Jd+7g/kualNvqdjj+RQN9+6oCbv8E689YEeYW/mc/t79fwo78BayZKM2i3v6YmANk6O5i/6AMalY8Flr/FjyEePF+kv6ujt6oAVpG/aNpYq3/Fmb854SgRaTCPvx4kXYCABZe/hTrSTJoAuL/EMDfvURmhv9wOIFmDDYa/DEQ3ugKCnr+JELX2z02ev9anYVedF52/RtX6TJnEnL+UdfsBymWZvxD7K4oHM4W/6mr7yzXflr81z1pE5WWSv/VRDscQyrI/vQF6lQ4LmL8AAAAAAAAAANipVYtO0aC/FlfFl0KMdz9U0fJzWMuUv25H7oOe/J8/yvE0CtYgm7/3TyXGqfeWvyF8k0LQhX2/Bemf99vdor8uCs6zwQ95vx5DeQ4X/6G/XZPmQ3+Knb/l3ifv+QWXv4Oqna67o6G/Y6/o8sIWo78k0RB7Ruu2vzKs+Yba6p2/nkIpBRntnb+kjwzLZO+ev5paET0EDLW/nYLJRVCkl7+pbZNSAFShv9I7YmlUn6a/iAQygUDGnb/32WR3HOaUv80E5FuYpaO/2L0og0eEnL/wFhcMXO2ov+z0YSCuQ5i/H/ATXay6n7+uITNUisShvznfTNa53Ya/iGdygrcd1D+YWlvVlYaNv2ZaYqhY1Jy/PUsaPX1tmL91lDkU3Uycv1i/YFfpdZS/4Nxz4Lm8g78hsgQ/oTahv9ipVYtO0aC/AAAAAAAAAADSMI3BXmKdv6WWaExPeZe/6VpYc/4wor//3swYZ36sv1b1KsEoP9M/smSuthBLob+KBtFBicWtP3srhraIzoE/ZOJWz3zsj792MsTpjKVzPyk6E+Lp7pM/amnB6NTskb9NV4hiRLtlP7bTrizlD7W/q6jI39cjkr+BwK0+6suhv836+IB5faO/r4ufpB1Xc7996YZKdzKbvzvoVs4Hk58/EJjVh/CKoT9/DMRDcoWYv76kDXd41ny/vg8IFj+Qkr9kahNcwY+gv74G73Xy47a/N7bibXvdh7/EyyBjNaKavyYtVTSszJm/3lEhcglSib9aPQjUNbKkvwEidUC+fJu/rsXsPkTYkb+QhbXs1jSfv+R3lJzTcpW/p6q2C1KAj79lhUrV9WyGvxBwb7fEbIa/FlfFl0KMdz/TMI3BXmKdvwAAAAAAAAAA0u3eXK+XoL80AQ+PzDyav2461kECIZ6/mLKktz3lp78wvFsKJTaUv6kAfYt08KW/w6txtiMysT+Go+G6T4OPP02uzjA04ZW/cAtYASIMrT97kO7wY/KzP0k09n8ZEqW/0nKN9w62t79F64nzAV+Sv5zxqYfwLpC/ZMWgsdj9eT/LHqAT0s60vyJp/2bTMaC/78SQgVMkcL/UniWxk9G8vxuQdLJam52/DboneYHhmL+idXZt0SKRvx2VALT7e42/U6ph7DreuT8PIN6pxeKfv+I4Nxuu/Yq/vJwoQbAElb89Cwn+JxuHv3+CWgdftq2/z9AtLRetiL88lr5QWxSYv4WRSAN0D4S/2ISMl+2kkb9/S3zRLaSXv9cql6XybZm/XOZ2UjgSob9U0fJzWMuUv6aWaExPeZe/0+3eXK+XoL8AAAAAAAAAAHS/8gP/N5i/KnwUIg6xkr/MK3/26zOpv4y5XUdQt5a/b6kTjT8gm78PPqP26VaZv3CVPoUuZKK/PZ08w224jr+9XdDl+PScvz9EpVu21qG/TfqkbaOfhT+tp/tC92VQP1630qRq3ZG/oNO776Knnb9kwTcY5AmXv63ZVzAaRY6/QNbBgzn6lr+9Mkx7C3Ofv3pL4tqWTz2/2Pc8anS4lb/LDUfFp5+Vv+moYALKEZ+/K2SLK8P/gL/gAOTETC+Qv0ciQP8RtG4/8OAeRJ+snL9WKZEltHJ7v/z2qfatIZm/M757LGyoX78SHKBy5R2WvxB3awXy8oO/vKYVy1kzl7+cAvWfovOMvzbtG8XJJZe/4HKom3tgm7/KwGAulguXv29H7oOe/J8/6lpYc/4wor80AQ+PzDyav3O/8gP/N5i/AAAAAAAAsLy4M6B8XH2fv3K3bm3U8Jq/KwarZE8DeT/HHLS+TwGiv4t6gbiV1aG/UcYNQYEem7/f1LplfS2gvz4lM1TuGZ6/8lxCPTbxmL8iDCnwldabv6BLwuaBZLe/Di+r/VWqnr+bHg6ylJGgv5NYb3zj9J6/KmzuPcl+tb/IOGdMntWUvzgeGpkC3aC/26HIPHgCp78ZPz2eOOugv21k1nEnwZS/fPEg8Czfob8WiGu0mGaZv1lB0f2OXZy/TxPMa3lBlb/p5+CwDUChv6hud1Se8Z+/K1ZXWqDZhb+bLhO70mbRPwXQIxmnyYu/WyQNAPlthr9Ob6n44wOZvwkxkjag/py/1tpPqv3KlL+0wnE/6Huhv6i9pppeqJu/yfE0CtYgm7//3swYZ36sv2461kECIZ6/KXwUIg6xkr+4M6B8XH2fvwAAAAAAAAAACmkB8hHb0D8mCuF45ZCEP2P0OF2x2qG/C5uTara1pD9ZwE6rziOmvwmpwja4Equ/I5alQCyaq7+g2AXuzuOxv7NP23NgEoW//k2iXle1uL/wnz1TMGikv11OfyXW8Z6/Ka17tK5EsL/nLWcKEnG6v1Pcnc9tOqq/PlWXDk4jrL+YYjLjvjavvxhnR1IAGaa/c3VnD9nfq7+WwYzoRtOlvze2vzRwhKW/uw+Yo/S2t7/pfoua/tanv7ogjVuq+qe/6eJyUGPnqr829Xb7uNapv3jI7SQoKeU/5bJffiV/pr9Bp8G7msuov/x0SdUNs6u/ev8kvkUorL8rlF+Eb9ekv5ro7P+kyqm/F+Rclvfcpb/3TyXGqfeWv1b1KsEoP9M/mLKktz3lp7/MK3/26zOpv3K3bm3U8Jq/CmkB8hHb0D8AAAAAAAAAAGKrvv7IMZi/cwpeDLjin7/nLvEBf8SEP58jONv7B5y/AUYRBL71fz/9Tv2nM2CVv2N5eBybjZi/xj5JKIZLmb/mJRKckmx7v3U7zDVVSpO/Cv7XcYxol78pkXkZZm6cv/qdeOE8jXW/nLemmCGTmr8jiKLjCZOav6ky2VI1mpO/59OWmae3m7+Xn5PGgeGav8k16W7mqp6/FnncufqHmr+2CHzJuytwv0Gtr+Z+f5e/NkqA4Qx5m79wBhlK/Wxzv0ia62gtwJe/TGAEnHqnlr9YiHEJbsmcv4SP8N4/bpm/cHATaAgJd7+ibeWHKkSYv1z4BS6ZjZK/Cl4JYaFvET/jwhYcX4mXvyJ8k0LQhX2/smSuthBLob8vvFsKJTaUv4y5XUdQt5a/KwarZE8DeT8mCuF45ZCEP2Krvv7IMZi/AAAAAAAAsLw=",
          "dtype": "f8",
          "shape": "40, 40"
         }
        }
       ],
       "layout": {
        "coloraxis": {
         "cmax": 1,
         "cmin": -1,
         "colorscale": [
          [
           0,
           "rgb(103,0,31)"
          ],
          [
           0.1,
           "rgb(178,24,43)"
          ],
          [
           0.2,
           "rgb(214,96,77)"
          ],
          [
           0.3,
           "rgb(244,165,130)"
          ],
          [
           0.4,
           "rgb(253,219,199)"
          ],
          [
           0.5,
           "rgb(247,247,247)"
          ],
          [
           0.6,
           "rgb(209,229,240)"
          ],
          [
           0.7,
           "rgb(146,197,222)"
          ],
          [
           0.8,
           "rgb(67,147,195)"
          ],
          [
           0.9,
           "rgb(33,102,172)"
          ],
          [
           1,
           "rgb(5,48,97)"
          ]
         ]
        },
        "template": {
         "data": {
          "bar": [
           {
            "error_x": {
             "color": "#2a3f5f"
            },
            "error_y": {
             "color": "#2a3f5f"
            },
            "marker": {
             "line": {
              "color": "#E5ECF6",
              "width": 0.5
             },
             "pattern": {
              "fillmode": "overlay",
              "size": 10,
              "solidity": 0.2
             }
            },
            "type": "bar"
           }
          ],
          "barpolar": [
           {
            "marker": {
             "line": {
              "color": "#E5ECF6",
              "width": 0.5
             },
             "pattern": {
              "fillmode": "overlay",
              "size": 10,
              "solidity": 0.2
             }
            },
            "type": "barpolar"
           }
          ],
          "carpet": [
           {
            "aaxis": {
             "endlinecolor": "#2a3f5f",
             "gridcolor": "white",
             "linecolor": "white",
             "minorgridcolor": "white",
             "startlinecolor": "#2a3f5f"
            },
            "baxis": {
             "endlinecolor": "#2a3f5f",
             "gridcolor": "white",
             "linecolor": "white",
             "minorgridcolor": "white",
             "startlinecolor": "#2a3f5f"
            },
            "type": "carpet"
           }
          ],
          "choropleth": [
           {
            "colorbar": {
             "outlinewidth": 0,
             "ticks": ""
            },
            "type": "choropleth"
           }
          ],
          "contour": [
           {
            "colorbar": {
             "outlinewidth": 0,
             "ticks": ""
            },
            "colorscale": [
             [
              0,
              "#0d0887"
             ],
             [
              0.1111111111111111,
              "#46039f"
             ],
             [
              0.2222222222222222,
              "#7201a8"
             ],
             [
              0.3333333333333333,
              "#9c179e"
             ],
             [
              0.4444444444444444,
              "#bd3786"
             ],
             [
              0.5555555555555556,
              "#d8576b"
             ],
             [
              0.6666666666666666,
              "#ed7953"
             ],
             [
              0.7777777777777778,
              "#fb9f3a"
             ],
             [
              0.8888888888888888,
              "#fdca26"
             ],
             [
              1,
              "#f0f921"
             ]
            ],
            "type": "contour"
           }
          ],
          "contourcarpet": [
           {
            "colorbar": {
             "outlinewidth": 0,
             "ticks": ""
            },
            "type": "contourcarpet"
           }
          ],
          "heatmap": [
           {
            "colorbar": {
             "outlinewidth": 0,
             "ticks": ""
            },
            "colorscale": [
             [
              0,
              "#0d0887"
             ],
             [
              0.1111111111111111,
              "#46039f"
             ],
             [
              0.2222222222222222,
              "#7201a8"
             ],
             [
              0.3333333333333333,
              "#9c179e"
             ],
             [
              0.4444444444444444,
              "#bd3786"
             ],
             [
              0.5555555555555556,
              "#d8576b"
             ],
             [
              0.6666666666666666,
              "#ed7953"
             ],
             [
              0.7777777777777778,
              "#fb9f3a"
             ],
             [
              0.8888888888888888,
              "#fdca26"
             ],
             [
              1,
              "#f0f921"
             ]
            ],
            "type": "heatmap"
           }
          ],
          "histogram": [
           {
            "marker": {
             "pattern": {
              "fillmode": "overlay",
              "size": 10,
              "solidity": 0.2
             }
            },
            "type": "histogram"
           }
          ],
          "histogram2d": [
           {
            "colorbar": {
             "outlinewidth": 0,
             "ticks": ""
            },
            "colorscale": [
             [
              0,
              "#0d0887"
             ],
             [
              0.1111111111111111,
              "#46039f"
             ],
             [
              0.2222222222222222,
              "#7201a8"
             ],
             [
              0.3333333333333333,
              "#9c179e"
             ],
             [
              0.4444444444444444,
              "#bd3786"
             ],
             [
              0.5555555555555556,
              "#d8576b"
             ],
             [
              0.6666666666666666,
              "#ed7953"
             ],
             [
              0.7777777777777778,
              "#fb9f3a"
             ],
             [
              0.8888888888888888,
              "#fdca26"
             ],
             [
              1,
              "#f0f921"
             ]
            ],
            "type": "histogram2d"
           }
          ],
          "histogram2dcontour": [
           {
            "colorbar": {
             "outlinewidth": 0,
             "ticks": ""
            },
            "colorscale": [
             [
              0,
              "#0d0887"
             ],
             [
              0.1111111111111111,
              "#46039f"
             ],
             [
              0.2222222222222222,
              "#7201a8"
             ],
             [
              0.3333333333333333,
              "#9c179e"
             ],
             [
              0.4444444444444444,
              "#bd3786"
             ],
             [
              0.5555555555555556,
              "#d8576b"
             ],
             [
              0.6666666666666666,
              "#ed7953"
             ],
             [
              0.7777777777777778,
              "#fb9f3a"
             ],
             [
              0.8888888888888888,
              "#fdca26"
             ],
             [
              1,
              "#f0f921"
             ]
            ],
            "type": "histogram2dcontour"
           }
          ],
          "mesh3d": [
           {
            "colorbar": {
             "outlinewidth": 0,
             "ticks": ""
            },
            "type": "mesh3d"
           }
          ],
          "parcoords": [
           {
            "line": {
             "colorbar": {
              "outlinewidth": 0,
              "ticks": ""
             }
            },
            "type": "parcoords"
           }
          ],
          "pie": [
           {
            "automargin": true,
            "type": "pie"
           }
          ],
          "scatter": [
           {
            "fillpattern": {
             "fillmode": "overlay",
             "size": 10,
             "solidity": 0.2
            },
            "type": "scatter"
           }
          ],
          "scatter3d": [
           {
            "line": {
             "colorbar": {
              "outlinewidth": 0,
              "ticks": ""
             }
            },
            "marker": {
             "colorbar": {
              "outlinewidth": 0,
              "ticks": ""
             }
            },
            "type": "scatter3d"
           }
          ],
          "scattercarpet": [
           {
            "marker": {
             "colorbar": {
              "outlinewidth": 0,
              "ticks": ""
             }
            },
            "type": "scattercarpet"
           }
          ],
          "scattergeo": [
           {
            "marker": {
             "colorbar": {
              "outlinewidth": 0,
              "ticks": ""
             }
            },
            "type": "scattergeo"
           }
          ],
          "scattergl": [
           {
            "marker": {
             "colorbar": {
              "outlinewidth": 0,
              "ticks": ""
             }
            },
            "type": "scattergl"
           }
          ],
          "scattermap": [
           {
            "marker": {
             "colorbar": {
              "outlinewidth": 0,
              "ticks": ""
             }
            },
            "type": "scattermap"
           }
          ],
          "scattermapbox": [
           {
            "marker": {
             "colorbar": {
              "outlinewidth": 0,
              "ticks": ""
             }
            },
            "type": "scattermapbox"
           }
          ],
          "scatterpolar": [
           {
            "marker": {
             "colorbar": {
              "outlinewidth": 0,
              "ticks": ""
             }
            },
            "type": "scatterpolar"
           }
          ],
          "scatterpolargl": [
           {
            "marker": {
             "colorbar": {
              "outlinewidth": 0,
              "ticks": ""
             }
            },
            "type": "scatterpolargl"
           }
          ],
          "scatterternary": [
           {
            "marker": {
             "colorbar": {
              "outlinewidth": 0,
              "ticks": ""
             }
            },
            "type": "scatterternary"
           }
          ],
          "surface": [
           {
            "colorbar": {
             "outlinewidth": 0,
             "ticks": ""
            },
            "colorscale": [
             [
              0,
              "#0d0887"
             ],
             [
              0.1111111111111111,
              "#46039f"
             ],
             [
              0.2222222222222222,
              "#7201a8"
             ],
             [
              0.3333333333333333,
              "#9c179e"
             ],
             [
              0.4444444444444444,
              "#bd3786"
             ],
             [
              0.5555555555555556,
              "#d8576b"
             ],
             [
              0.6666666666666666,
              "#ed7953"
             ],
             [
              0.7777777777777778,
              "#fb9f3a"
             ],
             [
              0.8888888888888888,
              "#fdca26"
             ],
             [
              1,
              "#f0f921"
             ]
            ],
            "type": "surface"
           }
          ],
          "table": [
           {
            "cells": {
             "fill": {
              "color": "#EBF0F8"
             },
             "line": {
              "color": "white"
             }
            },
            "header": {
             "fill": {
              "color": "#C8D4E3"
             },
             "line": {
              "color": "white"
             }
            },
            "type": "table"
           }
          ]
         },
         "layout": {
          "annotationdefaults": {
           "arrowcolor": "#2a3f5f",
           "arrowhead": 0,
           "arrowwidth": 1
          },
          "autotypenumbers": "strict",
          "coloraxis": {
           "colorbar": {
            "outlinewidth": 0,
            "ticks": ""
           }
          },
          "colorscale": {
           "diverging": [
            [
             0,
             "#8e0152"
            ],
            [
             0.1,
             "#c51b7d"
            ],
            [
             0.2,
             "#de77ae"
            ],
            [
             0.3,
             "#f1b6da"
            ],
            [
             0.4,
             "#fde0ef"
            ],
            [
             0.5,
             "#f7f7f7"
            ],
            [
             0.6,
             "#e6f5d0"
            ],
            [
             0.7,
             "#b8e186"
            ],
            [
             0.8,
             "#7fbc41"
            ],
            [
             0.9,
             "#4d9221"
            ],
            [
             1,
             "#276419"
            ]
           ],
           "sequential": [
            [
             0,
             "#0d0887"
            ],
            [
             0.1111111111111111,
             "#46039f"
            ],
            [
             0.2222222222222222,
             "#7201a8"
            ],
            [
             0.3333333333333333,
             "#9c179e"
            ],
            [
             0.4444444444444444,
             "#bd3786"
            ],
            [
             0.5555555555555556,
             "#d8576b"
            ],
            [
             0.6666666666666666,
             "#ed7953"
            ],
            [
             0.7777777777777778,
             "#fb9f3a"
            ],
            [
             0.8888888888888888,
             "#fdca26"
            ],
            [
             1,
             "#f0f921"
            ]
           ],
           "sequentialminus": [
            [
             0,
             "#0d0887"
            ],
            [
             0.1111111111111111,
             "#46039f"
            ],
            [
             0.2222222222222222,
             "#7201a8"
            ],
            [
             0.3333333333333333,
             "#9c179e"
            ],
            [
             0.4444444444444444,
             "#bd3786"
            ],
            [
             0.5555555555555556,
             "#d8576b"
            ],
            [
             0.6666666666666666,
             "#ed7953"
            ],
            [
             0.7777777777777778,
             "#fb9f3a"
            ],
            [
             0.8888888888888888,
             "#fdca26"
            ],
            [
             1,
             "#f0f921"
            ]
           ]
          },
          "colorway": [
           "#636efa",
           "#EF553B",
           "#00cc96",
           "#ab63fa",
           "#FFA15A",
           "#19d3f3",
           "#FF6692",
           "#B6E880",
           "#FF97FF",
           "#FECB52"
          ],
          "font": {
           "color": "#2a3f5f"
          },
          "geo": {
           "bgcolor": "white",
           "lakecolor": "white",
           "landcolor": "#E5ECF6",
           "showlakes": true,
           "showland": true,
           "subunitcolor": "white"
          },
          "hoverlabel": {
           "align": "left"
          },
          "hovermode": "closest",
          "mapbox": {
           "style": "light"
          },
          "paper_bgcolor": "white",
          "plot_bgcolor": "#E5ECF6",
          "polar": {
           "angularaxis": {
            "gridcolor": "white",
            "linecolor": "white",
            "ticks": ""
           },
           "bgcolor": "#E5ECF6",
           "radialaxis": {
            "gridcolor": "white",
            "linecolor": "white",
            "ticks": ""
           }
          },
          "scene": {
           "xaxis": {
            "backgroundcolor": "#E5ECF6",
            "gridcolor": "white",
            "gridwidth": 2,
            "linecolor": "white",
            "showbackground": true,
            "ticks": "",
            "zerolinecolor": "white"
           },
           "yaxis": {
            "backgroundcolor": "#E5ECF6",
            "gridcolor": "white",
            "gridwidth": 2,
            "linecolor": "white",
            "showbackground": true,
            "ticks": "",
            "zerolinecolor": "white"
           },
           "zaxis": {
            "backgroundcolor": "#E5ECF6",
            "gridcolor": "white",
            "gridwidth": 2,
            "linecolor": "white",
            "showbackground": true,
            "ticks": "",
            "zerolinecolor": "white"
           }
          },
          "shapedefaults": {
           "line": {
            "color": "#2a3f5f"
           }
          },
          "ternary": {
           "aaxis": {
            "gridcolor": "white",
            "linecolor": "white",
            "ticks": ""
           },
           "baxis": {
            "gridcolor": "white",
            "linecolor": "white",
            "ticks": ""
           },
           "bgcolor": "#E5ECF6",
           "caxis": {
            "gridcolor": "white",
            "linecolor": "white",
            "ticks": ""
           }
          },
          "title": {
           "x": 0.05
          },
          "xaxis": {
           "automargin": true,
           "gridcolor": "white",
           "linecolor": "white",
           "ticks": "",
           "title": {
            "standoff": 15
           },
           "zerolinecolor": "white",
           "zerolinewidth": 2
          },
          "yaxis": {
           "automargin": true,
           "gridcolor": "white",
           "linecolor": "white",
           "ticks": "",
           "title": {
            "standoff": 15
           },
           "zerolinecolor": "white",
           "zerolinewidth": 2
          }
         }
        },
        "title": {
         "text": "Sample correlation matrix"
        },
        "xaxis": {
         "anchor": "y",
         "constrain": "domain",
         "domain": [
          0,
          1
         ],
         "scaleanchor": "y"
        },
        "yaxis": {
         "anchor": "x",
         "autorange": "reversed",
         "constrain": "domain",
         "domain": [
          0,
          1
         ]
        }
       }
      }
     },
     "metadata": {},
     "output_type": "display_data"
    },
    {
     "data": {
      "application/vnd.plotly.v1+json": {
       "config": {
        "plotlyServerURL": "https://plot.ly"
       },
       "data": [
        {
         "hovertemplate": "x=%{x}<br>y=%{y}<extra></extra>",
         "legendgroup": "",
         "marker": {
          "color": "#636efa",
          "pattern": {
           "shape": ""
          }
         },
         "name": "",
         "orientation": "v",
         "showlegend": false,
         "textposition": "auto",
         "type": "bar",
         "x": [
          "ZOLPIDEM",
          "WARFARIN",
          "VALSARTAN",
          "TRAMADOL",
          "TAMSULOSIN",
          "SIMVASTATIN",
          "SERTRALINE",
          "ROSUVASTATIN",
          "RANITIDINE",
          "PREDNISONE",
          "PRAVASTATIN",
          "POTASSIUM CHLORIDE",
          "PIOGLITAZONE",
          "OMEPRAZOLE",
          "MONTELUKAST",
          "METOPROLOL",
          "METFORMIN",
          "LOVASTATIN",
          "LOSARTAN",
          "LISINOPRIL",
          "LEVOTHYROXINE",
          "INSULIN GLARGINE",
          "IBUPROFEN",
          "HYDROCHLOROTHIAZIDE",
          "GLIPIZIDE",
          "GABAPENTIN",
          "FUROSEMIDE",
          "FLUTICASONE NASAL",
          "FEXOFENADINE",
          "ESOMEPRAZOLE",
          "CLOPIDOGREL",
          "CITALOPRAM",
          "CARVEDILOL",
          "ATORVASTATIN",
          "ATENOLOL",
          "ASPIRIN",
          "AMLODIPINE",
          "ALLOPURINOL",
          "ALENDRONATE",
          "ALBUTEROL"
         ],
         "xaxis": "x",
         "y": {
          "bdata": "mpmZmZmZqT+amZmZmZmpP5qZmZmZmak/mpmZmZmZqT+amZmZmZmpP5qZmZmZmak/mpmZmZmZqT+amZmZmZmpP5qZmZmZmak/mpmZmZmZqT+amZmZmZmpP5qZmZmZmak/mpmZmZmZqT+amZmZmZmpP5qZmZmZmak/mpmZmZmZqT+amZmZmZmpP5qZmZmZmak/mpmZmZmZqT+amZmZmZmpP5qZmZmZmak/mpmZmZmZqT+amZmZmZmpP5qZmZmZmak/mpmZmZmZqT+amZmZmZmpP5qZmZmZmak/mpmZmZmZqT+amZmZmZmpP5qZmZmZmak/mpmZmZmZqT+amZmZmZmpP5qZmZmZmak/mpmZmZmZqT+amZmZmZmpP5qZmZmZmak/mpmZmZmZqT+amZmZmZmpP5qZmZmZmak/mpmZmZmZqT8=",
          "dtype": "f8"
         },
         "yaxis": "y"
        }
       ],
       "layout": {
        "barmode": "relative",
        "legend": {
         "tracegroupgap": 0
        },
        "template": {
         "data": {
          "bar": [
           {
            "error_x": {
             "color": "#2a3f5f"
            },
            "error_y": {
             "color": "#2a3f5f"
            },
            "marker": {
             "line": {
              "color": "#E5ECF6",
              "width": 0.5
             },
             "pattern": {
              "fillmode": "overlay",
              "size": 10,
              "solidity": 0.2
             }
            },
            "type": "bar"
           }
          ],
          "barpolar": [
           {
            "marker": {
             "line": {
              "color": "#E5ECF6",
              "width": 0.5
             },
             "pattern": {
              "fillmode": "overlay",
              "size": 10,
              "solidity": 0.2
             }
            },
            "type": "barpolar"
           }
          ],
          "carpet": [
           {
            "aaxis": {
             "endlinecolor": "#2a3f5f",
             "gridcolor": "white",
             "linecolor": "white",
             "minorgridcolor": "white",
             "startlinecolor": "#2a3f5f"
            },
            "baxis": {
             "endlinecolor": "#2a3f5f",
             "gridcolor": "white",
             "linecolor": "white",
             "minorgridcolor": "white",
             "startlinecolor": "#2a3f5f"
            },
            "type": "carpet"
           }
          ],
          "choropleth": [
           {
            "colorbar": {
             "outlinewidth": 0,
             "ticks": ""
            },
            "type": "choropleth"
           }
          ],
          "contour": [
           {
            "colorbar": {
             "outlinewidth": 0,
             "ticks": ""
            },
            "colorscale": [
             [
              0,
              "#0d0887"
             ],
             [
              0.1111111111111111,
              "#46039f"
             ],
             [
              0.2222222222222222,
              "#7201a8"
             ],
             [
              0.3333333333333333,
              "#9c179e"
             ],
             [
              0.4444444444444444,
              "#bd3786"
             ],
             [
              0.5555555555555556,
              "#d8576b"
             ],
             [
              0.6666666666666666,
              "#ed7953"
             ],
             [
              0.7777777777777778,
              "#fb9f3a"
             ],
             [
              0.8888888888888888,
              "#fdca26"
             ],
             [
              1,
              "#f0f921"
             ]
            ],
            "type": "contour"
           }
          ],
          "contourcarpet": [
           {
            "colorbar": {
             "outlinewidth": 0,
             "ticks": ""
            },
            "type": "contourcarpet"
           }
          ],
          "heatmap": [
           {
            "colorbar": {
             "outlinewidth": 0,
             "ticks": ""
            },
            "colorscale": [
             [
              0,
              "#0d0887"
             ],
             [
              0.1111111111111111,
              "#46039f"
             ],
             [
              0.2222222222222222,
              "#7201a8"
             ],
             [
              0.3333333333333333,
              "#9c179e"
             ],
             [
              0.4444444444444444,
              "#bd3786"
             ],
             [
              0.5555555555555556,
              "#d8576b"
             ],
             [
              0.6666666666666666,
              "#ed7953"
             ],
             [
              0.7777777777777778,
              "#fb9f3a"
             ],
             [
              0.8888888888888888,
              "#fdca26"
             ],
             [
              1,
              "#f0f921"
             ]
            ],
            "type": "heatmap"
           }
          ],
          "histogram": [
           {
            "marker": {
             "pattern": {
              "fillmode": "overlay",
              "size": 10,
              "solidity": 0.2
             }
            },
            "type": "histogram"
           }
          ],
          "histogram2d": [
           {
            "colorbar": {
             "outlinewidth": 0,
             "ticks": ""
            },
            "colorscale": [
             [
              0,
              "#0d0887"
             ],
             [
              0.1111111111111111,
              "#46039f"
             ],
             [
              0.2222222222222222,
              "#7201a8"
             ],
             [
              0.3333333333333333,
              "#9c179e"
             ],
             [
              0.4444444444444444,
              "#bd3786"
             ],
             [
              0.5555555555555556,
              "#d8576b"
             ],
             [
              0.6666666666666666,
              "#ed7953"
             ],
             [
              0.7777777777777778,
              "#fb9f3a"
             ],
             [
              0.8888888888888888,
              "#fdca26"
             ],
             [
              1,
              "#f0f921"
             ]
            ],
            "type": "histogram2d"
           }
          ],
          "histogram2dcontour": [
           {
            "colorbar": {
             "outlinewidth": 0,
             "ticks": ""
            },
            "colorscale": [
             [
              0,
              "#0d0887"
             ],
             [
              0.1111111111111111,
              "#46039f"
             ],
             [
              0.2222222222222222,
              "#7201a8"
             ],
             [
              0.3333333333333333,
              "#9c179e"
             ],
             [
              0.4444444444444444,
              "#bd3786"
             ],
             [
              0.5555555555555556,
              "#d8576b"
             ],
             [
              0.6666666666666666,
              "#ed7953"
             ],
             [
              0.7777777777777778,
              "#fb9f3a"
             ],
             [
              0.8888888888888888,
              "#fdca26"
             ],
             [
              1,
              "#f0f921"
             ]
            ],
            "type": "histogram2dcontour"
           }
          ],
          "mesh3d": [
           {
            "colorbar": {
             "outlinewidth": 0,
             "ticks": ""
            },
            "type": "mesh3d"
           }
          ],
          "parcoords": [
           {
            "line": {
             "colorbar": {
              "outlinewidth": 0,
              "ticks": ""
             }
            },
            "type": "parcoords"
           }
          ],
          "pie": [
           {
            "automargin": true,
            "type": "pie"
           }
          ],
          "scatter": [
           {
            "fillpattern": {
             "fillmode": "overlay",
             "size": 10,
             "solidity": 0.2
            },
            "type": "scatter"
           }
          ],
          "scatter3d": [
           {
            "line": {
             "colorbar": {
              "outlinewidth": 0,
              "ticks": ""
             }
            },
            "marker": {
             "colorbar": {
              "outlinewidth": 0,
              "ticks": ""
             }
            },
            "type": "scatter3d"
           }
          ],
          "scattercarpet": [
           {
            "marker": {
             "colorbar": {
              "outlinewidth": 0,
              "ticks": ""
             }
            },
            "type": "scattercarpet"
           }
          ],
          "scattergeo": [
           {
            "marker": {
             "colorbar": {
              "outlinewidth": 0,
              "ticks": ""
             }
            },
            "type": "scattergeo"
           }
          ],
          "scattergl": [
           {
            "marker": {
             "colorbar": {
              "outlinewidth": 0,
              "ticks": ""
             }
            },
            "type": "scattergl"
           }
          ],
          "scattermap": [
           {
            "marker": {
             "colorbar": {
              "outlinewidth": 0,
              "ticks": ""
             }
            },
            "type": "scattermap"
           }
          ],
          "scattermapbox": [
           {
            "marker": {
             "colorbar": {
              "outlinewidth": 0,
              "ticks": ""
             }
            },
            "type": "scattermapbox"
           }
          ],
          "scatterpolar": [
           {
            "marker": {
             "colorbar": {
              "outlinewidth": 0,
              "ticks": ""
             }
            },
            "type": "scatterpolar"
           }
          ],
          "scatterpolargl": [
           {
            "marker": {
             "colorbar": {
              "outlinewidth": 0,
              "ticks": ""
             }
            },
            "type": "scatterpolargl"
           }
          ],
          "scatterternary": [
           {
            "marker": {
             "colorbar": {
              "outlinewidth": 0,
              "ticks": ""
             }
            },
            "type": "scatterternary"
           }
          ],
          "surface": [
           {
            "colorbar": {
             "outlinewidth": 0,
             "ticks": ""
            },
            "colorscale": [
             [
              0,
              "#0d0887"
             ],
             [
              0.1111111111111111,
              "#46039f"
             ],
             [
              0.2222222222222222,
              "#7201a8"
             ],
             [
              0.3333333333333333,
              "#9c179e"
             ],
             [
              0.4444444444444444,
              "#bd3786"
             ],
             [
              0.5555555555555556,
              "#d8576b"
             ],
             [
              0.6666666666666666,
              "#ed7953"
             ],
             [
              0.7777777777777778,
              "#fb9f3a"
             ],
             [
              0.8888888888888888,
              "#fdca26"
             ],
             [
              1,
              "#f0f921"
             ]
            ],
            "type": "surface"
           }
          ],
          "table": [
           {
            "cells": {
             "fill": {
              "color": "#EBF0F8"
             },
             "line": {
              "color": "white"
             }
            },
            "header": {
             "fill": {
              "color": "#C8D4E3"
             },
             "line": {
              "color": "white"
             }
            },
            "type": "table"
           }
          ]
         },
         "layout": {
          "annotationdefaults": {
           "arrowcolor": "#2a3f5f",
           "arrowhead": 0,
           "arrowwidth": 1
          },
          "autotypenumbers": "strict",
          "coloraxis": {
           "colorbar": {
            "outlinewidth": 0,
            "ticks": ""
           }
          },
          "colorscale": {
           "diverging": [
            [
             0,
             "#8e0152"
            ],
            [
             0.1,
             "#c51b7d"
            ],
            [
             0.2,
             "#de77ae"
            ],
            [
             0.3,
             "#f1b6da"
            ],
            [
             0.4,
             "#fde0ef"
            ],
            [
             0.5,
             "#f7f7f7"
            ],
            [
             0.6,
             "#e6f5d0"
            ],
            [
             0.7,
             "#b8e186"
            ],
            [
             0.8,
             "#7fbc41"
            ],
            [
             0.9,
             "#4d9221"
            ],
            [
             1,
             "#276419"
            ]
           ],
           "sequential": [
            [
             0,
             "#0d0887"
            ],
            [
             0.1111111111111111,
             "#46039f"
            ],
            [
             0.2222222222222222,
             "#7201a8"
            ],
            [
             0.3333333333333333,
             "#9c179e"
            ],
            [
             0.4444444444444444,
             "#bd3786"
            ],
            [
             0.5555555555555556,
             "#d8576b"
            ],
            [
             0.6666666666666666,
             "#ed7953"
            ],
            [
             0.7777777777777778,
             "#fb9f3a"
            ],
            [
             0.8888888888888888,
             "#fdca26"
            ],
            [
             1,
             "#f0f921"
            ]
           ],
           "sequentialminus": [
            [
             0,
             "#0d0887"
            ],
            [
             0.1111111111111111,
             "#46039f"
            ],
            [
             0.2222222222222222,
             "#7201a8"
            ],
            [
             0.3333333333333333,
             "#9c179e"
            ],
            [
             0.4444444444444444,
             "#bd3786"
            ],
            [
             0.5555555555555556,
             "#d8576b"
            ],
            [
             0.6666666666666666,
             "#ed7953"
            ],
            [
             0.7777777777777778,
             "#fb9f3a"
            ],
            [
             0.8888888888888888,
             "#fdca26"
            ],
            [
             1,
             "#f0f921"
            ]
           ]
          },
          "colorway": [
           "#636efa",
           "#EF553B",
           "#00cc96",
           "#ab63fa",
           "#FFA15A",
           "#19d3f3",
           "#FF6692",
           "#B6E880",
           "#FF97FF",
           "#FECB52"
          ],
          "font": {
           "color": "#2a3f5f"
          },
          "geo": {
           "bgcolor": "white",
           "lakecolor": "white",
           "landcolor": "#E5ECF6",
           "showlakes": true,
           "showland": true,
           "subunitcolor": "white"
          },
          "hoverlabel": {
           "align": "left"
          },
          "hovermode": "closest",
          "mapbox": {
           "style": "light"
          },
          "paper_bgcolor": "white",
          "plot_bgcolor": "#E5ECF6",
          "polar": {
           "angularaxis": {
            "gridcolor": "white",
            "linecolor": "white",
            "ticks": ""
           },
           "bgcolor": "#E5ECF6",
           "radialaxis": {
            "gridcolor": "white",
            "linecolor": "white",
            "ticks": ""
           }
          },
          "scene": {
           "xaxis": {
            "backgroundcolor": "#E5ECF6",
            "gridcolor": "white",
            "gridwidth": 2,
            "linecolor": "white",
            "showbackground": true,
            "ticks": "",
            "zerolinecolor": "white"
           },
           "yaxis": {
            "backgroundcolor": "#E5ECF6",
            "gridcolor": "white",
            "gridwidth": 2,
            "linecolor": "white",
            "showbackground": true,
            "ticks": "",
            "zerolinecolor": "white"
           },
           "zaxis": {
            "backgroundcolor": "#E5ECF6",
            "gridcolor": "white",
            "gridwidth": 2,
            "linecolor": "white",
            "showbackground": true,
            "ticks": "",
            "zerolinecolor": "white"
           }
          },
          "shapedefaults": {
           "line": {
            "color": "#2a3f5f"
           }
          },
          "ternary": {
           "aaxis": {
            "gridcolor": "white",
            "linecolor": "white",
            "ticks": ""
           },
           "baxis": {
            "gridcolor": "white",
            "linecolor": "white",
            "ticks": ""
           },
           "bgcolor": "#E5ECF6",
           "caxis": {
            "gridcolor": "white",
            "linecolor": "white",
            "ticks": ""
           }
          },
          "title": {
           "x": 0.05
          },
          "xaxis": {
           "automargin": true,
           "gridcolor": "white",
           "linecolor": "white",
           "ticks": "",
           "title": {
            "standoff": 15
           },
           "zerolinecolor": "white",
           "zerolinewidth": 2
          },
          "yaxis": {
           "automargin": true,
           "gridcolor": "white",
           "linecolor": "white",
           "ticks": "",
           "title": {
            "standoff": 15
           },
           "zerolinecolor": "white",
           "zerolinewidth": 2
          }
         }
        },
        "title": {
         "text": "Input marginal probabilities"
        },
        "xaxis": {
         "anchor": "y",
         "domain": [
          0,
          1
         ],
         "title": {
          "text": "x"
         }
        },
        "yaxis": {
         "anchor": "x",
         "domain": [
          0,
          1
         ],
         "title": {
          "text": "y"
         }
        }
       }
      }
     },
     "metadata": {},
     "output_type": "display_data"
    },
    {
     "data": {
      "application/vnd.plotly.v1+json": {
       "config": {
        "plotlyServerURL": "https://plot.ly"
       },
       "data": [
        {
         "hovertemplate": "x=%{x}<br>y=%{y}<extra></extra>",
         "legendgroup": "",
         "marker": {
          "color": "#636efa",
          "pattern": {
           "shape": ""
          }
         },
         "name": "",
         "orientation": "v",
         "showlegend": false,
         "textposition": "auto",
         "type": "bar",
         "x": [
          "ZOLPIDEM",
          "WARFARIN",
          "VALSARTAN",
          "TRAMADOL",
          "TAMSULOSIN",
          "SIMVASTATIN",
          "SERTRALINE",
          "ROSUVASTATIN",
          "RANITIDINE",
          "PREDNISONE",
          "PRAVASTATIN",
          "POTASSIUM CHLORIDE",
          "PIOGLITAZONE",
          "OMEPRAZOLE",
          "MONTELUKAST",
          "METOPROLOL",
          "METFORMIN",
          "LOVASTATIN",
          "LOSARTAN",
          "LISINOPRIL",
          "LEVOTHYROXINE",
          "INSULIN GLARGINE",
          "IBUPROFEN",
          "HYDROCHLOROTHIAZIDE",
          "GLIPIZIDE",
          "GABAPENTIN",
          "FUROSEMIDE",
          "FLUTICASONE NASAL",
          "FEXOFENADINE",
          "ESOMEPRAZOLE",
          "CLOPIDOGREL",
          "CITALOPRAM",
          "CARVEDILOL",
          "ATORVASTATIN",
          "ATENOLOL",
          "ASPIRIN",
          "AMLODIPINE",
          "ALLOPURINOL",
          "ALENDRONATE",
          "ALBUTEROL"
         ],
         "xaxis": "x",
         "y": {
          "bdata": "acai6exkvD8Ls9DOaRa4P4BIv30dOLs/J58e2zLgvD/uBtFa0ea8P6KyYU1lUcA/uJBHcCNluz8XY2Adxw+9P9Ei2/l+asI/GmmpvB3hvD/ZI9QMqaK8P7Iqwk1Glb0/fqg0YmafwT/YEByXcVO7P0mgwabOo74/rkm3JXLBvT/QDOIDO/67P+4iTFEujbs/j1Tf+UUJuj9m+iXirfO7P8djBirj38E/fCqnPSXnvD8QAvIlVHC8P22tLxLacro/39+gvfp4vD8BpaFGIcm8PyqsVFBR9bs/aJWZ0vpbuj/MtWgB2la7P7A5B8+EJr0/HXV0XI3svj8G9wMeGEC8P6Pp7GRwlLw/gCctXFZhuz+fWKfK94y8P3L+JhQi4Lw/Q6ooXmVttz+LiGLyBpi9P/fpeMxAZbw/gCvZsRGIuz8=",
          "dtype": "f8"
         },
         "yaxis": "y"
        }
       ],
       "layout": {
        "barmode": "relative",
        "legend": {
         "tracegroupgap": 0
        },
        "template": {
         "data": {
          "bar": [
           {
            "error_x": {
             "color": "#2a3f5f"
            },
            "error_y": {
             "color": "#2a3f5f"
            },
            "marker": {
             "line": {
              "color": "#E5ECF6",
              "width": 0.5
             },
             "pattern": {
              "fillmode": "overlay",
              "size": 10,
              "solidity": 0.2
             }
            },
            "type": "bar"
           }
          ],
          "barpolar": [
           {
            "marker": {
             "line": {
              "color": "#E5ECF6",
              "width": 0.5
             },
             "pattern": {
              "fillmode": "overlay",
              "size": 10,
              "solidity": 0.2
             }
            },
            "type": "barpolar"
           }
          ],
          "carpet": [
           {
            "aaxis": {
             "endlinecolor": "#2a3f5f",
             "gridcolor": "white",
             "linecolor": "white",
             "minorgridcolor": "white",
             "startlinecolor": "#2a3f5f"
            },
            "baxis": {
             "endlinecolor": "#2a3f5f",
             "gridcolor": "white",
             "linecolor": "white",
             "minorgridcolor": "white",
             "startlinecolor": "#2a3f5f"
            },
            "type": "carpet"
           }
          ],
          "choropleth": [
           {
            "colorbar": {
             "outlinewidth": 0,
             "ticks": ""
            },
            "type": "choropleth"
           }
          ],
          "contour": [
           {
            "colorbar": {
             "outlinewidth": 0,
             "ticks": ""
            },
            "colorscale": [
             [
              0,
              "#0d0887"
             ],
             [
              0.1111111111111111,
              "#46039f"
             ],
             [
              0.2222222222222222,
              "#7201a8"
             ],
             [
              0.3333333333333333,
              "#9c179e"
             ],
             [
              0.4444444444444444,
              "#bd3786"
             ],
             [
              0.5555555555555556,
              "#d8576b"
             ],
             [
              0.6666666666666666,
              "#ed7953"
             ],
             [
              0.7777777777777778,
              "#fb9f3a"
             ],
             [
              0.8888888888888888,
              "#fdca26"
             ],
             [
              1,
              "#f0f921"
             ]
            ],
            "type": "contour"
           }
          ],
          "contourcarpet": [
           {
            "colorbar": {
             "outlinewidth": 0,
             "ticks": ""
            },
            "type": "contourcarpet"
           }
          ],
          "heatmap": [
           {
            "colorbar": {
             "outlinewidth": 0,
             "ticks": ""
            },
            "colorscale": [
             [
              0,
              "#0d0887"
             ],
             [
              0.1111111111111111,
              "#46039f"
             ],
             [
              0.2222222222222222,
              "#7201a8"
             ],
             [
              0.3333333333333333,
              "#9c179e"
             ],
             [
              0.4444444444444444,
              "#bd3786"
             ],
             [
              0.5555555555555556,
              "#d8576b"
             ],
             [
              0.6666666666666666,
              "#ed7953"
             ],
             [
              0.7777777777777778,
              "#fb9f3a"
             ],
             [
              0.8888888888888888,
              "#fdca26"
             ],
             [
              1,
              "#f0f921"
             ]
            ],
            "type": "heatmap"
           }
          ],
          "histogram": [
           {
            "marker": {
             "pattern": {
              "fillmode": "overlay",
              "size": 10,
              "solidity": 0.2
             }
            },
            "type": "histogram"
           }
          ],
          "histogram2d": [
           {
            "colorbar": {
             "outlinewidth": 0,
             "ticks": ""
            },
            "colorscale": [
             [
              0,
              "#0d0887"
             ],
             [
              0.1111111111111111,
              "#46039f"
             ],
             [
              0.2222222222222222,
              "#7201a8"
             ],
             [
              0.3333333333333333,
              "#9c179e"
             ],
             [
              0.4444444444444444,
              "#bd3786"
             ],
             [
              0.5555555555555556,
              "#d8576b"
             ],
             [
              0.6666666666666666,
              "#ed7953"
             ],
             [
              0.7777777777777778,
              "#fb9f3a"
             ],
             [
              0.8888888888888888,
              "#fdca26"
             ],
             [
              1,
              "#f0f921"
             ]
            ],
            "type": "histogram2d"
           }
          ],
          "histogram2dcontour": [
           {
            "colorbar": {
             "outlinewidth": 0,
             "ticks": ""
            },
            "colorscale": [
             [
              0,
              "#0d0887"
             ],
             [
              0.1111111111111111,
              "#46039f"
             ],
             [
              0.2222222222222222,
              "#7201a8"
             ],
             [
              0.3333333333333333,
              "#9c179e"
             ],
             [
              0.4444444444444444,
              "#bd3786"
             ],
             [
              0.5555555555555556,
              "#d8576b"
             ],
             [
              0.6666666666666666,
              "#ed7953"
             ],
             [
              0.7777777777777778,
              "#fb9f3a"
             ],
             [
              0.8888888888888888,
              "#fdca26"
             ],
             [
              1,
              "#f0f921"
             ]
            ],
            "type": "histogram2dcontour"
           }
          ],
          "mesh3d": [
           {
            "colorbar": {
             "outlinewidth": 0,
             "ticks": ""
            },
            "type": "mesh3d"
           }
          ],
          "parcoords": [
           {
            "line": {
             "colorbar": {
              "outlinewidth": 0,
              "ticks": ""
             }
            },
            "type": "parcoords"
           }
          ],
          "pie": [
           {
            "automargin": true,
            "type": "pie"
           }
          ],
          "scatter": [
           {
            "fillpattern": {
             "fillmode": "overlay",
             "size": 10,
             "solidity": 0.2
            },
            "type": "scatter"
           }
          ],
          "scatter3d": [
           {
            "line": {
             "colorbar": {
              "outlinewidth": 0,
              "ticks": ""
             }
            },
            "marker": {
             "colorbar": {
              "outlinewidth": 0,
              "ticks": ""
             }
            },
            "type": "scatter3d"
           }
          ],
          "scattercarpet": [
           {
            "marker": {
             "colorbar": {
              "outlinewidth": 0,
              "ticks": ""
             }
            },
            "type": "scattercarpet"
           }
          ],
          "scattergeo": [
           {
            "marker": {
             "colorbar": {
              "outlinewidth": 0,
              "ticks": ""
             }
            },
            "type": "scattergeo"
           }
          ],
          "scattergl": [
           {
            "marker": {
             "colorbar": {
              "outlinewidth": 0,
              "ticks": ""
             }
            },
            "type": "scattergl"
           }
          ],
          "scattermap": [
           {
            "marker": {
             "colorbar": {
              "outlinewidth": 0,
              "ticks": ""
             }
            },
            "type": "scattermap"
           }
          ],
          "scattermapbox": [
           {
            "marker": {
             "colorbar": {
              "outlinewidth": 0,
              "ticks": ""
             }
            },
            "type": "scattermapbox"
           }
          ],
          "scatterpolar": [
           {
            "marker": {
             "colorbar": {
              "outlinewidth": 0,
              "ticks": ""
             }
            },
            "type": "scatterpolar"
           }
          ],
          "scatterpolargl": [
           {
            "marker": {
             "colorbar": {
              "outlinewidth": 0,
              "ticks": ""
             }
            },
            "type": "scatterpolargl"
           }
          ],
          "scatterternary": [
           {
            "marker": {
             "colorbar": {
              "outlinewidth": 0,
              "ticks": ""
             }
            },
            "type": "scatterternary"
           }
          ],
          "surface": [
           {
            "colorbar": {
             "outlinewidth": 0,
             "ticks": ""
            },
            "colorscale": [
             [
              0,
              "#0d0887"
             ],
             [
              0.1111111111111111,
              "#46039f"
             ],
             [
              0.2222222222222222,
              "#7201a8"
             ],
             [
              0.3333333333333333,
              "#9c179e"
             ],
             [
              0.4444444444444444,
              "#bd3786"
             ],
             [
              0.5555555555555556,
              "#d8576b"
             ],
             [
              0.6666666666666666,
              "#ed7953"
             ],
             [
              0.7777777777777778,
              "#fb9f3a"
             ],
             [
              0.8888888888888888,
              "#fdca26"
             ],
             [
              1,
              "#f0f921"
             ]
            ],
            "type": "surface"
           }
          ],
          "table": [
           {
            "cells": {
             "fill": {
              "color": "#EBF0F8"
             },
             "line": {
              "color": "white"
             }
            },
            "header": {
             "fill": {
              "color": "#C8D4E3"
             },
             "line": {
              "color": "white"
             }
            },
            "type": "table"
           }
          ]
         },
         "layout": {
          "annotationdefaults": {
           "arrowcolor": "#2a3f5f",
           "arrowhead": 0,
           "arrowwidth": 1
          },
          "autotypenumbers": "strict",
          "coloraxis": {
           "colorbar": {
            "outlinewidth": 0,
            "ticks": ""
           }
          },
          "colorscale": {
           "diverging": [
            [
             0,
             "#8e0152"
            ],
            [
             0.1,
             "#c51b7d"
            ],
            [
             0.2,
             "#de77ae"
            ],
            [
             0.3,
             "#f1b6da"
            ],
            [
             0.4,
             "#fde0ef"
            ],
            [
             0.5,
             "#f7f7f7"
            ],
            [
             0.6,
             "#e6f5d0"
            ],
            [
             0.7,
             "#b8e186"
            ],
            [
             0.8,
             "#7fbc41"
            ],
            [
             0.9,
             "#4d9221"
            ],
            [
             1,
             "#276419"
            ]
           ],
           "sequential": [
            [
             0,
             "#0d0887"
            ],
            [
             0.1111111111111111,
             "#46039f"
            ],
            [
             0.2222222222222222,
             "#7201a8"
            ],
            [
             0.3333333333333333,
             "#9c179e"
            ],
            [
             0.4444444444444444,
             "#bd3786"
            ],
            [
             0.5555555555555556,
             "#d8576b"
            ],
            [
             0.6666666666666666,
             "#ed7953"
            ],
            [
             0.7777777777777778,
             "#fb9f3a"
            ],
            [
             0.8888888888888888,
             "#fdca26"
            ],
            [
             1,
             "#f0f921"
            ]
           ],
           "sequentialminus": [
            [
             0,
             "#0d0887"
            ],
            [
             0.1111111111111111,
             "#46039f"
            ],
            [
             0.2222222222222222,
             "#7201a8"
            ],
            [
             0.3333333333333333,
             "#9c179e"
            ],
            [
             0.4444444444444444,
             "#bd3786"
            ],
            [
             0.5555555555555556,
             "#d8576b"
            ],
            [
             0.6666666666666666,
             "#ed7953"
            ],
            [
             0.7777777777777778,
             "#fb9f3a"
            ],
            [
             0.8888888888888888,
             "#fdca26"
            ],
            [
             1,
             "#f0f921"
            ]
           ]
          },
          "colorway": [
           "#636efa",
           "#EF553B",
           "#00cc96",
           "#ab63fa",
           "#FFA15A",
           "#19d3f3",
           "#FF6692",
           "#B6E880",
           "#FF97FF",
           "#FECB52"
          ],
          "font": {
           "color": "#2a3f5f"
          },
          "geo": {
           "bgcolor": "white",
           "lakecolor": "white",
           "landcolor": "#E5ECF6",
           "showlakes": true,
           "showland": true,
           "subunitcolor": "white"
          },
          "hoverlabel": {
           "align": "left"
          },
          "hovermode": "closest",
          "mapbox": {
           "style": "light"
          },
          "paper_bgcolor": "white",
          "plot_bgcolor": "#E5ECF6",
          "polar": {
           "angularaxis": {
            "gridcolor": "white",
            "linecolor": "white",
            "ticks": ""
           },
           "bgcolor": "#E5ECF6",
           "radialaxis": {
            "gridcolor": "white",
            "linecolor": "white",
            "ticks": ""
           }
          },
          "scene": {
           "xaxis": {
            "backgroundcolor": "#E5ECF6",
            "gridcolor": "white",
            "gridwidth": 2,
            "linecolor": "white",
            "showbackground": true,
            "ticks": "",
            "zerolinecolor": "white"
           },
           "yaxis": {
            "backgroundcolor": "#E5ECF6",
            "gridcolor": "white",
            "gridwidth": 2,
            "linecolor": "white",
            "showbackground": true,
            "ticks": "",
            "zerolinecolor": "white"
           },
           "zaxis": {
            "backgroundcolor": "#E5ECF6",
            "gridcolor": "white",
            "gridwidth": 2,
            "linecolor": "white",
            "showbackground": true,
            "ticks": "",
            "zerolinecolor": "white"
           }
          },
          "shapedefaults": {
           "line": {
            "color": "#2a3f5f"
           }
          },
          "ternary": {
           "aaxis": {
            "gridcolor": "white",
            "linecolor": "white",
            "ticks": ""
           },
           "baxis": {
            "gridcolor": "white",
            "linecolor": "white",
            "ticks": ""
           },
           "bgcolor": "#E5ECF6",
           "caxis": {
            "gridcolor": "white",
            "linecolor": "white",
            "ticks": ""
           }
          },
          "title": {
           "x": 0.05
          },
          "xaxis": {
           "automargin": true,
           "gridcolor": "white",
           "linecolor": "white",
           "ticks": "",
           "title": {
            "standoff": 15
           },
           "zerolinecolor": "white",
           "zerolinewidth": 2
          },
          "yaxis": {
           "automargin": true,
           "gridcolor": "white",
           "linecolor": "white",
           "ticks": "",
           "title": {
            "standoff": 15
           },
           "zerolinecolor": "white",
           "zerolinewidth": 2
          }
         }
        },
        "title": {
         "text": "Sampled marginal probabilities"
        },
        "xaxis": {
         "anchor": "y",
         "categoryarray": [
          "ZOLPIDEM",
          "WARFARIN",
          "VALSARTAN",
          "TRAMADOL",
          "TAMSULOSIN",
          "SIMVASTATIN",
          "SERTRALINE",
          "ROSUVASTATIN",
          "RANITIDINE",
          "PREDNISONE",
          "PRAVASTATIN",
          "POTASSIUM CHLORIDE",
          "PIOGLITAZONE",
          "OMEPRAZOLE",
          "MONTELUKAST",
          "METOPROLOL",
          "METFORMIN",
          "LOVASTATIN",
          "LOSARTAN",
          "LISINOPRIL",
          "LEVOTHYROXINE",
          "INSULIN GLARGINE",
          "IBUPROFEN",
          "HYDROCHLOROTHIAZIDE",
          "GLIPIZIDE",
          "GABAPENTIN",
          "FUROSEMIDE",
          "FLUTICASONE NASAL",
          "FEXOFENADINE",
          "ESOMEPRAZOLE",
          "CLOPIDOGREL",
          "CITALOPRAM",
          "CARVEDILOL",
          "ATORVASTATIN",
          "ATENOLOL",
          "ASPIRIN",
          "AMLODIPINE",
          "ALLOPURINOL",
          "ALENDRONATE",
          "ALBUTEROL"
         ],
         "categoryorder": "array",
         "domain": [
          0,
          1
         ],
         "title": {
          "text": "x"
         }
        },
        "yaxis": {
         "anchor": "x",
         "domain": [
          0,
          1
         ],
         "title": {
          "text": "y"
         }
        }
       }
      }
     },
     "metadata": {},
     "output_type": "display_data"
    }
   ],
   "source": [
    "# feature_probs = np.loadtxt('feat_probs_all_equal_0.7.csv', delimiter=',')\n",
    "feature_probs = np.array([0.05] * 40)\n",
    "\n",
    "nsamples = 1000000\n",
    "sample_3, _ = generate_multivariate_binary(40, nsamples, feature_probs, correlation_matrix, (3, 6))\n",
    "visualize(sample_3)"
   ]
  },
  {
   "cell_type": "code",
   "execution_count": 17,
   "metadata": {},
   "outputs": [
    {
     "name": "stdout",
     "output_type": "stream",
     "text": [
      "Number of drugs per sample \n",
      " sum\n",
      "3.0    200085\n",
      "4.0    199867\n",
      "5.0    200016\n",
      "6.0    199438\n",
      "7.0    200594\n",
      "Name: count, dtype: int64\n"
     ]
    }
   ],
   "source": [
    "sampledf = pd.DataFrame(sample_3, columns=drug_names_unique)\n",
    "sampledf['sum'] = sampledf.sum(axis=1)\n",
    "print('Number of drugs per sample \\n', sampledf['sum'].value_counts().sort_index())"
   ]
  }
 ],
 "metadata": {
  "kernelspec": {
   "display_name": "Python 3",
   "language": "python",
   "name": "python3"
  },
  "language_info": {
   "codemirror_mode": {
    "name": "ipython",
    "version": 3
   },
   "file_extension": ".py",
   "mimetype": "text/x-python",
   "name": "python",
   "nbconvert_exporter": "python",
   "pygments_lexer": "ipython3",
   "version": "3.9.6"
  }
 },
 "nbformat": 4,
 "nbformat_minor": 2
}
