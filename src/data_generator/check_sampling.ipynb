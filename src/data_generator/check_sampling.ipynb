{
 "cells": [
  {
   "cell_type": "code",
   "execution_count": 36,
   "metadata": {},
   "outputs": [],
   "source": [
    "import bindata as bnd\n",
    "import pandas as pd\n",
    "import numpy as np\n",
    "capsules = pd.read_csv('../../capsules_with_freq.csv', sep=';')\n",
    "drug_names_unique = capsules[['Drug_1', 'Drug_2', 'Drug_3', 'Drug_4', 'Drug_5', 'Drug_6', 'Drug_7', 'Drug_8']].stack().unique()\n",
    "# normalize capsules['exact_exposure_count] to 0, 100\n",
    "capsules['exact_exposure_count'] = capsules['exact_exposure_count'].replace('<100', 100)\n",
    "capsules['exact_exposure_count'] = capsules['exact_exposure_count'].replace('1', 100)\n",
    "capsules['exact_exposure_count'] = capsules['exact_exposure_count'].astype(int)\n",
    "capsules['exact_exposure_count'] = capsules['exact_exposure_count'] / (capsules['exact_exposure_count']).max() * 20000\n",
    "capsules['exact_exposure_count'] = capsules['exact_exposure_count'].astype(int) + 1\n",
    "\n",
    "# Restructure the data (columns are drugs and rows are patients, values are 0 or 1)\n",
    "data = []\n",
    "for i, row in capsules.iterrows():\n",
    "    patient_data = []\n",
    "    for drug in drug_names_unique:\n",
    "        patient_data.append(int(drug in row.values))\n",
    "    \n",
    "    # data.append(patient_data)\n",
    "    data.extend([patient_data] * row['exact_exposure_count'])\n",
    "\n",
    "index = [f\"comb{i}\" for i in range(len(data))]\n",
    "data = pd.DataFrame(data, columns=drug_names_unique, dtype=int, index=index)\n",
    "data.head()\n",
    "data.shape\n",
    "\n",
    "feature_probs = np.mean(data, axis=0)\n",
    "feature_probs = np.loadtxt('feat_probs_steep.csv', delimiter=',')\n",
    "\n",
    "\n",
    "correlation_matrix = np.corrcoef(data, rowvar=False) # correlation, same as (np.cov(X,Y)[0,1]/(np.std(X,ddof=1)*np.std(Y,ddof=1)))\n",
    "correlation_matrix = np.ceil(correlation_matrix * 1e12) / 1e12\n",
    "# store feat_probs and correlation_matrix csv\n",
    "np.savetxt('feat_probs.csv', feature_probs, delimiter=',')\n",
    "np.savetxt('correlation_matrix.csv', correlation_matrix, delimiter=',')"
   ]
  },
  {
   "cell_type": "code",
   "execution_count": 37,
   "metadata": {},
   "outputs": [
    {
     "name": "stderr",
     "output_type": "stream",
     "text": [
      "/Users/karina/Library/Python/3.9/lib/python/site-packages/bindata/check_commonprob.py:81: UserWarning:\n",
      "\n",
      "simulvals provided is not computed to a sufficient resolution\n",
      "to resolve the common probabilies provided in commonprob.\n",
      "\n",
      "\n",
      "INTERPOLATION IS GOING TO BE USED.\n",
      "\n",
      "Consider computing simulvals on a finer grid.\n",
      "The current resolution is on these points:\n",
      "[(0, 0), (0, 0.001), (0, 0.01), (0, np.float64(0.05)), (0, np.float64(0.1)), (0, np.float64(0.15)), (0, np.float64(0.2)), (0, np.float64(0.25)), (0, np.float64(0.3)), (0, np.float64(0.35)), (0, np.float64(0.4)), (0, np.float64(0.45)), (0, np.float64(0.5)), (0, np.float64(0.55)), (0, np.float64(0.6)), (0, np.float64(0.65)), (0, np.float64(0.7)), (0, np.float64(0.75)), (0, np.float64(0.8)), (0, np.float64(0.85)), (0, np.float64(0.9)), (0, np.float64(0.95)), (0, 0.99), (0, 0.999), (0, 1), (0.001, 0.001), (0.001, 0.01), (0.001, np.float64(0.05)), (0.001, np.float64(0.1)), (0.001, np.float64(0.15)), (0.001, np.float64(0.2)), (0.001, np.float64(0.25)), (0.001, np.float64(0.3)), (0.001, np.float64(0.35)), (0.001, np.float64(0.4)), (0.001, np.float64(0.45)), (0.001, np.float64(0.5)), (0.001, np.float64(0.55)), (0.001, np.float64(0.6)), (0.001, np.float64(0.65)), (0.001, np.float64(0.7)), (0.001, np.float64(0.75)), (0.001, np.float64(0.8)), (0.001, np.float64(0.85)), (0.001, np.float64(0.9)), (0.001, np.float64(0.95)), (0.001, 0.99), (0.001, 0.999), (0.001, 1), (0.01, 0.01), (0.01, np.float64(0.05)), (0.01, np.float64(0.1)), (0.01, np.float64(0.15)), (0.01, np.float64(0.2)), (0.01, np.float64(0.25)), (0.01, np.float64(0.3)), (0.01, np.float64(0.35)), (0.01, np.float64(0.4)), (0.01, np.float64(0.45)), (0.01, np.float64(0.5)), (0.01, np.float64(0.55)), (0.01, np.float64(0.6)), (0.01, np.float64(0.65)), (0.01, np.float64(0.7)), (0.01, np.float64(0.75)), (0.01, np.float64(0.8)), (0.01, np.float64(0.85)), (0.01, np.float64(0.9)), (0.01, np.float64(0.95)), (0.01, 0.99), (0.01, 0.999), (0.01, 1), (np.float64(0.05), np.float64(0.05)), (np.float64(0.05), np.float64(0.1)), (np.float64(0.05), np.float64(0.15)), (np.float64(0.05), np.float64(0.2)), (np.float64(0.05), np.float64(0.25)), (np.float64(0.05), np.float64(0.3)), (np.float64(0.05), np.float64(0.35)), (np.float64(0.05), np.float64(0.4)), (np.float64(0.05), np.float64(0.45)), (np.float64(0.05), np.float64(0.5)), (np.float64(0.05), np.float64(0.55)), (np.float64(0.05), np.float64(0.6)), (np.float64(0.05), np.float64(0.65)), (np.float64(0.05), np.float64(0.7)), (np.float64(0.05), np.float64(0.75)), (np.float64(0.05), np.float64(0.8)), (np.float64(0.05), np.float64(0.85)), (np.float64(0.05), np.float64(0.9)), (np.float64(0.05), np.float64(0.95)), (np.float64(0.05), 0.99), (np.float64(0.05), 0.999), (np.float64(0.05), 1), (np.float64(0.1), np.float64(0.1)), (np.float64(0.1), np.float64(0.15)), (np.float64(0.1), np.float64(0.2)), (np.float64(0.1), np.float64(0.25)), (np.float64(0.1), np.float64(0.3)), (np.float64(0.1), np.float64(0.35)), (np.float64(0.1), np.float64(0.4)), (np.float64(0.1), np.float64(0.45)), (np.float64(0.1), np.float64(0.5)), (np.float64(0.1), np.float64(0.55)), (np.float64(0.1), np.float64(0.6)), (np.float64(0.1), np.float64(0.65)), (np.float64(0.1), np.float64(0.7)), (np.float64(0.1), np.float64(0.75)), (np.float64(0.1), np.float64(0.8)), (np.float64(0.1), np.float64(0.85)), (np.float64(0.1), np.float64(0.9)), (np.float64(0.1), np.float64(0.95)), (np.float64(0.1), 0.99), (np.float64(0.1), 0.999), (np.float64(0.1), 1), (np.float64(0.15), np.float64(0.15)), (np.float64(0.15), np.float64(0.2)), (np.float64(0.15), np.float64(0.25)), (np.float64(0.15), np.float64(0.3)), (np.float64(0.15), np.float64(0.35)), (np.float64(0.15), np.float64(0.4)), (np.float64(0.15), np.float64(0.45)), (np.float64(0.15), np.float64(0.5)), (np.float64(0.15), np.float64(0.55)), (np.float64(0.15), np.float64(0.6)), (np.float64(0.15), np.float64(0.65)), (np.float64(0.15), np.float64(0.7)), (np.float64(0.15), np.float64(0.75)), (np.float64(0.15), np.float64(0.8)), (np.float64(0.15), np.float64(0.85)), (np.float64(0.15), np.float64(0.9)), (np.float64(0.15), np.float64(0.95)), (np.float64(0.15), 0.99), (np.float64(0.15), 0.999), (np.float64(0.15), 1), (np.float64(0.2), np.float64(0.2)), (np.float64(0.2), np.float64(0.25)), (np.float64(0.2), np.float64(0.3)), (np.float64(0.2), np.float64(0.35)), (np.float64(0.2), np.float64(0.4)), (np.float64(0.2), np.float64(0.45)), (np.float64(0.2), np.float64(0.5)), (np.float64(0.2), np.float64(0.55)), (np.float64(0.2), np.float64(0.6)), (np.float64(0.2), np.float64(0.65)), (np.float64(0.2), np.float64(0.7)), (np.float64(0.2), np.float64(0.75)), (np.float64(0.2), np.float64(0.8)), (np.float64(0.2), np.float64(0.85)), (np.float64(0.2), np.float64(0.9)), (np.float64(0.2), np.float64(0.95)), (np.float64(0.2), 0.99), (np.float64(0.2), 0.999), (np.float64(0.2), 1), (np.float64(0.25), np.float64(0.25)), (np.float64(0.25), np.float64(0.3)), (np.float64(0.25), np.float64(0.35)), (np.float64(0.25), np.float64(0.4)), (np.float64(0.25), np.float64(0.45)), (np.float64(0.25), np.float64(0.5)), (np.float64(0.25), np.float64(0.55)), (np.float64(0.25), np.float64(0.6)), (np.float64(0.25), np.float64(0.65)), (np.float64(0.25), np.float64(0.7)), (np.float64(0.25), np.float64(0.75)), (np.float64(0.25), np.float64(0.8)), (np.float64(0.25), np.float64(0.85)), (np.float64(0.25), np.float64(0.9)), (np.float64(0.25), np.float64(0.95)), (np.float64(0.25), 0.99), (np.float64(0.25), 0.999), (np.float64(0.25), 1), (np.float64(0.3), np.float64(0.3)), (np.float64(0.3), np.float64(0.35)), (np.float64(0.3), np.float64(0.4)), (np.float64(0.3), np.float64(0.45)), (np.float64(0.3), np.float64(0.5)), (np.float64(0.3), np.float64(0.55)), (np.float64(0.3), np.float64(0.6)), (np.float64(0.3), np.float64(0.65)), (np.float64(0.3), np.float64(0.7)), (np.float64(0.3), np.float64(0.75)), (np.float64(0.3), np.float64(0.8)), (np.float64(0.3), np.float64(0.85)), (np.float64(0.3), np.float64(0.9)), (np.float64(0.3), np.float64(0.95)), (np.float64(0.3), 0.99), (np.float64(0.3), 0.999), (np.float64(0.3), 1), (np.float64(0.35), np.float64(0.35)), (np.float64(0.35), np.float64(0.4)), (np.float64(0.35), np.float64(0.45)), (np.float64(0.35), np.float64(0.5)), (np.float64(0.35), np.float64(0.55)), (np.float64(0.35), np.float64(0.6)), (np.float64(0.35), np.float64(0.65)), (np.float64(0.35), np.float64(0.7)), (np.float64(0.35), np.float64(0.75)), (np.float64(0.35), np.float64(0.8)), (np.float64(0.35), np.float64(0.85)), (np.float64(0.35), np.float64(0.9)), (np.float64(0.35), np.float64(0.95)), (np.float64(0.35), 0.99), (np.float64(0.35), 0.999), (np.float64(0.35), 1), (np.float64(0.4), np.float64(0.4)), (np.float64(0.4), np.float64(0.45)), (np.float64(0.4), np.float64(0.5)), (np.float64(0.4), np.float64(0.55)), (np.float64(0.4), np.float64(0.6)), (np.float64(0.4), np.float64(0.65)), (np.float64(0.4), np.float64(0.7)), (np.float64(0.4), np.float64(0.75)), (np.float64(0.4), np.float64(0.8)), (np.float64(0.4), np.float64(0.85)), (np.float64(0.4), np.float64(0.9)), (np.float64(0.4), np.float64(0.95)), (np.float64(0.4), 0.99), (np.float64(0.4), 0.999), (np.float64(0.4), 1), (np.float64(0.45), np.float64(0.45)), (np.float64(0.45), np.float64(0.5)), (np.float64(0.45), np.float64(0.55)), (np.float64(0.45), np.float64(0.6)), (np.float64(0.45), np.float64(0.65)), (np.float64(0.45), np.float64(0.7)), (np.float64(0.45), np.float64(0.75)), (np.float64(0.45), np.float64(0.8)), (np.float64(0.45), np.float64(0.85)), (np.float64(0.45), np.float64(0.9)), (np.float64(0.45), np.float64(0.95)), (np.float64(0.45), 0.99), (np.float64(0.45), 0.999), (np.float64(0.45), 1), (np.float64(0.5), np.float64(0.5)), (np.float64(0.5), np.float64(0.55)), (np.float64(0.5), np.float64(0.6)), (np.float64(0.5), np.float64(0.65)), (np.float64(0.5), np.float64(0.7)), (np.float64(0.5), np.float64(0.75)), (np.float64(0.5), np.float64(0.8)), (np.float64(0.5), np.float64(0.85)), (np.float64(0.5), np.float64(0.9)), (np.float64(0.5), np.float64(0.95)), (np.float64(0.5), 0.99), (np.float64(0.5), 0.999), (np.float64(0.5), 1), (np.float64(0.55), np.float64(0.55)), (np.float64(0.55), np.float64(0.6)), (np.float64(0.55), np.float64(0.65)), (np.float64(0.55), np.float64(0.7)), (np.float64(0.55), np.float64(0.75)), (np.float64(0.55), np.float64(0.8)), (np.float64(0.55), np.float64(0.85)), (np.float64(0.55), np.float64(0.9)), (np.float64(0.55), np.float64(0.95)), (np.float64(0.55), 0.99), (np.float64(0.55), 0.999), (np.float64(0.55), 1), (np.float64(0.6), np.float64(0.6)), (np.float64(0.6), np.float64(0.65)), (np.float64(0.6), np.float64(0.7)), (np.float64(0.6), np.float64(0.75)), (np.float64(0.6), np.float64(0.8)), (np.float64(0.6), np.float64(0.85)), (np.float64(0.6), np.float64(0.9)), (np.float64(0.6), np.float64(0.95)), (np.float64(0.6), 0.99), (np.float64(0.6), 0.999), (np.float64(0.6), 1), (np.float64(0.65), np.float64(0.65)), (np.float64(0.65), np.float64(0.7)), (np.float64(0.65), np.float64(0.75)), (np.float64(0.65), np.float64(0.8)), (np.float64(0.65), np.float64(0.85)), (np.float64(0.65), np.float64(0.9)), (np.float64(0.65), np.float64(0.95)), (np.float64(0.65), 0.99), (np.float64(0.65), 0.999), (np.float64(0.65), 1), (np.float64(0.7), np.float64(0.7)), (np.float64(0.7), np.float64(0.75)), (np.float64(0.7), np.float64(0.8)), (np.float64(0.7), np.float64(0.85)), (np.float64(0.7), np.float64(0.9)), (np.float64(0.7), np.float64(0.95)), (np.float64(0.7), 0.99), (np.float64(0.7), 0.999), (np.float64(0.7), 1), (np.float64(0.75), np.float64(0.75)), (np.float64(0.75), np.float64(0.8)), (np.float64(0.75), np.float64(0.85)), (np.float64(0.75), np.float64(0.9)), (np.float64(0.75), np.float64(0.95)), (np.float64(0.75), 0.99), (np.float64(0.75), 0.999), (np.float64(0.75), 1), (np.float64(0.8), np.float64(0.8)), (np.float64(0.8), np.float64(0.85)), (np.float64(0.8), np.float64(0.9)), (np.float64(0.8), np.float64(0.95)), (np.float64(0.8), 0.99), (np.float64(0.8), 0.999), (np.float64(0.8), 1), (np.float64(0.85), np.float64(0.85)), (np.float64(0.85), np.float64(0.9)), (np.float64(0.85), np.float64(0.95)), (np.float64(0.85), 0.99), (np.float64(0.85), 0.999), (np.float64(0.85), 1), (np.float64(0.9), np.float64(0.9)), (np.float64(0.9), np.float64(0.95)), (np.float64(0.9), 0.99), (np.float64(0.9), 0.999), (np.float64(0.9), 1), (np.float64(0.95), np.float64(0.95)), (np.float64(0.95), 0.99), (np.float64(0.95), 0.999), (np.float64(0.95), 1), (0.99, 0.99), (0.99, 0.999), (0.99, 1), (0.999, 0.999), (0.999, 1), (1, 1)]\n",
      "Alternatively round the common probabilities or correlations provided\n",
      "to fewer decimal places.\n",
      "\n"
     ]
    }
   ],
   "source": [
    "from main import generate_multivariate_binary, filter_rows\n",
    "\n",
    "nsamples = 1000000\n",
    "sample, mu, sigma = generate_multivariate_binary(40, nsamples, feature_probs, correlation_matrix)\n",
    "sample = filter_rows(sample, mu, sigma, nsamples)"
   ]
  },
  {
   "cell_type": "code",
   "execution_count": 38,
   "metadata": {},
   "outputs": [
    {
     "name": "stdout",
     "output_type": "stream",
     "text": [
      "sum\n",
      "3    352760\n",
      "4     29011\n",
      "5      1735\n",
      "6       104\n",
      "7        26\n",
      "8         6\n",
      "Name: count, dtype: int64\n",
      "sum\n",
      "3    461209\n",
      "4    345496\n",
      "5    146131\n",
      "6     39686\n",
      "7      7478\n",
      "Name: count, dtype: int64\n"
     ]
    },
    {
     "data": {
      "text/plain": [
       "(1000000, 40)"
      ]
     },
     "execution_count": 38,
     "metadata": {},
     "output_type": "execute_result"
    }
   ],
   "source": [
    "# group by sum \n",
    "sample = sample.astype(int)\n",
    "sampledf = pd.DataFrame(data, columns=drug_names_unique)\n",
    "sampledf['sum'] = sampledf.sum(axis=1)\n",
    "print(sampledf['sum'].value_counts().sort_index())\n",
    "\n",
    "sampledf = pd.DataFrame(sample, columns=drug_names_unique)\n",
    "sampledf['sum'] = sampledf.sum(axis=1)\n",
    "print(sampledf['sum'].value_counts().sort_index())\n",
    "\n",
    "sample_new = sample[np.sum(sample, axis=1) > 2]\n",
    "sample_new = sample_new[np.sum(sample_new, axis=1) <= 7]\n",
    "sample_new.shape"
   ]
  },
  {
   "cell_type": "code",
   "execution_count": 39,
   "metadata": {},
   "outputs": [],
   "source": [
    "import plotly.express as px\n",
    "def visualize(sample_data):\n",
    "    corr_with_zero_diag = np.corrcoef(data, rowvar=False) - np.eye(sample_data.shape[1])\n",
    "    fig = px.imshow(corr_with_zero_diag, x=drug_names_unique, y=drug_names_unique, zmin=-1, zmax=1, color_continuous_scale='RdBu', title='Input correlation matrix')\n",
    "    fig.show()\n",
    "    corr_with_zero_diag = np.corrcoef(sample_data, rowvar=False) - np.eye(sample_data.shape[1])\n",
    "    fig = px.imshow(corr_with_zero_diag, x=drug_names_unique, y=drug_names_unique, zmin=-1, zmax=1, color_continuous_scale='RdBu', title='Sample correlation matrix')\n",
    "    fig.show()\n",
    "\n",
    "    # sort drug_names_unique and feature_probs by feature_probs\n",
    "    drug_names_unique_sorted = [x for _, x in sorted(zip(feature_probs, drug_names_unique), reverse=True)]\n",
    "    feature_probs_sorted = sorted(feature_probs, reverse=True)\n",
    "    sample_marg_sorted = np.mean(sample_data, axis=0)[np.argsort(feature_probs)[::-1]]\n",
    "\n",
    "    fig = px.bar(x=drug_names_unique_sorted, y=feature_probs_sorted, title='Input marginal probabilities')\n",
    "    # fig.update_xaxes(categoryorder='total descending')\n",
    "    fig.show()\n",
    "    fig = px.bar(x=drug_names_unique_sorted, y=sample_marg_sorted, title='Sampled marginal probabilities')\n",
    "    # fig.update_xaxes(categoryorder='total descending') same ordering as in fig 1\n",
    "    fig.update_xaxes(categoryorder='array', categoryarray=drug_names_unique_sorted)\n",
    "    fig.show()"
   ]
  },
  {
   "cell_type": "code",
   "execution_count": 40,
   "metadata": {},
   "outputs": [
    {
     "data": {
      "application/vnd.plotly.v1+json": {
       "config": {
        "plotlyServerURL": "https://plot.ly"
       },
       "data": [
        {
         "coloraxis": "coloraxis",
         "hovertemplate": "x: %{x}<br>y: %{y}<br>color: %{z}<extra></extra>",
         "name": "0",
         "type": "heatmap",
         "x": [
          "CARVEDILOL",
          "ESOMEPRAZOLE",
          "LEVOTHYROXINE",
          "TRAMADOL",
          "AMLODIPINE",
          "METOPROLOL",
          "OMEPRAZOLE",
          "SIMVASTATIN",
          "TAMSULOSIN",
          "ALENDRONATE",
          "ATORVASTATIN",
          "LISINOPRIL",
          "LOSARTAN",
          "SERTRALINE",
          "METFORMIN",
          "PIOGLITAZONE",
          "PRAVASTATIN",
          "FUROSEMIDE",
          "POTASSIUM CHLORIDE",
          "HYDROCHLOROTHIAZIDE",
          "ATENOLOL",
          "WARFARIN",
          "ASPIRIN",
          "LOVASTATIN",
          "ALBUTEROL",
          "GLIPIZIDE",
          "RANITIDINE",
          "GABAPENTIN",
          "INSULIN GLARGINE",
          "CLOPIDOGREL",
          "ZOLPIDEM",
          "ALLOPURINOL",
          "CITALOPRAM",
          "PREDNISONE",
          "ROSUVASTATIN",
          "VALSARTAN",
          "IBUPROFEN",
          "FEXOFENADINE",
          "MONTELUKAST",
          "FLUTICASONE NASAL"
         ],
         "xaxis": "x",
         "y": [
          "CARVEDILOL",
          "ESOMEPRAZOLE",
          "LEVOTHYROXINE",
          "TRAMADOL",
          "AMLODIPINE",
          "METOPROLOL",
          "OMEPRAZOLE",
          "SIMVASTATIN",
          "TAMSULOSIN",
          "ALENDRONATE",
          "ATORVASTATIN",
          "LISINOPRIL",
          "LOSARTAN",
          "SERTRALINE",
          "METFORMIN",
          "PIOGLITAZONE",
          "PRAVASTATIN",
          "FUROSEMIDE",
          "POTASSIUM CHLORIDE",
          "HYDROCHLOROTHIAZIDE",
          "ATENOLOL",
          "WARFARIN",
          "ASPIRIN",
          "LOVASTATIN",
          "ALBUTEROL",
          "GLIPIZIDE",
          "RANITIDINE",
          "GABAPENTIN",
          "INSULIN GLARGINE",
          "CLOPIDOGREL",
          "ZOLPIDEM",
          "ALLOPURINOL",
          "CITALOPRAM",
          "PREDNISONE",
          "ROSUVASTATIN",
          "VALSARTAN",
          "IBUPROFEN",
          "FEXOFENADINE",
          "MONTELUKAST",
          "FLUTICASONE NASAL"
         ],
         "yaxis": "y",
         "z": {
          "bdata": "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",
          "dtype": "f8",
          "shape": "40, 40"
         }
        }
       ],
       "layout": {
        "coloraxis": {
         "cmax": 1,
         "cmin": -1,
         "colorscale": [
          [
           0,
           "rgb(103,0,31)"
          ],
          [
           0.1,
           "rgb(178,24,43)"
          ],
          [
           0.2,
           "rgb(214,96,77)"
          ],
          [
           0.3,
           "rgb(244,165,130)"
          ],
          [
           0.4,
           "rgb(253,219,199)"
          ],
          [
           0.5,
           "rgb(247,247,247)"
          ],
          [
           0.6,
           "rgb(209,229,240)"
          ],
          [
           0.7,
           "rgb(146,197,222)"
          ],
          [
           0.8,
           "rgb(67,147,195)"
          ],
          [
           0.9,
           "rgb(33,102,172)"
          ],
          [
           1,
           "rgb(5,48,97)"
          ]
         ]
        },
        "template": {
         "data": {
          "bar": [
           {
            "error_x": {
             "color": "#2a3f5f"
            },
            "error_y": {
             "color": "#2a3f5f"
            },
            "marker": {
             "line": {
              "color": "#E5ECF6",
              "width": 0.5
             },
             "pattern": {
              "fillmode": "overlay",
              "size": 10,
              "solidity": 0.2
             }
            },
            "type": "bar"
           }
          ],
          "barpolar": [
           {
            "marker": {
             "line": {
              "color": "#E5ECF6",
              "width": 0.5
             },
             "pattern": {
              "fillmode": "overlay",
              "size": 10,
              "solidity": 0.2
             }
            },
            "type": "barpolar"
           }
          ],
          "carpet": [
           {
            "aaxis": {
             "endlinecolor": "#2a3f5f",
             "gridcolor": "white",
             "linecolor": "white",
             "minorgridcolor": "white",
             "startlinecolor": "#2a3f5f"
            },
            "baxis": {
             "endlinecolor": "#2a3f5f",
             "gridcolor": "white",
             "linecolor": "white",
             "minorgridcolor": "white",
             "startlinecolor": "#2a3f5f"
            },
            "type": "carpet"
           }
          ],
          "choropleth": [
           {
            "colorbar": {
             "outlinewidth": 0,
             "ticks": ""
            },
            "type": "choropleth"
           }
          ],
          "contour": [
           {
            "colorbar": {
             "outlinewidth": 0,
             "ticks": ""
            },
            "colorscale": [
             [
              0,
              "#0d0887"
             ],
             [
              0.1111111111111111,
              "#46039f"
             ],
             [
              0.2222222222222222,
              "#7201a8"
             ],
             [
              0.3333333333333333,
              "#9c179e"
             ],
             [
              0.4444444444444444,
              "#bd3786"
             ],
             [
              0.5555555555555556,
              "#d8576b"
             ],
             [
              0.6666666666666666,
              "#ed7953"
             ],
             [
              0.7777777777777778,
              "#fb9f3a"
             ],
             [
              0.8888888888888888,
              "#fdca26"
             ],
             [
              1,
              "#f0f921"
             ]
            ],
            "type": "contour"
           }
          ],
          "contourcarpet": [
           {
            "colorbar": {
             "outlinewidth": 0,
             "ticks": ""
            },
            "type": "contourcarpet"
           }
          ],
          "heatmap": [
           {
            "colorbar": {
             "outlinewidth": 0,
             "ticks": ""
            },
            "colorscale": [
             [
              0,
              "#0d0887"
             ],
             [
              0.1111111111111111,
              "#46039f"
             ],
             [
              0.2222222222222222,
              "#7201a8"
             ],
             [
              0.3333333333333333,
              "#9c179e"
             ],
             [
              0.4444444444444444,
              "#bd3786"
             ],
             [
              0.5555555555555556,
              "#d8576b"
             ],
             [
              0.6666666666666666,
              "#ed7953"
             ],
             [
              0.7777777777777778,
              "#fb9f3a"
             ],
             [
              0.8888888888888888,
              "#fdca26"
             ],
             [
              1,
              "#f0f921"
             ]
            ],
            "type": "heatmap"
           }
          ],
          "histogram": [
           {
            "marker": {
             "pattern": {
              "fillmode": "overlay",
              "size": 10,
              "solidity": 0.2
             }
            },
            "type": "histogram"
           }
          ],
          "histogram2d": [
           {
            "colorbar": {
             "outlinewidth": 0,
             "ticks": ""
            },
            "colorscale": [
             [
              0,
              "#0d0887"
             ],
             [
              0.1111111111111111,
              "#46039f"
             ],
             [
              0.2222222222222222,
              "#7201a8"
             ],
             [
              0.3333333333333333,
              "#9c179e"
             ],
             [
              0.4444444444444444,
              "#bd3786"
             ],
             [
              0.5555555555555556,
              "#d8576b"
             ],
             [
              0.6666666666666666,
              "#ed7953"
             ],
             [
              0.7777777777777778,
              "#fb9f3a"
             ],
             [
              0.8888888888888888,
              "#fdca26"
             ],
             [
              1,
              "#f0f921"
             ]
            ],
            "type": "histogram2d"
           }
          ],
          "histogram2dcontour": [
           {
            "colorbar": {
             "outlinewidth": 0,
             "ticks": ""
            },
            "colorscale": [
             [
              0,
              "#0d0887"
             ],
             [
              0.1111111111111111,
              "#46039f"
             ],
             [
              0.2222222222222222,
              "#7201a8"
             ],
             [
              0.3333333333333333,
              "#9c179e"
             ],
             [
              0.4444444444444444,
              "#bd3786"
             ],
             [
              0.5555555555555556,
              "#d8576b"
             ],
             [
              0.6666666666666666,
              "#ed7953"
             ],
             [
              0.7777777777777778,
              "#fb9f3a"
             ],
             [
              0.8888888888888888,
              "#fdca26"
             ],
             [
              1,
              "#f0f921"
             ]
            ],
            "type": "histogram2dcontour"
           }
          ],
          "mesh3d": [
           {
            "colorbar": {
             "outlinewidth": 0,
             "ticks": ""
            },
            "type": "mesh3d"
           }
          ],
          "parcoords": [
           {
            "line": {
             "colorbar": {
              "outlinewidth": 0,
              "ticks": ""
             }
            },
            "type": "parcoords"
           }
          ],
          "pie": [
           {
            "automargin": true,
            "type": "pie"
           }
          ],
          "scatter": [
           {
            "fillpattern": {
             "fillmode": "overlay",
             "size": 10,
             "solidity": 0.2
            },
            "type": "scatter"
           }
          ],
          "scatter3d": [
           {
            "line": {
             "colorbar": {
              "outlinewidth": 0,
              "ticks": ""
             }
            },
            "marker": {
             "colorbar": {
              "outlinewidth": 0,
              "ticks": ""
             }
            },
            "type": "scatter3d"
           }
          ],
          "scattercarpet": [
           {
            "marker": {
             "colorbar": {
              "outlinewidth": 0,
              "ticks": ""
             }
            },
            "type": "scattercarpet"
           }
          ],
          "scattergeo": [
           {
            "marker": {
             "colorbar": {
              "outlinewidth": 0,
              "ticks": ""
             }
            },
            "type": "scattergeo"
           }
          ],
          "scattergl": [
           {
            "marker": {
             "colorbar": {
              "outlinewidth": 0,
              "ticks": ""
             }
            },
            "type": "scattergl"
           }
          ],
          "scattermap": [
           {
            "marker": {
             "colorbar": {
              "outlinewidth": 0,
              "ticks": ""
             }
            },
            "type": "scattermap"
           }
          ],
          "scattermapbox": [
           {
            "marker": {
             "colorbar": {
              "outlinewidth": 0,
              "ticks": ""
             }
            },
            "type": "scattermapbox"
           }
          ],
          "scatterpolar": [
           {
            "marker": {
             "colorbar": {
              "outlinewidth": 0,
              "ticks": ""
             }
            },
            "type": "scatterpolar"
           }
          ],
          "scatterpolargl": [
           {
            "marker": {
             "colorbar": {
              "outlinewidth": 0,
              "ticks": ""
             }
            },
            "type": "scatterpolargl"
           }
          ],
          "scatterternary": [
           {
            "marker": {
             "colorbar": {
              "outlinewidth": 0,
              "ticks": ""
             }
            },
            "type": "scatterternary"
           }
          ],
          "surface": [
           {
            "colorbar": {
             "outlinewidth": 0,
             "ticks": ""
            },
            "colorscale": [
             [
              0,
              "#0d0887"
             ],
             [
              0.1111111111111111,
              "#46039f"
             ],
             [
              0.2222222222222222,
              "#7201a8"
             ],
             [
              0.3333333333333333,
              "#9c179e"
             ],
             [
              0.4444444444444444,
              "#bd3786"
             ],
             [
              0.5555555555555556,
              "#d8576b"
             ],
             [
              0.6666666666666666,
              "#ed7953"
             ],
             [
              0.7777777777777778,
              "#fb9f3a"
             ],
             [
              0.8888888888888888,
              "#fdca26"
             ],
             [
              1,
              "#f0f921"
             ]
            ],
            "type": "surface"
           }
          ],
          "table": [
           {
            "cells": {
             "fill": {
              "color": "#EBF0F8"
             },
             "line": {
              "color": "white"
             }
            },
            "header": {
             "fill": {
              "color": "#C8D4E3"
             },
             "line": {
              "color": "white"
             }
            },
            "type": "table"
           }
          ]
         },
         "layout": {
          "annotationdefaults": {
           "arrowcolor": "#2a3f5f",
           "arrowhead": 0,
           "arrowwidth": 1
          },
          "autotypenumbers": "strict",
          "coloraxis": {
           "colorbar": {
            "outlinewidth": 0,
            "ticks": ""
           }
          },
          "colorscale": {
           "diverging": [
            [
             0,
             "#8e0152"
            ],
            [
             0.1,
             "#c51b7d"
            ],
            [
             0.2,
             "#de77ae"
            ],
            [
             0.3,
             "#f1b6da"
            ],
            [
             0.4,
             "#fde0ef"
            ],
            [
             0.5,
             "#f7f7f7"
            ],
            [
             0.6,
             "#e6f5d0"
            ],
            [
             0.7,
             "#b8e186"
            ],
            [
             0.8,
             "#7fbc41"
            ],
            [
             0.9,
             "#4d9221"
            ],
            [
             1,
             "#276419"
            ]
           ],
           "sequential": [
            [
             0,
             "#0d0887"
            ],
            [
             0.1111111111111111,
             "#46039f"
            ],
            [
             0.2222222222222222,
             "#7201a8"
            ],
            [
             0.3333333333333333,
             "#9c179e"
            ],
            [
             0.4444444444444444,
             "#bd3786"
            ],
            [
             0.5555555555555556,
             "#d8576b"
            ],
            [
             0.6666666666666666,
             "#ed7953"
            ],
            [
             0.7777777777777778,
             "#fb9f3a"
            ],
            [
             0.8888888888888888,
             "#fdca26"
            ],
            [
             1,
             "#f0f921"
            ]
           ],
           "sequentialminus": [
            [
             0,
             "#0d0887"
            ],
            [
             0.1111111111111111,
             "#46039f"
            ],
            [
             0.2222222222222222,
             "#7201a8"
            ],
            [
             0.3333333333333333,
             "#9c179e"
            ],
            [
             0.4444444444444444,
             "#bd3786"
            ],
            [
             0.5555555555555556,
             "#d8576b"
            ],
            [
             0.6666666666666666,
             "#ed7953"
            ],
            [
             0.7777777777777778,
             "#fb9f3a"
            ],
            [
             0.8888888888888888,
             "#fdca26"
            ],
            [
             1,
             "#f0f921"
            ]
           ]
          },
          "colorway": [
           "#636efa",
           "#EF553B",
           "#00cc96",
           "#ab63fa",
           "#FFA15A",
           "#19d3f3",
           "#FF6692",
           "#B6E880",
           "#FF97FF",
           "#FECB52"
          ],
          "font": {
           "color": "#2a3f5f"
          },
          "geo": {
           "bgcolor": "white",
           "lakecolor": "white",
           "landcolor": "#E5ECF6",
           "showlakes": true,
           "showland": true,
           "subunitcolor": "white"
          },
          "hoverlabel": {
           "align": "left"
          },
          "hovermode": "closest",
          "mapbox": {
           "style": "light"
          },
          "paper_bgcolor": "white",
          "plot_bgcolor": "#E5ECF6",
          "polar": {
           "angularaxis": {
            "gridcolor": "white",
            "linecolor": "white",
            "ticks": ""
           },
           "bgcolor": "#E5ECF6",
           "radialaxis": {
            "gridcolor": "white",
            "linecolor": "white",
            "ticks": ""
           }
          },
          "scene": {
           "xaxis": {
            "backgroundcolor": "#E5ECF6",
            "gridcolor": "white",
            "gridwidth": 2,
            "linecolor": "white",
            "showbackground": true,
            "ticks": "",
            "zerolinecolor": "white"
           },
           "yaxis": {
            "backgroundcolor": "#E5ECF6",
            "gridcolor": "white",
            "gridwidth": 2,
            "linecolor": "white",
            "showbackground": true,
            "ticks": "",
            "zerolinecolor": "white"
           },
           "zaxis": {
            "backgroundcolor": "#E5ECF6",
            "gridcolor": "white",
            "gridwidth": 2,
            "linecolor": "white",
            "showbackground": true,
            "ticks": "",
            "zerolinecolor": "white"
           }
          },
          "shapedefaults": {
           "line": {
            "color": "#2a3f5f"
           }
          },
          "ternary": {
           "aaxis": {
            "gridcolor": "white",
            "linecolor": "white",
            "ticks": ""
           },
           "baxis": {
            "gridcolor": "white",
            "linecolor": "white",
            "ticks": ""
           },
           "bgcolor": "#E5ECF6",
           "caxis": {
            "gridcolor": "white",
            "linecolor": "white",
            "ticks": ""
           }
          },
          "title": {
           "x": 0.05
          },
          "xaxis": {
           "automargin": true,
           "gridcolor": "white",
           "linecolor": "white",
           "ticks": "",
           "title": {
            "standoff": 15
           },
           "zerolinecolor": "white",
           "zerolinewidth": 2
          },
          "yaxis": {
           "automargin": true,
           "gridcolor": "white",
           "linecolor": "white",
           "ticks": "",
           "title": {
            "standoff": 15
           },
           "zerolinecolor": "white",
           "zerolinewidth": 2
          }
         }
        },
        "title": {
         "text": "Input correlation matrix"
        },
        "xaxis": {
         "anchor": "y",
         "constrain": "domain",
         "domain": [
          0,
          1
         ],
         "scaleanchor": "y"
        },
        "yaxis": {
         "anchor": "x",
         "autorange": "reversed",
         "constrain": "domain",
         "domain": [
          0,
          1
         ]
        }
       }
      }
     },
     "metadata": {},
     "output_type": "display_data"
    },
    {
     "data": {
      "application/vnd.plotly.v1+json": {
       "config": {
        "plotlyServerURL": "https://plot.ly"
       },
       "data": [
        {
         "coloraxis": "coloraxis",
         "hovertemplate": "x: %{x}<br>y: %{y}<br>color: %{z}<extra></extra>",
         "name": "0",
         "type": "heatmap",
         "x": [
          "CARVEDILOL",
          "ESOMEPRAZOLE",
          "LEVOTHYROXINE",
          "TRAMADOL",
          "AMLODIPINE",
          "METOPROLOL",
          "OMEPRAZOLE",
          "SIMVASTATIN",
          "TAMSULOSIN",
          "ALENDRONATE",
          "ATORVASTATIN",
          "LISINOPRIL",
          "LOSARTAN",
          "SERTRALINE",
          "METFORMIN",
          "PIOGLITAZONE",
          "PRAVASTATIN",
          "FUROSEMIDE",
          "POTASSIUM CHLORIDE",
          "HYDROCHLOROTHIAZIDE",
          "ATENOLOL",
          "WARFARIN",
          "ASPIRIN",
          "LOVASTATIN",
          "ALBUTEROL",
          "GLIPIZIDE",
          "RANITIDINE",
          "GABAPENTIN",
          "INSULIN GLARGINE",
          "CLOPIDOGREL",
          "ZOLPIDEM",
          "ALLOPURINOL",
          "CITALOPRAM",
          "PREDNISONE",
          "ROSUVASTATIN",
          "VALSARTAN",
          "IBUPROFEN",
          "FEXOFENADINE",
          "MONTELUKAST",
          "FLUTICASONE NASAL"
         ],
         "xaxis": "x",
         "y": [
          "CARVEDILOL",
          "ESOMEPRAZOLE",
          "LEVOTHYROXINE",
          "TRAMADOL",
          "AMLODIPINE",
          "METOPROLOL",
          "OMEPRAZOLE",
          "SIMVASTATIN",
          "TAMSULOSIN",
          "ALENDRONATE",
          "ATORVASTATIN",
          "LISINOPRIL",
          "LOSARTAN",
          "SERTRALINE",
          "METFORMIN",
          "PIOGLITAZONE",
          "PRAVASTATIN",
          "FUROSEMIDE",
          "POTASSIUM CHLORIDE",
          "HYDROCHLOROTHIAZIDE",
          "ATENOLOL",
          "WARFARIN",
          "ASPIRIN",
          "LOVASTATIN",
          "ALBUTEROL",
          "GLIPIZIDE",
          "RANITIDINE",
          "GABAPENTIN",
          "INSULIN GLARGINE",
          "CLOPIDOGREL",
          "ZOLPIDEM",
          "ALLOPURINOL",
          "CITALOPRAM",
          "PREDNISONE",
          "ROSUVASTATIN",
          "VALSARTAN",
          "IBUPROFEN",
          "FEXOFENADINE",
          "MONTELUKAST",
          "FLUTICASONE NASAL"
         ],
         "yaxis": "y",
         "z": {
          "bdata": "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",
          "dtype": "f8",
          "shape": "40, 40"
         }
        }
       ],
       "layout": {
        "coloraxis": {
         "cmax": 1,
         "cmin": -1,
         "colorscale": [
          [
           0,
           "rgb(103,0,31)"
          ],
          [
           0.1,
           "rgb(178,24,43)"
          ],
          [
           0.2,
           "rgb(214,96,77)"
          ],
          [
           0.3,
           "rgb(244,165,130)"
          ],
          [
           0.4,
           "rgb(253,219,199)"
          ],
          [
           0.5,
           "rgb(247,247,247)"
          ],
          [
           0.6,
           "rgb(209,229,240)"
          ],
          [
           0.7,
           "rgb(146,197,222)"
          ],
          [
           0.8,
           "rgb(67,147,195)"
          ],
          [
           0.9,
           "rgb(33,102,172)"
          ],
          [
           1,
           "rgb(5,48,97)"
          ]
         ]
        },
        "template": {
         "data": {
          "bar": [
           {
            "error_x": {
             "color": "#2a3f5f"
            },
            "error_y": {
             "color": "#2a3f5f"
            },
            "marker": {
             "line": {
              "color": "#E5ECF6",
              "width": 0.5
             },
             "pattern": {
              "fillmode": "overlay",
              "size": 10,
              "solidity": 0.2
             }
            },
            "type": "bar"
           }
          ],
          "barpolar": [
           {
            "marker": {
             "line": {
              "color": "#E5ECF6",
              "width": 0.5
             },
             "pattern": {
              "fillmode": "overlay",
              "size": 10,
              "solidity": 0.2
             }
            },
            "type": "barpolar"
           }
          ],
          "carpet": [
           {
            "aaxis": {
             "endlinecolor": "#2a3f5f",
             "gridcolor": "white",
             "linecolor": "white",
             "minorgridcolor": "white",
             "startlinecolor": "#2a3f5f"
            },
            "baxis": {
             "endlinecolor": "#2a3f5f",
             "gridcolor": "white",
             "linecolor": "white",
             "minorgridcolor": "white",
             "startlinecolor": "#2a3f5f"
            },
            "type": "carpet"
           }
          ],
          "choropleth": [
           {
            "colorbar": {
             "outlinewidth": 0,
             "ticks": ""
            },
            "type": "choropleth"
           }
          ],
          "contour": [
           {
            "colorbar": {
             "outlinewidth": 0,
             "ticks": ""
            },
            "colorscale": [
             [
              0,
              "#0d0887"
             ],
             [
              0.1111111111111111,
              "#46039f"
             ],
             [
              0.2222222222222222,
              "#7201a8"
             ],
             [
              0.3333333333333333,
              "#9c179e"
             ],
             [
              0.4444444444444444,
              "#bd3786"
             ],
             [
              0.5555555555555556,
              "#d8576b"
             ],
             [
              0.6666666666666666,
              "#ed7953"
             ],
             [
              0.7777777777777778,
              "#fb9f3a"
             ],
             [
              0.8888888888888888,
              "#fdca26"
             ],
             [
              1,
              "#f0f921"
             ]
            ],
            "type": "contour"
           }
          ],
          "contourcarpet": [
           {
            "colorbar": {
             "outlinewidth": 0,
             "ticks": ""
            },
            "type": "contourcarpet"
           }
          ],
          "heatmap": [
           {
            "colorbar": {
             "outlinewidth": 0,
             "ticks": ""
            },
            "colorscale": [
             [
              0,
              "#0d0887"
             ],
             [
              0.1111111111111111,
              "#46039f"
             ],
             [
              0.2222222222222222,
              "#7201a8"
             ],
             [
              0.3333333333333333,
              "#9c179e"
             ],
             [
              0.4444444444444444,
              "#bd3786"
             ],
             [
              0.5555555555555556,
              "#d8576b"
             ],
             [
              0.6666666666666666,
              "#ed7953"
             ],
             [
              0.7777777777777778,
              "#fb9f3a"
             ],
             [
              0.8888888888888888,
              "#fdca26"
             ],
             [
              1,
              "#f0f921"
             ]
            ],
            "type": "heatmap"
           }
          ],
          "histogram": [
           {
            "marker": {
             "pattern": {
              "fillmode": "overlay",
              "size": 10,
              "solidity": 0.2
             }
            },
            "type": "histogram"
           }
          ],
          "histogram2d": [
           {
            "colorbar": {
             "outlinewidth": 0,
             "ticks": ""
            },
            "colorscale": [
             [
              0,
              "#0d0887"
             ],
             [
              0.1111111111111111,
              "#46039f"
             ],
             [
              0.2222222222222222,
              "#7201a8"
             ],
             [
              0.3333333333333333,
              "#9c179e"
             ],
             [
              0.4444444444444444,
              "#bd3786"
             ],
             [
              0.5555555555555556,
              "#d8576b"
             ],
             [
              0.6666666666666666,
              "#ed7953"
             ],
             [
              0.7777777777777778,
              "#fb9f3a"
             ],
             [
              0.8888888888888888,
              "#fdca26"
             ],
             [
              1,
              "#f0f921"
             ]
            ],
            "type": "histogram2d"
           }
          ],
          "histogram2dcontour": [
           {
            "colorbar": {
             "outlinewidth": 0,
             "ticks": ""
            },
            "colorscale": [
             [
              0,
              "#0d0887"
             ],
             [
              0.1111111111111111,
              "#46039f"
             ],
             [
              0.2222222222222222,
              "#7201a8"
             ],
             [
              0.3333333333333333,
              "#9c179e"
             ],
             [
              0.4444444444444444,
              "#bd3786"
             ],
             [
              0.5555555555555556,
              "#d8576b"
             ],
             [
              0.6666666666666666,
              "#ed7953"
             ],
             [
              0.7777777777777778,
              "#fb9f3a"
             ],
             [
              0.8888888888888888,
              "#fdca26"
             ],
             [
              1,
              "#f0f921"
             ]
            ],
            "type": "histogram2dcontour"
           }
          ],
          "mesh3d": [
           {
            "colorbar": {
             "outlinewidth": 0,
             "ticks": ""
            },
            "type": "mesh3d"
           }
          ],
          "parcoords": [
           {
            "line": {
             "colorbar": {
              "outlinewidth": 0,
              "ticks": ""
             }
            },
            "type": "parcoords"
           }
          ],
          "pie": [
           {
            "automargin": true,
            "type": "pie"
           }
          ],
          "scatter": [
           {
            "fillpattern": {
             "fillmode": "overlay",
             "size": 10,
             "solidity": 0.2
            },
            "type": "scatter"
           }
          ],
          "scatter3d": [
           {
            "line": {
             "colorbar": {
              "outlinewidth": 0,
              "ticks": ""
             }
            },
            "marker": {
             "colorbar": {
              "outlinewidth": 0,
              "ticks": ""
             }
            },
            "type": "scatter3d"
           }
          ],
          "scattercarpet": [
           {
            "marker": {
             "colorbar": {
              "outlinewidth": 0,
              "ticks": ""
             }
            },
            "type": "scattercarpet"
           }
          ],
          "scattergeo": [
           {
            "marker": {
             "colorbar": {
              "outlinewidth": 0,
              "ticks": ""
             }
            },
            "type": "scattergeo"
           }
          ],
          "scattergl": [
           {
            "marker": {
             "colorbar": {
              "outlinewidth": 0,
              "ticks": ""
             }
            },
            "type": "scattergl"
           }
          ],
          "scattermap": [
           {
            "marker": {
             "colorbar": {
              "outlinewidth": 0,
              "ticks": ""
             }
            },
            "type": "scattermap"
           }
          ],
          "scattermapbox": [
           {
            "marker": {
             "colorbar": {
              "outlinewidth": 0,
              "ticks": ""
             }
            },
            "type": "scattermapbox"
           }
          ],
          "scatterpolar": [
           {
            "marker": {
             "colorbar": {
              "outlinewidth": 0,
              "ticks": ""
             }
            },
            "type": "scatterpolar"
           }
          ],
          "scatterpolargl": [
           {
            "marker": {
             "colorbar": {
              "outlinewidth": 0,
              "ticks": ""
             }
            },
            "type": "scatterpolargl"
           }
          ],
          "scatterternary": [
           {
            "marker": {
             "colorbar": {
              "outlinewidth": 0,
              "ticks": ""
             }
            },
            "type": "scatterternary"
           }
          ],
          "surface": [
           {
            "colorbar": {
             "outlinewidth": 0,
             "ticks": ""
            },
            "colorscale": [
             [
              0,
              "#0d0887"
             ],
             [
              0.1111111111111111,
              "#46039f"
             ],
             [
              0.2222222222222222,
              "#7201a8"
             ],
             [
              0.3333333333333333,
              "#9c179e"
             ],
             [
              0.4444444444444444,
              "#bd3786"
             ],
             [
              0.5555555555555556,
              "#d8576b"
             ],
             [
              0.6666666666666666,
              "#ed7953"
             ],
             [
              0.7777777777777778,
              "#fb9f3a"
             ],
             [
              0.8888888888888888,
              "#fdca26"
             ],
             [
              1,
              "#f0f921"
             ]
            ],
            "type": "surface"
           }
          ],
          "table": [
           {
            "cells": {
             "fill": {
              "color": "#EBF0F8"
             },
             "line": {
              "color": "white"
             }
            },
            "header": {
             "fill": {
              "color": "#C8D4E3"
             },
             "line": {
              "color": "white"
             }
            },
            "type": "table"
           }
          ]
         },
         "layout": {
          "annotationdefaults": {
           "arrowcolor": "#2a3f5f",
           "arrowhead": 0,
           "arrowwidth": 1
          },
          "autotypenumbers": "strict",
          "coloraxis": {
           "colorbar": {
            "outlinewidth": 0,
            "ticks": ""
           }
          },
          "colorscale": {
           "diverging": [
            [
             0,
             "#8e0152"
            ],
            [
             0.1,
             "#c51b7d"
            ],
            [
             0.2,
             "#de77ae"
            ],
            [
             0.3,
             "#f1b6da"
            ],
            [
             0.4,
             "#fde0ef"
            ],
            [
             0.5,
             "#f7f7f7"
            ],
            [
             0.6,
             "#e6f5d0"
            ],
            [
             0.7,
             "#b8e186"
            ],
            [
             0.8,
             "#7fbc41"
            ],
            [
             0.9,
             "#4d9221"
            ],
            [
             1,
             "#276419"
            ]
           ],
           "sequential": [
            [
             0,
             "#0d0887"
            ],
            [
             0.1111111111111111,
             "#46039f"
            ],
            [
             0.2222222222222222,
             "#7201a8"
            ],
            [
             0.3333333333333333,
             "#9c179e"
            ],
            [
             0.4444444444444444,
             "#bd3786"
            ],
            [
             0.5555555555555556,
             "#d8576b"
            ],
            [
             0.6666666666666666,
             "#ed7953"
            ],
            [
             0.7777777777777778,
             "#fb9f3a"
            ],
            [
             0.8888888888888888,
             "#fdca26"
            ],
            [
             1,
             "#f0f921"
            ]
           ],
           "sequentialminus": [
            [
             0,
             "#0d0887"
            ],
            [
             0.1111111111111111,
             "#46039f"
            ],
            [
             0.2222222222222222,
             "#7201a8"
            ],
            [
             0.3333333333333333,
             "#9c179e"
            ],
            [
             0.4444444444444444,
             "#bd3786"
            ],
            [
             0.5555555555555556,
             "#d8576b"
            ],
            [
             0.6666666666666666,
             "#ed7953"
            ],
            [
             0.7777777777777778,
             "#fb9f3a"
            ],
            [
             0.8888888888888888,
             "#fdca26"
            ],
            [
             1,
             "#f0f921"
            ]
           ]
          },
          "colorway": [
           "#636efa",
           "#EF553B",
           "#00cc96",
           "#ab63fa",
           "#FFA15A",
           "#19d3f3",
           "#FF6692",
           "#B6E880",
           "#FF97FF",
           "#FECB52"
          ],
          "font": {
           "color": "#2a3f5f"
          },
          "geo": {
           "bgcolor": "white",
           "lakecolor": "white",
           "landcolor": "#E5ECF6",
           "showlakes": true,
           "showland": true,
           "subunitcolor": "white"
          },
          "hoverlabel": {
           "align": "left"
          },
          "hovermode": "closest",
          "mapbox": {
           "style": "light"
          },
          "paper_bgcolor": "white",
          "plot_bgcolor": "#E5ECF6",
          "polar": {
           "angularaxis": {
            "gridcolor": "white",
            "linecolor": "white",
            "ticks": ""
           },
           "bgcolor": "#E5ECF6",
           "radialaxis": {
            "gridcolor": "white",
            "linecolor": "white",
            "ticks": ""
           }
          },
          "scene": {
           "xaxis": {
            "backgroundcolor": "#E5ECF6",
            "gridcolor": "white",
            "gridwidth": 2,
            "linecolor": "white",
            "showbackground": true,
            "ticks": "",
            "zerolinecolor": "white"
           },
           "yaxis": {
            "backgroundcolor": "#E5ECF6",
            "gridcolor": "white",
            "gridwidth": 2,
            "linecolor": "white",
            "showbackground": true,
            "ticks": "",
            "zerolinecolor": "white"
           },
           "zaxis": {
            "backgroundcolor": "#E5ECF6",
            "gridcolor": "white",
            "gridwidth": 2,
            "linecolor": "white",
            "showbackground": true,
            "ticks": "",
            "zerolinecolor": "white"
           }
          },
          "shapedefaults": {
           "line": {
            "color": "#2a3f5f"
           }
          },
          "ternary": {
           "aaxis": {
            "gridcolor": "white",
            "linecolor": "white",
            "ticks": ""
           },
           "baxis": {
            "gridcolor": "white",
            "linecolor": "white",
            "ticks": ""
           },
           "bgcolor": "#E5ECF6",
           "caxis": {
            "gridcolor": "white",
            "linecolor": "white",
            "ticks": ""
           }
          },
          "title": {
           "x": 0.05
          },
          "xaxis": {
           "automargin": true,
           "gridcolor": "white",
           "linecolor": "white",
           "ticks": "",
           "title": {
            "standoff": 15
           },
           "zerolinecolor": "white",
           "zerolinewidth": 2
          },
          "yaxis": {
           "automargin": true,
           "gridcolor": "white",
           "linecolor": "white",
           "ticks": "",
           "title": {
            "standoff": 15
           },
           "zerolinecolor": "white",
           "zerolinewidth": 2
          }
         }
        },
        "title": {
         "text": "Sample correlation matrix"
        },
        "xaxis": {
         "anchor": "y",
         "constrain": "domain",
         "domain": [
          0,
          1
         ],
         "scaleanchor": "y"
        },
        "yaxis": {
         "anchor": "x",
         "autorange": "reversed",
         "constrain": "domain",
         "domain": [
          0,
          1
         ]
        }
       }
      }
     },
     "metadata": {},
     "output_type": "display_data"
    },
    {
     "data": {
      "application/vnd.plotly.v1+json": {
       "config": {
        "plotlyServerURL": "https://plot.ly"
       },
       "data": [
        {
         "hovertemplate": "x=%{x}<br>y=%{y}<extra></extra>",
         "legendgroup": "",
         "marker": {
          "color": "#636efa",
          "pattern": {
           "shape": ""
          }
         },
         "name": "",
         "orientation": "v",
         "showlegend": false,
         "textposition": "auto",
         "type": "bar",
         "x": [
          "LISINOPRIL",
          "SIMVASTATIN",
          "HYDROCHLOROTHIAZIDE",
          "METFORMIN",
          "METOPROLOL",
          "ATORVASTATIN",
          "AMLODIPINE",
          "LEVOTHYROXINE",
          "CLOPIDOGREL",
          "ATENOLOL",
          "GLIPIZIDE",
          "LOSARTAN",
          "OMEPRAZOLE",
          "LOVASTATIN",
          "VALSARTAN",
          "FUROSEMIDE",
          "PRAVASTATIN",
          "WARFARIN",
          "ALENDRONATE",
          "PIOGLITAZONE",
          "CARVEDILOL",
          "ROSUVASTATIN",
          "ALBUTEROL",
          "TAMSULOSIN",
          "MONTELUKAST",
          "CITALOPRAM",
          "ESOMEPRAZOLE",
          "SERTRALINE",
          "ALLOPURINOL",
          "ZOLPIDEM",
          "PREDNISONE",
          "FEXOFENADINE",
          "INSULIN GLARGINE",
          "IBUPROFEN",
          "GABAPENTIN",
          "RANITIDINE",
          "TRAMADOL",
          "ASPIRIN",
          "POTASSIUM CHLORIDE",
          "FLUTICASONE NASAL"
         ],
         "xaxis": "x",
         "y": {
          "bdata": "irCgDzM65z8HibQZvJbiP/VF3GyVRN4/LbNXaW+i0D+j0KnGezrQP/71b+5l2cA/GNGszQ37vj+4VY57ES66PwnAibXJV7M/xjRDwQF0sD+THYpvgiSqP5CljaemHKE/GJb9RQmynz/rRabmVSCYP+Qu1y8/w5E/cA0MJs/Sjz/AlE11TCOOP4LaUIPIook/qIk3O25piT/Zs3qRqXmFP3XUONh2oII/zcGlx0VTgT8frTZ9aO99Pyf/HjzMdXs/4nzbe9vcej8mdX1L1Qd6P/ubCJg4M3I/U4l1hwfmcD8OBzLHFk1wP47MJU0syW0/E4CyKwCAaj/O/W5rD+dpP11T8I3+k18/rDxNC5eaWT/Hl0PLvYRZP51w9srz1Vg/R/rVB4TAUT+0truM1thMP+2B2QpolDg/xm+9COLMIz8=",
          "dtype": "f8"
         },
         "yaxis": "y"
        }
       ],
       "layout": {
        "barmode": "relative",
        "legend": {
         "tracegroupgap": 0
        },
        "template": {
         "data": {
          "bar": [
           {
            "error_x": {
             "color": "#2a3f5f"
            },
            "error_y": {
             "color": "#2a3f5f"
            },
            "marker": {
             "line": {
              "color": "#E5ECF6",
              "width": 0.5
             },
             "pattern": {
              "fillmode": "overlay",
              "size": 10,
              "solidity": 0.2
             }
            },
            "type": "bar"
           }
          ],
          "barpolar": [
           {
            "marker": {
             "line": {
              "color": "#E5ECF6",
              "width": 0.5
             },
             "pattern": {
              "fillmode": "overlay",
              "size": 10,
              "solidity": 0.2
             }
            },
            "type": "barpolar"
           }
          ],
          "carpet": [
           {
            "aaxis": {
             "endlinecolor": "#2a3f5f",
             "gridcolor": "white",
             "linecolor": "white",
             "minorgridcolor": "white",
             "startlinecolor": "#2a3f5f"
            },
            "baxis": {
             "endlinecolor": "#2a3f5f",
             "gridcolor": "white",
             "linecolor": "white",
             "minorgridcolor": "white",
             "startlinecolor": "#2a3f5f"
            },
            "type": "carpet"
           }
          ],
          "choropleth": [
           {
            "colorbar": {
             "outlinewidth": 0,
             "ticks": ""
            },
            "type": "choropleth"
           }
          ],
          "contour": [
           {
            "colorbar": {
             "outlinewidth": 0,
             "ticks": ""
            },
            "colorscale": [
             [
              0,
              "#0d0887"
             ],
             [
              0.1111111111111111,
              "#46039f"
             ],
             [
              0.2222222222222222,
              "#7201a8"
             ],
             [
              0.3333333333333333,
              "#9c179e"
             ],
             [
              0.4444444444444444,
              "#bd3786"
             ],
             [
              0.5555555555555556,
              "#d8576b"
             ],
             [
              0.6666666666666666,
              "#ed7953"
             ],
             [
              0.7777777777777778,
              "#fb9f3a"
             ],
             [
              0.8888888888888888,
              "#fdca26"
             ],
             [
              1,
              "#f0f921"
             ]
            ],
            "type": "contour"
           }
          ],
          "contourcarpet": [
           {
            "colorbar": {
             "outlinewidth": 0,
             "ticks": ""
            },
            "type": "contourcarpet"
           }
          ],
          "heatmap": [
           {
            "colorbar": {
             "outlinewidth": 0,
             "ticks": ""
            },
            "colorscale": [
             [
              0,
              "#0d0887"
             ],
             [
              0.1111111111111111,
              "#46039f"
             ],
             [
              0.2222222222222222,
              "#7201a8"
             ],
             [
              0.3333333333333333,
              "#9c179e"
             ],
             [
              0.4444444444444444,
              "#bd3786"
             ],
             [
              0.5555555555555556,
              "#d8576b"
             ],
             [
              0.6666666666666666,
              "#ed7953"
             ],
             [
              0.7777777777777778,
              "#fb9f3a"
             ],
             [
              0.8888888888888888,
              "#fdca26"
             ],
             [
              1,
              "#f0f921"
             ]
            ],
            "type": "heatmap"
           }
          ],
          "histogram": [
           {
            "marker": {
             "pattern": {
              "fillmode": "overlay",
              "size": 10,
              "solidity": 0.2
             }
            },
            "type": "histogram"
           }
          ],
          "histogram2d": [
           {
            "colorbar": {
             "outlinewidth": 0,
             "ticks": ""
            },
            "colorscale": [
             [
              0,
              "#0d0887"
             ],
             [
              0.1111111111111111,
              "#46039f"
             ],
             [
              0.2222222222222222,
              "#7201a8"
             ],
             [
              0.3333333333333333,
              "#9c179e"
             ],
             [
              0.4444444444444444,
              "#bd3786"
             ],
             [
              0.5555555555555556,
              "#d8576b"
             ],
             [
              0.6666666666666666,
              "#ed7953"
             ],
             [
              0.7777777777777778,
              "#fb9f3a"
             ],
             [
              0.8888888888888888,
              "#fdca26"
             ],
             [
              1,
              "#f0f921"
             ]
            ],
            "type": "histogram2d"
           }
          ],
          "histogram2dcontour": [
           {
            "colorbar": {
             "outlinewidth": 0,
             "ticks": ""
            },
            "colorscale": [
             [
              0,
              "#0d0887"
             ],
             [
              0.1111111111111111,
              "#46039f"
             ],
             [
              0.2222222222222222,
              "#7201a8"
             ],
             [
              0.3333333333333333,
              "#9c179e"
             ],
             [
              0.4444444444444444,
              "#bd3786"
             ],
             [
              0.5555555555555556,
              "#d8576b"
             ],
             [
              0.6666666666666666,
              "#ed7953"
             ],
             [
              0.7777777777777778,
              "#fb9f3a"
             ],
             [
              0.8888888888888888,
              "#fdca26"
             ],
             [
              1,
              "#f0f921"
             ]
            ],
            "type": "histogram2dcontour"
           }
          ],
          "mesh3d": [
           {
            "colorbar": {
             "outlinewidth": 0,
             "ticks": ""
            },
            "type": "mesh3d"
           }
          ],
          "parcoords": [
           {
            "line": {
             "colorbar": {
              "outlinewidth": 0,
              "ticks": ""
             }
            },
            "type": "parcoords"
           }
          ],
          "pie": [
           {
            "automargin": true,
            "type": "pie"
           }
          ],
          "scatter": [
           {
            "fillpattern": {
             "fillmode": "overlay",
             "size": 10,
             "solidity": 0.2
            },
            "type": "scatter"
           }
          ],
          "scatter3d": [
           {
            "line": {
             "colorbar": {
              "outlinewidth": 0,
              "ticks": ""
             }
            },
            "marker": {
             "colorbar": {
              "outlinewidth": 0,
              "ticks": ""
             }
            },
            "type": "scatter3d"
           }
          ],
          "scattercarpet": [
           {
            "marker": {
             "colorbar": {
              "outlinewidth": 0,
              "ticks": ""
             }
            },
            "type": "scattercarpet"
           }
          ],
          "scattergeo": [
           {
            "marker": {
             "colorbar": {
              "outlinewidth": 0,
              "ticks": ""
             }
            },
            "type": "scattergeo"
           }
          ],
          "scattergl": [
           {
            "marker": {
             "colorbar": {
              "outlinewidth": 0,
              "ticks": ""
             }
            },
            "type": "scattergl"
           }
          ],
          "scattermap": [
           {
            "marker": {
             "colorbar": {
              "outlinewidth": 0,
              "ticks": ""
             }
            },
            "type": "scattermap"
           }
          ],
          "scattermapbox": [
           {
            "marker": {
             "colorbar": {
              "outlinewidth": 0,
              "ticks": ""
             }
            },
            "type": "scattermapbox"
           }
          ],
          "scatterpolar": [
           {
            "marker": {
             "colorbar": {
              "outlinewidth": 0,
              "ticks": ""
             }
            },
            "type": "scatterpolar"
           }
          ],
          "scatterpolargl": [
           {
            "marker": {
             "colorbar": {
              "outlinewidth": 0,
              "ticks": ""
             }
            },
            "type": "scatterpolargl"
           }
          ],
          "scatterternary": [
           {
            "marker": {
             "colorbar": {
              "outlinewidth": 0,
              "ticks": ""
             }
            },
            "type": "scatterternary"
           }
          ],
          "surface": [
           {
            "colorbar": {
             "outlinewidth": 0,
             "ticks": ""
            },
            "colorscale": [
             [
              0,
              "#0d0887"
             ],
             [
              0.1111111111111111,
              "#46039f"
             ],
             [
              0.2222222222222222,
              "#7201a8"
             ],
             [
              0.3333333333333333,
              "#9c179e"
             ],
             [
              0.4444444444444444,
              "#bd3786"
             ],
             [
              0.5555555555555556,
              "#d8576b"
             ],
             [
              0.6666666666666666,
              "#ed7953"
             ],
             [
              0.7777777777777778,
              "#fb9f3a"
             ],
             [
              0.8888888888888888,
              "#fdca26"
             ],
             [
              1,
              "#f0f921"
             ]
            ],
            "type": "surface"
           }
          ],
          "table": [
           {
            "cells": {
             "fill": {
              "color": "#EBF0F8"
             },
             "line": {
              "color": "white"
             }
            },
            "header": {
             "fill": {
              "color": "#C8D4E3"
             },
             "line": {
              "color": "white"
             }
            },
            "type": "table"
           }
          ]
         },
         "layout": {
          "annotationdefaults": {
           "arrowcolor": "#2a3f5f",
           "arrowhead": 0,
           "arrowwidth": 1
          },
          "autotypenumbers": "strict",
          "coloraxis": {
           "colorbar": {
            "outlinewidth": 0,
            "ticks": ""
           }
          },
          "colorscale": {
           "diverging": [
            [
             0,
             "#8e0152"
            ],
            [
             0.1,
             "#c51b7d"
            ],
            [
             0.2,
             "#de77ae"
            ],
            [
             0.3,
             "#f1b6da"
            ],
            [
             0.4,
             "#fde0ef"
            ],
            [
             0.5,
             "#f7f7f7"
            ],
            [
             0.6,
             "#e6f5d0"
            ],
            [
             0.7,
             "#b8e186"
            ],
            [
             0.8,
             "#7fbc41"
            ],
            [
             0.9,
             "#4d9221"
            ],
            [
             1,
             "#276419"
            ]
           ],
           "sequential": [
            [
             0,
             "#0d0887"
            ],
            [
             0.1111111111111111,
             "#46039f"
            ],
            [
             0.2222222222222222,
             "#7201a8"
            ],
            [
             0.3333333333333333,
             "#9c179e"
            ],
            [
             0.4444444444444444,
             "#bd3786"
            ],
            [
             0.5555555555555556,
             "#d8576b"
            ],
            [
             0.6666666666666666,
             "#ed7953"
            ],
            [
             0.7777777777777778,
             "#fb9f3a"
            ],
            [
             0.8888888888888888,
             "#fdca26"
            ],
            [
             1,
             "#f0f921"
            ]
           ],
           "sequentialminus": [
            [
             0,
             "#0d0887"
            ],
            [
             0.1111111111111111,
             "#46039f"
            ],
            [
             0.2222222222222222,
             "#7201a8"
            ],
            [
             0.3333333333333333,
             "#9c179e"
            ],
            [
             0.4444444444444444,
             "#bd3786"
            ],
            [
             0.5555555555555556,
             "#d8576b"
            ],
            [
             0.6666666666666666,
             "#ed7953"
            ],
            [
             0.7777777777777778,
             "#fb9f3a"
            ],
            [
             0.8888888888888888,
             "#fdca26"
            ],
            [
             1,
             "#f0f921"
            ]
           ]
          },
          "colorway": [
           "#636efa",
           "#EF553B",
           "#00cc96",
           "#ab63fa",
           "#FFA15A",
           "#19d3f3",
           "#FF6692",
           "#B6E880",
           "#FF97FF",
           "#FECB52"
          ],
          "font": {
           "color": "#2a3f5f"
          },
          "geo": {
           "bgcolor": "white",
           "lakecolor": "white",
           "landcolor": "#E5ECF6",
           "showlakes": true,
           "showland": true,
           "subunitcolor": "white"
          },
          "hoverlabel": {
           "align": "left"
          },
          "hovermode": "closest",
          "mapbox": {
           "style": "light"
          },
          "paper_bgcolor": "white",
          "plot_bgcolor": "#E5ECF6",
          "polar": {
           "angularaxis": {
            "gridcolor": "white",
            "linecolor": "white",
            "ticks": ""
           },
           "bgcolor": "#E5ECF6",
           "radialaxis": {
            "gridcolor": "white",
            "linecolor": "white",
            "ticks": ""
           }
          },
          "scene": {
           "xaxis": {
            "backgroundcolor": "#E5ECF6",
            "gridcolor": "white",
            "gridwidth": 2,
            "linecolor": "white",
            "showbackground": true,
            "ticks": "",
            "zerolinecolor": "white"
           },
           "yaxis": {
            "backgroundcolor": "#E5ECF6",
            "gridcolor": "white",
            "gridwidth": 2,
            "linecolor": "white",
            "showbackground": true,
            "ticks": "",
            "zerolinecolor": "white"
           },
           "zaxis": {
            "backgroundcolor": "#E5ECF6",
            "gridcolor": "white",
            "gridwidth": 2,
            "linecolor": "white",
            "showbackground": true,
            "ticks": "",
            "zerolinecolor": "white"
           }
          },
          "shapedefaults": {
           "line": {
            "color": "#2a3f5f"
           }
          },
          "ternary": {
           "aaxis": {
            "gridcolor": "white",
            "linecolor": "white",
            "ticks": ""
           },
           "baxis": {
            "gridcolor": "white",
            "linecolor": "white",
            "ticks": ""
           },
           "bgcolor": "#E5ECF6",
           "caxis": {
            "gridcolor": "white",
            "linecolor": "white",
            "ticks": ""
           }
          },
          "title": {
           "x": 0.05
          },
          "xaxis": {
           "automargin": true,
           "gridcolor": "white",
           "linecolor": "white",
           "ticks": "",
           "title": {
            "standoff": 15
           },
           "zerolinecolor": "white",
           "zerolinewidth": 2
          },
          "yaxis": {
           "automargin": true,
           "gridcolor": "white",
           "linecolor": "white",
           "ticks": "",
           "title": {
            "standoff": 15
           },
           "zerolinecolor": "white",
           "zerolinewidth": 2
          }
         }
        },
        "title": {
         "text": "Input marginal probabilities"
        },
        "xaxis": {
         "anchor": "y",
         "domain": [
          0,
          1
         ],
         "title": {
          "text": "x"
         }
        },
        "yaxis": {
         "anchor": "x",
         "domain": [
          0,
          1
         ],
         "title": {
          "text": "y"
         }
        }
       }
      }
     },
     "metadata": {},
     "output_type": "display_data"
    },
    {
     "data": {
      "application/vnd.plotly.v1+json": {
       "config": {
        "plotlyServerURL": "https://plot.ly"
       },
       "data": [
        {
         "hovertemplate": "x=%{x}<br>y=%{y}<extra></extra>",
         "legendgroup": "",
         "marker": {
          "color": "#636efa",
          "pattern": {
           "shape": ""
          }
         },
         "name": "",
         "orientation": "v",
         "showlegend": false,
         "textposition": "auto",
         "type": "bar",
         "x": [
          "LISINOPRIL",
          "SIMVASTATIN",
          "HYDROCHLOROTHIAZIDE",
          "METFORMIN",
          "METOPROLOL",
          "ATORVASTATIN",
          "AMLODIPINE",
          "LEVOTHYROXINE",
          "CLOPIDOGREL",
          "ATENOLOL",
          "GLIPIZIDE",
          "LOSARTAN",
          "OMEPRAZOLE",
          "LOVASTATIN",
          "VALSARTAN",
          "FUROSEMIDE",
          "PRAVASTATIN",
          "WARFARIN",
          "ALENDRONATE",
          "PIOGLITAZONE",
          "CARVEDILOL",
          "ROSUVASTATIN",
          "ALBUTEROL",
          "TAMSULOSIN",
          "MONTELUKAST",
          "CITALOPRAM",
          "ESOMEPRAZOLE",
          "SERTRALINE",
          "ALLOPURINOL",
          "ZOLPIDEM",
          "PREDNISONE",
          "FEXOFENADINE",
          "INSULIN GLARGINE",
          "IBUPROFEN",
          "GABAPENTIN",
          "RANITIDINE",
          "TRAMADOL",
          "ASPIRIN",
          "POTASSIUM CHLORIDE",
          "FLUTICASONE NASAL"
         ],
         "xaxis": "x",
         "y": {
          "bdata": "zSGphZLJ6j9OJ9nqckrmP0nzx7Q2DeM/ysABLV3B1T97+Z0mM97TP+4jtybdlsQ/yxMIO8Wqwz+k/Q+wVu2+P39skh/xK7o/IQGjy5vDtT/j32dcOBCyPyVYHM78aqY/9Z81P/7Soj+t2jUhrTGgPyfcK/NWXZc/da+T+rK0kz8kmGpmLQWUP5EJ+DWSBJE/gZICC2DKkD9PdcjNcAOOP22umueIfIc/qdkDrcCQhT956SYxCKx8P97/xwkTRoM/Kqc9JefEfj+NgApHkEqBP+Seru5YbHM/e6AVGLK6dT9uiPGaV3V2P9OHLqhvmXM/+aHSiJl9bj8mHHqLh/dsPwrys5HrpmQ/Ne7Nb5hoYD/HKxA9KZNaP6yt2F92T14/n+klxjL9Uj8+7IUCtoNRP5v/Vx050jk/ycfuAiUFJj8=",
          "dtype": "f8"
         },
         "yaxis": "y"
        }
       ],
       "layout": {
        "barmode": "relative",
        "legend": {
         "tracegroupgap": 0
        },
        "template": {
         "data": {
          "bar": [
           {
            "error_x": {
             "color": "#2a3f5f"
            },
            "error_y": {
             "color": "#2a3f5f"
            },
            "marker": {
             "line": {
              "color": "#E5ECF6",
              "width": 0.5
             },
             "pattern": {
              "fillmode": "overlay",
              "size": 10,
              "solidity": 0.2
             }
            },
            "type": "bar"
           }
          ],
          "barpolar": [
           {
            "marker": {
             "line": {
              "color": "#E5ECF6",
              "width": 0.5
             },
             "pattern": {
              "fillmode": "overlay",
              "size": 10,
              "solidity": 0.2
             }
            },
            "type": "barpolar"
           }
          ],
          "carpet": [
           {
            "aaxis": {
             "endlinecolor": "#2a3f5f",
             "gridcolor": "white",
             "linecolor": "white",
             "minorgridcolor": "white",
             "startlinecolor": "#2a3f5f"
            },
            "baxis": {
             "endlinecolor": "#2a3f5f",
             "gridcolor": "white",
             "linecolor": "white",
             "minorgridcolor": "white",
             "startlinecolor": "#2a3f5f"
            },
            "type": "carpet"
           }
          ],
          "choropleth": [
           {
            "colorbar": {
             "outlinewidth": 0,
             "ticks": ""
            },
            "type": "choropleth"
           }
          ],
          "contour": [
           {
            "colorbar": {
             "outlinewidth": 0,
             "ticks": ""
            },
            "colorscale": [
             [
              0,
              "#0d0887"
             ],
             [
              0.1111111111111111,
              "#46039f"
             ],
             [
              0.2222222222222222,
              "#7201a8"
             ],
             [
              0.3333333333333333,
              "#9c179e"
             ],
             [
              0.4444444444444444,
              "#bd3786"
             ],
             [
              0.5555555555555556,
              "#d8576b"
             ],
             [
              0.6666666666666666,
              "#ed7953"
             ],
             [
              0.7777777777777778,
              "#fb9f3a"
             ],
             [
              0.8888888888888888,
              "#fdca26"
             ],
             [
              1,
              "#f0f921"
             ]
            ],
            "type": "contour"
           }
          ],
          "contourcarpet": [
           {
            "colorbar": {
             "outlinewidth": 0,
             "ticks": ""
            },
            "type": "contourcarpet"
           }
          ],
          "heatmap": [
           {
            "colorbar": {
             "outlinewidth": 0,
             "ticks": ""
            },
            "colorscale": [
             [
              0,
              "#0d0887"
             ],
             [
              0.1111111111111111,
              "#46039f"
             ],
             [
              0.2222222222222222,
              "#7201a8"
             ],
             [
              0.3333333333333333,
              "#9c179e"
             ],
             [
              0.4444444444444444,
              "#bd3786"
             ],
             [
              0.5555555555555556,
              "#d8576b"
             ],
             [
              0.6666666666666666,
              "#ed7953"
             ],
             [
              0.7777777777777778,
              "#fb9f3a"
             ],
             [
              0.8888888888888888,
              "#fdca26"
             ],
             [
              1,
              "#f0f921"
             ]
            ],
            "type": "heatmap"
           }
          ],
          "histogram": [
           {
            "marker": {
             "pattern": {
              "fillmode": "overlay",
              "size": 10,
              "solidity": 0.2
             }
            },
            "type": "histogram"
           }
          ],
          "histogram2d": [
           {
            "colorbar": {
             "outlinewidth": 0,
             "ticks": ""
            },
            "colorscale": [
             [
              0,
              "#0d0887"
             ],
             [
              0.1111111111111111,
              "#46039f"
             ],
             [
              0.2222222222222222,
              "#7201a8"
             ],
             [
              0.3333333333333333,
              "#9c179e"
             ],
             [
              0.4444444444444444,
              "#bd3786"
             ],
             [
              0.5555555555555556,
              "#d8576b"
             ],
             [
              0.6666666666666666,
              "#ed7953"
             ],
             [
              0.7777777777777778,
              "#fb9f3a"
             ],
             [
              0.8888888888888888,
              "#fdca26"
             ],
             [
              1,
              "#f0f921"
             ]
            ],
            "type": "histogram2d"
           }
          ],
          "histogram2dcontour": [
           {
            "colorbar": {
             "outlinewidth": 0,
             "ticks": ""
            },
            "colorscale": [
             [
              0,
              "#0d0887"
             ],
             [
              0.1111111111111111,
              "#46039f"
             ],
             [
              0.2222222222222222,
              "#7201a8"
             ],
             [
              0.3333333333333333,
              "#9c179e"
             ],
             [
              0.4444444444444444,
              "#bd3786"
             ],
             [
              0.5555555555555556,
              "#d8576b"
             ],
             [
              0.6666666666666666,
              "#ed7953"
             ],
             [
              0.7777777777777778,
              "#fb9f3a"
             ],
             [
              0.8888888888888888,
              "#fdca26"
             ],
             [
              1,
              "#f0f921"
             ]
            ],
            "type": "histogram2dcontour"
           }
          ],
          "mesh3d": [
           {
            "colorbar": {
             "outlinewidth": 0,
             "ticks": ""
            },
            "type": "mesh3d"
           }
          ],
          "parcoords": [
           {
            "line": {
             "colorbar": {
              "outlinewidth": 0,
              "ticks": ""
             }
            },
            "type": "parcoords"
           }
          ],
          "pie": [
           {
            "automargin": true,
            "type": "pie"
           }
          ],
          "scatter": [
           {
            "fillpattern": {
             "fillmode": "overlay",
             "size": 10,
             "solidity": 0.2
            },
            "type": "scatter"
           }
          ],
          "scatter3d": [
           {
            "line": {
             "colorbar": {
              "outlinewidth": 0,
              "ticks": ""
             }
            },
            "marker": {
             "colorbar": {
              "outlinewidth": 0,
              "ticks": ""
             }
            },
            "type": "scatter3d"
           }
          ],
          "scattercarpet": [
           {
            "marker": {
             "colorbar": {
              "outlinewidth": 0,
              "ticks": ""
             }
            },
            "type": "scattercarpet"
           }
          ],
          "scattergeo": [
           {
            "marker": {
             "colorbar": {
              "outlinewidth": 0,
              "ticks": ""
             }
            },
            "type": "scattergeo"
           }
          ],
          "scattergl": [
           {
            "marker": {
             "colorbar": {
              "outlinewidth": 0,
              "ticks": ""
             }
            },
            "type": "scattergl"
           }
          ],
          "scattermap": [
           {
            "marker": {
             "colorbar": {
              "outlinewidth": 0,
              "ticks": ""
             }
            },
            "type": "scattermap"
           }
          ],
          "scattermapbox": [
           {
            "marker": {
             "colorbar": {
              "outlinewidth": 0,
              "ticks": ""
             }
            },
            "type": "scattermapbox"
           }
          ],
          "scatterpolar": [
           {
            "marker": {
             "colorbar": {
              "outlinewidth": 0,
              "ticks": ""
             }
            },
            "type": "scatterpolar"
           }
          ],
          "scatterpolargl": [
           {
            "marker": {
             "colorbar": {
              "outlinewidth": 0,
              "ticks": ""
             }
            },
            "type": "scatterpolargl"
           }
          ],
          "scatterternary": [
           {
            "marker": {
             "colorbar": {
              "outlinewidth": 0,
              "ticks": ""
             }
            },
            "type": "scatterternary"
           }
          ],
          "surface": [
           {
            "colorbar": {
             "outlinewidth": 0,
             "ticks": ""
            },
            "colorscale": [
             [
              0,
              "#0d0887"
             ],
             [
              0.1111111111111111,
              "#46039f"
             ],
             [
              0.2222222222222222,
              "#7201a8"
             ],
             [
              0.3333333333333333,
              "#9c179e"
             ],
             [
              0.4444444444444444,
              "#bd3786"
             ],
             [
              0.5555555555555556,
              "#d8576b"
             ],
             [
              0.6666666666666666,
              "#ed7953"
             ],
             [
              0.7777777777777778,
              "#fb9f3a"
             ],
             [
              0.8888888888888888,
              "#fdca26"
             ],
             [
              1,
              "#f0f921"
             ]
            ],
            "type": "surface"
           }
          ],
          "table": [
           {
            "cells": {
             "fill": {
              "color": "#EBF0F8"
             },
             "line": {
              "color": "white"
             }
            },
            "header": {
             "fill": {
              "color": "#C8D4E3"
             },
             "line": {
              "color": "white"
             }
            },
            "type": "table"
           }
          ]
         },
         "layout": {
          "annotationdefaults": {
           "arrowcolor": "#2a3f5f",
           "arrowhead": 0,
           "arrowwidth": 1
          },
          "autotypenumbers": "strict",
          "coloraxis": {
           "colorbar": {
            "outlinewidth": 0,
            "ticks": ""
           }
          },
          "colorscale": {
           "diverging": [
            [
             0,
             "#8e0152"
            ],
            [
             0.1,
             "#c51b7d"
            ],
            [
             0.2,
             "#de77ae"
            ],
            [
             0.3,
             "#f1b6da"
            ],
            [
             0.4,
             "#fde0ef"
            ],
            [
             0.5,
             "#f7f7f7"
            ],
            [
             0.6,
             "#e6f5d0"
            ],
            [
             0.7,
             "#b8e186"
            ],
            [
             0.8,
             "#7fbc41"
            ],
            [
             0.9,
             "#4d9221"
            ],
            [
             1,
             "#276419"
            ]
           ],
           "sequential": [
            [
             0,
             "#0d0887"
            ],
            [
             0.1111111111111111,
             "#46039f"
            ],
            [
             0.2222222222222222,
             "#7201a8"
            ],
            [
             0.3333333333333333,
             "#9c179e"
            ],
            [
             0.4444444444444444,
             "#bd3786"
            ],
            [
             0.5555555555555556,
             "#d8576b"
            ],
            [
             0.6666666666666666,
             "#ed7953"
            ],
            [
             0.7777777777777778,
             "#fb9f3a"
            ],
            [
             0.8888888888888888,
             "#fdca26"
            ],
            [
             1,
             "#f0f921"
            ]
           ],
           "sequentialminus": [
            [
             0,
             "#0d0887"
            ],
            [
             0.1111111111111111,
             "#46039f"
            ],
            [
             0.2222222222222222,
             "#7201a8"
            ],
            [
             0.3333333333333333,
             "#9c179e"
            ],
            [
             0.4444444444444444,
             "#bd3786"
            ],
            [
             0.5555555555555556,
             "#d8576b"
            ],
            [
             0.6666666666666666,
             "#ed7953"
            ],
            [
             0.7777777777777778,
             "#fb9f3a"
            ],
            [
             0.8888888888888888,
             "#fdca26"
            ],
            [
             1,
             "#f0f921"
            ]
           ]
          },
          "colorway": [
           "#636efa",
           "#EF553B",
           "#00cc96",
           "#ab63fa",
           "#FFA15A",
           "#19d3f3",
           "#FF6692",
           "#B6E880",
           "#FF97FF",
           "#FECB52"
          ],
          "font": {
           "color": "#2a3f5f"
          },
          "geo": {
           "bgcolor": "white",
           "lakecolor": "white",
           "landcolor": "#E5ECF6",
           "showlakes": true,
           "showland": true,
           "subunitcolor": "white"
          },
          "hoverlabel": {
           "align": "left"
          },
          "hovermode": "closest",
          "mapbox": {
           "style": "light"
          },
          "paper_bgcolor": "white",
          "plot_bgcolor": "#E5ECF6",
          "polar": {
           "angularaxis": {
            "gridcolor": "white",
            "linecolor": "white",
            "ticks": ""
           },
           "bgcolor": "#E5ECF6",
           "radialaxis": {
            "gridcolor": "white",
            "linecolor": "white",
            "ticks": ""
           }
          },
          "scene": {
           "xaxis": {
            "backgroundcolor": "#E5ECF6",
            "gridcolor": "white",
            "gridwidth": 2,
            "linecolor": "white",
            "showbackground": true,
            "ticks": "",
            "zerolinecolor": "white"
           },
           "yaxis": {
            "backgroundcolor": "#E5ECF6",
            "gridcolor": "white",
            "gridwidth": 2,
            "linecolor": "white",
            "showbackground": true,
            "ticks": "",
            "zerolinecolor": "white"
           },
           "zaxis": {
            "backgroundcolor": "#E5ECF6",
            "gridcolor": "white",
            "gridwidth": 2,
            "linecolor": "white",
            "showbackground": true,
            "ticks": "",
            "zerolinecolor": "white"
           }
          },
          "shapedefaults": {
           "line": {
            "color": "#2a3f5f"
           }
          },
          "ternary": {
           "aaxis": {
            "gridcolor": "white",
            "linecolor": "white",
            "ticks": ""
           },
           "baxis": {
            "gridcolor": "white",
            "linecolor": "white",
            "ticks": ""
           },
           "bgcolor": "#E5ECF6",
           "caxis": {
            "gridcolor": "white",
            "linecolor": "white",
            "ticks": ""
           }
          },
          "title": {
           "x": 0.05
          },
          "xaxis": {
           "automargin": true,
           "gridcolor": "white",
           "linecolor": "white",
           "ticks": "",
           "title": {
            "standoff": 15
           },
           "zerolinecolor": "white",
           "zerolinewidth": 2
          },
          "yaxis": {
           "automargin": true,
           "gridcolor": "white",
           "linecolor": "white",
           "ticks": "",
           "title": {
            "standoff": 15
           },
           "zerolinecolor": "white",
           "zerolinewidth": 2
          }
         }
        },
        "title": {
         "text": "Sampled marginal probabilities"
        },
        "xaxis": {
         "anchor": "y",
         "categoryarray": [
          "LISINOPRIL",
          "SIMVASTATIN",
          "HYDROCHLOROTHIAZIDE",
          "METFORMIN",
          "METOPROLOL",
          "ATORVASTATIN",
          "AMLODIPINE",
          "LEVOTHYROXINE",
          "CLOPIDOGREL",
          "ATENOLOL",
          "GLIPIZIDE",
          "LOSARTAN",
          "OMEPRAZOLE",
          "LOVASTATIN",
          "VALSARTAN",
          "FUROSEMIDE",
          "PRAVASTATIN",
          "WARFARIN",
          "ALENDRONATE",
          "PIOGLITAZONE",
          "CARVEDILOL",
          "ROSUVASTATIN",
          "ALBUTEROL",
          "TAMSULOSIN",
          "MONTELUKAST",
          "CITALOPRAM",
          "ESOMEPRAZOLE",
          "SERTRALINE",
          "ALLOPURINOL",
          "ZOLPIDEM",
          "PREDNISONE",
          "FEXOFENADINE",
          "INSULIN GLARGINE",
          "IBUPROFEN",
          "GABAPENTIN",
          "RANITIDINE",
          "TRAMADOL",
          "ASPIRIN",
          "POTASSIUM CHLORIDE",
          "FLUTICASONE NASAL"
         ],
         "categoryorder": "array",
         "domain": [
          0,
          1
         ],
         "title": {
          "text": "x"
         }
        },
        "yaxis": {
         "anchor": "x",
         "domain": [
          0,
          1
         ],
         "title": {
          "text": "y"
         }
        }
       }
      }
     },
     "metadata": {},
     "output_type": "display_data"
    }
   ],
   "source": [
    "sample.astype(int)\n",
    "\n",
    "visualize(sample)\n"
   ]
  },
  {
   "cell_type": "code",
   "execution_count": 35,
   "metadata": {},
   "outputs": [
    {
     "name": "stderr",
     "output_type": "stream",
     "text": [
      "/Users/karina/Library/Python/3.9/lib/python/site-packages/bindata/check_commonprob.py:81: UserWarning:\n",
      "\n",
      "simulvals provided is not computed to a sufficient resolution\n",
      "to resolve the common probabilies provided in commonprob.\n",
      "\n",
      "\n",
      "INTERPOLATION IS GOING TO BE USED.\n",
      "\n",
      "Consider computing simulvals on a finer grid.\n",
      "The current resolution is on these points:\n",
      "[(0, 0), (0, 0.001), (0, 0.01), (0, np.float64(0.05)), (0, np.float64(0.1)), (0, np.float64(0.15)), (0, np.float64(0.2)), (0, np.float64(0.25)), (0, np.float64(0.3)), (0, np.float64(0.35)), (0, np.float64(0.4)), (0, np.float64(0.45)), (0, np.float64(0.5)), (0, np.float64(0.55)), (0, np.float64(0.6)), (0, np.float64(0.65)), (0, np.float64(0.7)), (0, np.float64(0.75)), (0, np.float64(0.8)), (0, np.float64(0.85)), (0, np.float64(0.9)), (0, np.float64(0.95)), (0, 0.99), (0, 0.999), (0, 1), (0.001, 0.001), (0.001, 0.01), (0.001, np.float64(0.05)), (0.001, np.float64(0.1)), (0.001, np.float64(0.15)), (0.001, np.float64(0.2)), (0.001, np.float64(0.25)), (0.001, np.float64(0.3)), (0.001, np.float64(0.35)), (0.001, np.float64(0.4)), (0.001, np.float64(0.45)), (0.001, np.float64(0.5)), (0.001, np.float64(0.55)), (0.001, np.float64(0.6)), (0.001, np.float64(0.65)), (0.001, np.float64(0.7)), (0.001, np.float64(0.75)), (0.001, np.float64(0.8)), (0.001, np.float64(0.85)), (0.001, np.float64(0.9)), (0.001, np.float64(0.95)), (0.001, 0.99), (0.001, 0.999), (0.001, 1), (0.01, 0.01), (0.01, np.float64(0.05)), (0.01, np.float64(0.1)), (0.01, np.float64(0.15)), (0.01, np.float64(0.2)), (0.01, np.float64(0.25)), (0.01, np.float64(0.3)), (0.01, np.float64(0.35)), (0.01, np.float64(0.4)), (0.01, np.float64(0.45)), (0.01, np.float64(0.5)), (0.01, np.float64(0.55)), (0.01, np.float64(0.6)), (0.01, np.float64(0.65)), (0.01, np.float64(0.7)), (0.01, np.float64(0.75)), (0.01, np.float64(0.8)), (0.01, np.float64(0.85)), (0.01, np.float64(0.9)), (0.01, np.float64(0.95)), (0.01, 0.99), (0.01, 0.999), (0.01, 1), (np.float64(0.05), np.float64(0.05)), (np.float64(0.05), np.float64(0.1)), (np.float64(0.05), np.float64(0.15)), (np.float64(0.05), np.float64(0.2)), (np.float64(0.05), np.float64(0.25)), (np.float64(0.05), np.float64(0.3)), (np.float64(0.05), np.float64(0.35)), (np.float64(0.05), np.float64(0.4)), (np.float64(0.05), np.float64(0.45)), (np.float64(0.05), np.float64(0.5)), (np.float64(0.05), np.float64(0.55)), (np.float64(0.05), np.float64(0.6)), (np.float64(0.05), np.float64(0.65)), (np.float64(0.05), np.float64(0.7)), (np.float64(0.05), np.float64(0.75)), (np.float64(0.05), np.float64(0.8)), (np.float64(0.05), np.float64(0.85)), (np.float64(0.05), np.float64(0.9)), (np.float64(0.05), np.float64(0.95)), (np.float64(0.05), 0.99), (np.float64(0.05), 0.999), (np.float64(0.05), 1), (np.float64(0.1), np.float64(0.1)), (np.float64(0.1), np.float64(0.15)), (np.float64(0.1), np.float64(0.2)), (np.float64(0.1), np.float64(0.25)), (np.float64(0.1), np.float64(0.3)), (np.float64(0.1), np.float64(0.35)), (np.float64(0.1), np.float64(0.4)), (np.float64(0.1), np.float64(0.45)), (np.float64(0.1), np.float64(0.5)), (np.float64(0.1), np.float64(0.55)), (np.float64(0.1), np.float64(0.6)), (np.float64(0.1), np.float64(0.65)), (np.float64(0.1), np.float64(0.7)), (np.float64(0.1), np.float64(0.75)), (np.float64(0.1), np.float64(0.8)), (np.float64(0.1), np.float64(0.85)), (np.float64(0.1), np.float64(0.9)), (np.float64(0.1), np.float64(0.95)), (np.float64(0.1), 0.99), (np.float64(0.1), 0.999), (np.float64(0.1), 1), (np.float64(0.15), np.float64(0.15)), (np.float64(0.15), np.float64(0.2)), (np.float64(0.15), np.float64(0.25)), (np.float64(0.15), np.float64(0.3)), (np.float64(0.15), np.float64(0.35)), (np.float64(0.15), np.float64(0.4)), (np.float64(0.15), np.float64(0.45)), (np.float64(0.15), np.float64(0.5)), (np.float64(0.15), np.float64(0.55)), (np.float64(0.15), np.float64(0.6)), (np.float64(0.15), np.float64(0.65)), (np.float64(0.15), np.float64(0.7)), (np.float64(0.15), np.float64(0.75)), (np.float64(0.15), np.float64(0.8)), (np.float64(0.15), np.float64(0.85)), (np.float64(0.15), np.float64(0.9)), (np.float64(0.15), np.float64(0.95)), (np.float64(0.15), 0.99), (np.float64(0.15), 0.999), (np.float64(0.15), 1), (np.float64(0.2), np.float64(0.2)), (np.float64(0.2), np.float64(0.25)), (np.float64(0.2), np.float64(0.3)), (np.float64(0.2), np.float64(0.35)), (np.float64(0.2), np.float64(0.4)), (np.float64(0.2), np.float64(0.45)), (np.float64(0.2), np.float64(0.5)), (np.float64(0.2), np.float64(0.55)), (np.float64(0.2), np.float64(0.6)), (np.float64(0.2), np.float64(0.65)), (np.float64(0.2), np.float64(0.7)), (np.float64(0.2), np.float64(0.75)), (np.float64(0.2), np.float64(0.8)), (np.float64(0.2), np.float64(0.85)), (np.float64(0.2), np.float64(0.9)), (np.float64(0.2), np.float64(0.95)), (np.float64(0.2), 0.99), (np.float64(0.2), 0.999), (np.float64(0.2), 1), (np.float64(0.25), np.float64(0.25)), (np.float64(0.25), np.float64(0.3)), (np.float64(0.25), np.float64(0.35)), (np.float64(0.25), np.float64(0.4)), (np.float64(0.25), np.float64(0.45)), (np.float64(0.25), np.float64(0.5)), (np.float64(0.25), np.float64(0.55)), (np.float64(0.25), np.float64(0.6)), (np.float64(0.25), np.float64(0.65)), (np.float64(0.25), np.float64(0.7)), (np.float64(0.25), np.float64(0.75)), (np.float64(0.25), np.float64(0.8)), (np.float64(0.25), np.float64(0.85)), (np.float64(0.25), np.float64(0.9)), (np.float64(0.25), np.float64(0.95)), (np.float64(0.25), 0.99), (np.float64(0.25), 0.999), (np.float64(0.25), 1), (np.float64(0.3), np.float64(0.3)), (np.float64(0.3), np.float64(0.35)), (np.float64(0.3), np.float64(0.4)), (np.float64(0.3), np.float64(0.45)), (np.float64(0.3), np.float64(0.5)), (np.float64(0.3), np.float64(0.55)), (np.float64(0.3), np.float64(0.6)), (np.float64(0.3), np.float64(0.65)), (np.float64(0.3), np.float64(0.7)), (np.float64(0.3), np.float64(0.75)), (np.float64(0.3), np.float64(0.8)), (np.float64(0.3), np.float64(0.85)), (np.float64(0.3), np.float64(0.9)), (np.float64(0.3), np.float64(0.95)), (np.float64(0.3), 0.99), (np.float64(0.3), 0.999), (np.float64(0.3), 1), (np.float64(0.35), np.float64(0.35)), (np.float64(0.35), np.float64(0.4)), (np.float64(0.35), np.float64(0.45)), (np.float64(0.35), np.float64(0.5)), (np.float64(0.35), np.float64(0.55)), (np.float64(0.35), np.float64(0.6)), (np.float64(0.35), np.float64(0.65)), (np.float64(0.35), np.float64(0.7)), (np.float64(0.35), np.float64(0.75)), (np.float64(0.35), np.float64(0.8)), (np.float64(0.35), np.float64(0.85)), (np.float64(0.35), np.float64(0.9)), (np.float64(0.35), np.float64(0.95)), (np.float64(0.35), 0.99), (np.float64(0.35), 0.999), (np.float64(0.35), 1), (np.float64(0.4), np.float64(0.4)), (np.float64(0.4), np.float64(0.45)), (np.float64(0.4), np.float64(0.5)), (np.float64(0.4), np.float64(0.55)), (np.float64(0.4), np.float64(0.6)), (np.float64(0.4), np.float64(0.65)), (np.float64(0.4), np.float64(0.7)), (np.float64(0.4), np.float64(0.75)), (np.float64(0.4), np.float64(0.8)), (np.float64(0.4), np.float64(0.85)), (np.float64(0.4), np.float64(0.9)), (np.float64(0.4), np.float64(0.95)), (np.float64(0.4), 0.99), (np.float64(0.4), 0.999), (np.float64(0.4), 1), (np.float64(0.45), np.float64(0.45)), (np.float64(0.45), np.float64(0.5)), (np.float64(0.45), np.float64(0.55)), (np.float64(0.45), np.float64(0.6)), (np.float64(0.45), np.float64(0.65)), (np.float64(0.45), np.float64(0.7)), (np.float64(0.45), np.float64(0.75)), (np.float64(0.45), np.float64(0.8)), (np.float64(0.45), np.float64(0.85)), (np.float64(0.45), np.float64(0.9)), (np.float64(0.45), np.float64(0.95)), (np.float64(0.45), 0.99), (np.float64(0.45), 0.999), (np.float64(0.45), 1), (np.float64(0.5), np.float64(0.5)), (np.float64(0.5), np.float64(0.55)), (np.float64(0.5), np.float64(0.6)), (np.float64(0.5), np.float64(0.65)), (np.float64(0.5), np.float64(0.7)), (np.float64(0.5), np.float64(0.75)), (np.float64(0.5), np.float64(0.8)), (np.float64(0.5), np.float64(0.85)), (np.float64(0.5), np.float64(0.9)), (np.float64(0.5), np.float64(0.95)), (np.float64(0.5), 0.99), (np.float64(0.5), 0.999), (np.float64(0.5), 1), (np.float64(0.55), np.float64(0.55)), (np.float64(0.55), np.float64(0.6)), (np.float64(0.55), np.float64(0.65)), (np.float64(0.55), np.float64(0.7)), (np.float64(0.55), np.float64(0.75)), (np.float64(0.55), np.float64(0.8)), (np.float64(0.55), np.float64(0.85)), (np.float64(0.55), np.float64(0.9)), (np.float64(0.55), np.float64(0.95)), (np.float64(0.55), 0.99), (np.float64(0.55), 0.999), (np.float64(0.55), 1), (np.float64(0.6), np.float64(0.6)), (np.float64(0.6), np.float64(0.65)), (np.float64(0.6), np.float64(0.7)), (np.float64(0.6), np.float64(0.75)), (np.float64(0.6), np.float64(0.8)), (np.float64(0.6), np.float64(0.85)), (np.float64(0.6), np.float64(0.9)), (np.float64(0.6), np.float64(0.95)), (np.float64(0.6), 0.99), (np.float64(0.6), 0.999), (np.float64(0.6), 1), (np.float64(0.65), np.float64(0.65)), (np.float64(0.65), np.float64(0.7)), (np.float64(0.65), np.float64(0.75)), (np.float64(0.65), np.float64(0.8)), (np.float64(0.65), np.float64(0.85)), (np.float64(0.65), np.float64(0.9)), (np.float64(0.65), np.float64(0.95)), (np.float64(0.65), 0.99), (np.float64(0.65), 0.999), (np.float64(0.65), 1), (np.float64(0.7), np.float64(0.7)), (np.float64(0.7), np.float64(0.75)), (np.float64(0.7), np.float64(0.8)), (np.float64(0.7), np.float64(0.85)), (np.float64(0.7), np.float64(0.9)), (np.float64(0.7), np.float64(0.95)), (np.float64(0.7), 0.99), (np.float64(0.7), 0.999), (np.float64(0.7), 1), (np.float64(0.75), np.float64(0.75)), (np.float64(0.75), np.float64(0.8)), (np.float64(0.75), np.float64(0.85)), (np.float64(0.75), np.float64(0.9)), (np.float64(0.75), np.float64(0.95)), (np.float64(0.75), 0.99), (np.float64(0.75), 0.999), (np.float64(0.75), 1), (np.float64(0.8), np.float64(0.8)), (np.float64(0.8), np.float64(0.85)), (np.float64(0.8), np.float64(0.9)), (np.float64(0.8), np.float64(0.95)), (np.float64(0.8), 0.99), (np.float64(0.8), 0.999), (np.float64(0.8), 1), (np.float64(0.85), np.float64(0.85)), (np.float64(0.85), np.float64(0.9)), (np.float64(0.85), np.float64(0.95)), (np.float64(0.85), 0.99), (np.float64(0.85), 0.999), (np.float64(0.85), 1), (np.float64(0.9), np.float64(0.9)), (np.float64(0.9), np.float64(0.95)), (np.float64(0.9), 0.99), (np.float64(0.9), 0.999), (np.float64(0.9), 1), (np.float64(0.95), np.float64(0.95)), (np.float64(0.95), 0.99), (np.float64(0.95), 0.999), (np.float64(0.95), 1), (0.99, 0.99), (0.99, 0.999), (0.99, 1), (0.999, 0.999), (0.999, 1), (1, 1)]\n",
      "Alternatively round the common probabilities or correlations provided\n",
      "to fewer decimal places.\n",
      "\n"
     ]
    },
    {
     "data": {
      "application/vnd.plotly.v1+json": {
       "config": {
        "plotlyServerURL": "https://plot.ly"
       },
       "data": [
        {
         "coloraxis": "coloraxis",
         "hovertemplate": "x: %{x}<br>y: %{y}<br>color: %{z}<extra></extra>",
         "name": "0",
         "type": "heatmap",
         "x": [
          "CARVEDILOL",
          "ESOMEPRAZOLE",
          "LEVOTHYROXINE",
          "TRAMADOL",
          "AMLODIPINE",
          "METOPROLOL",
          "OMEPRAZOLE",
          "SIMVASTATIN",
          "TAMSULOSIN",
          "ALENDRONATE",
          "ATORVASTATIN",
          "LISINOPRIL",
          "LOSARTAN",
          "SERTRALINE",
          "METFORMIN",
          "PIOGLITAZONE",
          "PRAVASTATIN",
          "FUROSEMIDE",
          "POTASSIUM CHLORIDE",
          "HYDROCHLOROTHIAZIDE",
          "ATENOLOL",
          "WARFARIN",
          "ASPIRIN",
          "LOVASTATIN",
          "ALBUTEROL",
          "GLIPIZIDE",
          "RANITIDINE",
          "GABAPENTIN",
          "INSULIN GLARGINE",
          "CLOPIDOGREL",
          "ZOLPIDEM",
          "ALLOPURINOL",
          "CITALOPRAM",
          "PREDNISONE",
          "ROSUVASTATIN",
          "VALSARTAN",
          "IBUPROFEN",
          "FEXOFENADINE",
          "MONTELUKAST",
          "FLUTICASONE NASAL"
         ],
         "xaxis": "x",
         "y": [
          "CARVEDILOL",
          "ESOMEPRAZOLE",
          "LEVOTHYROXINE",
          "TRAMADOL",
          "AMLODIPINE",
          "METOPROLOL",
          "OMEPRAZOLE",
          "SIMVASTATIN",
          "TAMSULOSIN",
          "ALENDRONATE",
          "ATORVASTATIN",
          "LISINOPRIL",
          "LOSARTAN",
          "SERTRALINE",
          "METFORMIN",
          "PIOGLITAZONE",
          "PRAVASTATIN",
          "FUROSEMIDE",
          "POTASSIUM CHLORIDE",
          "HYDROCHLOROTHIAZIDE",
          "ATENOLOL",
          "WARFARIN",
          "ASPIRIN",
          "LOVASTATIN",
          "ALBUTEROL",
          "GLIPIZIDE",
          "RANITIDINE",
          "GABAPENTIN",
          "INSULIN GLARGINE",
          "CLOPIDOGREL",
          "ZOLPIDEM",
          "ALLOPURINOL",
          "CITALOPRAM",
          "PREDNISONE",
          "ROSUVASTATIN",
          "VALSARTAN",
          "IBUPROFEN",
          "FEXOFENADINE",
          "MONTELUKAST",
          "FLUTICASONE NASAL"
         ],
         "yaxis": "y",
         "z": {
          "bdata": "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",
          "dtype": "f8",
          "shape": "40, 40"
         }
        }
       ],
       "layout": {
        "coloraxis": {
         "cmax": 1,
         "cmin": -1,
         "colorscale": [
          [
           0,
           "rgb(103,0,31)"
          ],
          [
           0.1,
           "rgb(178,24,43)"
          ],
          [
           0.2,
           "rgb(214,96,77)"
          ],
          [
           0.3,
           "rgb(244,165,130)"
          ],
          [
           0.4,
           "rgb(253,219,199)"
          ],
          [
           0.5,
           "rgb(247,247,247)"
          ],
          [
           0.6,
           "rgb(209,229,240)"
          ],
          [
           0.7,
           "rgb(146,197,222)"
          ],
          [
           0.8,
           "rgb(67,147,195)"
          ],
          [
           0.9,
           "rgb(33,102,172)"
          ],
          [
           1,
           "rgb(5,48,97)"
          ]
         ]
        },
        "template": {
         "data": {
          "bar": [
           {
            "error_x": {
             "color": "#2a3f5f"
            },
            "error_y": {
             "color": "#2a3f5f"
            },
            "marker": {
             "line": {
              "color": "#E5ECF6",
              "width": 0.5
             },
             "pattern": {
              "fillmode": "overlay",
              "size": 10,
              "solidity": 0.2
             }
            },
            "type": "bar"
           }
          ],
          "barpolar": [
           {
            "marker": {
             "line": {
              "color": "#E5ECF6",
              "width": 0.5
             },
             "pattern": {
              "fillmode": "overlay",
              "size": 10,
              "solidity": 0.2
             }
            },
            "type": "barpolar"
           }
          ],
          "carpet": [
           {
            "aaxis": {
             "endlinecolor": "#2a3f5f",
             "gridcolor": "white",
             "linecolor": "white",
             "minorgridcolor": "white",
             "startlinecolor": "#2a3f5f"
            },
            "baxis": {
             "endlinecolor": "#2a3f5f",
             "gridcolor": "white",
             "linecolor": "white",
             "minorgridcolor": "white",
             "startlinecolor": "#2a3f5f"
            },
            "type": "carpet"
           }
          ],
          "choropleth": [
           {
            "colorbar": {
             "outlinewidth": 0,
             "ticks": ""
            },
            "type": "choropleth"
           }
          ],
          "contour": [
           {
            "colorbar": {
             "outlinewidth": 0,
             "ticks": ""
            },
            "colorscale": [
             [
              0,
              "#0d0887"
             ],
             [
              0.1111111111111111,
              "#46039f"
             ],
             [
              0.2222222222222222,
              "#7201a8"
             ],
             [
              0.3333333333333333,
              "#9c179e"
             ],
             [
              0.4444444444444444,
              "#bd3786"
             ],
             [
              0.5555555555555556,
              "#d8576b"
             ],
             [
              0.6666666666666666,
              "#ed7953"
             ],
             [
              0.7777777777777778,
              "#fb9f3a"
             ],
             [
              0.8888888888888888,
              "#fdca26"
             ],
             [
              1,
              "#f0f921"
             ]
            ],
            "type": "contour"
           }
          ],
          "contourcarpet": [
           {
            "colorbar": {
             "outlinewidth": 0,
             "ticks": ""
            },
            "type": "contourcarpet"
           }
          ],
          "heatmap": [
           {
            "colorbar": {
             "outlinewidth": 0,
             "ticks": ""
            },
            "colorscale": [
             [
              0,
              "#0d0887"
             ],
             [
              0.1111111111111111,
              "#46039f"
             ],
             [
              0.2222222222222222,
              "#7201a8"
             ],
             [
              0.3333333333333333,
              "#9c179e"
             ],
             [
              0.4444444444444444,
              "#bd3786"
             ],
             [
              0.5555555555555556,
              "#d8576b"
             ],
             [
              0.6666666666666666,
              "#ed7953"
             ],
             [
              0.7777777777777778,
              "#fb9f3a"
             ],
             [
              0.8888888888888888,
              "#fdca26"
             ],
             [
              1,
              "#f0f921"
             ]
            ],
            "type": "heatmap"
           }
          ],
          "histogram": [
           {
            "marker": {
             "pattern": {
              "fillmode": "overlay",
              "size": 10,
              "solidity": 0.2
             }
            },
            "type": "histogram"
           }
          ],
          "histogram2d": [
           {
            "colorbar": {
             "outlinewidth": 0,
             "ticks": ""
            },
            "colorscale": [
             [
              0,
              "#0d0887"
             ],
             [
              0.1111111111111111,
              "#46039f"
             ],
             [
              0.2222222222222222,
              "#7201a8"
             ],
             [
              0.3333333333333333,
              "#9c179e"
             ],
             [
              0.4444444444444444,
              "#bd3786"
             ],
             [
              0.5555555555555556,
              "#d8576b"
             ],
             [
              0.6666666666666666,
              "#ed7953"
             ],
             [
              0.7777777777777778,
              "#fb9f3a"
             ],
             [
              0.8888888888888888,
              "#fdca26"
             ],
             [
              1,
              "#f0f921"
             ]
            ],
            "type": "histogram2d"
           }
          ],
          "histogram2dcontour": [
           {
            "colorbar": {
             "outlinewidth": 0,
             "ticks": ""
            },
            "colorscale": [
             [
              0,
              "#0d0887"
             ],
             [
              0.1111111111111111,
              "#46039f"
             ],
             [
              0.2222222222222222,
              "#7201a8"
             ],
             [
              0.3333333333333333,
              "#9c179e"
             ],
             [
              0.4444444444444444,
              "#bd3786"
             ],
             [
              0.5555555555555556,
              "#d8576b"
             ],
             [
              0.6666666666666666,
              "#ed7953"
             ],
             [
              0.7777777777777778,
              "#fb9f3a"
             ],
             [
              0.8888888888888888,
              "#fdca26"
             ],
             [
              1,
              "#f0f921"
             ]
            ],
            "type": "histogram2dcontour"
           }
          ],
          "mesh3d": [
           {
            "colorbar": {
             "outlinewidth": 0,
             "ticks": ""
            },
            "type": "mesh3d"
           }
          ],
          "parcoords": [
           {
            "line": {
             "colorbar": {
              "outlinewidth": 0,
              "ticks": ""
             }
            },
            "type": "parcoords"
           }
          ],
          "pie": [
           {
            "automargin": true,
            "type": "pie"
           }
          ],
          "scatter": [
           {
            "fillpattern": {
             "fillmode": "overlay",
             "size": 10,
             "solidity": 0.2
            },
            "type": "scatter"
           }
          ],
          "scatter3d": [
           {
            "line": {
             "colorbar": {
              "outlinewidth": 0,
              "ticks": ""
             }
            },
            "marker": {
             "colorbar": {
              "outlinewidth": 0,
              "ticks": ""
             }
            },
            "type": "scatter3d"
           }
          ],
          "scattercarpet": [
           {
            "marker": {
             "colorbar": {
              "outlinewidth": 0,
              "ticks": ""
             }
            },
            "type": "scattercarpet"
           }
          ],
          "scattergeo": [
           {
            "marker": {
             "colorbar": {
              "outlinewidth": 0,
              "ticks": ""
             }
            },
            "type": "scattergeo"
           }
          ],
          "scattergl": [
           {
            "marker": {
             "colorbar": {
              "outlinewidth": 0,
              "ticks": ""
             }
            },
            "type": "scattergl"
           }
          ],
          "scattermap": [
           {
            "marker": {
             "colorbar": {
              "outlinewidth": 0,
              "ticks": ""
             }
            },
            "type": "scattermap"
           }
          ],
          "scattermapbox": [
           {
            "marker": {
             "colorbar": {
              "outlinewidth": 0,
              "ticks": ""
             }
            },
            "type": "scattermapbox"
           }
          ],
          "scatterpolar": [
           {
            "marker": {
             "colorbar": {
              "outlinewidth": 0,
              "ticks": ""
             }
            },
            "type": "scatterpolar"
           }
          ],
          "scatterpolargl": [
           {
            "marker": {
             "colorbar": {
              "outlinewidth": 0,
              "ticks": ""
             }
            },
            "type": "scatterpolargl"
           }
          ],
          "scatterternary": [
           {
            "marker": {
             "colorbar": {
              "outlinewidth": 0,
              "ticks": ""
             }
            },
            "type": "scatterternary"
           }
          ],
          "surface": [
           {
            "colorbar": {
             "outlinewidth": 0,
             "ticks": ""
            },
            "colorscale": [
             [
              0,
              "#0d0887"
             ],
             [
              0.1111111111111111,
              "#46039f"
             ],
             [
              0.2222222222222222,
              "#7201a8"
             ],
             [
              0.3333333333333333,
              "#9c179e"
             ],
             [
              0.4444444444444444,
              "#bd3786"
             ],
             [
              0.5555555555555556,
              "#d8576b"
             ],
             [
              0.6666666666666666,
              "#ed7953"
             ],
             [
              0.7777777777777778,
              "#fb9f3a"
             ],
             [
              0.8888888888888888,
              "#fdca26"
             ],
             [
              1,
              "#f0f921"
             ]
            ],
            "type": "surface"
           }
          ],
          "table": [
           {
            "cells": {
             "fill": {
              "color": "#EBF0F8"
             },
             "line": {
              "color": "white"
             }
            },
            "header": {
             "fill": {
              "color": "#C8D4E3"
             },
             "line": {
              "color": "white"
             }
            },
            "type": "table"
           }
          ]
         },
         "layout": {
          "annotationdefaults": {
           "arrowcolor": "#2a3f5f",
           "arrowhead": 0,
           "arrowwidth": 1
          },
          "autotypenumbers": "strict",
          "coloraxis": {
           "colorbar": {
            "outlinewidth": 0,
            "ticks": ""
           }
          },
          "colorscale": {
           "diverging": [
            [
             0,
             "#8e0152"
            ],
            [
             0.1,
             "#c51b7d"
            ],
            [
             0.2,
             "#de77ae"
            ],
            [
             0.3,
             "#f1b6da"
            ],
            [
             0.4,
             "#fde0ef"
            ],
            [
             0.5,
             "#f7f7f7"
            ],
            [
             0.6,
             "#e6f5d0"
            ],
            [
             0.7,
             "#b8e186"
            ],
            [
             0.8,
             "#7fbc41"
            ],
            [
             0.9,
             "#4d9221"
            ],
            [
             1,
             "#276419"
            ]
           ],
           "sequential": [
            [
             0,
             "#0d0887"
            ],
            [
             0.1111111111111111,
             "#46039f"
            ],
            [
             0.2222222222222222,
             "#7201a8"
            ],
            [
             0.3333333333333333,
             "#9c179e"
            ],
            [
             0.4444444444444444,
             "#bd3786"
            ],
            [
             0.5555555555555556,
             "#d8576b"
            ],
            [
             0.6666666666666666,
             "#ed7953"
            ],
            [
             0.7777777777777778,
             "#fb9f3a"
            ],
            [
             0.8888888888888888,
             "#fdca26"
            ],
            [
             1,
             "#f0f921"
            ]
           ],
           "sequentialminus": [
            [
             0,
             "#0d0887"
            ],
            [
             0.1111111111111111,
             "#46039f"
            ],
            [
             0.2222222222222222,
             "#7201a8"
            ],
            [
             0.3333333333333333,
             "#9c179e"
            ],
            [
             0.4444444444444444,
             "#bd3786"
            ],
            [
             0.5555555555555556,
             "#d8576b"
            ],
            [
             0.6666666666666666,
             "#ed7953"
            ],
            [
             0.7777777777777778,
             "#fb9f3a"
            ],
            [
             0.8888888888888888,
             "#fdca26"
            ],
            [
             1,
             "#f0f921"
            ]
           ]
          },
          "colorway": [
           "#636efa",
           "#EF553B",
           "#00cc96",
           "#ab63fa",
           "#FFA15A",
           "#19d3f3",
           "#FF6692",
           "#B6E880",
           "#FF97FF",
           "#FECB52"
          ],
          "font": {
           "color": "#2a3f5f"
          },
          "geo": {
           "bgcolor": "white",
           "lakecolor": "white",
           "landcolor": "#E5ECF6",
           "showlakes": true,
           "showland": true,
           "subunitcolor": "white"
          },
          "hoverlabel": {
           "align": "left"
          },
          "hovermode": "closest",
          "mapbox": {
           "style": "light"
          },
          "paper_bgcolor": "white",
          "plot_bgcolor": "#E5ECF6",
          "polar": {
           "angularaxis": {
            "gridcolor": "white",
            "linecolor": "white",
            "ticks": ""
           },
           "bgcolor": "#E5ECF6",
           "radialaxis": {
            "gridcolor": "white",
            "linecolor": "white",
            "ticks": ""
           }
          },
          "scene": {
           "xaxis": {
            "backgroundcolor": "#E5ECF6",
            "gridcolor": "white",
            "gridwidth": 2,
            "linecolor": "white",
            "showbackground": true,
            "ticks": "",
            "zerolinecolor": "white"
           },
           "yaxis": {
            "backgroundcolor": "#E5ECF6",
            "gridcolor": "white",
            "gridwidth": 2,
            "linecolor": "white",
            "showbackground": true,
            "ticks": "",
            "zerolinecolor": "white"
           },
           "zaxis": {
            "backgroundcolor": "#E5ECF6",
            "gridcolor": "white",
            "gridwidth": 2,
            "linecolor": "white",
            "showbackground": true,
            "ticks": "",
            "zerolinecolor": "white"
           }
          },
          "shapedefaults": {
           "line": {
            "color": "#2a3f5f"
           }
          },
          "ternary": {
           "aaxis": {
            "gridcolor": "white",
            "linecolor": "white",
            "ticks": ""
           },
           "baxis": {
            "gridcolor": "white",
            "linecolor": "white",
            "ticks": ""
           },
           "bgcolor": "#E5ECF6",
           "caxis": {
            "gridcolor": "white",
            "linecolor": "white",
            "ticks": ""
           }
          },
          "title": {
           "x": 0.05
          },
          "xaxis": {
           "automargin": true,
           "gridcolor": "white",
           "linecolor": "white",
           "ticks": "",
           "title": {
            "standoff": 15
           },
           "zerolinecolor": "white",
           "zerolinewidth": 2
          },
          "yaxis": {
           "automargin": true,
           "gridcolor": "white",
           "linecolor": "white",
           "ticks": "",
           "title": {
            "standoff": 15
           },
           "zerolinecolor": "white",
           "zerolinewidth": 2
          }
         }
        },
        "title": {
         "text": "Input correlation matrix"
        },
        "xaxis": {
         "anchor": "y",
         "constrain": "domain",
         "domain": [
          0,
          1
         ],
         "scaleanchor": "y"
        },
        "yaxis": {
         "anchor": "x",
         "autorange": "reversed",
         "constrain": "domain",
         "domain": [
          0,
          1
         ]
        }
       }
      }
     },
     "metadata": {},
     "output_type": "display_data"
    },
    {
     "data": {
      "application/vnd.plotly.v1+json": {
       "config": {
        "plotlyServerURL": "https://plot.ly"
       },
       "data": [
        {
         "coloraxis": "coloraxis",
         "hovertemplate": "x: %{x}<br>y: %{y}<br>color: %{z}<extra></extra>",
         "name": "0",
         "type": "heatmap",
         "x": [
          "CARVEDILOL",
          "ESOMEPRAZOLE",
          "LEVOTHYROXINE",
          "TRAMADOL",
          "AMLODIPINE",
          "METOPROLOL",
          "OMEPRAZOLE",
          "SIMVASTATIN",
          "TAMSULOSIN",
          "ALENDRONATE",
          "ATORVASTATIN",
          "LISINOPRIL",
          "LOSARTAN",
          "SERTRALINE",
          "METFORMIN",
          "PIOGLITAZONE",
          "PRAVASTATIN",
          "FUROSEMIDE",
          "POTASSIUM CHLORIDE",
          "HYDROCHLOROTHIAZIDE",
          "ATENOLOL",
          "WARFARIN",
          "ASPIRIN",
          "LOVASTATIN",
          "ALBUTEROL",
          "GLIPIZIDE",
          "RANITIDINE",
          "GABAPENTIN",
          "INSULIN GLARGINE",
          "CLOPIDOGREL",
          "ZOLPIDEM",
          "ALLOPURINOL",
          "CITALOPRAM",
          "PREDNISONE",
          "ROSUVASTATIN",
          "VALSARTAN",
          "IBUPROFEN",
          "FEXOFENADINE",
          "MONTELUKAST",
          "FLUTICASONE NASAL"
         ],
         "xaxis": "x",
         "y": [
          "CARVEDILOL",
          "ESOMEPRAZOLE",
          "LEVOTHYROXINE",
          "TRAMADOL",
          "AMLODIPINE",
          "METOPROLOL",
          "OMEPRAZOLE",
          "SIMVASTATIN",
          "TAMSULOSIN",
          "ALENDRONATE",
          "ATORVASTATIN",
          "LISINOPRIL",
          "LOSARTAN",
          "SERTRALINE",
          "METFORMIN",
          "PIOGLITAZONE",
          "PRAVASTATIN",
          "FUROSEMIDE",
          "POTASSIUM CHLORIDE",
          "HYDROCHLOROTHIAZIDE",
          "ATENOLOL",
          "WARFARIN",
          "ASPIRIN",
          "LOVASTATIN",
          "ALBUTEROL",
          "GLIPIZIDE",
          "RANITIDINE",
          "GABAPENTIN",
          "INSULIN GLARGINE",
          "CLOPIDOGREL",
          "ZOLPIDEM",
          "ALLOPURINOL",
          "CITALOPRAM",
          "PREDNISONE",
          "ROSUVASTATIN",
          "VALSARTAN",
          "IBUPROFEN",
          "FEXOFENADINE",
          "MONTELUKAST",
          "FLUTICASONE NASAL"
         ],
         "yaxis": "y",
         "z": {
          "bdata": "AAAAAAAAsLxgJ/nY80KJv9I7FVIS1KS/vwrtytB/jb+v8YCGwPShv9alsFOBNKe/rN85s6hRkL8QCbLdmpatv9TBfBgCoIm/HJg1RpNMlb9U85zGqMx3P4pbWyvu3Ze/3WYpyurml79Gt84fW6uTv99ZPeK0ZKu/TPm8XRMQk7+l4tP098dOv7L/fJ95s9U/MuFcBmnbhz9iUhHhZQmvv3udsODrlqO/3UTx67j+Zz/2ePZ7jkiRv3Qp18nq0JG/WFsJFuC4nr/OMbvVYzegvxASxJO/TI+/b+GGHjdjk788nR9rN8x/v07tmQFZvbE/Vkr0j5vcjb+vH9eLODCGv4sRvk2JvJC/OmHBRnqBkb8JCnfAiMqmP2fFLGUoNpu/55MibIUekL9CnsadhWyQv2BZVrzYO5i/UpQ7BS/jir9gJ/nY80KJvwAAAAAAAAAA+BL2ckYOfj/afkFPIfp5v4XZss4J85E/RIfGs+X/lL+7XvdAnwyXvzokWY0xW7C/pK9tOoKxiL97xtabAXiTv8e8nluVXII/SJZj0JBztL9n8YM9llZxv2qi719oyKo/IVCutnkvnL+9B0XfDLWLvy9p5rtFdIK/a1+Se9Kxn79X2Mc+WzJyv0d3poyNe6S/+44XooGydD8TG555zoGXvwP5HcU4nXe/kW41YRGelb9J9qBzrRuNP46faYZkCZ2/IhA3U38jgb/ul5rECBCAvwLl7yM6toK/CQRz5GWRmb/1pdsB/EWKvztYO2PYWYe/NRugWDV+Uj9EoCL/qzOCP17Urp5UmSg/RfIVRA3lsz+gavYYb2OEv/T7UqX6SYW/xF8DrzimqD/sVi+9pjqhP9E7FVIS1KS/+BL2ckYOfj8AAAAAAAAAAI4UWI2sTYa/jkOSapcFt79pPPl5lDurvzdunWqm1bo/zx1r6+ZZub/5gCxmJImgv94lLtQah9I/Zpu/kuQxrz+o0hHD707Evw50axB5mKu/88fRdcvJvD8E/xUvp/K5v5yEsSIdyKO/ORroauGakj9Pj0wf1Q+UvwV9W60I+5W//D+FLk0Esr9W0hfMbzKHv3q3MwV335a/cU3iE1hbmr8D2ul2UsOpP9iegcKpkKK/vZgy3s1Is7+VtuHEkw11v4I0xH6U+5S/BLKL1ToYhb9PlBboxUCxv3wx3+6UXrE/UGI/bCBImr82BN0B0HaxPx53Wl8xQJi/8olNqjISkb/NQ2jQfJWGP/oQPDzHJJm//Nf29Z3Tkb8ir0SWhcievwMAvwefd4i/vwrtytB/jb/afkFPIfp5v44UWI2sTYa/AAAAAAAAAAAvhAb+8Ih0v/LMuUU/K5G/3A/1CLLAhj+DC6rH4NCev1itPgSmIXe/vN8Qz/UMgb+TCsSfPRKMvwzRjP/M652/NLn93OrEib8f4dsbUGKjP9TpyG/A/Zi/kHzuipQYhb9lWNO/TFiFPwjPXskucYq/v6KJwH9Ngb/6/3pSubiZv5HHq/+n44O/76CHe6v/eb/7UR6qx4Z4v7Gvpg+neYm/xrHskKseiL98XmIapiiTv0qbAnRGvm+/Avaj1eFjmz9hTpz6CjVwv70ST2J+S5G/siEQVBgnUb/gU4LHv/N1v6j6YSvIoYC/eJ/HFNcfg7+AksIOKQiOPxhth9Ok5IG/OW4RDQN/c7/iUbQRZCyJv17ULthD95K/TkJ6ipZTkT+v8YCGwPShv4XZss4J85E/jUOSapcFt78vhAb+8Ih0vwAAAAAAAAAAPPYdbplprj8s6oeLlbivv+w7uA41Ps6//m3VRBtsn79Ubp8V0QShvyCDyufJuKA/iypMuuw7ur+mIUSFPxXPP6+BLz1SNIe/qzgH/vfbxb87Ab50gpCiv4epfFkJ+qk/Si8iQcL3gz/3X3Mj9JmTv2zFize737c/6qa5ppIymT8IMslGhfigvznbCrnWipK/UZR1OaMlpb9wEwLM9Eilv2K9ScLT6LG/l12kNOGpgr83UPFilf51P84LUMFS1Zq/u9kvSEEQsb+Nvvg5tPKav4suswYzypS/L385+6tQob8MN7mAu1WVvyZCTs9q16g/3t0VHw5eoT/BPLEGl+WSvxHhSf3nepq/Dg5vTxv4nb/QxsPJHeOIv9alsFOBNKe/Q4fGs+X/lL9oPPl5lDurv/LMuUU/K5G/PPYdbplprj8AAAAAAAAAANUkGXwDYbO/B3j8J0RJpL9MAIbcqD+DP2DVGuDE4py/SN/KdRH1wT8Vkm/BtfrJv1HMeFYO0qC/XvrDDejejL/pbsVtkX/Ovwh+t2R+Hqq/XO/tVNNgkD9VzeuM8EStP+EFu6rqWJi/06AO/VVpyr/mHJEyMEXCv3eTepzoxLo/XxyGaCIEZ795ElNkKb2ov77SMFq0RKy/AEN1gIdntb9eU1Zi0faTv/CFyoyXD5m/H8KmodkEn79IJvlm1lDYP0+C/mNng5y/K8jzzGyjlL9SD2wTPC6Qv923BQAn4KC/zIgo8D9VnL8aukTXCQizP3H9P7JNUJ6/1lhOaBdWmr8IevbugFKmv+54kwgvIZG/rN85s6hRkL+6XvdAnwyXvzdunWqm1bo/3A/1CLLAhj8r6oeLlbivv9YkGXwDYbO/AAAAAAAAAACla4FdzjyRv1K69a2Q4pA/0Vc7B5bAcL+qcMxFc405P1O3LT0yd7a/lE2V75hggT8iOZ6NscKDv6Im4TGTAae/wGRSK9GtnL+i2x0/AZ2iv2rGmtmD96W//h6OymLxkb8yhHk5f92zvznx4M8AKLM/HuExqdZCoL/d3wfEC9SWv2mp/p2zQYG/P7e1fkz+hb8acASkEhinv2WAyOBpYmA/CZCSM8BWiD/kIguPvCGYv9OAEhuJmqW/CE/Np+Ickr+vCCGseU2Sv8Amd88ON7k/7drFvpXSkb/Qwao9V46YP7B3yixE7aK/uVPnbbQNmD+GNRBIlgqAvyDCV/ThuVK/Xu9tTJNHhb8QCbLdmpatvzokWY0xW7C/zh1r6+ZZub+DC6rH4NCev+w7uA41Ps6/B3j8J0RJpL+ma4FdzjyRvwAAAAAAAAAAzoIGKFqykb/MFN5BMPGoP6h9gq7Fgc6/rL7+CaDZwj9XtlJ/oOK5v8QUMqMnJXA/HOKad3WdsD9P1k5/ErmJP3rTQ7vuEb6/aa2LGv2atr8IcQL06tOWv8aYndnA7J8/7BcHSP6ns78AC8QTMFd7vyS+pLhvrZK/xsVUG2ptxL/nCnEKPN60v6D5FXqXl7y/Aguh5Y0qob9GLjORNMigv6Ii1BGHhKS/zCVSMC0Foj8IwYgh5fY+P5jZdez2U4c/C26shG6nfb8ToG4CZyGnvysZ4rgMY7S/oj3Yhn4ysr9zjVMkYT6Lv5tOi79YI6m/RvuGXGCssb/6cvzCWbaLv9TBfBgCoIm/pK9tOoKxiL/5gCxmJImgv1mtPgSmIXe//23VRBtsn79MAIbcqD+DP1K69a2Q4pA/zoIGKFqykb8AAAAAAAAAAGz4J4cKSYK/zjE3ZPTdmz/ohgyyGD9av4VFiWl+uIa/oEbwJoWub7+4vR3fvBSivy6wF1EwZIy/yBgUlsbyf7+3bL4W1hySvxtGAqHYHHm/V/lOhbPwiL/tDeFgBW6av61lYBXqOAQ/FlxDwpE/br+rnOxXUDmQv5M3ycq2cYy/U70NY0WXmL+aHxzx0Md1v+BHlFRAv4W/CMBqPVwRhL8kBz2zUTORv4fmqajwBYS/dYyvsypggL+x1Lyu7BqKv1Y7GNzpZYa/XkkIsh24eb8CuSuqnPaHv/X5RhoREX6/UnMeyj3qhb87YBtsgx2Lv3xWUPiOlnq/HJg1RpNMlb97xtabAXiTv90lLtQah9I/vN8Qz/UMgb9Ubp8V0QShv2DVGuDE4py/0Fc7B5bAcL/NFN5BMPGoP2v4J4cKSYK/AAAAAAAAAAAW27FNVt2fvxGI2E4rqMO/Nt2tTLnffL8DfV25udqgP146jBPiZqK/JgZjS2U9gb9ASFNwD16Uv/22qBm6cp2/EPRaJWdfjr9WimNnuY+zvxJMcdfk/UQ/8f4Fa7BYfr/jjn7Ib/yHvy9HZ7x4b4K/fRJ6mHRSlr+OU5ghYtuUv0UO88p+NIK/ZmUYVJ3Xhr+NJ7cKzZSFv1SoNARILXe/pnaMhR1TbD/SQzr0HjSHv6spwRxeGoe/Ysn1PteJgr/SPx/yXL+Rv6GL6jv69mE/GH5Ypfw2jb8xqpKUFS+Hv9eC0s5HMIq/r08MeLCVf79T85zGqMx3P8e8nluVXII/Zpu/kuQxrz+SCsSfPRKMvyCDyufJuKA/SN/KdRH1wT+pcMxFc405P6h9gq7Fgc6/zjE3ZPTdmz8X27FNVt2fvwAAAAAAAAAA7U8t00Xgwr81vmAj1KGNP9WXP2XRUJu/N040cXcArL9U+kXUUvKYv8mdXKRHgKK/X5vPhT0zo7/ItlBUyXmYv2a2lPeZgMK/PlZHlswtgT8jNkmh3b+Yv/R5m29oUpK/om8qT/1cn79Lv8g8AGKov8HhnIUx9rI/neuYNzzKaj8okRS9Bhx0vycyC0Bx03u/lqJeysOqvz8Rh0jrEYdiPyQoo/mrFpC/oN6wXc1kor/sDapDBC2bvyy/Uic4YJ6/6jsbHYURbj+z9Wjs5d6Lv2LynIIkkZu/bysdB8ukoL8mv6Hj8B2Qv4pbWyvu3Ze/SZZj0JBztL+p0hHD707EvwvRjP/M652/iypMuuw7ur8Vkm/BtfrJv1K3LT0yd7a/rb7+CaDZwj/ohgyyGD9avxKI2E4rqMO/7U8t00Xgwr8AAAAAAACgvALf9QuPvsS/EouRVNZksr94Czm00CjFPx59YFQiwZ6/+SgSDWGqkb8LmlgS246Svzdzc+1i6qC/rA98qLFSyT+BbYbbnsu4v0ANhN+Y5LO/Ies+fT+imb/eE0Vk3VWOP5VSJGPU9ru/NXcj1QsKir/RmEINcGCYv33vR1NeZKq/PtXx2Kg1nb+uZsuEK5nDv3esN9nZXqK/mQpO97NnY7/B/4JUv9uiv8vCpHwEgLC/p4RjRWIAlL/8YfDOLIHGvxbVpEsiKpu/X94Xkq5qsb8kWsBimXe4v2qabqWaOpe/3mYpyurml79n8YM9llZxvw50axB5mKu/Nbn93OrEib+lIUSFPxXPP1HMeFYO0qC/k02V75hggT9WtlJ/oOK5v4VFiWl+uIa/Nt2tTLnffL81vmAj1KGNPwPf9QuPvsS/AAAAAAAAAAA8LbVjicmOv6uJp/39oJO/TAnTFCh+kb/wbTbWU1GaP99lDqnGNJ6/lxJXQvyLg78CLbdHKTSkP3jnYljxUFw/i2oq82QKmL+C5u/eGTuOvz1aFp78U4W/mZb2tmxHnr+eRlP6sbuYv+lW8GKgl4W/KkFbPzGEjL8q9cQ0K/R4P0haBAicKaK/gJyO4wxTkr/xRNwyxLFqP6R0hCBI+JK//K/QxnbBjr8WMNf8B0iRv7aYiFo8vmU/oG/psPhkiL94g7q8WaGMv5foOJTanZG/5Np+QIM6g79Gt84fW6uTv2qi719oyKo/8sfRdcvJvD8f4dsbUGKjP66BLz1SNIe/XvrDDejejL8hOZ6NscKDv8QUMqMnJXA/oEbwJoWub78DfV25udqgP9aXP2XRUJu/EouRVNZksr88LbVjicmOvwAAAAAAAAAAeMGiqahhor9FPTKPNk2Jvx9AxyTdKpC/0OshrSxkl79BSogQ2n5kv1aB3p/Yuqa/ZAIc0fRllb8TpS5OCJ6Rvy5kVB38AIy/o+BVN/QvkL9cN9TEvcd7v/4XkoXt2Ja/P0qXMqj/ib+NsRpi8qKgP0YtM2rdJoq/J4+URMCmj78USOwtFQyYP6rCu5k52oO/zvmAXDXQj79cBXRKIbiCvxPaqz1WHKc/51SLnSxcfT+wQDvZRuiJv4bXWJRfiIO/Xs6grvLxkb8J3Relcnllv99ZPeK0ZKu/IFCutnkvnL8D/xUvp/K5v9TpyG/A/Zi/rDgH/vfbxb/pbsVtkX/Ov6Mm4TGTAae/HOKad3WdsD+4vR3fvBSiv146jBPiZqK/OE40cXcArL94Czm00CjFP6uJp/39oJO/eMGiqahhor8AAAAAAAAAAHnBgYa/pME/GDqQaG17hD8Fshu4LKixvyO013WZ7p6/hUUf6sThxr9B2wkKCni6v7qJ0Bv5pay/oMg/Ob25mb8cUXNaj5SRv5oFfvgfDqq/NpYGjiJH2D/CZZXyATaXv8I5BGcIg46/z6gHCoe1lT+WM2AMVAXEv8qK6hqQDaG/uAAtRoAhbD9rwOwH8ASlv99K2cmCT6K/JHCpR+KxkD8MonCK77Gxv/JZe5V/4u++s3WrtQFHor87d99z+TWnv/G9gmi9wJa/TPm8XRMQk7++B0XfDLWLv5yEsSIdyKO/j3zuipQYhb88Ab50gpCivwd+t2R+Hqq/wGRSK9GtnL9P1k5/ErmJPy2wF1EwZIy/JgZjS2U9gb9T+kXUUvKYvx59YFQiwZ6/SwnTFCh+kb9FPTKPNk2Jv3nBgYa/pME/AAAAAAAAAACwsfiXqXCVP42hDhqaQ5+/OMhEVTGtkL/o0NX/Yoy1v+R8ZitS6pK/rJkQY1E+lr9lOHOI9emHvx5gMw/89ls/o2G27rv/lb944uFpRZe3P6GjrTUGLou/Sax5mxcpjr+h9Ib3sv+AvxnFJF9Nspm/rGdAGxLSib9vcOyUosmMv5/rM2oa85G/20OPO2fpjb9x+WBl4KGRvyAWzqmDBYW/sESMW9HJiL9XBl2YDUeOv9hMwYmFa5S/DOlMSh27gb+m4tP098dOvzBp5rtFdIK/ORroauGakj9lWNO/TFiFP4apfFkJ+qk/XO/tVNNgkD+i2x0/AZ2iv3rTQ7vuEb6/xxgUlsbyf79BSFNwD16Uv8mdXKRHgKK/+SgSDWGqkb/wbTbWU1GaPyBAxyTdKpC/GDqQaG17hD+wsfiXqXCVPwAAAAAAAAAA5Oy6INeNlb/7Xy8n4KZ7v6m+eEySWKC/DB1Lor/an79MvEmV4TuWv30nCMw3JoK/W1fcqNJBeL/FenGvYKeRv0Y5W85iV6E/c76l7IFli79UyCaESZqIv9kadyZViIa/wXanxUSwkL986QUL8CGQvzKhWiPd/I+/mt4xms0cj7/gmj7Q2HiJv5HxFIXjYIu/M/NaEZYfkL+6pHqaUD2GvzUdMfW4c4u/TKwbVhkekr87xk+JMUyJv7L/fJ95s9U/a1+Se9Kxn79Pj0wf1Q+UvwfPXskucYq/Si8iQcL3gz9VzeuM8EStP2rGmtmD96W/aa2LGv2atr+3bL4W1hySv/22qBm6cp2/X5vPhT0zo78LmlgS246Sv99lDqnGNJ6/0eshrSxkl78Fshu4LKixv42hDhqaQ5+/5Oy6INeNlb8AAAAAAACgvMcZ3gV3YK8/bB0tLWHRuL+PNWi2F8iYvzKKnvzO6Lw/v8QJhxdzjL9p8Y3OV/6Yv9gPWPVmOaG/ksfWTrWJp7+QMI+zrlOQv/fpjkrrqJi/IfVuETBziL+Qi0H9mGmcv/cmCFqy5Za/FQqDdgdyf7/NpdgIfuKQv96eTfZSN5S/MhAZ5NxQnL9SGilq5/yQvzGuPBxG35O/db02MtAolL9MgICrNquev/4kQo+fe5C/MuFcBmnbhz9X2Mc+WzJyvwZ9W60I+5W/wKKJwH9Ngb/3X3Mj9JmTv+EFu6rqWJi//h6OymLxkb8IcQL06tOWvxpGAqHYHHm/EPRaJWdfjr/JtlBUyXmYvzdzc+1i6qC/lxJXQvyLg79CSogQ2n5kvyO013WZ7p6/OchEVTGtkL/7Xy8n4KZ7v8gZ3gV3YK8/AAAAAAAAAABkxPvsQeeWvxnm7+gCyoq/w/FUZJmrY79JzRyjzW+bPzGYNm7r346/7LE+IyZAd7+e4A41EgWYv5ExogGavnE/sU+xeUQDbD8uK2NxH914P5MuRLkSPJS/IrVz7ftLhL++cfPhdHRvP/w8v2Juv3u/FP1qpf3Sg7+2+j90xQyOv1GxLlnXX4C/+pIW199eYb8THwiRh1aCv9mF75Chs4m/pRs2yjC4ir9iUhHhZQmvv0d3poyNe6S/+z+FLk0Esr/6/3pSubiZv2zFize737c/06AO/VVpyr8yhHk5f92zv8aYndnA7J8/V/lOhbPwiL9XimNnuY+zv2a2lPeZgMK/rQ98qLFSyT8CLbdHKTSkP1eB3p/Yuqa/hkUf6sThxr/o0NX/Yoy1v6m+eEySWKC/bB0tLWHRuL9jxPvsQeeWvwAAAAAAAAAAbd3fh6Ivvj9X6LhcEW+xv+gXEnAgU5S/XkF9b2y7oj8E3lfMaqmvv64P2tZ/YcW/mrShu1IQlb/8+dhpt+mhv1LbV4zDQ5e/jdxSZ/nxvr8nOUe+y6yhv6boV8p8IqK/wrUK/M5cp7/ByGkfkAyjv/tdb0lul6y/6nQeZUmLqj92G0AMfgWav4ShbJfsXJ+/JdVxKg3hrL81ZM2ma/KOv3udsODrlqO//I4XooGydD9X0hfMbzKHv5HHq/+n44O/6qa5ppIymT/nHJEyMEXCvznx4M8AKLM/7BcHSP6ns7/sDeFgBW6avxNMcdfk/UQ/PlZHlswtgT+CbYbbnsu4v3fnYljxUFw/ZAIc0fRllb9C2wkKCni6v+R8ZitS6pK/Cx1Lor/an7+PNWi2F8iYvxnm7+gCyoq/bt3fh6Ivvj8AAAAAAACgvG/tmBivr5s/S4wxZ+tdjL+rssMRcX+QP3T2fOCykaK/9+Y9t3Xcrb+qL/3X209hP5PB1OlSGYu/mCcJ5WsOlL/PBE8MJpKtv9ojs1cEapa//8da0qlSjT/xiLQhkhibvycquJb2LZa/vlMJRAF6dr+Y/Ct2uoiUv+x/+Q6Jm3s/6a8zVd1Elb8Bmy/wWoibv1sGeFsUuYm/3UTx67j+Zz8UG555zoGXv3m3MwV335a/76CHe6v/eb8IMslGhfigv3aTepzoxLo/HuExqdZCoL//CsQTMFd7v61lYBXqOAQ/8f4Fa7BYfr8jNkmh3b+Yv0ANhN+Y5LO/imoq82QKmL8TpS5OCJ6Rv7mJ0Bv5pay/rJkQY1E+lr9MvEmV4TuWvzKKnvzO6Lw/w/FUZJmrY79X6LhcEW+xv3DtmBivr5s/AAAAAAAAAAC54xYJzTeMvxA92Z/lk5q/kxN5CKRXmL+2A+lDbKegvzaCtD21Koy/rwZtmvXKfL8YxlNEELGPv9GXFLDEqJO/ADug3pETi7/MqOASHPWNv3Y/D9nRiJK/82YhzOEijb8v2f5H2SOIv53+uEFFyHq/R1n4J4ttkb8j4gCEzKGSv/TcagHgdJi/FxmK0O2/i7/2ePZ7jkiRvwT5HcU4nXe/cU3iE1hbmr/7UR6qx4Z4vzjbCrnWipK/XxyGaCIEZ7/c3wfEC9SWvyW+pLhvrZK/FVxDwpE/br/jjn7Ib/yHv/R5m29oUpK/Ius+fT+imb+D5u/eGTuOvy5kVB38AIy/n8g/Ob25mb9mOHOI9emHv3wnCMw3JoK/v8QJhxdzjL9JzRyjzW+bP+kXEnAgU5S/SowxZ+tdjL+44xYJzTeMvwAAAAAAAAAAc31YKV82gr/YFHeiujCNv5B+o3hVXJa/+w6xZ80Bjj+gHLVtvKCEPzwjNgQSV0u/CFZ/q5MKjL/pkqPN6kODvwmIHvOqA2e/wcI6wZF6kb9lMP9VrX+Qvys33uyYeIu/eX/IfEyJh7+sO5e2qxFQv9Bt2A8VL4q/wvomo0Nvlb8YFxf3T7BnP3Qp18nq0JG/km41YRGelb8D2ul2UsOpP7Gvpg+neYm/UZR1OaMlpb95ElNkKb2ov2mp/p2zQYG/xsVUG2ptxL+rnOxXUDmQvy5HZ7x4b4K/om8qT/1cn7/dE0Vk3VWOPzxaFp78U4W/o+BVN/QvkL8cUXNaj5SRvx9gMw/89ls/W1fcqNJBeL9p8Y3OV/6YvzGYNm7r346/XUF9b2y7oj+rssMRcX+QPxE92Z/lk5q/dH1YKV82gr8AAAAAAAAAAPa9I9hQmZi/vj8PGSD6qD/kBX3C7gyTP/75vIdgY2q/yChcWTrAiz+zUXmXaEScv9ESVFxFK5G/qzHI9//Ij79K/MKn1ymPv2E7GxKEkYi/tYsYIr7bgr/jvBluOFmQv9o1+BO6EYm/24Xbh7FxiL84EKP2awqPv83X4LrO4oK/WFsJFuC4nr9J9qBzrRuNP9iegcKpkKK/x7HskKseiL9xEwLM9Eilv73SMFq0RKy/P7e1fkz+hb/nCnEKPN60v5M3ycq2cYy/fBJ6mHRSlr9Kv8g8AGKov5VSJGPU9ru/mJb2tmxHnr9cN9TEvcd7v5oFfvgfDqq/o2G27rv/lb/FenGvYKeRv9gPWPVmOaG/67E+IyZAd78E3lfMaqmvv3T2fOCykaK/kxN5CKRXmL/YFHeiujCNv/a9I9hQmZi/AAAAAAAAAADs4LguEOOivydJvYC4t4q//te0v475hr9Xt7XhGAmOv+MJU1Y9ZKC/nSITBwqthL83Xx4q8giUv3IllAOBBG+/DyigzIR22D/Zc7mIjbaVv82DStmjaJi/ne2PZ/bwlz89hkLZcSfVP6u0dSZ9c+M/t0InFUODkD/OMbvVYzegv46faYZkCZ2/vZgy3s1Is797XmIapiiTv2G9ScLT6LG/AEN1gIdntb8acASkEhinv6D5FXqXl7y/U70NY0WXmL+PU5ghYtuUv8DhnIUx9rI/NXcj1QsKir+eRlP6sbuYv/4XkoXt2Ja/N5YGjiJH2D944uFpRZe3P0Y5W85iV6E/kcfWTrWJp7+e4A41EgWYv64P2tZ/YcW/9+Y9t3Xcrb+2A+lDbKegv5B+o3hVXJa/vj8PGSD6qD/s4LguEOOivwAAAAAAAAAAcEW1mEWqlL8/eV76GzltP0wkzO4NHak/+oAbwObPqb/6coG6EfGUv1UWUqhIBZS/V3EeIAp7mb9ehhnfBq2WvwpJwxeVq5i/CrDPuRO4mb9u51pKfa6TvxQ+OrFMWZW/TWa9ZT2Amr/Y5utL5G2RvxESxJO/TI+/IhA3U38jgb+WtuHEkw11v0qbAnRGvm+/ll2kNOGpgr9eU1Zi0faTv2WAyOBpYmA/Aguh5Y0qob+aHxzx0Md1v0UO88p+NIK/nuuYNzzKaj/RmEINcGCYv+hW8GKgl4W/P0qXMqj/ib/CZZXyATaXv6GjrTUGLou/c76l7IFli7+PMI+zrlOQv5ExogGavnE/mrShu1IQlb+rL/3X209hPzaCtD21Koy/+w6xZ80Bjj/jBX3C7gyTPydJvYC4t4q/b0W1mEWqlL8AAAAAAACgvDYCYdXntXS/UTbEbM4zdr/kHstcKICQv7viUrryiIG/6WoP9zW1cr9zrF5LprGEv/beTfDVqX2/JLuX19ZYg7+78ghnfB2Cv/DmkM6R6GK/RTOFyPIhYD9V96tKsPeNvwHeUu78FYW/b+GGHjdjk7/tl5rECBCAv4E0xH6U+5S/A/aj1eFjmz83UPFilf51P/GFyoyXD5m/CZCSM8BWiD9GLjORNMigv+FHlFRAv4W/ZmUYVJ3Xhr8okRS9Bhx0v33vR1NeZKq/KkFbPzGEjL+OsRpi8qKgP8I5BGcIg46/Sax5mxcpjr9UyCaESZqIv/fpjkrrqJi/sU+xeUQDbD/9+dhpt+mhv5PB1OlSGYu/sAZtmvXKfL+hHLVtvKCEP/75vIdgY2q//te0v475hr8/eV76GzltPzYCYdXntXS/AAAAAAAAAAAVfxn03RSRP+RAiTVD4JK/nXvEKqvKqD9WKp0RCOZ7v1O5X6Cs7mq/yBHu/Wqdhb/vh4vEGb+Nv0ZHa6x7EE6/6eKtjQDeg79vItAIXF6Hv9tRYIZHVo6/G1PyHxv0hT88nR9rN8x/vwLl7yM6toK/BLKL1ToYhb9hTpz6CjVwv84LUMFS1Zq/H8KmodkEn7/kIguPvCGYv6Mi1BGHhKS/CMBqPVwRhL+NJ7cKzZSFvycyC0Bx03u/PtXx2Kg1nb8r9cQ0K/R4P0YtM2rdJoq/z6gHCoe1lT+h9Ib3sv+Av9kadyZViIa/IPVuETBziL8uK2NxH914P1LbV4zDQ5e/mCcJ5WsOlL8XxlNEELGPvz0jNgQSV0u/yChcWTrAiz9Wt7XhGAmOv00kzO4NHak/UjbEbM4zdr8Vfxn03RSRPwAAAAAAAKC8poVo+7TDk7/qZQCM2MiDv4wA9WTRM3u/3KyEemybgb98CmNzmJ+Fv35H/1VIgIu/3hy3z0wxeL/ecEfaXut3v1dj4mmLPoq/tpNTdn87kr/efMplnTaEv07tmQFZvbE/CQRz5GWRmb9PlBboxUCxv70ST2J+S5G/u9kvSEEQsb9IJvlm1lDYP9OAEhuJmqW/zCVSMC0Foj8kBz2zUTORv1SoNARILXe/laJeysOqvz+uZsuEK5nDv0haBAicKaK/KI+URMCmj7+XM2AMVAXEvxnFJF9Nspm/wXanxUSwkL+Ri0H9mGmcv5MuRLkSPJS/jdxSZ/nxvr/PBE8MJpKtv9KXFLDEqJO/B1Z/q5MKjL+zUXmXaEScv+QJU1Y9ZKC/+oAbwObPqb/kHstcKICQv+VAiTVD4JK/poVo+7TDk78AAAAAAAAAAM/I/N2dEYu/eQ8zK7YPkb/+7tE1iMSTvyQOaGc/zZC/p6uVetFzer9iEoCb0KqQvyd9QzJVipO//QhMuTKNkL8Mjbs9c4GXv9Cf0d0Gtom/Vkr0j5vcjb/1pdsB/EWKv3sx3+6UXrE/siEQVBgnUb+Nvvg5tPKav1CC/mNng5y/CE/Np+Ickr8JwYgh5fY+P4jmqajwBYS/p3aMhR1TbD8Rh0jrEYdiP3esN9nZXqK/gZyO4wxTkr8TSOwtFQyYP8qK6hqQDaG/rGdAGxLSib986QUL8CGQv/cmCFqy5Za/IrVz7ftLhL8nOUe+y6yhv9kjs1cEapa/ATug3pETi7/pkqPN6kODv9ESVFxFK5G/nSITBwqthL/6coG6EfGUv7viUrryiIG/nXvEKqvKqD/qZQCM2MiDv9DI/N2dEYu/AAAAAAAAAACWyYtiUX+Dv/Wc7Xj0w7M/GYuKRI3Xdj8daGgwxJhsP8/zZK2Lr4i/8xFoyItBhr/Fq2E3HF+Jv+GUHS/8xI2/jb+cBbxjiz+vH9eLODCGvzxYO2PYWYe/UGI/bCBImr/fU4LHv/N1v4suswYzypS/LMjzzGyjlL+vCCGseU2Sv5jZdez2U4c/dYyvsypggL/SQzr0HjSHvyQoo/mrFpC/mgpO97NnY7/xRNwyxLFqP6rCu5k52oO/uAAtRoAhbD9vcOyUosmMvzKhWiPd/I+/FQqDdgdyf7++cfPhdHRvP6boV8p8IqK//8da0qlSjT/NqOASHPWNvwiIHvOqA2e/qzHI9//Ij783Xx4q8giUv1UWUqhIBZS/6moP9zW1cr9XKp0RCOZ7v4sA9WTRM3u/eQ8zK7YPkb+WyYtiUX+DvwAAAAAAAKC8b+2MCMCVhb8P8XoCI22JvxuSPVrnFoG/V+UvtDokk79crA0X8CGKv7UAOku2inW/yTSVRX2Fj79NcgB6g9mCv4sRvk2JvJC/NRugWDV+Uj83BN0B0HaxP6j6YSvIoYC/L385+6tQob9TD2wTPC6Qv78md88ON7k/Cm6shG6nfb+x1Lyu7BqKv6spwRxeGoe/od6wXc1kor/B/4JUv9uiv6R0hCBI+JK/zvmAXDXQj79rwOwH8ASlv5/rM2oa85G/mt4xms0cj7/NpdgIfuKQv/w8v2Juv3u/wrUK/M5cp7/yiLQhkhibv3c/D9nRiJK/wcI6wZF6kb9K/MKn1ymPv3MllAOBBG+/VnEeIAp7mb9zrF5LprGEv1O5X6Cs7mq/3KyEemybgb/97tE1iMSTv/Wc7Xj0w7M/cO2MCMCVhb8AAAAAAAAAAIni+2RPuoi/XUzJzE+EhD+2aoXQ1VaQvzQ6Br9beKM/WW6pdWIEgr/tQhWQAKVaP02UTlFB9IQ/OmHBRnqBkb9FoCL/qzOCPx53Wl8xQJi/eJ/HFNcfg78NN7mAu1WVv923BQAn4KC/7drFvpXSkb8UoG4CZyGnv1Y7GNzpZYa/Ysn1PteJgr/sDapDBC2bv8vCpHwEgLC//K/QxnbBjr9cBXRKIbiCv99K2cmCT6K/2kOPO2fpjb/gmj7Q2HiJv96eTfZSN5S/FP1qpf3Sg7/CyGkfkAyjvycquJb2LZa/9GYhzOEijb9lMP9VrX+Qv2E7GxKEkYi/DyigzIR22D9ehhnfBq2Wv/XeTfDVqX2/yBHu/Wqdhb98CmNzmJ+FvyQOaGc/zZC/GYuKRI3Xdj8Q8XoCI22Jv4ji+2RPuoi/AAAAAAAAoLx0rvGnFFSNvw1kgkKuDYq/Cm/CD7DAhL9IvMUm6Ep/PwbDYbx0gdY/0z+uo3hqer8JCnfAiMqmP17Urp5UmSg/8YlNqjISkb+BksIOKQiOPyZCTs9q16g/zIgo8D9VnL/Pwao9V46YPysZ4rgMY7S/XkkIsh24eb/SPx/yXL+Rvyy/Uic4YJ6/p4RjRWIAlL8XMNf8B0iRvxPaqz1WHKc/I3CpR+KxkD9x+WBl4KGRv5HxFIXjYIu/MRAZ5NxQnL+3+j90xQyOv/pdb0lul6y/vlMJRAF6dr8v2f5H2SOIvys33uyYeIu/tYsYIr7bgr/Yc7mIjbaVvwpJwxeVq5i/JLuX19ZYg7/vh4vEGb+Nv35H/1VIgIu/pquVetFzer8daGgwxJhsPxuSPVrnFoG/XUzJzE+EhD9zrvGnFFSNvwAAAAAAALC8cZvfRqjmjr9SGHQhZceKv0v7Z3Je4Im/HckxRw0qlL/fajljcFNqv2bFLGUoNpu/RfIVRA3lsz/NQ2jQfJWGPxhth9Ok5IG/3t0VHw5eoT8aukTXCQizP7B3yixE7aK/oj3Yhn4ysr8BuSuqnPaHv6GL6jv69mE/6TsbHYURbj/9YfDOLIHGv7aYiFo8vmU/6FSLnSxcfT8MonCK77GxvyAWzqmDBYW/MvNaEZYfkL9SGilq5/yQv1GxLlnXX4C/6nQeZUmLqj+Y/Ct2uoiUv53+uEFFyHq/eH/IfEyJh7/kvBluOFmQv86DStmjaJi/C7DPuRO4mb+78ghnfB2Cv0ZHa6x7EE6/3hy3z0wxeL9jEoCb0KqQv8/zZK2Lr4i/V+UvtDokk7+1aoXQ1VaQvw5kgkKuDYq/cZvfRqjmjr8AAAAAAACwvAHx0Mjm34W/dTb2e4nrib9YMYwHQ0+SvxNO7g+vAIK/55MibIUekL+gavYYb2OEv/kQPDzHJJm/OW4RDQN/c7/BPLEGl+WSv3D9P7JNUJ6/uVPnbbQNmD9zjVMkYT6Lv/X5RhoREX6/GH5Ypfw2jb+y9Wjs5d6LvxbVpEsiKpu/oG/psPhkiL+wQDvZRuiJv/JZe5V/4u++sESMW9HJiL+5pHqaUD2GvzGuPBxG35O/+pIW199eYb93G0AMfgWav+1/+Q6Jm3s/R1n4J4ttkb+sO5e2qxFQv9k1+BO6EYm/ne2PZ/bwlz9u51pKfa6Tv/DmkM6R6GK/6eKtjQDeg7/dcEfaXut3vyd9QzJVipO/8xFoyItBhr9drA0X8CGKvzQ6Br9beKM/Cm/CD7DAhL9SGHQhZceKvwHx0Mjm34W/AAAAAAAAoLxh2wXC+9eAv8mNEnnGUH0/13IdUoUKiT9CnsadhWyQv/T7UqX6SYW//Nf29Z3Tkb/iUbQRZCyJvxDhSf3nepq/1lhOaBdWmr+FNRBIlgqAv5pOi79YI6m/U3Meyj3qhb8xqpKUFS+Hv2PynIIkkZu/YN4Xkq5qsb94g7q8WaGMv4bXWJRfiIO/s3WrtQFHor9YBl2YDUeOvzQdMfW4c4u/db02MtAolL8THwiRh1aCv4OhbJfsXJ+/6a8zVd1Elb8j4gCEzKGSv89t2A8VL4q/24Xbh7FxiL88hkLZcSfVPxQ+OrFMWZW/RTOFyPIhYD9wItAIXF6Hv1Zj4mmLPoq//AhMuTKNkL/Fq2E3HF+Jv7YAOku2inW/Wm6pdWIEgr9GvMUm6Ep/P0r7Z3Je4Im/dDb2e4nrib9h2wXC+9eAvwAAAAAAAKC8Vl5iNZx21D8nWia3z2WdP2FZVrzYO5i/w18DrzimqD8jr0SWhciev17ULthD95K/Dg5vTxv4nb8IevbugFKmvyDCV/ThuVK/RvuGXGCssb88YBtsgx2Lv9aC0s5HMIq/bysdB8ukoL8kWsBimXe4v5foOJTanZG/Xs6grvLxkb87d99z+TWnv9hMwYmFa5S/S6wbVhkekr9NgICrNquev9qF75Chs4m/JNVxKg3hrL8Bmy/wWoibv/PcagHgdJi/wvomo0Nvlb84EKP2awqPv6u0dSZ9c+M/Tma9ZT2Amr9V96tKsPeNv9xRYIZHVo6/t5NTdn87kr8Mjbs9c4GXv+KUHS/8xI2/yjSVRX2Fj7/uQhWQAKVaPwbDYbx0gdY/HckxRw0qlL9YMYwHQ0+Sv8qNEnnGUH0/Vl5iNZx21D8AAAAAAAAAAHQnlfX0i4M/UpQ7BS/jir/tVi+9pjqhPwMAvwefd4i/T0J6ipZTkT/QxsPJHeOIv+54kwgvIZG/Xu9tTJNHhb/6cvzCWbaLv3xWUPiOlnq/r08MeLCVf78nv6Hj8B2Qv2qabqWaOpe/5Np+QIM6g78J3Relcnllv/G9gmi9wJa/DOlMSh27gb87xk+JMUyJv/8kQo+fe5C/pRs2yjC4ir80ZM2ma/KOv1wGeFsUuYm/FxmK0O2/i78YFxf3T7BnP87X4LrO4oK/t0InFUODkD/Y5utL5G2RvwDeUu78FYW/G1PyHxv0hT/efMplnTaEv9Gf0d0Gtom/jb+cBbxjiz9McgB6g9mCv06UTlFB9IQ/0z+uo3hqer/gajljcFNqvxNO7g+vAIK/13IdUoUKiT8nWia3z2WdP3QnlfX0i4M/AAAAAAAAAAA=",
          "dtype": "f8",
          "shape": "40, 40"
         }
        }
       ],
       "layout": {
        "coloraxis": {
         "cmax": 1,
         "cmin": -1,
         "colorscale": [
          [
           0,
           "rgb(103,0,31)"
          ],
          [
           0.1,
           "rgb(178,24,43)"
          ],
          [
           0.2,
           "rgb(214,96,77)"
          ],
          [
           0.3,
           "rgb(244,165,130)"
          ],
          [
           0.4,
           "rgb(253,219,199)"
          ],
          [
           0.5,
           "rgb(247,247,247)"
          ],
          [
           0.6,
           "rgb(209,229,240)"
          ],
          [
           0.7,
           "rgb(146,197,222)"
          ],
          [
           0.8,
           "rgb(67,147,195)"
          ],
          [
           0.9,
           "rgb(33,102,172)"
          ],
          [
           1,
           "rgb(5,48,97)"
          ]
         ]
        },
        "template": {
         "data": {
          "bar": [
           {
            "error_x": {
             "color": "#2a3f5f"
            },
            "error_y": {
             "color": "#2a3f5f"
            },
            "marker": {
             "line": {
              "color": "#E5ECF6",
              "width": 0.5
             },
             "pattern": {
              "fillmode": "overlay",
              "size": 10,
              "solidity": 0.2
             }
            },
            "type": "bar"
           }
          ],
          "barpolar": [
           {
            "marker": {
             "line": {
              "color": "#E5ECF6",
              "width": 0.5
             },
             "pattern": {
              "fillmode": "overlay",
              "size": 10,
              "solidity": 0.2
             }
            },
            "type": "barpolar"
           }
          ],
          "carpet": [
           {
            "aaxis": {
             "endlinecolor": "#2a3f5f",
             "gridcolor": "white",
             "linecolor": "white",
             "minorgridcolor": "white",
             "startlinecolor": "#2a3f5f"
            },
            "baxis": {
             "endlinecolor": "#2a3f5f",
             "gridcolor": "white",
             "linecolor": "white",
             "minorgridcolor": "white",
             "startlinecolor": "#2a3f5f"
            },
            "type": "carpet"
           }
          ],
          "choropleth": [
           {
            "colorbar": {
             "outlinewidth": 0,
             "ticks": ""
            },
            "type": "choropleth"
           }
          ],
          "contour": [
           {
            "colorbar": {
             "outlinewidth": 0,
             "ticks": ""
            },
            "colorscale": [
             [
              0,
              "#0d0887"
             ],
             [
              0.1111111111111111,
              "#46039f"
             ],
             [
              0.2222222222222222,
              "#7201a8"
             ],
             [
              0.3333333333333333,
              "#9c179e"
             ],
             [
              0.4444444444444444,
              "#bd3786"
             ],
             [
              0.5555555555555556,
              "#d8576b"
             ],
             [
              0.6666666666666666,
              "#ed7953"
             ],
             [
              0.7777777777777778,
              "#fb9f3a"
             ],
             [
              0.8888888888888888,
              "#fdca26"
             ],
             [
              1,
              "#f0f921"
             ]
            ],
            "type": "contour"
           }
          ],
          "contourcarpet": [
           {
            "colorbar": {
             "outlinewidth": 0,
             "ticks": ""
            },
            "type": "contourcarpet"
           }
          ],
          "heatmap": [
           {
            "colorbar": {
             "outlinewidth": 0,
             "ticks": ""
            },
            "colorscale": [
             [
              0,
              "#0d0887"
             ],
             [
              0.1111111111111111,
              "#46039f"
             ],
             [
              0.2222222222222222,
              "#7201a8"
             ],
             [
              0.3333333333333333,
              "#9c179e"
             ],
             [
              0.4444444444444444,
              "#bd3786"
             ],
             [
              0.5555555555555556,
              "#d8576b"
             ],
             [
              0.6666666666666666,
              "#ed7953"
             ],
             [
              0.7777777777777778,
              "#fb9f3a"
             ],
             [
              0.8888888888888888,
              "#fdca26"
             ],
             [
              1,
              "#f0f921"
             ]
            ],
            "type": "heatmap"
           }
          ],
          "histogram": [
           {
            "marker": {
             "pattern": {
              "fillmode": "overlay",
              "size": 10,
              "solidity": 0.2
             }
            },
            "type": "histogram"
           }
          ],
          "histogram2d": [
           {
            "colorbar": {
             "outlinewidth": 0,
             "ticks": ""
            },
            "colorscale": [
             [
              0,
              "#0d0887"
             ],
             [
              0.1111111111111111,
              "#46039f"
             ],
             [
              0.2222222222222222,
              "#7201a8"
             ],
             [
              0.3333333333333333,
              "#9c179e"
             ],
             [
              0.4444444444444444,
              "#bd3786"
             ],
             [
              0.5555555555555556,
              "#d8576b"
             ],
             [
              0.6666666666666666,
              "#ed7953"
             ],
             [
              0.7777777777777778,
              "#fb9f3a"
             ],
             [
              0.8888888888888888,
              "#fdca26"
             ],
             [
              1,
              "#f0f921"
             ]
            ],
            "type": "histogram2d"
           }
          ],
          "histogram2dcontour": [
           {
            "colorbar": {
             "outlinewidth": 0,
             "ticks": ""
            },
            "colorscale": [
             [
              0,
              "#0d0887"
             ],
             [
              0.1111111111111111,
              "#46039f"
             ],
             [
              0.2222222222222222,
              "#7201a8"
             ],
             [
              0.3333333333333333,
              "#9c179e"
             ],
             [
              0.4444444444444444,
              "#bd3786"
             ],
             [
              0.5555555555555556,
              "#d8576b"
             ],
             [
              0.6666666666666666,
              "#ed7953"
             ],
             [
              0.7777777777777778,
              "#fb9f3a"
             ],
             [
              0.8888888888888888,
              "#fdca26"
             ],
             [
              1,
              "#f0f921"
             ]
            ],
            "type": "histogram2dcontour"
           }
          ],
          "mesh3d": [
           {
            "colorbar": {
             "outlinewidth": 0,
             "ticks": ""
            },
            "type": "mesh3d"
           }
          ],
          "parcoords": [
           {
            "line": {
             "colorbar": {
              "outlinewidth": 0,
              "ticks": ""
             }
            },
            "type": "parcoords"
           }
          ],
          "pie": [
           {
            "automargin": true,
            "type": "pie"
           }
          ],
          "scatter": [
           {
            "fillpattern": {
             "fillmode": "overlay",
             "size": 10,
             "solidity": 0.2
            },
            "type": "scatter"
           }
          ],
          "scatter3d": [
           {
            "line": {
             "colorbar": {
              "outlinewidth": 0,
              "ticks": ""
             }
            },
            "marker": {
             "colorbar": {
              "outlinewidth": 0,
              "ticks": ""
             }
            },
            "type": "scatter3d"
           }
          ],
          "scattercarpet": [
           {
            "marker": {
             "colorbar": {
              "outlinewidth": 0,
              "ticks": ""
             }
            },
            "type": "scattercarpet"
           }
          ],
          "scattergeo": [
           {
            "marker": {
             "colorbar": {
              "outlinewidth": 0,
              "ticks": ""
             }
            },
            "type": "scattergeo"
           }
          ],
          "scattergl": [
           {
            "marker": {
             "colorbar": {
              "outlinewidth": 0,
              "ticks": ""
             }
            },
            "type": "scattergl"
           }
          ],
          "scattermap": [
           {
            "marker": {
             "colorbar": {
              "outlinewidth": 0,
              "ticks": ""
             }
            },
            "type": "scattermap"
           }
          ],
          "scattermapbox": [
           {
            "marker": {
             "colorbar": {
              "outlinewidth": 0,
              "ticks": ""
             }
            },
            "type": "scattermapbox"
           }
          ],
          "scatterpolar": [
           {
            "marker": {
             "colorbar": {
              "outlinewidth": 0,
              "ticks": ""
             }
            },
            "type": "scatterpolar"
           }
          ],
          "scatterpolargl": [
           {
            "marker": {
             "colorbar": {
              "outlinewidth": 0,
              "ticks": ""
             }
            },
            "type": "scatterpolargl"
           }
          ],
          "scatterternary": [
           {
            "marker": {
             "colorbar": {
              "outlinewidth": 0,
              "ticks": ""
             }
            },
            "type": "scatterternary"
           }
          ],
          "surface": [
           {
            "colorbar": {
             "outlinewidth": 0,
             "ticks": ""
            },
            "colorscale": [
             [
              0,
              "#0d0887"
             ],
             [
              0.1111111111111111,
              "#46039f"
             ],
             [
              0.2222222222222222,
              "#7201a8"
             ],
             [
              0.3333333333333333,
              "#9c179e"
             ],
             [
              0.4444444444444444,
              "#bd3786"
             ],
             [
              0.5555555555555556,
              "#d8576b"
             ],
             [
              0.6666666666666666,
              "#ed7953"
             ],
             [
              0.7777777777777778,
              "#fb9f3a"
             ],
             [
              0.8888888888888888,
              "#fdca26"
             ],
             [
              1,
              "#f0f921"
             ]
            ],
            "type": "surface"
           }
          ],
          "table": [
           {
            "cells": {
             "fill": {
              "color": "#EBF0F8"
             },
             "line": {
              "color": "white"
             }
            },
            "header": {
             "fill": {
              "color": "#C8D4E3"
             },
             "line": {
              "color": "white"
             }
            },
            "type": "table"
           }
          ]
         },
         "layout": {
          "annotationdefaults": {
           "arrowcolor": "#2a3f5f",
           "arrowhead": 0,
           "arrowwidth": 1
          },
          "autotypenumbers": "strict",
          "coloraxis": {
           "colorbar": {
            "outlinewidth": 0,
            "ticks": ""
           }
          },
          "colorscale": {
           "diverging": [
            [
             0,
             "#8e0152"
            ],
            [
             0.1,
             "#c51b7d"
            ],
            [
             0.2,
             "#de77ae"
            ],
            [
             0.3,
             "#f1b6da"
            ],
            [
             0.4,
             "#fde0ef"
            ],
            [
             0.5,
             "#f7f7f7"
            ],
            [
             0.6,
             "#e6f5d0"
            ],
            [
             0.7,
             "#b8e186"
            ],
            [
             0.8,
             "#7fbc41"
            ],
            [
             0.9,
             "#4d9221"
            ],
            [
             1,
             "#276419"
            ]
           ],
           "sequential": [
            [
             0,
             "#0d0887"
            ],
            [
             0.1111111111111111,
             "#46039f"
            ],
            [
             0.2222222222222222,
             "#7201a8"
            ],
            [
             0.3333333333333333,
             "#9c179e"
            ],
            [
             0.4444444444444444,
             "#bd3786"
            ],
            [
             0.5555555555555556,
             "#d8576b"
            ],
            [
             0.6666666666666666,
             "#ed7953"
            ],
            [
             0.7777777777777778,
             "#fb9f3a"
            ],
            [
             0.8888888888888888,
             "#fdca26"
            ],
            [
             1,
             "#f0f921"
            ]
           ],
           "sequentialminus": [
            [
             0,
             "#0d0887"
            ],
            [
             0.1111111111111111,
             "#46039f"
            ],
            [
             0.2222222222222222,
             "#7201a8"
            ],
            [
             0.3333333333333333,
             "#9c179e"
            ],
            [
             0.4444444444444444,
             "#bd3786"
            ],
            [
             0.5555555555555556,
             "#d8576b"
            ],
            [
             0.6666666666666666,
             "#ed7953"
            ],
            [
             0.7777777777777778,
             "#fb9f3a"
            ],
            [
             0.8888888888888888,
             "#fdca26"
            ],
            [
             1,
             "#f0f921"
            ]
           ]
          },
          "colorway": [
           "#636efa",
           "#EF553B",
           "#00cc96",
           "#ab63fa",
           "#FFA15A",
           "#19d3f3",
           "#FF6692",
           "#B6E880",
           "#FF97FF",
           "#FECB52"
          ],
          "font": {
           "color": "#2a3f5f"
          },
          "geo": {
           "bgcolor": "white",
           "lakecolor": "white",
           "landcolor": "#E5ECF6",
           "showlakes": true,
           "showland": true,
           "subunitcolor": "white"
          },
          "hoverlabel": {
           "align": "left"
          },
          "hovermode": "closest",
          "mapbox": {
           "style": "light"
          },
          "paper_bgcolor": "white",
          "plot_bgcolor": "#E5ECF6",
          "polar": {
           "angularaxis": {
            "gridcolor": "white",
            "linecolor": "white",
            "ticks": ""
           },
           "bgcolor": "#E5ECF6",
           "radialaxis": {
            "gridcolor": "white",
            "linecolor": "white",
            "ticks": ""
           }
          },
          "scene": {
           "xaxis": {
            "backgroundcolor": "#E5ECF6",
            "gridcolor": "white",
            "gridwidth": 2,
            "linecolor": "white",
            "showbackground": true,
            "ticks": "",
            "zerolinecolor": "white"
           },
           "yaxis": {
            "backgroundcolor": "#E5ECF6",
            "gridcolor": "white",
            "gridwidth": 2,
            "linecolor": "white",
            "showbackground": true,
            "ticks": "",
            "zerolinecolor": "white"
           },
           "zaxis": {
            "backgroundcolor": "#E5ECF6",
            "gridcolor": "white",
            "gridwidth": 2,
            "linecolor": "white",
            "showbackground": true,
            "ticks": "",
            "zerolinecolor": "white"
           }
          },
          "shapedefaults": {
           "line": {
            "color": "#2a3f5f"
           }
          },
          "ternary": {
           "aaxis": {
            "gridcolor": "white",
            "linecolor": "white",
            "ticks": ""
           },
           "baxis": {
            "gridcolor": "white",
            "linecolor": "white",
            "ticks": ""
           },
           "bgcolor": "#E5ECF6",
           "caxis": {
            "gridcolor": "white",
            "linecolor": "white",
            "ticks": ""
           }
          },
          "title": {
           "x": 0.05
          },
          "xaxis": {
           "automargin": true,
           "gridcolor": "white",
           "linecolor": "white",
           "ticks": "",
           "title": {
            "standoff": 15
           },
           "zerolinecolor": "white",
           "zerolinewidth": 2
          },
          "yaxis": {
           "automargin": true,
           "gridcolor": "white",
           "linecolor": "white",
           "ticks": "",
           "title": {
            "standoff": 15
           },
           "zerolinecolor": "white",
           "zerolinewidth": 2
          }
         }
        },
        "title": {
         "text": "Sample correlation matrix"
        },
        "xaxis": {
         "anchor": "y",
         "constrain": "domain",
         "domain": [
          0,
          1
         ],
         "scaleanchor": "y"
        },
        "yaxis": {
         "anchor": "x",
         "autorange": "reversed",
         "constrain": "domain",
         "domain": [
          0,
          1
         ]
        }
       }
      }
     },
     "metadata": {},
     "output_type": "display_data"
    },
    {
     "data": {
      "application/vnd.plotly.v1+json": {
       "config": {
        "plotlyServerURL": "https://plot.ly"
       },
       "data": [
        {
         "hovertemplate": "x=%{x}<br>y=%{y}<extra></extra>",
         "legendgroup": "",
         "marker": {
          "color": "#636efa",
          "pattern": {
           "shape": ""
          }
         },
         "name": "",
         "orientation": "v",
         "showlegend": false,
         "textposition": "auto",
         "type": "bar",
         "x": [
          "LISINOPRIL",
          "SIMVASTATIN",
          "METOPROLOL",
          "METFORMIN",
          "LEVOTHYROXINE",
          "AMLODIPINE",
          "HYDROCHLOROTHIAZIDE",
          "FUROSEMIDE",
          "ATORVASTATIN",
          "OMEPRAZOLE",
          "ATENOLOL",
          "GLIPIZIDE",
          "ALBUTEROL",
          "WARFARIN",
          "ASPIRIN",
          "POTASSIUM CHLORIDE",
          "ESOMEPRAZOLE",
          "CLOPIDOGREL",
          "CARVEDILOL",
          "VALSARTAN",
          "LOSARTAN",
          "ROSUVASTATIN",
          "GABAPENTIN",
          "LOVASTATIN",
          "PIOGLITAZONE",
          "RANITIDINE",
          "PRAVASTATIN",
          "TRAMADOL",
          "IBUPROFEN",
          "INSULIN GLARGINE",
          "CITALOPRAM",
          "ALENDRONATE",
          "ALLOPURINOL",
          "MONTELUKAST",
          "FEXOFENADINE",
          "ZOLPIDEM",
          "TAMSULOSIN",
          "SERTRALINE",
          "FLUTICASONE NASAL",
          "PREDNISONE"
         ],
         "xaxis": "x",
         "y": {
          "bdata": "G8prKK+h1D8or6G8hvLSP8Z0FtNZTM8/z2I6i+kszj/BfQT3EdzHPw3lNZTXUMY/kOA+gvsIxj+rqqqqqqrCP6uqqqqqqsI/MZ3FdBbTwT82lNdQXkPBPyS4j+A+grs/SHAfwX0Etz/Kayivoby2P9hQXkN5DbU/XkN5DeU1tD/uI7iP4D6yP+4juI/gPrI/8xrKayivsT91FtNZTGexPwnuI7iP4K4/DeU1lNdQrj8N5TWU11CuPxbTWUxnMa0/H8F9BPcRrD8or6G8hvKqPyivobyG8qo/MZ3FdBbTqT8/gvsI7iOoP0N5DeU1lKc/Q3kN5TWUpz9DeQ3lNZSnP1FeQ3kN5aU/ZzGdxXQWoz9sKK+hvIaiP3AfwX0E96E/cB/BfQT3oT9wH8F9BPehP34E9xHcR6A/BPcR3Edwnz8=",
          "dtype": "f8"
         },
         "yaxis": "y"
        }
       ],
       "layout": {
        "barmode": "relative",
        "legend": {
         "tracegroupgap": 0
        },
        "template": {
         "data": {
          "bar": [
           {
            "error_x": {
             "color": "#2a3f5f"
            },
            "error_y": {
             "color": "#2a3f5f"
            },
            "marker": {
             "line": {
              "color": "#E5ECF6",
              "width": 0.5
             },
             "pattern": {
              "fillmode": "overlay",
              "size": 10,
              "solidity": 0.2
             }
            },
            "type": "bar"
           }
          ],
          "barpolar": [
           {
            "marker": {
             "line": {
              "color": "#E5ECF6",
              "width": 0.5
             },
             "pattern": {
              "fillmode": "overlay",
              "size": 10,
              "solidity": 0.2
             }
            },
            "type": "barpolar"
           }
          ],
          "carpet": [
           {
            "aaxis": {
             "endlinecolor": "#2a3f5f",
             "gridcolor": "white",
             "linecolor": "white",
             "minorgridcolor": "white",
             "startlinecolor": "#2a3f5f"
            },
            "baxis": {
             "endlinecolor": "#2a3f5f",
             "gridcolor": "white",
             "linecolor": "white",
             "minorgridcolor": "white",
             "startlinecolor": "#2a3f5f"
            },
            "type": "carpet"
           }
          ],
          "choropleth": [
           {
            "colorbar": {
             "outlinewidth": 0,
             "ticks": ""
            },
            "type": "choropleth"
           }
          ],
          "contour": [
           {
            "colorbar": {
             "outlinewidth": 0,
             "ticks": ""
            },
            "colorscale": [
             [
              0,
              "#0d0887"
             ],
             [
              0.1111111111111111,
              "#46039f"
             ],
             [
              0.2222222222222222,
              "#7201a8"
             ],
             [
              0.3333333333333333,
              "#9c179e"
             ],
             [
              0.4444444444444444,
              "#bd3786"
             ],
             [
              0.5555555555555556,
              "#d8576b"
             ],
             [
              0.6666666666666666,
              "#ed7953"
             ],
             [
              0.7777777777777778,
              "#fb9f3a"
             ],
             [
              0.8888888888888888,
              "#fdca26"
             ],
             [
              1,
              "#f0f921"
             ]
            ],
            "type": "contour"
           }
          ],
          "contourcarpet": [
           {
            "colorbar": {
             "outlinewidth": 0,
             "ticks": ""
            },
            "type": "contourcarpet"
           }
          ],
          "heatmap": [
           {
            "colorbar": {
             "outlinewidth": 0,
             "ticks": ""
            },
            "colorscale": [
             [
              0,
              "#0d0887"
             ],
             [
              0.1111111111111111,
              "#46039f"
             ],
             [
              0.2222222222222222,
              "#7201a8"
             ],
             [
              0.3333333333333333,
              "#9c179e"
             ],
             [
              0.4444444444444444,
              "#bd3786"
             ],
             [
              0.5555555555555556,
              "#d8576b"
             ],
             [
              0.6666666666666666,
              "#ed7953"
             ],
             [
              0.7777777777777778,
              "#fb9f3a"
             ],
             [
              0.8888888888888888,
              "#fdca26"
             ],
             [
              1,
              "#f0f921"
             ]
            ],
            "type": "heatmap"
           }
          ],
          "histogram": [
           {
            "marker": {
             "pattern": {
              "fillmode": "overlay",
              "size": 10,
              "solidity": 0.2
             }
            },
            "type": "histogram"
           }
          ],
          "histogram2d": [
           {
            "colorbar": {
             "outlinewidth": 0,
             "ticks": ""
            },
            "colorscale": [
             [
              0,
              "#0d0887"
             ],
             [
              0.1111111111111111,
              "#46039f"
             ],
             [
              0.2222222222222222,
              "#7201a8"
             ],
             [
              0.3333333333333333,
              "#9c179e"
             ],
             [
              0.4444444444444444,
              "#bd3786"
             ],
             [
              0.5555555555555556,
              "#d8576b"
             ],
             [
              0.6666666666666666,
              "#ed7953"
             ],
             [
              0.7777777777777778,
              "#fb9f3a"
             ],
             [
              0.8888888888888888,
              "#fdca26"
             ],
             [
              1,
              "#f0f921"
             ]
            ],
            "type": "histogram2d"
           }
          ],
          "histogram2dcontour": [
           {
            "colorbar": {
             "outlinewidth": 0,
             "ticks": ""
            },
            "colorscale": [
             [
              0,
              "#0d0887"
             ],
             [
              0.1111111111111111,
              "#46039f"
             ],
             [
              0.2222222222222222,
              "#7201a8"
             ],
             [
              0.3333333333333333,
              "#9c179e"
             ],
             [
              0.4444444444444444,
              "#bd3786"
             ],
             [
              0.5555555555555556,
              "#d8576b"
             ],
             [
              0.6666666666666666,
              "#ed7953"
             ],
             [
              0.7777777777777778,
              "#fb9f3a"
             ],
             [
              0.8888888888888888,
              "#fdca26"
             ],
             [
              1,
              "#f0f921"
             ]
            ],
            "type": "histogram2dcontour"
           }
          ],
          "mesh3d": [
           {
            "colorbar": {
             "outlinewidth": 0,
             "ticks": ""
            },
            "type": "mesh3d"
           }
          ],
          "parcoords": [
           {
            "line": {
             "colorbar": {
              "outlinewidth": 0,
              "ticks": ""
             }
            },
            "type": "parcoords"
           }
          ],
          "pie": [
           {
            "automargin": true,
            "type": "pie"
           }
          ],
          "scatter": [
           {
            "fillpattern": {
             "fillmode": "overlay",
             "size": 10,
             "solidity": 0.2
            },
            "type": "scatter"
           }
          ],
          "scatter3d": [
           {
            "line": {
             "colorbar": {
              "outlinewidth": 0,
              "ticks": ""
             }
            },
            "marker": {
             "colorbar": {
              "outlinewidth": 0,
              "ticks": ""
             }
            },
            "type": "scatter3d"
           }
          ],
          "scattercarpet": [
           {
            "marker": {
             "colorbar": {
              "outlinewidth": 0,
              "ticks": ""
             }
            },
            "type": "scattercarpet"
           }
          ],
          "scattergeo": [
           {
            "marker": {
             "colorbar": {
              "outlinewidth": 0,
              "ticks": ""
             }
            },
            "type": "scattergeo"
           }
          ],
          "scattergl": [
           {
            "marker": {
             "colorbar": {
              "outlinewidth": 0,
              "ticks": ""
             }
            },
            "type": "scattergl"
           }
          ],
          "scattermap": [
           {
            "marker": {
             "colorbar": {
              "outlinewidth": 0,
              "ticks": ""
             }
            },
            "type": "scattermap"
           }
          ],
          "scattermapbox": [
           {
            "marker": {
             "colorbar": {
              "outlinewidth": 0,
              "ticks": ""
             }
            },
            "type": "scattermapbox"
           }
          ],
          "scatterpolar": [
           {
            "marker": {
             "colorbar": {
              "outlinewidth": 0,
              "ticks": ""
             }
            },
            "type": "scatterpolar"
           }
          ],
          "scatterpolargl": [
           {
            "marker": {
             "colorbar": {
              "outlinewidth": 0,
              "ticks": ""
             }
            },
            "type": "scatterpolargl"
           }
          ],
          "scatterternary": [
           {
            "marker": {
             "colorbar": {
              "outlinewidth": 0,
              "ticks": ""
             }
            },
            "type": "scatterternary"
           }
          ],
          "surface": [
           {
            "colorbar": {
             "outlinewidth": 0,
             "ticks": ""
            },
            "colorscale": [
             [
              0,
              "#0d0887"
             ],
             [
              0.1111111111111111,
              "#46039f"
             ],
             [
              0.2222222222222222,
              "#7201a8"
             ],
             [
              0.3333333333333333,
              "#9c179e"
             ],
             [
              0.4444444444444444,
              "#bd3786"
             ],
             [
              0.5555555555555556,
              "#d8576b"
             ],
             [
              0.6666666666666666,
              "#ed7953"
             ],
             [
              0.7777777777777778,
              "#fb9f3a"
             ],
             [
              0.8888888888888888,
              "#fdca26"
             ],
             [
              1,
              "#f0f921"
             ]
            ],
            "type": "surface"
           }
          ],
          "table": [
           {
            "cells": {
             "fill": {
              "color": "#EBF0F8"
             },
             "line": {
              "color": "white"
             }
            },
            "header": {
             "fill": {
              "color": "#C8D4E3"
             },
             "line": {
              "color": "white"
             }
            },
            "type": "table"
           }
          ]
         },
         "layout": {
          "annotationdefaults": {
           "arrowcolor": "#2a3f5f",
           "arrowhead": 0,
           "arrowwidth": 1
          },
          "autotypenumbers": "strict",
          "coloraxis": {
           "colorbar": {
            "outlinewidth": 0,
            "ticks": ""
           }
          },
          "colorscale": {
           "diverging": [
            [
             0,
             "#8e0152"
            ],
            [
             0.1,
             "#c51b7d"
            ],
            [
             0.2,
             "#de77ae"
            ],
            [
             0.3,
             "#f1b6da"
            ],
            [
             0.4,
             "#fde0ef"
            ],
            [
             0.5,
             "#f7f7f7"
            ],
            [
             0.6,
             "#e6f5d0"
            ],
            [
             0.7,
             "#b8e186"
            ],
            [
             0.8,
             "#7fbc41"
            ],
            [
             0.9,
             "#4d9221"
            ],
            [
             1,
             "#276419"
            ]
           ],
           "sequential": [
            [
             0,
             "#0d0887"
            ],
            [
             0.1111111111111111,
             "#46039f"
            ],
            [
             0.2222222222222222,
             "#7201a8"
            ],
            [
             0.3333333333333333,
             "#9c179e"
            ],
            [
             0.4444444444444444,
             "#bd3786"
            ],
            [
             0.5555555555555556,
             "#d8576b"
            ],
            [
             0.6666666666666666,
             "#ed7953"
            ],
            [
             0.7777777777777778,
             "#fb9f3a"
            ],
            [
             0.8888888888888888,
             "#fdca26"
            ],
            [
             1,
             "#f0f921"
            ]
           ],
           "sequentialminus": [
            [
             0,
             "#0d0887"
            ],
            [
             0.1111111111111111,
             "#46039f"
            ],
            [
             0.2222222222222222,
             "#7201a8"
            ],
            [
             0.3333333333333333,
             "#9c179e"
            ],
            [
             0.4444444444444444,
             "#bd3786"
            ],
            [
             0.5555555555555556,
             "#d8576b"
            ],
            [
             0.6666666666666666,
             "#ed7953"
            ],
            [
             0.7777777777777778,
             "#fb9f3a"
            ],
            [
             0.8888888888888888,
             "#fdca26"
            ],
            [
             1,
             "#f0f921"
            ]
           ]
          },
          "colorway": [
           "#636efa",
           "#EF553B",
           "#00cc96",
           "#ab63fa",
           "#FFA15A",
           "#19d3f3",
           "#FF6692",
           "#B6E880",
           "#FF97FF",
           "#FECB52"
          ],
          "font": {
           "color": "#2a3f5f"
          },
          "geo": {
           "bgcolor": "white",
           "lakecolor": "white",
           "landcolor": "#E5ECF6",
           "showlakes": true,
           "showland": true,
           "subunitcolor": "white"
          },
          "hoverlabel": {
           "align": "left"
          },
          "hovermode": "closest",
          "mapbox": {
           "style": "light"
          },
          "paper_bgcolor": "white",
          "plot_bgcolor": "#E5ECF6",
          "polar": {
           "angularaxis": {
            "gridcolor": "white",
            "linecolor": "white",
            "ticks": ""
           },
           "bgcolor": "#E5ECF6",
           "radialaxis": {
            "gridcolor": "white",
            "linecolor": "white",
            "ticks": ""
           }
          },
          "scene": {
           "xaxis": {
            "backgroundcolor": "#E5ECF6",
            "gridcolor": "white",
            "gridwidth": 2,
            "linecolor": "white",
            "showbackground": true,
            "ticks": "",
            "zerolinecolor": "white"
           },
           "yaxis": {
            "backgroundcolor": "#E5ECF6",
            "gridcolor": "white",
            "gridwidth": 2,
            "linecolor": "white",
            "showbackground": true,
            "ticks": "",
            "zerolinecolor": "white"
           },
           "zaxis": {
            "backgroundcolor": "#E5ECF6",
            "gridcolor": "white",
            "gridwidth": 2,
            "linecolor": "white",
            "showbackground": true,
            "ticks": "",
            "zerolinecolor": "white"
           }
          },
          "shapedefaults": {
           "line": {
            "color": "#2a3f5f"
           }
          },
          "ternary": {
           "aaxis": {
            "gridcolor": "white",
            "linecolor": "white",
            "ticks": ""
           },
           "baxis": {
            "gridcolor": "white",
            "linecolor": "white",
            "ticks": ""
           },
           "bgcolor": "#E5ECF6",
           "caxis": {
            "gridcolor": "white",
            "linecolor": "white",
            "ticks": ""
           }
          },
          "title": {
           "x": 0.05
          },
          "xaxis": {
           "automargin": true,
           "gridcolor": "white",
           "linecolor": "white",
           "ticks": "",
           "title": {
            "standoff": 15
           },
           "zerolinecolor": "white",
           "zerolinewidth": 2
          },
          "yaxis": {
           "automargin": true,
           "gridcolor": "white",
           "linecolor": "white",
           "ticks": "",
           "title": {
            "standoff": 15
           },
           "zerolinecolor": "white",
           "zerolinewidth": 2
          }
         }
        },
        "title": {
         "text": "Input marginal probabilities"
        },
        "xaxis": {
         "anchor": "y",
         "domain": [
          0,
          1
         ],
         "title": {
          "text": "x"
         }
        },
        "yaxis": {
         "anchor": "x",
         "domain": [
          0,
          1
         ],
         "title": {
          "text": "y"
         }
        }
       }
      }
     },
     "metadata": {},
     "output_type": "display_data"
    },
    {
     "data": {
      "application/vnd.plotly.v1+json": {
       "config": {
        "plotlyServerURL": "https://plot.ly"
       },
       "data": [
        {
         "hovertemplate": "x=%{x}<br>y=%{y}<extra></extra>",
         "legendgroup": "",
         "marker": {
          "color": "#636efa",
          "pattern": {
           "shape": ""
          }
         },
         "name": "",
         "orientation": "v",
         "showlegend": false,
         "textposition": "auto",
         "type": "bar",
         "x": [
          "LISINOPRIL",
          "SIMVASTATIN",
          "METOPROLOL",
          "METFORMIN",
          "LEVOTHYROXINE",
          "AMLODIPINE",
          "HYDROCHLOROTHIAZIDE",
          "FUROSEMIDE",
          "ATORVASTATIN",
          "OMEPRAZOLE",
          "ATENOLOL",
          "GLIPIZIDE",
          "ALBUTEROL",
          "WARFARIN",
          "ASPIRIN",
          "POTASSIUM CHLORIDE",
          "ESOMEPRAZOLE",
          "CLOPIDOGREL",
          "CARVEDILOL",
          "VALSARTAN",
          "LOSARTAN",
          "ROSUVASTATIN",
          "GABAPENTIN",
          "LOVASTATIN",
          "PIOGLITAZONE",
          "RANITIDINE",
          "PRAVASTATIN",
          "TRAMADOL",
          "IBUPROFEN",
          "INSULIN GLARGINE",
          "CITALOPRAM",
          "ALENDRONATE",
          "ALLOPURINOL",
          "MONTELUKAST",
          "FEXOFENADINE",
          "ZOLPIDEM",
          "TAMSULOSIN",
          "SERTRALINE",
          "FLUTICASONE NASAL",
          "PREDNISONE"
         ],
         "xaxis": "x",
         "y": {
          "bdata": "Tb9EvHX+1j+JXdvbLcnUPwNEwYwpWNE/7WXbaWtE0T8oQ1VMpZ/KPxugNNQoJMk/E0n0MorlyD+eDI6SV+fEP1cE/1vJjsU/+WhxxjAnxD8ipdk8DoPDPyl5dY4B2b8/Wn9LAP4puT8sZK4Mqg26P3Ampgux+rc/UG7b96i/tj+r0asBSkO1P4SCUrRyL7Q/mSoYldQJtD9h/3Vu2oyzP06AYfnzbbE/qWvtfaoKsT8/5C1XPzaxPzPDRlm/mbA/ySHi5lQysD9Ld9fZkH+uPyWwOQfPhK4/3UPC9/4GrT964GOw4lSrP8AJhQg4hKo/Rs1Xycfuqj8k7xzKUBWrP4CaWrbWF6k/jEgUWtb9oz/3Bl+YTBWkP7WLaaZ7naQ/Y3st6L0xpD9PIy2VtyOkP+G04EVfQaI/LpJ2o4/5oD8=",
          "dtype": "f8"
         },
         "yaxis": "y"
        }
       ],
       "layout": {
        "barmode": "relative",
        "legend": {
         "tracegroupgap": 0
        },
        "template": {
         "data": {
          "bar": [
           {
            "error_x": {
             "color": "#2a3f5f"
            },
            "error_y": {
             "color": "#2a3f5f"
            },
            "marker": {
             "line": {
              "color": "#E5ECF6",
              "width": 0.5
             },
             "pattern": {
              "fillmode": "overlay",
              "size": 10,
              "solidity": 0.2
             }
            },
            "type": "bar"
           }
          ],
          "barpolar": [
           {
            "marker": {
             "line": {
              "color": "#E5ECF6",
              "width": 0.5
             },
             "pattern": {
              "fillmode": "overlay",
              "size": 10,
              "solidity": 0.2
             }
            },
            "type": "barpolar"
           }
          ],
          "carpet": [
           {
            "aaxis": {
             "endlinecolor": "#2a3f5f",
             "gridcolor": "white",
             "linecolor": "white",
             "minorgridcolor": "white",
             "startlinecolor": "#2a3f5f"
            },
            "baxis": {
             "endlinecolor": "#2a3f5f",
             "gridcolor": "white",
             "linecolor": "white",
             "minorgridcolor": "white",
             "startlinecolor": "#2a3f5f"
            },
            "type": "carpet"
           }
          ],
          "choropleth": [
           {
            "colorbar": {
             "outlinewidth": 0,
             "ticks": ""
            },
            "type": "choropleth"
           }
          ],
          "contour": [
           {
            "colorbar": {
             "outlinewidth": 0,
             "ticks": ""
            },
            "colorscale": [
             [
              0,
              "#0d0887"
             ],
             [
              0.1111111111111111,
              "#46039f"
             ],
             [
              0.2222222222222222,
              "#7201a8"
             ],
             [
              0.3333333333333333,
              "#9c179e"
             ],
             [
              0.4444444444444444,
              "#bd3786"
             ],
             [
              0.5555555555555556,
              "#d8576b"
             ],
             [
              0.6666666666666666,
              "#ed7953"
             ],
             [
              0.7777777777777778,
              "#fb9f3a"
             ],
             [
              0.8888888888888888,
              "#fdca26"
             ],
             [
              1,
              "#f0f921"
             ]
            ],
            "type": "contour"
           }
          ],
          "contourcarpet": [
           {
            "colorbar": {
             "outlinewidth": 0,
             "ticks": ""
            },
            "type": "contourcarpet"
           }
          ],
          "heatmap": [
           {
            "colorbar": {
             "outlinewidth": 0,
             "ticks": ""
            },
            "colorscale": [
             [
              0,
              "#0d0887"
             ],
             [
              0.1111111111111111,
              "#46039f"
             ],
             [
              0.2222222222222222,
              "#7201a8"
             ],
             [
              0.3333333333333333,
              "#9c179e"
             ],
             [
              0.4444444444444444,
              "#bd3786"
             ],
             [
              0.5555555555555556,
              "#d8576b"
             ],
             [
              0.6666666666666666,
              "#ed7953"
             ],
             [
              0.7777777777777778,
              "#fb9f3a"
             ],
             [
              0.8888888888888888,
              "#fdca26"
             ],
             [
              1,
              "#f0f921"
             ]
            ],
            "type": "heatmap"
           }
          ],
          "histogram": [
           {
            "marker": {
             "pattern": {
              "fillmode": "overlay",
              "size": 10,
              "solidity": 0.2
             }
            },
            "type": "histogram"
           }
          ],
          "histogram2d": [
           {
            "colorbar": {
             "outlinewidth": 0,
             "ticks": ""
            },
            "colorscale": [
             [
              0,
              "#0d0887"
             ],
             [
              0.1111111111111111,
              "#46039f"
             ],
             [
              0.2222222222222222,
              "#7201a8"
             ],
             [
              0.3333333333333333,
              "#9c179e"
             ],
             [
              0.4444444444444444,
              "#bd3786"
             ],
             [
              0.5555555555555556,
              "#d8576b"
             ],
             [
              0.6666666666666666,
              "#ed7953"
             ],
             [
              0.7777777777777778,
              "#fb9f3a"
             ],
             [
              0.8888888888888888,
              "#fdca26"
             ],
             [
              1,
              "#f0f921"
             ]
            ],
            "type": "histogram2d"
           }
          ],
          "histogram2dcontour": [
           {
            "colorbar": {
             "outlinewidth": 0,
             "ticks": ""
            },
            "colorscale": [
             [
              0,
              "#0d0887"
             ],
             [
              0.1111111111111111,
              "#46039f"
             ],
             [
              0.2222222222222222,
              "#7201a8"
             ],
             [
              0.3333333333333333,
              "#9c179e"
             ],
             [
              0.4444444444444444,
              "#bd3786"
             ],
             [
              0.5555555555555556,
              "#d8576b"
             ],
             [
              0.6666666666666666,
              "#ed7953"
             ],
             [
              0.7777777777777778,
              "#fb9f3a"
             ],
             [
              0.8888888888888888,
              "#fdca26"
             ],
             [
              1,
              "#f0f921"
             ]
            ],
            "type": "histogram2dcontour"
           }
          ],
          "mesh3d": [
           {
            "colorbar": {
             "outlinewidth": 0,
             "ticks": ""
            },
            "type": "mesh3d"
           }
          ],
          "parcoords": [
           {
            "line": {
             "colorbar": {
              "outlinewidth": 0,
              "ticks": ""
             }
            },
            "type": "parcoords"
           }
          ],
          "pie": [
           {
            "automargin": true,
            "type": "pie"
           }
          ],
          "scatter": [
           {
            "fillpattern": {
             "fillmode": "overlay",
             "size": 10,
             "solidity": 0.2
            },
            "type": "scatter"
           }
          ],
          "scatter3d": [
           {
            "line": {
             "colorbar": {
              "outlinewidth": 0,
              "ticks": ""
             }
            },
            "marker": {
             "colorbar": {
              "outlinewidth": 0,
              "ticks": ""
             }
            },
            "type": "scatter3d"
           }
          ],
          "scattercarpet": [
           {
            "marker": {
             "colorbar": {
              "outlinewidth": 0,
              "ticks": ""
             }
            },
            "type": "scattercarpet"
           }
          ],
          "scattergeo": [
           {
            "marker": {
             "colorbar": {
              "outlinewidth": 0,
              "ticks": ""
             }
            },
            "type": "scattergeo"
           }
          ],
          "scattergl": [
           {
            "marker": {
             "colorbar": {
              "outlinewidth": 0,
              "ticks": ""
             }
            },
            "type": "scattergl"
           }
          ],
          "scattermap": [
           {
            "marker": {
             "colorbar": {
              "outlinewidth": 0,
              "ticks": ""
             }
            },
            "type": "scattermap"
           }
          ],
          "scattermapbox": [
           {
            "marker": {
             "colorbar": {
              "outlinewidth": 0,
              "ticks": ""
             }
            },
            "type": "scattermapbox"
           }
          ],
          "scatterpolar": [
           {
            "marker": {
             "colorbar": {
              "outlinewidth": 0,
              "ticks": ""
             }
            },
            "type": "scatterpolar"
           }
          ],
          "scatterpolargl": [
           {
            "marker": {
             "colorbar": {
              "outlinewidth": 0,
              "ticks": ""
             }
            },
            "type": "scatterpolargl"
           }
          ],
          "scatterternary": [
           {
            "marker": {
             "colorbar": {
              "outlinewidth": 0,
              "ticks": ""
             }
            },
            "type": "scatterternary"
           }
          ],
          "surface": [
           {
            "colorbar": {
             "outlinewidth": 0,
             "ticks": ""
            },
            "colorscale": [
             [
              0,
              "#0d0887"
             ],
             [
              0.1111111111111111,
              "#46039f"
             ],
             [
              0.2222222222222222,
              "#7201a8"
             ],
             [
              0.3333333333333333,
              "#9c179e"
             ],
             [
              0.4444444444444444,
              "#bd3786"
             ],
             [
              0.5555555555555556,
              "#d8576b"
             ],
             [
              0.6666666666666666,
              "#ed7953"
             ],
             [
              0.7777777777777778,
              "#fb9f3a"
             ],
             [
              0.8888888888888888,
              "#fdca26"
             ],
             [
              1,
              "#f0f921"
             ]
            ],
            "type": "surface"
           }
          ],
          "table": [
           {
            "cells": {
             "fill": {
              "color": "#EBF0F8"
             },
             "line": {
              "color": "white"
             }
            },
            "header": {
             "fill": {
              "color": "#C8D4E3"
             },
             "line": {
              "color": "white"
             }
            },
            "type": "table"
           }
          ]
         },
         "layout": {
          "annotationdefaults": {
           "arrowcolor": "#2a3f5f",
           "arrowhead": 0,
           "arrowwidth": 1
          },
          "autotypenumbers": "strict",
          "coloraxis": {
           "colorbar": {
            "outlinewidth": 0,
            "ticks": ""
           }
          },
          "colorscale": {
           "diverging": [
            [
             0,
             "#8e0152"
            ],
            [
             0.1,
             "#c51b7d"
            ],
            [
             0.2,
             "#de77ae"
            ],
            [
             0.3,
             "#f1b6da"
            ],
            [
             0.4,
             "#fde0ef"
            ],
            [
             0.5,
             "#f7f7f7"
            ],
            [
             0.6,
             "#e6f5d0"
            ],
            [
             0.7,
             "#b8e186"
            ],
            [
             0.8,
             "#7fbc41"
            ],
            [
             0.9,
             "#4d9221"
            ],
            [
             1,
             "#276419"
            ]
           ],
           "sequential": [
            [
             0,
             "#0d0887"
            ],
            [
             0.1111111111111111,
             "#46039f"
            ],
            [
             0.2222222222222222,
             "#7201a8"
            ],
            [
             0.3333333333333333,
             "#9c179e"
            ],
            [
             0.4444444444444444,
             "#bd3786"
            ],
            [
             0.5555555555555556,
             "#d8576b"
            ],
            [
             0.6666666666666666,
             "#ed7953"
            ],
            [
             0.7777777777777778,
             "#fb9f3a"
            ],
            [
             0.8888888888888888,
             "#fdca26"
            ],
            [
             1,
             "#f0f921"
            ]
           ],
           "sequentialminus": [
            [
             0,
             "#0d0887"
            ],
            [
             0.1111111111111111,
             "#46039f"
            ],
            [
             0.2222222222222222,
             "#7201a8"
            ],
            [
             0.3333333333333333,
             "#9c179e"
            ],
            [
             0.4444444444444444,
             "#bd3786"
            ],
            [
             0.5555555555555556,
             "#d8576b"
            ],
            [
             0.6666666666666666,
             "#ed7953"
            ],
            [
             0.7777777777777778,
             "#fb9f3a"
            ],
            [
             0.8888888888888888,
             "#fdca26"
            ],
            [
             1,
             "#f0f921"
            ]
           ]
          },
          "colorway": [
           "#636efa",
           "#EF553B",
           "#00cc96",
           "#ab63fa",
           "#FFA15A",
           "#19d3f3",
           "#FF6692",
           "#B6E880",
           "#FF97FF",
           "#FECB52"
          ],
          "font": {
           "color": "#2a3f5f"
          },
          "geo": {
           "bgcolor": "white",
           "lakecolor": "white",
           "landcolor": "#E5ECF6",
           "showlakes": true,
           "showland": true,
           "subunitcolor": "white"
          },
          "hoverlabel": {
           "align": "left"
          },
          "hovermode": "closest",
          "mapbox": {
           "style": "light"
          },
          "paper_bgcolor": "white",
          "plot_bgcolor": "#E5ECF6",
          "polar": {
           "angularaxis": {
            "gridcolor": "white",
            "linecolor": "white",
            "ticks": ""
           },
           "bgcolor": "#E5ECF6",
           "radialaxis": {
            "gridcolor": "white",
            "linecolor": "white",
            "ticks": ""
           }
          },
          "scene": {
           "xaxis": {
            "backgroundcolor": "#E5ECF6",
            "gridcolor": "white",
            "gridwidth": 2,
            "linecolor": "white",
            "showbackground": true,
            "ticks": "",
            "zerolinecolor": "white"
           },
           "yaxis": {
            "backgroundcolor": "#E5ECF6",
            "gridcolor": "white",
            "gridwidth": 2,
            "linecolor": "white",
            "showbackground": true,
            "ticks": "",
            "zerolinecolor": "white"
           },
           "zaxis": {
            "backgroundcolor": "#E5ECF6",
            "gridcolor": "white",
            "gridwidth": 2,
            "linecolor": "white",
            "showbackground": true,
            "ticks": "",
            "zerolinecolor": "white"
           }
          },
          "shapedefaults": {
           "line": {
            "color": "#2a3f5f"
           }
          },
          "ternary": {
           "aaxis": {
            "gridcolor": "white",
            "linecolor": "white",
            "ticks": ""
           },
           "baxis": {
            "gridcolor": "white",
            "linecolor": "white",
            "ticks": ""
           },
           "bgcolor": "#E5ECF6",
           "caxis": {
            "gridcolor": "white",
            "linecolor": "white",
            "ticks": ""
           }
          },
          "title": {
           "x": 0.05
          },
          "xaxis": {
           "automargin": true,
           "gridcolor": "white",
           "linecolor": "white",
           "ticks": "",
           "title": {
            "standoff": 15
           },
           "zerolinecolor": "white",
           "zerolinewidth": 2
          },
          "yaxis": {
           "automargin": true,
           "gridcolor": "white",
           "linecolor": "white",
           "ticks": "",
           "title": {
            "standoff": 15
           },
           "zerolinecolor": "white",
           "zerolinewidth": 2
          }
         }
        },
        "title": {
         "text": "Sampled marginal probabilities"
        },
        "xaxis": {
         "anchor": "y",
         "categoryarray": [
          "LISINOPRIL",
          "SIMVASTATIN",
          "METOPROLOL",
          "METFORMIN",
          "LEVOTHYROXINE",
          "AMLODIPINE",
          "HYDROCHLOROTHIAZIDE",
          "FUROSEMIDE",
          "ATORVASTATIN",
          "OMEPRAZOLE",
          "ATENOLOL",
          "GLIPIZIDE",
          "ALBUTEROL",
          "WARFARIN",
          "ASPIRIN",
          "POTASSIUM CHLORIDE",
          "ESOMEPRAZOLE",
          "CLOPIDOGREL",
          "CARVEDILOL",
          "VALSARTAN",
          "LOSARTAN",
          "ROSUVASTATIN",
          "GABAPENTIN",
          "LOVASTATIN",
          "PIOGLITAZONE",
          "RANITIDINE",
          "PRAVASTATIN",
          "TRAMADOL",
          "IBUPROFEN",
          "INSULIN GLARGINE",
          "CITALOPRAM",
          "ALENDRONATE",
          "ALLOPURINOL",
          "MONTELUKAST",
          "FEXOFENADINE",
          "ZOLPIDEM",
          "TAMSULOSIN",
          "SERTRALINE",
          "FLUTICASONE NASAL",
          "PREDNISONE"
         ],
         "categoryorder": "array",
         "domain": [
          0,
          1
         ],
         "title": {
          "text": "x"
         }
        },
        "yaxis": {
         "anchor": "x",
         "domain": [
          0,
          1
         ],
         "title": {
          "text": "y"
         }
        }
       }
      }
     },
     "metadata": {},
     "output_type": "display_data"
    }
   ],
   "source": [
    "feature_probs = np.loadtxt('feat_probs_smoother.csv', delimiter=',')\n",
    "\n",
    "nsamples = 1000000\n",
    "sample_2, mu, sigma = generate_multivariate_binary(40, nsamples, feature_probs, correlation_matrix)\n",
    "sample_2 = filter_rows(sample_2, mu, sigma, nsamples)\n",
    "visualize(sample_2)"
   ]
  },
  {
   "cell_type": "code",
   "execution_count": 41,
   "metadata": {},
   "outputs": [
    {
     "name": "stderr",
     "output_type": "stream",
     "text": [
      "/Users/karina/Library/Python/3.9/lib/python/site-packages/bindata/check_commonprob.py:81: UserWarning:\n",
      "\n",
      "simulvals provided is not computed to a sufficient resolution\n",
      "to resolve the common probabilies provided in commonprob.\n",
      "\n",
      "\n",
      "INTERPOLATION IS GOING TO BE USED.\n",
      "\n",
      "Consider computing simulvals on a finer grid.\n",
      "The current resolution is on these points:\n",
      "[(0, 0), (0, 0.001), (0, 0.01), (0, np.float64(0.05)), (0, np.float64(0.1)), (0, np.float64(0.15)), (0, np.float64(0.2)), (0, np.float64(0.25)), (0, np.float64(0.3)), (0, np.float64(0.35)), (0, np.float64(0.4)), (0, np.float64(0.45)), (0, np.float64(0.5)), (0, np.float64(0.55)), (0, np.float64(0.6)), (0, np.float64(0.65)), (0, np.float64(0.7)), (0, np.float64(0.75)), (0, np.float64(0.8)), (0, np.float64(0.85)), (0, np.float64(0.9)), (0, np.float64(0.95)), (0, 0.99), (0, 0.999), (0, 1), (0.001, 0.001), (0.001, 0.01), (0.001, np.float64(0.05)), (0.001, np.float64(0.1)), (0.001, np.float64(0.15)), (0.001, np.float64(0.2)), (0.001, np.float64(0.25)), (0.001, np.float64(0.3)), (0.001, np.float64(0.35)), (0.001, np.float64(0.4)), (0.001, np.float64(0.45)), (0.001, np.float64(0.5)), (0.001, np.float64(0.55)), (0.001, np.float64(0.6)), (0.001, np.float64(0.65)), (0.001, np.float64(0.7)), (0.001, np.float64(0.75)), (0.001, np.float64(0.8)), (0.001, np.float64(0.85)), (0.001, np.float64(0.9)), (0.001, np.float64(0.95)), (0.001, 0.99), (0.001, 0.999), (0.001, 1), (0.01, 0.01), (0.01, np.float64(0.05)), (0.01, np.float64(0.1)), (0.01, np.float64(0.15)), (0.01, np.float64(0.2)), (0.01, np.float64(0.25)), (0.01, np.float64(0.3)), (0.01, np.float64(0.35)), (0.01, np.float64(0.4)), (0.01, np.float64(0.45)), (0.01, np.float64(0.5)), (0.01, np.float64(0.55)), (0.01, np.float64(0.6)), (0.01, np.float64(0.65)), (0.01, np.float64(0.7)), (0.01, np.float64(0.75)), (0.01, np.float64(0.8)), (0.01, np.float64(0.85)), (0.01, np.float64(0.9)), (0.01, np.float64(0.95)), (0.01, 0.99), (0.01, 0.999), (0.01, 1), (np.float64(0.05), np.float64(0.05)), (np.float64(0.05), np.float64(0.1)), (np.float64(0.05), np.float64(0.15)), (np.float64(0.05), np.float64(0.2)), (np.float64(0.05), np.float64(0.25)), (np.float64(0.05), np.float64(0.3)), (np.float64(0.05), np.float64(0.35)), (np.float64(0.05), np.float64(0.4)), (np.float64(0.05), np.float64(0.45)), (np.float64(0.05), np.float64(0.5)), (np.float64(0.05), np.float64(0.55)), (np.float64(0.05), np.float64(0.6)), (np.float64(0.05), np.float64(0.65)), (np.float64(0.05), np.float64(0.7)), (np.float64(0.05), np.float64(0.75)), (np.float64(0.05), np.float64(0.8)), (np.float64(0.05), np.float64(0.85)), (np.float64(0.05), np.float64(0.9)), (np.float64(0.05), np.float64(0.95)), (np.float64(0.05), 0.99), (np.float64(0.05), 0.999), (np.float64(0.05), 1), (np.float64(0.1), np.float64(0.1)), (np.float64(0.1), np.float64(0.15)), (np.float64(0.1), np.float64(0.2)), (np.float64(0.1), np.float64(0.25)), (np.float64(0.1), np.float64(0.3)), (np.float64(0.1), np.float64(0.35)), (np.float64(0.1), np.float64(0.4)), (np.float64(0.1), np.float64(0.45)), (np.float64(0.1), np.float64(0.5)), (np.float64(0.1), np.float64(0.55)), (np.float64(0.1), np.float64(0.6)), (np.float64(0.1), np.float64(0.65)), (np.float64(0.1), np.float64(0.7)), (np.float64(0.1), np.float64(0.75)), (np.float64(0.1), np.float64(0.8)), (np.float64(0.1), np.float64(0.85)), (np.float64(0.1), np.float64(0.9)), (np.float64(0.1), np.float64(0.95)), (np.float64(0.1), 0.99), (np.float64(0.1), 0.999), (np.float64(0.1), 1), (np.float64(0.15), np.float64(0.15)), (np.float64(0.15), np.float64(0.2)), (np.float64(0.15), np.float64(0.25)), (np.float64(0.15), np.float64(0.3)), (np.float64(0.15), np.float64(0.35)), (np.float64(0.15), np.float64(0.4)), (np.float64(0.15), np.float64(0.45)), (np.float64(0.15), np.float64(0.5)), (np.float64(0.15), np.float64(0.55)), (np.float64(0.15), np.float64(0.6)), (np.float64(0.15), np.float64(0.65)), (np.float64(0.15), np.float64(0.7)), (np.float64(0.15), np.float64(0.75)), (np.float64(0.15), np.float64(0.8)), (np.float64(0.15), np.float64(0.85)), (np.float64(0.15), np.float64(0.9)), (np.float64(0.15), np.float64(0.95)), (np.float64(0.15), 0.99), (np.float64(0.15), 0.999), (np.float64(0.15), 1), (np.float64(0.2), np.float64(0.2)), (np.float64(0.2), np.float64(0.25)), (np.float64(0.2), np.float64(0.3)), (np.float64(0.2), np.float64(0.35)), (np.float64(0.2), np.float64(0.4)), (np.float64(0.2), np.float64(0.45)), (np.float64(0.2), np.float64(0.5)), (np.float64(0.2), np.float64(0.55)), (np.float64(0.2), np.float64(0.6)), (np.float64(0.2), np.float64(0.65)), (np.float64(0.2), np.float64(0.7)), (np.float64(0.2), np.float64(0.75)), (np.float64(0.2), np.float64(0.8)), (np.float64(0.2), np.float64(0.85)), (np.float64(0.2), np.float64(0.9)), (np.float64(0.2), np.float64(0.95)), (np.float64(0.2), 0.99), (np.float64(0.2), 0.999), (np.float64(0.2), 1), (np.float64(0.25), np.float64(0.25)), (np.float64(0.25), np.float64(0.3)), (np.float64(0.25), np.float64(0.35)), (np.float64(0.25), np.float64(0.4)), (np.float64(0.25), np.float64(0.45)), (np.float64(0.25), np.float64(0.5)), (np.float64(0.25), np.float64(0.55)), (np.float64(0.25), np.float64(0.6)), (np.float64(0.25), np.float64(0.65)), (np.float64(0.25), np.float64(0.7)), (np.float64(0.25), np.float64(0.75)), (np.float64(0.25), np.float64(0.8)), (np.float64(0.25), np.float64(0.85)), (np.float64(0.25), np.float64(0.9)), (np.float64(0.25), np.float64(0.95)), (np.float64(0.25), 0.99), (np.float64(0.25), 0.999), (np.float64(0.25), 1), (np.float64(0.3), np.float64(0.3)), (np.float64(0.3), np.float64(0.35)), (np.float64(0.3), np.float64(0.4)), (np.float64(0.3), np.float64(0.45)), (np.float64(0.3), np.float64(0.5)), (np.float64(0.3), np.float64(0.55)), (np.float64(0.3), np.float64(0.6)), (np.float64(0.3), np.float64(0.65)), (np.float64(0.3), np.float64(0.7)), (np.float64(0.3), np.float64(0.75)), (np.float64(0.3), np.float64(0.8)), (np.float64(0.3), np.float64(0.85)), (np.float64(0.3), np.float64(0.9)), (np.float64(0.3), np.float64(0.95)), (np.float64(0.3), 0.99), (np.float64(0.3), 0.999), (np.float64(0.3), 1), (np.float64(0.35), np.float64(0.35)), (np.float64(0.35), np.float64(0.4)), (np.float64(0.35), np.float64(0.45)), (np.float64(0.35), np.float64(0.5)), (np.float64(0.35), np.float64(0.55)), (np.float64(0.35), np.float64(0.6)), (np.float64(0.35), np.float64(0.65)), (np.float64(0.35), np.float64(0.7)), (np.float64(0.35), np.float64(0.75)), (np.float64(0.35), np.float64(0.8)), (np.float64(0.35), np.float64(0.85)), (np.float64(0.35), np.float64(0.9)), (np.float64(0.35), np.float64(0.95)), (np.float64(0.35), 0.99), (np.float64(0.35), 0.999), (np.float64(0.35), 1), (np.float64(0.4), np.float64(0.4)), (np.float64(0.4), np.float64(0.45)), (np.float64(0.4), np.float64(0.5)), (np.float64(0.4), np.float64(0.55)), (np.float64(0.4), np.float64(0.6)), (np.float64(0.4), np.float64(0.65)), (np.float64(0.4), np.float64(0.7)), (np.float64(0.4), np.float64(0.75)), (np.float64(0.4), np.float64(0.8)), (np.float64(0.4), np.float64(0.85)), (np.float64(0.4), np.float64(0.9)), (np.float64(0.4), np.float64(0.95)), (np.float64(0.4), 0.99), (np.float64(0.4), 0.999), (np.float64(0.4), 1), (np.float64(0.45), np.float64(0.45)), (np.float64(0.45), np.float64(0.5)), (np.float64(0.45), np.float64(0.55)), (np.float64(0.45), np.float64(0.6)), (np.float64(0.45), np.float64(0.65)), (np.float64(0.45), np.float64(0.7)), (np.float64(0.45), np.float64(0.75)), (np.float64(0.45), np.float64(0.8)), (np.float64(0.45), np.float64(0.85)), (np.float64(0.45), np.float64(0.9)), (np.float64(0.45), np.float64(0.95)), (np.float64(0.45), 0.99), (np.float64(0.45), 0.999), (np.float64(0.45), 1), (np.float64(0.5), np.float64(0.5)), (np.float64(0.5), np.float64(0.55)), (np.float64(0.5), np.float64(0.6)), (np.float64(0.5), np.float64(0.65)), (np.float64(0.5), np.float64(0.7)), (np.float64(0.5), np.float64(0.75)), (np.float64(0.5), np.float64(0.8)), (np.float64(0.5), np.float64(0.85)), (np.float64(0.5), np.float64(0.9)), (np.float64(0.5), np.float64(0.95)), (np.float64(0.5), 0.99), (np.float64(0.5), 0.999), (np.float64(0.5), 1), (np.float64(0.55), np.float64(0.55)), (np.float64(0.55), np.float64(0.6)), (np.float64(0.55), np.float64(0.65)), (np.float64(0.55), np.float64(0.7)), (np.float64(0.55), np.float64(0.75)), (np.float64(0.55), np.float64(0.8)), (np.float64(0.55), np.float64(0.85)), (np.float64(0.55), np.float64(0.9)), (np.float64(0.55), np.float64(0.95)), (np.float64(0.55), 0.99), (np.float64(0.55), 0.999), (np.float64(0.55), 1), (np.float64(0.6), np.float64(0.6)), (np.float64(0.6), np.float64(0.65)), (np.float64(0.6), np.float64(0.7)), (np.float64(0.6), np.float64(0.75)), (np.float64(0.6), np.float64(0.8)), (np.float64(0.6), np.float64(0.85)), (np.float64(0.6), np.float64(0.9)), (np.float64(0.6), np.float64(0.95)), (np.float64(0.6), 0.99), (np.float64(0.6), 0.999), (np.float64(0.6), 1), (np.float64(0.65), np.float64(0.65)), (np.float64(0.65), np.float64(0.7)), (np.float64(0.65), np.float64(0.75)), (np.float64(0.65), np.float64(0.8)), (np.float64(0.65), np.float64(0.85)), (np.float64(0.65), np.float64(0.9)), (np.float64(0.65), np.float64(0.95)), (np.float64(0.65), 0.99), (np.float64(0.65), 0.999), (np.float64(0.65), 1), (np.float64(0.7), np.float64(0.7)), (np.float64(0.7), np.float64(0.75)), (np.float64(0.7), np.float64(0.8)), (np.float64(0.7), np.float64(0.85)), (np.float64(0.7), np.float64(0.9)), (np.float64(0.7), np.float64(0.95)), (np.float64(0.7), 0.99), (np.float64(0.7), 0.999), (np.float64(0.7), 1), (np.float64(0.75), np.float64(0.75)), (np.float64(0.75), np.float64(0.8)), (np.float64(0.75), np.float64(0.85)), (np.float64(0.75), np.float64(0.9)), (np.float64(0.75), np.float64(0.95)), (np.float64(0.75), 0.99), (np.float64(0.75), 0.999), (np.float64(0.75), 1), (np.float64(0.8), np.float64(0.8)), (np.float64(0.8), np.float64(0.85)), (np.float64(0.8), np.float64(0.9)), (np.float64(0.8), np.float64(0.95)), (np.float64(0.8), 0.99), (np.float64(0.8), 0.999), (np.float64(0.8), 1), (np.float64(0.85), np.float64(0.85)), (np.float64(0.85), np.float64(0.9)), (np.float64(0.85), np.float64(0.95)), (np.float64(0.85), 0.99), (np.float64(0.85), 0.999), (np.float64(0.85), 1), (np.float64(0.9), np.float64(0.9)), (np.float64(0.9), np.float64(0.95)), (np.float64(0.9), 0.99), (np.float64(0.9), 0.999), (np.float64(0.9), 1), (np.float64(0.95), np.float64(0.95)), (np.float64(0.95), 0.99), (np.float64(0.95), 0.999), (np.float64(0.95), 1), (0.99, 0.99), (0.99, 0.999), (0.99, 1), (0.999, 0.999), (0.999, 1), (1, 1)]\n",
      "Alternatively round the common probabilities or correlations provided\n",
      "to fewer decimal places.\n",
      "\n"
     ]
    },
    {
     "data": {
      "application/vnd.plotly.v1+json": {
       "config": {
        "plotlyServerURL": "https://plot.ly"
       },
       "data": [
        {
         "coloraxis": "coloraxis",
         "hovertemplate": "x: %{x}<br>y: %{y}<br>color: %{z}<extra></extra>",
         "name": "0",
         "type": "heatmap",
         "x": [
          "CARVEDILOL",
          "ESOMEPRAZOLE",
          "LEVOTHYROXINE",
          "TRAMADOL",
          "AMLODIPINE",
          "METOPROLOL",
          "OMEPRAZOLE",
          "SIMVASTATIN",
          "TAMSULOSIN",
          "ALENDRONATE",
          "ATORVASTATIN",
          "LISINOPRIL",
          "LOSARTAN",
          "SERTRALINE",
          "METFORMIN",
          "PIOGLITAZONE",
          "PRAVASTATIN",
          "FUROSEMIDE",
          "POTASSIUM CHLORIDE",
          "HYDROCHLOROTHIAZIDE",
          "ATENOLOL",
          "WARFARIN",
          "ASPIRIN",
          "LOVASTATIN",
          "ALBUTEROL",
          "GLIPIZIDE",
          "RANITIDINE",
          "GABAPENTIN",
          "INSULIN GLARGINE",
          "CLOPIDOGREL",
          "ZOLPIDEM",
          "ALLOPURINOL",
          "CITALOPRAM",
          "PREDNISONE",
          "ROSUVASTATIN",
          "VALSARTAN",
          "IBUPROFEN",
          "FEXOFENADINE",
          "MONTELUKAST",
          "FLUTICASONE NASAL"
         ],
         "xaxis": "x",
         "y": [
          "CARVEDILOL",
          "ESOMEPRAZOLE",
          "LEVOTHYROXINE",
          "TRAMADOL",
          "AMLODIPINE",
          "METOPROLOL",
          "OMEPRAZOLE",
          "SIMVASTATIN",
          "TAMSULOSIN",
          "ALENDRONATE",
          "ATORVASTATIN",
          "LISINOPRIL",
          "LOSARTAN",
          "SERTRALINE",
          "METFORMIN",
          "PIOGLITAZONE",
          "PRAVASTATIN",
          "FUROSEMIDE",
          "POTASSIUM CHLORIDE",
          "HYDROCHLOROTHIAZIDE",
          "ATENOLOL",
          "WARFARIN",
          "ASPIRIN",
          "LOVASTATIN",
          "ALBUTEROL",
          "GLIPIZIDE",
          "RANITIDINE",
          "GABAPENTIN",
          "INSULIN GLARGINE",
          "CLOPIDOGREL",
          "ZOLPIDEM",
          "ALLOPURINOL",
          "CITALOPRAM",
          "PREDNISONE",
          "ROSUVASTATIN",
          "VALSARTAN",
          "IBUPROFEN",
          "FEXOFENADINE",
          "MONTELUKAST",
          "FLUTICASONE NASAL"
         ],
         "yaxis": "y",
         "z": {
          "bdata": "AAAAAAAAAADBqHGW+ChqP6l/lg8jKJa/8PkeERxvLj9W3rdsj4CWv+M0ZWHmiKy/t8htTBs7aD+rGzbuqDaxv+jsra4+EG+/620Ac53vhb+apkkW2OqPP8ArLTfqc46/As3vNTXshr/uX16rpSd5vzOdUgk5GKm/twr9B5fQgL9mcABocgWGP30lPvnm0NY/Y+8nkZGAoD8ieOMrs+K0v6Lf+3BBp5m/GoiEXq8KmD+JKyehXtNmP8Y/0b6SA4G/1asIx0E0fL/BN/tezm2Vv6crYXNYqWK/0R5wYRQiY78LTS2/gfp/P5WBSBoAibs/ghc/tkkVcL+YyoPUvixbv63WFh9xfmy/AqmmkrA7cL+i0E8qCMCsPxn9VJDw7IC/pi06YPdPY7+/Fbs3rD8/v28Lf1Zt+3y/yV4t8rNDU7/BqHGW+ChqPwAAAAAAALC8rpSyGRkwlz/UDEIJwIB+P1NaipEfx5k/3LsU3Yurkr9r33zY6cNzvyIs2alX/rC/wrKvZyxkcr8NS3HLxJp7v84jrxYb0pk/bbhqLSMntb8Q9BpSOjqGP90fbjpRhq8/OJBR3X+Umr8/Jnx3lgFiv+R3TM3OuXU/80OgU7HsfL87Qoq34aaOP3NBm34Lzqy/B4izdnN8kj/KD0d6Oct4v7xKi3rw4YE/uh8ZVrMUhL8Y1tjKrpuoP1fCub2n3I6/f/RdulXSdj+WMcedvJR+P1rMNiSgjWQ/iNx139tnkr/rwJy4WRRmv+PVRl20IWi/JmLyILSuiT+DupCssaeYPwMvVYhIvo0/o+urBkLbuT9Ax8jCIN9WP6wZpr0opF4/PgePbJRetj8qvY6dToemP6p/lg8jKJa/rpSyGRkwlz8AAAAAAAAAABOsz4edAXw/ihcelLs0uL+c3ylDFBSyv0065+vz37s/n6E9OWEkwb+M83fDiXmbvwgR2EkVCNI/c1cDQ+wpsD8RHamlLdDLv5Us1ylzCKq/Bih3ZrKvvD99MWDqrZrBv2mpyQuwSp2/rhV67z1Jmj+iitkwbfhbvxGpPBSRh3Q/7tvr0rTswL+KUWY77cOIvxH8GzoZBJC/Jop3tMEwc7+S94MFGByrP+qc6vmA1pG/ekcOmVOFsr9J7i3dwAWBP4yleD7wnlW/jSOEnzg/Yj+3PZLu5ii2v4HgjKirNrI/CBLoj9Jwkr9epE0f7WKyP3cymv1Pu4W/xOOJyn2gbr+4C1g0B0WOP5BVKrRSiIO/iA11OdOUXb+hy/cv2HGQvyVzBAAAWWc/8PkeERxvLj/TDEIJwIB+PxOsz4edAXw/AAAAAAAAAAAqZS2t3k5/P7s+gDkWq3m/ItvlWJpgnT+5nfSPWZOdv+/vMP4iFFQ/WakkrvzzbD/FRbHxdK1aP3ciogekn5y/5xdXLq2rcb9v/2wzJrapPz+R9v+yWYq/MZN+TtLOVT9XZaDe/AOVP1X8QsILAoY/eb8BWDwZfz+IKOVYJXmev7WnfGf3kmE/XVZBdFkAgD8TC/PvLTCEP6x/Ub9kg3C/thmPsqfyej+CXJkZ/T5zv49fRJVBlXw/T2eGPfQ3pD++Nz7VHxN4P+Vtn5xZtIC/Ai0xTxcmhz8Fh1SDp5poP94AoXoI62s/hpPpg4P4bj9CChvFpD2bP3ntdTgF21w/mfkVQ0f8ez8mKFAcNFpQP2vlHXRGxGW/p+V3eRQimj9W3rdsj4CWv1NaipEfx5k/ihcelLs0uL8rZS2t3k5/PwAAAAAAAAAA9b0JkqLGoz9t8FylWKurv0IvsRFOf9K/ljPjNZwnnr+ge9iXRoqgv8iAnYSg60e/bcuN/aQ5w7/LeYkaH9HQP97pROQiTmy/12o1G2Zxyr9eNhJ3KOGbv1O2ju0iZqY/VWWZvTZ2gj94iciVzD5mP5s9izttA5Q/XYFvcwLEkj9wlSO387Gbvyi0BSrg8Fu/Dy0jfrwFrL89fFdjKbiavyIoKv2SabO/ip8vSnPlYT+PltZcPW2SPx73L3J7UY+/dcej0Pkptr9ZCwhMSBCTv4qbErmf+o2/ImmcDS+Enb+8roI/wi+Qv47293N1S6c/6I9llnL1oT/PCqMHC1uBv9tlDUrmypS/beu79HTQl7+pJms4a6ZFv+M0ZWHmiKy/3LsU3Yurkr+b3ylDFBSyv7w+gDkWq3m/9b0JkqLGoz8AAAAAAAAAAI0DOf0MMba/YmD9e0tVur/2F4tcB7pxP1fmPotXBqm/10GSQ4B2wD8TbFCm82DSvxg38IsShqG/FzfT6Y14jb+GAYtci6fTvx+NXLpd4Ky/HtS6XExNlz9+s9KrXAWzP0zdaGOmdHe/xOLoWyjV0r+eq1W6GorDvz9bZKQAZbw/KNa6PgN8jz/Vq+MgiJWqvw1xrAmvxqW/GVOuCMU2vr8d5SZWDcuLv9fK4Uu5H4i/KcQ3QyNzlL/iG9u7oEjbP2j6vnqPJZ+/vkohpbfnl7/wowb4unCQvy4u9K2PKJ6/Nj6AIG4Sm7+ZJj5o+ja8Pxy65TRtNpa/y7ZC5NwNkr9qmZbH2funv8z6w1RVxmq/tshtTBs7aD9s33zY6cNzv0465+vz37s/ItvlWJpgnT9s8FylWKurv40DOf0MMba/AAAAAAAAoLzyYbyN4nGBv5pI3HaqKZU/fwUY+/DYRj+i/BnZt4qWP8ELntPTWry/mhwiZsLzlD+OM+d2WQdgP7ZEdmO6crC/rZsEbyRTjr9FRCeEC56Tv1Dx+puWFY6/FD4VS2hsfj95dRyBvFm+v+OSj+uWhbQ/Rswd1PkWkL9rR26qe1UjvzGBXvOwAX8/5E3L+6YKlT92w4xTIUKiv+CB1bcm3pA/b22uPpzwnT+TVjGmASB9v3YLPrlDHam/na4P5a6Meb88FOVDpCuCvy5Z/xjGZbs/445hr9qRXr/tdw7ID7CmP1Tew88NBpa/ekovc0lloz9HH2g3IVKGP8nr4JJSE5s/NEqOjUcedT+qGzbuqDaxvyMs2alX/rC/n6E9OWEkwb+4nfSPWZOdv0IvsRFOf9K/YWD9e0tVur/yYbyN4nGBvwAAAAAAAAAAQ7KIK+UFm7+ZoxrR2ZWpP18ZOGUeWN2/yyESzaSYvD/Buscx4UfAv+530g9lFUY/obwHh4ymqD9CXZfIjBaRP7bI0w3AZcK/mqqDg4JUvr8AAlaRQMCLv8yKaO1MZKy/KviA/wsQvL+aUJcDwK6Jv2hRqhwoiom/PIdUgohmx7/lunvTehu3v4hB52pH+cO/FzuV9/R9nL/4sZvhDZ6gvxomYO05Uaa/28vvYr6Ooj9T8YMsWbNPP3N+WV0JTIY/296ALQSVk7+PaW3kFEeuv9hvwyJyz7u/1y6x93Rpur+jZUaNC+GOv8RHtEiIkq+/Uc/ZmihduL9CowRGhtyEv+jsra4+EG+/wrKvZyxkcr+M83fDiXmbv+/vMP4iFFQ/lzPjNZwnnr/2F4tcB7pxP5pI3HaqKZU/Q7KIK+UFm78AAAAAAAAAAM5FGfz7oYG/W2mw3gv/nT9xf5LjPxqRv7rTo4Ccp4S/fNqlOMl3Mb+ASTYBBK2lv29IfcXm+H+/mq7Ap/0lZ787GicQ7laBv6PwFu6DjHQ/ITN6e8SWnr9H3BTk3USUv1uzHVF90m4/EQ4j3H/LcD+RcF5+rTWJv6hsViAJuW2/TCichITikr/VaVX0tVddP0qctnz1TWq/Peo/DBZcbb9Lz0/EdYSXv7+cFRwAPXS/QyDlJfQIcb+1u4hP69V6v+RqhFf3DXO/KurC8SQgYL+aORA72EaBv/eLQMQalAI/gq6Ju/13bL9OQMalMAJ4v+Gj/Q2KhlC/6m0Ac53vhb8NS3HLxJp7vwgR2EkVCNI/WakkrvzzbD+fe9iXRoqgv1jmPotXBqm/gAUY+/DYRj+ZoxrR2ZWpP85FGfz7oYG/AAAAAAAAAADe7wjsp7yev9OUF+gC+8W/e1QuV65Slb8fdTaZI6GhP1bztDhg5a+/jn7kSAkbfr+Tf8HBfP6LvwAshcQMwYy/WdbGne4TZj/yJZjeApG4vyq3Ywwfeoi//4FK/pHPgr9sUyS3W49YP8MC6SV7JV6/QX9tZK+qcb+7V+k+wPGZv9ein8AtF1+/8JA1gO+uPD+3AXFo0RJbv1uO7CVsZaC/kcRXP4mkfD9V8J9UtuJ5v7Br+PjDUoK/qpQ1pCkxc7+GYCUtaxqEv7qGID71+4K/8i3Yy4AJcr/c9CHig9F5vzdPgoUW33C/9WECXY8dZD+bpkkW2OqPP88jrxYb0pk/c1cDQ+wpsD/GRbHxdK1aP8mAnYSg60e/10GSQ4B2wD+i/BnZt4qWP18ZOGUeWN2/XGmw3gv/nT/e7wjsp7yevwAAAAAAAKC8FMufG9twyr/zgE8AbHiAP+w+9LGd05G/tpr+r4IGsL/cTVxVpuiMvy1zMaW1Uqi/0CNv68pCnr9tJ83vH0BTv/uG2MCjs8a/VgYJCCYQZD88T/v0fF2Kvw8v/cmn51E/niWW1ATwrr/PAHSXkI2dv5qVFYGbZ68/uNng+WZLkz/c97XQd4qIP+quXPexUmg/ftdaI9zxwz/vbpA/00WHPxJBRIHBTH6/jF0cbyVBnb/rvFQHhaGVv7N0nV5FYqK/LDvqlC5pZr9VxSa5eitjv5jR87+l3pW/NhDECrh7nr9U+aaRg6piv8ArLTfqc46/bLhqLSMntb8SHamlLdDLv3ciogekn5y/bcuN/aQ5w78TbFCm82DSv78LntPTWry/zCESzaSYvD9yf5LjPxqRv9KUF+gC+8W/FMufG9twyr8AAAAAAAAAALdchKxkXtO/2syj5PEjtr8DiFD4rVTAP95V0rf6m6q/WqVtz77lm7/7H8C5nUWcv/3OG7dWIZq/TnjlALpyyD/crBgYRojGv6A10Vijfr2/Rjveet8UlL+kJNec55V7P4geHCMJlL+/r2vz0P0SsL8IZYueDr+Yvxm6CDoDuq2/hrA9MjK7oL9J8vXDkRPPv7tTGuEEl6i/hdZVQ2tiYT+97/T/GW6sv06jPIRamrW/+3749C28m7/S/P3+86HLv7iZsHuhi5+/uJCkZvrXtr+DyFMmMQ6/v822w1zSm5C/Ac3vNTXshr8Q9BpSOjqGP5Qs1ylzCKq/6BdXLq2rcb/LeYkaH9HQPxc38IsShqG/mhwiZsLzlD/Cuscx4UfAv7rTo4Ccp4S/e1QuV65Slb/zgE8AbHiAP7dchKxkXtO/AAAAAAAAAADjGdlJr3OIv5D9FuobjJS/TNXIduPtjL9Hm09fEM6aP9+/JPFCkJK/sdexiYgwfD9Dn0c47IGjPwEtDEKdKI+/TguqWMwdlb9YVYoon6xkvwB2e4Sl44O/X/lzDcUsj7+sWiR8Xg+av5dLKwUzDma/e5Z8M1XEer9FGwGQprCNP0pmZaYzGau/aj1yKejuhr/rPPgJvy2IP3kBQ+ARqY2/PlaKNIWXhb/EhHOHD6uKv/KMA+HTRJm/1PG+6wbadL8e72aUhmyFv4M6rvcWJ46/t2JEwkVcEz/tX16rpSd5v90fbjpRhq8/Bih3ZrKvvD9v/2wzJrapP97pROQiTmy/FzfT6Y14jb+OM+d2WQdgP+530g9lFUY/fNqlOMl3Mb8edTaZI6GhP+w+9LGd05G/2syj5PEjtr/iGdlJr3OIvwAAAAAAAAAAxpaE1ERko79s7phQDcV3v/qUW/kLDYC/G37lAWlyc79nR/KJqU2HP6GMheHlXa2/+TwxKrqMkL+WAdjU8op6v+9hD5/vqEw/KlFtDKyPgL92IQsQdjmCP70HryJ1gY6/LJYcXdRdZL8ueAiwyUSnPwf0bFoH/Wa/0nihDo5hkb8x2oUcghuePwWpUS1llWa/Ip1D8xUDdb/PzORPPAdivzLMyg/S2qo/7MI8lLZTiz9uq3WmEq9kvxsqB4BEtGG/t/jjzyBYdb+YzF0zKOt3PzKdUgk5GKm/OJBR3X+Umr99MWDqrZrBvz+R9v+yWYq/12o1G2Zxyr+GAYtci6fTv7ZEdmO6crC/oLwHh4ymqD+ASTYBBK2lv1bztDhg5a+/tpr+r4IGsL8DiFD4rVTAP5H9FuobjJS/xpaE1ERko78AAAAAAAAAAD41Kp/YscE/R1+5ifkNmT/arWRcSeuwv7jQzTrnaXi/BQ/mBUxJ1r+qfBaxzbW+v8tC/XPEbLC/e7SEzjU2fr9Ka1QRaxmHvz0fby7icqa/zOEshblB1z9KlCuehWeQv6/gfjsPd3A/rjiuA5AqpD+3cxP2997EvwXLHIDVLKK/kl/JdrBTbL8KU22sbUemv51T+sEhNaG/e3Lg+Sibnz8swq6Q6FKwv52WbjG6v4U/u57v5+2mn7/J8/8LGWSov3HrEW/s2H2/twr9B5fQgL8/Jnx3lgFiv2qpyQuwSp2/MJN+TtLOVT9eNhJ3KOGbvyCNXLpd4Ky/rZsEbyRTjr9BXZfIjBaRP25IfcXm+H+/jn7kSAkbfr/cTVxVpuiMv95V0rf6m6q/TNXIduPtjL9t7phQDcV3vz41Kp/YscE/AAAAAAAAAAAZ8QYrRwehPzp6GnpJS4W/DCXLNq5SYL9KjzNArpe4v8r7VcFbo4y/4x7gyQu2hr/2G7L0ou1hP/9YT6CGAYY/NpcoIvTqeL/7BGSWfBS4P1EzCpnCTXC/2ZgKh3r/Vr934N8eB6JWPz8Gx+HhgZ2/4McCEKxgcr+V/cQJ05R6vxzbYvIM0oC/dI9nV//id7/Jd3eD66p9v32OneQkK36/bm1P2c11V78P2UjobrN3v6jzVOUgFoG/TRHFxmK3VL9mcABocgWGP+R3TM3OuXU/rhV67z1Jmj9WZaDe/AOVP1O2ju0iZqY/HtS6XExNlz9FRCeEC56Tv7bI0w3AZcK/mq7Ap/0lZ7+Uf8HBfP6Lvy1zMaW1Uqi/WqVtz77lm79Gm09fEM6aP/qUW/kLDYC/R1+5ifkNmT8Z8QYrRwehPwAAAAAAAAAAdeNivQqIhL/9tvshwfx6P9Qk99Weh6W/beE+Vs8gmr/v640ME6yHv62H0NIN124/c8HdbiVlk78g9CFuibNYv/l0918wmqM/MoSymSJZc7/K1niargtuvwhTug9ExHG/AWJum6pLeL8QBQq0rht+v1RIiueAi3+/oEwNFrfXgr83eX6SV350vwds10HTDIe/LXGrwb/Kjr8oOFdjrDNlv24K6PRqIHy/J8zHMOtGhL80Bra/spVYv30lPvnm0NY/80OgU7HsfL+iitkwbfhbv1X8QsILAoY/VGWZvTZ2gj9+s9KrXAWzP1Hx+puWFY6/maqDg4JUvr87GicQ7laBv/8rhcQMwYy/0CNv68pCnr/7H8C5nUWcv9+/JPFCkJK/Gn7lAWlyc7/ZrWRcSeuwvzp6GnpJS4W/deNivQqIhL8AAAAAAACgvKhB75ftRLY/UIdxOZxSvr/xJqG3PfeAv/RFUgBr4b8/8Ab2iBvQhT+kHwkOz1mTv1qHLTC8enO/x0s0ikyfmr+wYiVaCah2P6UNjzWqgga/IQnSe/E2dT+LeDk/q+iYv5OnWbrhCny/CZ6JLL2IfT/BUOM7i4BNP6UWAQopcWK/4yHCF3nWhL8bBOFPqrN5v4McX4nnZUS/KOWaZ2xcRb/53PFjNXt4v1rKbqNKC18/Y+8nkZGAoD88Qoq34aaOPxCpPBSRh3Q/eb8BWDwZfz94iciVzD5mP0zdaGOmdHe/FD4VS2hsfj8BAlaRQMCLv6PwFu6DjHQ/WNbGne4TZj9uJ83vH0BTv/3OG7dWIZq/sNexiYgwfD9oR/KJqU2HP7jQzTrnaXi/DCXLNq5SYL/+tvshwfx6P6hB75ftRLY/AAAAAAAAsLxslHJP+JGKvxUTxoddrHM/ZzeTuxelkT8nEeVechqnP/LUKzaIo2i/k/dmB8sDlT8E9VeJwwxLv6XgRsRUn5Q/rov9qjpglD9Yx9FQdheSP5GmAGm6smy/i0Sr5gUsaz+68izxyUiQP5zKcEcjqoE/eMJcm9M/gT9UsAyG8u5SP+AEWuaqFYQ/OVenNTSGij+y7noiMWuBP2jcRal1+I4/zyjVF0Y7L78ieOMrs+K0v3NBm34Lzqy/7tvr0rTswL+IKOVYJXmev5s9izttA5Q/xOLoWyjV0r94dRyBvFm+v8yKaO1MZKy/IDN6e8SWnr/yJZjeApG4v/uG2MCjs8a/TnjlALpyyD9Dn0c47IGjP6GMheHlXa2/BQ/mBUxJ1r9JjzNArpe4v9Qk99Weh6W/UIdxOZxSvr9rlHJP+JGKvwAAAAAAAKC8LQdxMX6etj9MLu83UNu2v5sIK/lVQpC/f9onPupYnD8FfpdLC7CzvyQobm4cy8u/jjIJS/t3m7/sbOhEgwmiv+SDT34QtJS/2XCLhS880b8C9bOhttGov/XiSH0oSaq//j3kgmNhr7+CvCOpS3ypv3JKexAcB7G/uwSpJ/3jsj8nH56ho++bv2wQtpD00qS/PV69wz2es7/rPC14QWOEv6Lf+3BBp5m/B4izdnN8kj+KUWY77cOIv7WnfGf3kmE/XYFvcwLEkj+eq1W6GorDv+OSj+uWhbQ/KviA/wsQvL9H3BTk3USUvym3Ywwfeoi/VgYJCCYQZD/drBgYRojGvwEtDEKdKI+/+TwxKrqMkL+qfBaxzbW+v8n7VcFbo4y/beE+Vs8gmr/xJqG3PfeAvxUTxoddrHM/LgdxMX6etj8AAAAAAACgvAd2XkkF2Jw/tcjvrqTnLD+GJuq3Th6RP8XuG4qePJO/onD8EfH4rb9CVGI4vz2MP11hTMbLa1m/jj1uDG9zgr/dP2RndSezv8BN7XNhmI+/j9ZjydOwlT9LlywMvlSUvyS/EfX4qI2/e8oEKbNrUT8pPSWlsPCfv0oMF/iNMJE/oaVH1JwWi7+9RlzcZ8SVv4awUxe+Hi8/GYiEXq8KmD/KD0d6Oct4vxH8GzoZBJC/XFZBdFkAgD9wlSO387Gbvz5bZKQAZbw/Rcwd1PkWkL+bUJcDwK6Jv1uzHVF90m4/AIJK/pHPgr89T/v0fF2Kv6A10Vijfr2/TguqWMwdlb+XAdjU8op6v8tC/XPEbLC/4x7gyQu2hr/u640ME6yHv/RFUgBr4b8/aDeTuxelkT9LLu83UNu2vwh2XkkF2Jw/AAAAAAAAAABptpCOLippP19w6UPu5pC/5bPAB4bner/HA2G5CtaXv02HXXQG+Ua/b8bGU2FPgz+DbCUFto1mv0P/glorWqC/nsWzuXhNdb9jd/J7jcpwv+rOTbt2Q3y/nmkOnFmVcb8nMpt0039GP+SEylTU+XW/78pO/81ear9y3s1wfuR5v3fChJybqoK/VvXIXsuhVr+JKyehXtNmP7xKi3rw4YE/J4p3tMEwc78UC/PvLTCEPyi0BSrg8Fu/KNa6PgN8jz9sR26qe1Ujv2lRqhwoiom/EQ4j3H/LcD9sUyS3W49YPw8v/cmn51E/Rzveet8UlL9YVYoon6xkv+9hD5/vqEw/e7SEzjU2fr/3G7L0ou1hP66H0NIN124/8Qb2iBvQhT8mEeVechqnP5sIK/lVQpC/tcjvrqTnLD9otpCOLippPwAAAAAAAAAAa4bg0lu6VD9S03a+FHKEP4b0AlSrdmC/CCegj6D4mj9OgovkKKWaP++ZMcWLTYY/YqXWsBC2R7/kzscPNDxTP0C+I7yTQoM/IKH31ihJY781mLtJO2NbvwkcHMZm41I/mvKB7LTVWD/7KUnVBFaJP9Aq3ly7h1g/U7K6fV2XKb8JrgXX576MP8Y/0b6SA4G/ux8ZVrMUhL+R94MFGByrP61/Ub9kg3C/Dy0jfrwFrL/Uq+MgiJWqvzCBXvOwAX8/PIdUgohmx7+QcF5+rTWJv8QC6SV7JV6/niWW1ATwrr+lJNec55V7PwB2e4Sl44O/KlFtDKyPgL9Ka1QRaxmHv/9YT6CGAYY/c8HdbiVlk7+kHwkOz1mTv/LUKzaIo2i/gNonPupYnD+GJuq3Th6RP19w6UPu5pC/a4bg0lu6VD8AAAAAAAAAAGGpmwc2Xoq/W9ZXvV5Cpz8Loqp5nTWfP/4ygH2XkHA/JhCMEfxNkz9WgnvXn7eUv4cod6Bm+YG/wROGKQfSgb8nLb50Wp2Hv4OnYXgoB4K/NFrwOoNRjb87taKLKSeUv18K1jiN0HG/7wbwk0Ljgb+OsqVVjcqJv6q3tYI5RV+/1asIx0E0fL8Y1tjKrpuoP+qc6vmA1pG/thmPsqfyej8+fFdjKbiavw1xrAmvxqW/5E3L+6YKlT/lunvTehu3v6dsViAJuW2/QX9tZK+qcb/QAHSXkI2dv4geHCMJlL+/X/lzDcUsj792IQsQdjmCPz0fby7icqa/NpcoIvTqeL8g9CFuibNYv1qHLTC8enO/lPdmB8sDlT8FfpdLC7Czv8XuG4qePJO/5bPAB4bner9R03a+FHKEP2Kpmwc2Xoq/AAAAAAAAoLz+rAcXbXaTv6u4KNH/5mg/kg4z70jegj8LJ5Z/T3VTP+EgaN1Mz5i/kx6zY34WUD/y40lmDx52v4VFvEN0IpM/DBnwhOBa4T+PJQUJz+hsv9gQSngccYK/ZygSZimypj9ZW40QYf7eP1nKD67UGus/vVfZfWdaoT/BN/tezm2Vv1jCub2n3I6/ekcOmVOFsr+BXJkZ/T5zvyIoKv2SabO/GlOuCMU2vr92w4xTIUKiv4hB52pH+cO/TCichITikr+6V+k+wPGZv5qVFYGbZ68/r2vz0P0SsL+sWiR8Xg+av70HryJ1gY6/zOEshblB1z/7BGSWfBS4P/p0918wmqM/x0s0ikyfmr8E9VeJwwxLvyQobm4cy8u/o3D8EfH4rb/IA2G5CtaXv4b0AlSrdmC/W9ZXvV5Cpz/+rAcXbXaTvwAAAAAAAAAAJdzW8njAf79bj+T0vt6TP/XfoPht064/b+zqpNKysL/4oNUUbZyMv8qHnHq144q/NzKMlI5bkr+vWk/AVxSKvyotGAt3mZC/EaEueDxelL9rDNxfs4N2v+jcbxLEpYG/4SBqH8X3kr8GJkQywFxnv6crYXNYqWK/f/RdulXSdj9J7i3dwAWBP5BfRJVBlXw/ip8vSnPlYT8d5SZWDcuLv9+B1bcm3pA/GDuV9/R9nL/UaVX0tVddP9ein8AtF1+/uNng+WZLkz8IZYueDr+Yv5dLKwUzDma/LJYcXdRdZL9KlCuehWeQv1IzCpnCTXC/MYSymSJZc7+wYiVaCah2P6bgRsRUn5Q/jjIJS/t3m79BVGI4vz2MP06HXXQG+Ua/CCegj6D4mj8Loqp5nTWfP6u4KNH/5mg/JtzW8njAf78AAAAAAAAAAMhKRu0UGYI/a5llxaBocj9Gq6Fd/ZKEv5QYtYRUBlE/ylM7i+NbcD/FJvHnNh40P4Ju4I8gNnk/qcDeGaQeaT+xSqUgt3RRPx8GazLE/oE/sYzESMLtkz8q+/pu1QpYv7Mz/AHcMT+/0R5wYRQiY7+XMcedvJR+P4yleD7wnlW/T2eGPfQ3pD+PltZcPW2SP9jK4Uu5H4i/b22uPpzwnT/4sZvhDZ6gv0qctnz1TWq/8JA1gO+uPD/c97XQd4qIPxm6CDoDuq2/e5Z8M1XEer8ueAiwyUSnP6/gfjsPd3A/2pgKh3r/Vr/K1niargtuv6UNjzWqgga/rov9qjpglD/sbOhEgwmiv11hTMbLa1m/b8bGU2FPgz9NgovkKKWaP/8ygH2XkHA/kg4z70jegj9bj+T0vt6TP8hKRu0UGYI/AAAAAAAAsLxJkw45IJGdPyItXiDJ0YO/RhI5+lKDrT8WfIRV6OdvPwXCJCnCaIM/Hqug3NF3ZD+hvG4UMLtGv2owuA0KEX8/WIILHkl1Xj8N2FTrTesmP575eG65M2w/8G/OfnS5lT8MTS2/gfp/P1rMNiSgjWQ/jiOEnzg/Yj++Nz7VHxN4Px73L3J7UY+/KcQ3QyNzlL+TVjGmASB9vxsmYO05Uaa/Peo/DBZcbb+3AXFo0RJbv+quXPexUmg/hrA9MjK7oL9FGwGQprCNPwf0bFoH/Wa/rTiuA5AqpD934N8eB6JWPwhTug9ExHG/IQnSe/E2dT9Yx9FQdheSP+SDT34QtJS/jT1uDG9zgr+DbCUFto1mv++ZMcWLTYY/JhCMEfxNkz8LJ5Z/T3VTP/XfoPht064/a5llxaBocj9Jkw45IJGdPwAAAAAAAAAAdbWzxeVphb9iak35HPpEv9ExuR2GJWg/3g69JWlKP7+0eV1nOdA3v/uBOYf5TWa/RGpbJ5wNZD95E2KIxulxP91brcJDJGS/km/0138Kbb/o90QD9ZpBv5WBSBoAibs/iNx139tnkr+3PZLu5ii2v+Ztn5xZtIC/dcej0Pkptr/hG9u7oEjbP3YLPrlDHam/2svvYr6Ooj9Kz0/EdYSXv1uO7CVsZaC/fddaI9zxwz9J8vXDkRPPv0pmZaYzGau/03ihDo5hkb+2cxP2997Evz8Gx+HhgZ2/AmJum6pLeL+LeDk/q+iYv5GmAGm6smy/2XCLhS880b/dP2RndSezv0T/glorWqC/YqXWsBC2R79WgnvXn7eUv+EgaN1Mz5i/cOzqpNKysL9Gq6Fd/ZKEvyItXiDJ0YO/dbWzxeVphb8AAAAAAACwvG4/XSUbkY+/ZRN8277Yjr/y/vQx3iCXv6nwHjdea4+/QQSZlDVOdj/Ei/pZ4x6jvxZ66oEO/YW/nYQp4YDJjr+NXYhpqMCXv4KdLjOoT1+/gxc/tkkVcL/swJy4WRRmv4HgjKirNrI/Ai0xTxcmhz9ZCwhMSBCTv2f6vnqPJZ+/na4P5a6Meb9T8YMsWbNPP8CcFRwAPXS/kcRXP4mkfD/vbpA/00WHP7pTGuEEl6i/aT1yKejuhr8x2oUcghuePwTLHIDVLKK/4McCEKxgcr8PBQq0rht+v5SnWbrhCny/ikSr5gUsaz8B9bOhttGov8BN7XNhmI+/nsWzuXhNdb/kzscPNDxTP4cod6Bm+YG/kx6zY34WUD/4oNUUbZyMv5MYtYRUBlE/RhI5+lKDrT9iak35HPpEv20/XSUbkY+/AAAAAAAAoLwcabz8lCRvv1wYAjXK5rQ/xnP1v+u9kT+L4ICsNpuIPyi2BWOS13W/kMrPkDRmY79g5Ir5sSpev0MVVczCBHS/I6jXGMfxlD+ZyoPUvixbv+PVRl20IWi/CBLoj9Jwkr8Eh1SDp5poP4qbErmf+o2/vkohpbfnl787FOVDpCuCv3N+WV0JTIY/QyDlJfQIcb9U8J9UtuJ5vxJBRIHBTH6/hdZVQ2tiYT/rPPgJvy2IPwSpUS1llWa/kV/JdrBTbL+V/cQJ05R6v1RIiueAi3+/CZ6JLL2IfT+68izxyUiQP/XiSH0oSaq/j9ZjydOwlT9jd/J7jcpwv0C+I7yTQoM/wROGKQfSgb/y40lmDx52v8qHnHq144q/ylM7i+NbcD8VfIRV6OdvP9ExuR2GJWg/ZRN8277Yjr8cabz8lCRvvwAAAAAAAAAArv+pVhJecL+3iQv7RFJtv2PX0YRE42Y/GIySC0Yogb/w+ccMM1NkvzF6of+Pdm8/b223TVL5dL9ldm5qAG5Jv6zWFh9xfmy/J2LyILSuiT9dpE0f7WKyP94AoXoI62s/IGmcDS+Enb/vowb4unCQvy1Z/xjGZbs/3N6ALQSVk7+2u4hP69V6v7Br+PjDUoK/jF0cbyVBnb+97/T/GW6sv3gBQ+ARqY2/IZ1D8xUDdb8KU22sbUemvxzbYvIM0oC/oEwNFrfXgr/AUOM7i4BNP5zKcEcjqoE//j3kgmNhr79LlywMvlSUv+vOTbt2Q3y/H6H31ihJY78nLb50Wp2Hv4RFvEN0IpM/NzKMlI5bkr/GJvHnNh40PwXCJCnCaIM/3w69JWlKP7/y/vQx3iCXv1wYAjXK5rQ/rv+pVhJecL8AAAAAAAAAAONQx7DrjXK/hLjN8FQJlD9t3pWiza6Ev7Mrk2Tn86g/EvPbRcIVUL//baNhBxGUP5FjhfuX4JQ/AqmmkrA7cL+DupCssaeYP3cymv1Pu4W/hpPpg4P4bj+8roI/wi+Qvy8u9K2PKJ6/445hr9qRXr+PaW3kFEeuv+RqhFf3DXO/q5Q1pCkxc7/rvFQHhaGVv06jPIRamrW/PlaKNIWXhb/PzORPPAdiv51T+sEhNaG/c49nV//id783eX6SV350v6UWAQopcWK/d8Jcm9M/gT+BvCOpS3ypvyO/EfX4qI2/nmkOnFmVcb81mLtJO2Nbv4OnYXgoB4K/DBnwhOBa4T+vWk/AVxSKv4Ju4I8gNnk/H6ug3NF3ZD+zeV1nOdA3v6jwHjdea4+/xXP1v+u9kT+3iQv7RFJtv+NQx7DrjXK/AAAAAAAAoLzgBmHIjUtxvy0Whm++8Hu/Yz09/rtDYr9oIwgd3iRqv5ZgZgHV9OE/LmsT0KXdez+j0E8qCMCsPwMvVYhIvo0/w+OJyn2gbr9BChvFpD2bP43293N1S6c/Nj6AIG4Sm7/udw7ID7CmP9hvwyJyz7u/KerC8SQgYL+GYCUtaxqEv7N0nV5FYqK/+3749C28m7/FhHOHD6uKvzHMyg/S2qo/fHLg+Sibnz/Id3eD66p9vwhs10HTDIe/4yHCF3nWhL9UsAyG8u5SP3JKexAcB7G/e8oEKbNrUT8nMpt0039GPwkcHMZm41I/NFrwOoNRjb+QJQUJz+hsvyktGAt3mZC/qcDeGaQeaT+gvG4UMLtGv/uBOYf5TWa/QASZlDVOdj+L4ICsNpuIP2PX0YRE42Y/hbjN8FQJlD/gBmHIjUtxvwAAAAAAAKC8Mdfsye0Lhb/GTzEac85hv9rgO7Qu3mm/KV3Ynsymfr/d5ZMSCquAPxr9VJDw7IC/o+urBkLbuT+4C1g0B0WOP3rtdTgF21w/6I9llnL1oT+aJj5o+ja8P1Tew88NBpa/1y6x93Rpur+aORA72EaBv7uGID71+4K/LDvqlC5pZr/T/P3+86HLv/KMA+HTRJm/7cI8lLZTiz8swq6Q6FKwv32OneQkK36/LXGrwb/Kjr8bBOFPqrN5v+AEWuaqFYQ/vASpJ/3jsj8qPSWlsPCfv+OEylTU+XW/mvKB7LTVWD87taKLKSeUv9gQSngccYK/EaEueDxelL+xSqUgt3RRP2owuA0KEX8/RGpbJ5wNZD/Ei/pZ4x6jvyi2BWOS13W/GIySC0Yogb9u3pWiza6Evy4Whm++8Hu/MNfsye0Lhb8AAAAAAACwvMFR4YxGumG/90ldX5Gte7+BZ+ZRvgqFv1T4f1+Wg1o/pi06YPdPY79Ax8jCIN9WP5FVKrRSiIO/mvkVQ0f8ez/PCqMHC1uBvxy65TRtNpa/ekovc0lloz+jZUaNC+GOv/eLQMQalAI/8y3Yy4AJcr9VxSa5eitjv7eZsHuhi5+/1PG+6wbadL9uq3WmEq9kv5yWbjG6v4U/bm1P2c11V78oOFdjrDNlv4McX4nnZUS/OVenNTSGij8mH56ho++bv0oMF/iNMJE/7spO/81ear/7KUnVBFaJP14K1jiN0HG/ZygSZimypj9rDNxfs4N2vyAGazLE/oE/WIILHkl1Xj95E2KIxulxPxZ66oEO/YW/kMrPkDRmY7/x+ccMM1Nkv7Qrk2Tn86g/Yz09/rtDYr/GTzEac85hv8FR4YxGumG/AAAAAAAAAAAUCQ4+kl8kP11MAkmfypw/ULdknuKglT+/Fbs3rD8/v6wZpr0opF4/hw11OdOUXb8mKFAcNFpQP9xlDUrmypS/y7ZC5NwNkr9HH2g3IVKGP8VHtEiIkq+/hK6Ju/13bL/c9CHig9F5v5jR87+l3pW/uJCkZvrXtr8e72aUhmyFvxsqB4BEtGG/up7v5+2mn78P2UjobrN3v28K6PRqIHy/KOWaZ2xcRb+z7noiMWuBP2sQtpD00qS/oaVH1JwWi79x3s1wfuR5v9Aq3ly7h1g/8Abwk0Ljgb9YW40QYf7eP+jcbxLEpYG/sozESMLtkz8N2FTrTesmP95brcJDJGS/nIQp4YDJjr9h5Ir5sSpevzF6of+Pdm8/EvPbRcIVUL9oIwgd3iRqv9rgO7Qu3mm/90ldX5Gte78UCQ4+kl8kPwAAAAAAAAAAPsVNm8wy4D8EuJ3E7d2mP28Lf1Zt+3y/PgePbJRetj+hy/cv2HGQv2zlHXRGxGW/beu79HTQl79qmZbH2funv8nr4JJSE5s/UM/ZmihduL9OQMalMAJ4vzdPgoUW33C/NRDECrh7nr+DyFMmMQ6/v4M6rvcWJ46/t/jjzyBYdb/I8/8LGWSov6jzVOUgFoG/JszHMOtGhL/63PFjNXt4v2jcRal1+I4/PV69wz2es7+9RlzcZ8SVv3fChJybqoK/U7K6fV2XKb+OsqVVjcqJv1nKD67UGus/4iBqH8X3kr8p+/pu1QpYv575eG65M2w/km/0138Kbb+NXYhpqMCXv0MVVczCBHS/b223TVL5dL//baNhBxGUP5ZgZgHV9OE/KV3Ynsymfr+AZ+ZRvgqFv11MAkmfypw/PsVNm8wy4D8AAAAAAAAAABhXNARxTJ8/yV4t8rNDU78pvY6dToemPyVzBAAAWWc/p+V3eRQimj+oJms4a6ZFv836w1RVxmq/NEqOjUcedT9DowRGhtyEv+Gj/Q2KhlC/9WECXY8dZD9U+aaRg6piv822w1zSm5C/t2JEwkVcEz+YzF0zKOt3P3DrEW/s2H2/TRHFxmK3VL80Bra/spVYv1rKbqNKC18/zyjVF0Y7L7/rPC14QWOEv4WwUxe+Hi8/VvXIXsuhVr8JrgXX576MP6u3tYI5RV+/vVfZfWdaoT8GJkQywFxnv7Mz/AHcMT+/8G/OfnS5lT/o90QD9ZpBv4GdLjOoT1+/I6jXGMfxlD9ldm5qAG5Jv5FjhfuX4JQ/LmsT0KXdez/d5ZMSCquAP1T4f1+Wg1o/UbdknuKglT8FuJ3E7d2mPxhXNARxTJ8/AAAAAAAAoLw=",
          "dtype": "f8",
          "shape": "40, 40"
         }
        }
       ],
       "layout": {
        "coloraxis": {
         "cmax": 1,
         "cmin": -1,
         "colorscale": [
          [
           0,
           "rgb(103,0,31)"
          ],
          [
           0.1,
           "rgb(178,24,43)"
          ],
          [
           0.2,
           "rgb(214,96,77)"
          ],
          [
           0.3,
           "rgb(244,165,130)"
          ],
          [
           0.4,
           "rgb(253,219,199)"
          ],
          [
           0.5,
           "rgb(247,247,247)"
          ],
          [
           0.6,
           "rgb(209,229,240)"
          ],
          [
           0.7,
           "rgb(146,197,222)"
          ],
          [
           0.8,
           "rgb(67,147,195)"
          ],
          [
           0.9,
           "rgb(33,102,172)"
          ],
          [
           1,
           "rgb(5,48,97)"
          ]
         ]
        },
        "template": {
         "data": {
          "bar": [
           {
            "error_x": {
             "color": "#2a3f5f"
            },
            "error_y": {
             "color": "#2a3f5f"
            },
            "marker": {
             "line": {
              "color": "#E5ECF6",
              "width": 0.5
             },
             "pattern": {
              "fillmode": "overlay",
              "size": 10,
              "solidity": 0.2
             }
            },
            "type": "bar"
           }
          ],
          "barpolar": [
           {
            "marker": {
             "line": {
              "color": "#E5ECF6",
              "width": 0.5
             },
             "pattern": {
              "fillmode": "overlay",
              "size": 10,
              "solidity": 0.2
             }
            },
            "type": "barpolar"
           }
          ],
          "carpet": [
           {
            "aaxis": {
             "endlinecolor": "#2a3f5f",
             "gridcolor": "white",
             "linecolor": "white",
             "minorgridcolor": "white",
             "startlinecolor": "#2a3f5f"
            },
            "baxis": {
             "endlinecolor": "#2a3f5f",
             "gridcolor": "white",
             "linecolor": "white",
             "minorgridcolor": "white",
             "startlinecolor": "#2a3f5f"
            },
            "type": "carpet"
           }
          ],
          "choropleth": [
           {
            "colorbar": {
             "outlinewidth": 0,
             "ticks": ""
            },
            "type": "choropleth"
           }
          ],
          "contour": [
           {
            "colorbar": {
             "outlinewidth": 0,
             "ticks": ""
            },
            "colorscale": [
             [
              0,
              "#0d0887"
             ],
             [
              0.1111111111111111,
              "#46039f"
             ],
             [
              0.2222222222222222,
              "#7201a8"
             ],
             [
              0.3333333333333333,
              "#9c179e"
             ],
             [
              0.4444444444444444,
              "#bd3786"
             ],
             [
              0.5555555555555556,
              "#d8576b"
             ],
             [
              0.6666666666666666,
              "#ed7953"
             ],
             [
              0.7777777777777778,
              "#fb9f3a"
             ],
             [
              0.8888888888888888,
              "#fdca26"
             ],
             [
              1,
              "#f0f921"
             ]
            ],
            "type": "contour"
           }
          ],
          "contourcarpet": [
           {
            "colorbar": {
             "outlinewidth": 0,
             "ticks": ""
            },
            "type": "contourcarpet"
           }
          ],
          "heatmap": [
           {
            "colorbar": {
             "outlinewidth": 0,
             "ticks": ""
            },
            "colorscale": [
             [
              0,
              "#0d0887"
             ],
             [
              0.1111111111111111,
              "#46039f"
             ],
             [
              0.2222222222222222,
              "#7201a8"
             ],
             [
              0.3333333333333333,
              "#9c179e"
             ],
             [
              0.4444444444444444,
              "#bd3786"
             ],
             [
              0.5555555555555556,
              "#d8576b"
             ],
             [
              0.6666666666666666,
              "#ed7953"
             ],
             [
              0.7777777777777778,
              "#fb9f3a"
             ],
             [
              0.8888888888888888,
              "#fdca26"
             ],
             [
              1,
              "#f0f921"
             ]
            ],
            "type": "heatmap"
           }
          ],
          "histogram": [
           {
            "marker": {
             "pattern": {
              "fillmode": "overlay",
              "size": 10,
              "solidity": 0.2
             }
            },
            "type": "histogram"
           }
          ],
          "histogram2d": [
           {
            "colorbar": {
             "outlinewidth": 0,
             "ticks": ""
            },
            "colorscale": [
             [
              0,
              "#0d0887"
             ],
             [
              0.1111111111111111,
              "#46039f"
             ],
             [
              0.2222222222222222,
              "#7201a8"
             ],
             [
              0.3333333333333333,
              "#9c179e"
             ],
             [
              0.4444444444444444,
              "#bd3786"
             ],
             [
              0.5555555555555556,
              "#d8576b"
             ],
             [
              0.6666666666666666,
              "#ed7953"
             ],
             [
              0.7777777777777778,
              "#fb9f3a"
             ],
             [
              0.8888888888888888,
              "#fdca26"
             ],
             [
              1,
              "#f0f921"
             ]
            ],
            "type": "histogram2d"
           }
          ],
          "histogram2dcontour": [
           {
            "colorbar": {
             "outlinewidth": 0,
             "ticks": ""
            },
            "colorscale": [
             [
              0,
              "#0d0887"
             ],
             [
              0.1111111111111111,
              "#46039f"
             ],
             [
              0.2222222222222222,
              "#7201a8"
             ],
             [
              0.3333333333333333,
              "#9c179e"
             ],
             [
              0.4444444444444444,
              "#bd3786"
             ],
             [
              0.5555555555555556,
              "#d8576b"
             ],
             [
              0.6666666666666666,
              "#ed7953"
             ],
             [
              0.7777777777777778,
              "#fb9f3a"
             ],
             [
              0.8888888888888888,
              "#fdca26"
             ],
             [
              1,
              "#f0f921"
             ]
            ],
            "type": "histogram2dcontour"
           }
          ],
          "mesh3d": [
           {
            "colorbar": {
             "outlinewidth": 0,
             "ticks": ""
            },
            "type": "mesh3d"
           }
          ],
          "parcoords": [
           {
            "line": {
             "colorbar": {
              "outlinewidth": 0,
              "ticks": ""
             }
            },
            "type": "parcoords"
           }
          ],
          "pie": [
           {
            "automargin": true,
            "type": "pie"
           }
          ],
          "scatter": [
           {
            "fillpattern": {
             "fillmode": "overlay",
             "size": 10,
             "solidity": 0.2
            },
            "type": "scatter"
           }
          ],
          "scatter3d": [
           {
            "line": {
             "colorbar": {
              "outlinewidth": 0,
              "ticks": ""
             }
            },
            "marker": {
             "colorbar": {
              "outlinewidth": 0,
              "ticks": ""
             }
            },
            "type": "scatter3d"
           }
          ],
          "scattercarpet": [
           {
            "marker": {
             "colorbar": {
              "outlinewidth": 0,
              "ticks": ""
             }
            },
            "type": "scattercarpet"
           }
          ],
          "scattergeo": [
           {
            "marker": {
             "colorbar": {
              "outlinewidth": 0,
              "ticks": ""
             }
            },
            "type": "scattergeo"
           }
          ],
          "scattergl": [
           {
            "marker": {
             "colorbar": {
              "outlinewidth": 0,
              "ticks": ""
             }
            },
            "type": "scattergl"
           }
          ],
          "scattermap": [
           {
            "marker": {
             "colorbar": {
              "outlinewidth": 0,
              "ticks": ""
             }
            },
            "type": "scattermap"
           }
          ],
          "scattermapbox": [
           {
            "marker": {
             "colorbar": {
              "outlinewidth": 0,
              "ticks": ""
             }
            },
            "type": "scattermapbox"
           }
          ],
          "scatterpolar": [
           {
            "marker": {
             "colorbar": {
              "outlinewidth": 0,
              "ticks": ""
             }
            },
            "type": "scatterpolar"
           }
          ],
          "scatterpolargl": [
           {
            "marker": {
             "colorbar": {
              "outlinewidth": 0,
              "ticks": ""
             }
            },
            "type": "scatterpolargl"
           }
          ],
          "scatterternary": [
           {
            "marker": {
             "colorbar": {
              "outlinewidth": 0,
              "ticks": ""
             }
            },
            "type": "scatterternary"
           }
          ],
          "surface": [
           {
            "colorbar": {
             "outlinewidth": 0,
             "ticks": ""
            },
            "colorscale": [
             [
              0,
              "#0d0887"
             ],
             [
              0.1111111111111111,
              "#46039f"
             ],
             [
              0.2222222222222222,
              "#7201a8"
             ],
             [
              0.3333333333333333,
              "#9c179e"
             ],
             [
              0.4444444444444444,
              "#bd3786"
             ],
             [
              0.5555555555555556,
              "#d8576b"
             ],
             [
              0.6666666666666666,
              "#ed7953"
             ],
             [
              0.7777777777777778,
              "#fb9f3a"
             ],
             [
              0.8888888888888888,
              "#fdca26"
             ],
             [
              1,
              "#f0f921"
             ]
            ],
            "type": "surface"
           }
          ],
          "table": [
           {
            "cells": {
             "fill": {
              "color": "#EBF0F8"
             },
             "line": {
              "color": "white"
             }
            },
            "header": {
             "fill": {
              "color": "#C8D4E3"
             },
             "line": {
              "color": "white"
             }
            },
            "type": "table"
           }
          ]
         },
         "layout": {
          "annotationdefaults": {
           "arrowcolor": "#2a3f5f",
           "arrowhead": 0,
           "arrowwidth": 1
          },
          "autotypenumbers": "strict",
          "coloraxis": {
           "colorbar": {
            "outlinewidth": 0,
            "ticks": ""
           }
          },
          "colorscale": {
           "diverging": [
            [
             0,
             "#8e0152"
            ],
            [
             0.1,
             "#c51b7d"
            ],
            [
             0.2,
             "#de77ae"
            ],
            [
             0.3,
             "#f1b6da"
            ],
            [
             0.4,
             "#fde0ef"
            ],
            [
             0.5,
             "#f7f7f7"
            ],
            [
             0.6,
             "#e6f5d0"
            ],
            [
             0.7,
             "#b8e186"
            ],
            [
             0.8,
             "#7fbc41"
            ],
            [
             0.9,
             "#4d9221"
            ],
            [
             1,
             "#276419"
            ]
           ],
           "sequential": [
            [
             0,
             "#0d0887"
            ],
            [
             0.1111111111111111,
             "#46039f"
            ],
            [
             0.2222222222222222,
             "#7201a8"
            ],
            [
             0.3333333333333333,
             "#9c179e"
            ],
            [
             0.4444444444444444,
             "#bd3786"
            ],
            [
             0.5555555555555556,
             "#d8576b"
            ],
            [
             0.6666666666666666,
             "#ed7953"
            ],
            [
             0.7777777777777778,
             "#fb9f3a"
            ],
            [
             0.8888888888888888,
             "#fdca26"
            ],
            [
             1,
             "#f0f921"
            ]
           ],
           "sequentialminus": [
            [
             0,
             "#0d0887"
            ],
            [
             0.1111111111111111,
             "#46039f"
            ],
            [
             0.2222222222222222,
             "#7201a8"
            ],
            [
             0.3333333333333333,
             "#9c179e"
            ],
            [
             0.4444444444444444,
             "#bd3786"
            ],
            [
             0.5555555555555556,
             "#d8576b"
            ],
            [
             0.6666666666666666,
             "#ed7953"
            ],
            [
             0.7777777777777778,
             "#fb9f3a"
            ],
            [
             0.8888888888888888,
             "#fdca26"
            ],
            [
             1,
             "#f0f921"
            ]
           ]
          },
          "colorway": [
           "#636efa",
           "#EF553B",
           "#00cc96",
           "#ab63fa",
           "#FFA15A",
           "#19d3f3",
           "#FF6692",
           "#B6E880",
           "#FF97FF",
           "#FECB52"
          ],
          "font": {
           "color": "#2a3f5f"
          },
          "geo": {
           "bgcolor": "white",
           "lakecolor": "white",
           "landcolor": "#E5ECF6",
           "showlakes": true,
           "showland": true,
           "subunitcolor": "white"
          },
          "hoverlabel": {
           "align": "left"
          },
          "hovermode": "closest",
          "mapbox": {
           "style": "light"
          },
          "paper_bgcolor": "white",
          "plot_bgcolor": "#E5ECF6",
          "polar": {
           "angularaxis": {
            "gridcolor": "white",
            "linecolor": "white",
            "ticks": ""
           },
           "bgcolor": "#E5ECF6",
           "radialaxis": {
            "gridcolor": "white",
            "linecolor": "white",
            "ticks": ""
           }
          },
          "scene": {
           "xaxis": {
            "backgroundcolor": "#E5ECF6",
            "gridcolor": "white",
            "gridwidth": 2,
            "linecolor": "white",
            "showbackground": true,
            "ticks": "",
            "zerolinecolor": "white"
           },
           "yaxis": {
            "backgroundcolor": "#E5ECF6",
            "gridcolor": "white",
            "gridwidth": 2,
            "linecolor": "white",
            "showbackground": true,
            "ticks": "",
            "zerolinecolor": "white"
           },
           "zaxis": {
            "backgroundcolor": "#E5ECF6",
            "gridcolor": "white",
            "gridwidth": 2,
            "linecolor": "white",
            "showbackground": true,
            "ticks": "",
            "zerolinecolor": "white"
           }
          },
          "shapedefaults": {
           "line": {
            "color": "#2a3f5f"
           }
          },
          "ternary": {
           "aaxis": {
            "gridcolor": "white",
            "linecolor": "white",
            "ticks": ""
           },
           "baxis": {
            "gridcolor": "white",
            "linecolor": "white",
            "ticks": ""
           },
           "bgcolor": "#E5ECF6",
           "caxis": {
            "gridcolor": "white",
            "linecolor": "white",
            "ticks": ""
           }
          },
          "title": {
           "x": 0.05
          },
          "xaxis": {
           "automargin": true,
           "gridcolor": "white",
           "linecolor": "white",
           "ticks": "",
           "title": {
            "standoff": 15
           },
           "zerolinecolor": "white",
           "zerolinewidth": 2
          },
          "yaxis": {
           "automargin": true,
           "gridcolor": "white",
           "linecolor": "white",
           "ticks": "",
           "title": {
            "standoff": 15
           },
           "zerolinecolor": "white",
           "zerolinewidth": 2
          }
         }
        },
        "title": {
         "text": "Input correlation matrix"
        },
        "xaxis": {
         "anchor": "y",
         "constrain": "domain",
         "domain": [
          0,
          1
         ],
         "scaleanchor": "y"
        },
        "yaxis": {
         "anchor": "x",
         "autorange": "reversed",
         "constrain": "domain",
         "domain": [
          0,
          1
         ]
        }
       }
      }
     },
     "metadata": {},
     "output_type": "display_data"
    },
    {
     "data": {
      "application/vnd.plotly.v1+json": {
       "config": {
        "plotlyServerURL": "https://plot.ly"
       },
       "data": [
        {
         "coloraxis": "coloraxis",
         "hovertemplate": "x: %{x}<br>y: %{y}<br>color: %{z}<extra></extra>",
         "name": "0",
         "type": "heatmap",
         "x": [
          "CARVEDILOL",
          "ESOMEPRAZOLE",
          "LEVOTHYROXINE",
          "TRAMADOL",
          "AMLODIPINE",
          "METOPROLOL",
          "OMEPRAZOLE",
          "SIMVASTATIN",
          "TAMSULOSIN",
          "ALENDRONATE",
          "ATORVASTATIN",
          "LISINOPRIL",
          "LOSARTAN",
          "SERTRALINE",
          "METFORMIN",
          "PIOGLITAZONE",
          "PRAVASTATIN",
          "FUROSEMIDE",
          "POTASSIUM CHLORIDE",
          "HYDROCHLOROTHIAZIDE",
          "ATENOLOL",
          "WARFARIN",
          "ASPIRIN",
          "LOVASTATIN",
          "ALBUTEROL",
          "GLIPIZIDE",
          "RANITIDINE",
          "GABAPENTIN",
          "INSULIN GLARGINE",
          "CLOPIDOGREL",
          "ZOLPIDEM",
          "ALLOPURINOL",
          "CITALOPRAM",
          "PREDNISONE",
          "ROSUVASTATIN",
          "VALSARTAN",
          "IBUPROFEN",
          "FEXOFENADINE",
          "MONTELUKAST",
          "FLUTICASONE NASAL"
         ],
         "xaxis": "x",
         "y": [
          "CARVEDILOL",
          "ESOMEPRAZOLE",
          "LEVOTHYROXINE",
          "TRAMADOL",
          "AMLODIPINE",
          "METOPROLOL",
          "OMEPRAZOLE",
          "SIMVASTATIN",
          "TAMSULOSIN",
          "ALENDRONATE",
          "ATORVASTATIN",
          "LISINOPRIL",
          "LOSARTAN",
          "SERTRALINE",
          "METFORMIN",
          "PIOGLITAZONE",
          "PRAVASTATIN",
          "FUROSEMIDE",
          "POTASSIUM CHLORIDE",
          "HYDROCHLOROTHIAZIDE",
          "ATENOLOL",
          "WARFARIN",
          "ASPIRIN",
          "LOVASTATIN",
          "ALBUTEROL",
          "GLIPIZIDE",
          "RANITIDINE",
          "GABAPENTIN",
          "INSULIN GLARGINE",
          "CLOPIDOGREL",
          "ZOLPIDEM",
          "ALLOPURINOL",
          "CITALOPRAM",
          "PREDNISONE",
          "ROSUVASTATIN",
          "VALSARTAN",
          "IBUPROFEN",
          "FEXOFENADINE",
          "MONTELUKAST",
          "FLUTICASONE NASAL"
         ],
         "yaxis": "y",
         "z": {
          "bdata": "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",
          "dtype": "f8",
          "shape": "40, 40"
         }
        }
       ],
       "layout": {
        "coloraxis": {
         "cmax": 1,
         "cmin": -1,
         "colorscale": [
          [
           0,
           "rgb(103,0,31)"
          ],
          [
           0.1,
           "rgb(178,24,43)"
          ],
          [
           0.2,
           "rgb(214,96,77)"
          ],
          [
           0.3,
           "rgb(244,165,130)"
          ],
          [
           0.4,
           "rgb(253,219,199)"
          ],
          [
           0.5,
           "rgb(247,247,247)"
          ],
          [
           0.6,
           "rgb(209,229,240)"
          ],
          [
           0.7,
           "rgb(146,197,222)"
          ],
          [
           0.8,
           "rgb(67,147,195)"
          ],
          [
           0.9,
           "rgb(33,102,172)"
          ],
          [
           1,
           "rgb(5,48,97)"
          ]
         ]
        },
        "template": {
         "data": {
          "bar": [
           {
            "error_x": {
             "color": "#2a3f5f"
            },
            "error_y": {
             "color": "#2a3f5f"
            },
            "marker": {
             "line": {
              "color": "#E5ECF6",
              "width": 0.5
             },
             "pattern": {
              "fillmode": "overlay",
              "size": 10,
              "solidity": 0.2
             }
            },
            "type": "bar"
           }
          ],
          "barpolar": [
           {
            "marker": {
             "line": {
              "color": "#E5ECF6",
              "width": 0.5
             },
             "pattern": {
              "fillmode": "overlay",
              "size": 10,
              "solidity": 0.2
             }
            },
            "type": "barpolar"
           }
          ],
          "carpet": [
           {
            "aaxis": {
             "endlinecolor": "#2a3f5f",
             "gridcolor": "white",
             "linecolor": "white",
             "minorgridcolor": "white",
             "startlinecolor": "#2a3f5f"
            },
            "baxis": {
             "endlinecolor": "#2a3f5f",
             "gridcolor": "white",
             "linecolor": "white",
             "minorgridcolor": "white",
             "startlinecolor": "#2a3f5f"
            },
            "type": "carpet"
           }
          ],
          "choropleth": [
           {
            "colorbar": {
             "outlinewidth": 0,
             "ticks": ""
            },
            "type": "choropleth"
           }
          ],
          "contour": [
           {
            "colorbar": {
             "outlinewidth": 0,
             "ticks": ""
            },
            "colorscale": [
             [
              0,
              "#0d0887"
             ],
             [
              0.1111111111111111,
              "#46039f"
             ],
             [
              0.2222222222222222,
              "#7201a8"
             ],
             [
              0.3333333333333333,
              "#9c179e"
             ],
             [
              0.4444444444444444,
              "#bd3786"
             ],
             [
              0.5555555555555556,
              "#d8576b"
             ],
             [
              0.6666666666666666,
              "#ed7953"
             ],
             [
              0.7777777777777778,
              "#fb9f3a"
             ],
             [
              0.8888888888888888,
              "#fdca26"
             ],
             [
              1,
              "#f0f921"
             ]
            ],
            "type": "contour"
           }
          ],
          "contourcarpet": [
           {
            "colorbar": {
             "outlinewidth": 0,
             "ticks": ""
            },
            "type": "contourcarpet"
           }
          ],
          "heatmap": [
           {
            "colorbar": {
             "outlinewidth": 0,
             "ticks": ""
            },
            "colorscale": [
             [
              0,
              "#0d0887"
             ],
             [
              0.1111111111111111,
              "#46039f"
             ],
             [
              0.2222222222222222,
              "#7201a8"
             ],
             [
              0.3333333333333333,
              "#9c179e"
             ],
             [
              0.4444444444444444,
              "#bd3786"
             ],
             [
              0.5555555555555556,
              "#d8576b"
             ],
             [
              0.6666666666666666,
              "#ed7953"
             ],
             [
              0.7777777777777778,
              "#fb9f3a"
             ],
             [
              0.8888888888888888,
              "#fdca26"
             ],
             [
              1,
              "#f0f921"
             ]
            ],
            "type": "heatmap"
           }
          ],
          "histogram": [
           {
            "marker": {
             "pattern": {
              "fillmode": "overlay",
              "size": 10,
              "solidity": 0.2
             }
            },
            "type": "histogram"
           }
          ],
          "histogram2d": [
           {
            "colorbar": {
             "outlinewidth": 0,
             "ticks": ""
            },
            "colorscale": [
             [
              0,
              "#0d0887"
             ],
             [
              0.1111111111111111,
              "#46039f"
             ],
             [
              0.2222222222222222,
              "#7201a8"
             ],
             [
              0.3333333333333333,
              "#9c179e"
             ],
             [
              0.4444444444444444,
              "#bd3786"
             ],
             [
              0.5555555555555556,
              "#d8576b"
             ],
             [
              0.6666666666666666,
              "#ed7953"
             ],
             [
              0.7777777777777778,
              "#fb9f3a"
             ],
             [
              0.8888888888888888,
              "#fdca26"
             ],
             [
              1,
              "#f0f921"
             ]
            ],
            "type": "histogram2d"
           }
          ],
          "histogram2dcontour": [
           {
            "colorbar": {
             "outlinewidth": 0,
             "ticks": ""
            },
            "colorscale": [
             [
              0,
              "#0d0887"
             ],
             [
              0.1111111111111111,
              "#46039f"
             ],
             [
              0.2222222222222222,
              "#7201a8"
             ],
             [
              0.3333333333333333,
              "#9c179e"
             ],
             [
              0.4444444444444444,
              "#bd3786"
             ],
             [
              0.5555555555555556,
              "#d8576b"
             ],
             [
              0.6666666666666666,
              "#ed7953"
             ],
             [
              0.7777777777777778,
              "#fb9f3a"
             ],
             [
              0.8888888888888888,
              "#fdca26"
             ],
             [
              1,
              "#f0f921"
             ]
            ],
            "type": "histogram2dcontour"
           }
          ],
          "mesh3d": [
           {
            "colorbar": {
             "outlinewidth": 0,
             "ticks": ""
            },
            "type": "mesh3d"
           }
          ],
          "parcoords": [
           {
            "line": {
             "colorbar": {
              "outlinewidth": 0,
              "ticks": ""
             }
            },
            "type": "parcoords"
           }
          ],
          "pie": [
           {
            "automargin": true,
            "type": "pie"
           }
          ],
          "scatter": [
           {
            "fillpattern": {
             "fillmode": "overlay",
             "size": 10,
             "solidity": 0.2
            },
            "type": "scatter"
           }
          ],
          "scatter3d": [
           {
            "line": {
             "colorbar": {
              "outlinewidth": 0,
              "ticks": ""
             }
            },
            "marker": {
             "colorbar": {
              "outlinewidth": 0,
              "ticks": ""
             }
            },
            "type": "scatter3d"
           }
          ],
          "scattercarpet": [
           {
            "marker": {
             "colorbar": {
              "outlinewidth": 0,
              "ticks": ""
             }
            },
            "type": "scattercarpet"
           }
          ],
          "scattergeo": [
           {
            "marker": {
             "colorbar": {
              "outlinewidth": 0,
              "ticks": ""
             }
            },
            "type": "scattergeo"
           }
          ],
          "scattergl": [
           {
            "marker": {
             "colorbar": {
              "outlinewidth": 0,
              "ticks": ""
             }
            },
            "type": "scattergl"
           }
          ],
          "scattermap": [
           {
            "marker": {
             "colorbar": {
              "outlinewidth": 0,
              "ticks": ""
             }
            },
            "type": "scattermap"
           }
          ],
          "scattermapbox": [
           {
            "marker": {
             "colorbar": {
              "outlinewidth": 0,
              "ticks": ""
             }
            },
            "type": "scattermapbox"
           }
          ],
          "scatterpolar": [
           {
            "marker": {
             "colorbar": {
              "outlinewidth": 0,
              "ticks": ""
             }
            },
            "type": "scatterpolar"
           }
          ],
          "scatterpolargl": [
           {
            "marker": {
             "colorbar": {
              "outlinewidth": 0,
              "ticks": ""
             }
            },
            "type": "scatterpolargl"
           }
          ],
          "scatterternary": [
           {
            "marker": {
             "colorbar": {
              "outlinewidth": 0,
              "ticks": ""
             }
            },
            "type": "scatterternary"
           }
          ],
          "surface": [
           {
            "colorbar": {
             "outlinewidth": 0,
             "ticks": ""
            },
            "colorscale": [
             [
              0,
              "#0d0887"
             ],
             [
              0.1111111111111111,
              "#46039f"
             ],
             [
              0.2222222222222222,
              "#7201a8"
             ],
             [
              0.3333333333333333,
              "#9c179e"
             ],
             [
              0.4444444444444444,
              "#bd3786"
             ],
             [
              0.5555555555555556,
              "#d8576b"
             ],
             [
              0.6666666666666666,
              "#ed7953"
             ],
             [
              0.7777777777777778,
              "#fb9f3a"
             ],
             [
              0.8888888888888888,
              "#fdca26"
             ],
             [
              1,
              "#f0f921"
             ]
            ],
            "type": "surface"
           }
          ],
          "table": [
           {
            "cells": {
             "fill": {
              "color": "#EBF0F8"
             },
             "line": {
              "color": "white"
             }
            },
            "header": {
             "fill": {
              "color": "#C8D4E3"
             },
             "line": {
              "color": "white"
             }
            },
            "type": "table"
           }
          ]
         },
         "layout": {
          "annotationdefaults": {
           "arrowcolor": "#2a3f5f",
           "arrowhead": 0,
           "arrowwidth": 1
          },
          "autotypenumbers": "strict",
          "coloraxis": {
           "colorbar": {
            "outlinewidth": 0,
            "ticks": ""
           }
          },
          "colorscale": {
           "diverging": [
            [
             0,
             "#8e0152"
            ],
            [
             0.1,
             "#c51b7d"
            ],
            [
             0.2,
             "#de77ae"
            ],
            [
             0.3,
             "#f1b6da"
            ],
            [
             0.4,
             "#fde0ef"
            ],
            [
             0.5,
             "#f7f7f7"
            ],
            [
             0.6,
             "#e6f5d0"
            ],
            [
             0.7,
             "#b8e186"
            ],
            [
             0.8,
             "#7fbc41"
            ],
            [
             0.9,
             "#4d9221"
            ],
            [
             1,
             "#276419"
            ]
           ],
           "sequential": [
            [
             0,
             "#0d0887"
            ],
            [
             0.1111111111111111,
             "#46039f"
            ],
            [
             0.2222222222222222,
             "#7201a8"
            ],
            [
             0.3333333333333333,
             "#9c179e"
            ],
            [
             0.4444444444444444,
             "#bd3786"
            ],
            [
             0.5555555555555556,
             "#d8576b"
            ],
            [
             0.6666666666666666,
             "#ed7953"
            ],
            [
             0.7777777777777778,
             "#fb9f3a"
            ],
            [
             0.8888888888888888,
             "#fdca26"
            ],
            [
             1,
             "#f0f921"
            ]
           ],
           "sequentialminus": [
            [
             0,
             "#0d0887"
            ],
            [
             0.1111111111111111,
             "#46039f"
            ],
            [
             0.2222222222222222,
             "#7201a8"
            ],
            [
             0.3333333333333333,
             "#9c179e"
            ],
            [
             0.4444444444444444,
             "#bd3786"
            ],
            [
             0.5555555555555556,
             "#d8576b"
            ],
            [
             0.6666666666666666,
             "#ed7953"
            ],
            [
             0.7777777777777778,
             "#fb9f3a"
            ],
            [
             0.8888888888888888,
             "#fdca26"
            ],
            [
             1,
             "#f0f921"
            ]
           ]
          },
          "colorway": [
           "#636efa",
           "#EF553B",
           "#00cc96",
           "#ab63fa",
           "#FFA15A",
           "#19d3f3",
           "#FF6692",
           "#B6E880",
           "#FF97FF",
           "#FECB52"
          ],
          "font": {
           "color": "#2a3f5f"
          },
          "geo": {
           "bgcolor": "white",
           "lakecolor": "white",
           "landcolor": "#E5ECF6",
           "showlakes": true,
           "showland": true,
           "subunitcolor": "white"
          },
          "hoverlabel": {
           "align": "left"
          },
          "hovermode": "closest",
          "mapbox": {
           "style": "light"
          },
          "paper_bgcolor": "white",
          "plot_bgcolor": "#E5ECF6",
          "polar": {
           "angularaxis": {
            "gridcolor": "white",
            "linecolor": "white",
            "ticks": ""
           },
           "bgcolor": "#E5ECF6",
           "radialaxis": {
            "gridcolor": "white",
            "linecolor": "white",
            "ticks": ""
           }
          },
          "scene": {
           "xaxis": {
            "backgroundcolor": "#E5ECF6",
            "gridcolor": "white",
            "gridwidth": 2,
            "linecolor": "white",
            "showbackground": true,
            "ticks": "",
            "zerolinecolor": "white"
           },
           "yaxis": {
            "backgroundcolor": "#E5ECF6",
            "gridcolor": "white",
            "gridwidth": 2,
            "linecolor": "white",
            "showbackground": true,
            "ticks": "",
            "zerolinecolor": "white"
           },
           "zaxis": {
            "backgroundcolor": "#E5ECF6",
            "gridcolor": "white",
            "gridwidth": 2,
            "linecolor": "white",
            "showbackground": true,
            "ticks": "",
            "zerolinecolor": "white"
           }
          },
          "shapedefaults": {
           "line": {
            "color": "#2a3f5f"
           }
          },
          "ternary": {
           "aaxis": {
            "gridcolor": "white",
            "linecolor": "white",
            "ticks": ""
           },
           "baxis": {
            "gridcolor": "white",
            "linecolor": "white",
            "ticks": ""
           },
           "bgcolor": "#E5ECF6",
           "caxis": {
            "gridcolor": "white",
            "linecolor": "white",
            "ticks": ""
           }
          },
          "title": {
           "x": 0.05
          },
          "xaxis": {
           "automargin": true,
           "gridcolor": "white",
           "linecolor": "white",
           "ticks": "",
           "title": {
            "standoff": 15
           },
           "zerolinecolor": "white",
           "zerolinewidth": 2
          },
          "yaxis": {
           "automargin": true,
           "gridcolor": "white",
           "linecolor": "white",
           "ticks": "",
           "title": {
            "standoff": 15
           },
           "zerolinecolor": "white",
           "zerolinewidth": 2
          }
         }
        },
        "title": {
         "text": "Sample correlation matrix"
        },
        "xaxis": {
         "anchor": "y",
         "constrain": "domain",
         "domain": [
          0,
          1
         ],
         "scaleanchor": "y"
        },
        "yaxis": {
         "anchor": "x",
         "autorange": "reversed",
         "constrain": "domain",
         "domain": [
          0,
          1
         ]
        }
       }
      }
     },
     "metadata": {},
     "output_type": "display_data"
    },
    {
     "data": {
      "application/vnd.plotly.v1+json": {
       "config": {
        "plotlyServerURL": "https://plot.ly"
       },
       "data": [
        {
         "hovertemplate": "x=%{x}<br>y=%{y}<extra></extra>",
         "legendgroup": "",
         "marker": {
          "color": "#636efa",
          "pattern": {
           "shape": ""
          }
         },
         "name": "",
         "orientation": "v",
         "showlegend": false,
         "textposition": "auto",
         "type": "bar",
         "x": [
          "ZOLPIDEM",
          "WARFARIN",
          "VALSARTAN",
          "TRAMADOL",
          "TAMSULOSIN",
          "SIMVASTATIN",
          "SERTRALINE",
          "ROSUVASTATIN",
          "RANITIDINE",
          "PREDNISONE",
          "PRAVASTATIN",
          "POTASSIUM CHLORIDE",
          "PIOGLITAZONE",
          "OMEPRAZOLE",
          "MONTELUKAST",
          "METOPROLOL",
          "METFORMIN",
          "LOVASTATIN",
          "LOSARTAN",
          "LISINOPRIL",
          "LEVOTHYROXINE",
          "INSULIN GLARGINE",
          "IBUPROFEN",
          "HYDROCHLOROTHIAZIDE",
          "GLIPIZIDE",
          "GABAPENTIN",
          "FUROSEMIDE",
          "FLUTICASONE NASAL",
          "FEXOFENADINE",
          "ESOMEPRAZOLE",
          "CLOPIDOGREL",
          "CITALOPRAM",
          "CARVEDILOL",
          "ATORVASTATIN",
          "ATENOLOL",
          "ASPIRIN",
          "AMLODIPINE",
          "ALLOPURINOL",
          "ALENDRONATE",
          "ALBUTEROL"
         ],
         "xaxis": "x",
         "y": {
          "bdata": "7FG4HoXrsT/sUbgeheuxP+xRuB6F67E/7FG4HoXrsT/sUbgeheuxP+xRuB6F67E/7FG4HoXrsT/sUbgeheuxP+xRuB6F67E/7FG4HoXrsT/sUbgeheuxP+xRuB6F67E/7FG4HoXrsT/sUbgeheuxP+xRuB6F67E/7FG4HoXrsT/sUbgeheuxP+xRuB6F67E/7FG4HoXrsT/sUbgeheuxP+xRuB6F67E/7FG4HoXrsT/sUbgeheuxP+xRuB6F67E/7FG4HoXrsT/sUbgeheuxP+xRuB6F67E/7FG4HoXrsT/sUbgeheuxP+xRuB6F67E/7FG4HoXrsT/sUbgeheuxP+xRuB6F67E/7FG4HoXrsT/sUbgeheuxP+xRuB6F67E/7FG4HoXrsT/sUbgeheuxP+xRuB6F67E/7FG4HoXrsT8=",
          "dtype": "f8"
         },
         "yaxis": "y"
        }
       ],
       "layout": {
        "barmode": "relative",
        "legend": {
         "tracegroupgap": 0
        },
        "template": {
         "data": {
          "bar": [
           {
            "error_x": {
             "color": "#2a3f5f"
            },
            "error_y": {
             "color": "#2a3f5f"
            },
            "marker": {
             "line": {
              "color": "#E5ECF6",
              "width": 0.5
             },
             "pattern": {
              "fillmode": "overlay",
              "size": 10,
              "solidity": 0.2
             }
            },
            "type": "bar"
           }
          ],
          "barpolar": [
           {
            "marker": {
             "line": {
              "color": "#E5ECF6",
              "width": 0.5
             },
             "pattern": {
              "fillmode": "overlay",
              "size": 10,
              "solidity": 0.2
             }
            },
            "type": "barpolar"
           }
          ],
          "carpet": [
           {
            "aaxis": {
             "endlinecolor": "#2a3f5f",
             "gridcolor": "white",
             "linecolor": "white",
             "minorgridcolor": "white",
             "startlinecolor": "#2a3f5f"
            },
            "baxis": {
             "endlinecolor": "#2a3f5f",
             "gridcolor": "white",
             "linecolor": "white",
             "minorgridcolor": "white",
             "startlinecolor": "#2a3f5f"
            },
            "type": "carpet"
           }
          ],
          "choropleth": [
           {
            "colorbar": {
             "outlinewidth": 0,
             "ticks": ""
            },
            "type": "choropleth"
           }
          ],
          "contour": [
           {
            "colorbar": {
             "outlinewidth": 0,
             "ticks": ""
            },
            "colorscale": [
             [
              0,
              "#0d0887"
             ],
             [
              0.1111111111111111,
              "#46039f"
             ],
             [
              0.2222222222222222,
              "#7201a8"
             ],
             [
              0.3333333333333333,
              "#9c179e"
             ],
             [
              0.4444444444444444,
              "#bd3786"
             ],
             [
              0.5555555555555556,
              "#d8576b"
             ],
             [
              0.6666666666666666,
              "#ed7953"
             ],
             [
              0.7777777777777778,
              "#fb9f3a"
             ],
             [
              0.8888888888888888,
              "#fdca26"
             ],
             [
              1,
              "#f0f921"
             ]
            ],
            "type": "contour"
           }
          ],
          "contourcarpet": [
           {
            "colorbar": {
             "outlinewidth": 0,
             "ticks": ""
            },
            "type": "contourcarpet"
           }
          ],
          "heatmap": [
           {
            "colorbar": {
             "outlinewidth": 0,
             "ticks": ""
            },
            "colorscale": [
             [
              0,
              "#0d0887"
             ],
             [
              0.1111111111111111,
              "#46039f"
             ],
             [
              0.2222222222222222,
              "#7201a8"
             ],
             [
              0.3333333333333333,
              "#9c179e"
             ],
             [
              0.4444444444444444,
              "#bd3786"
             ],
             [
              0.5555555555555556,
              "#d8576b"
             ],
             [
              0.6666666666666666,
              "#ed7953"
             ],
             [
              0.7777777777777778,
              "#fb9f3a"
             ],
             [
              0.8888888888888888,
              "#fdca26"
             ],
             [
              1,
              "#f0f921"
             ]
            ],
            "type": "heatmap"
           }
          ],
          "histogram": [
           {
            "marker": {
             "pattern": {
              "fillmode": "overlay",
              "size": 10,
              "solidity": 0.2
             }
            },
            "type": "histogram"
           }
          ],
          "histogram2d": [
           {
            "colorbar": {
             "outlinewidth": 0,
             "ticks": ""
            },
            "colorscale": [
             [
              0,
              "#0d0887"
             ],
             [
              0.1111111111111111,
              "#46039f"
             ],
             [
              0.2222222222222222,
              "#7201a8"
             ],
             [
              0.3333333333333333,
              "#9c179e"
             ],
             [
              0.4444444444444444,
              "#bd3786"
             ],
             [
              0.5555555555555556,
              "#d8576b"
             ],
             [
              0.6666666666666666,
              "#ed7953"
             ],
             [
              0.7777777777777778,
              "#fb9f3a"
             ],
             [
              0.8888888888888888,
              "#fdca26"
             ],
             [
              1,
              "#f0f921"
             ]
            ],
            "type": "histogram2d"
           }
          ],
          "histogram2dcontour": [
           {
            "colorbar": {
             "outlinewidth": 0,
             "ticks": ""
            },
            "colorscale": [
             [
              0,
              "#0d0887"
             ],
             [
              0.1111111111111111,
              "#46039f"
             ],
             [
              0.2222222222222222,
              "#7201a8"
             ],
             [
              0.3333333333333333,
              "#9c179e"
             ],
             [
              0.4444444444444444,
              "#bd3786"
             ],
             [
              0.5555555555555556,
              "#d8576b"
             ],
             [
              0.6666666666666666,
              "#ed7953"
             ],
             [
              0.7777777777777778,
              "#fb9f3a"
             ],
             [
              0.8888888888888888,
              "#fdca26"
             ],
             [
              1,
              "#f0f921"
             ]
            ],
            "type": "histogram2dcontour"
           }
          ],
          "mesh3d": [
           {
            "colorbar": {
             "outlinewidth": 0,
             "ticks": ""
            },
            "type": "mesh3d"
           }
          ],
          "parcoords": [
           {
            "line": {
             "colorbar": {
              "outlinewidth": 0,
              "ticks": ""
             }
            },
            "type": "parcoords"
           }
          ],
          "pie": [
           {
            "automargin": true,
            "type": "pie"
           }
          ],
          "scatter": [
           {
            "fillpattern": {
             "fillmode": "overlay",
             "size": 10,
             "solidity": 0.2
            },
            "type": "scatter"
           }
          ],
          "scatter3d": [
           {
            "line": {
             "colorbar": {
              "outlinewidth": 0,
              "ticks": ""
             }
            },
            "marker": {
             "colorbar": {
              "outlinewidth": 0,
              "ticks": ""
             }
            },
            "type": "scatter3d"
           }
          ],
          "scattercarpet": [
           {
            "marker": {
             "colorbar": {
              "outlinewidth": 0,
              "ticks": ""
             }
            },
            "type": "scattercarpet"
           }
          ],
          "scattergeo": [
           {
            "marker": {
             "colorbar": {
              "outlinewidth": 0,
              "ticks": ""
             }
            },
            "type": "scattergeo"
           }
          ],
          "scattergl": [
           {
            "marker": {
             "colorbar": {
              "outlinewidth": 0,
              "ticks": ""
             }
            },
            "type": "scattergl"
           }
          ],
          "scattermap": [
           {
            "marker": {
             "colorbar": {
              "outlinewidth": 0,
              "ticks": ""
             }
            },
            "type": "scattermap"
           }
          ],
          "scattermapbox": [
           {
            "marker": {
             "colorbar": {
              "outlinewidth": 0,
              "ticks": ""
             }
            },
            "type": "scattermapbox"
           }
          ],
          "scatterpolar": [
           {
            "marker": {
             "colorbar": {
              "outlinewidth": 0,
              "ticks": ""
             }
            },
            "type": "scatterpolar"
           }
          ],
          "scatterpolargl": [
           {
            "marker": {
             "colorbar": {
              "outlinewidth": 0,
              "ticks": ""
             }
            },
            "type": "scatterpolargl"
           }
          ],
          "scatterternary": [
           {
            "marker": {
             "colorbar": {
              "outlinewidth": 0,
              "ticks": ""
             }
            },
            "type": "scatterternary"
           }
          ],
          "surface": [
           {
            "colorbar": {
             "outlinewidth": 0,
             "ticks": ""
            },
            "colorscale": [
             [
              0,
              "#0d0887"
             ],
             [
              0.1111111111111111,
              "#46039f"
             ],
             [
              0.2222222222222222,
              "#7201a8"
             ],
             [
              0.3333333333333333,
              "#9c179e"
             ],
             [
              0.4444444444444444,
              "#bd3786"
             ],
             [
              0.5555555555555556,
              "#d8576b"
             ],
             [
              0.6666666666666666,
              "#ed7953"
             ],
             [
              0.7777777777777778,
              "#fb9f3a"
             ],
             [
              0.8888888888888888,
              "#fdca26"
             ],
             [
              1,
              "#f0f921"
             ]
            ],
            "type": "surface"
           }
          ],
          "table": [
           {
            "cells": {
             "fill": {
              "color": "#EBF0F8"
             },
             "line": {
              "color": "white"
             }
            },
            "header": {
             "fill": {
              "color": "#C8D4E3"
             },
             "line": {
              "color": "white"
             }
            },
            "type": "table"
           }
          ]
         },
         "layout": {
          "annotationdefaults": {
           "arrowcolor": "#2a3f5f",
           "arrowhead": 0,
           "arrowwidth": 1
          },
          "autotypenumbers": "strict",
          "coloraxis": {
           "colorbar": {
            "outlinewidth": 0,
            "ticks": ""
           }
          },
          "colorscale": {
           "diverging": [
            [
             0,
             "#8e0152"
            ],
            [
             0.1,
             "#c51b7d"
            ],
            [
             0.2,
             "#de77ae"
            ],
            [
             0.3,
             "#f1b6da"
            ],
            [
             0.4,
             "#fde0ef"
            ],
            [
             0.5,
             "#f7f7f7"
            ],
            [
             0.6,
             "#e6f5d0"
            ],
            [
             0.7,
             "#b8e186"
            ],
            [
             0.8,
             "#7fbc41"
            ],
            [
             0.9,
             "#4d9221"
            ],
            [
             1,
             "#276419"
            ]
           ],
           "sequential": [
            [
             0,
             "#0d0887"
            ],
            [
             0.1111111111111111,
             "#46039f"
            ],
            [
             0.2222222222222222,
             "#7201a8"
            ],
            [
             0.3333333333333333,
             "#9c179e"
            ],
            [
             0.4444444444444444,
             "#bd3786"
            ],
            [
             0.5555555555555556,
             "#d8576b"
            ],
            [
             0.6666666666666666,
             "#ed7953"
            ],
            [
             0.7777777777777778,
             "#fb9f3a"
            ],
            [
             0.8888888888888888,
             "#fdca26"
            ],
            [
             1,
             "#f0f921"
            ]
           ],
           "sequentialminus": [
            [
             0,
             "#0d0887"
            ],
            [
             0.1111111111111111,
             "#46039f"
            ],
            [
             0.2222222222222222,
             "#7201a8"
            ],
            [
             0.3333333333333333,
             "#9c179e"
            ],
            [
             0.4444444444444444,
             "#bd3786"
            ],
            [
             0.5555555555555556,
             "#d8576b"
            ],
            [
             0.6666666666666666,
             "#ed7953"
            ],
            [
             0.7777777777777778,
             "#fb9f3a"
            ],
            [
             0.8888888888888888,
             "#fdca26"
            ],
            [
             1,
             "#f0f921"
            ]
           ]
          },
          "colorway": [
           "#636efa",
           "#EF553B",
           "#00cc96",
           "#ab63fa",
           "#FFA15A",
           "#19d3f3",
           "#FF6692",
           "#B6E880",
           "#FF97FF",
           "#FECB52"
          ],
          "font": {
           "color": "#2a3f5f"
          },
          "geo": {
           "bgcolor": "white",
           "lakecolor": "white",
           "landcolor": "#E5ECF6",
           "showlakes": true,
           "showland": true,
           "subunitcolor": "white"
          },
          "hoverlabel": {
           "align": "left"
          },
          "hovermode": "closest",
          "mapbox": {
           "style": "light"
          },
          "paper_bgcolor": "white",
          "plot_bgcolor": "#E5ECF6",
          "polar": {
           "angularaxis": {
            "gridcolor": "white",
            "linecolor": "white",
            "ticks": ""
           },
           "bgcolor": "#E5ECF6",
           "radialaxis": {
            "gridcolor": "white",
            "linecolor": "white",
            "ticks": ""
           }
          },
          "scene": {
           "xaxis": {
            "backgroundcolor": "#E5ECF6",
            "gridcolor": "white",
            "gridwidth": 2,
            "linecolor": "white",
            "showbackground": true,
            "ticks": "",
            "zerolinecolor": "white"
           },
           "yaxis": {
            "backgroundcolor": "#E5ECF6",
            "gridcolor": "white",
            "gridwidth": 2,
            "linecolor": "white",
            "showbackground": true,
            "ticks": "",
            "zerolinecolor": "white"
           },
           "zaxis": {
            "backgroundcolor": "#E5ECF6",
            "gridcolor": "white",
            "gridwidth": 2,
            "linecolor": "white",
            "showbackground": true,
            "ticks": "",
            "zerolinecolor": "white"
           }
          },
          "shapedefaults": {
           "line": {
            "color": "#2a3f5f"
           }
          },
          "ternary": {
           "aaxis": {
            "gridcolor": "white",
            "linecolor": "white",
            "ticks": ""
           },
           "baxis": {
            "gridcolor": "white",
            "linecolor": "white",
            "ticks": ""
           },
           "bgcolor": "#E5ECF6",
           "caxis": {
            "gridcolor": "white",
            "linecolor": "white",
            "ticks": ""
           }
          },
          "title": {
           "x": 0.05
          },
          "xaxis": {
           "automargin": true,
           "gridcolor": "white",
           "linecolor": "white",
           "ticks": "",
           "title": {
            "standoff": 15
           },
           "zerolinecolor": "white",
           "zerolinewidth": 2
          },
          "yaxis": {
           "automargin": true,
           "gridcolor": "white",
           "linecolor": "white",
           "ticks": "",
           "title": {
            "standoff": 15
           },
           "zerolinecolor": "white",
           "zerolinewidth": 2
          }
         }
        },
        "title": {
         "text": "Input marginal probabilities"
        },
        "xaxis": {
         "anchor": "y",
         "domain": [
          0,
          1
         ],
         "title": {
          "text": "x"
         }
        },
        "yaxis": {
         "anchor": "x",
         "domain": [
          0,
          1
         ],
         "title": {
          "text": "y"
         }
        }
       }
      }
     },
     "metadata": {},
     "output_type": "display_data"
    },
    {
     "data": {
      "application/vnd.plotly.v1+json": {
       "config": {
        "plotlyServerURL": "https://plot.ly"
       },
       "data": [
        {
         "hovertemplate": "x=%{x}<br>y=%{y}<extra></extra>",
         "legendgroup": "",
         "marker": {
          "color": "#636efa",
          "pattern": {
           "shape": ""
          }
         },
         "name": "",
         "orientation": "v",
         "showlegend": false,
         "textposition": "auto",
         "type": "bar",
         "x": [
          "ZOLPIDEM",
          "WARFARIN",
          "VALSARTAN",
          "TRAMADOL",
          "TAMSULOSIN",
          "SIMVASTATIN",
          "SERTRALINE",
          "ROSUVASTATIN",
          "RANITIDINE",
          "PREDNISONE",
          "PRAVASTATIN",
          "POTASSIUM CHLORIDE",
          "PIOGLITAZONE",
          "OMEPRAZOLE",
          "MONTELUKAST",
          "METOPROLOL",
          "METFORMIN",
          "LOVASTATIN",
          "LOSARTAN",
          "LISINOPRIL",
          "LEVOTHYROXINE",
          "INSULIN GLARGINE",
          "IBUPROFEN",
          "HYDROCHLOROTHIAZIDE",
          "GLIPIZIDE",
          "GABAPENTIN",
          "FUROSEMIDE",
          "FLUTICASONE NASAL",
          "FEXOFENADINE",
          "ESOMEPRAZOLE",
          "CLOPIDOGREL",
          "CITALOPRAM",
          "CARVEDILOL",
          "ATORVASTATIN",
          "ATENOLOL",
          "ASPIRIN",
          "AMLODIPINE",
          "ALLOPURINOL",
          "ALENDRONATE",
          "ALBUTEROL"
         ],
         "xaxis": "x",
         "y": {
          "bdata": "1BBV+DO8uT/2JRsPtti9PwUx0LUvoLs/cEG2LF+XuT8dVyO70jK6P69cb5upELs/NnNIaqFkuj+7nX3lQXq6P99vtOOG37U/AWxAhLhyuj8O3IE65dG5PyGsxhLWxrg/tHOaBdodtj8eqFMe3Qi7P7lRZK2h1Lo/zXaFPljGuj82scBXdOu5P/jgtUsbDrs/hxkaTwRxuj/RQZdw6C26P6pHGtzWFrY/mQ8IdCZtuj/pQxfUt8y5P+GX+nlTkbo/2nQEcLN4uT/rrYGtEiy6P6eyKOyi6Lk/ABx79lymuj9vnX+77Ne5P9Ul4xjJHrk/ZqAy/n3GuT8+srlqniO6P7a/sz16w7k/NnNIaqFkuj/j/E0oRMC5P4AO8+UF2Ls/uKzCZoALvj8/bypSYWy5P5rQJLGk3Lk/DhR4J58euz8=",
          "dtype": "f8"
         },
         "yaxis": "y"
        }
       ],
       "layout": {
        "barmode": "relative",
        "legend": {
         "tracegroupgap": 0
        },
        "template": {
         "data": {
          "bar": [
           {
            "error_x": {
             "color": "#2a3f5f"
            },
            "error_y": {
             "color": "#2a3f5f"
            },
            "marker": {
             "line": {
              "color": "#E5ECF6",
              "width": 0.5
             },
             "pattern": {
              "fillmode": "overlay",
              "size": 10,
              "solidity": 0.2
             }
            },
            "type": "bar"
           }
          ],
          "barpolar": [
           {
            "marker": {
             "line": {
              "color": "#E5ECF6",
              "width": 0.5
             },
             "pattern": {
              "fillmode": "overlay",
              "size": 10,
              "solidity": 0.2
             }
            },
            "type": "barpolar"
           }
          ],
          "carpet": [
           {
            "aaxis": {
             "endlinecolor": "#2a3f5f",
             "gridcolor": "white",
             "linecolor": "white",
             "minorgridcolor": "white",
             "startlinecolor": "#2a3f5f"
            },
            "baxis": {
             "endlinecolor": "#2a3f5f",
             "gridcolor": "white",
             "linecolor": "white",
             "minorgridcolor": "white",
             "startlinecolor": "#2a3f5f"
            },
            "type": "carpet"
           }
          ],
          "choropleth": [
           {
            "colorbar": {
             "outlinewidth": 0,
             "ticks": ""
            },
            "type": "choropleth"
           }
          ],
          "contour": [
           {
            "colorbar": {
             "outlinewidth": 0,
             "ticks": ""
            },
            "colorscale": [
             [
              0,
              "#0d0887"
             ],
             [
              0.1111111111111111,
              "#46039f"
             ],
             [
              0.2222222222222222,
              "#7201a8"
             ],
             [
              0.3333333333333333,
              "#9c179e"
             ],
             [
              0.4444444444444444,
              "#bd3786"
             ],
             [
              0.5555555555555556,
              "#d8576b"
             ],
             [
              0.6666666666666666,
              "#ed7953"
             ],
             [
              0.7777777777777778,
              "#fb9f3a"
             ],
             [
              0.8888888888888888,
              "#fdca26"
             ],
             [
              1,
              "#f0f921"
             ]
            ],
            "type": "contour"
           }
          ],
          "contourcarpet": [
           {
            "colorbar": {
             "outlinewidth": 0,
             "ticks": ""
            },
            "type": "contourcarpet"
           }
          ],
          "heatmap": [
           {
            "colorbar": {
             "outlinewidth": 0,
             "ticks": ""
            },
            "colorscale": [
             [
              0,
              "#0d0887"
             ],
             [
              0.1111111111111111,
              "#46039f"
             ],
             [
              0.2222222222222222,
              "#7201a8"
             ],
             [
              0.3333333333333333,
              "#9c179e"
             ],
             [
              0.4444444444444444,
              "#bd3786"
             ],
             [
              0.5555555555555556,
              "#d8576b"
             ],
             [
              0.6666666666666666,
              "#ed7953"
             ],
             [
              0.7777777777777778,
              "#fb9f3a"
             ],
             [
              0.8888888888888888,
              "#fdca26"
             ],
             [
              1,
              "#f0f921"
             ]
            ],
            "type": "heatmap"
           }
          ],
          "histogram": [
           {
            "marker": {
             "pattern": {
              "fillmode": "overlay",
              "size": 10,
              "solidity": 0.2
             }
            },
            "type": "histogram"
           }
          ],
          "histogram2d": [
           {
            "colorbar": {
             "outlinewidth": 0,
             "ticks": ""
            },
            "colorscale": [
             [
              0,
              "#0d0887"
             ],
             [
              0.1111111111111111,
              "#46039f"
             ],
             [
              0.2222222222222222,
              "#7201a8"
             ],
             [
              0.3333333333333333,
              "#9c179e"
             ],
             [
              0.4444444444444444,
              "#bd3786"
             ],
             [
              0.5555555555555556,
              "#d8576b"
             ],
             [
              0.6666666666666666,
              "#ed7953"
             ],
             [
              0.7777777777777778,
              "#fb9f3a"
             ],
             [
              0.8888888888888888,
              "#fdca26"
             ],
             [
              1,
              "#f0f921"
             ]
            ],
            "type": "histogram2d"
           }
          ],
          "histogram2dcontour": [
           {
            "colorbar": {
             "outlinewidth": 0,
             "ticks": ""
            },
            "colorscale": [
             [
              0,
              "#0d0887"
             ],
             [
              0.1111111111111111,
              "#46039f"
             ],
             [
              0.2222222222222222,
              "#7201a8"
             ],
             [
              0.3333333333333333,
              "#9c179e"
             ],
             [
              0.4444444444444444,
              "#bd3786"
             ],
             [
              0.5555555555555556,
              "#d8576b"
             ],
             [
              0.6666666666666666,
              "#ed7953"
             ],
             [
              0.7777777777777778,
              "#fb9f3a"
             ],
             [
              0.8888888888888888,
              "#fdca26"
             ],
             [
              1,
              "#f0f921"
             ]
            ],
            "type": "histogram2dcontour"
           }
          ],
          "mesh3d": [
           {
            "colorbar": {
             "outlinewidth": 0,
             "ticks": ""
            },
            "type": "mesh3d"
           }
          ],
          "parcoords": [
           {
            "line": {
             "colorbar": {
              "outlinewidth": 0,
              "ticks": ""
             }
            },
            "type": "parcoords"
           }
          ],
          "pie": [
           {
            "automargin": true,
            "type": "pie"
           }
          ],
          "scatter": [
           {
            "fillpattern": {
             "fillmode": "overlay",
             "size": 10,
             "solidity": 0.2
            },
            "type": "scatter"
           }
          ],
          "scatter3d": [
           {
            "line": {
             "colorbar": {
              "outlinewidth": 0,
              "ticks": ""
             }
            },
            "marker": {
             "colorbar": {
              "outlinewidth": 0,
              "ticks": ""
             }
            },
            "type": "scatter3d"
           }
          ],
          "scattercarpet": [
           {
            "marker": {
             "colorbar": {
              "outlinewidth": 0,
              "ticks": ""
             }
            },
            "type": "scattercarpet"
           }
          ],
          "scattergeo": [
           {
            "marker": {
             "colorbar": {
              "outlinewidth": 0,
              "ticks": ""
             }
            },
            "type": "scattergeo"
           }
          ],
          "scattergl": [
           {
            "marker": {
             "colorbar": {
              "outlinewidth": 0,
              "ticks": ""
             }
            },
            "type": "scattergl"
           }
          ],
          "scattermap": [
           {
            "marker": {
             "colorbar": {
              "outlinewidth": 0,
              "ticks": ""
             }
            },
            "type": "scattermap"
           }
          ],
          "scattermapbox": [
           {
            "marker": {
             "colorbar": {
              "outlinewidth": 0,
              "ticks": ""
             }
            },
            "type": "scattermapbox"
           }
          ],
          "scatterpolar": [
           {
            "marker": {
             "colorbar": {
              "outlinewidth": 0,
              "ticks": ""
             }
            },
            "type": "scatterpolar"
           }
          ],
          "scatterpolargl": [
           {
            "marker": {
             "colorbar": {
              "outlinewidth": 0,
              "ticks": ""
             }
            },
            "type": "scatterpolargl"
           }
          ],
          "scatterternary": [
           {
            "marker": {
             "colorbar": {
              "outlinewidth": 0,
              "ticks": ""
             }
            },
            "type": "scatterternary"
           }
          ],
          "surface": [
           {
            "colorbar": {
             "outlinewidth": 0,
             "ticks": ""
            },
            "colorscale": [
             [
              0,
              "#0d0887"
             ],
             [
              0.1111111111111111,
              "#46039f"
             ],
             [
              0.2222222222222222,
              "#7201a8"
             ],
             [
              0.3333333333333333,
              "#9c179e"
             ],
             [
              0.4444444444444444,
              "#bd3786"
             ],
             [
              0.5555555555555556,
              "#d8576b"
             ],
             [
              0.6666666666666666,
              "#ed7953"
             ],
             [
              0.7777777777777778,
              "#fb9f3a"
             ],
             [
              0.8888888888888888,
              "#fdca26"
             ],
             [
              1,
              "#f0f921"
             ]
            ],
            "type": "surface"
           }
          ],
          "table": [
           {
            "cells": {
             "fill": {
              "color": "#EBF0F8"
             },
             "line": {
              "color": "white"
             }
            },
            "header": {
             "fill": {
              "color": "#C8D4E3"
             },
             "line": {
              "color": "white"
             }
            },
            "type": "table"
           }
          ]
         },
         "layout": {
          "annotationdefaults": {
           "arrowcolor": "#2a3f5f",
           "arrowhead": 0,
           "arrowwidth": 1
          },
          "autotypenumbers": "strict",
          "coloraxis": {
           "colorbar": {
            "outlinewidth": 0,
            "ticks": ""
           }
          },
          "colorscale": {
           "diverging": [
            [
             0,
             "#8e0152"
            ],
            [
             0.1,
             "#c51b7d"
            ],
            [
             0.2,
             "#de77ae"
            ],
            [
             0.3,
             "#f1b6da"
            ],
            [
             0.4,
             "#fde0ef"
            ],
            [
             0.5,
             "#f7f7f7"
            ],
            [
             0.6,
             "#e6f5d0"
            ],
            [
             0.7,
             "#b8e186"
            ],
            [
             0.8,
             "#7fbc41"
            ],
            [
             0.9,
             "#4d9221"
            ],
            [
             1,
             "#276419"
            ]
           ],
           "sequential": [
            [
             0,
             "#0d0887"
            ],
            [
             0.1111111111111111,
             "#46039f"
            ],
            [
             0.2222222222222222,
             "#7201a8"
            ],
            [
             0.3333333333333333,
             "#9c179e"
            ],
            [
             0.4444444444444444,
             "#bd3786"
            ],
            [
             0.5555555555555556,
             "#d8576b"
            ],
            [
             0.6666666666666666,
             "#ed7953"
            ],
            [
             0.7777777777777778,
             "#fb9f3a"
            ],
            [
             0.8888888888888888,
             "#fdca26"
            ],
            [
             1,
             "#f0f921"
            ]
           ],
           "sequentialminus": [
            [
             0,
             "#0d0887"
            ],
            [
             0.1111111111111111,
             "#46039f"
            ],
            [
             0.2222222222222222,
             "#7201a8"
            ],
            [
             0.3333333333333333,
             "#9c179e"
            ],
            [
             0.4444444444444444,
             "#bd3786"
            ],
            [
             0.5555555555555556,
             "#d8576b"
            ],
            [
             0.6666666666666666,
             "#ed7953"
            ],
            [
             0.7777777777777778,
             "#fb9f3a"
            ],
            [
             0.8888888888888888,
             "#fdca26"
            ],
            [
             1,
             "#f0f921"
            ]
           ]
          },
          "colorway": [
           "#636efa",
           "#EF553B",
           "#00cc96",
           "#ab63fa",
           "#FFA15A",
           "#19d3f3",
           "#FF6692",
           "#B6E880",
           "#FF97FF",
           "#FECB52"
          ],
          "font": {
           "color": "#2a3f5f"
          },
          "geo": {
           "bgcolor": "white",
           "lakecolor": "white",
           "landcolor": "#E5ECF6",
           "showlakes": true,
           "showland": true,
           "subunitcolor": "white"
          },
          "hoverlabel": {
           "align": "left"
          },
          "hovermode": "closest",
          "mapbox": {
           "style": "light"
          },
          "paper_bgcolor": "white",
          "plot_bgcolor": "#E5ECF6",
          "polar": {
           "angularaxis": {
            "gridcolor": "white",
            "linecolor": "white",
            "ticks": ""
           },
           "bgcolor": "#E5ECF6",
           "radialaxis": {
            "gridcolor": "white",
            "linecolor": "white",
            "ticks": ""
           }
          },
          "scene": {
           "xaxis": {
            "backgroundcolor": "#E5ECF6",
            "gridcolor": "white",
            "gridwidth": 2,
            "linecolor": "white",
            "showbackground": true,
            "ticks": "",
            "zerolinecolor": "white"
           },
           "yaxis": {
            "backgroundcolor": "#E5ECF6",
            "gridcolor": "white",
            "gridwidth": 2,
            "linecolor": "white",
            "showbackground": true,
            "ticks": "",
            "zerolinecolor": "white"
           },
           "zaxis": {
            "backgroundcolor": "#E5ECF6",
            "gridcolor": "white",
            "gridwidth": 2,
            "linecolor": "white",
            "showbackground": true,
            "ticks": "",
            "zerolinecolor": "white"
           }
          },
          "shapedefaults": {
           "line": {
            "color": "#2a3f5f"
           }
          },
          "ternary": {
           "aaxis": {
            "gridcolor": "white",
            "linecolor": "white",
            "ticks": ""
           },
           "baxis": {
            "gridcolor": "white",
            "linecolor": "white",
            "ticks": ""
           },
           "bgcolor": "#E5ECF6",
           "caxis": {
            "gridcolor": "white",
            "linecolor": "white",
            "ticks": ""
           }
          },
          "title": {
           "x": 0.05
          },
          "xaxis": {
           "automargin": true,
           "gridcolor": "white",
           "linecolor": "white",
           "ticks": "",
           "title": {
            "standoff": 15
           },
           "zerolinecolor": "white",
           "zerolinewidth": 2
          },
          "yaxis": {
           "automargin": true,
           "gridcolor": "white",
           "linecolor": "white",
           "ticks": "",
           "title": {
            "standoff": 15
           },
           "zerolinecolor": "white",
           "zerolinewidth": 2
          }
         }
        },
        "title": {
         "text": "Sampled marginal probabilities"
        },
        "xaxis": {
         "anchor": "y",
         "categoryarray": [
          "ZOLPIDEM",
          "WARFARIN",
          "VALSARTAN",
          "TRAMADOL",
          "TAMSULOSIN",
          "SIMVASTATIN",
          "SERTRALINE",
          "ROSUVASTATIN",
          "RANITIDINE",
          "PREDNISONE",
          "PRAVASTATIN",
          "POTASSIUM CHLORIDE",
          "PIOGLITAZONE",
          "OMEPRAZOLE",
          "MONTELUKAST",
          "METOPROLOL",
          "METFORMIN",
          "LOVASTATIN",
          "LOSARTAN",
          "LISINOPRIL",
          "LEVOTHYROXINE",
          "INSULIN GLARGINE",
          "IBUPROFEN",
          "HYDROCHLOROTHIAZIDE",
          "GLIPIZIDE",
          "GABAPENTIN",
          "FUROSEMIDE",
          "FLUTICASONE NASAL",
          "FEXOFENADINE",
          "ESOMEPRAZOLE",
          "CLOPIDOGREL",
          "CITALOPRAM",
          "CARVEDILOL",
          "ATORVASTATIN",
          "ATENOLOL",
          "ASPIRIN",
          "AMLODIPINE",
          "ALLOPURINOL",
          "ALENDRONATE",
          "ALBUTEROL"
         ],
         "categoryorder": "array",
         "domain": [
          0,
          1
         ],
         "title": {
          "text": "x"
         }
        },
        "yaxis": {
         "anchor": "x",
         "domain": [
          0,
          1
         ],
         "title": {
          "text": "y"
         }
        }
       }
      }
     },
     "metadata": {},
     "output_type": "display_data"
    }
   ],
   "source": [
    "feature_probs = np.loadtxt('feat_probs_all_equal_0.7.csv', delimiter=',')\n",
    "\n",
    "nsamples = 1000000\n",
    "sample_3, mu, sigma = generate_multivariate_binary(40, nsamples, feature_probs, correlation_matrix)\n",
    "sample_3 = filter_rows(sample_3, mu, sigma, nsamples)\n",
    "visualize(sample_3)"
   ]
  }
 ],
 "metadata": {
  "kernelspec": {
   "display_name": "Python 3",
   "language": "python",
   "name": "python3"
  },
  "language_info": {
   "codemirror_mode": {
    "name": "ipython",
    "version": 3
   },
   "file_extension": ".py",
   "mimetype": "text/x-python",
   "name": "python",
   "nbconvert_exporter": "python",
   "pygments_lexer": "ipython3",
   "version": "3.9.6"
  }
 },
 "nbformat": 4,
 "nbformat_minor": 2
}
