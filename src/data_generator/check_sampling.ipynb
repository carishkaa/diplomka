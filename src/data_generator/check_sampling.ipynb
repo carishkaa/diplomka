{
 "cells": [
  {
   "cell_type": "code",
   "execution_count": 2,
   "metadata": {},
   "outputs": [],
   "source": [
    "import bindata as bnd\n",
    "import pandas as pd\n",
    "import numpy as np\n",
    "capsules = pd.read_csv('../../data/capsules_with_freq.csv', sep=';')\n",
    "drug_names_unique = capsules[['Drug_1', 'Drug_2', 'Drug_3', 'Drug_4', 'Drug_5', 'Drug_6', 'Drug_7', 'Drug_8']].stack().unique()\n",
    "# normalize capsules['exact_exposure_count] to 0, 100\n",
    "capsules['exact_exposure_count'] = capsules['exact_exposure_count'].replace('<100', 100)\n",
    "capsules['exact_exposure_count'] = capsules['exact_exposure_count'].replace('1', 100)\n",
    "capsules['exact_exposure_count'] = capsules['exact_exposure_count'].astype(int)\n",
    "capsules['exact_exposure_count'] = capsules['exact_exposure_count'] / (capsules['exact_exposure_count']).max() * 20000\n",
    "capsules['exact_exposure_count'] = capsules['exact_exposure_count'].astype(int) + 1\n",
    "\n",
    "# Restructure the data (columns are drugs and rows are patients, values are 0 or 1)\n",
    "data = []\n",
    "for i, row in capsules.iterrows():\n",
    "    patient_data = []\n",
    "    for drug in drug_names_unique:\n",
    "        patient_data.append(int(drug in row.values))\n",
    "    \n",
    "    # data.append(patient_data)\n",
    "    data.extend([patient_data] * row['exact_exposure_count'])\n",
    "\n",
    "index = [f\"comb{i}\" for i in range(len(data))]\n",
    "data = pd.DataFrame(data, columns=drug_names_unique, dtype=int, index=index)\n",
    "data.head()\n",
    "data.shape\n",
    "\n",
    "feature_probs = np.mean(data, axis=0)\n",
    "feature_probs = np.loadtxt('feat_probs_steep.csv', delimiter=',')\n",
    "\n",
    "\n",
    "correlation_matrix = np.corrcoef(data, rowvar=False) # correlation, same as (np.cov(X,Y)[0,1]/(np.std(X,ddof=1)*np.std(Y,ddof=1)))\n",
    "correlation_matrix = np.ceil(correlation_matrix * 1e12) / 1e12\n",
    "# store feat_probs and correlation_matrix csv\n",
    "# np.savetxt('feat_probs.csv', feature_probs, delimiter=',')\n",
    "# np.savetxt('correlation_matrix.csv', correlation_matrix, delimiter=',')"
   ]
  },
  {
   "cell_type": "code",
   "execution_count": 4,
   "metadata": {},
   "outputs": [
    {
     "name": "stderr",
     "output_type": "stream",
     "text": [
      "/Users/karina/Library/Python/3.9/lib/python/site-packages/bindata/check_commonprob.py:81: UserWarning: simulvals provided is not computed to a sufficient resolution\n",
      "to resolve the common probabilies provided in commonprob.\n",
      "\n",
      "\n",
      "INTERPOLATION IS GOING TO BE USED.\n",
      "\n",
      "Consider computing simulvals on a finer grid.\n",
      "The current resolution is on these points:\n",
      "[(0, 0), (0, 0.001), (0, 0.01), (0, np.float64(0.05)), (0, np.float64(0.1)), (0, np.float64(0.15)), (0, np.float64(0.2)), (0, np.float64(0.25)), (0, np.float64(0.3)), (0, np.float64(0.35)), (0, np.float64(0.4)), (0, np.float64(0.45)), (0, np.float64(0.5)), (0, np.float64(0.55)), (0, np.float64(0.6)), (0, np.float64(0.65)), (0, np.float64(0.7)), (0, np.float64(0.75)), (0, np.float64(0.8)), (0, np.float64(0.85)), (0, np.float64(0.9)), (0, np.float64(0.95)), (0, 0.99), (0, 0.999), (0, 1), (0.001, 0.001), (0.001, 0.01), (0.001, np.float64(0.05)), (0.001, np.float64(0.1)), (0.001, np.float64(0.15)), (0.001, np.float64(0.2)), (0.001, np.float64(0.25)), (0.001, np.float64(0.3)), (0.001, np.float64(0.35)), (0.001, np.float64(0.4)), (0.001, np.float64(0.45)), (0.001, np.float64(0.5)), (0.001, np.float64(0.55)), (0.001, np.float64(0.6)), (0.001, np.float64(0.65)), (0.001, np.float64(0.7)), (0.001, np.float64(0.75)), (0.001, np.float64(0.8)), (0.001, np.float64(0.85)), (0.001, np.float64(0.9)), (0.001, np.float64(0.95)), (0.001, 0.99), (0.001, 0.999), (0.001, 1), (0.01, 0.01), (0.01, np.float64(0.05)), (0.01, np.float64(0.1)), (0.01, np.float64(0.15)), (0.01, np.float64(0.2)), (0.01, np.float64(0.25)), (0.01, np.float64(0.3)), (0.01, np.float64(0.35)), (0.01, np.float64(0.4)), (0.01, np.float64(0.45)), (0.01, np.float64(0.5)), (0.01, np.float64(0.55)), (0.01, np.float64(0.6)), (0.01, np.float64(0.65)), (0.01, np.float64(0.7)), (0.01, np.float64(0.75)), (0.01, np.float64(0.8)), (0.01, np.float64(0.85)), (0.01, np.float64(0.9)), (0.01, np.float64(0.95)), (0.01, 0.99), (0.01, 0.999), (0.01, 1), (np.float64(0.05), np.float64(0.05)), (np.float64(0.05), np.float64(0.1)), (np.float64(0.05), np.float64(0.15)), (np.float64(0.05), np.float64(0.2)), (np.float64(0.05), np.float64(0.25)), (np.float64(0.05), np.float64(0.3)), (np.float64(0.05), np.float64(0.35)), (np.float64(0.05), np.float64(0.4)), (np.float64(0.05), np.float64(0.45)), (np.float64(0.05), np.float64(0.5)), (np.float64(0.05), np.float64(0.55)), (np.float64(0.05), np.float64(0.6)), (np.float64(0.05), np.float64(0.65)), (np.float64(0.05), np.float64(0.7)), (np.float64(0.05), np.float64(0.75)), (np.float64(0.05), np.float64(0.8)), (np.float64(0.05), np.float64(0.85)), (np.float64(0.05), np.float64(0.9)), (np.float64(0.05), np.float64(0.95)), (np.float64(0.05), 0.99), (np.float64(0.05), 0.999), (np.float64(0.05), 1), (np.float64(0.1), np.float64(0.1)), (np.float64(0.1), np.float64(0.15)), (np.float64(0.1), np.float64(0.2)), (np.float64(0.1), np.float64(0.25)), (np.float64(0.1), np.float64(0.3)), (np.float64(0.1), np.float64(0.35)), (np.float64(0.1), np.float64(0.4)), (np.float64(0.1), np.float64(0.45)), (np.float64(0.1), np.float64(0.5)), (np.float64(0.1), np.float64(0.55)), (np.float64(0.1), np.float64(0.6)), (np.float64(0.1), np.float64(0.65)), (np.float64(0.1), np.float64(0.7)), (np.float64(0.1), np.float64(0.75)), (np.float64(0.1), np.float64(0.8)), (np.float64(0.1), np.float64(0.85)), (np.float64(0.1), np.float64(0.9)), (np.float64(0.1), np.float64(0.95)), (np.float64(0.1), 0.99), (np.float64(0.1), 0.999), (np.float64(0.1), 1), (np.float64(0.15), np.float64(0.15)), (np.float64(0.15), np.float64(0.2)), (np.float64(0.15), np.float64(0.25)), (np.float64(0.15), np.float64(0.3)), (np.float64(0.15), np.float64(0.35)), (np.float64(0.15), np.float64(0.4)), (np.float64(0.15), np.float64(0.45)), (np.float64(0.15), np.float64(0.5)), (np.float64(0.15), np.float64(0.55)), (np.float64(0.15), np.float64(0.6)), (np.float64(0.15), np.float64(0.65)), (np.float64(0.15), np.float64(0.7)), (np.float64(0.15), np.float64(0.75)), (np.float64(0.15), np.float64(0.8)), (np.float64(0.15), np.float64(0.85)), (np.float64(0.15), np.float64(0.9)), (np.float64(0.15), np.float64(0.95)), (np.float64(0.15), 0.99), (np.float64(0.15), 0.999), (np.float64(0.15), 1), (np.float64(0.2), np.float64(0.2)), (np.float64(0.2), np.float64(0.25)), (np.float64(0.2), np.float64(0.3)), (np.float64(0.2), np.float64(0.35)), (np.float64(0.2), np.float64(0.4)), (np.float64(0.2), np.float64(0.45)), (np.float64(0.2), np.float64(0.5)), (np.float64(0.2), np.float64(0.55)), (np.float64(0.2), np.float64(0.6)), (np.float64(0.2), np.float64(0.65)), (np.float64(0.2), np.float64(0.7)), (np.float64(0.2), np.float64(0.75)), (np.float64(0.2), np.float64(0.8)), (np.float64(0.2), np.float64(0.85)), (np.float64(0.2), np.float64(0.9)), (np.float64(0.2), np.float64(0.95)), (np.float64(0.2), 0.99), (np.float64(0.2), 0.999), (np.float64(0.2), 1), (np.float64(0.25), np.float64(0.25)), (np.float64(0.25), np.float64(0.3)), (np.float64(0.25), np.float64(0.35)), (np.float64(0.25), np.float64(0.4)), (np.float64(0.25), np.float64(0.45)), (np.float64(0.25), np.float64(0.5)), (np.float64(0.25), np.float64(0.55)), (np.float64(0.25), np.float64(0.6)), (np.float64(0.25), np.float64(0.65)), (np.float64(0.25), np.float64(0.7)), (np.float64(0.25), np.float64(0.75)), (np.float64(0.25), np.float64(0.8)), (np.float64(0.25), np.float64(0.85)), (np.float64(0.25), np.float64(0.9)), (np.float64(0.25), np.float64(0.95)), (np.float64(0.25), 0.99), (np.float64(0.25), 0.999), (np.float64(0.25), 1), (np.float64(0.3), np.float64(0.3)), (np.float64(0.3), np.float64(0.35)), (np.float64(0.3), np.float64(0.4)), (np.float64(0.3), np.float64(0.45)), (np.float64(0.3), np.float64(0.5)), (np.float64(0.3), np.float64(0.55)), (np.float64(0.3), np.float64(0.6)), (np.float64(0.3), np.float64(0.65)), (np.float64(0.3), np.float64(0.7)), (np.float64(0.3), np.float64(0.75)), (np.float64(0.3), np.float64(0.8)), (np.float64(0.3), np.float64(0.85)), (np.float64(0.3), np.float64(0.9)), (np.float64(0.3), np.float64(0.95)), (np.float64(0.3), 0.99), (np.float64(0.3), 0.999), (np.float64(0.3), 1), (np.float64(0.35), np.float64(0.35)), (np.float64(0.35), np.float64(0.4)), (np.float64(0.35), np.float64(0.45)), (np.float64(0.35), np.float64(0.5)), (np.float64(0.35), np.float64(0.55)), (np.float64(0.35), np.float64(0.6)), (np.float64(0.35), np.float64(0.65)), (np.float64(0.35), np.float64(0.7)), (np.float64(0.35), np.float64(0.75)), (np.float64(0.35), np.float64(0.8)), (np.float64(0.35), np.float64(0.85)), (np.float64(0.35), np.float64(0.9)), (np.float64(0.35), np.float64(0.95)), (np.float64(0.35), 0.99), (np.float64(0.35), 0.999), (np.float64(0.35), 1), (np.float64(0.4), np.float64(0.4)), (np.float64(0.4), np.float64(0.45)), (np.float64(0.4), np.float64(0.5)), (np.float64(0.4), np.float64(0.55)), (np.float64(0.4), np.float64(0.6)), (np.float64(0.4), np.float64(0.65)), (np.float64(0.4), np.float64(0.7)), (np.float64(0.4), np.float64(0.75)), (np.float64(0.4), np.float64(0.8)), (np.float64(0.4), np.float64(0.85)), (np.float64(0.4), np.float64(0.9)), (np.float64(0.4), np.float64(0.95)), (np.float64(0.4), 0.99), (np.float64(0.4), 0.999), (np.float64(0.4), 1), (np.float64(0.45), np.float64(0.45)), (np.float64(0.45), np.float64(0.5)), (np.float64(0.45), np.float64(0.55)), (np.float64(0.45), np.float64(0.6)), (np.float64(0.45), np.float64(0.65)), (np.float64(0.45), np.float64(0.7)), (np.float64(0.45), np.float64(0.75)), (np.float64(0.45), np.float64(0.8)), (np.float64(0.45), np.float64(0.85)), (np.float64(0.45), np.float64(0.9)), (np.float64(0.45), np.float64(0.95)), (np.float64(0.45), 0.99), (np.float64(0.45), 0.999), (np.float64(0.45), 1), (np.float64(0.5), np.float64(0.5)), (np.float64(0.5), np.float64(0.55)), (np.float64(0.5), np.float64(0.6)), (np.float64(0.5), np.float64(0.65)), (np.float64(0.5), np.float64(0.7)), (np.float64(0.5), np.float64(0.75)), (np.float64(0.5), np.float64(0.8)), (np.float64(0.5), np.float64(0.85)), (np.float64(0.5), np.float64(0.9)), (np.float64(0.5), np.float64(0.95)), (np.float64(0.5), 0.99), (np.float64(0.5), 0.999), (np.float64(0.5), 1), (np.float64(0.55), np.float64(0.55)), (np.float64(0.55), np.float64(0.6)), (np.float64(0.55), np.float64(0.65)), (np.float64(0.55), np.float64(0.7)), (np.float64(0.55), np.float64(0.75)), (np.float64(0.55), np.float64(0.8)), (np.float64(0.55), np.float64(0.85)), (np.float64(0.55), np.float64(0.9)), (np.float64(0.55), np.float64(0.95)), (np.float64(0.55), 0.99), (np.float64(0.55), 0.999), (np.float64(0.55), 1), (np.float64(0.6), np.float64(0.6)), (np.float64(0.6), np.float64(0.65)), (np.float64(0.6), np.float64(0.7)), (np.float64(0.6), np.float64(0.75)), (np.float64(0.6), np.float64(0.8)), (np.float64(0.6), np.float64(0.85)), (np.float64(0.6), np.float64(0.9)), (np.float64(0.6), np.float64(0.95)), (np.float64(0.6), 0.99), (np.float64(0.6), 0.999), (np.float64(0.6), 1), (np.float64(0.65), np.float64(0.65)), (np.float64(0.65), np.float64(0.7)), (np.float64(0.65), np.float64(0.75)), (np.float64(0.65), np.float64(0.8)), (np.float64(0.65), np.float64(0.85)), (np.float64(0.65), np.float64(0.9)), (np.float64(0.65), np.float64(0.95)), (np.float64(0.65), 0.99), (np.float64(0.65), 0.999), (np.float64(0.65), 1), (np.float64(0.7), np.float64(0.7)), (np.float64(0.7), np.float64(0.75)), (np.float64(0.7), np.float64(0.8)), (np.float64(0.7), np.float64(0.85)), (np.float64(0.7), np.float64(0.9)), (np.float64(0.7), np.float64(0.95)), (np.float64(0.7), 0.99), (np.float64(0.7), 0.999), (np.float64(0.7), 1), (np.float64(0.75), np.float64(0.75)), (np.float64(0.75), np.float64(0.8)), (np.float64(0.75), np.float64(0.85)), (np.float64(0.75), np.float64(0.9)), (np.float64(0.75), np.float64(0.95)), (np.float64(0.75), 0.99), (np.float64(0.75), 0.999), (np.float64(0.75), 1), (np.float64(0.8), np.float64(0.8)), (np.float64(0.8), np.float64(0.85)), (np.float64(0.8), np.float64(0.9)), (np.float64(0.8), np.float64(0.95)), (np.float64(0.8), 0.99), (np.float64(0.8), 0.999), (np.float64(0.8), 1), (np.float64(0.85), np.float64(0.85)), (np.float64(0.85), np.float64(0.9)), (np.float64(0.85), np.float64(0.95)), (np.float64(0.85), 0.99), (np.float64(0.85), 0.999), (np.float64(0.85), 1), (np.float64(0.9), np.float64(0.9)), (np.float64(0.9), np.float64(0.95)), (np.float64(0.9), 0.99), (np.float64(0.9), 0.999), (np.float64(0.9), 1), (np.float64(0.95), np.float64(0.95)), (np.float64(0.95), 0.99), (np.float64(0.95), 0.999), (np.float64(0.95), 1), (0.99, 0.99), (0.99, 0.999), (0.99, 1), (0.999, 0.999), (0.999, 1), (1, 1)]\n",
      "Alternatively round the common probabilities or correlations provided\n",
      "to fewer decimal places.\n",
      "  warnings.warn(f\"simulvals provided is not computed to a sufficient resolution\\n\"\n"
     ]
    }
   ],
   "source": [
    "from main import generate_multivariate_binary, filter_rows\n",
    "\n",
    "nsamples = 100000\n",
    "sample, mu, sigma, sample_norm = generate_multivariate_binary(40, nsamples, feature_probs, correlation_matrix)\n",
    "# sample = filter_rows(sample, mu, sigma, nsamples)"
   ]
  },
  {
   "cell_type": "code",
   "execution_count": 5,
   "metadata": {},
   "outputs": [
    {
     "name": "stdout",
     "output_type": "stream",
     "text": [
      "sum\n",
      "3    352760\n",
      "4     29011\n",
      "5      1735\n",
      "6       104\n",
      "7        26\n",
      "8         6\n",
      "Name: count, dtype: int64\n",
      "sum\n",
      "3    92032\n",
      "4     6964\n",
      "5      464\n",
      "6      376\n",
      "7      158\n",
      "8        6\n",
      "Name: count, dtype: int64\n"
     ]
    },
    {
     "data": {
      "text/plain": [
       "(99994, 40)"
      ]
     },
     "execution_count": 5,
     "metadata": {},
     "output_type": "execute_result"
    }
   ],
   "source": [
    "# group by sum \n",
    "sample = sample.astype(int)\n",
    "sampledf = pd.DataFrame(data, columns=drug_names_unique)\n",
    "sampledf['sum'] = sampledf.sum(axis=1)\n",
    "sums = sampledf['sum'].value_counts().sort_index()\n",
    "totalsum = sums.sum()\n",
    "print(sums)\n",
    "# print(sums / totalsum)\n",
    "\n",
    "sampledf = pd.DataFrame(sample, columns=drug_names_unique)\n",
    "sampledf['sum'] = sampledf.sum(axis=1)\n",
    "print(sampledf['sum'].value_counts().sort_index())\n",
    "\n",
    "sample_new = sample[np.sum(sample, axis=1) > 2]\n",
    "sample_new = sample_new[np.sum(sample_new, axis=1) <= 7]\n",
    "sample_new.shape"
   ]
  },
  {
   "cell_type": "code",
   "execution_count": 6,
   "metadata": {},
   "outputs": [],
   "source": [
    "import plotly.express as px\n",
    "def visualize(sample_data):\n",
    "    corr_with_zero_diag = np.corrcoef(data, rowvar=False) - np.eye(sample_data.shape[1])\n",
    "    fig = px.imshow(corr_with_zero_diag, x=drug_names_unique, y=drug_names_unique, zmin=-1, zmax=1, color_continuous_scale='RdBu', title='Input correlation matrix')\n",
    "    fig.show()\n",
    "    corr_with_zero_diag = np.corrcoef(sample_data, rowvar=False) - np.eye(sample_data.shape[1])\n",
    "    fig = px.imshow(corr_with_zero_diag, x=drug_names_unique, y=drug_names_unique, zmin=-1, zmax=1, color_continuous_scale='RdBu', title='Sample correlation matrix')\n",
    "    fig.show()\n",
    "\n",
    "    # sort drug_names_unique and feature_probs by feature_probs\n",
    "    drug_names_unique_sorted = [x for _, x in sorted(zip(feature_probs, drug_names_unique), reverse=True)]\n",
    "    feature_probs_sorted = sorted(feature_probs, reverse=True)\n",
    "    sample_marg_sorted = np.mean(sample_data, axis=0)[np.argsort(feature_probs)[::-1]]\n",
    "\n",
    "    fig = px.bar(x=drug_names_unique_sorted, y=feature_probs_sorted, title='Input marginal probabilities')\n",
    "    # fig.update_xaxes(categoryorder='total descending')\n",
    "    fig.show()\n",
    "    fig = px.bar(x=drug_names_unique_sorted, y=sample_marg_sorted, title='Sampled marginal probabilities')\n",
    "    # fig.update_xaxes(categoryorder='total descending') same ordering as in fig 1\n",
    "    fig.update_xaxes(categoryorder='array', categoryarray=drug_names_unique_sorted)\n",
    "    fig.show()"
   ]
  },
  {
   "cell_type": "code",
   "execution_count": 7,
   "metadata": {},
   "outputs": [
    {
     "data": {
      "application/vnd.plotly.v1+json": {
       "config": {
        "plotlyServerURL": "https://plot.ly"
       },
       "data": [
        {
         "coloraxis": "coloraxis",
         "hovertemplate": "x: %{x}<br>y: %{y}<br>color: %{z}<extra></extra>",
         "name": "0",
         "type": "heatmap",
         "x": [
          "CARVEDILOL",
          "ESOMEPRAZOLE",
          "LEVOTHYROXINE",
          "TRAMADOL",
          "AMLODIPINE",
          "METOPROLOL",
          "OMEPRAZOLE",
          "SIMVASTATIN",
          "TAMSULOSIN",
          "ALENDRONATE",
          "ATORVASTATIN",
          "LISINOPRIL",
          "LOSARTAN",
          "SERTRALINE",
          "METFORMIN",
          "PIOGLITAZONE",
          "PRAVASTATIN",
          "FUROSEMIDE",
          "POTASSIUM CHLORIDE",
          "HYDROCHLOROTHIAZIDE",
          "ATENOLOL",
          "WARFARIN",
          "ASPIRIN",
          "LOVASTATIN",
          "ALBUTEROL",
          "GLIPIZIDE",
          "RANITIDINE",
          "GABAPENTIN",
          "INSULIN GLARGINE",
          "CLOPIDOGREL",
          "ZOLPIDEM",
          "ALLOPURINOL",
          "CITALOPRAM",
          "PREDNISONE",
          "ROSUVASTATIN",
          "VALSARTAN",
          "IBUPROFEN",
          "FEXOFENADINE",
          "MONTELUKAST",
          "FLUTICASONE NASAL"
         ],
         "xaxis": "x",
         "y": [
          "CARVEDILOL",
          "ESOMEPRAZOLE",
          "LEVOTHYROXINE",
          "TRAMADOL",
          "AMLODIPINE",
          "METOPROLOL",
          "OMEPRAZOLE",
          "SIMVASTATIN",
          "TAMSULOSIN",
          "ALENDRONATE",
          "ATORVASTATIN",
          "LISINOPRIL",
          "LOSARTAN",
          "SERTRALINE",
          "METFORMIN",
          "PIOGLITAZONE",
          "PRAVASTATIN",
          "FUROSEMIDE",
          "POTASSIUM CHLORIDE",
          "HYDROCHLOROTHIAZIDE",
          "ATENOLOL",
          "WARFARIN",
          "ASPIRIN",
          "LOVASTATIN",
          "ALBUTEROL",
          "GLIPIZIDE",
          "RANITIDINE",
          "GABAPENTIN",
          "INSULIN GLARGINE",
          "CLOPIDOGREL",
          "ZOLPIDEM",
          "ALLOPURINOL",
          "CITALOPRAM",
          "PREDNISONE",
          "ROSUVASTATIN",
          "VALSARTAN",
          "IBUPROFEN",
          "FEXOFENADINE",
          "MONTELUKAST",
          "FLUTICASONE NASAL"
         ],
         "yaxis": "y",
         "z": {
          "bdata": "AAAAAAAAAADBqHGW+ChqP6l/lg8jKJa/8PkeERxvLj9W3rdsj4CWv+M0ZWHmiKy/t8htTBs7aD+rGzbuqDaxv+jsra4+EG+/620Ac53vhb+apkkW2OqPP8ArLTfqc46/As3vNTXshr/uX16rpSd5vzOdUgk5GKm/twr9B5fQgL9mcABocgWGP30lPvnm0NY/Y+8nkZGAoD8ieOMrs+K0v6Lf+3BBp5m/GoiEXq8KmD+JKyehXtNmP8Y/0b6SA4G/1asIx0E0fL/BN/tezm2Vv6crYXNYqWK/0R5wYRQiY78LTS2/gfp/P5WBSBoAibs/ghc/tkkVcL+YyoPUvixbv63WFh9xfmy/AqmmkrA7cL+i0E8qCMCsPxn9VJDw7IC/pi06YPdPY7+/Fbs3rD8/v28Lf1Zt+3y/yV4t8rNDU7/BqHGW+ChqPwAAAAAAALC8rpSyGRkwlz/UDEIJwIB+P1NaipEfx5k/3LsU3Yurkr9r33zY6cNzvyIs2alX/rC/wrKvZyxkcr8NS3HLxJp7v84jrxYb0pk/bbhqLSMntb8Q9BpSOjqGP90fbjpRhq8/OJBR3X+Umr8/Jnx3lgFiv+R3TM3OuXU/80OgU7HsfL87Qoq34aaOP3NBm34Lzqy/B4izdnN8kj/KD0d6Oct4v7xKi3rw4YE/uh8ZVrMUhL8Y1tjKrpuoP1fCub2n3I6/f/RdulXSdj+WMcedvJR+P1rMNiSgjWQ/iNx139tnkr/rwJy4WRRmv+PVRl20IWi/JmLyILSuiT+DupCssaeYPwMvVYhIvo0/o+urBkLbuT9Ax8jCIN9WP6wZpr0opF4/PgePbJRetj8qvY6dToemP6p/lg8jKJa/rpSyGRkwlz8AAAAAAAAAABOsz4edAXw/ihcelLs0uL+c3ylDFBSyv0065+vz37s/n6E9OWEkwb+M83fDiXmbvwgR2EkVCNI/c1cDQ+wpsD8RHamlLdDLv5Us1ylzCKq/Bih3ZrKvvD99MWDqrZrBv2mpyQuwSp2/rhV67z1Jmj+iitkwbfhbvxGpPBSRh3Q/7tvr0rTswL+KUWY77cOIvxH8GzoZBJC/Jop3tMEwc7+S94MFGByrP+qc6vmA1pG/ekcOmVOFsr9J7i3dwAWBP4yleD7wnlW/jSOEnzg/Yj+3PZLu5ii2v4HgjKirNrI/CBLoj9Jwkr9epE0f7WKyP3cymv1Pu4W/xOOJyn2gbr+4C1g0B0WOP5BVKrRSiIO/iA11OdOUXb+hy/cv2HGQvyVzBAAAWWc/8PkeERxvLj/TDEIJwIB+PxOsz4edAXw/AAAAAAAAAAAqZS2t3k5/P7s+gDkWq3m/ItvlWJpgnT+5nfSPWZOdv+/vMP4iFFQ/WakkrvzzbD/FRbHxdK1aP3ciogekn5y/5xdXLq2rcb9v/2wzJrapPz+R9v+yWYq/MZN+TtLOVT9XZaDe/AOVP1X8QsILAoY/eb8BWDwZfz+IKOVYJXmev7WnfGf3kmE/XVZBdFkAgD8TC/PvLTCEP6x/Ub9kg3C/thmPsqfyej+CXJkZ/T5zv49fRJVBlXw/T2eGPfQ3pD++Nz7VHxN4P+Vtn5xZtIC/Ai0xTxcmhz8Fh1SDp5poP94AoXoI62s/hpPpg4P4bj9CChvFpD2bP3ntdTgF21w/mfkVQ0f8ez8mKFAcNFpQP2vlHXRGxGW/p+V3eRQimj9W3rdsj4CWv1NaipEfx5k/ihcelLs0uL8rZS2t3k5/PwAAAAAAAAAA9b0JkqLGoz9t8FylWKurv0IvsRFOf9K/ljPjNZwnnr+ge9iXRoqgv8iAnYSg60e/bcuN/aQ5w7/LeYkaH9HQP97pROQiTmy/12o1G2Zxyr9eNhJ3KOGbv1O2ju0iZqY/VWWZvTZ2gj94iciVzD5mP5s9izttA5Q/XYFvcwLEkj9wlSO387Gbvyi0BSrg8Fu/Dy0jfrwFrL89fFdjKbiavyIoKv2SabO/ip8vSnPlYT+PltZcPW2SPx73L3J7UY+/dcej0Pkptr9ZCwhMSBCTv4qbErmf+o2/ImmcDS+Enb+8roI/wi+Qv47293N1S6c/6I9llnL1oT/PCqMHC1uBv9tlDUrmypS/beu79HTQl7+pJms4a6ZFv+M0ZWHmiKy/3LsU3Yurkr+b3ylDFBSyv7w+gDkWq3m/9b0JkqLGoz8AAAAAAAAAAI0DOf0MMba/YmD9e0tVur/2F4tcB7pxP1fmPotXBqm/10GSQ4B2wD8TbFCm82DSvxg38IsShqG/FzfT6Y14jb+GAYtci6fTvx+NXLpd4Ky/HtS6XExNlz9+s9KrXAWzP0zdaGOmdHe/xOLoWyjV0r+eq1W6GorDvz9bZKQAZbw/KNa6PgN8jz/Vq+MgiJWqvw1xrAmvxqW/GVOuCMU2vr8d5SZWDcuLv9fK4Uu5H4i/KcQ3QyNzlL/iG9u7oEjbP2j6vnqPJZ+/vkohpbfnl7/wowb4unCQvy4u9K2PKJ6/Nj6AIG4Sm7+ZJj5o+ja8Pxy65TRtNpa/y7ZC5NwNkr9qmZbH2funv8z6w1RVxmq/tshtTBs7aD9s33zY6cNzv0465+vz37s/ItvlWJpgnT9s8FylWKurv40DOf0MMba/AAAAAAAAoLzyYbyN4nGBv5pI3HaqKZU/fwUY+/DYRj+i/BnZt4qWP8ELntPTWry/mhwiZsLzlD+OM+d2WQdgP7ZEdmO6crC/rZsEbyRTjr9FRCeEC56Tv1Dx+puWFY6/FD4VS2hsfj95dRyBvFm+v+OSj+uWhbQ/Rswd1PkWkL9rR26qe1UjvzGBXvOwAX8/5E3L+6YKlT92w4xTIUKiv+CB1bcm3pA/b22uPpzwnT+TVjGmASB9v3YLPrlDHam/na4P5a6Meb88FOVDpCuCvy5Z/xjGZbs/445hr9qRXr/tdw7ID7CmP1Tew88NBpa/ekovc0lloz9HH2g3IVKGP8nr4JJSE5s/NEqOjUcedT+qGzbuqDaxvyMs2alX/rC/n6E9OWEkwb+4nfSPWZOdv0IvsRFOf9K/YWD9e0tVur/yYbyN4nGBvwAAAAAAAAAAQ7KIK+UFm7+ZoxrR2ZWpP18ZOGUeWN2/yyESzaSYvD/Buscx4UfAv+530g9lFUY/obwHh4ymqD9CXZfIjBaRP7bI0w3AZcK/mqqDg4JUvr8AAlaRQMCLv8yKaO1MZKy/KviA/wsQvL+aUJcDwK6Jv2hRqhwoiom/PIdUgohmx7/lunvTehu3v4hB52pH+cO/FzuV9/R9nL/4sZvhDZ6gvxomYO05Uaa/28vvYr6Ooj9T8YMsWbNPP3N+WV0JTIY/296ALQSVk7+PaW3kFEeuv9hvwyJyz7u/1y6x93Rpur+jZUaNC+GOv8RHtEiIkq+/Uc/ZmihduL9CowRGhtyEv+jsra4+EG+/wrKvZyxkcr+M83fDiXmbv+/vMP4iFFQ/lzPjNZwnnr/2F4tcB7pxP5pI3HaqKZU/Q7KIK+UFm78AAAAAAAAAAM5FGfz7oYG/W2mw3gv/nT9xf5LjPxqRv7rTo4Ccp4S/fNqlOMl3Mb+ASTYBBK2lv29IfcXm+H+/mq7Ap/0lZ787GicQ7laBv6PwFu6DjHQ/ITN6e8SWnr9H3BTk3USUv1uzHVF90m4/EQ4j3H/LcD+RcF5+rTWJv6hsViAJuW2/TCichITikr/VaVX0tVddP0qctnz1TWq/Peo/DBZcbb9Lz0/EdYSXv7+cFRwAPXS/QyDlJfQIcb+1u4hP69V6v+RqhFf3DXO/KurC8SQgYL+aORA72EaBv/eLQMQalAI/gq6Ju/13bL9OQMalMAJ4v+Gj/Q2KhlC/6m0Ac53vhb8NS3HLxJp7vwgR2EkVCNI/WakkrvzzbD+fe9iXRoqgv1jmPotXBqm/gAUY+/DYRj+ZoxrR2ZWpP85FGfz7oYG/AAAAAAAAAADe7wjsp7yev9OUF+gC+8W/e1QuV65Slb8fdTaZI6GhP1bztDhg5a+/jn7kSAkbfr+Tf8HBfP6LvwAshcQMwYy/WdbGne4TZj/yJZjeApG4vyq3Ywwfeoi//4FK/pHPgr9sUyS3W49YP8MC6SV7JV6/QX9tZK+qcb+7V+k+wPGZv9ein8AtF1+/8JA1gO+uPD+3AXFo0RJbv1uO7CVsZaC/kcRXP4mkfD9V8J9UtuJ5v7Br+PjDUoK/qpQ1pCkxc7+GYCUtaxqEv7qGID71+4K/8i3Yy4AJcr/c9CHig9F5vzdPgoUW33C/9WECXY8dZD+bpkkW2OqPP88jrxYb0pk/c1cDQ+wpsD/GRbHxdK1aP8mAnYSg60e/10GSQ4B2wD+i/BnZt4qWP18ZOGUeWN2/XGmw3gv/nT/e7wjsp7yevwAAAAAAAKC8FMufG9twyr/zgE8AbHiAP+w+9LGd05G/tpr+r4IGsL/cTVxVpuiMvy1zMaW1Uqi/0CNv68pCnr9tJ83vH0BTv/uG2MCjs8a/VgYJCCYQZD88T/v0fF2Kvw8v/cmn51E/niWW1ATwrr/PAHSXkI2dv5qVFYGbZ68/uNng+WZLkz/c97XQd4qIP+quXPexUmg/ftdaI9zxwz/vbpA/00WHPxJBRIHBTH6/jF0cbyVBnb/rvFQHhaGVv7N0nV5FYqK/LDvqlC5pZr9VxSa5eitjv5jR87+l3pW/NhDECrh7nr9U+aaRg6piv8ArLTfqc46/bLhqLSMntb8SHamlLdDLv3ciogekn5y/bcuN/aQ5w78TbFCm82DSv78LntPTWry/zCESzaSYvD9yf5LjPxqRv9KUF+gC+8W/FMufG9twyr8AAAAAAAAAALdchKxkXtO/2syj5PEjtr8DiFD4rVTAP95V0rf6m6q/WqVtz77lm7/7H8C5nUWcv/3OG7dWIZq/TnjlALpyyD/crBgYRojGv6A10Vijfr2/Rjveet8UlL+kJNec55V7P4geHCMJlL+/r2vz0P0SsL8IZYueDr+Yvxm6CDoDuq2/hrA9MjK7oL9J8vXDkRPPv7tTGuEEl6i/hdZVQ2tiYT+97/T/GW6sv06jPIRamrW/+3749C28m7/S/P3+86HLv7iZsHuhi5+/uJCkZvrXtr+DyFMmMQ6/v822w1zSm5C/Ac3vNTXshr8Q9BpSOjqGP5Qs1ylzCKq/6BdXLq2rcb/LeYkaH9HQPxc38IsShqG/mhwiZsLzlD/Cuscx4UfAv7rTo4Ccp4S/e1QuV65Slb/zgE8AbHiAP7dchKxkXtO/AAAAAAAAAADjGdlJr3OIv5D9FuobjJS/TNXIduPtjL9Hm09fEM6aP9+/JPFCkJK/sdexiYgwfD9Dn0c47IGjPwEtDEKdKI+/TguqWMwdlb9YVYoon6xkvwB2e4Sl44O/X/lzDcUsj7+sWiR8Xg+av5dLKwUzDma/e5Z8M1XEer9FGwGQprCNP0pmZaYzGau/aj1yKejuhr/rPPgJvy2IP3kBQ+ARqY2/PlaKNIWXhb/EhHOHD6uKv/KMA+HTRJm/1PG+6wbadL8e72aUhmyFv4M6rvcWJ46/t2JEwkVcEz/tX16rpSd5v90fbjpRhq8/Bih3ZrKvvD9v/2wzJrapP97pROQiTmy/FzfT6Y14jb+OM+d2WQdgP+530g9lFUY/fNqlOMl3Mb8edTaZI6GhP+w+9LGd05G/2syj5PEjtr/iGdlJr3OIvwAAAAAAAAAAxpaE1ERko79s7phQDcV3v/qUW/kLDYC/G37lAWlyc79nR/KJqU2HP6GMheHlXa2/+TwxKrqMkL+WAdjU8op6v+9hD5/vqEw/KlFtDKyPgL92IQsQdjmCP70HryJ1gY6/LJYcXdRdZL8ueAiwyUSnPwf0bFoH/Wa/0nihDo5hkb8x2oUcghuePwWpUS1llWa/Ip1D8xUDdb/PzORPPAdivzLMyg/S2qo/7MI8lLZTiz9uq3WmEq9kvxsqB4BEtGG/t/jjzyBYdb+YzF0zKOt3PzKdUgk5GKm/OJBR3X+Umr99MWDqrZrBvz+R9v+yWYq/12o1G2Zxyr+GAYtci6fTv7ZEdmO6crC/oLwHh4ymqD+ASTYBBK2lv1bztDhg5a+/tpr+r4IGsL8DiFD4rVTAP5H9FuobjJS/xpaE1ERko78AAAAAAAAAAD41Kp/YscE/R1+5ifkNmT/arWRcSeuwv7jQzTrnaXi/BQ/mBUxJ1r+qfBaxzbW+v8tC/XPEbLC/e7SEzjU2fr9Ka1QRaxmHvz0fby7icqa/zOEshblB1z9KlCuehWeQv6/gfjsPd3A/rjiuA5AqpD+3cxP2997EvwXLHIDVLKK/kl/JdrBTbL8KU22sbUemv51T+sEhNaG/e3Lg+Sibnz8swq6Q6FKwv52WbjG6v4U/u57v5+2mn7/J8/8LGWSov3HrEW/s2H2/twr9B5fQgL8/Jnx3lgFiv2qpyQuwSp2/MJN+TtLOVT9eNhJ3KOGbvyCNXLpd4Ky/rZsEbyRTjr9BXZfIjBaRP25IfcXm+H+/jn7kSAkbfr/cTVxVpuiMv95V0rf6m6q/TNXIduPtjL9t7phQDcV3vz41Kp/YscE/AAAAAAAAAAAZ8QYrRwehPzp6GnpJS4W/DCXLNq5SYL9KjzNArpe4v8r7VcFbo4y/4x7gyQu2hr/2G7L0ou1hP/9YT6CGAYY/NpcoIvTqeL/7BGSWfBS4P1EzCpnCTXC/2ZgKh3r/Vr934N8eB6JWPz8Gx+HhgZ2/4McCEKxgcr+V/cQJ05R6vxzbYvIM0oC/dI9nV//id7/Jd3eD66p9v32OneQkK36/bm1P2c11V78P2UjobrN3v6jzVOUgFoG/TRHFxmK3VL9mcABocgWGP+R3TM3OuXU/rhV67z1Jmj9WZaDe/AOVP1O2ju0iZqY/HtS6XExNlz9FRCeEC56Tv7bI0w3AZcK/mq7Ap/0lZ7+Uf8HBfP6Lvy1zMaW1Uqi/WqVtz77lm79Gm09fEM6aP/qUW/kLDYC/R1+5ifkNmT8Z8QYrRwehPwAAAAAAAAAAdeNivQqIhL/9tvshwfx6P9Qk99Weh6W/beE+Vs8gmr/v640ME6yHv62H0NIN124/c8HdbiVlk78g9CFuibNYv/l0918wmqM/MoSymSJZc7/K1niargtuvwhTug9ExHG/AWJum6pLeL8QBQq0rht+v1RIiueAi3+/oEwNFrfXgr83eX6SV350vwds10HTDIe/LXGrwb/Kjr8oOFdjrDNlv24K6PRqIHy/J8zHMOtGhL80Bra/spVYv30lPvnm0NY/80OgU7HsfL+iitkwbfhbv1X8QsILAoY/VGWZvTZ2gj9+s9KrXAWzP1Hx+puWFY6/maqDg4JUvr87GicQ7laBv/8rhcQMwYy/0CNv68pCnr/7H8C5nUWcv9+/JPFCkJK/Gn7lAWlyc7/ZrWRcSeuwvzp6GnpJS4W/deNivQqIhL8AAAAAAACgvKhB75ftRLY/UIdxOZxSvr/xJqG3PfeAv/RFUgBr4b8/8Ab2iBvQhT+kHwkOz1mTv1qHLTC8enO/x0s0ikyfmr+wYiVaCah2P6UNjzWqgga/IQnSe/E2dT+LeDk/q+iYv5OnWbrhCny/CZ6JLL2IfT/BUOM7i4BNP6UWAQopcWK/4yHCF3nWhL8bBOFPqrN5v4McX4nnZUS/KOWaZ2xcRb/53PFjNXt4v1rKbqNKC18/Y+8nkZGAoD88Qoq34aaOPxCpPBSRh3Q/eb8BWDwZfz94iciVzD5mP0zdaGOmdHe/FD4VS2hsfj8BAlaRQMCLv6PwFu6DjHQ/WNbGne4TZj9uJ83vH0BTv/3OG7dWIZq/sNexiYgwfD9oR/KJqU2HP7jQzTrnaXi/DCXLNq5SYL/+tvshwfx6P6hB75ftRLY/AAAAAAAAsLxslHJP+JGKvxUTxoddrHM/ZzeTuxelkT8nEeVechqnP/LUKzaIo2i/k/dmB8sDlT8E9VeJwwxLv6XgRsRUn5Q/rov9qjpglD9Yx9FQdheSP5GmAGm6smy/i0Sr5gUsaz+68izxyUiQP5zKcEcjqoE/eMJcm9M/gT9UsAyG8u5SP+AEWuaqFYQ/OVenNTSGij+y7noiMWuBP2jcRal1+I4/zyjVF0Y7L78ieOMrs+K0v3NBm34Lzqy/7tvr0rTswL+IKOVYJXmev5s9izttA5Q/xOLoWyjV0r94dRyBvFm+v8yKaO1MZKy/IDN6e8SWnr/yJZjeApG4v/uG2MCjs8a/TnjlALpyyD9Dn0c47IGjP6GMheHlXa2/BQ/mBUxJ1r9JjzNArpe4v9Qk99Weh6W/UIdxOZxSvr9rlHJP+JGKvwAAAAAAAKC8LQdxMX6etj9MLu83UNu2v5sIK/lVQpC/f9onPupYnD8FfpdLC7CzvyQobm4cy8u/jjIJS/t3m7/sbOhEgwmiv+SDT34QtJS/2XCLhS880b8C9bOhttGov/XiSH0oSaq//j3kgmNhr7+CvCOpS3ypv3JKexAcB7G/uwSpJ/3jsj8nH56ho++bv2wQtpD00qS/PV69wz2es7/rPC14QWOEv6Lf+3BBp5m/B4izdnN8kj+KUWY77cOIv7WnfGf3kmE/XYFvcwLEkj+eq1W6GorDv+OSj+uWhbQ/KviA/wsQvL9H3BTk3USUvym3Ywwfeoi/VgYJCCYQZD/drBgYRojGvwEtDEKdKI+/+TwxKrqMkL+qfBaxzbW+v8n7VcFbo4y/beE+Vs8gmr/xJqG3PfeAvxUTxoddrHM/LgdxMX6etj8AAAAAAACgvAd2XkkF2Jw/tcjvrqTnLD+GJuq3Th6RP8XuG4qePJO/onD8EfH4rb9CVGI4vz2MP11hTMbLa1m/jj1uDG9zgr/dP2RndSezv8BN7XNhmI+/j9ZjydOwlT9LlywMvlSUvyS/EfX4qI2/e8oEKbNrUT8pPSWlsPCfv0oMF/iNMJE/oaVH1JwWi7+9RlzcZ8SVv4awUxe+Hi8/GYiEXq8KmD/KD0d6Oct4vxH8GzoZBJC/XFZBdFkAgD9wlSO387Gbvz5bZKQAZbw/Rcwd1PkWkL+bUJcDwK6Jv1uzHVF90m4/AIJK/pHPgr89T/v0fF2Kv6A10Vijfr2/TguqWMwdlb+XAdjU8op6v8tC/XPEbLC/4x7gyQu2hr/u640ME6yHv/RFUgBr4b8/aDeTuxelkT9LLu83UNu2vwh2XkkF2Jw/AAAAAAAAAABptpCOLippP19w6UPu5pC/5bPAB4bner/HA2G5CtaXv02HXXQG+Ua/b8bGU2FPgz+DbCUFto1mv0P/glorWqC/nsWzuXhNdb9jd/J7jcpwv+rOTbt2Q3y/nmkOnFmVcb8nMpt0039GP+SEylTU+XW/78pO/81ear9y3s1wfuR5v3fChJybqoK/VvXIXsuhVr+JKyehXtNmP7xKi3rw4YE/J4p3tMEwc78UC/PvLTCEPyi0BSrg8Fu/KNa6PgN8jz9sR26qe1Ujv2lRqhwoiom/EQ4j3H/LcD9sUyS3W49YPw8v/cmn51E/Rzveet8UlL9YVYoon6xkv+9hD5/vqEw/e7SEzjU2fr/3G7L0ou1hP66H0NIN124/8Qb2iBvQhT8mEeVechqnP5sIK/lVQpC/tcjvrqTnLD9otpCOLippPwAAAAAAAAAAa4bg0lu6VD9S03a+FHKEP4b0AlSrdmC/CCegj6D4mj9OgovkKKWaP++ZMcWLTYY/YqXWsBC2R7/kzscPNDxTP0C+I7yTQoM/IKH31ihJY781mLtJO2NbvwkcHMZm41I/mvKB7LTVWD/7KUnVBFaJP9Aq3ly7h1g/U7K6fV2XKb8JrgXX576MP8Y/0b6SA4G/ux8ZVrMUhL+R94MFGByrP61/Ub9kg3C/Dy0jfrwFrL/Uq+MgiJWqvzCBXvOwAX8/PIdUgohmx7+QcF5+rTWJv8QC6SV7JV6/niWW1ATwrr+lJNec55V7PwB2e4Sl44O/KlFtDKyPgL9Ka1QRaxmHv/9YT6CGAYY/c8HdbiVlk7+kHwkOz1mTv/LUKzaIo2i/gNonPupYnD+GJuq3Th6RP19w6UPu5pC/a4bg0lu6VD8AAAAAAAAAAGGpmwc2Xoq/W9ZXvV5Cpz8Loqp5nTWfP/4ygH2XkHA/JhCMEfxNkz9WgnvXn7eUv4cod6Bm+YG/wROGKQfSgb8nLb50Wp2Hv4OnYXgoB4K/NFrwOoNRjb87taKLKSeUv18K1jiN0HG/7wbwk0Ljgb+OsqVVjcqJv6q3tYI5RV+/1asIx0E0fL8Y1tjKrpuoP+qc6vmA1pG/thmPsqfyej8+fFdjKbiavw1xrAmvxqW/5E3L+6YKlT/lunvTehu3v6dsViAJuW2/QX9tZK+qcb/QAHSXkI2dv4geHCMJlL+/X/lzDcUsj792IQsQdjmCPz0fby7icqa/NpcoIvTqeL8g9CFuibNYv1qHLTC8enO/lPdmB8sDlT8FfpdLC7Czv8XuG4qePJO/5bPAB4bner9R03a+FHKEP2Kpmwc2Xoq/AAAAAAAAoLz+rAcXbXaTv6u4KNH/5mg/kg4z70jegj8LJ5Z/T3VTP+EgaN1Mz5i/kx6zY34WUD/y40lmDx52v4VFvEN0IpM/DBnwhOBa4T+PJQUJz+hsv9gQSngccYK/ZygSZimypj9ZW40QYf7eP1nKD67UGus/vVfZfWdaoT/BN/tezm2Vv1jCub2n3I6/ekcOmVOFsr+BXJkZ/T5zvyIoKv2SabO/GlOuCMU2vr92w4xTIUKiv4hB52pH+cO/TCichITikr+6V+k+wPGZv5qVFYGbZ68/r2vz0P0SsL+sWiR8Xg+av70HryJ1gY6/zOEshblB1z/7BGSWfBS4P/p0918wmqM/x0s0ikyfmr8E9VeJwwxLvyQobm4cy8u/o3D8EfH4rb/IA2G5CtaXv4b0AlSrdmC/W9ZXvV5Cpz/+rAcXbXaTvwAAAAAAAAAAJdzW8njAf79bj+T0vt6TP/XfoPht064/b+zqpNKysL/4oNUUbZyMv8qHnHq144q/NzKMlI5bkr+vWk/AVxSKvyotGAt3mZC/EaEueDxelL9rDNxfs4N2v+jcbxLEpYG/4SBqH8X3kr8GJkQywFxnv6crYXNYqWK/f/RdulXSdj9J7i3dwAWBP5BfRJVBlXw/ip8vSnPlYT8d5SZWDcuLv9+B1bcm3pA/GDuV9/R9nL/UaVX0tVddP9ein8AtF1+/uNng+WZLkz8IZYueDr+Yv5dLKwUzDma/LJYcXdRdZL9KlCuehWeQv1IzCpnCTXC/MYSymSJZc7+wYiVaCah2P6bgRsRUn5Q/jjIJS/t3m79BVGI4vz2MP06HXXQG+Ua/CCegj6D4mj8Loqp5nTWfP6u4KNH/5mg/JtzW8njAf78AAAAAAAAAAMhKRu0UGYI/a5llxaBocj9Gq6Fd/ZKEv5QYtYRUBlE/ylM7i+NbcD/FJvHnNh40P4Ju4I8gNnk/qcDeGaQeaT+xSqUgt3RRPx8GazLE/oE/sYzESMLtkz8q+/pu1QpYv7Mz/AHcMT+/0R5wYRQiY7+XMcedvJR+P4yleD7wnlW/T2eGPfQ3pD+PltZcPW2SP9jK4Uu5H4i/b22uPpzwnT/4sZvhDZ6gv0qctnz1TWq/8JA1gO+uPD/c97XQd4qIPxm6CDoDuq2/e5Z8M1XEer8ueAiwyUSnP6/gfjsPd3A/2pgKh3r/Vr/K1niargtuv6UNjzWqgga/rov9qjpglD/sbOhEgwmiv11hTMbLa1m/b8bGU2FPgz9NgovkKKWaP/8ygH2XkHA/kg4z70jegj9bj+T0vt6TP8hKRu0UGYI/AAAAAAAAsLxJkw45IJGdPyItXiDJ0YO/RhI5+lKDrT8WfIRV6OdvPwXCJCnCaIM/Hqug3NF3ZD+hvG4UMLtGv2owuA0KEX8/WIILHkl1Xj8N2FTrTesmP575eG65M2w/8G/OfnS5lT8MTS2/gfp/P1rMNiSgjWQ/jiOEnzg/Yj++Nz7VHxN4Px73L3J7UY+/KcQ3QyNzlL+TVjGmASB9vxsmYO05Uaa/Peo/DBZcbb+3AXFo0RJbv+quXPexUmg/hrA9MjK7oL9FGwGQprCNPwf0bFoH/Wa/rTiuA5AqpD934N8eB6JWPwhTug9ExHG/IQnSe/E2dT9Yx9FQdheSP+SDT34QtJS/jT1uDG9zgr+DbCUFto1mv++ZMcWLTYY/JhCMEfxNkz8LJ5Z/T3VTP/XfoPht064/a5llxaBocj9Jkw45IJGdPwAAAAAAAAAAdbWzxeVphb9iak35HPpEv9ExuR2GJWg/3g69JWlKP7+0eV1nOdA3v/uBOYf5TWa/RGpbJ5wNZD95E2KIxulxP91brcJDJGS/km/0138Kbb/o90QD9ZpBv5WBSBoAibs/iNx139tnkr+3PZLu5ii2v+Ztn5xZtIC/dcej0Pkptr/hG9u7oEjbP3YLPrlDHam/2svvYr6Ooj9Kz0/EdYSXv1uO7CVsZaC/fddaI9zxwz9J8vXDkRPPv0pmZaYzGau/03ihDo5hkb+2cxP2997Evz8Gx+HhgZ2/AmJum6pLeL+LeDk/q+iYv5GmAGm6smy/2XCLhS880b/dP2RndSezv0T/glorWqC/YqXWsBC2R79WgnvXn7eUv+EgaN1Mz5i/cOzqpNKysL9Gq6Fd/ZKEvyItXiDJ0YO/dbWzxeVphb8AAAAAAACwvG4/XSUbkY+/ZRN8277Yjr/y/vQx3iCXv6nwHjdea4+/QQSZlDVOdj/Ei/pZ4x6jvxZ66oEO/YW/nYQp4YDJjr+NXYhpqMCXv4KdLjOoT1+/gxc/tkkVcL/swJy4WRRmv4HgjKirNrI/Ai0xTxcmhz9ZCwhMSBCTv2f6vnqPJZ+/na4P5a6Meb9T8YMsWbNPP8CcFRwAPXS/kcRXP4mkfD/vbpA/00WHP7pTGuEEl6i/aT1yKejuhr8x2oUcghuePwTLHIDVLKK/4McCEKxgcr8PBQq0rht+v5SnWbrhCny/ikSr5gUsaz8B9bOhttGov8BN7XNhmI+/nsWzuXhNdb/kzscPNDxTP4cod6Bm+YG/kx6zY34WUD/4oNUUbZyMv5MYtYRUBlE/RhI5+lKDrT9iak35HPpEv20/XSUbkY+/AAAAAAAAoLwcabz8lCRvv1wYAjXK5rQ/xnP1v+u9kT+L4ICsNpuIPyi2BWOS13W/kMrPkDRmY79g5Ir5sSpev0MVVczCBHS/I6jXGMfxlD+ZyoPUvixbv+PVRl20IWi/CBLoj9Jwkr8Eh1SDp5poP4qbErmf+o2/vkohpbfnl787FOVDpCuCv3N+WV0JTIY/QyDlJfQIcb9U8J9UtuJ5vxJBRIHBTH6/hdZVQ2tiYT/rPPgJvy2IPwSpUS1llWa/kV/JdrBTbL+V/cQJ05R6v1RIiueAi3+/CZ6JLL2IfT+68izxyUiQP/XiSH0oSaq/j9ZjydOwlT9jd/J7jcpwv0C+I7yTQoM/wROGKQfSgb/y40lmDx52v8qHnHq144q/ylM7i+NbcD8VfIRV6OdvP9ExuR2GJWg/ZRN8277Yjr8cabz8lCRvvwAAAAAAAAAArv+pVhJecL+3iQv7RFJtv2PX0YRE42Y/GIySC0Yogb/w+ccMM1NkvzF6of+Pdm8/b223TVL5dL9ldm5qAG5Jv6zWFh9xfmy/J2LyILSuiT9dpE0f7WKyP94AoXoI62s/IGmcDS+Enb/vowb4unCQvy1Z/xjGZbs/3N6ALQSVk7+2u4hP69V6v7Br+PjDUoK/jF0cbyVBnb+97/T/GW6sv3gBQ+ARqY2/IZ1D8xUDdb8KU22sbUemvxzbYvIM0oC/oEwNFrfXgr/AUOM7i4BNP5zKcEcjqoE//j3kgmNhr79LlywMvlSUv+vOTbt2Q3y/H6H31ihJY78nLb50Wp2Hv4RFvEN0IpM/NzKMlI5bkr/GJvHnNh40PwXCJCnCaIM/3w69JWlKP7/y/vQx3iCXv1wYAjXK5rQ/rv+pVhJecL8AAAAAAAAAAONQx7DrjXK/hLjN8FQJlD9t3pWiza6Ev7Mrk2Tn86g/EvPbRcIVUL//baNhBxGUP5FjhfuX4JQ/AqmmkrA7cL+DupCssaeYP3cymv1Pu4W/hpPpg4P4bj+8roI/wi+Qvy8u9K2PKJ6/445hr9qRXr+PaW3kFEeuv+RqhFf3DXO/q5Q1pCkxc7/rvFQHhaGVv06jPIRamrW/PlaKNIWXhb/PzORPPAdiv51T+sEhNaG/c49nV//id783eX6SV350v6UWAQopcWK/d8Jcm9M/gT+BvCOpS3ypvyO/EfX4qI2/nmkOnFmVcb81mLtJO2Nbv4OnYXgoB4K/DBnwhOBa4T+vWk/AVxSKv4Ju4I8gNnk/H6ug3NF3ZD+zeV1nOdA3v6jwHjdea4+/xXP1v+u9kT+3iQv7RFJtv+NQx7DrjXK/AAAAAAAAoLzgBmHIjUtxvy0Whm++8Hu/Yz09/rtDYr9oIwgd3iRqv5ZgZgHV9OE/LmsT0KXdez+j0E8qCMCsPwMvVYhIvo0/w+OJyn2gbr9BChvFpD2bP43293N1S6c/Nj6AIG4Sm7/udw7ID7CmP9hvwyJyz7u/KerC8SQgYL+GYCUtaxqEv7N0nV5FYqK/+3749C28m7/FhHOHD6uKvzHMyg/S2qo/fHLg+Sibnz/Id3eD66p9vwhs10HTDIe/4yHCF3nWhL9UsAyG8u5SP3JKexAcB7G/e8oEKbNrUT8nMpt0039GPwkcHMZm41I/NFrwOoNRjb+QJQUJz+hsvyktGAt3mZC/qcDeGaQeaT+gvG4UMLtGv/uBOYf5TWa/QASZlDVOdj+L4ICsNpuIP2PX0YRE42Y/hbjN8FQJlD/gBmHIjUtxvwAAAAAAAKC8Mdfsye0Lhb/GTzEac85hv9rgO7Qu3mm/KV3Ynsymfr/d5ZMSCquAPxr9VJDw7IC/o+urBkLbuT+4C1g0B0WOP3rtdTgF21w/6I9llnL1oT+aJj5o+ja8P1Tew88NBpa/1y6x93Rpur+aORA72EaBv7uGID71+4K/LDvqlC5pZr/T/P3+86HLv/KMA+HTRJm/7cI8lLZTiz8swq6Q6FKwv32OneQkK36/LXGrwb/Kjr8bBOFPqrN5v+AEWuaqFYQ/vASpJ/3jsj8qPSWlsPCfv+OEylTU+XW/mvKB7LTVWD87taKLKSeUv9gQSngccYK/EaEueDxelL+xSqUgt3RRP2owuA0KEX8/RGpbJ5wNZD/Ei/pZ4x6jvyi2BWOS13W/GIySC0Yogb9u3pWiza6Evy4Whm++8Hu/MNfsye0Lhb8AAAAAAACwvMFR4YxGumG/90ldX5Gte7+BZ+ZRvgqFv1T4f1+Wg1o/pi06YPdPY79Ax8jCIN9WP5FVKrRSiIO/mvkVQ0f8ez/PCqMHC1uBvxy65TRtNpa/ekovc0lloz+jZUaNC+GOv/eLQMQalAI/8y3Yy4AJcr9VxSa5eitjv7eZsHuhi5+/1PG+6wbadL9uq3WmEq9kv5yWbjG6v4U/bm1P2c11V78oOFdjrDNlv4McX4nnZUS/OVenNTSGij8mH56ho++bv0oMF/iNMJE/7spO/81ear/7KUnVBFaJP14K1jiN0HG/ZygSZimypj9rDNxfs4N2vyAGazLE/oE/WIILHkl1Xj95E2KIxulxPxZ66oEO/YW/kMrPkDRmY7/x+ccMM1Nkv7Qrk2Tn86g/Yz09/rtDYr/GTzEac85hv8FR4YxGumG/AAAAAAAAAAAUCQ4+kl8kP11MAkmfypw/ULdknuKglT+/Fbs3rD8/v6wZpr0opF4/hw11OdOUXb8mKFAcNFpQP9xlDUrmypS/y7ZC5NwNkr9HH2g3IVKGP8VHtEiIkq+/hK6Ju/13bL/c9CHig9F5v5jR87+l3pW/uJCkZvrXtr8e72aUhmyFvxsqB4BEtGG/up7v5+2mn78P2UjobrN3v28K6PRqIHy/KOWaZ2xcRb+z7noiMWuBP2sQtpD00qS/oaVH1JwWi79x3s1wfuR5v9Aq3ly7h1g/8Abwk0Ljgb9YW40QYf7eP+jcbxLEpYG/sozESMLtkz8N2FTrTesmP95brcJDJGS/nIQp4YDJjr9h5Ir5sSpevzF6of+Pdm8/EvPbRcIVUL9oIwgd3iRqv9rgO7Qu3mm/90ldX5Gte78UCQ4+kl8kPwAAAAAAAAAAPsVNm8wy4D8EuJ3E7d2mP28Lf1Zt+3y/PgePbJRetj+hy/cv2HGQv2zlHXRGxGW/beu79HTQl79qmZbH2funv8nr4JJSE5s/UM/ZmihduL9OQMalMAJ4vzdPgoUW33C/NRDECrh7nr+DyFMmMQ6/v4M6rvcWJ46/t/jjzyBYdb/I8/8LGWSov6jzVOUgFoG/JszHMOtGhL/63PFjNXt4v2jcRal1+I4/PV69wz2es7+9RlzcZ8SVv3fChJybqoK/U7K6fV2XKb+OsqVVjcqJv1nKD67UGus/4iBqH8X3kr8p+/pu1QpYv575eG65M2w/km/0138Kbb+NXYhpqMCXv0MVVczCBHS/b223TVL5dL//baNhBxGUP5ZgZgHV9OE/KV3Ynsymfr+AZ+ZRvgqFv11MAkmfypw/PsVNm8wy4D8AAAAAAAAAABhXNARxTJ8/yV4t8rNDU78pvY6dToemPyVzBAAAWWc/p+V3eRQimj+oJms4a6ZFv836w1RVxmq/NEqOjUcedT9DowRGhtyEv+Gj/Q2KhlC/9WECXY8dZD9U+aaRg6piv822w1zSm5C/t2JEwkVcEz+YzF0zKOt3P3DrEW/s2H2/TRHFxmK3VL80Bra/spVYv1rKbqNKC18/zyjVF0Y7L7/rPC14QWOEv4WwUxe+Hi8/VvXIXsuhVr8JrgXX576MP6u3tYI5RV+/vVfZfWdaoT8GJkQywFxnv7Mz/AHcMT+/8G/OfnS5lT/o90QD9ZpBv4GdLjOoT1+/I6jXGMfxlD9ldm5qAG5Jv5FjhfuX4JQ/LmsT0KXdez/d5ZMSCquAP1T4f1+Wg1o/UbdknuKglT8FuJ3E7d2mPxhXNARxTJ8/AAAAAAAAoLw=",
          "dtype": "f8",
          "shape": "40, 40"
         }
        }
       ],
       "layout": {
        "coloraxis": {
         "cmax": 1,
         "cmin": -1,
         "colorscale": [
          [
           0,
           "rgb(103,0,31)"
          ],
          [
           0.1,
           "rgb(178,24,43)"
          ],
          [
           0.2,
           "rgb(214,96,77)"
          ],
          [
           0.3,
           "rgb(244,165,130)"
          ],
          [
           0.4,
           "rgb(253,219,199)"
          ],
          [
           0.5,
           "rgb(247,247,247)"
          ],
          [
           0.6,
           "rgb(209,229,240)"
          ],
          [
           0.7,
           "rgb(146,197,222)"
          ],
          [
           0.8,
           "rgb(67,147,195)"
          ],
          [
           0.9,
           "rgb(33,102,172)"
          ],
          [
           1,
           "rgb(5,48,97)"
          ]
         ]
        },
        "template": {
         "data": {
          "bar": [
           {
            "error_x": {
             "color": "#2a3f5f"
            },
            "error_y": {
             "color": "#2a3f5f"
            },
            "marker": {
             "line": {
              "color": "#E5ECF6",
              "width": 0.5
             },
             "pattern": {
              "fillmode": "overlay",
              "size": 10,
              "solidity": 0.2
             }
            },
            "type": "bar"
           }
          ],
          "barpolar": [
           {
            "marker": {
             "line": {
              "color": "#E5ECF6",
              "width": 0.5
             },
             "pattern": {
              "fillmode": "overlay",
              "size": 10,
              "solidity": 0.2
             }
            },
            "type": "barpolar"
           }
          ],
          "carpet": [
           {
            "aaxis": {
             "endlinecolor": "#2a3f5f",
             "gridcolor": "white",
             "linecolor": "white",
             "minorgridcolor": "white",
             "startlinecolor": "#2a3f5f"
            },
            "baxis": {
             "endlinecolor": "#2a3f5f",
             "gridcolor": "white",
             "linecolor": "white",
             "minorgridcolor": "white",
             "startlinecolor": "#2a3f5f"
            },
            "type": "carpet"
           }
          ],
          "choropleth": [
           {
            "colorbar": {
             "outlinewidth": 0,
             "ticks": ""
            },
            "type": "choropleth"
           }
          ],
          "contour": [
           {
            "colorbar": {
             "outlinewidth": 0,
             "ticks": ""
            },
            "colorscale": [
             [
              0,
              "#0d0887"
             ],
             [
              0.1111111111111111,
              "#46039f"
             ],
             [
              0.2222222222222222,
              "#7201a8"
             ],
             [
              0.3333333333333333,
              "#9c179e"
             ],
             [
              0.4444444444444444,
              "#bd3786"
             ],
             [
              0.5555555555555556,
              "#d8576b"
             ],
             [
              0.6666666666666666,
              "#ed7953"
             ],
             [
              0.7777777777777778,
              "#fb9f3a"
             ],
             [
              0.8888888888888888,
              "#fdca26"
             ],
             [
              1,
              "#f0f921"
             ]
            ],
            "type": "contour"
           }
          ],
          "contourcarpet": [
           {
            "colorbar": {
             "outlinewidth": 0,
             "ticks": ""
            },
            "type": "contourcarpet"
           }
          ],
          "heatmap": [
           {
            "colorbar": {
             "outlinewidth": 0,
             "ticks": ""
            },
            "colorscale": [
             [
              0,
              "#0d0887"
             ],
             [
              0.1111111111111111,
              "#46039f"
             ],
             [
              0.2222222222222222,
              "#7201a8"
             ],
             [
              0.3333333333333333,
              "#9c179e"
             ],
             [
              0.4444444444444444,
              "#bd3786"
             ],
             [
              0.5555555555555556,
              "#d8576b"
             ],
             [
              0.6666666666666666,
              "#ed7953"
             ],
             [
              0.7777777777777778,
              "#fb9f3a"
             ],
             [
              0.8888888888888888,
              "#fdca26"
             ],
             [
              1,
              "#f0f921"
             ]
            ],
            "type": "heatmap"
           }
          ],
          "histogram": [
           {
            "marker": {
             "pattern": {
              "fillmode": "overlay",
              "size": 10,
              "solidity": 0.2
             }
            },
            "type": "histogram"
           }
          ],
          "histogram2d": [
           {
            "colorbar": {
             "outlinewidth": 0,
             "ticks": ""
            },
            "colorscale": [
             [
              0,
              "#0d0887"
             ],
             [
              0.1111111111111111,
              "#46039f"
             ],
             [
              0.2222222222222222,
              "#7201a8"
             ],
             [
              0.3333333333333333,
              "#9c179e"
             ],
             [
              0.4444444444444444,
              "#bd3786"
             ],
             [
              0.5555555555555556,
              "#d8576b"
             ],
             [
              0.6666666666666666,
              "#ed7953"
             ],
             [
              0.7777777777777778,
              "#fb9f3a"
             ],
             [
              0.8888888888888888,
              "#fdca26"
             ],
             [
              1,
              "#f0f921"
             ]
            ],
            "type": "histogram2d"
           }
          ],
          "histogram2dcontour": [
           {
            "colorbar": {
             "outlinewidth": 0,
             "ticks": ""
            },
            "colorscale": [
             [
              0,
              "#0d0887"
             ],
             [
              0.1111111111111111,
              "#46039f"
             ],
             [
              0.2222222222222222,
              "#7201a8"
             ],
             [
              0.3333333333333333,
              "#9c179e"
             ],
             [
              0.4444444444444444,
              "#bd3786"
             ],
             [
              0.5555555555555556,
              "#d8576b"
             ],
             [
              0.6666666666666666,
              "#ed7953"
             ],
             [
              0.7777777777777778,
              "#fb9f3a"
             ],
             [
              0.8888888888888888,
              "#fdca26"
             ],
             [
              1,
              "#f0f921"
             ]
            ],
            "type": "histogram2dcontour"
           }
          ],
          "mesh3d": [
           {
            "colorbar": {
             "outlinewidth": 0,
             "ticks": ""
            },
            "type": "mesh3d"
           }
          ],
          "parcoords": [
           {
            "line": {
             "colorbar": {
              "outlinewidth": 0,
              "ticks": ""
             }
            },
            "type": "parcoords"
           }
          ],
          "pie": [
           {
            "automargin": true,
            "type": "pie"
           }
          ],
          "scatter": [
           {
            "fillpattern": {
             "fillmode": "overlay",
             "size": 10,
             "solidity": 0.2
            },
            "type": "scatter"
           }
          ],
          "scatter3d": [
           {
            "line": {
             "colorbar": {
              "outlinewidth": 0,
              "ticks": ""
             }
            },
            "marker": {
             "colorbar": {
              "outlinewidth": 0,
              "ticks": ""
             }
            },
            "type": "scatter3d"
           }
          ],
          "scattercarpet": [
           {
            "marker": {
             "colorbar": {
              "outlinewidth": 0,
              "ticks": ""
             }
            },
            "type": "scattercarpet"
           }
          ],
          "scattergeo": [
           {
            "marker": {
             "colorbar": {
              "outlinewidth": 0,
              "ticks": ""
             }
            },
            "type": "scattergeo"
           }
          ],
          "scattergl": [
           {
            "marker": {
             "colorbar": {
              "outlinewidth": 0,
              "ticks": ""
             }
            },
            "type": "scattergl"
           }
          ],
          "scattermap": [
           {
            "marker": {
             "colorbar": {
              "outlinewidth": 0,
              "ticks": ""
             }
            },
            "type": "scattermap"
           }
          ],
          "scattermapbox": [
           {
            "marker": {
             "colorbar": {
              "outlinewidth": 0,
              "ticks": ""
             }
            },
            "type": "scattermapbox"
           }
          ],
          "scatterpolar": [
           {
            "marker": {
             "colorbar": {
              "outlinewidth": 0,
              "ticks": ""
             }
            },
            "type": "scatterpolar"
           }
          ],
          "scatterpolargl": [
           {
            "marker": {
             "colorbar": {
              "outlinewidth": 0,
              "ticks": ""
             }
            },
            "type": "scatterpolargl"
           }
          ],
          "scatterternary": [
           {
            "marker": {
             "colorbar": {
              "outlinewidth": 0,
              "ticks": ""
             }
            },
            "type": "scatterternary"
           }
          ],
          "surface": [
           {
            "colorbar": {
             "outlinewidth": 0,
             "ticks": ""
            },
            "colorscale": [
             [
              0,
              "#0d0887"
             ],
             [
              0.1111111111111111,
              "#46039f"
             ],
             [
              0.2222222222222222,
              "#7201a8"
             ],
             [
              0.3333333333333333,
              "#9c179e"
             ],
             [
              0.4444444444444444,
              "#bd3786"
             ],
             [
              0.5555555555555556,
              "#d8576b"
             ],
             [
              0.6666666666666666,
              "#ed7953"
             ],
             [
              0.7777777777777778,
              "#fb9f3a"
             ],
             [
              0.8888888888888888,
              "#fdca26"
             ],
             [
              1,
              "#f0f921"
             ]
            ],
            "type": "surface"
           }
          ],
          "table": [
           {
            "cells": {
             "fill": {
              "color": "#EBF0F8"
             },
             "line": {
              "color": "white"
             }
            },
            "header": {
             "fill": {
              "color": "#C8D4E3"
             },
             "line": {
              "color": "white"
             }
            },
            "type": "table"
           }
          ]
         },
         "layout": {
          "annotationdefaults": {
           "arrowcolor": "#2a3f5f",
           "arrowhead": 0,
           "arrowwidth": 1
          },
          "autotypenumbers": "strict",
          "coloraxis": {
           "colorbar": {
            "outlinewidth": 0,
            "ticks": ""
           }
          },
          "colorscale": {
           "diverging": [
            [
             0,
             "#8e0152"
            ],
            [
             0.1,
             "#c51b7d"
            ],
            [
             0.2,
             "#de77ae"
            ],
            [
             0.3,
             "#f1b6da"
            ],
            [
             0.4,
             "#fde0ef"
            ],
            [
             0.5,
             "#f7f7f7"
            ],
            [
             0.6,
             "#e6f5d0"
            ],
            [
             0.7,
             "#b8e186"
            ],
            [
             0.8,
             "#7fbc41"
            ],
            [
             0.9,
             "#4d9221"
            ],
            [
             1,
             "#276419"
            ]
           ],
           "sequential": [
            [
             0,
             "#0d0887"
            ],
            [
             0.1111111111111111,
             "#46039f"
            ],
            [
             0.2222222222222222,
             "#7201a8"
            ],
            [
             0.3333333333333333,
             "#9c179e"
            ],
            [
             0.4444444444444444,
             "#bd3786"
            ],
            [
             0.5555555555555556,
             "#d8576b"
            ],
            [
             0.6666666666666666,
             "#ed7953"
            ],
            [
             0.7777777777777778,
             "#fb9f3a"
            ],
            [
             0.8888888888888888,
             "#fdca26"
            ],
            [
             1,
             "#f0f921"
            ]
           ],
           "sequentialminus": [
            [
             0,
             "#0d0887"
            ],
            [
             0.1111111111111111,
             "#46039f"
            ],
            [
             0.2222222222222222,
             "#7201a8"
            ],
            [
             0.3333333333333333,
             "#9c179e"
            ],
            [
             0.4444444444444444,
             "#bd3786"
            ],
            [
             0.5555555555555556,
             "#d8576b"
            ],
            [
             0.6666666666666666,
             "#ed7953"
            ],
            [
             0.7777777777777778,
             "#fb9f3a"
            ],
            [
             0.8888888888888888,
             "#fdca26"
            ],
            [
             1,
             "#f0f921"
            ]
           ]
          },
          "colorway": [
           "#636efa",
           "#EF553B",
           "#00cc96",
           "#ab63fa",
           "#FFA15A",
           "#19d3f3",
           "#FF6692",
           "#B6E880",
           "#FF97FF",
           "#FECB52"
          ],
          "font": {
           "color": "#2a3f5f"
          },
          "geo": {
           "bgcolor": "white",
           "lakecolor": "white",
           "landcolor": "#E5ECF6",
           "showlakes": true,
           "showland": true,
           "subunitcolor": "white"
          },
          "hoverlabel": {
           "align": "left"
          },
          "hovermode": "closest",
          "mapbox": {
           "style": "light"
          },
          "paper_bgcolor": "white",
          "plot_bgcolor": "#E5ECF6",
          "polar": {
           "angularaxis": {
            "gridcolor": "white",
            "linecolor": "white",
            "ticks": ""
           },
           "bgcolor": "#E5ECF6",
           "radialaxis": {
            "gridcolor": "white",
            "linecolor": "white",
            "ticks": ""
           }
          },
          "scene": {
           "xaxis": {
            "backgroundcolor": "#E5ECF6",
            "gridcolor": "white",
            "gridwidth": 2,
            "linecolor": "white",
            "showbackground": true,
            "ticks": "",
            "zerolinecolor": "white"
           },
           "yaxis": {
            "backgroundcolor": "#E5ECF6",
            "gridcolor": "white",
            "gridwidth": 2,
            "linecolor": "white",
            "showbackground": true,
            "ticks": "",
            "zerolinecolor": "white"
           },
           "zaxis": {
            "backgroundcolor": "#E5ECF6",
            "gridcolor": "white",
            "gridwidth": 2,
            "linecolor": "white",
            "showbackground": true,
            "ticks": "",
            "zerolinecolor": "white"
           }
          },
          "shapedefaults": {
           "line": {
            "color": "#2a3f5f"
           }
          },
          "ternary": {
           "aaxis": {
            "gridcolor": "white",
            "linecolor": "white",
            "ticks": ""
           },
           "baxis": {
            "gridcolor": "white",
            "linecolor": "white",
            "ticks": ""
           },
           "bgcolor": "#E5ECF6",
           "caxis": {
            "gridcolor": "white",
            "linecolor": "white",
            "ticks": ""
           }
          },
          "title": {
           "x": 0.05
          },
          "xaxis": {
           "automargin": true,
           "gridcolor": "white",
           "linecolor": "white",
           "ticks": "",
           "title": {
            "standoff": 15
           },
           "zerolinecolor": "white",
           "zerolinewidth": 2
          },
          "yaxis": {
           "automargin": true,
           "gridcolor": "white",
           "linecolor": "white",
           "ticks": "",
           "title": {
            "standoff": 15
           },
           "zerolinecolor": "white",
           "zerolinewidth": 2
          }
         }
        },
        "title": {
         "text": "Input correlation matrix"
        },
        "xaxis": {
         "anchor": "y",
         "constrain": "domain",
         "domain": [
          0,
          1
         ],
         "scaleanchor": "y"
        },
        "yaxis": {
         "anchor": "x",
         "autorange": "reversed",
         "constrain": "domain",
         "domain": [
          0,
          1
         ]
        }
       }
      }
     },
     "metadata": {},
     "output_type": "display_data"
    },
    {
     "data": {
      "application/vnd.plotly.v1+json": {
       "config": {
        "plotlyServerURL": "https://plot.ly"
       },
       "data": [
        {
         "coloraxis": "coloraxis",
         "hovertemplate": "x: %{x}<br>y: %{y}<br>color: %{z}<extra></extra>",
         "name": "0",
         "type": "heatmap",
         "x": [
          "CARVEDILOL",
          "ESOMEPRAZOLE",
          "LEVOTHYROXINE",
          "TRAMADOL",
          "AMLODIPINE",
          "METOPROLOL",
          "OMEPRAZOLE",
          "SIMVASTATIN",
          "TAMSULOSIN",
          "ALENDRONATE",
          "ATORVASTATIN",
          "LISINOPRIL",
          "LOSARTAN",
          "SERTRALINE",
          "METFORMIN",
          "PIOGLITAZONE",
          "PRAVASTATIN",
          "FUROSEMIDE",
          "POTASSIUM CHLORIDE",
          "HYDROCHLOROTHIAZIDE",
          "ATENOLOL",
          "WARFARIN",
          "ASPIRIN",
          "LOVASTATIN",
          "ALBUTEROL",
          "GLIPIZIDE",
          "RANITIDINE",
          "GABAPENTIN",
          "INSULIN GLARGINE",
          "CLOPIDOGREL",
          "ZOLPIDEM",
          "ALLOPURINOL",
          "CITALOPRAM",
          "PREDNISONE",
          "ROSUVASTATIN",
          "VALSARTAN",
          "IBUPROFEN",
          "FEXOFENADINE",
          "MONTELUKAST",
          "FLUTICASONE NASAL"
         ],
         "xaxis": "x",
         "y": [
          "CARVEDILOL",
          "ESOMEPRAZOLE",
          "LEVOTHYROXINE",
          "TRAMADOL",
          "AMLODIPINE",
          "METOPROLOL",
          "OMEPRAZOLE",
          "SIMVASTATIN",
          "TAMSULOSIN",
          "ALENDRONATE",
          "ATORVASTATIN",
          "LISINOPRIL",
          "LOSARTAN",
          "SERTRALINE",
          "METFORMIN",
          "PIOGLITAZONE",
          "PRAVASTATIN",
          "FUROSEMIDE",
          "POTASSIUM CHLORIDE",
          "HYDROCHLOROTHIAZIDE",
          "ATENOLOL",
          "WARFARIN",
          "ASPIRIN",
          "LOVASTATIN",
          "ALBUTEROL",
          "GLIPIZIDE",
          "RANITIDINE",
          "GABAPENTIN",
          "INSULIN GLARGINE",
          "CLOPIDOGREL",
          "ZOLPIDEM",
          "ALLOPURINOL",
          "CITALOPRAM",
          "PREDNISONE",
          "ROSUVASTATIN",
          "VALSARTAN",
          "IBUPROFEN",
          "FEXOFENADINE",
          "MONTELUKAST",
          "FLUTICASONE NASAL"
         ],
         "yaxis": "y",
         "z": {
          "bdata": "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",
          "dtype": "f8",
          "shape": "40, 40"
         }
        }
       ],
       "layout": {
        "coloraxis": {
         "cmax": 1,
         "cmin": -1,
         "colorscale": [
          [
           0,
           "rgb(103,0,31)"
          ],
          [
           0.1,
           "rgb(178,24,43)"
          ],
          [
           0.2,
           "rgb(214,96,77)"
          ],
          [
           0.3,
           "rgb(244,165,130)"
          ],
          [
           0.4,
           "rgb(253,219,199)"
          ],
          [
           0.5,
           "rgb(247,247,247)"
          ],
          [
           0.6,
           "rgb(209,229,240)"
          ],
          [
           0.7,
           "rgb(146,197,222)"
          ],
          [
           0.8,
           "rgb(67,147,195)"
          ],
          [
           0.9,
           "rgb(33,102,172)"
          ],
          [
           1,
           "rgb(5,48,97)"
          ]
         ]
        },
        "template": {
         "data": {
          "bar": [
           {
            "error_x": {
             "color": "#2a3f5f"
            },
            "error_y": {
             "color": "#2a3f5f"
            },
            "marker": {
             "line": {
              "color": "#E5ECF6",
              "width": 0.5
             },
             "pattern": {
              "fillmode": "overlay",
              "size": 10,
              "solidity": 0.2
             }
            },
            "type": "bar"
           }
          ],
          "barpolar": [
           {
            "marker": {
             "line": {
              "color": "#E5ECF6",
              "width": 0.5
             },
             "pattern": {
              "fillmode": "overlay",
              "size": 10,
              "solidity": 0.2
             }
            },
            "type": "barpolar"
           }
          ],
          "carpet": [
           {
            "aaxis": {
             "endlinecolor": "#2a3f5f",
             "gridcolor": "white",
             "linecolor": "white",
             "minorgridcolor": "white",
             "startlinecolor": "#2a3f5f"
            },
            "baxis": {
             "endlinecolor": "#2a3f5f",
             "gridcolor": "white",
             "linecolor": "white",
             "minorgridcolor": "white",
             "startlinecolor": "#2a3f5f"
            },
            "type": "carpet"
           }
          ],
          "choropleth": [
           {
            "colorbar": {
             "outlinewidth": 0,
             "ticks": ""
            },
            "type": "choropleth"
           }
          ],
          "contour": [
           {
            "colorbar": {
             "outlinewidth": 0,
             "ticks": ""
            },
            "colorscale": [
             [
              0,
              "#0d0887"
             ],
             [
              0.1111111111111111,
              "#46039f"
             ],
             [
              0.2222222222222222,
              "#7201a8"
             ],
             [
              0.3333333333333333,
              "#9c179e"
             ],
             [
              0.4444444444444444,
              "#bd3786"
             ],
             [
              0.5555555555555556,
              "#d8576b"
             ],
             [
              0.6666666666666666,
              "#ed7953"
             ],
             [
              0.7777777777777778,
              "#fb9f3a"
             ],
             [
              0.8888888888888888,
              "#fdca26"
             ],
             [
              1,
              "#f0f921"
             ]
            ],
            "type": "contour"
           }
          ],
          "contourcarpet": [
           {
            "colorbar": {
             "outlinewidth": 0,
             "ticks": ""
            },
            "type": "contourcarpet"
           }
          ],
          "heatmap": [
           {
            "colorbar": {
             "outlinewidth": 0,
             "ticks": ""
            },
            "colorscale": [
             [
              0,
              "#0d0887"
             ],
             [
              0.1111111111111111,
              "#46039f"
             ],
             [
              0.2222222222222222,
              "#7201a8"
             ],
             [
              0.3333333333333333,
              "#9c179e"
             ],
             [
              0.4444444444444444,
              "#bd3786"
             ],
             [
              0.5555555555555556,
              "#d8576b"
             ],
             [
              0.6666666666666666,
              "#ed7953"
             ],
             [
              0.7777777777777778,
              "#fb9f3a"
             ],
             [
              0.8888888888888888,
              "#fdca26"
             ],
             [
              1,
              "#f0f921"
             ]
            ],
            "type": "heatmap"
           }
          ],
          "histogram": [
           {
            "marker": {
             "pattern": {
              "fillmode": "overlay",
              "size": 10,
              "solidity": 0.2
             }
            },
            "type": "histogram"
           }
          ],
          "histogram2d": [
           {
            "colorbar": {
             "outlinewidth": 0,
             "ticks": ""
            },
            "colorscale": [
             [
              0,
              "#0d0887"
             ],
             [
              0.1111111111111111,
              "#46039f"
             ],
             [
              0.2222222222222222,
              "#7201a8"
             ],
             [
              0.3333333333333333,
              "#9c179e"
             ],
             [
              0.4444444444444444,
              "#bd3786"
             ],
             [
              0.5555555555555556,
              "#d8576b"
             ],
             [
              0.6666666666666666,
              "#ed7953"
             ],
             [
              0.7777777777777778,
              "#fb9f3a"
             ],
             [
              0.8888888888888888,
              "#fdca26"
             ],
             [
              1,
              "#f0f921"
             ]
            ],
            "type": "histogram2d"
           }
          ],
          "histogram2dcontour": [
           {
            "colorbar": {
             "outlinewidth": 0,
             "ticks": ""
            },
            "colorscale": [
             [
              0,
              "#0d0887"
             ],
             [
              0.1111111111111111,
              "#46039f"
             ],
             [
              0.2222222222222222,
              "#7201a8"
             ],
             [
              0.3333333333333333,
              "#9c179e"
             ],
             [
              0.4444444444444444,
              "#bd3786"
             ],
             [
              0.5555555555555556,
              "#d8576b"
             ],
             [
              0.6666666666666666,
              "#ed7953"
             ],
             [
              0.7777777777777778,
              "#fb9f3a"
             ],
             [
              0.8888888888888888,
              "#fdca26"
             ],
             [
              1,
              "#f0f921"
             ]
            ],
            "type": "histogram2dcontour"
           }
          ],
          "mesh3d": [
           {
            "colorbar": {
             "outlinewidth": 0,
             "ticks": ""
            },
            "type": "mesh3d"
           }
          ],
          "parcoords": [
           {
            "line": {
             "colorbar": {
              "outlinewidth": 0,
              "ticks": ""
             }
            },
            "type": "parcoords"
           }
          ],
          "pie": [
           {
            "automargin": true,
            "type": "pie"
           }
          ],
          "scatter": [
           {
            "fillpattern": {
             "fillmode": "overlay",
             "size": 10,
             "solidity": 0.2
            },
            "type": "scatter"
           }
          ],
          "scatter3d": [
           {
            "line": {
             "colorbar": {
              "outlinewidth": 0,
              "ticks": ""
             }
            },
            "marker": {
             "colorbar": {
              "outlinewidth": 0,
              "ticks": ""
             }
            },
            "type": "scatter3d"
           }
          ],
          "scattercarpet": [
           {
            "marker": {
             "colorbar": {
              "outlinewidth": 0,
              "ticks": ""
             }
            },
            "type": "scattercarpet"
           }
          ],
          "scattergeo": [
           {
            "marker": {
             "colorbar": {
              "outlinewidth": 0,
              "ticks": ""
             }
            },
            "type": "scattergeo"
           }
          ],
          "scattergl": [
           {
            "marker": {
             "colorbar": {
              "outlinewidth": 0,
              "ticks": ""
             }
            },
            "type": "scattergl"
           }
          ],
          "scattermap": [
           {
            "marker": {
             "colorbar": {
              "outlinewidth": 0,
              "ticks": ""
             }
            },
            "type": "scattermap"
           }
          ],
          "scattermapbox": [
           {
            "marker": {
             "colorbar": {
              "outlinewidth": 0,
              "ticks": ""
             }
            },
            "type": "scattermapbox"
           }
          ],
          "scatterpolar": [
           {
            "marker": {
             "colorbar": {
              "outlinewidth": 0,
              "ticks": ""
             }
            },
            "type": "scatterpolar"
           }
          ],
          "scatterpolargl": [
           {
            "marker": {
             "colorbar": {
              "outlinewidth": 0,
              "ticks": ""
             }
            },
            "type": "scatterpolargl"
           }
          ],
          "scatterternary": [
           {
            "marker": {
             "colorbar": {
              "outlinewidth": 0,
              "ticks": ""
             }
            },
            "type": "scatterternary"
           }
          ],
          "surface": [
           {
            "colorbar": {
             "outlinewidth": 0,
             "ticks": ""
            },
            "colorscale": [
             [
              0,
              "#0d0887"
             ],
             [
              0.1111111111111111,
              "#46039f"
             ],
             [
              0.2222222222222222,
              "#7201a8"
             ],
             [
              0.3333333333333333,
              "#9c179e"
             ],
             [
              0.4444444444444444,
              "#bd3786"
             ],
             [
              0.5555555555555556,
              "#d8576b"
             ],
             [
              0.6666666666666666,
              "#ed7953"
             ],
             [
              0.7777777777777778,
              "#fb9f3a"
             ],
             [
              0.8888888888888888,
              "#fdca26"
             ],
             [
              1,
              "#f0f921"
             ]
            ],
            "type": "surface"
           }
          ],
          "table": [
           {
            "cells": {
             "fill": {
              "color": "#EBF0F8"
             },
             "line": {
              "color": "white"
             }
            },
            "header": {
             "fill": {
              "color": "#C8D4E3"
             },
             "line": {
              "color": "white"
             }
            },
            "type": "table"
           }
          ]
         },
         "layout": {
          "annotationdefaults": {
           "arrowcolor": "#2a3f5f",
           "arrowhead": 0,
           "arrowwidth": 1
          },
          "autotypenumbers": "strict",
          "coloraxis": {
           "colorbar": {
            "outlinewidth": 0,
            "ticks": ""
           }
          },
          "colorscale": {
           "diverging": [
            [
             0,
             "#8e0152"
            ],
            [
             0.1,
             "#c51b7d"
            ],
            [
             0.2,
             "#de77ae"
            ],
            [
             0.3,
             "#f1b6da"
            ],
            [
             0.4,
             "#fde0ef"
            ],
            [
             0.5,
             "#f7f7f7"
            ],
            [
             0.6,
             "#e6f5d0"
            ],
            [
             0.7,
             "#b8e186"
            ],
            [
             0.8,
             "#7fbc41"
            ],
            [
             0.9,
             "#4d9221"
            ],
            [
             1,
             "#276419"
            ]
           ],
           "sequential": [
            [
             0,
             "#0d0887"
            ],
            [
             0.1111111111111111,
             "#46039f"
            ],
            [
             0.2222222222222222,
             "#7201a8"
            ],
            [
             0.3333333333333333,
             "#9c179e"
            ],
            [
             0.4444444444444444,
             "#bd3786"
            ],
            [
             0.5555555555555556,
             "#d8576b"
            ],
            [
             0.6666666666666666,
             "#ed7953"
            ],
            [
             0.7777777777777778,
             "#fb9f3a"
            ],
            [
             0.8888888888888888,
             "#fdca26"
            ],
            [
             1,
             "#f0f921"
            ]
           ],
           "sequentialminus": [
            [
             0,
             "#0d0887"
            ],
            [
             0.1111111111111111,
             "#46039f"
            ],
            [
             0.2222222222222222,
             "#7201a8"
            ],
            [
             0.3333333333333333,
             "#9c179e"
            ],
            [
             0.4444444444444444,
             "#bd3786"
            ],
            [
             0.5555555555555556,
             "#d8576b"
            ],
            [
             0.6666666666666666,
             "#ed7953"
            ],
            [
             0.7777777777777778,
             "#fb9f3a"
            ],
            [
             0.8888888888888888,
             "#fdca26"
            ],
            [
             1,
             "#f0f921"
            ]
           ]
          },
          "colorway": [
           "#636efa",
           "#EF553B",
           "#00cc96",
           "#ab63fa",
           "#FFA15A",
           "#19d3f3",
           "#FF6692",
           "#B6E880",
           "#FF97FF",
           "#FECB52"
          ],
          "font": {
           "color": "#2a3f5f"
          },
          "geo": {
           "bgcolor": "white",
           "lakecolor": "white",
           "landcolor": "#E5ECF6",
           "showlakes": true,
           "showland": true,
           "subunitcolor": "white"
          },
          "hoverlabel": {
           "align": "left"
          },
          "hovermode": "closest",
          "mapbox": {
           "style": "light"
          },
          "paper_bgcolor": "white",
          "plot_bgcolor": "#E5ECF6",
          "polar": {
           "angularaxis": {
            "gridcolor": "white",
            "linecolor": "white",
            "ticks": ""
           },
           "bgcolor": "#E5ECF6",
           "radialaxis": {
            "gridcolor": "white",
            "linecolor": "white",
            "ticks": ""
           }
          },
          "scene": {
           "xaxis": {
            "backgroundcolor": "#E5ECF6",
            "gridcolor": "white",
            "gridwidth": 2,
            "linecolor": "white",
            "showbackground": true,
            "ticks": "",
            "zerolinecolor": "white"
           },
           "yaxis": {
            "backgroundcolor": "#E5ECF6",
            "gridcolor": "white",
            "gridwidth": 2,
            "linecolor": "white",
            "showbackground": true,
            "ticks": "",
            "zerolinecolor": "white"
           },
           "zaxis": {
            "backgroundcolor": "#E5ECF6",
            "gridcolor": "white",
            "gridwidth": 2,
            "linecolor": "white",
            "showbackground": true,
            "ticks": "",
            "zerolinecolor": "white"
           }
          },
          "shapedefaults": {
           "line": {
            "color": "#2a3f5f"
           }
          },
          "ternary": {
           "aaxis": {
            "gridcolor": "white",
            "linecolor": "white",
            "ticks": ""
           },
           "baxis": {
            "gridcolor": "white",
            "linecolor": "white",
            "ticks": ""
           },
           "bgcolor": "#E5ECF6",
           "caxis": {
            "gridcolor": "white",
            "linecolor": "white",
            "ticks": ""
           }
          },
          "title": {
           "x": 0.05
          },
          "xaxis": {
           "automargin": true,
           "gridcolor": "white",
           "linecolor": "white",
           "ticks": "",
           "title": {
            "standoff": 15
           },
           "zerolinecolor": "white",
           "zerolinewidth": 2
          },
          "yaxis": {
           "automargin": true,
           "gridcolor": "white",
           "linecolor": "white",
           "ticks": "",
           "title": {
            "standoff": 15
           },
           "zerolinecolor": "white",
           "zerolinewidth": 2
          }
         }
        },
        "title": {
         "text": "Sample correlation matrix"
        },
        "xaxis": {
         "anchor": "y",
         "constrain": "domain",
         "domain": [
          0,
          1
         ],
         "scaleanchor": "y"
        },
        "yaxis": {
         "anchor": "x",
         "autorange": "reversed",
         "constrain": "domain",
         "domain": [
          0,
          1
         ]
        }
       }
      }
     },
     "metadata": {},
     "output_type": "display_data"
    },
    {
     "data": {
      "application/vnd.plotly.v1+json": {
       "config": {
        "plotlyServerURL": "https://plot.ly"
       },
       "data": [
        {
         "hovertemplate": "x=%{x}<br>y=%{y}<extra></extra>",
         "legendgroup": "",
         "marker": {
          "color": "#636efa",
          "pattern": {
           "shape": ""
          }
         },
         "name": "",
         "orientation": "v",
         "showlegend": false,
         "textposition": "auto",
         "type": "bar",
         "x": [
          "LISINOPRIL",
          "SIMVASTATIN",
          "HYDROCHLOROTHIAZIDE",
          "METFORMIN",
          "METOPROLOL",
          "ATORVASTATIN",
          "AMLODIPINE",
          "LEVOTHYROXINE",
          "CLOPIDOGREL",
          "ATENOLOL",
          "GLIPIZIDE",
          "LOSARTAN",
          "OMEPRAZOLE",
          "LOVASTATIN",
          "VALSARTAN",
          "FUROSEMIDE",
          "PRAVASTATIN",
          "WARFARIN",
          "ALENDRONATE",
          "PIOGLITAZONE",
          "CARVEDILOL",
          "ROSUVASTATIN",
          "ALBUTEROL",
          "TAMSULOSIN",
          "MONTELUKAST",
          "CITALOPRAM",
          "ESOMEPRAZOLE",
          "SERTRALINE",
          "ALLOPURINOL",
          "ZOLPIDEM",
          "PREDNISONE",
          "FEXOFENADINE",
          "INSULIN GLARGINE",
          "IBUPROFEN",
          "GABAPENTIN",
          "RANITIDINE",
          "TRAMADOL",
          "ASPIRIN",
          "POTASSIUM CHLORIDE",
          "FLUTICASONE NASAL"
         ],
         "xaxis": "x",
         "y": {
          "bdata": "irCgDzM65z8HibQZvJbiP/VF3GyVRN4/LbNXaW+i0D+j0KnGezrQP/71b+5l2cA/GNGszQ37vj+4VY57ES66PwnAibXJV7M/xjRDwQF0sD+THYpvgiSqP5CljaemHKE/GJb9RQmynz/rRabmVSCYP+Qu1y8/w5E/cA0MJs/Sjz/AlE11TCOOP4LaUIPIook/qIk3O25piT/Zs3qRqXmFP3XUONh2oII/zcGlx0VTgT8frTZ9aO99Pyf/HjzMdXs/4nzbe9vcej8mdX1L1Qd6P/ubCJg4M3I/U4l1hwfmcD8OBzLHFk1wP47MJU0syW0/E4CyKwCAaj/O/W5rD+dpP11T8I3+k18/rDxNC5eaWT/Hl0PLvYRZP51w9srz1Vg/R/rVB4TAUT+0truM1thMP+2B2QpolDg/xm+9COLMIz8=",
          "dtype": "f8"
         },
         "yaxis": "y"
        }
       ],
       "layout": {
        "barmode": "relative",
        "legend": {
         "tracegroupgap": 0
        },
        "template": {
         "data": {
          "bar": [
           {
            "error_x": {
             "color": "#2a3f5f"
            },
            "error_y": {
             "color": "#2a3f5f"
            },
            "marker": {
             "line": {
              "color": "#E5ECF6",
              "width": 0.5
             },
             "pattern": {
              "fillmode": "overlay",
              "size": 10,
              "solidity": 0.2
             }
            },
            "type": "bar"
           }
          ],
          "barpolar": [
           {
            "marker": {
             "line": {
              "color": "#E5ECF6",
              "width": 0.5
             },
             "pattern": {
              "fillmode": "overlay",
              "size": 10,
              "solidity": 0.2
             }
            },
            "type": "barpolar"
           }
          ],
          "carpet": [
           {
            "aaxis": {
             "endlinecolor": "#2a3f5f",
             "gridcolor": "white",
             "linecolor": "white",
             "minorgridcolor": "white",
             "startlinecolor": "#2a3f5f"
            },
            "baxis": {
             "endlinecolor": "#2a3f5f",
             "gridcolor": "white",
             "linecolor": "white",
             "minorgridcolor": "white",
             "startlinecolor": "#2a3f5f"
            },
            "type": "carpet"
           }
          ],
          "choropleth": [
           {
            "colorbar": {
             "outlinewidth": 0,
             "ticks": ""
            },
            "type": "choropleth"
           }
          ],
          "contour": [
           {
            "colorbar": {
             "outlinewidth": 0,
             "ticks": ""
            },
            "colorscale": [
             [
              0,
              "#0d0887"
             ],
             [
              0.1111111111111111,
              "#46039f"
             ],
             [
              0.2222222222222222,
              "#7201a8"
             ],
             [
              0.3333333333333333,
              "#9c179e"
             ],
             [
              0.4444444444444444,
              "#bd3786"
             ],
             [
              0.5555555555555556,
              "#d8576b"
             ],
             [
              0.6666666666666666,
              "#ed7953"
             ],
             [
              0.7777777777777778,
              "#fb9f3a"
             ],
             [
              0.8888888888888888,
              "#fdca26"
             ],
             [
              1,
              "#f0f921"
             ]
            ],
            "type": "contour"
           }
          ],
          "contourcarpet": [
           {
            "colorbar": {
             "outlinewidth": 0,
             "ticks": ""
            },
            "type": "contourcarpet"
           }
          ],
          "heatmap": [
           {
            "colorbar": {
             "outlinewidth": 0,
             "ticks": ""
            },
            "colorscale": [
             [
              0,
              "#0d0887"
             ],
             [
              0.1111111111111111,
              "#46039f"
             ],
             [
              0.2222222222222222,
              "#7201a8"
             ],
             [
              0.3333333333333333,
              "#9c179e"
             ],
             [
              0.4444444444444444,
              "#bd3786"
             ],
             [
              0.5555555555555556,
              "#d8576b"
             ],
             [
              0.6666666666666666,
              "#ed7953"
             ],
             [
              0.7777777777777778,
              "#fb9f3a"
             ],
             [
              0.8888888888888888,
              "#fdca26"
             ],
             [
              1,
              "#f0f921"
             ]
            ],
            "type": "heatmap"
           }
          ],
          "histogram": [
           {
            "marker": {
             "pattern": {
              "fillmode": "overlay",
              "size": 10,
              "solidity": 0.2
             }
            },
            "type": "histogram"
           }
          ],
          "histogram2d": [
           {
            "colorbar": {
             "outlinewidth": 0,
             "ticks": ""
            },
            "colorscale": [
             [
              0,
              "#0d0887"
             ],
             [
              0.1111111111111111,
              "#46039f"
             ],
             [
              0.2222222222222222,
              "#7201a8"
             ],
             [
              0.3333333333333333,
              "#9c179e"
             ],
             [
              0.4444444444444444,
              "#bd3786"
             ],
             [
              0.5555555555555556,
              "#d8576b"
             ],
             [
              0.6666666666666666,
              "#ed7953"
             ],
             [
              0.7777777777777778,
              "#fb9f3a"
             ],
             [
              0.8888888888888888,
              "#fdca26"
             ],
             [
              1,
              "#f0f921"
             ]
            ],
            "type": "histogram2d"
           }
          ],
          "histogram2dcontour": [
           {
            "colorbar": {
             "outlinewidth": 0,
             "ticks": ""
            },
            "colorscale": [
             [
              0,
              "#0d0887"
             ],
             [
              0.1111111111111111,
              "#46039f"
             ],
             [
              0.2222222222222222,
              "#7201a8"
             ],
             [
              0.3333333333333333,
              "#9c179e"
             ],
             [
              0.4444444444444444,
              "#bd3786"
             ],
             [
              0.5555555555555556,
              "#d8576b"
             ],
             [
              0.6666666666666666,
              "#ed7953"
             ],
             [
              0.7777777777777778,
              "#fb9f3a"
             ],
             [
              0.8888888888888888,
              "#fdca26"
             ],
             [
              1,
              "#f0f921"
             ]
            ],
            "type": "histogram2dcontour"
           }
          ],
          "mesh3d": [
           {
            "colorbar": {
             "outlinewidth": 0,
             "ticks": ""
            },
            "type": "mesh3d"
           }
          ],
          "parcoords": [
           {
            "line": {
             "colorbar": {
              "outlinewidth": 0,
              "ticks": ""
             }
            },
            "type": "parcoords"
           }
          ],
          "pie": [
           {
            "automargin": true,
            "type": "pie"
           }
          ],
          "scatter": [
           {
            "fillpattern": {
             "fillmode": "overlay",
             "size": 10,
             "solidity": 0.2
            },
            "type": "scatter"
           }
          ],
          "scatter3d": [
           {
            "line": {
             "colorbar": {
              "outlinewidth": 0,
              "ticks": ""
             }
            },
            "marker": {
             "colorbar": {
              "outlinewidth": 0,
              "ticks": ""
             }
            },
            "type": "scatter3d"
           }
          ],
          "scattercarpet": [
           {
            "marker": {
             "colorbar": {
              "outlinewidth": 0,
              "ticks": ""
             }
            },
            "type": "scattercarpet"
           }
          ],
          "scattergeo": [
           {
            "marker": {
             "colorbar": {
              "outlinewidth": 0,
              "ticks": ""
             }
            },
            "type": "scattergeo"
           }
          ],
          "scattergl": [
           {
            "marker": {
             "colorbar": {
              "outlinewidth": 0,
              "ticks": ""
             }
            },
            "type": "scattergl"
           }
          ],
          "scattermap": [
           {
            "marker": {
             "colorbar": {
              "outlinewidth": 0,
              "ticks": ""
             }
            },
            "type": "scattermap"
           }
          ],
          "scattermapbox": [
           {
            "marker": {
             "colorbar": {
              "outlinewidth": 0,
              "ticks": ""
             }
            },
            "type": "scattermapbox"
           }
          ],
          "scatterpolar": [
           {
            "marker": {
             "colorbar": {
              "outlinewidth": 0,
              "ticks": ""
             }
            },
            "type": "scatterpolar"
           }
          ],
          "scatterpolargl": [
           {
            "marker": {
             "colorbar": {
              "outlinewidth": 0,
              "ticks": ""
             }
            },
            "type": "scatterpolargl"
           }
          ],
          "scatterternary": [
           {
            "marker": {
             "colorbar": {
              "outlinewidth": 0,
              "ticks": ""
             }
            },
            "type": "scatterternary"
           }
          ],
          "surface": [
           {
            "colorbar": {
             "outlinewidth": 0,
             "ticks": ""
            },
            "colorscale": [
             [
              0,
              "#0d0887"
             ],
             [
              0.1111111111111111,
              "#46039f"
             ],
             [
              0.2222222222222222,
              "#7201a8"
             ],
             [
              0.3333333333333333,
              "#9c179e"
             ],
             [
              0.4444444444444444,
              "#bd3786"
             ],
             [
              0.5555555555555556,
              "#d8576b"
             ],
             [
              0.6666666666666666,
              "#ed7953"
             ],
             [
              0.7777777777777778,
              "#fb9f3a"
             ],
             [
              0.8888888888888888,
              "#fdca26"
             ],
             [
              1,
              "#f0f921"
             ]
            ],
            "type": "surface"
           }
          ],
          "table": [
           {
            "cells": {
             "fill": {
              "color": "#EBF0F8"
             },
             "line": {
              "color": "white"
             }
            },
            "header": {
             "fill": {
              "color": "#C8D4E3"
             },
             "line": {
              "color": "white"
             }
            },
            "type": "table"
           }
          ]
         },
         "layout": {
          "annotationdefaults": {
           "arrowcolor": "#2a3f5f",
           "arrowhead": 0,
           "arrowwidth": 1
          },
          "autotypenumbers": "strict",
          "coloraxis": {
           "colorbar": {
            "outlinewidth": 0,
            "ticks": ""
           }
          },
          "colorscale": {
           "diverging": [
            [
             0,
             "#8e0152"
            ],
            [
             0.1,
             "#c51b7d"
            ],
            [
             0.2,
             "#de77ae"
            ],
            [
             0.3,
             "#f1b6da"
            ],
            [
             0.4,
             "#fde0ef"
            ],
            [
             0.5,
             "#f7f7f7"
            ],
            [
             0.6,
             "#e6f5d0"
            ],
            [
             0.7,
             "#b8e186"
            ],
            [
             0.8,
             "#7fbc41"
            ],
            [
             0.9,
             "#4d9221"
            ],
            [
             1,
             "#276419"
            ]
           ],
           "sequential": [
            [
             0,
             "#0d0887"
            ],
            [
             0.1111111111111111,
             "#46039f"
            ],
            [
             0.2222222222222222,
             "#7201a8"
            ],
            [
             0.3333333333333333,
             "#9c179e"
            ],
            [
             0.4444444444444444,
             "#bd3786"
            ],
            [
             0.5555555555555556,
             "#d8576b"
            ],
            [
             0.6666666666666666,
             "#ed7953"
            ],
            [
             0.7777777777777778,
             "#fb9f3a"
            ],
            [
             0.8888888888888888,
             "#fdca26"
            ],
            [
             1,
             "#f0f921"
            ]
           ],
           "sequentialminus": [
            [
             0,
             "#0d0887"
            ],
            [
             0.1111111111111111,
             "#46039f"
            ],
            [
             0.2222222222222222,
             "#7201a8"
            ],
            [
             0.3333333333333333,
             "#9c179e"
            ],
            [
             0.4444444444444444,
             "#bd3786"
            ],
            [
             0.5555555555555556,
             "#d8576b"
            ],
            [
             0.6666666666666666,
             "#ed7953"
            ],
            [
             0.7777777777777778,
             "#fb9f3a"
            ],
            [
             0.8888888888888888,
             "#fdca26"
            ],
            [
             1,
             "#f0f921"
            ]
           ]
          },
          "colorway": [
           "#636efa",
           "#EF553B",
           "#00cc96",
           "#ab63fa",
           "#FFA15A",
           "#19d3f3",
           "#FF6692",
           "#B6E880",
           "#FF97FF",
           "#FECB52"
          ],
          "font": {
           "color": "#2a3f5f"
          },
          "geo": {
           "bgcolor": "white",
           "lakecolor": "white",
           "landcolor": "#E5ECF6",
           "showlakes": true,
           "showland": true,
           "subunitcolor": "white"
          },
          "hoverlabel": {
           "align": "left"
          },
          "hovermode": "closest",
          "mapbox": {
           "style": "light"
          },
          "paper_bgcolor": "white",
          "plot_bgcolor": "#E5ECF6",
          "polar": {
           "angularaxis": {
            "gridcolor": "white",
            "linecolor": "white",
            "ticks": ""
           },
           "bgcolor": "#E5ECF6",
           "radialaxis": {
            "gridcolor": "white",
            "linecolor": "white",
            "ticks": ""
           }
          },
          "scene": {
           "xaxis": {
            "backgroundcolor": "#E5ECF6",
            "gridcolor": "white",
            "gridwidth": 2,
            "linecolor": "white",
            "showbackground": true,
            "ticks": "",
            "zerolinecolor": "white"
           },
           "yaxis": {
            "backgroundcolor": "#E5ECF6",
            "gridcolor": "white",
            "gridwidth": 2,
            "linecolor": "white",
            "showbackground": true,
            "ticks": "",
            "zerolinecolor": "white"
           },
           "zaxis": {
            "backgroundcolor": "#E5ECF6",
            "gridcolor": "white",
            "gridwidth": 2,
            "linecolor": "white",
            "showbackground": true,
            "ticks": "",
            "zerolinecolor": "white"
           }
          },
          "shapedefaults": {
           "line": {
            "color": "#2a3f5f"
           }
          },
          "ternary": {
           "aaxis": {
            "gridcolor": "white",
            "linecolor": "white",
            "ticks": ""
           },
           "baxis": {
            "gridcolor": "white",
            "linecolor": "white",
            "ticks": ""
           },
           "bgcolor": "#E5ECF6",
           "caxis": {
            "gridcolor": "white",
            "linecolor": "white",
            "ticks": ""
           }
          },
          "title": {
           "x": 0.05
          },
          "xaxis": {
           "automargin": true,
           "gridcolor": "white",
           "linecolor": "white",
           "ticks": "",
           "title": {
            "standoff": 15
           },
           "zerolinecolor": "white",
           "zerolinewidth": 2
          },
          "yaxis": {
           "automargin": true,
           "gridcolor": "white",
           "linecolor": "white",
           "ticks": "",
           "title": {
            "standoff": 15
           },
           "zerolinecolor": "white",
           "zerolinewidth": 2
          }
         }
        },
        "title": {
         "text": "Input marginal probabilities"
        },
        "xaxis": {
         "anchor": "y",
         "domain": [
          0,
          1
         ],
         "title": {
          "text": "x"
         }
        },
        "yaxis": {
         "anchor": "x",
         "domain": [
          0,
          1
         ],
         "title": {
          "text": "y"
         }
        }
       }
      }
     },
     "metadata": {},
     "output_type": "display_data"
    },
    {
     "data": {
      "application/vnd.plotly.v1+json": {
       "config": {
        "plotlyServerURL": "https://plot.ly"
       },
       "data": [
        {
         "hovertemplate": "x=%{x}<br>y=%{y}<extra></extra>",
         "legendgroup": "",
         "marker": {
          "color": "#636efa",
          "pattern": {
           "shape": ""
          }
         },
         "name": "",
         "orientation": "v",
         "showlegend": false,
         "textposition": "auto",
         "type": "bar",
         "x": [
          "LISINOPRIL",
          "SIMVASTATIN",
          "HYDROCHLOROTHIAZIDE",
          "METFORMIN",
          "METOPROLOL",
          "ATORVASTATIN",
          "AMLODIPINE",
          "LEVOTHYROXINE",
          "CLOPIDOGREL",
          "ATENOLOL",
          "GLIPIZIDE",
          "LOSARTAN",
          "OMEPRAZOLE",
          "LOVASTATIN",
          "VALSARTAN",
          "FUROSEMIDE",
          "PRAVASTATIN",
          "WARFARIN",
          "ALENDRONATE",
          "PIOGLITAZONE",
          "CARVEDILOL",
          "ROSUVASTATIN",
          "ALBUTEROL",
          "TAMSULOSIN",
          "MONTELUKAST",
          "CITALOPRAM",
          "ESOMEPRAZOLE",
          "SERTRALINE",
          "ALLOPURINOL",
          "ZOLPIDEM",
          "PREDNISONE",
          "FEXOFENADINE",
          "INSULIN GLARGINE",
          "IBUPROFEN",
          "GABAPENTIN",
          "RANITIDINE",
          "TRAMADOL",
          "ASPIRIN",
          "POTASSIUM CHLORIDE",
          "FLUTICASONE NASAL"
         ],
         "xaxis": "x",
         "y": {
          "bdata": "KETAIVSp5z9bmfBL/bziP/VKWYY41t0/zsKedvhr0D9egH106srPP9MTlnhA2cA/xQPKplzhvT8xlBPtKqS8P6Io0CfyJLE/1cqEX+rnrT+YLy/APjqlP4KtEiwOZ54/dmwE4nX9oj/PoKF/gouVPyqpE9BE2JA/f03WqIdolD8cX3tmSYCKP4W2nEtxVYk/Tgte9BWkiT/i5H6HokB/Pz0P7s7abYc/Gy/dJAaBhT8dA7LXuz+OP2fV52or9nc/E0n0Morlhj8dd0oH6/98P/KwUGuad3w/g/qWOV0Wcz8lXTP5ZptrP12nkZbK23E/+WabG9MTdj9mvRjKiXZ1P3aJ6q2BrWI/wARu3c1TXT/gnBGlvcFnPxWMSuoENGE/A5Xx7zMuXD+An3HhQEhWP+Un1T4dj0k/vHmqQ26GKz8=",
          "dtype": "f8"
         },
         "yaxis": "y"
        }
       ],
       "layout": {
        "barmode": "relative",
        "legend": {
         "tracegroupgap": 0
        },
        "template": {
         "data": {
          "bar": [
           {
            "error_x": {
             "color": "#2a3f5f"
            },
            "error_y": {
             "color": "#2a3f5f"
            },
            "marker": {
             "line": {
              "color": "#E5ECF6",
              "width": 0.5
             },
             "pattern": {
              "fillmode": "overlay",
              "size": 10,
              "solidity": 0.2
             }
            },
            "type": "bar"
           }
          ],
          "barpolar": [
           {
            "marker": {
             "line": {
              "color": "#E5ECF6",
              "width": 0.5
             },
             "pattern": {
              "fillmode": "overlay",
              "size": 10,
              "solidity": 0.2
             }
            },
            "type": "barpolar"
           }
          ],
          "carpet": [
           {
            "aaxis": {
             "endlinecolor": "#2a3f5f",
             "gridcolor": "white",
             "linecolor": "white",
             "minorgridcolor": "white",
             "startlinecolor": "#2a3f5f"
            },
            "baxis": {
             "endlinecolor": "#2a3f5f",
             "gridcolor": "white",
             "linecolor": "white",
             "minorgridcolor": "white",
             "startlinecolor": "#2a3f5f"
            },
            "type": "carpet"
           }
          ],
          "choropleth": [
           {
            "colorbar": {
             "outlinewidth": 0,
             "ticks": ""
            },
            "type": "choropleth"
           }
          ],
          "contour": [
           {
            "colorbar": {
             "outlinewidth": 0,
             "ticks": ""
            },
            "colorscale": [
             [
              0,
              "#0d0887"
             ],
             [
              0.1111111111111111,
              "#46039f"
             ],
             [
              0.2222222222222222,
              "#7201a8"
             ],
             [
              0.3333333333333333,
              "#9c179e"
             ],
             [
              0.4444444444444444,
              "#bd3786"
             ],
             [
              0.5555555555555556,
              "#d8576b"
             ],
             [
              0.6666666666666666,
              "#ed7953"
             ],
             [
              0.7777777777777778,
              "#fb9f3a"
             ],
             [
              0.8888888888888888,
              "#fdca26"
             ],
             [
              1,
              "#f0f921"
             ]
            ],
            "type": "contour"
           }
          ],
          "contourcarpet": [
           {
            "colorbar": {
             "outlinewidth": 0,
             "ticks": ""
            },
            "type": "contourcarpet"
           }
          ],
          "heatmap": [
           {
            "colorbar": {
             "outlinewidth": 0,
             "ticks": ""
            },
            "colorscale": [
             [
              0,
              "#0d0887"
             ],
             [
              0.1111111111111111,
              "#46039f"
             ],
             [
              0.2222222222222222,
              "#7201a8"
             ],
             [
              0.3333333333333333,
              "#9c179e"
             ],
             [
              0.4444444444444444,
              "#bd3786"
             ],
             [
              0.5555555555555556,
              "#d8576b"
             ],
             [
              0.6666666666666666,
              "#ed7953"
             ],
             [
              0.7777777777777778,
              "#fb9f3a"
             ],
             [
              0.8888888888888888,
              "#fdca26"
             ],
             [
              1,
              "#f0f921"
             ]
            ],
            "type": "heatmap"
           }
          ],
          "histogram": [
           {
            "marker": {
             "pattern": {
              "fillmode": "overlay",
              "size": 10,
              "solidity": 0.2
             }
            },
            "type": "histogram"
           }
          ],
          "histogram2d": [
           {
            "colorbar": {
             "outlinewidth": 0,
             "ticks": ""
            },
            "colorscale": [
             [
              0,
              "#0d0887"
             ],
             [
              0.1111111111111111,
              "#46039f"
             ],
             [
              0.2222222222222222,
              "#7201a8"
             ],
             [
              0.3333333333333333,
              "#9c179e"
             ],
             [
              0.4444444444444444,
              "#bd3786"
             ],
             [
              0.5555555555555556,
              "#d8576b"
             ],
             [
              0.6666666666666666,
              "#ed7953"
             ],
             [
              0.7777777777777778,
              "#fb9f3a"
             ],
             [
              0.8888888888888888,
              "#fdca26"
             ],
             [
              1,
              "#f0f921"
             ]
            ],
            "type": "histogram2d"
           }
          ],
          "histogram2dcontour": [
           {
            "colorbar": {
             "outlinewidth": 0,
             "ticks": ""
            },
            "colorscale": [
             [
              0,
              "#0d0887"
             ],
             [
              0.1111111111111111,
              "#46039f"
             ],
             [
              0.2222222222222222,
              "#7201a8"
             ],
             [
              0.3333333333333333,
              "#9c179e"
             ],
             [
              0.4444444444444444,
              "#bd3786"
             ],
             [
              0.5555555555555556,
              "#d8576b"
             ],
             [
              0.6666666666666666,
              "#ed7953"
             ],
             [
              0.7777777777777778,
              "#fb9f3a"
             ],
             [
              0.8888888888888888,
              "#fdca26"
             ],
             [
              1,
              "#f0f921"
             ]
            ],
            "type": "histogram2dcontour"
           }
          ],
          "mesh3d": [
           {
            "colorbar": {
             "outlinewidth": 0,
             "ticks": ""
            },
            "type": "mesh3d"
           }
          ],
          "parcoords": [
           {
            "line": {
             "colorbar": {
              "outlinewidth": 0,
              "ticks": ""
             }
            },
            "type": "parcoords"
           }
          ],
          "pie": [
           {
            "automargin": true,
            "type": "pie"
           }
          ],
          "scatter": [
           {
            "fillpattern": {
             "fillmode": "overlay",
             "size": 10,
             "solidity": 0.2
            },
            "type": "scatter"
           }
          ],
          "scatter3d": [
           {
            "line": {
             "colorbar": {
              "outlinewidth": 0,
              "ticks": ""
             }
            },
            "marker": {
             "colorbar": {
              "outlinewidth": 0,
              "ticks": ""
             }
            },
            "type": "scatter3d"
           }
          ],
          "scattercarpet": [
           {
            "marker": {
             "colorbar": {
              "outlinewidth": 0,
              "ticks": ""
             }
            },
            "type": "scattercarpet"
           }
          ],
          "scattergeo": [
           {
            "marker": {
             "colorbar": {
              "outlinewidth": 0,
              "ticks": ""
             }
            },
            "type": "scattergeo"
           }
          ],
          "scattergl": [
           {
            "marker": {
             "colorbar": {
              "outlinewidth": 0,
              "ticks": ""
             }
            },
            "type": "scattergl"
           }
          ],
          "scattermap": [
           {
            "marker": {
             "colorbar": {
              "outlinewidth": 0,
              "ticks": ""
             }
            },
            "type": "scattermap"
           }
          ],
          "scattermapbox": [
           {
            "marker": {
             "colorbar": {
              "outlinewidth": 0,
              "ticks": ""
             }
            },
            "type": "scattermapbox"
           }
          ],
          "scatterpolar": [
           {
            "marker": {
             "colorbar": {
              "outlinewidth": 0,
              "ticks": ""
             }
            },
            "type": "scatterpolar"
           }
          ],
          "scatterpolargl": [
           {
            "marker": {
             "colorbar": {
              "outlinewidth": 0,
              "ticks": ""
             }
            },
            "type": "scatterpolargl"
           }
          ],
          "scatterternary": [
           {
            "marker": {
             "colorbar": {
              "outlinewidth": 0,
              "ticks": ""
             }
            },
            "type": "scatterternary"
           }
          ],
          "surface": [
           {
            "colorbar": {
             "outlinewidth": 0,
             "ticks": ""
            },
            "colorscale": [
             [
              0,
              "#0d0887"
             ],
             [
              0.1111111111111111,
              "#46039f"
             ],
             [
              0.2222222222222222,
              "#7201a8"
             ],
             [
              0.3333333333333333,
              "#9c179e"
             ],
             [
              0.4444444444444444,
              "#bd3786"
             ],
             [
              0.5555555555555556,
              "#d8576b"
             ],
             [
              0.6666666666666666,
              "#ed7953"
             ],
             [
              0.7777777777777778,
              "#fb9f3a"
             ],
             [
              0.8888888888888888,
              "#fdca26"
             ],
             [
              1,
              "#f0f921"
             ]
            ],
            "type": "surface"
           }
          ],
          "table": [
           {
            "cells": {
             "fill": {
              "color": "#EBF0F8"
             },
             "line": {
              "color": "white"
             }
            },
            "header": {
             "fill": {
              "color": "#C8D4E3"
             },
             "line": {
              "color": "white"
             }
            },
            "type": "table"
           }
          ]
         },
         "layout": {
          "annotationdefaults": {
           "arrowcolor": "#2a3f5f",
           "arrowhead": 0,
           "arrowwidth": 1
          },
          "autotypenumbers": "strict",
          "coloraxis": {
           "colorbar": {
            "outlinewidth": 0,
            "ticks": ""
           }
          },
          "colorscale": {
           "diverging": [
            [
             0,
             "#8e0152"
            ],
            [
             0.1,
             "#c51b7d"
            ],
            [
             0.2,
             "#de77ae"
            ],
            [
             0.3,
             "#f1b6da"
            ],
            [
             0.4,
             "#fde0ef"
            ],
            [
             0.5,
             "#f7f7f7"
            ],
            [
             0.6,
             "#e6f5d0"
            ],
            [
             0.7,
             "#b8e186"
            ],
            [
             0.8,
             "#7fbc41"
            ],
            [
             0.9,
             "#4d9221"
            ],
            [
             1,
             "#276419"
            ]
           ],
           "sequential": [
            [
             0,
             "#0d0887"
            ],
            [
             0.1111111111111111,
             "#46039f"
            ],
            [
             0.2222222222222222,
             "#7201a8"
            ],
            [
             0.3333333333333333,
             "#9c179e"
            ],
            [
             0.4444444444444444,
             "#bd3786"
            ],
            [
             0.5555555555555556,
             "#d8576b"
            ],
            [
             0.6666666666666666,
             "#ed7953"
            ],
            [
             0.7777777777777778,
             "#fb9f3a"
            ],
            [
             0.8888888888888888,
             "#fdca26"
            ],
            [
             1,
             "#f0f921"
            ]
           ],
           "sequentialminus": [
            [
             0,
             "#0d0887"
            ],
            [
             0.1111111111111111,
             "#46039f"
            ],
            [
             0.2222222222222222,
             "#7201a8"
            ],
            [
             0.3333333333333333,
             "#9c179e"
            ],
            [
             0.4444444444444444,
             "#bd3786"
            ],
            [
             0.5555555555555556,
             "#d8576b"
            ],
            [
             0.6666666666666666,
             "#ed7953"
            ],
            [
             0.7777777777777778,
             "#fb9f3a"
            ],
            [
             0.8888888888888888,
             "#fdca26"
            ],
            [
             1,
             "#f0f921"
            ]
           ]
          },
          "colorway": [
           "#636efa",
           "#EF553B",
           "#00cc96",
           "#ab63fa",
           "#FFA15A",
           "#19d3f3",
           "#FF6692",
           "#B6E880",
           "#FF97FF",
           "#FECB52"
          ],
          "font": {
           "color": "#2a3f5f"
          },
          "geo": {
           "bgcolor": "white",
           "lakecolor": "white",
           "landcolor": "#E5ECF6",
           "showlakes": true,
           "showland": true,
           "subunitcolor": "white"
          },
          "hoverlabel": {
           "align": "left"
          },
          "hovermode": "closest",
          "mapbox": {
           "style": "light"
          },
          "paper_bgcolor": "white",
          "plot_bgcolor": "#E5ECF6",
          "polar": {
           "angularaxis": {
            "gridcolor": "white",
            "linecolor": "white",
            "ticks": ""
           },
           "bgcolor": "#E5ECF6",
           "radialaxis": {
            "gridcolor": "white",
            "linecolor": "white",
            "ticks": ""
           }
          },
          "scene": {
           "xaxis": {
            "backgroundcolor": "#E5ECF6",
            "gridcolor": "white",
            "gridwidth": 2,
            "linecolor": "white",
            "showbackground": true,
            "ticks": "",
            "zerolinecolor": "white"
           },
           "yaxis": {
            "backgroundcolor": "#E5ECF6",
            "gridcolor": "white",
            "gridwidth": 2,
            "linecolor": "white",
            "showbackground": true,
            "ticks": "",
            "zerolinecolor": "white"
           },
           "zaxis": {
            "backgroundcolor": "#E5ECF6",
            "gridcolor": "white",
            "gridwidth": 2,
            "linecolor": "white",
            "showbackground": true,
            "ticks": "",
            "zerolinecolor": "white"
           }
          },
          "shapedefaults": {
           "line": {
            "color": "#2a3f5f"
           }
          },
          "ternary": {
           "aaxis": {
            "gridcolor": "white",
            "linecolor": "white",
            "ticks": ""
           },
           "baxis": {
            "gridcolor": "white",
            "linecolor": "white",
            "ticks": ""
           },
           "bgcolor": "#E5ECF6",
           "caxis": {
            "gridcolor": "white",
            "linecolor": "white",
            "ticks": ""
           }
          },
          "title": {
           "x": 0.05
          },
          "xaxis": {
           "automargin": true,
           "gridcolor": "white",
           "linecolor": "white",
           "ticks": "",
           "title": {
            "standoff": 15
           },
           "zerolinecolor": "white",
           "zerolinewidth": 2
          },
          "yaxis": {
           "automargin": true,
           "gridcolor": "white",
           "linecolor": "white",
           "ticks": "",
           "title": {
            "standoff": 15
           },
           "zerolinecolor": "white",
           "zerolinewidth": 2
          }
         }
        },
        "title": {
         "text": "Sampled marginal probabilities"
        },
        "xaxis": {
         "anchor": "y",
         "categoryarray": [
          "LISINOPRIL",
          "SIMVASTATIN",
          "HYDROCHLOROTHIAZIDE",
          "METFORMIN",
          "METOPROLOL",
          "ATORVASTATIN",
          "AMLODIPINE",
          "LEVOTHYROXINE",
          "CLOPIDOGREL",
          "ATENOLOL",
          "GLIPIZIDE",
          "LOSARTAN",
          "OMEPRAZOLE",
          "LOVASTATIN",
          "VALSARTAN",
          "FUROSEMIDE",
          "PRAVASTATIN",
          "WARFARIN",
          "ALENDRONATE",
          "PIOGLITAZONE",
          "CARVEDILOL",
          "ROSUVASTATIN",
          "ALBUTEROL",
          "TAMSULOSIN",
          "MONTELUKAST",
          "CITALOPRAM",
          "ESOMEPRAZOLE",
          "SERTRALINE",
          "ALLOPURINOL",
          "ZOLPIDEM",
          "PREDNISONE",
          "FEXOFENADINE",
          "INSULIN GLARGINE",
          "IBUPROFEN",
          "GABAPENTIN",
          "RANITIDINE",
          "TRAMADOL",
          "ASPIRIN",
          "POTASSIUM CHLORIDE",
          "FLUTICASONE NASAL"
         ],
         "categoryorder": "array",
         "domain": [
          0,
          1
         ],
         "title": {
          "text": "x"
         }
        },
        "yaxis": {
         "anchor": "x",
         "domain": [
          0,
          1
         ],
         "title": {
          "text": "y"
         }
        }
       }
      }
     },
     "metadata": {},
     "output_type": "display_data"
    }
   ],
   "source": [
    "sample.astype(int)\n",
    "\n",
    "visualize(sample)\n"
   ]
  },
  {
   "cell_type": "code",
   "execution_count": 8,
   "metadata": {},
   "outputs": [
    {
     "name": "stderr",
     "output_type": "stream",
     "text": [
      "/Users/karina/Library/Python/3.9/lib/python/site-packages/bindata/check_commonprob.py:81: UserWarning:\n",
      "\n",
      "simulvals provided is not computed to a sufficient resolution\n",
      "to resolve the common probabilies provided in commonprob.\n",
      "\n",
      "\n",
      "INTERPOLATION IS GOING TO BE USED.\n",
      "\n",
      "Consider computing simulvals on a finer grid.\n",
      "The current resolution is on these points:\n",
      "[(0, 0), (0, 0.001), (0, 0.01), (0, np.float64(0.05)), (0, np.float64(0.1)), (0, np.float64(0.15)), (0, np.float64(0.2)), (0, np.float64(0.25)), (0, np.float64(0.3)), (0, np.float64(0.35)), (0, np.float64(0.4)), (0, np.float64(0.45)), (0, np.float64(0.5)), (0, np.float64(0.55)), (0, np.float64(0.6)), (0, np.float64(0.65)), (0, np.float64(0.7)), (0, np.float64(0.75)), (0, np.float64(0.8)), (0, np.float64(0.85)), (0, np.float64(0.9)), (0, np.float64(0.95)), (0, 0.99), (0, 0.999), (0, 1), (0.001, 0.001), (0.001, 0.01), (0.001, np.float64(0.05)), (0.001, np.float64(0.1)), (0.001, np.float64(0.15)), (0.001, np.float64(0.2)), (0.001, np.float64(0.25)), (0.001, np.float64(0.3)), (0.001, np.float64(0.35)), (0.001, np.float64(0.4)), (0.001, np.float64(0.45)), (0.001, np.float64(0.5)), (0.001, np.float64(0.55)), (0.001, np.float64(0.6)), (0.001, np.float64(0.65)), (0.001, np.float64(0.7)), (0.001, np.float64(0.75)), (0.001, np.float64(0.8)), (0.001, np.float64(0.85)), (0.001, np.float64(0.9)), (0.001, np.float64(0.95)), (0.001, 0.99), (0.001, 0.999), (0.001, 1), (0.01, 0.01), (0.01, np.float64(0.05)), (0.01, np.float64(0.1)), (0.01, np.float64(0.15)), (0.01, np.float64(0.2)), (0.01, np.float64(0.25)), (0.01, np.float64(0.3)), (0.01, np.float64(0.35)), (0.01, np.float64(0.4)), (0.01, np.float64(0.45)), (0.01, np.float64(0.5)), (0.01, np.float64(0.55)), (0.01, np.float64(0.6)), (0.01, np.float64(0.65)), (0.01, np.float64(0.7)), (0.01, np.float64(0.75)), (0.01, np.float64(0.8)), (0.01, np.float64(0.85)), (0.01, np.float64(0.9)), (0.01, np.float64(0.95)), (0.01, 0.99), (0.01, 0.999), (0.01, 1), (np.float64(0.05), np.float64(0.05)), (np.float64(0.05), np.float64(0.1)), (np.float64(0.05), np.float64(0.15)), (np.float64(0.05), np.float64(0.2)), (np.float64(0.05), np.float64(0.25)), (np.float64(0.05), np.float64(0.3)), (np.float64(0.05), np.float64(0.35)), (np.float64(0.05), np.float64(0.4)), (np.float64(0.05), np.float64(0.45)), (np.float64(0.05), np.float64(0.5)), (np.float64(0.05), np.float64(0.55)), (np.float64(0.05), np.float64(0.6)), (np.float64(0.05), np.float64(0.65)), (np.float64(0.05), np.float64(0.7)), (np.float64(0.05), np.float64(0.75)), (np.float64(0.05), np.float64(0.8)), (np.float64(0.05), np.float64(0.85)), (np.float64(0.05), np.float64(0.9)), (np.float64(0.05), np.float64(0.95)), (np.float64(0.05), 0.99), (np.float64(0.05), 0.999), (np.float64(0.05), 1), (np.float64(0.1), np.float64(0.1)), (np.float64(0.1), np.float64(0.15)), (np.float64(0.1), np.float64(0.2)), (np.float64(0.1), np.float64(0.25)), (np.float64(0.1), np.float64(0.3)), (np.float64(0.1), np.float64(0.35)), (np.float64(0.1), np.float64(0.4)), (np.float64(0.1), np.float64(0.45)), (np.float64(0.1), np.float64(0.5)), (np.float64(0.1), np.float64(0.55)), (np.float64(0.1), np.float64(0.6)), (np.float64(0.1), np.float64(0.65)), (np.float64(0.1), np.float64(0.7)), (np.float64(0.1), np.float64(0.75)), (np.float64(0.1), np.float64(0.8)), (np.float64(0.1), np.float64(0.85)), (np.float64(0.1), np.float64(0.9)), (np.float64(0.1), np.float64(0.95)), (np.float64(0.1), 0.99), (np.float64(0.1), 0.999), (np.float64(0.1), 1), (np.float64(0.15), np.float64(0.15)), (np.float64(0.15), np.float64(0.2)), (np.float64(0.15), np.float64(0.25)), (np.float64(0.15), np.float64(0.3)), (np.float64(0.15), np.float64(0.35)), (np.float64(0.15), np.float64(0.4)), (np.float64(0.15), np.float64(0.45)), (np.float64(0.15), np.float64(0.5)), (np.float64(0.15), np.float64(0.55)), (np.float64(0.15), np.float64(0.6)), (np.float64(0.15), np.float64(0.65)), (np.float64(0.15), np.float64(0.7)), (np.float64(0.15), np.float64(0.75)), (np.float64(0.15), np.float64(0.8)), (np.float64(0.15), np.float64(0.85)), (np.float64(0.15), np.float64(0.9)), (np.float64(0.15), np.float64(0.95)), (np.float64(0.15), 0.99), (np.float64(0.15), 0.999), (np.float64(0.15), 1), (np.float64(0.2), np.float64(0.2)), (np.float64(0.2), np.float64(0.25)), (np.float64(0.2), np.float64(0.3)), (np.float64(0.2), np.float64(0.35)), (np.float64(0.2), np.float64(0.4)), (np.float64(0.2), np.float64(0.45)), (np.float64(0.2), np.float64(0.5)), (np.float64(0.2), np.float64(0.55)), (np.float64(0.2), np.float64(0.6)), (np.float64(0.2), np.float64(0.65)), (np.float64(0.2), np.float64(0.7)), (np.float64(0.2), np.float64(0.75)), (np.float64(0.2), np.float64(0.8)), (np.float64(0.2), np.float64(0.85)), (np.float64(0.2), np.float64(0.9)), (np.float64(0.2), np.float64(0.95)), (np.float64(0.2), 0.99), (np.float64(0.2), 0.999), (np.float64(0.2), 1), (np.float64(0.25), np.float64(0.25)), (np.float64(0.25), np.float64(0.3)), (np.float64(0.25), np.float64(0.35)), (np.float64(0.25), np.float64(0.4)), (np.float64(0.25), np.float64(0.45)), (np.float64(0.25), np.float64(0.5)), (np.float64(0.25), np.float64(0.55)), (np.float64(0.25), np.float64(0.6)), (np.float64(0.25), np.float64(0.65)), (np.float64(0.25), np.float64(0.7)), (np.float64(0.25), np.float64(0.75)), (np.float64(0.25), np.float64(0.8)), (np.float64(0.25), np.float64(0.85)), (np.float64(0.25), np.float64(0.9)), (np.float64(0.25), np.float64(0.95)), (np.float64(0.25), 0.99), (np.float64(0.25), 0.999), (np.float64(0.25), 1), (np.float64(0.3), np.float64(0.3)), (np.float64(0.3), np.float64(0.35)), (np.float64(0.3), np.float64(0.4)), (np.float64(0.3), np.float64(0.45)), (np.float64(0.3), np.float64(0.5)), (np.float64(0.3), np.float64(0.55)), (np.float64(0.3), np.float64(0.6)), (np.float64(0.3), np.float64(0.65)), (np.float64(0.3), np.float64(0.7)), (np.float64(0.3), np.float64(0.75)), (np.float64(0.3), np.float64(0.8)), (np.float64(0.3), np.float64(0.85)), (np.float64(0.3), np.float64(0.9)), (np.float64(0.3), np.float64(0.95)), (np.float64(0.3), 0.99), (np.float64(0.3), 0.999), (np.float64(0.3), 1), (np.float64(0.35), np.float64(0.35)), (np.float64(0.35), np.float64(0.4)), (np.float64(0.35), np.float64(0.45)), (np.float64(0.35), np.float64(0.5)), (np.float64(0.35), np.float64(0.55)), (np.float64(0.35), np.float64(0.6)), (np.float64(0.35), np.float64(0.65)), (np.float64(0.35), np.float64(0.7)), (np.float64(0.35), np.float64(0.75)), (np.float64(0.35), np.float64(0.8)), (np.float64(0.35), np.float64(0.85)), (np.float64(0.35), np.float64(0.9)), (np.float64(0.35), np.float64(0.95)), (np.float64(0.35), 0.99), (np.float64(0.35), 0.999), (np.float64(0.35), 1), (np.float64(0.4), np.float64(0.4)), (np.float64(0.4), np.float64(0.45)), (np.float64(0.4), np.float64(0.5)), (np.float64(0.4), np.float64(0.55)), (np.float64(0.4), np.float64(0.6)), (np.float64(0.4), np.float64(0.65)), (np.float64(0.4), np.float64(0.7)), (np.float64(0.4), np.float64(0.75)), (np.float64(0.4), np.float64(0.8)), (np.float64(0.4), np.float64(0.85)), (np.float64(0.4), np.float64(0.9)), (np.float64(0.4), np.float64(0.95)), (np.float64(0.4), 0.99), (np.float64(0.4), 0.999), (np.float64(0.4), 1), (np.float64(0.45), np.float64(0.45)), (np.float64(0.45), np.float64(0.5)), (np.float64(0.45), np.float64(0.55)), (np.float64(0.45), np.float64(0.6)), (np.float64(0.45), np.float64(0.65)), (np.float64(0.45), np.float64(0.7)), (np.float64(0.45), np.float64(0.75)), (np.float64(0.45), np.float64(0.8)), (np.float64(0.45), np.float64(0.85)), (np.float64(0.45), np.float64(0.9)), (np.float64(0.45), np.float64(0.95)), (np.float64(0.45), 0.99), (np.float64(0.45), 0.999), (np.float64(0.45), 1), (np.float64(0.5), np.float64(0.5)), (np.float64(0.5), np.float64(0.55)), (np.float64(0.5), np.float64(0.6)), (np.float64(0.5), np.float64(0.65)), (np.float64(0.5), np.float64(0.7)), (np.float64(0.5), np.float64(0.75)), (np.float64(0.5), np.float64(0.8)), (np.float64(0.5), np.float64(0.85)), (np.float64(0.5), np.float64(0.9)), (np.float64(0.5), np.float64(0.95)), (np.float64(0.5), 0.99), (np.float64(0.5), 0.999), (np.float64(0.5), 1), (np.float64(0.55), np.float64(0.55)), (np.float64(0.55), np.float64(0.6)), (np.float64(0.55), np.float64(0.65)), (np.float64(0.55), np.float64(0.7)), (np.float64(0.55), np.float64(0.75)), (np.float64(0.55), np.float64(0.8)), (np.float64(0.55), np.float64(0.85)), (np.float64(0.55), np.float64(0.9)), (np.float64(0.55), np.float64(0.95)), (np.float64(0.55), 0.99), (np.float64(0.55), 0.999), (np.float64(0.55), 1), (np.float64(0.6), np.float64(0.6)), (np.float64(0.6), np.float64(0.65)), (np.float64(0.6), np.float64(0.7)), (np.float64(0.6), np.float64(0.75)), (np.float64(0.6), np.float64(0.8)), (np.float64(0.6), np.float64(0.85)), (np.float64(0.6), np.float64(0.9)), (np.float64(0.6), np.float64(0.95)), (np.float64(0.6), 0.99), (np.float64(0.6), 0.999), (np.float64(0.6), 1), (np.float64(0.65), np.float64(0.65)), (np.float64(0.65), np.float64(0.7)), (np.float64(0.65), np.float64(0.75)), (np.float64(0.65), np.float64(0.8)), (np.float64(0.65), np.float64(0.85)), (np.float64(0.65), np.float64(0.9)), (np.float64(0.65), np.float64(0.95)), (np.float64(0.65), 0.99), (np.float64(0.65), 0.999), (np.float64(0.65), 1), (np.float64(0.7), np.float64(0.7)), (np.float64(0.7), np.float64(0.75)), (np.float64(0.7), np.float64(0.8)), (np.float64(0.7), np.float64(0.85)), (np.float64(0.7), np.float64(0.9)), (np.float64(0.7), np.float64(0.95)), (np.float64(0.7), 0.99), (np.float64(0.7), 0.999), (np.float64(0.7), 1), (np.float64(0.75), np.float64(0.75)), (np.float64(0.75), np.float64(0.8)), (np.float64(0.75), np.float64(0.85)), (np.float64(0.75), np.float64(0.9)), (np.float64(0.75), np.float64(0.95)), (np.float64(0.75), 0.99), (np.float64(0.75), 0.999), (np.float64(0.75), 1), (np.float64(0.8), np.float64(0.8)), (np.float64(0.8), np.float64(0.85)), (np.float64(0.8), np.float64(0.9)), (np.float64(0.8), np.float64(0.95)), (np.float64(0.8), 0.99), (np.float64(0.8), 0.999), (np.float64(0.8), 1), (np.float64(0.85), np.float64(0.85)), (np.float64(0.85), np.float64(0.9)), (np.float64(0.85), np.float64(0.95)), (np.float64(0.85), 0.99), (np.float64(0.85), 0.999), (np.float64(0.85), 1), (np.float64(0.9), np.float64(0.9)), (np.float64(0.9), np.float64(0.95)), (np.float64(0.9), 0.99), (np.float64(0.9), 0.999), (np.float64(0.9), 1), (np.float64(0.95), np.float64(0.95)), (np.float64(0.95), 0.99), (np.float64(0.95), 0.999), (np.float64(0.95), 1), (0.99, 0.99), (0.99, 0.999), (0.99, 1), (0.999, 0.999), (0.999, 1), (1, 1)]\n",
      "Alternatively round the common probabilities or correlations provided\n",
      "to fewer decimal places.\n",
      "\n"
     ]
    },
    {
     "data": {
      "application/vnd.plotly.v1+json": {
       "config": {
        "plotlyServerURL": "https://plot.ly"
       },
       "data": [
        {
         "coloraxis": "coloraxis",
         "hovertemplate": "x: %{x}<br>y: %{y}<br>color: %{z}<extra></extra>",
         "name": "0",
         "type": "heatmap",
         "x": [
          "CARVEDILOL",
          "ESOMEPRAZOLE",
          "LEVOTHYROXINE",
          "TRAMADOL",
          "AMLODIPINE",
          "METOPROLOL",
          "OMEPRAZOLE",
          "SIMVASTATIN",
          "TAMSULOSIN",
          "ALENDRONATE",
          "ATORVASTATIN",
          "LISINOPRIL",
          "LOSARTAN",
          "SERTRALINE",
          "METFORMIN",
          "PIOGLITAZONE",
          "PRAVASTATIN",
          "FUROSEMIDE",
          "POTASSIUM CHLORIDE",
          "HYDROCHLOROTHIAZIDE",
          "ATENOLOL",
          "WARFARIN",
          "ASPIRIN",
          "LOVASTATIN",
          "ALBUTEROL",
          "GLIPIZIDE",
          "RANITIDINE",
          "GABAPENTIN",
          "INSULIN GLARGINE",
          "CLOPIDOGREL",
          "ZOLPIDEM",
          "ALLOPURINOL",
          "CITALOPRAM",
          "PREDNISONE",
          "ROSUVASTATIN",
          "VALSARTAN",
          "IBUPROFEN",
          "FEXOFENADINE",
          "MONTELUKAST",
          "FLUTICASONE NASAL"
         ],
         "xaxis": "x",
         "y": [
          "CARVEDILOL",
          "ESOMEPRAZOLE",
          "LEVOTHYROXINE",
          "TRAMADOL",
          "AMLODIPINE",
          "METOPROLOL",
          "OMEPRAZOLE",
          "SIMVASTATIN",
          "TAMSULOSIN",
          "ALENDRONATE",
          "ATORVASTATIN",
          "LISINOPRIL",
          "LOSARTAN",
          "SERTRALINE",
          "METFORMIN",
          "PIOGLITAZONE",
          "PRAVASTATIN",
          "FUROSEMIDE",
          "POTASSIUM CHLORIDE",
          "HYDROCHLOROTHIAZIDE",
          "ATENOLOL",
          "WARFARIN",
          "ASPIRIN",
          "LOVASTATIN",
          "ALBUTEROL",
          "GLIPIZIDE",
          "RANITIDINE",
          "GABAPENTIN",
          "INSULIN GLARGINE",
          "CLOPIDOGREL",
          "ZOLPIDEM",
          "ALLOPURINOL",
          "CITALOPRAM",
          "PREDNISONE",
          "ROSUVASTATIN",
          "VALSARTAN",
          "IBUPROFEN",
          "FEXOFENADINE",
          "MONTELUKAST",
          "FLUTICASONE NASAL"
         ],
         "yaxis": "y",
         "z": {
          "bdata": "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",
          "dtype": "f8",
          "shape": "40, 40"
         }
        }
       ],
       "layout": {
        "coloraxis": {
         "cmax": 1,
         "cmin": -1,
         "colorscale": [
          [
           0,
           "rgb(103,0,31)"
          ],
          [
           0.1,
           "rgb(178,24,43)"
          ],
          [
           0.2,
           "rgb(214,96,77)"
          ],
          [
           0.3,
           "rgb(244,165,130)"
          ],
          [
           0.4,
           "rgb(253,219,199)"
          ],
          [
           0.5,
           "rgb(247,247,247)"
          ],
          [
           0.6,
           "rgb(209,229,240)"
          ],
          [
           0.7,
           "rgb(146,197,222)"
          ],
          [
           0.8,
           "rgb(67,147,195)"
          ],
          [
           0.9,
           "rgb(33,102,172)"
          ],
          [
           1,
           "rgb(5,48,97)"
          ]
         ]
        },
        "template": {
         "data": {
          "bar": [
           {
            "error_x": {
             "color": "#2a3f5f"
            },
            "error_y": {
             "color": "#2a3f5f"
            },
            "marker": {
             "line": {
              "color": "#E5ECF6",
              "width": 0.5
             },
             "pattern": {
              "fillmode": "overlay",
              "size": 10,
              "solidity": 0.2
             }
            },
            "type": "bar"
           }
          ],
          "barpolar": [
           {
            "marker": {
             "line": {
              "color": "#E5ECF6",
              "width": 0.5
             },
             "pattern": {
              "fillmode": "overlay",
              "size": 10,
              "solidity": 0.2
             }
            },
            "type": "barpolar"
           }
          ],
          "carpet": [
           {
            "aaxis": {
             "endlinecolor": "#2a3f5f",
             "gridcolor": "white",
             "linecolor": "white",
             "minorgridcolor": "white",
             "startlinecolor": "#2a3f5f"
            },
            "baxis": {
             "endlinecolor": "#2a3f5f",
             "gridcolor": "white",
             "linecolor": "white",
             "minorgridcolor": "white",
             "startlinecolor": "#2a3f5f"
            },
            "type": "carpet"
           }
          ],
          "choropleth": [
           {
            "colorbar": {
             "outlinewidth": 0,
             "ticks": ""
            },
            "type": "choropleth"
           }
          ],
          "contour": [
           {
            "colorbar": {
             "outlinewidth": 0,
             "ticks": ""
            },
            "colorscale": [
             [
              0,
              "#0d0887"
             ],
             [
              0.1111111111111111,
              "#46039f"
             ],
             [
              0.2222222222222222,
              "#7201a8"
             ],
             [
              0.3333333333333333,
              "#9c179e"
             ],
             [
              0.4444444444444444,
              "#bd3786"
             ],
             [
              0.5555555555555556,
              "#d8576b"
             ],
             [
              0.6666666666666666,
              "#ed7953"
             ],
             [
              0.7777777777777778,
              "#fb9f3a"
             ],
             [
              0.8888888888888888,
              "#fdca26"
             ],
             [
              1,
              "#f0f921"
             ]
            ],
            "type": "contour"
           }
          ],
          "contourcarpet": [
           {
            "colorbar": {
             "outlinewidth": 0,
             "ticks": ""
            },
            "type": "contourcarpet"
           }
          ],
          "heatmap": [
           {
            "colorbar": {
             "outlinewidth": 0,
             "ticks": ""
            },
            "colorscale": [
             [
              0,
              "#0d0887"
             ],
             [
              0.1111111111111111,
              "#46039f"
             ],
             [
              0.2222222222222222,
              "#7201a8"
             ],
             [
              0.3333333333333333,
              "#9c179e"
             ],
             [
              0.4444444444444444,
              "#bd3786"
             ],
             [
              0.5555555555555556,
              "#d8576b"
             ],
             [
              0.6666666666666666,
              "#ed7953"
             ],
             [
              0.7777777777777778,
              "#fb9f3a"
             ],
             [
              0.8888888888888888,
              "#fdca26"
             ],
             [
              1,
              "#f0f921"
             ]
            ],
            "type": "heatmap"
           }
          ],
          "histogram": [
           {
            "marker": {
             "pattern": {
              "fillmode": "overlay",
              "size": 10,
              "solidity": 0.2
             }
            },
            "type": "histogram"
           }
          ],
          "histogram2d": [
           {
            "colorbar": {
             "outlinewidth": 0,
             "ticks": ""
            },
            "colorscale": [
             [
              0,
              "#0d0887"
             ],
             [
              0.1111111111111111,
              "#46039f"
             ],
             [
              0.2222222222222222,
              "#7201a8"
             ],
             [
              0.3333333333333333,
              "#9c179e"
             ],
             [
              0.4444444444444444,
              "#bd3786"
             ],
             [
              0.5555555555555556,
              "#d8576b"
             ],
             [
              0.6666666666666666,
              "#ed7953"
             ],
             [
              0.7777777777777778,
              "#fb9f3a"
             ],
             [
              0.8888888888888888,
              "#fdca26"
             ],
             [
              1,
              "#f0f921"
             ]
            ],
            "type": "histogram2d"
           }
          ],
          "histogram2dcontour": [
           {
            "colorbar": {
             "outlinewidth": 0,
             "ticks": ""
            },
            "colorscale": [
             [
              0,
              "#0d0887"
             ],
             [
              0.1111111111111111,
              "#46039f"
             ],
             [
              0.2222222222222222,
              "#7201a8"
             ],
             [
              0.3333333333333333,
              "#9c179e"
             ],
             [
              0.4444444444444444,
              "#bd3786"
             ],
             [
              0.5555555555555556,
              "#d8576b"
             ],
             [
              0.6666666666666666,
              "#ed7953"
             ],
             [
              0.7777777777777778,
              "#fb9f3a"
             ],
             [
              0.8888888888888888,
              "#fdca26"
             ],
             [
              1,
              "#f0f921"
             ]
            ],
            "type": "histogram2dcontour"
           }
          ],
          "mesh3d": [
           {
            "colorbar": {
             "outlinewidth": 0,
             "ticks": ""
            },
            "type": "mesh3d"
           }
          ],
          "parcoords": [
           {
            "line": {
             "colorbar": {
              "outlinewidth": 0,
              "ticks": ""
             }
            },
            "type": "parcoords"
           }
          ],
          "pie": [
           {
            "automargin": true,
            "type": "pie"
           }
          ],
          "scatter": [
           {
            "fillpattern": {
             "fillmode": "overlay",
             "size": 10,
             "solidity": 0.2
            },
            "type": "scatter"
           }
          ],
          "scatter3d": [
           {
            "line": {
             "colorbar": {
              "outlinewidth": 0,
              "ticks": ""
             }
            },
            "marker": {
             "colorbar": {
              "outlinewidth": 0,
              "ticks": ""
             }
            },
            "type": "scatter3d"
           }
          ],
          "scattercarpet": [
           {
            "marker": {
             "colorbar": {
              "outlinewidth": 0,
              "ticks": ""
             }
            },
            "type": "scattercarpet"
           }
          ],
          "scattergeo": [
           {
            "marker": {
             "colorbar": {
              "outlinewidth": 0,
              "ticks": ""
             }
            },
            "type": "scattergeo"
           }
          ],
          "scattergl": [
           {
            "marker": {
             "colorbar": {
              "outlinewidth": 0,
              "ticks": ""
             }
            },
            "type": "scattergl"
           }
          ],
          "scattermap": [
           {
            "marker": {
             "colorbar": {
              "outlinewidth": 0,
              "ticks": ""
             }
            },
            "type": "scattermap"
           }
          ],
          "scattermapbox": [
           {
            "marker": {
             "colorbar": {
              "outlinewidth": 0,
              "ticks": ""
             }
            },
            "type": "scattermapbox"
           }
          ],
          "scatterpolar": [
           {
            "marker": {
             "colorbar": {
              "outlinewidth": 0,
              "ticks": ""
             }
            },
            "type": "scatterpolar"
           }
          ],
          "scatterpolargl": [
           {
            "marker": {
             "colorbar": {
              "outlinewidth": 0,
              "ticks": ""
             }
            },
            "type": "scatterpolargl"
           }
          ],
          "scatterternary": [
           {
            "marker": {
             "colorbar": {
              "outlinewidth": 0,
              "ticks": ""
             }
            },
            "type": "scatterternary"
           }
          ],
          "surface": [
           {
            "colorbar": {
             "outlinewidth": 0,
             "ticks": ""
            },
            "colorscale": [
             [
              0,
              "#0d0887"
             ],
             [
              0.1111111111111111,
              "#46039f"
             ],
             [
              0.2222222222222222,
              "#7201a8"
             ],
             [
              0.3333333333333333,
              "#9c179e"
             ],
             [
              0.4444444444444444,
              "#bd3786"
             ],
             [
              0.5555555555555556,
              "#d8576b"
             ],
             [
              0.6666666666666666,
              "#ed7953"
             ],
             [
              0.7777777777777778,
              "#fb9f3a"
             ],
             [
              0.8888888888888888,
              "#fdca26"
             ],
             [
              1,
              "#f0f921"
             ]
            ],
            "type": "surface"
           }
          ],
          "table": [
           {
            "cells": {
             "fill": {
              "color": "#EBF0F8"
             },
             "line": {
              "color": "white"
             }
            },
            "header": {
             "fill": {
              "color": "#C8D4E3"
             },
             "line": {
              "color": "white"
             }
            },
            "type": "table"
           }
          ]
         },
         "layout": {
          "annotationdefaults": {
           "arrowcolor": "#2a3f5f",
           "arrowhead": 0,
           "arrowwidth": 1
          },
          "autotypenumbers": "strict",
          "coloraxis": {
           "colorbar": {
            "outlinewidth": 0,
            "ticks": ""
           }
          },
          "colorscale": {
           "diverging": [
            [
             0,
             "#8e0152"
            ],
            [
             0.1,
             "#c51b7d"
            ],
            [
             0.2,
             "#de77ae"
            ],
            [
             0.3,
             "#f1b6da"
            ],
            [
             0.4,
             "#fde0ef"
            ],
            [
             0.5,
             "#f7f7f7"
            ],
            [
             0.6,
             "#e6f5d0"
            ],
            [
             0.7,
             "#b8e186"
            ],
            [
             0.8,
             "#7fbc41"
            ],
            [
             0.9,
             "#4d9221"
            ],
            [
             1,
             "#276419"
            ]
           ],
           "sequential": [
            [
             0,
             "#0d0887"
            ],
            [
             0.1111111111111111,
             "#46039f"
            ],
            [
             0.2222222222222222,
             "#7201a8"
            ],
            [
             0.3333333333333333,
             "#9c179e"
            ],
            [
             0.4444444444444444,
             "#bd3786"
            ],
            [
             0.5555555555555556,
             "#d8576b"
            ],
            [
             0.6666666666666666,
             "#ed7953"
            ],
            [
             0.7777777777777778,
             "#fb9f3a"
            ],
            [
             0.8888888888888888,
             "#fdca26"
            ],
            [
             1,
             "#f0f921"
            ]
           ],
           "sequentialminus": [
            [
             0,
             "#0d0887"
            ],
            [
             0.1111111111111111,
             "#46039f"
            ],
            [
             0.2222222222222222,
             "#7201a8"
            ],
            [
             0.3333333333333333,
             "#9c179e"
            ],
            [
             0.4444444444444444,
             "#bd3786"
            ],
            [
             0.5555555555555556,
             "#d8576b"
            ],
            [
             0.6666666666666666,
             "#ed7953"
            ],
            [
             0.7777777777777778,
             "#fb9f3a"
            ],
            [
             0.8888888888888888,
             "#fdca26"
            ],
            [
             1,
             "#f0f921"
            ]
           ]
          },
          "colorway": [
           "#636efa",
           "#EF553B",
           "#00cc96",
           "#ab63fa",
           "#FFA15A",
           "#19d3f3",
           "#FF6692",
           "#B6E880",
           "#FF97FF",
           "#FECB52"
          ],
          "font": {
           "color": "#2a3f5f"
          },
          "geo": {
           "bgcolor": "white",
           "lakecolor": "white",
           "landcolor": "#E5ECF6",
           "showlakes": true,
           "showland": true,
           "subunitcolor": "white"
          },
          "hoverlabel": {
           "align": "left"
          },
          "hovermode": "closest",
          "mapbox": {
           "style": "light"
          },
          "paper_bgcolor": "white",
          "plot_bgcolor": "#E5ECF6",
          "polar": {
           "angularaxis": {
            "gridcolor": "white",
            "linecolor": "white",
            "ticks": ""
           },
           "bgcolor": "#E5ECF6",
           "radialaxis": {
            "gridcolor": "white",
            "linecolor": "white",
            "ticks": ""
           }
          },
          "scene": {
           "xaxis": {
            "backgroundcolor": "#E5ECF6",
            "gridcolor": "white",
            "gridwidth": 2,
            "linecolor": "white",
            "showbackground": true,
            "ticks": "",
            "zerolinecolor": "white"
           },
           "yaxis": {
            "backgroundcolor": "#E5ECF6",
            "gridcolor": "white",
            "gridwidth": 2,
            "linecolor": "white",
            "showbackground": true,
            "ticks": "",
            "zerolinecolor": "white"
           },
           "zaxis": {
            "backgroundcolor": "#E5ECF6",
            "gridcolor": "white",
            "gridwidth": 2,
            "linecolor": "white",
            "showbackground": true,
            "ticks": "",
            "zerolinecolor": "white"
           }
          },
          "shapedefaults": {
           "line": {
            "color": "#2a3f5f"
           }
          },
          "ternary": {
           "aaxis": {
            "gridcolor": "white",
            "linecolor": "white",
            "ticks": ""
           },
           "baxis": {
            "gridcolor": "white",
            "linecolor": "white",
            "ticks": ""
           },
           "bgcolor": "#E5ECF6",
           "caxis": {
            "gridcolor": "white",
            "linecolor": "white",
            "ticks": ""
           }
          },
          "title": {
           "x": 0.05
          },
          "xaxis": {
           "automargin": true,
           "gridcolor": "white",
           "linecolor": "white",
           "ticks": "",
           "title": {
            "standoff": 15
           },
           "zerolinecolor": "white",
           "zerolinewidth": 2
          },
          "yaxis": {
           "automargin": true,
           "gridcolor": "white",
           "linecolor": "white",
           "ticks": "",
           "title": {
            "standoff": 15
           },
           "zerolinecolor": "white",
           "zerolinewidth": 2
          }
         }
        },
        "title": {
         "text": "Input correlation matrix"
        },
        "xaxis": {
         "anchor": "y",
         "constrain": "domain",
         "domain": [
          0,
          1
         ],
         "scaleanchor": "y"
        },
        "yaxis": {
         "anchor": "x",
         "autorange": "reversed",
         "constrain": "domain",
         "domain": [
          0,
          1
         ]
        }
       }
      }
     },
     "metadata": {},
     "output_type": "display_data"
    },
    {
     "data": {
      "application/vnd.plotly.v1+json": {
       "config": {
        "plotlyServerURL": "https://plot.ly"
       },
       "data": [
        {
         "coloraxis": "coloraxis",
         "hovertemplate": "x: %{x}<br>y: %{y}<br>color: %{z}<extra></extra>",
         "name": "0",
         "type": "heatmap",
         "x": [
          "CARVEDILOL",
          "ESOMEPRAZOLE",
          "LEVOTHYROXINE",
          "TRAMADOL",
          "AMLODIPINE",
          "METOPROLOL",
          "OMEPRAZOLE",
          "SIMVASTATIN",
          "TAMSULOSIN",
          "ALENDRONATE",
          "ATORVASTATIN",
          "LISINOPRIL",
          "LOSARTAN",
          "SERTRALINE",
          "METFORMIN",
          "PIOGLITAZONE",
          "PRAVASTATIN",
          "FUROSEMIDE",
          "POTASSIUM CHLORIDE",
          "HYDROCHLOROTHIAZIDE",
          "ATENOLOL",
          "WARFARIN",
          "ASPIRIN",
          "LOVASTATIN",
          "ALBUTEROL",
          "GLIPIZIDE",
          "RANITIDINE",
          "GABAPENTIN",
          "INSULIN GLARGINE",
          "CLOPIDOGREL",
          "ZOLPIDEM",
          "ALLOPURINOL",
          "CITALOPRAM",
          "PREDNISONE",
          "ROSUVASTATIN",
          "VALSARTAN",
          "IBUPROFEN",
          "FEXOFENADINE",
          "MONTELUKAST",
          "FLUTICASONE NASAL"
         ],
         "xaxis": "x",
         "y": [
          "CARVEDILOL",
          "ESOMEPRAZOLE",
          "LEVOTHYROXINE",
          "TRAMADOL",
          "AMLODIPINE",
          "METOPROLOL",
          "OMEPRAZOLE",
          "SIMVASTATIN",
          "TAMSULOSIN",
          "ALENDRONATE",
          "ATORVASTATIN",
          "LISINOPRIL",
          "LOSARTAN",
          "SERTRALINE",
          "METFORMIN",
          "PIOGLITAZONE",
          "PRAVASTATIN",
          "FUROSEMIDE",
          "POTASSIUM CHLORIDE",
          "HYDROCHLOROTHIAZIDE",
          "ATENOLOL",
          "WARFARIN",
          "ASPIRIN",
          "LOVASTATIN",
          "ALBUTEROL",
          "GLIPIZIDE",
          "RANITIDINE",
          "GABAPENTIN",
          "INSULIN GLARGINE",
          "CLOPIDOGREL",
          "ZOLPIDEM",
          "ALLOPURINOL",
          "CITALOPRAM",
          "PREDNISONE",
          "ROSUVASTATIN",
          "VALSARTAN",
          "IBUPROFEN",
          "FEXOFENADINE",
          "MONTELUKAST",
          "FLUTICASONE NASAL"
         ],
         "yaxis": "y",
         "z": {
          "bdata": "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",
          "dtype": "f8",
          "shape": "40, 40"
         }
        }
       ],
       "layout": {
        "coloraxis": {
         "cmax": 1,
         "cmin": -1,
         "colorscale": [
          [
           0,
           "rgb(103,0,31)"
          ],
          [
           0.1,
           "rgb(178,24,43)"
          ],
          [
           0.2,
           "rgb(214,96,77)"
          ],
          [
           0.3,
           "rgb(244,165,130)"
          ],
          [
           0.4,
           "rgb(253,219,199)"
          ],
          [
           0.5,
           "rgb(247,247,247)"
          ],
          [
           0.6,
           "rgb(209,229,240)"
          ],
          [
           0.7,
           "rgb(146,197,222)"
          ],
          [
           0.8,
           "rgb(67,147,195)"
          ],
          [
           0.9,
           "rgb(33,102,172)"
          ],
          [
           1,
           "rgb(5,48,97)"
          ]
         ]
        },
        "template": {
         "data": {
          "bar": [
           {
            "error_x": {
             "color": "#2a3f5f"
            },
            "error_y": {
             "color": "#2a3f5f"
            },
            "marker": {
             "line": {
              "color": "#E5ECF6",
              "width": 0.5
             },
             "pattern": {
              "fillmode": "overlay",
              "size": 10,
              "solidity": 0.2
             }
            },
            "type": "bar"
           }
          ],
          "barpolar": [
           {
            "marker": {
             "line": {
              "color": "#E5ECF6",
              "width": 0.5
             },
             "pattern": {
              "fillmode": "overlay",
              "size": 10,
              "solidity": 0.2
             }
            },
            "type": "barpolar"
           }
          ],
          "carpet": [
           {
            "aaxis": {
             "endlinecolor": "#2a3f5f",
             "gridcolor": "white",
             "linecolor": "white",
             "minorgridcolor": "white",
             "startlinecolor": "#2a3f5f"
            },
            "baxis": {
             "endlinecolor": "#2a3f5f",
             "gridcolor": "white",
             "linecolor": "white",
             "minorgridcolor": "white",
             "startlinecolor": "#2a3f5f"
            },
            "type": "carpet"
           }
          ],
          "choropleth": [
           {
            "colorbar": {
             "outlinewidth": 0,
             "ticks": ""
            },
            "type": "choropleth"
           }
          ],
          "contour": [
           {
            "colorbar": {
             "outlinewidth": 0,
             "ticks": ""
            },
            "colorscale": [
             [
              0,
              "#0d0887"
             ],
             [
              0.1111111111111111,
              "#46039f"
             ],
             [
              0.2222222222222222,
              "#7201a8"
             ],
             [
              0.3333333333333333,
              "#9c179e"
             ],
             [
              0.4444444444444444,
              "#bd3786"
             ],
             [
              0.5555555555555556,
              "#d8576b"
             ],
             [
              0.6666666666666666,
              "#ed7953"
             ],
             [
              0.7777777777777778,
              "#fb9f3a"
             ],
             [
              0.8888888888888888,
              "#fdca26"
             ],
             [
              1,
              "#f0f921"
             ]
            ],
            "type": "contour"
           }
          ],
          "contourcarpet": [
           {
            "colorbar": {
             "outlinewidth": 0,
             "ticks": ""
            },
            "type": "contourcarpet"
           }
          ],
          "heatmap": [
           {
            "colorbar": {
             "outlinewidth": 0,
             "ticks": ""
            },
            "colorscale": [
             [
              0,
              "#0d0887"
             ],
             [
              0.1111111111111111,
              "#46039f"
             ],
             [
              0.2222222222222222,
              "#7201a8"
             ],
             [
              0.3333333333333333,
              "#9c179e"
             ],
             [
              0.4444444444444444,
              "#bd3786"
             ],
             [
              0.5555555555555556,
              "#d8576b"
             ],
             [
              0.6666666666666666,
              "#ed7953"
             ],
             [
              0.7777777777777778,
              "#fb9f3a"
             ],
             [
              0.8888888888888888,
              "#fdca26"
             ],
             [
              1,
              "#f0f921"
             ]
            ],
            "type": "heatmap"
           }
          ],
          "histogram": [
           {
            "marker": {
             "pattern": {
              "fillmode": "overlay",
              "size": 10,
              "solidity": 0.2
             }
            },
            "type": "histogram"
           }
          ],
          "histogram2d": [
           {
            "colorbar": {
             "outlinewidth": 0,
             "ticks": ""
            },
            "colorscale": [
             [
              0,
              "#0d0887"
             ],
             [
              0.1111111111111111,
              "#46039f"
             ],
             [
              0.2222222222222222,
              "#7201a8"
             ],
             [
              0.3333333333333333,
              "#9c179e"
             ],
             [
              0.4444444444444444,
              "#bd3786"
             ],
             [
              0.5555555555555556,
              "#d8576b"
             ],
             [
              0.6666666666666666,
              "#ed7953"
             ],
             [
              0.7777777777777778,
              "#fb9f3a"
             ],
             [
              0.8888888888888888,
              "#fdca26"
             ],
             [
              1,
              "#f0f921"
             ]
            ],
            "type": "histogram2d"
           }
          ],
          "histogram2dcontour": [
           {
            "colorbar": {
             "outlinewidth": 0,
             "ticks": ""
            },
            "colorscale": [
             [
              0,
              "#0d0887"
             ],
             [
              0.1111111111111111,
              "#46039f"
             ],
             [
              0.2222222222222222,
              "#7201a8"
             ],
             [
              0.3333333333333333,
              "#9c179e"
             ],
             [
              0.4444444444444444,
              "#bd3786"
             ],
             [
              0.5555555555555556,
              "#d8576b"
             ],
             [
              0.6666666666666666,
              "#ed7953"
             ],
             [
              0.7777777777777778,
              "#fb9f3a"
             ],
             [
              0.8888888888888888,
              "#fdca26"
             ],
             [
              1,
              "#f0f921"
             ]
            ],
            "type": "histogram2dcontour"
           }
          ],
          "mesh3d": [
           {
            "colorbar": {
             "outlinewidth": 0,
             "ticks": ""
            },
            "type": "mesh3d"
           }
          ],
          "parcoords": [
           {
            "line": {
             "colorbar": {
              "outlinewidth": 0,
              "ticks": ""
             }
            },
            "type": "parcoords"
           }
          ],
          "pie": [
           {
            "automargin": true,
            "type": "pie"
           }
          ],
          "scatter": [
           {
            "fillpattern": {
             "fillmode": "overlay",
             "size": 10,
             "solidity": 0.2
            },
            "type": "scatter"
           }
          ],
          "scatter3d": [
           {
            "line": {
             "colorbar": {
              "outlinewidth": 0,
              "ticks": ""
             }
            },
            "marker": {
             "colorbar": {
              "outlinewidth": 0,
              "ticks": ""
             }
            },
            "type": "scatter3d"
           }
          ],
          "scattercarpet": [
           {
            "marker": {
             "colorbar": {
              "outlinewidth": 0,
              "ticks": ""
             }
            },
            "type": "scattercarpet"
           }
          ],
          "scattergeo": [
           {
            "marker": {
             "colorbar": {
              "outlinewidth": 0,
              "ticks": ""
             }
            },
            "type": "scattergeo"
           }
          ],
          "scattergl": [
           {
            "marker": {
             "colorbar": {
              "outlinewidth": 0,
              "ticks": ""
             }
            },
            "type": "scattergl"
           }
          ],
          "scattermap": [
           {
            "marker": {
             "colorbar": {
              "outlinewidth": 0,
              "ticks": ""
             }
            },
            "type": "scattermap"
           }
          ],
          "scattermapbox": [
           {
            "marker": {
             "colorbar": {
              "outlinewidth": 0,
              "ticks": ""
             }
            },
            "type": "scattermapbox"
           }
          ],
          "scatterpolar": [
           {
            "marker": {
             "colorbar": {
              "outlinewidth": 0,
              "ticks": ""
             }
            },
            "type": "scatterpolar"
           }
          ],
          "scatterpolargl": [
           {
            "marker": {
             "colorbar": {
              "outlinewidth": 0,
              "ticks": ""
             }
            },
            "type": "scatterpolargl"
           }
          ],
          "scatterternary": [
           {
            "marker": {
             "colorbar": {
              "outlinewidth": 0,
              "ticks": ""
             }
            },
            "type": "scatterternary"
           }
          ],
          "surface": [
           {
            "colorbar": {
             "outlinewidth": 0,
             "ticks": ""
            },
            "colorscale": [
             [
              0,
              "#0d0887"
             ],
             [
              0.1111111111111111,
              "#46039f"
             ],
             [
              0.2222222222222222,
              "#7201a8"
             ],
             [
              0.3333333333333333,
              "#9c179e"
             ],
             [
              0.4444444444444444,
              "#bd3786"
             ],
             [
              0.5555555555555556,
              "#d8576b"
             ],
             [
              0.6666666666666666,
              "#ed7953"
             ],
             [
              0.7777777777777778,
              "#fb9f3a"
             ],
             [
              0.8888888888888888,
              "#fdca26"
             ],
             [
              1,
              "#f0f921"
             ]
            ],
            "type": "surface"
           }
          ],
          "table": [
           {
            "cells": {
             "fill": {
              "color": "#EBF0F8"
             },
             "line": {
              "color": "white"
             }
            },
            "header": {
             "fill": {
              "color": "#C8D4E3"
             },
             "line": {
              "color": "white"
             }
            },
            "type": "table"
           }
          ]
         },
         "layout": {
          "annotationdefaults": {
           "arrowcolor": "#2a3f5f",
           "arrowhead": 0,
           "arrowwidth": 1
          },
          "autotypenumbers": "strict",
          "coloraxis": {
           "colorbar": {
            "outlinewidth": 0,
            "ticks": ""
           }
          },
          "colorscale": {
           "diverging": [
            [
             0,
             "#8e0152"
            ],
            [
             0.1,
             "#c51b7d"
            ],
            [
             0.2,
             "#de77ae"
            ],
            [
             0.3,
             "#f1b6da"
            ],
            [
             0.4,
             "#fde0ef"
            ],
            [
             0.5,
             "#f7f7f7"
            ],
            [
             0.6,
             "#e6f5d0"
            ],
            [
             0.7,
             "#b8e186"
            ],
            [
             0.8,
             "#7fbc41"
            ],
            [
             0.9,
             "#4d9221"
            ],
            [
             1,
             "#276419"
            ]
           ],
           "sequential": [
            [
             0,
             "#0d0887"
            ],
            [
             0.1111111111111111,
             "#46039f"
            ],
            [
             0.2222222222222222,
             "#7201a8"
            ],
            [
             0.3333333333333333,
             "#9c179e"
            ],
            [
             0.4444444444444444,
             "#bd3786"
            ],
            [
             0.5555555555555556,
             "#d8576b"
            ],
            [
             0.6666666666666666,
             "#ed7953"
            ],
            [
             0.7777777777777778,
             "#fb9f3a"
            ],
            [
             0.8888888888888888,
             "#fdca26"
            ],
            [
             1,
             "#f0f921"
            ]
           ],
           "sequentialminus": [
            [
             0,
             "#0d0887"
            ],
            [
             0.1111111111111111,
             "#46039f"
            ],
            [
             0.2222222222222222,
             "#7201a8"
            ],
            [
             0.3333333333333333,
             "#9c179e"
            ],
            [
             0.4444444444444444,
             "#bd3786"
            ],
            [
             0.5555555555555556,
             "#d8576b"
            ],
            [
             0.6666666666666666,
             "#ed7953"
            ],
            [
             0.7777777777777778,
             "#fb9f3a"
            ],
            [
             0.8888888888888888,
             "#fdca26"
            ],
            [
             1,
             "#f0f921"
            ]
           ]
          },
          "colorway": [
           "#636efa",
           "#EF553B",
           "#00cc96",
           "#ab63fa",
           "#FFA15A",
           "#19d3f3",
           "#FF6692",
           "#B6E880",
           "#FF97FF",
           "#FECB52"
          ],
          "font": {
           "color": "#2a3f5f"
          },
          "geo": {
           "bgcolor": "white",
           "lakecolor": "white",
           "landcolor": "#E5ECF6",
           "showlakes": true,
           "showland": true,
           "subunitcolor": "white"
          },
          "hoverlabel": {
           "align": "left"
          },
          "hovermode": "closest",
          "mapbox": {
           "style": "light"
          },
          "paper_bgcolor": "white",
          "plot_bgcolor": "#E5ECF6",
          "polar": {
           "angularaxis": {
            "gridcolor": "white",
            "linecolor": "white",
            "ticks": ""
           },
           "bgcolor": "#E5ECF6",
           "radialaxis": {
            "gridcolor": "white",
            "linecolor": "white",
            "ticks": ""
           }
          },
          "scene": {
           "xaxis": {
            "backgroundcolor": "#E5ECF6",
            "gridcolor": "white",
            "gridwidth": 2,
            "linecolor": "white",
            "showbackground": true,
            "ticks": "",
            "zerolinecolor": "white"
           },
           "yaxis": {
            "backgroundcolor": "#E5ECF6",
            "gridcolor": "white",
            "gridwidth": 2,
            "linecolor": "white",
            "showbackground": true,
            "ticks": "",
            "zerolinecolor": "white"
           },
           "zaxis": {
            "backgroundcolor": "#E5ECF6",
            "gridcolor": "white",
            "gridwidth": 2,
            "linecolor": "white",
            "showbackground": true,
            "ticks": "",
            "zerolinecolor": "white"
           }
          },
          "shapedefaults": {
           "line": {
            "color": "#2a3f5f"
           }
          },
          "ternary": {
           "aaxis": {
            "gridcolor": "white",
            "linecolor": "white",
            "ticks": ""
           },
           "baxis": {
            "gridcolor": "white",
            "linecolor": "white",
            "ticks": ""
           },
           "bgcolor": "#E5ECF6",
           "caxis": {
            "gridcolor": "white",
            "linecolor": "white",
            "ticks": ""
           }
          },
          "title": {
           "x": 0.05
          },
          "xaxis": {
           "automargin": true,
           "gridcolor": "white",
           "linecolor": "white",
           "ticks": "",
           "title": {
            "standoff": 15
           },
           "zerolinecolor": "white",
           "zerolinewidth": 2
          },
          "yaxis": {
           "automargin": true,
           "gridcolor": "white",
           "linecolor": "white",
           "ticks": "",
           "title": {
            "standoff": 15
           },
           "zerolinecolor": "white",
           "zerolinewidth": 2
          }
         }
        },
        "title": {
         "text": "Sample correlation matrix"
        },
        "xaxis": {
         "anchor": "y",
         "constrain": "domain",
         "domain": [
          0,
          1
         ],
         "scaleanchor": "y"
        },
        "yaxis": {
         "anchor": "x",
         "autorange": "reversed",
         "constrain": "domain",
         "domain": [
          0,
          1
         ]
        }
       }
      }
     },
     "metadata": {},
     "output_type": "display_data"
    },
    {
     "data": {
      "application/vnd.plotly.v1+json": {
       "config": {
        "plotlyServerURL": "https://plot.ly"
       },
       "data": [
        {
         "hovertemplate": "x=%{x}<br>y=%{y}<extra></extra>",
         "legendgroup": "",
         "marker": {
          "color": "#636efa",
          "pattern": {
           "shape": ""
          }
         },
         "name": "",
         "orientation": "v",
         "showlegend": false,
         "textposition": "auto",
         "type": "bar",
         "x": [
          "LISINOPRIL",
          "SIMVASTATIN",
          "METOPROLOL",
          "METFORMIN",
          "LEVOTHYROXINE",
          "AMLODIPINE",
          "HYDROCHLOROTHIAZIDE",
          "FUROSEMIDE",
          "ATORVASTATIN",
          "OMEPRAZOLE",
          "ATENOLOL",
          "GLIPIZIDE",
          "ALBUTEROL",
          "WARFARIN",
          "ASPIRIN",
          "POTASSIUM CHLORIDE",
          "ESOMEPRAZOLE",
          "CLOPIDOGREL",
          "CARVEDILOL",
          "VALSARTAN",
          "LOSARTAN",
          "ROSUVASTATIN",
          "GABAPENTIN",
          "LOVASTATIN",
          "PIOGLITAZONE",
          "RANITIDINE",
          "PRAVASTATIN",
          "TRAMADOL",
          "IBUPROFEN",
          "INSULIN GLARGINE",
          "CITALOPRAM",
          "ALENDRONATE",
          "ALLOPURINOL",
          "MONTELUKAST",
          "FEXOFENADINE",
          "ZOLPIDEM",
          "TAMSULOSIN",
          "SERTRALINE",
          "FLUTICASONE NASAL",
          "PREDNISONE"
         ],
         "xaxis": "x",
         "y": {
          "bdata": "G8prKK+h1D8or6G8hvLSP8Z0FtNZTM8/z2I6i+kszj/BfQT3EdzHPw3lNZTXUMY/kOA+gvsIxj+rqqqqqqrCP6uqqqqqqsI/MZ3FdBbTwT82lNdQXkPBPyS4j+A+grs/SHAfwX0Etz/Kayivoby2P9hQXkN5DbU/XkN5DeU1tD/uI7iP4D6yP+4juI/gPrI/8xrKayivsT91FtNZTGexPwnuI7iP4K4/DeU1lNdQrj8N5TWU11CuPxbTWUxnMa0/H8F9BPcRrD8or6G8hvKqPyivobyG8qo/MZ3FdBbTqT8/gvsI7iOoP0N5DeU1lKc/Q3kN5TWUpz9DeQ3lNZSnP1FeQ3kN5aU/ZzGdxXQWoz9sKK+hvIaiP3AfwX0E96E/cB/BfQT3oT9wH8F9BPehP34E9xHcR6A/BPcR3Edwnz8=",
          "dtype": "f8"
         },
         "yaxis": "y"
        }
       ],
       "layout": {
        "barmode": "relative",
        "legend": {
         "tracegroupgap": 0
        },
        "template": {
         "data": {
          "bar": [
           {
            "error_x": {
             "color": "#2a3f5f"
            },
            "error_y": {
             "color": "#2a3f5f"
            },
            "marker": {
             "line": {
              "color": "#E5ECF6",
              "width": 0.5
             },
             "pattern": {
              "fillmode": "overlay",
              "size": 10,
              "solidity": 0.2
             }
            },
            "type": "bar"
           }
          ],
          "barpolar": [
           {
            "marker": {
             "line": {
              "color": "#E5ECF6",
              "width": 0.5
             },
             "pattern": {
              "fillmode": "overlay",
              "size": 10,
              "solidity": 0.2
             }
            },
            "type": "barpolar"
           }
          ],
          "carpet": [
           {
            "aaxis": {
             "endlinecolor": "#2a3f5f",
             "gridcolor": "white",
             "linecolor": "white",
             "minorgridcolor": "white",
             "startlinecolor": "#2a3f5f"
            },
            "baxis": {
             "endlinecolor": "#2a3f5f",
             "gridcolor": "white",
             "linecolor": "white",
             "minorgridcolor": "white",
             "startlinecolor": "#2a3f5f"
            },
            "type": "carpet"
           }
          ],
          "choropleth": [
           {
            "colorbar": {
             "outlinewidth": 0,
             "ticks": ""
            },
            "type": "choropleth"
           }
          ],
          "contour": [
           {
            "colorbar": {
             "outlinewidth": 0,
             "ticks": ""
            },
            "colorscale": [
             [
              0,
              "#0d0887"
             ],
             [
              0.1111111111111111,
              "#46039f"
             ],
             [
              0.2222222222222222,
              "#7201a8"
             ],
             [
              0.3333333333333333,
              "#9c179e"
             ],
             [
              0.4444444444444444,
              "#bd3786"
             ],
             [
              0.5555555555555556,
              "#d8576b"
             ],
             [
              0.6666666666666666,
              "#ed7953"
             ],
             [
              0.7777777777777778,
              "#fb9f3a"
             ],
             [
              0.8888888888888888,
              "#fdca26"
             ],
             [
              1,
              "#f0f921"
             ]
            ],
            "type": "contour"
           }
          ],
          "contourcarpet": [
           {
            "colorbar": {
             "outlinewidth": 0,
             "ticks": ""
            },
            "type": "contourcarpet"
           }
          ],
          "heatmap": [
           {
            "colorbar": {
             "outlinewidth": 0,
             "ticks": ""
            },
            "colorscale": [
             [
              0,
              "#0d0887"
             ],
             [
              0.1111111111111111,
              "#46039f"
             ],
             [
              0.2222222222222222,
              "#7201a8"
             ],
             [
              0.3333333333333333,
              "#9c179e"
             ],
             [
              0.4444444444444444,
              "#bd3786"
             ],
             [
              0.5555555555555556,
              "#d8576b"
             ],
             [
              0.6666666666666666,
              "#ed7953"
             ],
             [
              0.7777777777777778,
              "#fb9f3a"
             ],
             [
              0.8888888888888888,
              "#fdca26"
             ],
             [
              1,
              "#f0f921"
             ]
            ],
            "type": "heatmap"
           }
          ],
          "histogram": [
           {
            "marker": {
             "pattern": {
              "fillmode": "overlay",
              "size": 10,
              "solidity": 0.2
             }
            },
            "type": "histogram"
           }
          ],
          "histogram2d": [
           {
            "colorbar": {
             "outlinewidth": 0,
             "ticks": ""
            },
            "colorscale": [
             [
              0,
              "#0d0887"
             ],
             [
              0.1111111111111111,
              "#46039f"
             ],
             [
              0.2222222222222222,
              "#7201a8"
             ],
             [
              0.3333333333333333,
              "#9c179e"
             ],
             [
              0.4444444444444444,
              "#bd3786"
             ],
             [
              0.5555555555555556,
              "#d8576b"
             ],
             [
              0.6666666666666666,
              "#ed7953"
             ],
             [
              0.7777777777777778,
              "#fb9f3a"
             ],
             [
              0.8888888888888888,
              "#fdca26"
             ],
             [
              1,
              "#f0f921"
             ]
            ],
            "type": "histogram2d"
           }
          ],
          "histogram2dcontour": [
           {
            "colorbar": {
             "outlinewidth": 0,
             "ticks": ""
            },
            "colorscale": [
             [
              0,
              "#0d0887"
             ],
             [
              0.1111111111111111,
              "#46039f"
             ],
             [
              0.2222222222222222,
              "#7201a8"
             ],
             [
              0.3333333333333333,
              "#9c179e"
             ],
             [
              0.4444444444444444,
              "#bd3786"
             ],
             [
              0.5555555555555556,
              "#d8576b"
             ],
             [
              0.6666666666666666,
              "#ed7953"
             ],
             [
              0.7777777777777778,
              "#fb9f3a"
             ],
             [
              0.8888888888888888,
              "#fdca26"
             ],
             [
              1,
              "#f0f921"
             ]
            ],
            "type": "histogram2dcontour"
           }
          ],
          "mesh3d": [
           {
            "colorbar": {
             "outlinewidth": 0,
             "ticks": ""
            },
            "type": "mesh3d"
           }
          ],
          "parcoords": [
           {
            "line": {
             "colorbar": {
              "outlinewidth": 0,
              "ticks": ""
             }
            },
            "type": "parcoords"
           }
          ],
          "pie": [
           {
            "automargin": true,
            "type": "pie"
           }
          ],
          "scatter": [
           {
            "fillpattern": {
             "fillmode": "overlay",
             "size": 10,
             "solidity": 0.2
            },
            "type": "scatter"
           }
          ],
          "scatter3d": [
           {
            "line": {
             "colorbar": {
              "outlinewidth": 0,
              "ticks": ""
             }
            },
            "marker": {
             "colorbar": {
              "outlinewidth": 0,
              "ticks": ""
             }
            },
            "type": "scatter3d"
           }
          ],
          "scattercarpet": [
           {
            "marker": {
             "colorbar": {
              "outlinewidth": 0,
              "ticks": ""
             }
            },
            "type": "scattercarpet"
           }
          ],
          "scattergeo": [
           {
            "marker": {
             "colorbar": {
              "outlinewidth": 0,
              "ticks": ""
             }
            },
            "type": "scattergeo"
           }
          ],
          "scattergl": [
           {
            "marker": {
             "colorbar": {
              "outlinewidth": 0,
              "ticks": ""
             }
            },
            "type": "scattergl"
           }
          ],
          "scattermap": [
           {
            "marker": {
             "colorbar": {
              "outlinewidth": 0,
              "ticks": ""
             }
            },
            "type": "scattermap"
           }
          ],
          "scattermapbox": [
           {
            "marker": {
             "colorbar": {
              "outlinewidth": 0,
              "ticks": ""
             }
            },
            "type": "scattermapbox"
           }
          ],
          "scatterpolar": [
           {
            "marker": {
             "colorbar": {
              "outlinewidth": 0,
              "ticks": ""
             }
            },
            "type": "scatterpolar"
           }
          ],
          "scatterpolargl": [
           {
            "marker": {
             "colorbar": {
              "outlinewidth": 0,
              "ticks": ""
             }
            },
            "type": "scatterpolargl"
           }
          ],
          "scatterternary": [
           {
            "marker": {
             "colorbar": {
              "outlinewidth": 0,
              "ticks": ""
             }
            },
            "type": "scatterternary"
           }
          ],
          "surface": [
           {
            "colorbar": {
             "outlinewidth": 0,
             "ticks": ""
            },
            "colorscale": [
             [
              0,
              "#0d0887"
             ],
             [
              0.1111111111111111,
              "#46039f"
             ],
             [
              0.2222222222222222,
              "#7201a8"
             ],
             [
              0.3333333333333333,
              "#9c179e"
             ],
             [
              0.4444444444444444,
              "#bd3786"
             ],
             [
              0.5555555555555556,
              "#d8576b"
             ],
             [
              0.6666666666666666,
              "#ed7953"
             ],
             [
              0.7777777777777778,
              "#fb9f3a"
             ],
             [
              0.8888888888888888,
              "#fdca26"
             ],
             [
              1,
              "#f0f921"
             ]
            ],
            "type": "surface"
           }
          ],
          "table": [
           {
            "cells": {
             "fill": {
              "color": "#EBF0F8"
             },
             "line": {
              "color": "white"
             }
            },
            "header": {
             "fill": {
              "color": "#C8D4E3"
             },
             "line": {
              "color": "white"
             }
            },
            "type": "table"
           }
          ]
         },
         "layout": {
          "annotationdefaults": {
           "arrowcolor": "#2a3f5f",
           "arrowhead": 0,
           "arrowwidth": 1
          },
          "autotypenumbers": "strict",
          "coloraxis": {
           "colorbar": {
            "outlinewidth": 0,
            "ticks": ""
           }
          },
          "colorscale": {
           "diverging": [
            [
             0,
             "#8e0152"
            ],
            [
             0.1,
             "#c51b7d"
            ],
            [
             0.2,
             "#de77ae"
            ],
            [
             0.3,
             "#f1b6da"
            ],
            [
             0.4,
             "#fde0ef"
            ],
            [
             0.5,
             "#f7f7f7"
            ],
            [
             0.6,
             "#e6f5d0"
            ],
            [
             0.7,
             "#b8e186"
            ],
            [
             0.8,
             "#7fbc41"
            ],
            [
             0.9,
             "#4d9221"
            ],
            [
             1,
             "#276419"
            ]
           ],
           "sequential": [
            [
             0,
             "#0d0887"
            ],
            [
             0.1111111111111111,
             "#46039f"
            ],
            [
             0.2222222222222222,
             "#7201a8"
            ],
            [
             0.3333333333333333,
             "#9c179e"
            ],
            [
             0.4444444444444444,
             "#bd3786"
            ],
            [
             0.5555555555555556,
             "#d8576b"
            ],
            [
             0.6666666666666666,
             "#ed7953"
            ],
            [
             0.7777777777777778,
             "#fb9f3a"
            ],
            [
             0.8888888888888888,
             "#fdca26"
            ],
            [
             1,
             "#f0f921"
            ]
           ],
           "sequentialminus": [
            [
             0,
             "#0d0887"
            ],
            [
             0.1111111111111111,
             "#46039f"
            ],
            [
             0.2222222222222222,
             "#7201a8"
            ],
            [
             0.3333333333333333,
             "#9c179e"
            ],
            [
             0.4444444444444444,
             "#bd3786"
            ],
            [
             0.5555555555555556,
             "#d8576b"
            ],
            [
             0.6666666666666666,
             "#ed7953"
            ],
            [
             0.7777777777777778,
             "#fb9f3a"
            ],
            [
             0.8888888888888888,
             "#fdca26"
            ],
            [
             1,
             "#f0f921"
            ]
           ]
          },
          "colorway": [
           "#636efa",
           "#EF553B",
           "#00cc96",
           "#ab63fa",
           "#FFA15A",
           "#19d3f3",
           "#FF6692",
           "#B6E880",
           "#FF97FF",
           "#FECB52"
          ],
          "font": {
           "color": "#2a3f5f"
          },
          "geo": {
           "bgcolor": "white",
           "lakecolor": "white",
           "landcolor": "#E5ECF6",
           "showlakes": true,
           "showland": true,
           "subunitcolor": "white"
          },
          "hoverlabel": {
           "align": "left"
          },
          "hovermode": "closest",
          "mapbox": {
           "style": "light"
          },
          "paper_bgcolor": "white",
          "plot_bgcolor": "#E5ECF6",
          "polar": {
           "angularaxis": {
            "gridcolor": "white",
            "linecolor": "white",
            "ticks": ""
           },
           "bgcolor": "#E5ECF6",
           "radialaxis": {
            "gridcolor": "white",
            "linecolor": "white",
            "ticks": ""
           }
          },
          "scene": {
           "xaxis": {
            "backgroundcolor": "#E5ECF6",
            "gridcolor": "white",
            "gridwidth": 2,
            "linecolor": "white",
            "showbackground": true,
            "ticks": "",
            "zerolinecolor": "white"
           },
           "yaxis": {
            "backgroundcolor": "#E5ECF6",
            "gridcolor": "white",
            "gridwidth": 2,
            "linecolor": "white",
            "showbackground": true,
            "ticks": "",
            "zerolinecolor": "white"
           },
           "zaxis": {
            "backgroundcolor": "#E5ECF6",
            "gridcolor": "white",
            "gridwidth": 2,
            "linecolor": "white",
            "showbackground": true,
            "ticks": "",
            "zerolinecolor": "white"
           }
          },
          "shapedefaults": {
           "line": {
            "color": "#2a3f5f"
           }
          },
          "ternary": {
           "aaxis": {
            "gridcolor": "white",
            "linecolor": "white",
            "ticks": ""
           },
           "baxis": {
            "gridcolor": "white",
            "linecolor": "white",
            "ticks": ""
           },
           "bgcolor": "#E5ECF6",
           "caxis": {
            "gridcolor": "white",
            "linecolor": "white",
            "ticks": ""
           }
          },
          "title": {
           "x": 0.05
          },
          "xaxis": {
           "automargin": true,
           "gridcolor": "white",
           "linecolor": "white",
           "ticks": "",
           "title": {
            "standoff": 15
           },
           "zerolinecolor": "white",
           "zerolinewidth": 2
          },
          "yaxis": {
           "automargin": true,
           "gridcolor": "white",
           "linecolor": "white",
           "ticks": "",
           "title": {
            "standoff": 15
           },
           "zerolinecolor": "white",
           "zerolinewidth": 2
          }
         }
        },
        "title": {
         "text": "Input marginal probabilities"
        },
        "xaxis": {
         "anchor": "y",
         "domain": [
          0,
          1
         ],
         "title": {
          "text": "x"
         }
        },
        "yaxis": {
         "anchor": "x",
         "domain": [
          0,
          1
         ],
         "title": {
          "text": "y"
         }
        }
       }
      }
     },
     "metadata": {},
     "output_type": "display_data"
    },
    {
     "data": {
      "application/vnd.plotly.v1+json": {
       "config": {
        "plotlyServerURL": "https://plot.ly"
       },
       "data": [
        {
         "hovertemplate": "x=%{x}<br>y=%{y}<extra></extra>",
         "legendgroup": "",
         "marker": {
          "color": "#636efa",
          "pattern": {
           "shape": ""
          }
         },
         "name": "",
         "orientation": "v",
         "showlegend": false,
         "textposition": "auto",
         "type": "bar",
         "x": [
          "LISINOPRIL",
          "SIMVASTATIN",
          "METOPROLOL",
          "METFORMIN",
          "LEVOTHYROXINE",
          "AMLODIPINE",
          "HYDROCHLOROTHIAZIDE",
          "FUROSEMIDE",
          "ATORVASTATIN",
          "OMEPRAZOLE",
          "ATENOLOL",
          "GLIPIZIDE",
          "ALBUTEROL",
          "WARFARIN",
          "ASPIRIN",
          "POTASSIUM CHLORIDE",
          "ESOMEPRAZOLE",
          "CLOPIDOGREL",
          "CARVEDILOL",
          "VALSARTAN",
          "LOSARTAN",
          "ROSUVASTATIN",
          "GABAPENTIN",
          "LOVASTATIN",
          "PIOGLITAZONE",
          "RANITIDINE",
          "PRAVASTATIN",
          "TRAMADOL",
          "IBUPROFEN",
          "INSULIN GLARGINE",
          "CITALOPRAM",
          "ALENDRONATE",
          "ALLOPURINOL",
          "MONTELUKAST",
          "FEXOFENADINE",
          "ZOLPIDEM",
          "TAMSULOSIN",
          "SERTRALINE",
          "FLUTICASONE NASAL",
          "PREDNISONE"
         ],
         "xaxis": "x",
         "y": {
          "bdata": "BeEKKNTT0j8HJ6JfWz/RPy457pQO1ss/iEhNu5hmyj+xMhr5vOLDP3nKarqe6MI/by7+tidIxD9eSIeHMH6+P3jTLTvEP7w/yuL+I9Ohuz8tQUZAhSO8PzxLkBFQ4bQ/c/T4vU1/sj97o1aYvtewP0TDYtS19q4/tcagE0IHrT82kgThCiisP3FYGvhRDas/7nvUX6+wqD+KzFzg8lirP6m+84sS9Kc/lIlbBTHQpT+U93E0R1amPxMsDmd+Nac/zCTqBZ/mpD+eB3dn7bajPzWaXIyBdaQ/BHY1ecpqoj8FUIwsmWOhP/BOPj22ZaA/jYAKR5BKoT+i7Zi6K7ugP2njiLX4FKA/o+ar5GN3kT/nASzy64eYP61oc5zbhJs/1xael4qNmT+V1AloImyYP9uHvOXqx5Y/t5ifG5qykz8=",
          "dtype": "f8"
         },
         "yaxis": "y"
        }
       ],
       "layout": {
        "barmode": "relative",
        "legend": {
         "tracegroupgap": 0
        },
        "template": {
         "data": {
          "bar": [
           {
            "error_x": {
             "color": "#2a3f5f"
            },
            "error_y": {
             "color": "#2a3f5f"
            },
            "marker": {
             "line": {
              "color": "#E5ECF6",
              "width": 0.5
             },
             "pattern": {
              "fillmode": "overlay",
              "size": 10,
              "solidity": 0.2
             }
            },
            "type": "bar"
           }
          ],
          "barpolar": [
           {
            "marker": {
             "line": {
              "color": "#E5ECF6",
              "width": 0.5
             },
             "pattern": {
              "fillmode": "overlay",
              "size": 10,
              "solidity": 0.2
             }
            },
            "type": "barpolar"
           }
          ],
          "carpet": [
           {
            "aaxis": {
             "endlinecolor": "#2a3f5f",
             "gridcolor": "white",
             "linecolor": "white",
             "minorgridcolor": "white",
             "startlinecolor": "#2a3f5f"
            },
            "baxis": {
             "endlinecolor": "#2a3f5f",
             "gridcolor": "white",
             "linecolor": "white",
             "minorgridcolor": "white",
             "startlinecolor": "#2a3f5f"
            },
            "type": "carpet"
           }
          ],
          "choropleth": [
           {
            "colorbar": {
             "outlinewidth": 0,
             "ticks": ""
            },
            "type": "choropleth"
           }
          ],
          "contour": [
           {
            "colorbar": {
             "outlinewidth": 0,
             "ticks": ""
            },
            "colorscale": [
             [
              0,
              "#0d0887"
             ],
             [
              0.1111111111111111,
              "#46039f"
             ],
             [
              0.2222222222222222,
              "#7201a8"
             ],
             [
              0.3333333333333333,
              "#9c179e"
             ],
             [
              0.4444444444444444,
              "#bd3786"
             ],
             [
              0.5555555555555556,
              "#d8576b"
             ],
             [
              0.6666666666666666,
              "#ed7953"
             ],
             [
              0.7777777777777778,
              "#fb9f3a"
             ],
             [
              0.8888888888888888,
              "#fdca26"
             ],
             [
              1,
              "#f0f921"
             ]
            ],
            "type": "contour"
           }
          ],
          "contourcarpet": [
           {
            "colorbar": {
             "outlinewidth": 0,
             "ticks": ""
            },
            "type": "contourcarpet"
           }
          ],
          "heatmap": [
           {
            "colorbar": {
             "outlinewidth": 0,
             "ticks": ""
            },
            "colorscale": [
             [
              0,
              "#0d0887"
             ],
             [
              0.1111111111111111,
              "#46039f"
             ],
             [
              0.2222222222222222,
              "#7201a8"
             ],
             [
              0.3333333333333333,
              "#9c179e"
             ],
             [
              0.4444444444444444,
              "#bd3786"
             ],
             [
              0.5555555555555556,
              "#d8576b"
             ],
             [
              0.6666666666666666,
              "#ed7953"
             ],
             [
              0.7777777777777778,
              "#fb9f3a"
             ],
             [
              0.8888888888888888,
              "#fdca26"
             ],
             [
              1,
              "#f0f921"
             ]
            ],
            "type": "heatmap"
           }
          ],
          "histogram": [
           {
            "marker": {
             "pattern": {
              "fillmode": "overlay",
              "size": 10,
              "solidity": 0.2
             }
            },
            "type": "histogram"
           }
          ],
          "histogram2d": [
           {
            "colorbar": {
             "outlinewidth": 0,
             "ticks": ""
            },
            "colorscale": [
             [
              0,
              "#0d0887"
             ],
             [
              0.1111111111111111,
              "#46039f"
             ],
             [
              0.2222222222222222,
              "#7201a8"
             ],
             [
              0.3333333333333333,
              "#9c179e"
             ],
             [
              0.4444444444444444,
              "#bd3786"
             ],
             [
              0.5555555555555556,
              "#d8576b"
             ],
             [
              0.6666666666666666,
              "#ed7953"
             ],
             [
              0.7777777777777778,
              "#fb9f3a"
             ],
             [
              0.8888888888888888,
              "#fdca26"
             ],
             [
              1,
              "#f0f921"
             ]
            ],
            "type": "histogram2d"
           }
          ],
          "histogram2dcontour": [
           {
            "colorbar": {
             "outlinewidth": 0,
             "ticks": ""
            },
            "colorscale": [
             [
              0,
              "#0d0887"
             ],
             [
              0.1111111111111111,
              "#46039f"
             ],
             [
              0.2222222222222222,
              "#7201a8"
             ],
             [
              0.3333333333333333,
              "#9c179e"
             ],
             [
              0.4444444444444444,
              "#bd3786"
             ],
             [
              0.5555555555555556,
              "#d8576b"
             ],
             [
              0.6666666666666666,
              "#ed7953"
             ],
             [
              0.7777777777777778,
              "#fb9f3a"
             ],
             [
              0.8888888888888888,
              "#fdca26"
             ],
             [
              1,
              "#f0f921"
             ]
            ],
            "type": "histogram2dcontour"
           }
          ],
          "mesh3d": [
           {
            "colorbar": {
             "outlinewidth": 0,
             "ticks": ""
            },
            "type": "mesh3d"
           }
          ],
          "parcoords": [
           {
            "line": {
             "colorbar": {
              "outlinewidth": 0,
              "ticks": ""
             }
            },
            "type": "parcoords"
           }
          ],
          "pie": [
           {
            "automargin": true,
            "type": "pie"
           }
          ],
          "scatter": [
           {
            "fillpattern": {
             "fillmode": "overlay",
             "size": 10,
             "solidity": 0.2
            },
            "type": "scatter"
           }
          ],
          "scatter3d": [
           {
            "line": {
             "colorbar": {
              "outlinewidth": 0,
              "ticks": ""
             }
            },
            "marker": {
             "colorbar": {
              "outlinewidth": 0,
              "ticks": ""
             }
            },
            "type": "scatter3d"
           }
          ],
          "scattercarpet": [
           {
            "marker": {
             "colorbar": {
              "outlinewidth": 0,
              "ticks": ""
             }
            },
            "type": "scattercarpet"
           }
          ],
          "scattergeo": [
           {
            "marker": {
             "colorbar": {
              "outlinewidth": 0,
              "ticks": ""
             }
            },
            "type": "scattergeo"
           }
          ],
          "scattergl": [
           {
            "marker": {
             "colorbar": {
              "outlinewidth": 0,
              "ticks": ""
             }
            },
            "type": "scattergl"
           }
          ],
          "scattermap": [
           {
            "marker": {
             "colorbar": {
              "outlinewidth": 0,
              "ticks": ""
             }
            },
            "type": "scattermap"
           }
          ],
          "scattermapbox": [
           {
            "marker": {
             "colorbar": {
              "outlinewidth": 0,
              "ticks": ""
             }
            },
            "type": "scattermapbox"
           }
          ],
          "scatterpolar": [
           {
            "marker": {
             "colorbar": {
              "outlinewidth": 0,
              "ticks": ""
             }
            },
            "type": "scatterpolar"
           }
          ],
          "scatterpolargl": [
           {
            "marker": {
             "colorbar": {
              "outlinewidth": 0,
              "ticks": ""
             }
            },
            "type": "scatterpolargl"
           }
          ],
          "scatterternary": [
           {
            "marker": {
             "colorbar": {
              "outlinewidth": 0,
              "ticks": ""
             }
            },
            "type": "scatterternary"
           }
          ],
          "surface": [
           {
            "colorbar": {
             "outlinewidth": 0,
             "ticks": ""
            },
            "colorscale": [
             [
              0,
              "#0d0887"
             ],
             [
              0.1111111111111111,
              "#46039f"
             ],
             [
              0.2222222222222222,
              "#7201a8"
             ],
             [
              0.3333333333333333,
              "#9c179e"
             ],
             [
              0.4444444444444444,
              "#bd3786"
             ],
             [
              0.5555555555555556,
              "#d8576b"
             ],
             [
              0.6666666666666666,
              "#ed7953"
             ],
             [
              0.7777777777777778,
              "#fb9f3a"
             ],
             [
              0.8888888888888888,
              "#fdca26"
             ],
             [
              1,
              "#f0f921"
             ]
            ],
            "type": "surface"
           }
          ],
          "table": [
           {
            "cells": {
             "fill": {
              "color": "#EBF0F8"
             },
             "line": {
              "color": "white"
             }
            },
            "header": {
             "fill": {
              "color": "#C8D4E3"
             },
             "line": {
              "color": "white"
             }
            },
            "type": "table"
           }
          ]
         },
         "layout": {
          "annotationdefaults": {
           "arrowcolor": "#2a3f5f",
           "arrowhead": 0,
           "arrowwidth": 1
          },
          "autotypenumbers": "strict",
          "coloraxis": {
           "colorbar": {
            "outlinewidth": 0,
            "ticks": ""
           }
          },
          "colorscale": {
           "diverging": [
            [
             0,
             "#8e0152"
            ],
            [
             0.1,
             "#c51b7d"
            ],
            [
             0.2,
             "#de77ae"
            ],
            [
             0.3,
             "#f1b6da"
            ],
            [
             0.4,
             "#fde0ef"
            ],
            [
             0.5,
             "#f7f7f7"
            ],
            [
             0.6,
             "#e6f5d0"
            ],
            [
             0.7,
             "#b8e186"
            ],
            [
             0.8,
             "#7fbc41"
            ],
            [
             0.9,
             "#4d9221"
            ],
            [
             1,
             "#276419"
            ]
           ],
           "sequential": [
            [
             0,
             "#0d0887"
            ],
            [
             0.1111111111111111,
             "#46039f"
            ],
            [
             0.2222222222222222,
             "#7201a8"
            ],
            [
             0.3333333333333333,
             "#9c179e"
            ],
            [
             0.4444444444444444,
             "#bd3786"
            ],
            [
             0.5555555555555556,
             "#d8576b"
            ],
            [
             0.6666666666666666,
             "#ed7953"
            ],
            [
             0.7777777777777778,
             "#fb9f3a"
            ],
            [
             0.8888888888888888,
             "#fdca26"
            ],
            [
             1,
             "#f0f921"
            ]
           ],
           "sequentialminus": [
            [
             0,
             "#0d0887"
            ],
            [
             0.1111111111111111,
             "#46039f"
            ],
            [
             0.2222222222222222,
             "#7201a8"
            ],
            [
             0.3333333333333333,
             "#9c179e"
            ],
            [
             0.4444444444444444,
             "#bd3786"
            ],
            [
             0.5555555555555556,
             "#d8576b"
            ],
            [
             0.6666666666666666,
             "#ed7953"
            ],
            [
             0.7777777777777778,
             "#fb9f3a"
            ],
            [
             0.8888888888888888,
             "#fdca26"
            ],
            [
             1,
             "#f0f921"
            ]
           ]
          },
          "colorway": [
           "#636efa",
           "#EF553B",
           "#00cc96",
           "#ab63fa",
           "#FFA15A",
           "#19d3f3",
           "#FF6692",
           "#B6E880",
           "#FF97FF",
           "#FECB52"
          ],
          "font": {
           "color": "#2a3f5f"
          },
          "geo": {
           "bgcolor": "white",
           "lakecolor": "white",
           "landcolor": "#E5ECF6",
           "showlakes": true,
           "showland": true,
           "subunitcolor": "white"
          },
          "hoverlabel": {
           "align": "left"
          },
          "hovermode": "closest",
          "mapbox": {
           "style": "light"
          },
          "paper_bgcolor": "white",
          "plot_bgcolor": "#E5ECF6",
          "polar": {
           "angularaxis": {
            "gridcolor": "white",
            "linecolor": "white",
            "ticks": ""
           },
           "bgcolor": "#E5ECF6",
           "radialaxis": {
            "gridcolor": "white",
            "linecolor": "white",
            "ticks": ""
           }
          },
          "scene": {
           "xaxis": {
            "backgroundcolor": "#E5ECF6",
            "gridcolor": "white",
            "gridwidth": 2,
            "linecolor": "white",
            "showbackground": true,
            "ticks": "",
            "zerolinecolor": "white"
           },
           "yaxis": {
            "backgroundcolor": "#E5ECF6",
            "gridcolor": "white",
            "gridwidth": 2,
            "linecolor": "white",
            "showbackground": true,
            "ticks": "",
            "zerolinecolor": "white"
           },
           "zaxis": {
            "backgroundcolor": "#E5ECF6",
            "gridcolor": "white",
            "gridwidth": 2,
            "linecolor": "white",
            "showbackground": true,
            "ticks": "",
            "zerolinecolor": "white"
           }
          },
          "shapedefaults": {
           "line": {
            "color": "#2a3f5f"
           }
          },
          "ternary": {
           "aaxis": {
            "gridcolor": "white",
            "linecolor": "white",
            "ticks": ""
           },
           "baxis": {
            "gridcolor": "white",
            "linecolor": "white",
            "ticks": ""
           },
           "bgcolor": "#E5ECF6",
           "caxis": {
            "gridcolor": "white",
            "linecolor": "white",
            "ticks": ""
           }
          },
          "title": {
           "x": 0.05
          },
          "xaxis": {
           "automargin": true,
           "gridcolor": "white",
           "linecolor": "white",
           "ticks": "",
           "title": {
            "standoff": 15
           },
           "zerolinecolor": "white",
           "zerolinewidth": 2
          },
          "yaxis": {
           "automargin": true,
           "gridcolor": "white",
           "linecolor": "white",
           "ticks": "",
           "title": {
            "standoff": 15
           },
           "zerolinecolor": "white",
           "zerolinewidth": 2
          }
         }
        },
        "title": {
         "text": "Sampled marginal probabilities"
        },
        "xaxis": {
         "anchor": "y",
         "categoryarray": [
          "LISINOPRIL",
          "SIMVASTATIN",
          "METOPROLOL",
          "METFORMIN",
          "LEVOTHYROXINE",
          "AMLODIPINE",
          "HYDROCHLOROTHIAZIDE",
          "FUROSEMIDE",
          "ATORVASTATIN",
          "OMEPRAZOLE",
          "ATENOLOL",
          "GLIPIZIDE",
          "ALBUTEROL",
          "WARFARIN",
          "ASPIRIN",
          "POTASSIUM CHLORIDE",
          "ESOMEPRAZOLE",
          "CLOPIDOGREL",
          "CARVEDILOL",
          "VALSARTAN",
          "LOSARTAN",
          "ROSUVASTATIN",
          "GABAPENTIN",
          "LOVASTATIN",
          "PIOGLITAZONE",
          "RANITIDINE",
          "PRAVASTATIN",
          "TRAMADOL",
          "IBUPROFEN",
          "INSULIN GLARGINE",
          "CITALOPRAM",
          "ALENDRONATE",
          "ALLOPURINOL",
          "MONTELUKAST",
          "FEXOFENADINE",
          "ZOLPIDEM",
          "TAMSULOSIN",
          "SERTRALINE",
          "FLUTICASONE NASAL",
          "PREDNISONE"
         ],
         "categoryorder": "array",
         "domain": [
          0,
          1
         ],
         "title": {
          "text": "x"
         }
        },
        "yaxis": {
         "anchor": "x",
         "domain": [
          0,
          1
         ],
         "title": {
          "text": "y"
         }
        }
       }
      }
     },
     "metadata": {},
     "output_type": "display_data"
    }
   ],
   "source": [
    "feature_probs = np.loadtxt('feat_probs_smoother.csv', delimiter=',')\n",
    "\n",
    "nsamples = 1000000\n",
    "sample_2, mu, sigma, _ = generate_multivariate_binary(40, nsamples, feature_probs, correlation_matrix)\n",
    "# sample_2 = filter_rows(sample_2, mu, sigma, nsamples)\n",
    "visualize(sample_2)"
   ]
  },
  {
   "cell_type": "code",
   "execution_count": 9,
   "metadata": {},
   "outputs": [
    {
     "data": {
      "application/vnd.plotly.v1+json": {
       "config": {
        "plotlyServerURL": "https://plot.ly"
       },
       "data": [
        {
         "coloraxis": "coloraxis",
         "hovertemplate": "x: %{x}<br>y: %{y}<br>color: %{z}<extra></extra>",
         "name": "0",
         "type": "heatmap",
         "x": [
          "CARVEDILOL",
          "ESOMEPRAZOLE",
          "LEVOTHYROXINE",
          "TRAMADOL",
          "AMLODIPINE",
          "METOPROLOL",
          "OMEPRAZOLE",
          "SIMVASTATIN",
          "TAMSULOSIN",
          "ALENDRONATE",
          "ATORVASTATIN",
          "LISINOPRIL",
          "LOSARTAN",
          "SERTRALINE",
          "METFORMIN",
          "PIOGLITAZONE",
          "PRAVASTATIN",
          "FUROSEMIDE",
          "POTASSIUM CHLORIDE",
          "HYDROCHLOROTHIAZIDE",
          "ATENOLOL",
          "WARFARIN",
          "ASPIRIN",
          "LOVASTATIN",
          "ALBUTEROL",
          "GLIPIZIDE",
          "RANITIDINE",
          "GABAPENTIN",
          "INSULIN GLARGINE",
          "CLOPIDOGREL",
          "ZOLPIDEM",
          "ALLOPURINOL",
          "CITALOPRAM",
          "PREDNISONE",
          "ROSUVASTATIN",
          "VALSARTAN",
          "IBUPROFEN",
          "FEXOFENADINE",
          "MONTELUKAST",
          "FLUTICASONE NASAL"
         ],
         "xaxis": "x",
         "y": [
          "CARVEDILOL",
          "ESOMEPRAZOLE",
          "LEVOTHYROXINE",
          "TRAMADOL",
          "AMLODIPINE",
          "METOPROLOL",
          "OMEPRAZOLE",
          "SIMVASTATIN",
          "TAMSULOSIN",
          "ALENDRONATE",
          "ATORVASTATIN",
          "LISINOPRIL",
          "LOSARTAN",
          "SERTRALINE",
          "METFORMIN",
          "PIOGLITAZONE",
          "PRAVASTATIN",
          "FUROSEMIDE",
          "POTASSIUM CHLORIDE",
          "HYDROCHLOROTHIAZIDE",
          "ATENOLOL",
          "WARFARIN",
          "ASPIRIN",
          "LOVASTATIN",
          "ALBUTEROL",
          "GLIPIZIDE",
          "RANITIDINE",
          "GABAPENTIN",
          "INSULIN GLARGINE",
          "CLOPIDOGREL",
          "ZOLPIDEM",
          "ALLOPURINOL",
          "CITALOPRAM",
          "PREDNISONE",
          "ROSUVASTATIN",
          "VALSARTAN",
          "IBUPROFEN",
          "FEXOFENADINE",
          "MONTELUKAST",
          "FLUTICASONE NASAL"
         ],
         "yaxis": "y",
         "z": {
          "bdata": "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",
          "dtype": "f8",
          "shape": "40, 40"
         }
        }
       ],
       "layout": {
        "coloraxis": {
         "cmax": 1,
         "cmin": -1,
         "colorscale": [
          [
           0,
           "rgb(103,0,31)"
          ],
          [
           0.1,
           "rgb(178,24,43)"
          ],
          [
           0.2,
           "rgb(214,96,77)"
          ],
          [
           0.3,
           "rgb(244,165,130)"
          ],
          [
           0.4,
           "rgb(253,219,199)"
          ],
          [
           0.5,
           "rgb(247,247,247)"
          ],
          [
           0.6,
           "rgb(209,229,240)"
          ],
          [
           0.7,
           "rgb(146,197,222)"
          ],
          [
           0.8,
           "rgb(67,147,195)"
          ],
          [
           0.9,
           "rgb(33,102,172)"
          ],
          [
           1,
           "rgb(5,48,97)"
          ]
         ]
        },
        "template": {
         "data": {
          "bar": [
           {
            "error_x": {
             "color": "#2a3f5f"
            },
            "error_y": {
             "color": "#2a3f5f"
            },
            "marker": {
             "line": {
              "color": "#E5ECF6",
              "width": 0.5
             },
             "pattern": {
              "fillmode": "overlay",
              "size": 10,
              "solidity": 0.2
             }
            },
            "type": "bar"
           }
          ],
          "barpolar": [
           {
            "marker": {
             "line": {
              "color": "#E5ECF6",
              "width": 0.5
             },
             "pattern": {
              "fillmode": "overlay",
              "size": 10,
              "solidity": 0.2
             }
            },
            "type": "barpolar"
           }
          ],
          "carpet": [
           {
            "aaxis": {
             "endlinecolor": "#2a3f5f",
             "gridcolor": "white",
             "linecolor": "white",
             "minorgridcolor": "white",
             "startlinecolor": "#2a3f5f"
            },
            "baxis": {
             "endlinecolor": "#2a3f5f",
             "gridcolor": "white",
             "linecolor": "white",
             "minorgridcolor": "white",
             "startlinecolor": "#2a3f5f"
            },
            "type": "carpet"
           }
          ],
          "choropleth": [
           {
            "colorbar": {
             "outlinewidth": 0,
             "ticks": ""
            },
            "type": "choropleth"
           }
          ],
          "contour": [
           {
            "colorbar": {
             "outlinewidth": 0,
             "ticks": ""
            },
            "colorscale": [
             [
              0,
              "#0d0887"
             ],
             [
              0.1111111111111111,
              "#46039f"
             ],
             [
              0.2222222222222222,
              "#7201a8"
             ],
             [
              0.3333333333333333,
              "#9c179e"
             ],
             [
              0.4444444444444444,
              "#bd3786"
             ],
             [
              0.5555555555555556,
              "#d8576b"
             ],
             [
              0.6666666666666666,
              "#ed7953"
             ],
             [
              0.7777777777777778,
              "#fb9f3a"
             ],
             [
              0.8888888888888888,
              "#fdca26"
             ],
             [
              1,
              "#f0f921"
             ]
            ],
            "type": "contour"
           }
          ],
          "contourcarpet": [
           {
            "colorbar": {
             "outlinewidth": 0,
             "ticks": ""
            },
            "type": "contourcarpet"
           }
          ],
          "heatmap": [
           {
            "colorbar": {
             "outlinewidth": 0,
             "ticks": ""
            },
            "colorscale": [
             [
              0,
              "#0d0887"
             ],
             [
              0.1111111111111111,
              "#46039f"
             ],
             [
              0.2222222222222222,
              "#7201a8"
             ],
             [
              0.3333333333333333,
              "#9c179e"
             ],
             [
              0.4444444444444444,
              "#bd3786"
             ],
             [
              0.5555555555555556,
              "#d8576b"
             ],
             [
              0.6666666666666666,
              "#ed7953"
             ],
             [
              0.7777777777777778,
              "#fb9f3a"
             ],
             [
              0.8888888888888888,
              "#fdca26"
             ],
             [
              1,
              "#f0f921"
             ]
            ],
            "type": "heatmap"
           }
          ],
          "histogram": [
           {
            "marker": {
             "pattern": {
              "fillmode": "overlay",
              "size": 10,
              "solidity": 0.2
             }
            },
            "type": "histogram"
           }
          ],
          "histogram2d": [
           {
            "colorbar": {
             "outlinewidth": 0,
             "ticks": ""
            },
            "colorscale": [
             [
              0,
              "#0d0887"
             ],
             [
              0.1111111111111111,
              "#46039f"
             ],
             [
              0.2222222222222222,
              "#7201a8"
             ],
             [
              0.3333333333333333,
              "#9c179e"
             ],
             [
              0.4444444444444444,
              "#bd3786"
             ],
             [
              0.5555555555555556,
              "#d8576b"
             ],
             [
              0.6666666666666666,
              "#ed7953"
             ],
             [
              0.7777777777777778,
              "#fb9f3a"
             ],
             [
              0.8888888888888888,
              "#fdca26"
             ],
             [
              1,
              "#f0f921"
             ]
            ],
            "type": "histogram2d"
           }
          ],
          "histogram2dcontour": [
           {
            "colorbar": {
             "outlinewidth": 0,
             "ticks": ""
            },
            "colorscale": [
             [
              0,
              "#0d0887"
             ],
             [
              0.1111111111111111,
              "#46039f"
             ],
             [
              0.2222222222222222,
              "#7201a8"
             ],
             [
              0.3333333333333333,
              "#9c179e"
             ],
             [
              0.4444444444444444,
              "#bd3786"
             ],
             [
              0.5555555555555556,
              "#d8576b"
             ],
             [
              0.6666666666666666,
              "#ed7953"
             ],
             [
              0.7777777777777778,
              "#fb9f3a"
             ],
             [
              0.8888888888888888,
              "#fdca26"
             ],
             [
              1,
              "#f0f921"
             ]
            ],
            "type": "histogram2dcontour"
           }
          ],
          "mesh3d": [
           {
            "colorbar": {
             "outlinewidth": 0,
             "ticks": ""
            },
            "type": "mesh3d"
           }
          ],
          "parcoords": [
           {
            "line": {
             "colorbar": {
              "outlinewidth": 0,
              "ticks": ""
             }
            },
            "type": "parcoords"
           }
          ],
          "pie": [
           {
            "automargin": true,
            "type": "pie"
           }
          ],
          "scatter": [
           {
            "fillpattern": {
             "fillmode": "overlay",
             "size": 10,
             "solidity": 0.2
            },
            "type": "scatter"
           }
          ],
          "scatter3d": [
           {
            "line": {
             "colorbar": {
              "outlinewidth": 0,
              "ticks": ""
             }
            },
            "marker": {
             "colorbar": {
              "outlinewidth": 0,
              "ticks": ""
             }
            },
            "type": "scatter3d"
           }
          ],
          "scattercarpet": [
           {
            "marker": {
             "colorbar": {
              "outlinewidth": 0,
              "ticks": ""
             }
            },
            "type": "scattercarpet"
           }
          ],
          "scattergeo": [
           {
            "marker": {
             "colorbar": {
              "outlinewidth": 0,
              "ticks": ""
             }
            },
            "type": "scattergeo"
           }
          ],
          "scattergl": [
           {
            "marker": {
             "colorbar": {
              "outlinewidth": 0,
              "ticks": ""
             }
            },
            "type": "scattergl"
           }
          ],
          "scattermap": [
           {
            "marker": {
             "colorbar": {
              "outlinewidth": 0,
              "ticks": ""
             }
            },
            "type": "scattermap"
           }
          ],
          "scattermapbox": [
           {
            "marker": {
             "colorbar": {
              "outlinewidth": 0,
              "ticks": ""
             }
            },
            "type": "scattermapbox"
           }
          ],
          "scatterpolar": [
           {
            "marker": {
             "colorbar": {
              "outlinewidth": 0,
              "ticks": ""
             }
            },
            "type": "scatterpolar"
           }
          ],
          "scatterpolargl": [
           {
            "marker": {
             "colorbar": {
              "outlinewidth": 0,
              "ticks": ""
             }
            },
            "type": "scatterpolargl"
           }
          ],
          "scatterternary": [
           {
            "marker": {
             "colorbar": {
              "outlinewidth": 0,
              "ticks": ""
             }
            },
            "type": "scatterternary"
           }
          ],
          "surface": [
           {
            "colorbar": {
             "outlinewidth": 0,
             "ticks": ""
            },
            "colorscale": [
             [
              0,
              "#0d0887"
             ],
             [
              0.1111111111111111,
              "#46039f"
             ],
             [
              0.2222222222222222,
              "#7201a8"
             ],
             [
              0.3333333333333333,
              "#9c179e"
             ],
             [
              0.4444444444444444,
              "#bd3786"
             ],
             [
              0.5555555555555556,
              "#d8576b"
             ],
             [
              0.6666666666666666,
              "#ed7953"
             ],
             [
              0.7777777777777778,
              "#fb9f3a"
             ],
             [
              0.8888888888888888,
              "#fdca26"
             ],
             [
              1,
              "#f0f921"
             ]
            ],
            "type": "surface"
           }
          ],
          "table": [
           {
            "cells": {
             "fill": {
              "color": "#EBF0F8"
             },
             "line": {
              "color": "white"
             }
            },
            "header": {
             "fill": {
              "color": "#C8D4E3"
             },
             "line": {
              "color": "white"
             }
            },
            "type": "table"
           }
          ]
         },
         "layout": {
          "annotationdefaults": {
           "arrowcolor": "#2a3f5f",
           "arrowhead": 0,
           "arrowwidth": 1
          },
          "autotypenumbers": "strict",
          "coloraxis": {
           "colorbar": {
            "outlinewidth": 0,
            "ticks": ""
           }
          },
          "colorscale": {
           "diverging": [
            [
             0,
             "#8e0152"
            ],
            [
             0.1,
             "#c51b7d"
            ],
            [
             0.2,
             "#de77ae"
            ],
            [
             0.3,
             "#f1b6da"
            ],
            [
             0.4,
             "#fde0ef"
            ],
            [
             0.5,
             "#f7f7f7"
            ],
            [
             0.6,
             "#e6f5d0"
            ],
            [
             0.7,
             "#b8e186"
            ],
            [
             0.8,
             "#7fbc41"
            ],
            [
             0.9,
             "#4d9221"
            ],
            [
             1,
             "#276419"
            ]
           ],
           "sequential": [
            [
             0,
             "#0d0887"
            ],
            [
             0.1111111111111111,
             "#46039f"
            ],
            [
             0.2222222222222222,
             "#7201a8"
            ],
            [
             0.3333333333333333,
             "#9c179e"
            ],
            [
             0.4444444444444444,
             "#bd3786"
            ],
            [
             0.5555555555555556,
             "#d8576b"
            ],
            [
             0.6666666666666666,
             "#ed7953"
            ],
            [
             0.7777777777777778,
             "#fb9f3a"
            ],
            [
             0.8888888888888888,
             "#fdca26"
            ],
            [
             1,
             "#f0f921"
            ]
           ],
           "sequentialminus": [
            [
             0,
             "#0d0887"
            ],
            [
             0.1111111111111111,
             "#46039f"
            ],
            [
             0.2222222222222222,
             "#7201a8"
            ],
            [
             0.3333333333333333,
             "#9c179e"
            ],
            [
             0.4444444444444444,
             "#bd3786"
            ],
            [
             0.5555555555555556,
             "#d8576b"
            ],
            [
             0.6666666666666666,
             "#ed7953"
            ],
            [
             0.7777777777777778,
             "#fb9f3a"
            ],
            [
             0.8888888888888888,
             "#fdca26"
            ],
            [
             1,
             "#f0f921"
            ]
           ]
          },
          "colorway": [
           "#636efa",
           "#EF553B",
           "#00cc96",
           "#ab63fa",
           "#FFA15A",
           "#19d3f3",
           "#FF6692",
           "#B6E880",
           "#FF97FF",
           "#FECB52"
          ],
          "font": {
           "color": "#2a3f5f"
          },
          "geo": {
           "bgcolor": "white",
           "lakecolor": "white",
           "landcolor": "#E5ECF6",
           "showlakes": true,
           "showland": true,
           "subunitcolor": "white"
          },
          "hoverlabel": {
           "align": "left"
          },
          "hovermode": "closest",
          "mapbox": {
           "style": "light"
          },
          "paper_bgcolor": "white",
          "plot_bgcolor": "#E5ECF6",
          "polar": {
           "angularaxis": {
            "gridcolor": "white",
            "linecolor": "white",
            "ticks": ""
           },
           "bgcolor": "#E5ECF6",
           "radialaxis": {
            "gridcolor": "white",
            "linecolor": "white",
            "ticks": ""
           }
          },
          "scene": {
           "xaxis": {
            "backgroundcolor": "#E5ECF6",
            "gridcolor": "white",
            "gridwidth": 2,
            "linecolor": "white",
            "showbackground": true,
            "ticks": "",
            "zerolinecolor": "white"
           },
           "yaxis": {
            "backgroundcolor": "#E5ECF6",
            "gridcolor": "white",
            "gridwidth": 2,
            "linecolor": "white",
            "showbackground": true,
            "ticks": "",
            "zerolinecolor": "white"
           },
           "zaxis": {
            "backgroundcolor": "#E5ECF6",
            "gridcolor": "white",
            "gridwidth": 2,
            "linecolor": "white",
            "showbackground": true,
            "ticks": "",
            "zerolinecolor": "white"
           }
          },
          "shapedefaults": {
           "line": {
            "color": "#2a3f5f"
           }
          },
          "ternary": {
           "aaxis": {
            "gridcolor": "white",
            "linecolor": "white",
            "ticks": ""
           },
           "baxis": {
            "gridcolor": "white",
            "linecolor": "white",
            "ticks": ""
           },
           "bgcolor": "#E5ECF6",
           "caxis": {
            "gridcolor": "white",
            "linecolor": "white",
            "ticks": ""
           }
          },
          "title": {
           "x": 0.05
          },
          "xaxis": {
           "automargin": true,
           "gridcolor": "white",
           "linecolor": "white",
           "ticks": "",
           "title": {
            "standoff": 15
           },
           "zerolinecolor": "white",
           "zerolinewidth": 2
          },
          "yaxis": {
           "automargin": true,
           "gridcolor": "white",
           "linecolor": "white",
           "ticks": "",
           "title": {
            "standoff": 15
           },
           "zerolinecolor": "white",
           "zerolinewidth": 2
          }
         }
        },
        "title": {
         "text": "Input correlation matrix"
        },
        "xaxis": {
         "anchor": "y",
         "constrain": "domain",
         "domain": [
          0,
          1
         ],
         "scaleanchor": "y"
        },
        "yaxis": {
         "anchor": "x",
         "autorange": "reversed",
         "constrain": "domain",
         "domain": [
          0,
          1
         ]
        }
       }
      }
     },
     "metadata": {},
     "output_type": "display_data"
    },
    {
     "data": {
      "application/vnd.plotly.v1+json": {
       "config": {
        "plotlyServerURL": "https://plot.ly"
       },
       "data": [
        {
         "coloraxis": "coloraxis",
         "hovertemplate": "x: %{x}<br>y: %{y}<br>color: %{z}<extra></extra>",
         "name": "0",
         "type": "heatmap",
         "x": [
          "CARVEDILOL",
          "ESOMEPRAZOLE",
          "LEVOTHYROXINE",
          "TRAMADOL",
          "AMLODIPINE",
          "METOPROLOL",
          "OMEPRAZOLE",
          "SIMVASTATIN",
          "TAMSULOSIN",
          "ALENDRONATE",
          "ATORVASTATIN",
          "LISINOPRIL",
          "LOSARTAN",
          "SERTRALINE",
          "METFORMIN",
          "PIOGLITAZONE",
          "PRAVASTATIN",
          "FUROSEMIDE",
          "POTASSIUM CHLORIDE",
          "HYDROCHLOROTHIAZIDE",
          "ATENOLOL",
          "WARFARIN",
          "ASPIRIN",
          "LOVASTATIN",
          "ALBUTEROL",
          "GLIPIZIDE",
          "RANITIDINE",
          "GABAPENTIN",
          "INSULIN GLARGINE",
          "CLOPIDOGREL",
          "ZOLPIDEM",
          "ALLOPURINOL",
          "CITALOPRAM",
          "PREDNISONE",
          "ROSUVASTATIN",
          "VALSARTAN",
          "IBUPROFEN",
          "FEXOFENADINE",
          "MONTELUKAST",
          "FLUTICASONE NASAL"
         ],
         "xaxis": "x",
         "y": [
          "CARVEDILOL",
          "ESOMEPRAZOLE",
          "LEVOTHYROXINE",
          "TRAMADOL",
          "AMLODIPINE",
          "METOPROLOL",
          "OMEPRAZOLE",
          "SIMVASTATIN",
          "TAMSULOSIN",
          "ALENDRONATE",
          "ATORVASTATIN",
          "LISINOPRIL",
          "LOSARTAN",
          "SERTRALINE",
          "METFORMIN",
          "PIOGLITAZONE",
          "PRAVASTATIN",
          "FUROSEMIDE",
          "POTASSIUM CHLORIDE",
          "HYDROCHLOROTHIAZIDE",
          "ATENOLOL",
          "WARFARIN",
          "ASPIRIN",
          "LOVASTATIN",
          "ALBUTEROL",
          "GLIPIZIDE",
          "RANITIDINE",
          "GABAPENTIN",
          "INSULIN GLARGINE",
          "CLOPIDOGREL",
          "ZOLPIDEM",
          "ALLOPURINOL",
          "CITALOPRAM",
          "PREDNISONE",
          "ROSUVASTATIN",
          "VALSARTAN",
          "IBUPROFEN",
          "FEXOFENADINE",
          "MONTELUKAST",
          "FLUTICASONE NASAL"
         ],
         "yaxis": "y",
         "z": {
          "bdata": "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",
          "dtype": "f8",
          "shape": "40, 40"
         }
        }
       ],
       "layout": {
        "coloraxis": {
         "cmax": 1,
         "cmin": -1,
         "colorscale": [
          [
           0,
           "rgb(103,0,31)"
          ],
          [
           0.1,
           "rgb(178,24,43)"
          ],
          [
           0.2,
           "rgb(214,96,77)"
          ],
          [
           0.3,
           "rgb(244,165,130)"
          ],
          [
           0.4,
           "rgb(253,219,199)"
          ],
          [
           0.5,
           "rgb(247,247,247)"
          ],
          [
           0.6,
           "rgb(209,229,240)"
          ],
          [
           0.7,
           "rgb(146,197,222)"
          ],
          [
           0.8,
           "rgb(67,147,195)"
          ],
          [
           0.9,
           "rgb(33,102,172)"
          ],
          [
           1,
           "rgb(5,48,97)"
          ]
         ]
        },
        "template": {
         "data": {
          "bar": [
           {
            "error_x": {
             "color": "#2a3f5f"
            },
            "error_y": {
             "color": "#2a3f5f"
            },
            "marker": {
             "line": {
              "color": "#E5ECF6",
              "width": 0.5
             },
             "pattern": {
              "fillmode": "overlay",
              "size": 10,
              "solidity": 0.2
             }
            },
            "type": "bar"
           }
          ],
          "barpolar": [
           {
            "marker": {
             "line": {
              "color": "#E5ECF6",
              "width": 0.5
             },
             "pattern": {
              "fillmode": "overlay",
              "size": 10,
              "solidity": 0.2
             }
            },
            "type": "barpolar"
           }
          ],
          "carpet": [
           {
            "aaxis": {
             "endlinecolor": "#2a3f5f",
             "gridcolor": "white",
             "linecolor": "white",
             "minorgridcolor": "white",
             "startlinecolor": "#2a3f5f"
            },
            "baxis": {
             "endlinecolor": "#2a3f5f",
             "gridcolor": "white",
             "linecolor": "white",
             "minorgridcolor": "white",
             "startlinecolor": "#2a3f5f"
            },
            "type": "carpet"
           }
          ],
          "choropleth": [
           {
            "colorbar": {
             "outlinewidth": 0,
             "ticks": ""
            },
            "type": "choropleth"
           }
          ],
          "contour": [
           {
            "colorbar": {
             "outlinewidth": 0,
             "ticks": ""
            },
            "colorscale": [
             [
              0,
              "#0d0887"
             ],
             [
              0.1111111111111111,
              "#46039f"
             ],
             [
              0.2222222222222222,
              "#7201a8"
             ],
             [
              0.3333333333333333,
              "#9c179e"
             ],
             [
              0.4444444444444444,
              "#bd3786"
             ],
             [
              0.5555555555555556,
              "#d8576b"
             ],
             [
              0.6666666666666666,
              "#ed7953"
             ],
             [
              0.7777777777777778,
              "#fb9f3a"
             ],
             [
              0.8888888888888888,
              "#fdca26"
             ],
             [
              1,
              "#f0f921"
             ]
            ],
            "type": "contour"
           }
          ],
          "contourcarpet": [
           {
            "colorbar": {
             "outlinewidth": 0,
             "ticks": ""
            },
            "type": "contourcarpet"
           }
          ],
          "heatmap": [
           {
            "colorbar": {
             "outlinewidth": 0,
             "ticks": ""
            },
            "colorscale": [
             [
              0,
              "#0d0887"
             ],
             [
              0.1111111111111111,
              "#46039f"
             ],
             [
              0.2222222222222222,
              "#7201a8"
             ],
             [
              0.3333333333333333,
              "#9c179e"
             ],
             [
              0.4444444444444444,
              "#bd3786"
             ],
             [
              0.5555555555555556,
              "#d8576b"
             ],
             [
              0.6666666666666666,
              "#ed7953"
             ],
             [
              0.7777777777777778,
              "#fb9f3a"
             ],
             [
              0.8888888888888888,
              "#fdca26"
             ],
             [
              1,
              "#f0f921"
             ]
            ],
            "type": "heatmap"
           }
          ],
          "histogram": [
           {
            "marker": {
             "pattern": {
              "fillmode": "overlay",
              "size": 10,
              "solidity": 0.2
             }
            },
            "type": "histogram"
           }
          ],
          "histogram2d": [
           {
            "colorbar": {
             "outlinewidth": 0,
             "ticks": ""
            },
            "colorscale": [
             [
              0,
              "#0d0887"
             ],
             [
              0.1111111111111111,
              "#46039f"
             ],
             [
              0.2222222222222222,
              "#7201a8"
             ],
             [
              0.3333333333333333,
              "#9c179e"
             ],
             [
              0.4444444444444444,
              "#bd3786"
             ],
             [
              0.5555555555555556,
              "#d8576b"
             ],
             [
              0.6666666666666666,
              "#ed7953"
             ],
             [
              0.7777777777777778,
              "#fb9f3a"
             ],
             [
              0.8888888888888888,
              "#fdca26"
             ],
             [
              1,
              "#f0f921"
             ]
            ],
            "type": "histogram2d"
           }
          ],
          "histogram2dcontour": [
           {
            "colorbar": {
             "outlinewidth": 0,
             "ticks": ""
            },
            "colorscale": [
             [
              0,
              "#0d0887"
             ],
             [
              0.1111111111111111,
              "#46039f"
             ],
             [
              0.2222222222222222,
              "#7201a8"
             ],
             [
              0.3333333333333333,
              "#9c179e"
             ],
             [
              0.4444444444444444,
              "#bd3786"
             ],
             [
              0.5555555555555556,
              "#d8576b"
             ],
             [
              0.6666666666666666,
              "#ed7953"
             ],
             [
              0.7777777777777778,
              "#fb9f3a"
             ],
             [
              0.8888888888888888,
              "#fdca26"
             ],
             [
              1,
              "#f0f921"
             ]
            ],
            "type": "histogram2dcontour"
           }
          ],
          "mesh3d": [
           {
            "colorbar": {
             "outlinewidth": 0,
             "ticks": ""
            },
            "type": "mesh3d"
           }
          ],
          "parcoords": [
           {
            "line": {
             "colorbar": {
              "outlinewidth": 0,
              "ticks": ""
             }
            },
            "type": "parcoords"
           }
          ],
          "pie": [
           {
            "automargin": true,
            "type": "pie"
           }
          ],
          "scatter": [
           {
            "fillpattern": {
             "fillmode": "overlay",
             "size": 10,
             "solidity": 0.2
            },
            "type": "scatter"
           }
          ],
          "scatter3d": [
           {
            "line": {
             "colorbar": {
              "outlinewidth": 0,
              "ticks": ""
             }
            },
            "marker": {
             "colorbar": {
              "outlinewidth": 0,
              "ticks": ""
             }
            },
            "type": "scatter3d"
           }
          ],
          "scattercarpet": [
           {
            "marker": {
             "colorbar": {
              "outlinewidth": 0,
              "ticks": ""
             }
            },
            "type": "scattercarpet"
           }
          ],
          "scattergeo": [
           {
            "marker": {
             "colorbar": {
              "outlinewidth": 0,
              "ticks": ""
             }
            },
            "type": "scattergeo"
           }
          ],
          "scattergl": [
           {
            "marker": {
             "colorbar": {
              "outlinewidth": 0,
              "ticks": ""
             }
            },
            "type": "scattergl"
           }
          ],
          "scattermap": [
           {
            "marker": {
             "colorbar": {
              "outlinewidth": 0,
              "ticks": ""
             }
            },
            "type": "scattermap"
           }
          ],
          "scattermapbox": [
           {
            "marker": {
             "colorbar": {
              "outlinewidth": 0,
              "ticks": ""
             }
            },
            "type": "scattermapbox"
           }
          ],
          "scatterpolar": [
           {
            "marker": {
             "colorbar": {
              "outlinewidth": 0,
              "ticks": ""
             }
            },
            "type": "scatterpolar"
           }
          ],
          "scatterpolargl": [
           {
            "marker": {
             "colorbar": {
              "outlinewidth": 0,
              "ticks": ""
             }
            },
            "type": "scatterpolargl"
           }
          ],
          "scatterternary": [
           {
            "marker": {
             "colorbar": {
              "outlinewidth": 0,
              "ticks": ""
             }
            },
            "type": "scatterternary"
           }
          ],
          "surface": [
           {
            "colorbar": {
             "outlinewidth": 0,
             "ticks": ""
            },
            "colorscale": [
             [
              0,
              "#0d0887"
             ],
             [
              0.1111111111111111,
              "#46039f"
             ],
             [
              0.2222222222222222,
              "#7201a8"
             ],
             [
              0.3333333333333333,
              "#9c179e"
             ],
             [
              0.4444444444444444,
              "#bd3786"
             ],
             [
              0.5555555555555556,
              "#d8576b"
             ],
             [
              0.6666666666666666,
              "#ed7953"
             ],
             [
              0.7777777777777778,
              "#fb9f3a"
             ],
             [
              0.8888888888888888,
              "#fdca26"
             ],
             [
              1,
              "#f0f921"
             ]
            ],
            "type": "surface"
           }
          ],
          "table": [
           {
            "cells": {
             "fill": {
              "color": "#EBF0F8"
             },
             "line": {
              "color": "white"
             }
            },
            "header": {
             "fill": {
              "color": "#C8D4E3"
             },
             "line": {
              "color": "white"
             }
            },
            "type": "table"
           }
          ]
         },
         "layout": {
          "annotationdefaults": {
           "arrowcolor": "#2a3f5f",
           "arrowhead": 0,
           "arrowwidth": 1
          },
          "autotypenumbers": "strict",
          "coloraxis": {
           "colorbar": {
            "outlinewidth": 0,
            "ticks": ""
           }
          },
          "colorscale": {
           "diverging": [
            [
             0,
             "#8e0152"
            ],
            [
             0.1,
             "#c51b7d"
            ],
            [
             0.2,
             "#de77ae"
            ],
            [
             0.3,
             "#f1b6da"
            ],
            [
             0.4,
             "#fde0ef"
            ],
            [
             0.5,
             "#f7f7f7"
            ],
            [
             0.6,
             "#e6f5d0"
            ],
            [
             0.7,
             "#b8e186"
            ],
            [
             0.8,
             "#7fbc41"
            ],
            [
             0.9,
             "#4d9221"
            ],
            [
             1,
             "#276419"
            ]
           ],
           "sequential": [
            [
             0,
             "#0d0887"
            ],
            [
             0.1111111111111111,
             "#46039f"
            ],
            [
             0.2222222222222222,
             "#7201a8"
            ],
            [
             0.3333333333333333,
             "#9c179e"
            ],
            [
             0.4444444444444444,
             "#bd3786"
            ],
            [
             0.5555555555555556,
             "#d8576b"
            ],
            [
             0.6666666666666666,
             "#ed7953"
            ],
            [
             0.7777777777777778,
             "#fb9f3a"
            ],
            [
             0.8888888888888888,
             "#fdca26"
            ],
            [
             1,
             "#f0f921"
            ]
           ],
           "sequentialminus": [
            [
             0,
             "#0d0887"
            ],
            [
             0.1111111111111111,
             "#46039f"
            ],
            [
             0.2222222222222222,
             "#7201a8"
            ],
            [
             0.3333333333333333,
             "#9c179e"
            ],
            [
             0.4444444444444444,
             "#bd3786"
            ],
            [
             0.5555555555555556,
             "#d8576b"
            ],
            [
             0.6666666666666666,
             "#ed7953"
            ],
            [
             0.7777777777777778,
             "#fb9f3a"
            ],
            [
             0.8888888888888888,
             "#fdca26"
            ],
            [
             1,
             "#f0f921"
            ]
           ]
          },
          "colorway": [
           "#636efa",
           "#EF553B",
           "#00cc96",
           "#ab63fa",
           "#FFA15A",
           "#19d3f3",
           "#FF6692",
           "#B6E880",
           "#FF97FF",
           "#FECB52"
          ],
          "font": {
           "color": "#2a3f5f"
          },
          "geo": {
           "bgcolor": "white",
           "lakecolor": "white",
           "landcolor": "#E5ECF6",
           "showlakes": true,
           "showland": true,
           "subunitcolor": "white"
          },
          "hoverlabel": {
           "align": "left"
          },
          "hovermode": "closest",
          "mapbox": {
           "style": "light"
          },
          "paper_bgcolor": "white",
          "plot_bgcolor": "#E5ECF6",
          "polar": {
           "angularaxis": {
            "gridcolor": "white",
            "linecolor": "white",
            "ticks": ""
           },
           "bgcolor": "#E5ECF6",
           "radialaxis": {
            "gridcolor": "white",
            "linecolor": "white",
            "ticks": ""
           }
          },
          "scene": {
           "xaxis": {
            "backgroundcolor": "#E5ECF6",
            "gridcolor": "white",
            "gridwidth": 2,
            "linecolor": "white",
            "showbackground": true,
            "ticks": "",
            "zerolinecolor": "white"
           },
           "yaxis": {
            "backgroundcolor": "#E5ECF6",
            "gridcolor": "white",
            "gridwidth": 2,
            "linecolor": "white",
            "showbackground": true,
            "ticks": "",
            "zerolinecolor": "white"
           },
           "zaxis": {
            "backgroundcolor": "#E5ECF6",
            "gridcolor": "white",
            "gridwidth": 2,
            "linecolor": "white",
            "showbackground": true,
            "ticks": "",
            "zerolinecolor": "white"
           }
          },
          "shapedefaults": {
           "line": {
            "color": "#2a3f5f"
           }
          },
          "ternary": {
           "aaxis": {
            "gridcolor": "white",
            "linecolor": "white",
            "ticks": ""
           },
           "baxis": {
            "gridcolor": "white",
            "linecolor": "white",
            "ticks": ""
           },
           "bgcolor": "#E5ECF6",
           "caxis": {
            "gridcolor": "white",
            "linecolor": "white",
            "ticks": ""
           }
          },
          "title": {
           "x": 0.05
          },
          "xaxis": {
           "automargin": true,
           "gridcolor": "white",
           "linecolor": "white",
           "ticks": "",
           "title": {
            "standoff": 15
           },
           "zerolinecolor": "white",
           "zerolinewidth": 2
          },
          "yaxis": {
           "automargin": true,
           "gridcolor": "white",
           "linecolor": "white",
           "ticks": "",
           "title": {
            "standoff": 15
           },
           "zerolinecolor": "white",
           "zerolinewidth": 2
          }
         }
        },
        "title": {
         "text": "Sample correlation matrix"
        },
        "xaxis": {
         "anchor": "y",
         "constrain": "domain",
         "domain": [
          0,
          1
         ],
         "scaleanchor": "y"
        },
        "yaxis": {
         "anchor": "x",
         "autorange": "reversed",
         "constrain": "domain",
         "domain": [
          0,
          1
         ]
        }
       }
      }
     },
     "metadata": {},
     "output_type": "display_data"
    },
    {
     "data": {
      "application/vnd.plotly.v1+json": {
       "config": {
        "plotlyServerURL": "https://plot.ly"
       },
       "data": [
        {
         "hovertemplate": "x=%{x}<br>y=%{y}<extra></extra>",
         "legendgroup": "",
         "marker": {
          "color": "#636efa",
          "pattern": {
           "shape": ""
          }
         },
         "name": "",
         "orientation": "v",
         "showlegend": false,
         "textposition": "auto",
         "type": "bar",
         "x": [
          "ZOLPIDEM",
          "WARFARIN",
          "VALSARTAN",
          "TRAMADOL",
          "TAMSULOSIN",
          "SIMVASTATIN",
          "SERTRALINE",
          "ROSUVASTATIN",
          "RANITIDINE",
          "PREDNISONE",
          "PRAVASTATIN",
          "POTASSIUM CHLORIDE",
          "PIOGLITAZONE",
          "OMEPRAZOLE",
          "MONTELUKAST",
          "METOPROLOL",
          "METFORMIN",
          "LOVASTATIN",
          "LOSARTAN",
          "LISINOPRIL",
          "LEVOTHYROXINE",
          "INSULIN GLARGINE",
          "IBUPROFEN",
          "HYDROCHLOROTHIAZIDE",
          "GLIPIZIDE",
          "GABAPENTIN",
          "FUROSEMIDE",
          "FLUTICASONE NASAL",
          "FEXOFENADINE",
          "ESOMEPRAZOLE",
          "CLOPIDOGREL",
          "CITALOPRAM",
          "CARVEDILOL",
          "ATORVASTATIN",
          "ATENOLOL",
          "ASPIRIN",
          "AMLODIPINE",
          "ALLOPURINOL",
          "ALENDRONATE",
          "ALBUTEROL"
         ],
         "xaxis": "x",
         "y": {
          "bdata": "mpmZmZmZqT+amZmZmZmpP5qZmZmZmak/mpmZmZmZqT+amZmZmZmpP5qZmZmZmak/mpmZmZmZqT+amZmZmZmpP5qZmZmZmak/mpmZmZmZqT+amZmZmZmpP5qZmZmZmak/mpmZmZmZqT+amZmZmZmpP5qZmZmZmak/mpmZmZmZqT+amZmZmZmpP5qZmZmZmak/mpmZmZmZqT+amZmZmZmpP5qZmZmZmak/mpmZmZmZqT+amZmZmZmpP5qZmZmZmak/mpmZmZmZqT+amZmZmZmpP5qZmZmZmak/mpmZmZmZqT+amZmZmZmpP5qZmZmZmak/mpmZmZmZqT+amZmZmZmpP5qZmZmZmak/mpmZmZmZqT+amZmZmZmpP5qZmZmZmak/mpmZmZmZqT+amZmZmZmpP5qZmZmZmak/mpmZmZmZqT8=",
          "dtype": "f8"
         },
         "yaxis": "y"
        }
       ],
       "layout": {
        "barmode": "relative",
        "legend": {
         "tracegroupgap": 0
        },
        "template": {
         "data": {
          "bar": [
           {
            "error_x": {
             "color": "#2a3f5f"
            },
            "error_y": {
             "color": "#2a3f5f"
            },
            "marker": {
             "line": {
              "color": "#E5ECF6",
              "width": 0.5
             },
             "pattern": {
              "fillmode": "overlay",
              "size": 10,
              "solidity": 0.2
             }
            },
            "type": "bar"
           }
          ],
          "barpolar": [
           {
            "marker": {
             "line": {
              "color": "#E5ECF6",
              "width": 0.5
             },
             "pattern": {
              "fillmode": "overlay",
              "size": 10,
              "solidity": 0.2
             }
            },
            "type": "barpolar"
           }
          ],
          "carpet": [
           {
            "aaxis": {
             "endlinecolor": "#2a3f5f",
             "gridcolor": "white",
             "linecolor": "white",
             "minorgridcolor": "white",
             "startlinecolor": "#2a3f5f"
            },
            "baxis": {
             "endlinecolor": "#2a3f5f",
             "gridcolor": "white",
             "linecolor": "white",
             "minorgridcolor": "white",
             "startlinecolor": "#2a3f5f"
            },
            "type": "carpet"
           }
          ],
          "choropleth": [
           {
            "colorbar": {
             "outlinewidth": 0,
             "ticks": ""
            },
            "type": "choropleth"
           }
          ],
          "contour": [
           {
            "colorbar": {
             "outlinewidth": 0,
             "ticks": ""
            },
            "colorscale": [
             [
              0,
              "#0d0887"
             ],
             [
              0.1111111111111111,
              "#46039f"
             ],
             [
              0.2222222222222222,
              "#7201a8"
             ],
             [
              0.3333333333333333,
              "#9c179e"
             ],
             [
              0.4444444444444444,
              "#bd3786"
             ],
             [
              0.5555555555555556,
              "#d8576b"
             ],
             [
              0.6666666666666666,
              "#ed7953"
             ],
             [
              0.7777777777777778,
              "#fb9f3a"
             ],
             [
              0.8888888888888888,
              "#fdca26"
             ],
             [
              1,
              "#f0f921"
             ]
            ],
            "type": "contour"
           }
          ],
          "contourcarpet": [
           {
            "colorbar": {
             "outlinewidth": 0,
             "ticks": ""
            },
            "type": "contourcarpet"
           }
          ],
          "heatmap": [
           {
            "colorbar": {
             "outlinewidth": 0,
             "ticks": ""
            },
            "colorscale": [
             [
              0,
              "#0d0887"
             ],
             [
              0.1111111111111111,
              "#46039f"
             ],
             [
              0.2222222222222222,
              "#7201a8"
             ],
             [
              0.3333333333333333,
              "#9c179e"
             ],
             [
              0.4444444444444444,
              "#bd3786"
             ],
             [
              0.5555555555555556,
              "#d8576b"
             ],
             [
              0.6666666666666666,
              "#ed7953"
             ],
             [
              0.7777777777777778,
              "#fb9f3a"
             ],
             [
              0.8888888888888888,
              "#fdca26"
             ],
             [
              1,
              "#f0f921"
             ]
            ],
            "type": "heatmap"
           }
          ],
          "histogram": [
           {
            "marker": {
             "pattern": {
              "fillmode": "overlay",
              "size": 10,
              "solidity": 0.2
             }
            },
            "type": "histogram"
           }
          ],
          "histogram2d": [
           {
            "colorbar": {
             "outlinewidth": 0,
             "ticks": ""
            },
            "colorscale": [
             [
              0,
              "#0d0887"
             ],
             [
              0.1111111111111111,
              "#46039f"
             ],
             [
              0.2222222222222222,
              "#7201a8"
             ],
             [
              0.3333333333333333,
              "#9c179e"
             ],
             [
              0.4444444444444444,
              "#bd3786"
             ],
             [
              0.5555555555555556,
              "#d8576b"
             ],
             [
              0.6666666666666666,
              "#ed7953"
             ],
             [
              0.7777777777777778,
              "#fb9f3a"
             ],
             [
              0.8888888888888888,
              "#fdca26"
             ],
             [
              1,
              "#f0f921"
             ]
            ],
            "type": "histogram2d"
           }
          ],
          "histogram2dcontour": [
           {
            "colorbar": {
             "outlinewidth": 0,
             "ticks": ""
            },
            "colorscale": [
             [
              0,
              "#0d0887"
             ],
             [
              0.1111111111111111,
              "#46039f"
             ],
             [
              0.2222222222222222,
              "#7201a8"
             ],
             [
              0.3333333333333333,
              "#9c179e"
             ],
             [
              0.4444444444444444,
              "#bd3786"
             ],
             [
              0.5555555555555556,
              "#d8576b"
             ],
             [
              0.6666666666666666,
              "#ed7953"
             ],
             [
              0.7777777777777778,
              "#fb9f3a"
             ],
             [
              0.8888888888888888,
              "#fdca26"
             ],
             [
              1,
              "#f0f921"
             ]
            ],
            "type": "histogram2dcontour"
           }
          ],
          "mesh3d": [
           {
            "colorbar": {
             "outlinewidth": 0,
             "ticks": ""
            },
            "type": "mesh3d"
           }
          ],
          "parcoords": [
           {
            "line": {
             "colorbar": {
              "outlinewidth": 0,
              "ticks": ""
             }
            },
            "type": "parcoords"
           }
          ],
          "pie": [
           {
            "automargin": true,
            "type": "pie"
           }
          ],
          "scatter": [
           {
            "fillpattern": {
             "fillmode": "overlay",
             "size": 10,
             "solidity": 0.2
            },
            "type": "scatter"
           }
          ],
          "scatter3d": [
           {
            "line": {
             "colorbar": {
              "outlinewidth": 0,
              "ticks": ""
             }
            },
            "marker": {
             "colorbar": {
              "outlinewidth": 0,
              "ticks": ""
             }
            },
            "type": "scatter3d"
           }
          ],
          "scattercarpet": [
           {
            "marker": {
             "colorbar": {
              "outlinewidth": 0,
              "ticks": ""
             }
            },
            "type": "scattercarpet"
           }
          ],
          "scattergeo": [
           {
            "marker": {
             "colorbar": {
              "outlinewidth": 0,
              "ticks": ""
             }
            },
            "type": "scattergeo"
           }
          ],
          "scattergl": [
           {
            "marker": {
             "colorbar": {
              "outlinewidth": 0,
              "ticks": ""
             }
            },
            "type": "scattergl"
           }
          ],
          "scattermap": [
           {
            "marker": {
             "colorbar": {
              "outlinewidth": 0,
              "ticks": ""
             }
            },
            "type": "scattermap"
           }
          ],
          "scattermapbox": [
           {
            "marker": {
             "colorbar": {
              "outlinewidth": 0,
              "ticks": ""
             }
            },
            "type": "scattermapbox"
           }
          ],
          "scatterpolar": [
           {
            "marker": {
             "colorbar": {
              "outlinewidth": 0,
              "ticks": ""
             }
            },
            "type": "scatterpolar"
           }
          ],
          "scatterpolargl": [
           {
            "marker": {
             "colorbar": {
              "outlinewidth": 0,
              "ticks": ""
             }
            },
            "type": "scatterpolargl"
           }
          ],
          "scatterternary": [
           {
            "marker": {
             "colorbar": {
              "outlinewidth": 0,
              "ticks": ""
             }
            },
            "type": "scatterternary"
           }
          ],
          "surface": [
           {
            "colorbar": {
             "outlinewidth": 0,
             "ticks": ""
            },
            "colorscale": [
             [
              0,
              "#0d0887"
             ],
             [
              0.1111111111111111,
              "#46039f"
             ],
             [
              0.2222222222222222,
              "#7201a8"
             ],
             [
              0.3333333333333333,
              "#9c179e"
             ],
             [
              0.4444444444444444,
              "#bd3786"
             ],
             [
              0.5555555555555556,
              "#d8576b"
             ],
             [
              0.6666666666666666,
              "#ed7953"
             ],
             [
              0.7777777777777778,
              "#fb9f3a"
             ],
             [
              0.8888888888888888,
              "#fdca26"
             ],
             [
              1,
              "#f0f921"
             ]
            ],
            "type": "surface"
           }
          ],
          "table": [
           {
            "cells": {
             "fill": {
              "color": "#EBF0F8"
             },
             "line": {
              "color": "white"
             }
            },
            "header": {
             "fill": {
              "color": "#C8D4E3"
             },
             "line": {
              "color": "white"
             }
            },
            "type": "table"
           }
          ]
         },
         "layout": {
          "annotationdefaults": {
           "arrowcolor": "#2a3f5f",
           "arrowhead": 0,
           "arrowwidth": 1
          },
          "autotypenumbers": "strict",
          "coloraxis": {
           "colorbar": {
            "outlinewidth": 0,
            "ticks": ""
           }
          },
          "colorscale": {
           "diverging": [
            [
             0,
             "#8e0152"
            ],
            [
             0.1,
             "#c51b7d"
            ],
            [
             0.2,
             "#de77ae"
            ],
            [
             0.3,
             "#f1b6da"
            ],
            [
             0.4,
             "#fde0ef"
            ],
            [
             0.5,
             "#f7f7f7"
            ],
            [
             0.6,
             "#e6f5d0"
            ],
            [
             0.7,
             "#b8e186"
            ],
            [
             0.8,
             "#7fbc41"
            ],
            [
             0.9,
             "#4d9221"
            ],
            [
             1,
             "#276419"
            ]
           ],
           "sequential": [
            [
             0,
             "#0d0887"
            ],
            [
             0.1111111111111111,
             "#46039f"
            ],
            [
             0.2222222222222222,
             "#7201a8"
            ],
            [
             0.3333333333333333,
             "#9c179e"
            ],
            [
             0.4444444444444444,
             "#bd3786"
            ],
            [
             0.5555555555555556,
             "#d8576b"
            ],
            [
             0.6666666666666666,
             "#ed7953"
            ],
            [
             0.7777777777777778,
             "#fb9f3a"
            ],
            [
             0.8888888888888888,
             "#fdca26"
            ],
            [
             1,
             "#f0f921"
            ]
           ],
           "sequentialminus": [
            [
             0,
             "#0d0887"
            ],
            [
             0.1111111111111111,
             "#46039f"
            ],
            [
             0.2222222222222222,
             "#7201a8"
            ],
            [
             0.3333333333333333,
             "#9c179e"
            ],
            [
             0.4444444444444444,
             "#bd3786"
            ],
            [
             0.5555555555555556,
             "#d8576b"
            ],
            [
             0.6666666666666666,
             "#ed7953"
            ],
            [
             0.7777777777777778,
             "#fb9f3a"
            ],
            [
             0.8888888888888888,
             "#fdca26"
            ],
            [
             1,
             "#f0f921"
            ]
           ]
          },
          "colorway": [
           "#636efa",
           "#EF553B",
           "#00cc96",
           "#ab63fa",
           "#FFA15A",
           "#19d3f3",
           "#FF6692",
           "#B6E880",
           "#FF97FF",
           "#FECB52"
          ],
          "font": {
           "color": "#2a3f5f"
          },
          "geo": {
           "bgcolor": "white",
           "lakecolor": "white",
           "landcolor": "#E5ECF6",
           "showlakes": true,
           "showland": true,
           "subunitcolor": "white"
          },
          "hoverlabel": {
           "align": "left"
          },
          "hovermode": "closest",
          "mapbox": {
           "style": "light"
          },
          "paper_bgcolor": "white",
          "plot_bgcolor": "#E5ECF6",
          "polar": {
           "angularaxis": {
            "gridcolor": "white",
            "linecolor": "white",
            "ticks": ""
           },
           "bgcolor": "#E5ECF6",
           "radialaxis": {
            "gridcolor": "white",
            "linecolor": "white",
            "ticks": ""
           }
          },
          "scene": {
           "xaxis": {
            "backgroundcolor": "#E5ECF6",
            "gridcolor": "white",
            "gridwidth": 2,
            "linecolor": "white",
            "showbackground": true,
            "ticks": "",
            "zerolinecolor": "white"
           },
           "yaxis": {
            "backgroundcolor": "#E5ECF6",
            "gridcolor": "white",
            "gridwidth": 2,
            "linecolor": "white",
            "showbackground": true,
            "ticks": "",
            "zerolinecolor": "white"
           },
           "zaxis": {
            "backgroundcolor": "#E5ECF6",
            "gridcolor": "white",
            "gridwidth": 2,
            "linecolor": "white",
            "showbackground": true,
            "ticks": "",
            "zerolinecolor": "white"
           }
          },
          "shapedefaults": {
           "line": {
            "color": "#2a3f5f"
           }
          },
          "ternary": {
           "aaxis": {
            "gridcolor": "white",
            "linecolor": "white",
            "ticks": ""
           },
           "baxis": {
            "gridcolor": "white",
            "linecolor": "white",
            "ticks": ""
           },
           "bgcolor": "#E5ECF6",
           "caxis": {
            "gridcolor": "white",
            "linecolor": "white",
            "ticks": ""
           }
          },
          "title": {
           "x": 0.05
          },
          "xaxis": {
           "automargin": true,
           "gridcolor": "white",
           "linecolor": "white",
           "ticks": "",
           "title": {
            "standoff": 15
           },
           "zerolinecolor": "white",
           "zerolinewidth": 2
          },
          "yaxis": {
           "automargin": true,
           "gridcolor": "white",
           "linecolor": "white",
           "ticks": "",
           "title": {
            "standoff": 15
           },
           "zerolinecolor": "white",
           "zerolinewidth": 2
          }
         }
        },
        "title": {
         "text": "Input marginal probabilities"
        },
        "xaxis": {
         "anchor": "y",
         "domain": [
          0,
          1
         ],
         "title": {
          "text": "x"
         }
        },
        "yaxis": {
         "anchor": "x",
         "domain": [
          0,
          1
         ],
         "title": {
          "text": "y"
         }
        }
       }
      }
     },
     "metadata": {},
     "output_type": "display_data"
    },
    {
     "data": {
      "application/vnd.plotly.v1+json": {
       "config": {
        "plotlyServerURL": "https://plot.ly"
       },
       "data": [
        {
         "hovertemplate": "x=%{x}<br>y=%{y}<extra></extra>",
         "legendgroup": "",
         "marker": {
          "color": "#636efa",
          "pattern": {
           "shape": ""
          }
         },
         "name": "",
         "orientation": "v",
         "showlegend": false,
         "textposition": "auto",
         "type": "bar",
         "x": [
          "ZOLPIDEM",
          "WARFARIN",
          "VALSARTAN",
          "TRAMADOL",
          "TAMSULOSIN",
          "SIMVASTATIN",
          "SERTRALINE",
          "ROSUVASTATIN",
          "RANITIDINE",
          "PREDNISONE",
          "PRAVASTATIN",
          "POTASSIUM CHLORIDE",
          "PIOGLITAZONE",
          "OMEPRAZOLE",
          "MONTELUKAST",
          "METOPROLOL",
          "METFORMIN",
          "LOVASTATIN",
          "LOSARTAN",
          "LISINOPRIL",
          "LEVOTHYROXINE",
          "INSULIN GLARGINE",
          "IBUPROFEN",
          "HYDROCHLOROTHIAZIDE",
          "GLIPIZIDE",
          "GABAPENTIN",
          "FUROSEMIDE",
          "FLUTICASONE NASAL",
          "FEXOFENADINE",
          "ESOMEPRAZOLE",
          "CLOPIDOGREL",
          "CITALOPRAM",
          "CARVEDILOL",
          "ATORVASTATIN",
          "ATENOLOL",
          "ASPIRIN",
          "AMLODIPINE",
          "ALLOPURINOL",
          "ALENDRONATE",
          "ALBUTEROL"
         ],
         "xaxis": "x",
         "y": {
          "bdata": "0qxsH/KWsz8MPPceLjmuP8Udb/JbdLI/b9bgfVUutD8UeZJ0zeSzP00QdR+A1LY/zEOmfAiqsj/3ViQmqOGzP3aJ6q2Brbo/OBWpMLYQtD/0bcFSXcCzPzjb3JiesLQ/WwacpWQ5uT82H9eGinGyPx8tzhjmBLU/MzSeCOI8tD965A8GnnuzP+WAXU2esrI/32sIjsu4sT+q04Gsp1azP3oZxXJLq7k/4gLQKF36sz9sBrggW5azP8WrrG2Kx7E/VmKelbTisz+DGOjaF9CzP2rBi76CNLM/I9i4/l2fsT/A7J48LNSyP+Ll6VxRSrQ/zeZxGMxftT94CU59IHmzP/6ZQXxgx7M/KUF/oUeMsj/jqrLviuCzP0PlX8sr17M/KuCe508brT+rr64K1GK0P11uMNRhhbM/LuQR3EjZsj8=",
          "dtype": "f8"
         },
         "yaxis": "y"
        }
       ],
       "layout": {
        "barmode": "relative",
        "legend": {
         "tracegroupgap": 0
        },
        "template": {
         "data": {
          "bar": [
           {
            "error_x": {
             "color": "#2a3f5f"
            },
            "error_y": {
             "color": "#2a3f5f"
            },
            "marker": {
             "line": {
              "color": "#E5ECF6",
              "width": 0.5
             },
             "pattern": {
              "fillmode": "overlay",
              "size": 10,
              "solidity": 0.2
             }
            },
            "type": "bar"
           }
          ],
          "barpolar": [
           {
            "marker": {
             "line": {
              "color": "#E5ECF6",
              "width": 0.5
             },
             "pattern": {
              "fillmode": "overlay",
              "size": 10,
              "solidity": 0.2
             }
            },
            "type": "barpolar"
           }
          ],
          "carpet": [
           {
            "aaxis": {
             "endlinecolor": "#2a3f5f",
             "gridcolor": "white",
             "linecolor": "white",
             "minorgridcolor": "white",
             "startlinecolor": "#2a3f5f"
            },
            "baxis": {
             "endlinecolor": "#2a3f5f",
             "gridcolor": "white",
             "linecolor": "white",
             "minorgridcolor": "white",
             "startlinecolor": "#2a3f5f"
            },
            "type": "carpet"
           }
          ],
          "choropleth": [
           {
            "colorbar": {
             "outlinewidth": 0,
             "ticks": ""
            },
            "type": "choropleth"
           }
          ],
          "contour": [
           {
            "colorbar": {
             "outlinewidth": 0,
             "ticks": ""
            },
            "colorscale": [
             [
              0,
              "#0d0887"
             ],
             [
              0.1111111111111111,
              "#46039f"
             ],
             [
              0.2222222222222222,
              "#7201a8"
             ],
             [
              0.3333333333333333,
              "#9c179e"
             ],
             [
              0.4444444444444444,
              "#bd3786"
             ],
             [
              0.5555555555555556,
              "#d8576b"
             ],
             [
              0.6666666666666666,
              "#ed7953"
             ],
             [
              0.7777777777777778,
              "#fb9f3a"
             ],
             [
              0.8888888888888888,
              "#fdca26"
             ],
             [
              1,
              "#f0f921"
             ]
            ],
            "type": "contour"
           }
          ],
          "contourcarpet": [
           {
            "colorbar": {
             "outlinewidth": 0,
             "ticks": ""
            },
            "type": "contourcarpet"
           }
          ],
          "heatmap": [
           {
            "colorbar": {
             "outlinewidth": 0,
             "ticks": ""
            },
            "colorscale": [
             [
              0,
              "#0d0887"
             ],
             [
              0.1111111111111111,
              "#46039f"
             ],
             [
              0.2222222222222222,
              "#7201a8"
             ],
             [
              0.3333333333333333,
              "#9c179e"
             ],
             [
              0.4444444444444444,
              "#bd3786"
             ],
             [
              0.5555555555555556,
              "#d8576b"
             ],
             [
              0.6666666666666666,
              "#ed7953"
             ],
             [
              0.7777777777777778,
              "#fb9f3a"
             ],
             [
              0.8888888888888888,
              "#fdca26"
             ],
             [
              1,
              "#f0f921"
             ]
            ],
            "type": "heatmap"
           }
          ],
          "histogram": [
           {
            "marker": {
             "pattern": {
              "fillmode": "overlay",
              "size": 10,
              "solidity": 0.2
             }
            },
            "type": "histogram"
           }
          ],
          "histogram2d": [
           {
            "colorbar": {
             "outlinewidth": 0,
             "ticks": ""
            },
            "colorscale": [
             [
              0,
              "#0d0887"
             ],
             [
              0.1111111111111111,
              "#46039f"
             ],
             [
              0.2222222222222222,
              "#7201a8"
             ],
             [
              0.3333333333333333,
              "#9c179e"
             ],
             [
              0.4444444444444444,
              "#bd3786"
             ],
             [
              0.5555555555555556,
              "#d8576b"
             ],
             [
              0.6666666666666666,
              "#ed7953"
             ],
             [
              0.7777777777777778,
              "#fb9f3a"
             ],
             [
              0.8888888888888888,
              "#fdca26"
             ],
             [
              1,
              "#f0f921"
             ]
            ],
            "type": "histogram2d"
           }
          ],
          "histogram2dcontour": [
           {
            "colorbar": {
             "outlinewidth": 0,
             "ticks": ""
            },
            "colorscale": [
             [
              0,
              "#0d0887"
             ],
             [
              0.1111111111111111,
              "#46039f"
             ],
             [
              0.2222222222222222,
              "#7201a8"
             ],
             [
              0.3333333333333333,
              "#9c179e"
             ],
             [
              0.4444444444444444,
              "#bd3786"
             ],
             [
              0.5555555555555556,
              "#d8576b"
             ],
             [
              0.6666666666666666,
              "#ed7953"
             ],
             [
              0.7777777777777778,
              "#fb9f3a"
             ],
             [
              0.8888888888888888,
              "#fdca26"
             ],
             [
              1,
              "#f0f921"
             ]
            ],
            "type": "histogram2dcontour"
           }
          ],
          "mesh3d": [
           {
            "colorbar": {
             "outlinewidth": 0,
             "ticks": ""
            },
            "type": "mesh3d"
           }
          ],
          "parcoords": [
           {
            "line": {
             "colorbar": {
              "outlinewidth": 0,
              "ticks": ""
             }
            },
            "type": "parcoords"
           }
          ],
          "pie": [
           {
            "automargin": true,
            "type": "pie"
           }
          ],
          "scatter": [
           {
            "fillpattern": {
             "fillmode": "overlay",
             "size": 10,
             "solidity": 0.2
            },
            "type": "scatter"
           }
          ],
          "scatter3d": [
           {
            "line": {
             "colorbar": {
              "outlinewidth": 0,
              "ticks": ""
             }
            },
            "marker": {
             "colorbar": {
              "outlinewidth": 0,
              "ticks": ""
             }
            },
            "type": "scatter3d"
           }
          ],
          "scattercarpet": [
           {
            "marker": {
             "colorbar": {
              "outlinewidth": 0,
              "ticks": ""
             }
            },
            "type": "scattercarpet"
           }
          ],
          "scattergeo": [
           {
            "marker": {
             "colorbar": {
              "outlinewidth": 0,
              "ticks": ""
             }
            },
            "type": "scattergeo"
           }
          ],
          "scattergl": [
           {
            "marker": {
             "colorbar": {
              "outlinewidth": 0,
              "ticks": ""
             }
            },
            "type": "scattergl"
           }
          ],
          "scattermap": [
           {
            "marker": {
             "colorbar": {
              "outlinewidth": 0,
              "ticks": ""
             }
            },
            "type": "scattermap"
           }
          ],
          "scattermapbox": [
           {
            "marker": {
             "colorbar": {
              "outlinewidth": 0,
              "ticks": ""
             }
            },
            "type": "scattermapbox"
           }
          ],
          "scatterpolar": [
           {
            "marker": {
             "colorbar": {
              "outlinewidth": 0,
              "ticks": ""
             }
            },
            "type": "scatterpolar"
           }
          ],
          "scatterpolargl": [
           {
            "marker": {
             "colorbar": {
              "outlinewidth": 0,
              "ticks": ""
             }
            },
            "type": "scatterpolargl"
           }
          ],
          "scatterternary": [
           {
            "marker": {
             "colorbar": {
              "outlinewidth": 0,
              "ticks": ""
             }
            },
            "type": "scatterternary"
           }
          ],
          "surface": [
           {
            "colorbar": {
             "outlinewidth": 0,
             "ticks": ""
            },
            "colorscale": [
             [
              0,
              "#0d0887"
             ],
             [
              0.1111111111111111,
              "#46039f"
             ],
             [
              0.2222222222222222,
              "#7201a8"
             ],
             [
              0.3333333333333333,
              "#9c179e"
             ],
             [
              0.4444444444444444,
              "#bd3786"
             ],
             [
              0.5555555555555556,
              "#d8576b"
             ],
             [
              0.6666666666666666,
              "#ed7953"
             ],
             [
              0.7777777777777778,
              "#fb9f3a"
             ],
             [
              0.8888888888888888,
              "#fdca26"
             ],
             [
              1,
              "#f0f921"
             ]
            ],
            "type": "surface"
           }
          ],
          "table": [
           {
            "cells": {
             "fill": {
              "color": "#EBF0F8"
             },
             "line": {
              "color": "white"
             }
            },
            "header": {
             "fill": {
              "color": "#C8D4E3"
             },
             "line": {
              "color": "white"
             }
            },
            "type": "table"
           }
          ]
         },
         "layout": {
          "annotationdefaults": {
           "arrowcolor": "#2a3f5f",
           "arrowhead": 0,
           "arrowwidth": 1
          },
          "autotypenumbers": "strict",
          "coloraxis": {
           "colorbar": {
            "outlinewidth": 0,
            "ticks": ""
           }
          },
          "colorscale": {
           "diverging": [
            [
             0,
             "#8e0152"
            ],
            [
             0.1,
             "#c51b7d"
            ],
            [
             0.2,
             "#de77ae"
            ],
            [
             0.3,
             "#f1b6da"
            ],
            [
             0.4,
             "#fde0ef"
            ],
            [
             0.5,
             "#f7f7f7"
            ],
            [
             0.6,
             "#e6f5d0"
            ],
            [
             0.7,
             "#b8e186"
            ],
            [
             0.8,
             "#7fbc41"
            ],
            [
             0.9,
             "#4d9221"
            ],
            [
             1,
             "#276419"
            ]
           ],
           "sequential": [
            [
             0,
             "#0d0887"
            ],
            [
             0.1111111111111111,
             "#46039f"
            ],
            [
             0.2222222222222222,
             "#7201a8"
            ],
            [
             0.3333333333333333,
             "#9c179e"
            ],
            [
             0.4444444444444444,
             "#bd3786"
            ],
            [
             0.5555555555555556,
             "#d8576b"
            ],
            [
             0.6666666666666666,
             "#ed7953"
            ],
            [
             0.7777777777777778,
             "#fb9f3a"
            ],
            [
             0.8888888888888888,
             "#fdca26"
            ],
            [
             1,
             "#f0f921"
            ]
           ],
           "sequentialminus": [
            [
             0,
             "#0d0887"
            ],
            [
             0.1111111111111111,
             "#46039f"
            ],
            [
             0.2222222222222222,
             "#7201a8"
            ],
            [
             0.3333333333333333,
             "#9c179e"
            ],
            [
             0.4444444444444444,
             "#bd3786"
            ],
            [
             0.5555555555555556,
             "#d8576b"
            ],
            [
             0.6666666666666666,
             "#ed7953"
            ],
            [
             0.7777777777777778,
             "#fb9f3a"
            ],
            [
             0.8888888888888888,
             "#fdca26"
            ],
            [
             1,
             "#f0f921"
            ]
           ]
          },
          "colorway": [
           "#636efa",
           "#EF553B",
           "#00cc96",
           "#ab63fa",
           "#FFA15A",
           "#19d3f3",
           "#FF6692",
           "#B6E880",
           "#FF97FF",
           "#FECB52"
          ],
          "font": {
           "color": "#2a3f5f"
          },
          "geo": {
           "bgcolor": "white",
           "lakecolor": "white",
           "landcolor": "#E5ECF6",
           "showlakes": true,
           "showland": true,
           "subunitcolor": "white"
          },
          "hoverlabel": {
           "align": "left"
          },
          "hovermode": "closest",
          "mapbox": {
           "style": "light"
          },
          "paper_bgcolor": "white",
          "plot_bgcolor": "#E5ECF6",
          "polar": {
           "angularaxis": {
            "gridcolor": "white",
            "linecolor": "white",
            "ticks": ""
           },
           "bgcolor": "#E5ECF6",
           "radialaxis": {
            "gridcolor": "white",
            "linecolor": "white",
            "ticks": ""
           }
          },
          "scene": {
           "xaxis": {
            "backgroundcolor": "#E5ECF6",
            "gridcolor": "white",
            "gridwidth": 2,
            "linecolor": "white",
            "showbackground": true,
            "ticks": "",
            "zerolinecolor": "white"
           },
           "yaxis": {
            "backgroundcolor": "#E5ECF6",
            "gridcolor": "white",
            "gridwidth": 2,
            "linecolor": "white",
            "showbackground": true,
            "ticks": "",
            "zerolinecolor": "white"
           },
           "zaxis": {
            "backgroundcolor": "#E5ECF6",
            "gridcolor": "white",
            "gridwidth": 2,
            "linecolor": "white",
            "showbackground": true,
            "ticks": "",
            "zerolinecolor": "white"
           }
          },
          "shapedefaults": {
           "line": {
            "color": "#2a3f5f"
           }
          },
          "ternary": {
           "aaxis": {
            "gridcolor": "white",
            "linecolor": "white",
            "ticks": ""
           },
           "baxis": {
            "gridcolor": "white",
            "linecolor": "white",
            "ticks": ""
           },
           "bgcolor": "#E5ECF6",
           "caxis": {
            "gridcolor": "white",
            "linecolor": "white",
            "ticks": ""
           }
          },
          "title": {
           "x": 0.05
          },
          "xaxis": {
           "automargin": true,
           "gridcolor": "white",
           "linecolor": "white",
           "ticks": "",
           "title": {
            "standoff": 15
           },
           "zerolinecolor": "white",
           "zerolinewidth": 2
          },
          "yaxis": {
           "automargin": true,
           "gridcolor": "white",
           "linecolor": "white",
           "ticks": "",
           "title": {
            "standoff": 15
           },
           "zerolinecolor": "white",
           "zerolinewidth": 2
          }
         }
        },
        "title": {
         "text": "Sampled marginal probabilities"
        },
        "xaxis": {
         "anchor": "y",
         "categoryarray": [
          "ZOLPIDEM",
          "WARFARIN",
          "VALSARTAN",
          "TRAMADOL",
          "TAMSULOSIN",
          "SIMVASTATIN",
          "SERTRALINE",
          "ROSUVASTATIN",
          "RANITIDINE",
          "PREDNISONE",
          "PRAVASTATIN",
          "POTASSIUM CHLORIDE",
          "PIOGLITAZONE",
          "OMEPRAZOLE",
          "MONTELUKAST",
          "METOPROLOL",
          "METFORMIN",
          "LOVASTATIN",
          "LOSARTAN",
          "LISINOPRIL",
          "LEVOTHYROXINE",
          "INSULIN GLARGINE",
          "IBUPROFEN",
          "HYDROCHLOROTHIAZIDE",
          "GLIPIZIDE",
          "GABAPENTIN",
          "FUROSEMIDE",
          "FLUTICASONE NASAL",
          "FEXOFENADINE",
          "ESOMEPRAZOLE",
          "CLOPIDOGREL",
          "CITALOPRAM",
          "CARVEDILOL",
          "ATORVASTATIN",
          "ATENOLOL",
          "ASPIRIN",
          "AMLODIPINE",
          "ALLOPURINOL",
          "ALENDRONATE",
          "ALBUTEROL"
         ],
         "categoryorder": "array",
         "domain": [
          0,
          1
         ],
         "title": {
          "text": "x"
         }
        },
        "yaxis": {
         "anchor": "x",
         "domain": [
          0,
          1
         ],
         "title": {
          "text": "y"
         }
        }
       }
      }
     },
     "metadata": {},
     "output_type": "display_data"
    }
   ],
   "source": [
    "# feature_probs = np.loadtxt('feat_probs_all_equal_0.7.csv', delimiter=',')\n",
    "feature_probs = np.array([0.05] * 40)\n",
    "\n",
    "nsamples = 1000000\n",
    "sample_3, mu, sigma, _ = generate_multivariate_binary(40, nsamples, feature_probs, correlation_matrix)\n",
    "sample_3 = filter_rows(sample_3, mu, sigma, nsamples)\n",
    "visualize(sample_3)"
   ]
  },
  {
   "cell_type": "code",
   "execution_count": 10,
   "metadata": {},
   "outputs": [
    {
     "name": "stdout",
     "output_type": "stream",
     "text": [
      "sum\n",
      "3.0    919912\n",
      "4.0     70198\n",
      "5.0      4465\n",
      "6.0      3889\n",
      "7.0      1536\n",
      "Name: count, dtype: int64\n"
     ]
    },
    {
     "data": {
      "text/plain": [
       "(1000000, 40)"
      ]
     },
     "execution_count": 10,
     "metadata": {},
     "output_type": "execute_result"
    }
   ],
   "source": [
    "\n",
    "sampledf = pd.DataFrame(sample_3, columns=drug_names_unique)\n",
    "sampledf['sum'] = sampledf.sum(axis=1)\n",
    "print(sampledf['sum'].value_counts().sort_index())\n",
    "\n",
    "sample_new = sample_3[np.sum(sample_3, axis=1) > 2]\n",
    "sample_new = sample_new[np.sum(sample_new, axis=1) <= 7]\n",
    "sample_new.shape"
   ]
  }
 ],
 "metadata": {
  "kernelspec": {
   "display_name": "Python 3",
   "language": "python",
   "name": "python3"
  },
  "language_info": {
   "codemirror_mode": {
    "name": "ipython",
    "version": 3
   },
   "file_extension": ".py",
   "mimetype": "text/x-python",
   "name": "python",
   "nbconvert_exporter": "python",
   "pygments_lexer": "ipython3",
   "version": "3.9.6"
  }
 },
 "nbformat": 4,
 "nbformat_minor": 2
}
