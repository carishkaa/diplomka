{
 "cells": [
  {
   "cell_type": "code",
   "execution_count": 1,
   "metadata": {},
   "outputs": [],
   "source": [
    "from layout import get_layout\n",
    "import matplotlib.pyplot as plt\n",
    "import numpy as np\n",
    "import pandas as pd\n",
    "from genetic_algo_preparation import Floorplanning, RecordBsfCosts"
   ]
  },
  {
   "cell_type": "code",
   "execution_count": 2,
   "metadata": {},
   "outputs": [
    {
     "name": "stdout",
     "output_type": "stream",
     "text": [
      "Total number of combinations: 912\n",
      "Number of unique drugs: 40\n",
      "Sorted medications by frequency: Index(['LISINOPRIL', 'SIMVASTATIN', 'METOPROLOL', 'METFORMIN', 'LEVOTHYROXINE',\n",
      "       'AMLODIPINE', 'HYDROCHLOROTHIAZIDE', 'FUROSEMIDE', 'ATORVASTATIN',\n",
      "       'OMEPRAZOLE', 'ATENOLOL', 'GLIPIZIDE', 'ALBUTEROL', 'WARFARIN',\n",
      "       'ASPIRIN', 'POTASSIUM CHLORIDE', 'ESOMEPRAZOLE', 'CLOPIDOGREL',\n",
      "       'CARVEDILOL', 'VALSARTAN', 'LOSARTAN', 'GABAPENTIN', 'ROSUVASTATIN',\n",
      "       'LOVASTATIN', 'PIOGLITAZONE', 'PRAVASTATIN', 'RANITIDINE', 'TRAMADOL',\n",
      "       'IBUPROFEN', 'INSULIN GLARGINE', 'CITALOPRAM', 'ALENDRONATE',\n",
      "       'ALLOPURINOL', 'MONTELUKAST', 'FEXOFENADINE', 'TAMSULOSIN', 'ZOLPIDEM',\n",
      "       'SERTRALINE', 'FLUTICASONE NASAL', 'PREDNISONE'],\n",
      "      dtype='object')\n",
      "Frequency of each medication: [294, 270, 223, 215, 170, 159, 157, 133, 133, 127, 123, 98, 82, 81, 75, 72, 65, 65, 63, 62, 55, 54, 54, 52, 50, 48, 48, 46, 43, 42, 42, 42, 39, 34, 33, 32, 32, 32, 29, 28]\n"
     ]
    }
   ],
   "source": [
    "df = pd.read_csv('../refined_drug_data.csv', sep=';')\n",
    "# all NaN to empty string\n",
    "df = df.fillna('')\n",
    "\n",
    "data = df.copy()\n",
    "# make an array\n",
    "data['drug_names'] = data[['Drug_1', 'Drug_2', 'Drug_3', 'Drug_4', 'Drug_5', 'Drug_6', 'Drug_7', 'Drug_8']].values.tolist()\n",
    "# remove empty strings\n",
    "data['drug_names'] = data['drug_names'].apply(lambda x: [i for i in x if i])\n",
    "data = data.drop(['Drug_1', 'Drug_2', 'Drug_3', 'Drug_4', 'Drug_5', 'Drug_6', 'Drug_7', 'Drug_8'], axis=1)\n",
    "data\n",
    "\n",
    "print('Total number of combinations:', len(data))\n",
    "print('Number of unique drugs:', len(data['drug_names'].explode().unique()))\n",
    "\n",
    "# sort by freq \n",
    "sorted_drug_names = data['drug_names'].explode().value_counts().index\n",
    "print('Sorted medications by frequency:', sorted_drug_names)\n",
    "print('Frequency of each medication:', data['drug_names'].explode().value_counts().to_list())"
   ]
  },
  {
   "cell_type": "code",
   "execution_count": 3,
   "metadata": {},
   "outputs": [],
   "source": [
    "layout = 'doubleline_4_enter_60'\n",
    "\n",
    "amount_of_machines = 60\n",
    "INLETS_NUM = 4\n",
    "\n",
    "# generated distribution from 14_05_2024.ipynb file\n",
    "# machines_count = [4, 3, 3, 2, 2, 2, 1, 1, 1, 1, 1, 1, 1, 1, 1, 1, 1, 1, 1, 1, 1, 1, 1, 1, 1, 1, 1, 1, 1, 1, 1, 1, 1, 1, 1, 1, 1, 1, 1, 1] # 50 machines\n",
    "# machines_count = [14, 11, 9, 5, 4, 2, 2, 1, 1, 1, 1, 1, 1, 1, 1, 1, 1, 1, 1, 1, 1, 1, 1, 1, 1, 1, 1, 1, 1, 1, 1, 1, 1, 1, 1, 1, 1, 1, 1, 1] # 80 machines\n",
    "machines_count = [5, 5, 5, 4, 4, 2, 2, 1, 1, 1, 1, 1, 1, 1, 1, 1, 1, 1, 1, 1, 1, 1, 1, 1, 1, 1, 1, 1, 1, 1, 1, 1, 1, 1, 1, 1, 1, 1, 1, 1]\n",
    "assert sum(machines_count) == amount_of_machines, f\"Sum of machines count is not equal to amount of machines: {sum(machines_count)} != {amount_of_machines}\""
   ]
  },
  {
   "cell_type": "code",
   "execution_count": 4,
   "metadata": {},
   "outputs": [
    {
     "data": {
      "image/png": "[encoded data removed]",
      "text/plain": [
       "<Figure size 1000x1000 with 1 Axes>"
      ]
     },
     "metadata": {},
     "output_type": "display_data"
    }
   ],
   "source": [
    "coord_x, coord_y, restricted_area, all_posible_positions = get_layout(layout)\n",
    "\n",
    "exit_positions = all_posible_positions[:INLETS_NUM]\n",
    "machine_positions = all_posible_positions[INLETS_NUM:]\n",
    "\n",
    "plt.figure(figsize=(10, 10))\n",
    "plt.imshow(restricted_area.transpose(), cmap='gray', alpha=0.5)\n",
    "plt.scatter(*zip(*machine_positions), c='r', s=100, marker='s', label='Machine')\n",
    "plt.scatter(*zip(*exit_positions), c='b', s=100, marker='o', label='Exit')\n",
    "plt.xticks(range(coord_x))\n",
    "plt.yticks(range(coord_y))\n",
    "\n",
    "plt.legend()\n",
    "\n",
    "plt.grid(which='major', color='k', linestyle='-', linewidth=1)\n",
    "plt.show()"
   ]
  },
  {
   "cell_type": "code",
   "execution_count": 5,
   "metadata": {},
   "outputs": [],
   "source": [
    "# read csv\n",
    "coocurrence_matrix = np.loadtxt('../normalized_coocurrence_matrix.csv', delimiter=',')"
   ]
  },
  {
   "cell_type": "code",
   "execution_count": 6,
   "metadata": {},
   "outputs": [],
   "source": [
    "# Prepare problem\n",
    "# drug_names = data['drug_names'].explode().value_counts().index\n",
    "\n",
    "# All distances between all possible positions. (distances[i, j] = distance between i-th and j-th position)\n",
    "num_of_positions = len(all_posible_positions)\n",
    "distances = np.zeros((num_of_positions, num_of_positions))\n",
    "for i in range(num_of_positions):\n",
    "    for j in range(num_of_positions):\n",
    "        distances[i, j] = np.abs(all_posible_positions[i][0] - all_posible_positions[j][0]) + np.abs(all_posible_positions[i][1] - all_posible_positions[j][1])\n",
    "\n",
    "# Create array of recepts where each drug is index in drug_names\n",
    "capsules = []\n",
    "for i in range(len(data)):\n",
    "    capsules.append([sorted_drug_names.to_list().index(drug) for drug in data['drug_names'][i]])\n",
    "\n",
    "# Make np array (for that make the same size recepts (place 0))\n",
    "max_len = max([len(capsule) for capsule in capsules])\n",
    "for i in range(len(capsules)):\n",
    "    capsules[i] = capsules[i] + [-1] * (max_len - len(capsules[i]))\n",
    "np_capsules = np.array(capsules)"
   ]
  },
  {
   "cell_type": "code",
   "execution_count": 7,
   "metadata": {},
   "outputs": [
    {
     "data": {
      "text/plain": [
       "array([  0,   0,   0,   0,   0,   1,   1,   1,   1,   1,   2,   2,   2,\n",
       "         2,   2,   3,   3,   3,   3,   4,   4,   4,   4,   5,   5,   6,\n",
       "         6,   7,   8,   9,  10,  11,  12,  13,  14,  15,  16,  17,  18,\n",
       "        19,  20,  21,  22,  23,  24,  25,  26,  27,  28,  29,  30,  31,\n",
       "        32,  33,  34,  35,  36,  37,  38,  39, -10, -10, -10, -10])"
      ]
     },
     "execution_count": 7,
     "metadata": {},
     "output_type": "execute_result"
    }
   ],
   "source": [
    "# perm = range(40)\n",
    "\n",
    "# Create a chromosome. Counts of machines in sorted_drug_names are given by machines_count. Create an array of machines (machines_count times each drug)\n",
    "chromosome = np.array([drug for drug, count in zip(sorted_drug_names, machines_count) for _ in range(count)])\n",
    "chromosome = np.array([sorted_drug_names.to_list().index(drug) for drug in chromosome])\n",
    "\n",
    "# Add exit positions to machines_chromosome\n",
    "chromosome = np.concatenate((chromosome, np.array([-10] * INLETS_NUM)))\n",
    "chromosome"
   ]
  },
  {
   "cell_type": "markdown",
   "metadata": {},
   "source": [
    "#### Run Genetic Algorithm"
   ]
  },
  {
   "cell_type": "code",
   "execution_count": 8,
   "metadata": {},
   "outputs": [],
   "source": [
    "from pymoo.algorithms.soo.nonconvex.ga import GA\n",
    "from pymoo.operators.crossover.ox import OrderCrossover\n",
    "from pymoo.operators.mutation.inversion import InversionMutation\n",
    "from pymoo.termination import get_termination\n",
    "from pymoo.optimize import minimize"
   ]
  },
  {
   "cell_type": "code",
   "execution_count": 9,
   "metadata": {},
   "outputs": [],
   "source": [
    "population_size = 50\n",
    "\n",
    "perm = range(len(chromosome))\n",
    "init_population = np.zeros((population_size, len(chromosome)))\n",
    "for i in range(population_size):\n",
    "    init_population[i] = np.random.permutation(perm)\n",
    "\n",
    "problem = Floorplanning(perm, chromosome, np_capsules, distances, layout, coocurrence_matrix)"
   ]
  },
  {
   "cell_type": "code",
   "execution_count": 10,
   "metadata": {},
   "outputs": [
    {
     "name": "stdout",
     "output_type": "stream",
     "text": [
      "Number of evaluations: 10, generations: 0.2\n",
      "date:  20240828102605\n"
     ]
    }
   ],
   "source": [
    "algorithm = GA(\n",
    "    pop_size=population_size, \n",
    "    eliminate_duplicates=True, \n",
    "    sampling=init_population, \n",
    "    crossover=OrderCrossover(), \n",
    "    mutation=InversionMutation(), \n",
    "    # termination=get_termination(\"n_gen\", 50)\n",
    ")\n",
    "n_eval = 10 # 25000 / 50 = 500 generations\n",
    "print(f'Number of evaluations: {n_eval}, generations: {n_eval/population_size}')\n",
    "termination = get_termination(\"n_eval\", n_eval) \n",
    "res = minimize(\n",
    "    problem,\n",
    "    algorithm,\n",
    "    termination,\n",
    "    save_history=True,\n",
    "    callback=RecordBsfCosts(),\n",
    "    # seed=1,\n",
    ")\n",
    "# unique datetime for saving\n",
    "import datetime\n",
    "now = datetime.datetime.now().strftime(\"%Y%m%d%H%M%S\")\n",
    "print(\"date: \", now)"
   ]
  },
  {
   "cell_type": "code",
   "execution_count": 11,
   "metadata": {},
   "outputs": [
    {
     "name": "stdout",
     "output_type": "stream",
     "text": [
      "Cost (through all recepts):  [2821.82369202]\n",
      "Permutation:  [39. 51. 38. 28. 12. 11.  3.  6. 14. 20.  7. 17. 16. 24. 18. 25. 33. 36.\n",
      " 30. 29. 37. 41. 42. 31. 46. 53. 44. 35. 48. 45. 49. 15. 50. 22. 43. 19.\n",
      "  0. 34. 40. 10. 32. 26. 23.  8. 52. 47.  5.  1.  9.  4. 21. 27. 13.  2.]\n",
      "Number of iterations (for population, not candidate):  200\n"
     ]
    }
   ],
   "source": [
    "print('Cost (through all recepts): ', res.F)\n",
    "print('Permutation: ', res.X)\n",
    "print('Number of iterations (for population, not candidate): ', res.history.__len__())"
   ]
  },
  {
   "cell_type": "code",
   "execution_count": 12,
   "metadata": {},
   "outputs": [
    {
     "data": {
      "image/png": "[encoded data removed]",
      "text/plain": [
       "<Figure size 640x480 with 1 Axes>"
      ]
     },
     "metadata": {},
     "output_type": "display_data"
    }
   ],
   "source": [
    "# plot best so far costs line ([i.reshape(-1) for i in res.algorithm.callback.data['bsf_costs']])\n",
    "plt.figure()\n",
    "# plt.plot([i.reshape(-1) for i in res.algorithm.callback.data['bsf_costs']]) min \n",
    "plt.plot([i.reshape(-1) for i in res.algorithm.callback.data['bsf_costs']])\n",
    "plt.show()"
   ]
  },
  {
   "cell_type": "code",
   "execution_count": 42,
   "metadata": {},
   "outputs": [
    {
     "data": {
      "text/plain": [
       "'20240827171221'"
      ]
     },
     "execution_count": 42,
     "metadata": {},
     "output_type": "execute_result"
    }
   ],
   "source": [
    "# np.savez(f'../results/{layout}_{n_eval}_popsize_{population_size}_order_inversion_{now}.npz', \n",
    "#     layout=layout, \n",
    "#     population_size=population_size, \n",
    "#     inlet_positions=exit_positions,\n",
    "\n",
    "#     machine_positions=machine_positions,\n",
    "#     machines_drug_names=np.array([sorted_drug_names[drug] for drug in chromosome]),\n",
    "\n",
    "#     gen_best_cost=res.F, \n",
    "#     gen_best_perm=res.X, # permutation of idxs of machines_drug_names\n",
    "#     n_eval=n_eval,\n",
    "#     bsf_costs=[i.reshape(-1) for i in res.algorithm.callback.data['bsf_costs']],\n",
    "#     gen_description= f'Number of evaluations: {n_eval}, generations: {n_eval/population_size}, operator: OrderCrossover, InversionMutation',\n",
    "# )\n",
    "# now"
   ]
  },
  {
   "cell_type": "code",
   "execution_count": 13,
   "metadata": {},
   "outputs": [
    {
     "data": {
      "text/plain": [
       "'20240827223454'"
      ]
     },
     "execution_count": 13,
     "metadata": {},
     "output_type": "execute_result"
    }
   ],
   "source": [
    "idx_of_outlets = np.where(chromosome[res.X.astype(int)] == -10)[0]\n",
    "inlet_positions = np.array(all_posible_positions)[idx_of_outlets]\n",
    "inlet_positions_as_tuples = [tuple(i) for i in inlet_positions]\n",
    "machines_idxs = [pos for pos in all_posible_positions if pos not in inlet_positions_as_tuples]\n",
    "\n",
    "np.savez(f'../results/{layout}_{n_eval}_popsize_{population_size}_order_inversion_{now}.npz', \n",
    "    layout=layout, \n",
    "    population_size=population_size, \n",
    "    inlet_positions=np.array(all_posible_positions)[idx_of_outlets],\n",
    "    machine_positions=[pos for pos in all_posible_positions if pos not in inlet_positions_as_tuples],\n",
    "    machines_drug_names=np.array([sorted_drug_names[drug] for drug in chromosome if drug != -10]),\n",
    "\n",
    "    gen_best_cost=res.F, \n",
    "    gen_best_perm=res.X[res.X < amount_of_machines], # permutation of idxs of machines_drug_names\n",
    "    n_eval=n_eval,\n",
    "    bsf_costs=[i.reshape(-1) for i in res.algorithm.callback.data['bsf_costs']],\n",
    "    gen_description= f'Number of evaluations: {n_eval}, generations: {n_eval/population_size}, operator: OrderCrossover, InversionMutation',\n",
    ")\n",
    "now"
   ]
  },
  {
   "cell_type": "code",
   "execution_count": null,
   "metadata": {},
   "outputs": [],
   "source": []
  }
 ],
 "metadata": {
  "kernelspec": {
   "display_name": "Python 3",
   "language": "python",
   "name": "python3"
  },
  "language_info": {
   "codemirror_mode": {
    "name": "ipython",
    "version": 3
   },
   "file_extension": ".py",
   "mimetype": "text/x-python",
   "name": "python",
   "nbconvert_exporter": "python",
   "pygments_lexer": "ipython3",
   "version": "3.9.6"
  }
 },
 "nbformat": 4,
 "nbformat_minor": 2
}
