{
 "cells": [
  {
   "cell_type": "code",
   "execution_count": 1,
   "metadata": {},
   "outputs": [],
   "source": [
    "from layout import get_layout\n",
    "import matplotlib.pyplot as plt\n",
    "import numpy as np\n",
    "import pandas as pd\n",
    "from genetic_algo_preparation import Floorplanning, RecordBsfCosts"
   ]
  },
  {
   "cell_type": "code",
   "execution_count": 2,
   "metadata": {},
   "outputs": [
    {
     "name": "stdout",
     "output_type": "stream",
     "text": [
      "Total number of combinations: 912\n",
      "Number of unique drugs: 40\n",
      "Sorted medications by frequency: Index(['LISINOPRIL', 'SIMVASTATIN', 'METOPROLOL', 'METFORMIN', 'LEVOTHYROXINE',\n",
      "       'AMLODIPINE', 'HYDROCHLOROTHIAZIDE', 'FUROSEMIDE', 'ATORVASTATIN',\n",
      "       'OMEPRAZOLE', 'ATENOLOL', 'GLIPIZIDE', 'ALBUTEROL', 'WARFARIN',\n",
      "       'ASPIRIN', 'POTASSIUM CHLORIDE', 'ESOMEPRAZOLE', 'CLOPIDOGREL',\n",
      "       'CARVEDILOL', 'VALSARTAN', 'LOSARTAN', 'GABAPENTIN', 'ROSUVASTATIN',\n",
      "       'LOVASTATIN', 'PIOGLITAZONE', 'PRAVASTATIN', 'RANITIDINE', 'TRAMADOL',\n",
      "       'IBUPROFEN', 'INSULIN GLARGINE', 'CITALOPRAM', 'ALENDRONATE',\n",
      "       'ALLOPURINOL', 'MONTELUKAST', 'FEXOFENADINE', 'TAMSULOSIN', 'ZOLPIDEM',\n",
      "       'SERTRALINE', 'FLUTICASONE NASAL', 'PREDNISONE'],\n",
      "      dtype='object')\n",
      "Frequency of each medication: [294, 270, 223, 215, 170, 159, 157, 133, 133, 127, 123, 98, 82, 81, 75, 72, 65, 65, 63, 62, 55, 54, 54, 52, 50, 48, 48, 46, 43, 42, 42, 42, 39, 34, 33, 32, 32, 32, 29, 28]\n"
     ]
    }
   ],
   "source": [
    "df = pd.read_csv('../refined_drug_data.csv', sep=';')\n",
    "# all NaN to empty string\n",
    "df = df.fillna('')\n",
    "\n",
    "data = df.copy()\n",
    "# make an array\n",
    "data['drug_names'] = data[['Drug_1', 'Drug_2', 'Drug_3', 'Drug_4', 'Drug_5', 'Drug_6', 'Drug_7', 'Drug_8']].values.tolist()\n",
    "# remove empty strings\n",
    "data['drug_names'] = data['drug_names'].apply(lambda x: [i for i in x if i])\n",
    "data = data.drop(['Drug_1', 'Drug_2', 'Drug_3', 'Drug_4', 'Drug_5', 'Drug_6', 'Drug_7', 'Drug_8'], axis=1)\n",
    "data\n",
    "\n",
    "print('Total number of combinations:', len(data))\n",
    "print('Number of unique drugs:', len(data['drug_names'].explode().unique()))\n",
    "\n",
    "# sort by freq \n",
    "sorted_drug_names = data['drug_names'].explode().value_counts().index\n",
    "print('Sorted medications by frequency:', sorted_drug_names)\n",
    "print('Frequency of each medication:', data['drug_names'].explode().value_counts().to_list())"
   ]
  },
  {
   "cell_type": "code",
   "execution_count": 3,
   "metadata": {},
   "outputs": [],
   "source": [
    "layout = 'doubeline_1_enter_50'\n",
    "\n",
    "amount_of_machines = 50\n",
    "machines_count = [4, 3, 3, 2, 2, 2, 1, 1, 1, 1, 1, 1, 1, 1, 1, 1, 1, 1, 1, 1, 1, 1, 1, 1, 1, 1, 1, 1, 1, 1, 1, 1, 1, 1, 1, 1, 1, 1, 1, 1]\n",
    "assert sum(machines_count) == amount_of_machines, f\"Sum of machines count is not equal to amount of machines: {sum(machines_count)} != {amount_of_machines}\""
   ]
  },
  {
   "cell_type": "code",
   "execution_count": 4,
   "metadata": {},
   "outputs": [
    {
     "data": {
      "image/png": "[encoded data removed]",
      "text/plain": [
       "<Figure size 640x480 with 1 Axes>"
      ]
     },
     "metadata": {},
     "output_type": "display_data"
    }
   ],
   "source": [
    "coord_x, coord_y, restricted_area, all_posible_positions = get_layout(layout)\n",
    "\n",
    "exit_positions = [(0, 1)]\n",
    "machine_positions = [(i, j) for i, j in all_posible_positions if not (i, j) in exit_positions]\n",
    "\n",
    "plt.figure()\n",
    "plt.imshow(restricted_area.transpose(), cmap='gray', alpha=0.5)\n",
    "plt.scatter(*zip(*machine_positions), c='r', s=100, marker='s', label='Machine')\n",
    "for exit_position in exit_positions:\n",
    "    plt.scatter(*zip(exit_position), c='b', s=100, marker='o', label='Exit')\n",
    "plt.xticks(range(coord_x))\n",
    "plt.yticks(range(coord_y))\n",
    "\n",
    "plt.legend()\n",
    "\n",
    "plt.grid(which='major', color='k', linestyle='-', linewidth=1)\n",
    "plt.show()"
   ]
  },
  {
   "cell_type": "code",
   "execution_count": 5,
   "metadata": {},
   "outputs": [
    {
     "data": {
      "text/plain": [
       "array([[3.23218778e-01, 2.48874624e-01, 1.61668928e-01, ...,\n",
       "        4.07896605e-02, 3.70370370e-02, 1.95792935e-02],\n",
       "       [1.98862592e-01, 3.23669510e-01, 1.57729343e-01, ...,\n",
       "        1.91558902e-01, 4.62962963e-02, 2.14644212e-02],\n",
       "       [5.71229639e-02, 6.97467846e-02, 3.19039550e-01, ...,\n",
       "        5.04857125e-02, 3.70370370e-02, 6.98124033e-03],\n",
       "       ...,\n",
       "       [2.26116133e-04, 1.32895820e-03, 7.92074029e-04, ...,\n",
       "        3.23077987e-01, 9.25925926e-03, 4.82129857e-06],\n",
       "       [8.07053209e-08, 1.26252418e-07, 2.28411514e-07, ...,\n",
       "        3.63965918e-06, 2.68518519e-01, 4.82129857e-06],\n",
       "       [8.19360771e-05, 1.12415153e-04, 8.26849682e-05, ...,\n",
       "        3.63965918e-06, 9.25925926e-03, 3.32901024e-01]])"
      ]
     },
     "execution_count": 5,
     "metadata": {},
     "output_type": "execute_result"
    }
   ],
   "source": [
    "# read csv\n",
    "coocurrence_matrix = np.loadtxt('../normalized_coocurrence_matrix.csv', delimiter=',')\n",
    "coocurrence_matrix"
   ]
  },
  {
   "cell_type": "code",
   "execution_count": 6,
   "metadata": {},
   "outputs": [],
   "source": [
    "# Prepare problem\n",
    "# drug_names = data['drug_names'].explode().value_counts().index\n",
    "\n",
    "\n",
    "num_of_positions = len(machine_positions)\n",
    "distances = np.zeros((num_of_positions, num_of_positions))\n",
    "for i in range(num_of_positions):\n",
    "    for j in range(num_of_positions):\n",
    "        distances[i, j] = np.abs(machine_positions[i][0] - machine_positions[j][0]) + np.abs(machine_positions[i][1] - machine_positions[j][1])\n",
    "\n",
    "# 2d array [exit_no, machine_no]\n",
    "distances_to_exit = np.zeros((len(exit_positions), num_of_positions))\n",
    "for exit_position in exit_positions:\n",
    "    distances_to_exit[exit_position[0], :] = np.array([np.abs(machine_positions[i][0] - exit_position[0]) + np.abs(machine_positions[i][1] - exit_position[1]) for i in range(num_of_positions)])\n",
    "\n",
    "# create array of recepts where each drug is index in drug_names\n",
    "capsules = []\n",
    "for i in range(len(data)):\n",
    "    capsules.append([sorted_drug_names.to_list().index(drug) for drug in data['drug_names'][i]])\n",
    "\n",
    "# make np array (for that make the same size recepts (place 0))\n",
    "max_len = max([len(capsule) for capsule in capsules])\n",
    "for i in range(len(capsules)):\n",
    "    capsules[i] = capsules[i] + [-1] * (max_len - len(capsules[i]))\n",
    "np_capsules = np.array(capsules)"
   ]
  },
  {
   "cell_type": "code",
   "execution_count": 7,
   "metadata": {},
   "outputs": [],
   "source": [
    "# perm = range(40)\n",
    "\n",
    "# Create a chromosome. Counts of machines in sorted_drug_names are given by machines_count. Create an array of machines (machines_count times each drug)\n",
    "machines_chromosome = np.array([drug for drug, count in zip(sorted_drug_names, machines_count) for _ in range(count)])\n",
    "machines_chromosome = np.array([sorted_drug_names.to_list().index(drug) for drug in machines_chromosome])"
   ]
  },
  {
   "cell_type": "code",
   "execution_count": null,
   "metadata": {},
   "outputs": [],
   "source": []
  },
  {
   "cell_type": "markdown",
   "metadata": {},
   "source": [
    "#### Run Genetic Algorithm"
   ]
  },
  {
   "cell_type": "code",
   "execution_count": 8,
   "metadata": {},
   "outputs": [],
   "source": [
    "from pymoo.algorithms.soo.nonconvex.ga import GA\n",
    "from pymoo.operators.crossover.ox import OrderCrossover\n",
    "from pymoo.operators.mutation.inversion import InversionMutation\n",
    "from pymoo.termination import get_termination\n",
    "from pymoo.optimize import minimize"
   ]
  },
  {
   "cell_type": "code",
   "execution_count": 9,
   "metadata": {},
   "outputs": [],
   "source": [
    "population_size = 50\n",
    "\n",
    "perm = range(len(machines_chromosome))\n",
    "init_population = np.zeros((population_size, len(machines_chromosome)))\n",
    "for i in range(population_size):\n",
    "    init_population[i] = np.random.permutation(perm)\n",
    "\n",
    "problem = Floorplanning(perm, machines_chromosome, np_capsules, distances, distances_to_exit, layout, coocurrence_matrix)"
   ]
  },
  {
   "cell_type": "code",
   "execution_count": 10,
   "metadata": {},
   "outputs": [
    {
     "name": "stdout",
     "output_type": "stream",
     "text": [
      "Number of evaluations: 10000, generations: 200.0\n",
      "Generation: 100 | Best cost: 5068.581285777665\n",
      "Generation: 200 | Best cost: 4944.368697172806\n"
     ]
    }
   ],
   "source": [
    "algorithm = GA(\n",
    "    pop_size=population_size, \n",
    "    eliminate_duplicates=True, \n",
    "    sampling=init_population, \n",
    "    crossover=OrderCrossover(), \n",
    "    mutation=InversionMutation(), \n",
    "    # termination=get_termination(\"n_gen\", 50)\n",
    ")\n",
    "n_eval = 10000 # 25000 / 50 = 500 generations\n",
    "print(f'Number of evaluations: {n_eval}, generations: {n_eval/population_size}')\n",
    "termination = get_termination(\"n_eval\", n_eval) \n",
    "res = minimize(\n",
    "    problem,\n",
    "    algorithm,\n",
    "    termination,\n",
    "    save_history=True,\n",
    "    callback=RecordBsfCosts(),\n",
    "    # seed=1,\n",
    ")\n",
    "# unique datetime for saving\n",
    "import datetime\n",
    "now = datetime.datetime.now().strftime(\"%Y%m%d%H%M%S\")\n",
    "print(\"date: \", now)"
   ]
  },
  {
   "cell_type": "code",
   "execution_count": 11,
   "metadata": {},
   "outputs": [
    {
     "name": "stdout",
     "output_type": "stream",
     "text": [
      "Cost (through all recepts):  [4944.36869717]\n",
      "Permutation:  [17. 16. 19. 11. 10.  2.  6.  7. 15. 12. 24. 20. 26. 18. 27. 22. 37.  5.\n",
      " 32.  4. 23. 35. 41. 33. 34. 46. 40. 38. 45. 47. 29. 25. 28. 43. 31. 39.\n",
      " 48. 49. 42. 30. 36.  0.  1.  3. 13. 14. 44. 21.  8.  9.]\n",
      "Number of iterations (for population, not candidate):  200\n"
     ]
    }
   ],
   "source": [
    "print('Cost (through all recepts): ', res.F)\n",
    "print('Permutation: ', res.X)\n",
    "print('Number of iterations (for population, not candidate): ', res.history.__len__())"
   ]
  },
  {
   "cell_type": "code",
   "execution_count": 12,
   "metadata": {},
   "outputs": [
    {
     "data": {
      "image/png": "[encoded data removed]",
      "text/plain": [
       "<Figure size 640x480 with 1 Axes>"
      ]
     },
     "metadata": {},
     "output_type": "display_data"
    }
   ],
   "source": [
    "# plot best so far costs line ([i.reshape(-1) for i in res.algorithm.callback.data['bsf_costs']])\n",
    "plt.figure()\n",
    "# plt.plot([i.reshape(-1) for i in res.algorithm.callback.data['bsf_costs']]) min \n",
    "plt.plot([i.reshape(-1) for i in res.algorithm.callback.data['bsf_costs']])\n",
    "plt.show()"
   ]
  },
  {
   "cell_type": "code",
   "execution_count": 21,
   "metadata": {},
   "outputs": [
    {
     "data": {
      "text/plain": [
       "'20240729133337'"
      ]
     },
     "execution_count": 21,
     "metadata": {},
     "output_type": "execute_result"
    }
   ],
   "source": [
    "np.savez(f'../results/{layout}_{n_eval}_popsize_{population_size}_order_inversion_{now}.npz', \n",
    "    layout=layout, \n",
    "    population_size=population_size, \n",
    "    inlet_positions=exit_positions,\n",
    "\n",
    "    machine_positions=machine_positions,\n",
    "    machines_drug_names=np.array([sorted_drug_names[drug] for drug in machines_chromosome]),\n",
    "\n",
    "    gen_best_cost=res.F, \n",
    "    gen_best_perm=res.X, # permutation of idxs of machines_drug_names\n",
    "    n_eval=n_eval,\n",
    "    bsf_costs=[i.reshape(-1) for i in res.algorithm.callback.data['bsf_costs']],\n",
    "    gen_description= f'Number of evaluations: {n_eval}, generations: {n_eval/population_size}, operator: OrderCrossover, InversionMutation',\n",
    ")\n",
    "now"
   ]
  }
 ],
 "metadata": {
  "kernelspec": {
   "display_name": "Python 3",
   "language": "python",
   "name": "python3"
  },
  "language_info": {
   "codemirror_mode": {
    "name": "ipython",
    "version": 3
   },
   "file_extension": ".py",
   "mimetype": "text/x-python",
   "name": "python",
   "nbconvert_exporter": "python",
   "pygments_lexer": "ipython3",
   "version": "3.11.6"
  }
 },
 "nbformat": 4,
 "nbformat_minor": 2
}
