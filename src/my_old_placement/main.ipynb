{
 "cells": [
  {
   "cell_type": "code",
   "execution_count": null,
   "metadata": {},
   "outputs": [],
   "source": [
    "from layout import get_layout\n",
    "import matplotlib.pyplot as plt\n",
    "import numpy as np\n",
    "import pandas as pd\n",
    "from genetic_algo_preparation import Floorplanning, RecordBsfCosts"
   ]
  },
  {
   "cell_type": "code",
   "execution_count": 2,
   "metadata": {},
   "outputs": [
    {
     "name": "stdout",
     "output_type": "stream",
     "text": [
      "Total number of combinations: 912\n",
      "Number of unique drugs: 40\n",
      "Sorted medications by frequency: Index(['LISINOPRIL', 'SIMVASTATIN', 'METOPROLOL', 'METFORMIN', 'LEVOTHYROXINE',\n",
      "       'AMLODIPINE', 'HYDROCHLOROTHIAZIDE', 'FUROSEMIDE', 'ATORVASTATIN',\n",
      "       'OMEPRAZOLE', 'ATENOLOL', 'GLIPIZIDE', 'ALBUTEROL', 'WARFARIN',\n",
      "       'ASPIRIN', 'POTASSIUM CHLORIDE', 'ESOMEPRAZOLE', 'CLOPIDOGREL',\n",
      "       'CARVEDILOL', 'VALSARTAN', 'LOSARTAN', 'GABAPENTIN', 'ROSUVASTATIN',\n",
      "       'LOVASTATIN', 'PIOGLITAZONE', 'PRAVASTATIN', 'RANITIDINE', 'TRAMADOL',\n",
      "       'IBUPROFEN', 'INSULIN GLARGINE', 'CITALOPRAM', 'ALENDRONATE',\n",
      "       'ALLOPURINOL', 'MONTELUKAST', 'FEXOFENADINE', 'TAMSULOSIN', 'ZOLPIDEM',\n",
      "       'SERTRALINE', 'FLUTICASONE NASAL', 'PREDNISONE'],\n",
      "      dtype='object', name='drug_names')\n",
      "Frequency of each medication: [294, 270, 223, 215, 170, 159, 157, 133, 133, 127, 123, 98, 82, 81, 75, 72, 65, 65, 63, 62, 55, 54, 54, 52, 50, 48, 48, 46, 43, 42, 42, 42, 39, 34, 33, 32, 32, 32, 29, 28]\n"
     ]
    }
   ],
   "source": [
    "df = pd.read_csv('../refined_drug_data.csv', sep=';')\n",
    "# all NaN to empty string\n",
    "df = df.fillna('')\n",
    "\n",
    "data = df.copy()\n",
    "# make an array\n",
    "data['drug_names'] = data[['Drug_1', 'Drug_2', 'Drug_3', 'Drug_4', 'Drug_5', 'Drug_6', 'Drug_7', 'Drug_8']].values.tolist()\n",
    "# remove empty strings\n",
    "data['drug_names'] = data['drug_names'].apply(lambda x: [i for i in x if i])\n",
    "data = data.drop(['Drug_1', 'Drug_2', 'Drug_3', 'Drug_4', 'Drug_5', 'Drug_6', 'Drug_7', 'Drug_8'], axis=1)\n",
    "data\n",
    "\n",
    "print('Total number of combinations:', len(data))\n",
    "print('Number of unique drugs:', len(data['drug_names'].explode().unique()))\n",
    "\n",
    "# sort by freq \n",
    "sorted_drug_names = data['drug_names'].explode().value_counts().index\n",
    "print('Sorted medications by frequency:', sorted_drug_names)\n",
    "print('Frequency of each medication:', data['drug_names'].explode().value_counts().to_list())"
   ]
  },
  {
   "cell_type": "code",
   "execution_count": 3,
   "metadata": {},
   "outputs": [],
   "source": [
    "layout = 'singleline_2_enter_50'\n",
    "\n",
    "amount_of_machines = 50\n",
    "INLETS_NUM = 2\n",
    "\n",
    "# generated distribution from 14_05_2024.ipynb file\n",
    "machines_count = [4, 3, 3, 2, 2, 2, 1, 1, 1, 1, 1, 1, 1, 1, 1, 1, 1, 1, 1, 1, 1, 1, 1, 1, 1, 1, 1, 1, 1, 1, 1, 1, 1, 1, 1, 1, 1, 1, 1, 1] # 50 machines\n",
    "# machines_count = [14, 11, 9, 5, 4, 2, 2, 1, 1, 1, 1, 1, 1, 1, 1, 1, 1, 1, 1, 1, 1, 1, 1, 1, 1, 1, 1, 1, 1, 1, 1, 1, 1, 1, 1, 1, 1, 1, 1, 1] # 80 machines\n",
    "# machines_count = [5, 5, 5, 4, 4, 2, 2, 1, 1, 1, 1, 1, 1, 1, 1, 1, 1, 1, 1, 1, 1, 1, 1, 1, 1, 1, 1, 1, 1, 1, 1, 1, 1, 1, 1, 1, 1, 1, 1, 1]\n",
    "assert sum(machines_count) == amount_of_machines, f\"Sum of machines count is not equal to amount of machines: {sum(machines_count)} != {amount_of_machines}\""
   ]
  },
  {
   "cell_type": "code",
   "execution_count": 4,
   "metadata": {},
   "outputs": [
    {
     "data": {
      "image/png": "[encoded data removed]",
      "text/plain": [
       "<Figure size 1000x1000 with 1 Axes>"
      ]
     },
     "metadata": {},
     "output_type": "display_data"
    }
   ],
   "source": [
    "coord_x, coord_y, restricted_area, all_posible_positions = get_layout(layout)\n",
    "\n",
    "\n",
    "exit_positions = all_posible_positions[:INLETS_NUM]\n",
    "machine_positions = all_posible_positions[INLETS_NUM:]\n",
    "\n",
    "assert len(machine_positions) == amount_of_machines, f\"Amount of machines is not equal to amount of machines: {len(machine_positions)} != {amount_of_machines}\"\n",
    "\n",
    "plt.figure(figsize=(10, 10))\n",
    "plt.imshow(restricted_area.transpose(), cmap='gray', alpha=0.5)\n",
    "plt.scatter(*zip(*machine_positions), c='r', s=100, marker='s', label='Machine')\n",
    "plt.scatter(*zip(*exit_positions), c='b', s=100, marker='o', label='Exit')\n",
    "plt.xticks(range(coord_x))\n",
    "plt.yticks(range(coord_y))\n",
    "\n",
    "plt.legend()\n",
    "\n",
    "plt.grid(which='major', color='k', linestyle='-', linewidth=1)\n",
    "plt.show()"
   ]
  },
  {
   "cell_type": "code",
   "execution_count": 5,
   "metadata": {},
   "outputs": [],
   "source": [
    "# read csv\n",
    "coocurrence_matrix = np.loadtxt('../normalized_coocurrence_matrix.csv', delimiter=',')"
   ]
  },
  {
   "cell_type": "code",
   "execution_count": 6,
   "metadata": {},
   "outputs": [],
   "source": [
    "def manhattan_distance(a, b):\n",
    "    return abs(a[0] - b[0]) + abs(a[1] - b[1])"
   ]
  },
  {
   "cell_type": "code",
   "execution_count": 7,
   "metadata": {},
   "outputs": [
    {
     "name": "stdout",
     "output_type": "stream",
     "text": [
      "Calculating distances using Manhattan distance\n"
     ]
    }
   ],
   "source": [
    "# Prepare problem\n",
    "# drug_names = data['drug_names'].explode().value_counts().index\n",
    "\n",
    "# All distances between all possible positions. (distances[i, j] = distance between i-th and j-th position)\n",
    "num_of_positions = len(all_posible_positions)\n",
    "if layout.startswith('kolecko'):\n",
    "    print('Calculating distances for the ring as a minimum distnace around the ring')\n",
    "    distances = np.zeros((num_of_positions, num_of_positions))\n",
    "    for i in range(num_of_positions):\n",
    "        for j in range(num_of_positions):\n",
    "            if i == j:\n",
    "                distances[i, j] = 0\n",
    "            # protejsi pozice - x_i = 0 and x_j = coord_x - 1\n",
    "            elif all_posible_positions[i][0] == 0 and all_posible_positions[j][0] == coord_x - 1 and (all_posible_positions[i][1] not in [0, coord_y - 1] and all_posible_positions[j][1] not in [0, coord_y - 1]):\n",
    "                # print(i, j, all_posible_positions[i], all_posible_positions[j])\n",
    "                corner_i_1 = (all_posible_positions[i][0], 0)\n",
    "                # manhattan distance from all_posible_positions[i][0] to corner_i_1 + manhattan distance from all_posible_positions[j][0] to corner_i_1\n",
    "                dist_1 = manhattan_distance(all_posible_positions[i], corner_i_1) + manhattan_distance(corner_i_1, all_posible_positions[j])\n",
    "                corner_i_2 = (all_posible_positions[i][0], coord_y - 1)\n",
    "                dist_2 = manhattan_distance(all_posible_positions[i], corner_i_2) + manhattan_distance(corner_i_2, all_posible_positions[j])\n",
    "                distances[i, j] = min(dist_1, dist_2)\n",
    "            # protejsi pozice - y\n",
    "            elif all_posible_positions[i][1] == 0 and all_posible_positions[j][1] == coord_y - 1 and (all_posible_positions[i][0] not in [0, coord_x - 1] and all_posible_positions[j][0] not in [0, coord_x - 1]):\n",
    "                # print(i, j, all_posible_positions[i], all_posible_positions[j])\n",
    "                corner_i_1 = (0, all_posible_positions[i][1])\n",
    "                dist_1 = manhattan_distance(all_posible_positions[i], corner_i_1) + manhattan_distance(corner_i_1, all_posible_positions[j])\n",
    "                corner_i_2 = (coord_x - 1, all_posible_positions[i][1])\n",
    "                dist_2 = manhattan_distance(all_posible_positions[i], corner_i_2) + manhattan_distance(corner_i_2, all_posible_positions[j])\n",
    "                distances[i, j] = min(dist_1, dist_2)\n",
    "            else: \n",
    "                distances[i, j] = manhattan_distance(all_posible_positions[i], all_posible_positions[j])\n",
    "else:\n",
    "    print('Calculating distances using Manhattan distance')\n",
    "    distances = np.zeros((num_of_positions, num_of_positions))\n",
    "    for i in range(num_of_positions):\n",
    "        for j in range(num_of_positions):\n",
    "            distances[i, j] = np.abs(all_posible_positions[i][0] - all_posible_positions[j][0]) + np.abs(all_posible_positions[i][1] - all_posible_positions[j][1])\n",
    "\n",
    "# Create array of recepts where each drug is index in drug_names\n",
    "capsules = []\n",
    "for i in range(len(data)):\n",
    "    capsules.append([sorted_drug_names.to_list().index(drug) for drug in data['drug_names'][i]])\n",
    "\n",
    "# Make np array (for that make the same size recepts (place 0))\n",
    "max_len = max([len(capsule) for capsule in capsules])\n",
    "for i in range(len(capsules)):\n",
    "    capsules[i] = capsules[i] + [-1] * (max_len - len(capsules[i]))\n",
    "np_capsules = np.array(capsules)"
   ]
  },
  {
   "cell_type": "code",
   "execution_count": 8,
   "metadata": {},
   "outputs": [
    {
     "data": {
      "text/plain": [
       "array([  0,   0,   0,   0,   1,   1,   1,   2,   2,   2,   3,   3,   4,\n",
       "         4,   5,   5,   6,   7,   8,   9,  10,  11,  12,  13,  14,  15,\n",
       "        16,  17,  18,  19,  20,  21,  22,  23,  24,  25,  26,  27,  28,\n",
       "        29,  30,  31,  32,  33,  34,  35,  36,  37,  38,  39, -10, -10])"
      ]
     },
     "execution_count": 8,
     "metadata": {},
     "output_type": "execute_result"
    }
   ],
   "source": [
    "# perm = range(40)\n",
    "\n",
    "# Create a chromosome. Counts of machines in sorted_drug_names are given by machines_count. Create an array of machines (machines_count times each drug)\n",
    "chromosome = np.array([drug for drug, count in zip(sorted_drug_names, machines_count) for _ in range(count)])\n",
    "chromosome = np.array([sorted_drug_names.to_list().index(drug) for drug in chromosome])\n",
    "\n",
    "# Add exit positions to machines_chromosome\n",
    "chromosome = np.concatenate((chromosome, np.array([-10] * INLETS_NUM)))\n",
    "chromosome"
   ]
  },
  {
   "cell_type": "markdown",
   "metadata": {},
   "source": [
    "#### Run Genetic Algorithm"
   ]
  },
  {
   "cell_type": "code",
   "execution_count": 9,
   "metadata": {},
   "outputs": [],
   "source": [
    "from pymoo.algorithms.soo.nonconvex.ga import GA\n",
    "from pymoo.operators.crossover.ox import OrderCrossover\n",
    "from pymoo.operators.mutation.inversion import InversionMutation\n",
    "from pymoo.termination import get_termination\n",
    "from pymoo.optimize import minimize"
   ]
  },
  {
   "cell_type": "code",
   "execution_count": 1,
   "metadata": {},
   "outputs": [
    {
     "ename": "NameError",
     "evalue": "name 'chromosome' is not defined",
     "output_type": "error",
     "traceback": [
      "\u001b[0;31m---------------------------------------------------------------------------\u001b[0m",
      "\u001b[0;31mNameError\u001b[0m                                 Traceback (most recent call last)",
      "Cell \u001b[0;32mIn[1], line 3\u001b[0m\n\u001b[1;32m      1\u001b[0m population_size \u001b[38;5;241m=\u001b[39m \u001b[38;5;241m50\u001b[39m\n\u001b[0;32m----> 3\u001b[0m perm \u001b[38;5;241m=\u001b[39m \u001b[38;5;28mrange\u001b[39m(\u001b[38;5;28mlen\u001b[39m(\u001b[43mchromosome\u001b[49m))\n\u001b[1;32m      4\u001b[0m perm_machines \u001b[38;5;241m=\u001b[39m \u001b[38;5;28mrange\u001b[39m(amount_of_machines)\n\u001b[1;32m      5\u001b[0m perm_inlets \u001b[38;5;241m=\u001b[39m \u001b[38;5;28mlist\u001b[39m(\u001b[38;5;28mset\u001b[39m(\u001b[38;5;28mrange\u001b[39m(amount_of_machines \u001b[38;5;241m+\u001b[39m INLETS_NUM)) \u001b[38;5;241m-\u001b[39m \u001b[38;5;28mset\u001b[39m(perm_machines))\n",
      "\u001b[0;31mNameError\u001b[0m: name 'chromosome' is not defined"
     ]
    }
   ],
   "source": [
    "population_size = 50\n",
    "\n",
    "perm = range(len(chromosome))\n",
    "perm_machines = range(amount_of_machines)\n",
    "perm_inlets = list(set(range(amount_of_machines + INLETS_NUM)) - set(perm_machines))\n",
    "init_population = np.zeros((population_size, len(chromosome)))\n",
    "for i in range(population_size):\n",
    "    # Just random: init_population[i] = np.random.permutation(perm)\n",
    "    # init_population[i] = np.random.permutation(perm)\n",
    "\n",
    "    # Not random outlets\n",
    "    random_permutation_machines = np.random.permutation(perm_machines)\n",
    "    area = int((amount_of_machines) / INLETS_NUM)\n",
    "    init_population_i = []\n",
    "    for j in range(INLETS_NUM):\n",
    "        init_population_i = np.concatenate((init_population_i, random_permutation_machines[j*area:(j+1)*area].tolist() + [perm_inlets[j]]))        \n",
    "    init_population_i = np.concatenate((init_population_i, random_permutation_machines[(j+1)*area:]))\n",
    "    init_population[i] = init_population_i\n",
    "\n",
    "init_population[-1] = np.random.permutation(perm)\n",
    "\n",
    "problem = Floorplanning(perm, chromosome, np_capsules, distances, layout, coocurrence_matrix)"
   ]
  },
  {
   "cell_type": "code",
   "execution_count": 11,
   "metadata": {},
   "outputs": [
    {
     "name": "stdout",
     "output_type": "stream",
     "text": [
      "Number of evaluations: 10000, generations: 200.0\n",
      "Generation: 100 | Best cost: 3047.624959000636\n",
      "Generation: 200 | Best cost: 2979.545681771579\n",
      "date:  20240924223740\n"
     ]
    }
   ],
   "source": [
    "algorithm = GA(\n",
    "    pop_size=population_size, \n",
    "    eliminate_duplicates=True, \n",
    "    sampling=init_population, # final_population or init_population\n",
    "    crossover=OrderCrossover(), \n",
    "    mutation=InversionMutation(), \n",
    "    # termination=get_termination(\"n_gen\", 50)\n",
    ")\n",
    "n_eval = 10000 # 25000 / 50 = 500 generations\n",
    "print(f'Number of evaluations: {n_eval}, generations: {n_eval/population_size}')\n",
    "termination = get_termination(\"n_eval\", n_eval) \n",
    "res = minimize(\n",
    "    problem,\n",
    "    algorithm,\n",
    "    termination,\n",
    "    save_history=True,\n",
    "    callback=RecordBsfCosts(),\n",
    "    # seed=1,\n",
    ")\n",
    "# unique datetime for saving\n",
    "import datetime\n",
    "now = datetime.datetime.now().strftime(\"%Y%m%d%H%M%S\")\n",
    "print(\"date: \", now)"
   ]
  },
  {
   "cell_type": "code",
   "execution_count": 12,
   "metadata": {},
   "outputs": [
    {
     "name": "stdout",
     "output_type": "stream",
     "text": [
      "Cost (through all recepts):  [2979.54568177]\n",
      "Permutation:  [ 0. 51. 23. 17. 18.  8.  4.  3. 10. 20. 16. 13. 15. 19. 29. 26. 35. 28.\n",
      " 21. 34. 24. 27. 41. 31. 25. 45. 30. 32. 37. 49. 46. 44. 39. 48. 38. 43.\n",
      " 50.  5.  6. 42. 33. 36.  9. 12.  2. 11. 22. 40. 47. 14.  1.  7.]\n",
      "Number of iterations (for population, not candidate):  200\n"
     ]
    }
   ],
   "source": [
    "print('Cost (through all recepts): ', res.F)\n",
    "print('Permutation: ', res.X)\n",
    "print('Number of iterations (for population, not candidate): ', res.history.__len__())"
   ]
  },
  {
   "cell_type": "code",
   "execution_count": 13,
   "metadata": {},
   "outputs": [
    {
     "data": {
      "image/png": "[encoded data removed]",
      "text/plain": [
       "<Figure size 640x480 with 1 Axes>"
      ]
     },
     "metadata": {},
     "output_type": "display_data"
    }
   ],
   "source": [
    "# plot best so far costs line ([i.reshape(-1) for i in res.algorithm.callback.data['bsf_costs']])\n",
    "plt.figure()\n",
    "# plt.plot([i.reshape(-1) for i in res.algorithm.callback.data['bsf_costs']]) min \n",
    "plt.plot([i.reshape(-1) for i in res.algorithm.callback.data['bsf_costs']])\n",
    "plt.show()"
   ]
  },
  {
   "cell_type": "code",
   "execution_count": 42,
   "metadata": {},
   "outputs": [
    {
     "data": {
      "text/plain": [
       "'20240827171221'"
      ]
     },
     "execution_count": 42,
     "metadata": {},
     "output_type": "execute_result"
    }
   ],
   "source": [
    "# np.savez(f'../results/{layout}_{n_eval}_popsize_{population_size}_order_inversion_{now}.npz', \n",
    "#     layout=layout, \n",
    "#     population_size=population_size, \n",
    "#     inlet_positions=exit_positions,\n",
    "\n",
    "#     machine_positions=machine_positions,\n",
    "#     machines_drug_names=np.array([sorted_drug_names[drug] for drug in chromosome]),\n",
    "\n",
    "#     gen_best_cost=res.F, \n",
    "#     gen_best_perm=res.X, # permutation of idxs of machines_drug_names\n",
    "#     n_eval=n_eval,\n",
    "#     bsf_costs=[i.reshape(-1) for i in res.algorithm.callback.data['bsf_costs']],\n",
    "#     gen_description= f'Number of evaluations: {n_eval}, generations: {n_eval/population_size}, operator: OrderCrossover, InversionMutation',\n",
    "# )\n",
    "# now"
   ]
  },
  {
   "cell_type": "code",
   "execution_count": 14,
   "metadata": {},
   "outputs": [
    {
     "data": {
      "text/plain": [
       "50"
      ]
     },
     "execution_count": 14,
     "metadata": {},
     "output_type": "execute_result"
    }
   ],
   "source": [
    "res.algorithm.callback.data['bsf_solution'][0].__len__()"
   ]
  },
  {
   "cell_type": "code",
   "execution_count": 15,
   "metadata": {},
   "outputs": [
    {
     "data": {
      "text/plain": [
       "'20240924223740'"
      ]
     },
     "execution_count": 15,
     "metadata": {},
     "output_type": "execute_result"
    }
   ],
   "source": [
    "idx_of_outlets = np.where(chromosome[res.X.astype(int)] == -10)[0]\n",
    "inlet_positions = np.array(all_posible_positions)[idx_of_outlets]\n",
    "inlet_positions_as_tuples = [tuple(i) for i in inlet_positions]\n",
    "machines_idxs = [pos for pos in all_posible_positions if pos not in inlet_positions_as_tuples]\n",
    "\n",
    "np.savez(f'../results/{layout}_{n_eval}_popsize_{population_size}_order_inversion_{now}.npz', \n",
    "    layout=layout, \n",
    "    population_size=population_size, \n",
    "    chromosome=chromosome,\n",
    "    all_posible_positions=all_posible_positions,\n",
    "    inlet_positions=np.array(all_posible_positions)[idx_of_outlets],\n",
    "    machine_positions=[pos for pos in all_posible_positions if pos not in inlet_positions_as_tuples],\n",
    "    machines_drug_names=np.array([sorted_drug_names[drug] for drug in chromosome if drug != -10]), # remove -10 (inlet) from chromosome\n",
    "\n",
    "    gen_best_cost=res.F,\n",
    "    gen_best_perm=res.X[res.X < amount_of_machines], # < amount_of_machines because others are inlets\n",
    "    best_perm_per_iteration=res.algorithm.callback.data['bsf_solution'],\n",
    "    n_eval=n_eval,\n",
    "    bsf_costs=[i.reshape(-1) for i in res.algorithm.callback.data['bsf_costs']],\n",
    "    gen_description= f'Number of evaluations: {n_eval}, generations: {n_eval/population_size}, operator: OrderCrossover, InversionMutation. Fixed distance metric for ring layout.',\n",
    "\n",
    "    size_x_y=(coord_x, coord_y),\n",
    "\n",
    "    final_population=res.pop,\n",
    ")\n",
    "now"
   ]
  },
  {
   "cell_type": "code",
   "execution_count": 16,
   "metadata": {},
   "outputs": [
    {
     "data": {
      "text/plain": [
       "'singleline_2_enter_50_10000_popsize_50_order_inversion_20240924223740.npz'"
      ]
     },
     "execution_count": 16,
     "metadata": {},
     "output_type": "execute_result"
    }
   ],
   "source": [
    "f'{layout}_{n_eval}_popsize_{population_size}_order_inversion_{now}.npz'"
   ]
  },
  {
   "cell_type": "code",
   "execution_count": null,
   "metadata": {},
   "outputs": [],
   "source": []
  }
 ],
 "metadata": {
  "kernelspec": {
   "display_name": "Python 3",
   "language": "python",
   "name": "python3"
  },
  "language_info": {
   "codemirror_mode": {
    "name": "ipython",
    "version": 3
   },
   "file_extension": ".py",
   "mimetype": "text/x-python",
   "name": "python",
   "nbconvert_exporter": "python",
   "pygments_lexer": "ipython3",
   "version": "3.9.6"
  }
 },
 "nbformat": 4,
 "nbformat_minor": 2
}
