{
 "cells": [
  {
   "cell_type": "code",
   "execution_count": 72,
   "metadata": {},
   "outputs": [
    {
     "name": "stderr",
     "output_type": "stream",
     "text": [
      "/Users/karina/Library/Python/3.9/lib/python/site-packages/bindata/check_commonprob.py:81: UserWarning:\n",
      "\n",
      "simulvals provided is not computed to a sufficient resolution\n",
      "to resolve the common probabilies provided in commonprob.\n",
      "\n",
      "\n",
      "INTERPOLATION IS GOING TO BE USED.\n",
      "\n",
      "Consider computing simulvals on a finer grid.\n",
      "The current resolution is on these points:\n",
      "[(0, 0), (0, 0.001), (0, 0.01), (0, np.float64(0.05)), (0, np.float64(0.1)), (0, np.float64(0.15)), (0, np.float64(0.2)), (0, np.float64(0.25)), (0, np.float64(0.3)), (0, np.float64(0.35)), (0, np.float64(0.4)), (0, np.float64(0.45)), (0, np.float64(0.5)), (0, np.float64(0.55)), (0, np.float64(0.6)), (0, np.float64(0.65)), (0, np.float64(0.7)), (0, np.float64(0.75)), (0, np.float64(0.8)), (0, np.float64(0.85)), (0, np.float64(0.9)), (0, np.float64(0.95)), (0, 0.99), (0, 0.999), (0, 1), (0.001, 0.001), (0.001, 0.01), (0.001, np.float64(0.05)), (0.001, np.float64(0.1)), (0.001, np.float64(0.15)), (0.001, np.float64(0.2)), (0.001, np.float64(0.25)), (0.001, np.float64(0.3)), (0.001, np.float64(0.35)), (0.001, np.float64(0.4)), (0.001, np.float64(0.45)), (0.001, np.float64(0.5)), (0.001, np.float64(0.55)), (0.001, np.float64(0.6)), (0.001, np.float64(0.65)), (0.001, np.float64(0.7)), (0.001, np.float64(0.75)), (0.001, np.float64(0.8)), (0.001, np.float64(0.85)), (0.001, np.float64(0.9)), (0.001, np.float64(0.95)), (0.001, 0.99), (0.001, 0.999), (0.001, 1), (0.01, 0.01), (0.01, np.float64(0.05)), (0.01, np.float64(0.1)), (0.01, np.float64(0.15)), (0.01, np.float64(0.2)), (0.01, np.float64(0.25)), (0.01, np.float64(0.3)), (0.01, np.float64(0.35)), (0.01, np.float64(0.4)), (0.01, np.float64(0.45)), (0.01, np.float64(0.5)), (0.01, np.float64(0.55)), (0.01, np.float64(0.6)), (0.01, np.float64(0.65)), (0.01, np.float64(0.7)), (0.01, np.float64(0.75)), (0.01, np.float64(0.8)), (0.01, np.float64(0.85)), (0.01, np.float64(0.9)), (0.01, np.float64(0.95)), (0.01, 0.99), (0.01, 0.999), (0.01, 1), (np.float64(0.05), np.float64(0.05)), (np.float64(0.05), np.float64(0.1)), (np.float64(0.05), np.float64(0.15)), (np.float64(0.05), np.float64(0.2)), (np.float64(0.05), np.float64(0.25)), (np.float64(0.05), np.float64(0.3)), (np.float64(0.05), np.float64(0.35)), (np.float64(0.05), np.float64(0.4)), (np.float64(0.05), np.float64(0.45)), (np.float64(0.05), np.float64(0.5)), (np.float64(0.05), np.float64(0.55)), (np.float64(0.05), np.float64(0.6)), (np.float64(0.05), np.float64(0.65)), (np.float64(0.05), np.float64(0.7)), (np.float64(0.05), np.float64(0.75)), (np.float64(0.05), np.float64(0.8)), (np.float64(0.05), np.float64(0.85)), (np.float64(0.05), np.float64(0.9)), (np.float64(0.05), np.float64(0.95)), (np.float64(0.05), 0.99), (np.float64(0.05), 0.999), (np.float64(0.05), 1), (np.float64(0.1), np.float64(0.1)), (np.float64(0.1), np.float64(0.15)), (np.float64(0.1), np.float64(0.2)), (np.float64(0.1), np.float64(0.25)), (np.float64(0.1), np.float64(0.3)), (np.float64(0.1), np.float64(0.35)), (np.float64(0.1), np.float64(0.4)), (np.float64(0.1), np.float64(0.45)), (np.float64(0.1), np.float64(0.5)), (np.float64(0.1), np.float64(0.55)), (np.float64(0.1), np.float64(0.6)), (np.float64(0.1), np.float64(0.65)), (np.float64(0.1), np.float64(0.7)), (np.float64(0.1), np.float64(0.75)), (np.float64(0.1), np.float64(0.8)), (np.float64(0.1), np.float64(0.85)), (np.float64(0.1), np.float64(0.9)), (np.float64(0.1), np.float64(0.95)), (np.float64(0.1), 0.99), (np.float64(0.1), 0.999), (np.float64(0.1), 1), (np.float64(0.15), np.float64(0.15)), (np.float64(0.15), np.float64(0.2)), (np.float64(0.15), np.float64(0.25)), (np.float64(0.15), np.float64(0.3)), (np.float64(0.15), np.float64(0.35)), (np.float64(0.15), np.float64(0.4)), (np.float64(0.15), np.float64(0.45)), (np.float64(0.15), np.float64(0.5)), (np.float64(0.15), np.float64(0.55)), (np.float64(0.15), np.float64(0.6)), (np.float64(0.15), np.float64(0.65)), (np.float64(0.15), np.float64(0.7)), (np.float64(0.15), np.float64(0.75)), (np.float64(0.15), np.float64(0.8)), (np.float64(0.15), np.float64(0.85)), (np.float64(0.15), np.float64(0.9)), (np.float64(0.15), np.float64(0.95)), (np.float64(0.15), 0.99), (np.float64(0.15), 0.999), (np.float64(0.15), 1), (np.float64(0.2), np.float64(0.2)), (np.float64(0.2), np.float64(0.25)), (np.float64(0.2), np.float64(0.3)), (np.float64(0.2), np.float64(0.35)), (np.float64(0.2), np.float64(0.4)), (np.float64(0.2), np.float64(0.45)), (np.float64(0.2), np.float64(0.5)), (np.float64(0.2), np.float64(0.55)), (np.float64(0.2), np.float64(0.6)), (np.float64(0.2), np.float64(0.65)), (np.float64(0.2), np.float64(0.7)), (np.float64(0.2), np.float64(0.75)), (np.float64(0.2), np.float64(0.8)), (np.float64(0.2), np.float64(0.85)), (np.float64(0.2), np.float64(0.9)), (np.float64(0.2), np.float64(0.95)), (np.float64(0.2), 0.99), (np.float64(0.2), 0.999), (np.float64(0.2), 1), (np.float64(0.25), np.float64(0.25)), (np.float64(0.25), np.float64(0.3)), (np.float64(0.25), np.float64(0.35)), (np.float64(0.25), np.float64(0.4)), (np.float64(0.25), np.float64(0.45)), (np.float64(0.25), np.float64(0.5)), (np.float64(0.25), np.float64(0.55)), (np.float64(0.25), np.float64(0.6)), (np.float64(0.25), np.float64(0.65)), (np.float64(0.25), np.float64(0.7)), (np.float64(0.25), np.float64(0.75)), (np.float64(0.25), np.float64(0.8)), (np.float64(0.25), np.float64(0.85)), (np.float64(0.25), np.float64(0.9)), (np.float64(0.25), np.float64(0.95)), (np.float64(0.25), 0.99), (np.float64(0.25), 0.999), (np.float64(0.25), 1), (np.float64(0.3), np.float64(0.3)), (np.float64(0.3), np.float64(0.35)), (np.float64(0.3), np.float64(0.4)), (np.float64(0.3), np.float64(0.45)), (np.float64(0.3), np.float64(0.5)), (np.float64(0.3), np.float64(0.55)), (np.float64(0.3), np.float64(0.6)), (np.float64(0.3), np.float64(0.65)), (np.float64(0.3), np.float64(0.7)), (np.float64(0.3), np.float64(0.75)), (np.float64(0.3), np.float64(0.8)), (np.float64(0.3), np.float64(0.85)), (np.float64(0.3), np.float64(0.9)), (np.float64(0.3), np.float64(0.95)), (np.float64(0.3), 0.99), (np.float64(0.3), 0.999), (np.float64(0.3), 1), (np.float64(0.35), np.float64(0.35)), (np.float64(0.35), np.float64(0.4)), (np.float64(0.35), np.float64(0.45)), (np.float64(0.35), np.float64(0.5)), (np.float64(0.35), np.float64(0.55)), (np.float64(0.35), np.float64(0.6)), (np.float64(0.35), np.float64(0.65)), (np.float64(0.35), np.float64(0.7)), (np.float64(0.35), np.float64(0.75)), (np.float64(0.35), np.float64(0.8)), (np.float64(0.35), np.float64(0.85)), (np.float64(0.35), np.float64(0.9)), (np.float64(0.35), np.float64(0.95)), (np.float64(0.35), 0.99), (np.float64(0.35), 0.999), (np.float64(0.35), 1), (np.float64(0.4), np.float64(0.4)), (np.float64(0.4), np.float64(0.45)), (np.float64(0.4), np.float64(0.5)), (np.float64(0.4), np.float64(0.55)), (np.float64(0.4), np.float64(0.6)), (np.float64(0.4), np.float64(0.65)), (np.float64(0.4), np.float64(0.7)), (np.float64(0.4), np.float64(0.75)), (np.float64(0.4), np.float64(0.8)), (np.float64(0.4), np.float64(0.85)), (np.float64(0.4), np.float64(0.9)), (np.float64(0.4), np.float64(0.95)), (np.float64(0.4), 0.99), (np.float64(0.4), 0.999), (np.float64(0.4), 1), (np.float64(0.45), np.float64(0.45)), (np.float64(0.45), np.float64(0.5)), (np.float64(0.45), np.float64(0.55)), (np.float64(0.45), np.float64(0.6)), (np.float64(0.45), np.float64(0.65)), (np.float64(0.45), np.float64(0.7)), (np.float64(0.45), np.float64(0.75)), (np.float64(0.45), np.float64(0.8)), (np.float64(0.45), np.float64(0.85)), (np.float64(0.45), np.float64(0.9)), (np.float64(0.45), np.float64(0.95)), (np.float64(0.45), 0.99), (np.float64(0.45), 0.999), (np.float64(0.45), 1), (np.float64(0.5), np.float64(0.5)), (np.float64(0.5), np.float64(0.55)), (np.float64(0.5), np.float64(0.6)), (np.float64(0.5), np.float64(0.65)), (np.float64(0.5), np.float64(0.7)), (np.float64(0.5), np.float64(0.75)), (np.float64(0.5), np.float64(0.8)), (np.float64(0.5), np.float64(0.85)), (np.float64(0.5), np.float64(0.9)), (np.float64(0.5), np.float64(0.95)), (np.float64(0.5), 0.99), (np.float64(0.5), 0.999), (np.float64(0.5), 1), (np.float64(0.55), np.float64(0.55)), (np.float64(0.55), np.float64(0.6)), (np.float64(0.55), np.float64(0.65)), (np.float64(0.55), np.float64(0.7)), (np.float64(0.55), np.float64(0.75)), (np.float64(0.55), np.float64(0.8)), (np.float64(0.55), np.float64(0.85)), (np.float64(0.55), np.float64(0.9)), (np.float64(0.55), np.float64(0.95)), (np.float64(0.55), 0.99), (np.float64(0.55), 0.999), (np.float64(0.55), 1), (np.float64(0.6), np.float64(0.6)), (np.float64(0.6), np.float64(0.65)), (np.float64(0.6), np.float64(0.7)), (np.float64(0.6), np.float64(0.75)), (np.float64(0.6), np.float64(0.8)), (np.float64(0.6), np.float64(0.85)), (np.float64(0.6), np.float64(0.9)), (np.float64(0.6), np.float64(0.95)), (np.float64(0.6), 0.99), (np.float64(0.6), 0.999), (np.float64(0.6), 1), (np.float64(0.65), np.float64(0.65)), (np.float64(0.65), np.float64(0.7)), (np.float64(0.65), np.float64(0.75)), (np.float64(0.65), np.float64(0.8)), (np.float64(0.65), np.float64(0.85)), (np.float64(0.65), np.float64(0.9)), (np.float64(0.65), np.float64(0.95)), (np.float64(0.65), 0.99), (np.float64(0.65), 0.999), (np.float64(0.65), 1), (np.float64(0.7), np.float64(0.7)), (np.float64(0.7), np.float64(0.75)), (np.float64(0.7), np.float64(0.8)), (np.float64(0.7), np.float64(0.85)), (np.float64(0.7), np.float64(0.9)), (np.float64(0.7), np.float64(0.95)), (np.float64(0.7), 0.99), (np.float64(0.7), 0.999), (np.float64(0.7), 1), (np.float64(0.75), np.float64(0.75)), (np.float64(0.75), np.float64(0.8)), (np.float64(0.75), np.float64(0.85)), (np.float64(0.75), np.float64(0.9)), (np.float64(0.75), np.float64(0.95)), (np.float64(0.75), 0.99), (np.float64(0.75), 0.999), (np.float64(0.75), 1), (np.float64(0.8), np.float64(0.8)), (np.float64(0.8), np.float64(0.85)), (np.float64(0.8), np.float64(0.9)), (np.float64(0.8), np.float64(0.95)), (np.float64(0.8), 0.99), (np.float64(0.8), 0.999), (np.float64(0.8), 1), (np.float64(0.85), np.float64(0.85)), (np.float64(0.85), np.float64(0.9)), (np.float64(0.85), np.float64(0.95)), (np.float64(0.85), 0.99), (np.float64(0.85), 0.999), (np.float64(0.85), 1), (np.float64(0.9), np.float64(0.9)), (np.float64(0.9), np.float64(0.95)), (np.float64(0.9), 0.99), (np.float64(0.9), 0.999), (np.float64(0.9), 1), (np.float64(0.95), np.float64(0.95)), (np.float64(0.95), 0.99), (np.float64(0.95), 0.999), (np.float64(0.95), 1), (0.99, 0.99), (0.99, 0.999), (0.99, 1), (0.999, 0.999), (0.999, 1), (1, 1)]\n",
      "Alternatively round the common probabilities or correlations provided\n",
      "to fewer decimal places.\n",
      "\n"
     ]
    }
   ],
   "source": [
    "import bindata as bnd\n",
    "import pandas as pd\n",
    "import numpy as np\n",
    "capsules = pd.read_csv('../capsules_with_freq.csv', sep=';')\n",
    "drug_names_unique = capsules[['Drug_1', 'Drug_2', 'Drug_3', 'Drug_4', 'Drug_5', 'Drug_6', 'Drug_7', 'Drug_8']].stack().unique()\n",
    "# normalize capsules['exact_exposure_count] to 0, 100\n",
    "capsules['exact_exposure_count'] = capsules['exact_exposure_count'].replace('<100', 100)\n",
    "capsules['exact_exposure_count'] = capsules['exact_exposure_count'].replace('1', 100)\n",
    "capsules['exact_exposure_count'] = capsules['exact_exposure_count'].astype(int)\n",
    "capsules['exact_exposure_count'] = capsules['exact_exposure_count'] / (capsules['exact_exposure_count']).max() * 20000\n",
    "capsules['exact_exposure_count'] = capsules['exact_exposure_count'].astype(int) + 1\n",
    "\n",
    "# Restructure the data (columns are drugs and rows are patients, values are 0 or 1)\n",
    "data = []\n",
    "for i, row in capsules.iterrows():\n",
    "    patient_data = []\n",
    "    for drug in drug_names_unique:\n",
    "        patient_data.append(int(drug in row.values))\n",
    "    \n",
    "    data.append(patient_data)\n",
    "    # data.extend([patient_data] * row['exact_exposure_count'])\n",
    "\n",
    "index = [f\"comb{i}\" for i in range(len(data))]\n",
    "data = pd.DataFrame(data, columns=drug_names_unique, dtype=int, index=index)\n",
    "data.head()\n",
    "data.shape\n",
    "\n",
    "feature_probs = np.mean(data, axis=0)\n",
    "# feature_probs = np.round(feature_probs * 20) / 20 # round to 0.05 step\n",
    "# feature_probs = np.ceil(feature_probs * 1e12) / 1e12\n",
    "# feature_probs = np.array([0.07] * 40)\n",
    "\n",
    "correlation_matrix = np.corrcoef(data, rowvar=False) # correlation, same as (np.cov(X,Y)[0,1]/(np.std(X,ddof=1)*np.std(Y,ddof=1)))\n",
    "correlation_matrix = np.ceil(correlation_matrix * 1e12) / 1e12\n",
    "# store feat_probs and correlation_matrix csv\n",
    "np.savetxt('feat_probs_smoother.csv', feature_probs, delimiter=',')\n",
    "np.savetxt('correlation_matrix.csv', correlation_matrix, delimiter=',')\n",
    "# ====================================================================== \n",
    "def is_pos_def(x):\n",
    "    return np.all(np.linalg.eigvals(x) > 0)\n",
    "# ====================================================================== https://research.wu.ac.at/ws/portalfiles/portal/18952613/document.pdf\n",
    "from statsmodels.stats.correlation_tools import cov_nearest\n",
    "from scipy.stats import multivariate_normal, norm\n",
    "\n",
    "commonprob = bnd.bincorr2commonprob(margprob=feature_probs, \n",
    "                                        bincorr=correlation_matrix)\n",
    "# commonprob2sigma\n",
    "sigma = bnd.commonprob2sigma(commonprob)\n",
    "if not is_pos_def(sigma):\n",
    "    sigma = cov_nearest(sigma)\n",
    "\n",
    "µ, Σ = norm.ppf(feature_probs), sigma\n",
    "mvn = multivariate_normal(µ, Σ, allow_singular=True)\n",
    "sample = mvn.rvs(size=10000) > 0"
   ]
  },
  {
   "cell_type": "code",
   "execution_count": 68,
   "metadata": {},
   "outputs": [],
   "source": [
    "from data_generator.main import generate_multivariate_binary, filter_rows\n",
    "\n",
    "nsamples = 1000000\n",
    "sample, mu, sigma = generate_multivariate_binary(40, nsamples, feature_probs, correlation_matrix)\n",
    "sample = filter_rows(sample, mu, sigma, nsamples)"
   ]
  },
  {
   "cell_type": "code",
   "execution_count": 69,
   "metadata": {},
   "outputs": [
    {
     "name": "stdout",
     "output_type": "stream",
     "text": [
      "sum\n",
      "3    352760\n",
      "4     29011\n",
      "5      1735\n",
      "6       104\n",
      "7        26\n",
      "8         6\n",
      "Name: count, dtype: int64\n",
      "sum\n",
      "3    409657\n",
      "4    284670\n",
      "5    168245\n",
      "6     91462\n",
      "7     45966\n",
      "Name: count, dtype: int64\n"
     ]
    },
    {
     "data": {
      "text/plain": [
       "(1000000, 40)"
      ]
     },
     "execution_count": 69,
     "metadata": {},
     "output_type": "execute_result"
    }
   ],
   "source": [
    "# group by sum \n",
    "sample = sample.astype(int)\n",
    "sampledf = pd.DataFrame(data, columns=drug_names_unique)\n",
    "sampledf['sum'] = sampledf.sum(axis=1)\n",
    "print(sampledf['sum'].value_counts().sort_index())\n",
    "\n",
    "sampledf = pd.DataFrame(sample, columns=drug_names_unique)\n",
    "sampledf['sum'] = sampledf.sum(axis=1)\n",
    "print(sampledf['sum'].value_counts().sort_index())\n",
    "\n",
    "sample_new = sample[np.sum(sample, axis=1) > 2]\n",
    "sample_new = sample_new[np.sum(sample_new, axis=1) <= 7]\n",
    "sample_new.shape"
   ]
  },
  {
   "cell_type": "code",
   "execution_count": 174,
   "metadata": {},
   "outputs": [],
   "source": [
    "# import data_generator_EP as dg\n",
    "# from data_generator_EP import gen_bin_ep\n",
    "\n",
    "# sample = gen_bin_ep(100000, feature_probs, correlation_matrix)"
   ]
  },
  {
   "cell_type": "code",
   "execution_count": 73,
   "metadata": {},
   "outputs": [
    {
     "data": {
      "application/vnd.plotly.v1+json": {
       "config": {
        "plotlyServerURL": "https://plot.ly"
       },
       "data": [
        {
         "coloraxis": "coloraxis",
         "hovertemplate": "x: %{x}<br>y: %{y}<br>color: %{z}<extra></extra>",
         "name": "0",
         "type": "heatmap",
         "x": [
          "CARVEDILOL",
          "ESOMEPRAZOLE",
          "LEVOTHYROXINE",
          "TRAMADOL",
          "AMLODIPINE",
          "METOPROLOL",
          "OMEPRAZOLE",
          "SIMVASTATIN",
          "TAMSULOSIN",
          "ALENDRONATE",
          "ATORVASTATIN",
          "LISINOPRIL",
          "LOSARTAN",
          "SERTRALINE",
          "METFORMIN",
          "PIOGLITAZONE",
          "PRAVASTATIN",
          "FUROSEMIDE",
          "POTASSIUM CHLORIDE",
          "HYDROCHLOROTHIAZIDE",
          "ATENOLOL",
          "WARFARIN",
          "ASPIRIN",
          "LOVASTATIN",
          "ALBUTEROL",
          "GLIPIZIDE",
          "RANITIDINE",
          "GABAPENTIN",
          "INSULIN GLARGINE",
          "CLOPIDOGREL",
          "ZOLPIDEM",
          "ALLOPURINOL",
          "CITALOPRAM",
          "PREDNISONE",
          "ROSUVASTATIN",
          "VALSARTAN",
          "IBUPROFEN",
          "FEXOFENADINE",
          "MONTELUKAST",
          "FLUTICASONE NASAL"
         ],
         "xaxis": "x",
         "y": [
          "CARVEDILOL",
          "ESOMEPRAZOLE",
          "LEVOTHYROXINE",
          "TRAMADOL",
          "AMLODIPINE",
          "METOPROLOL",
          "OMEPRAZOLE",
          "SIMVASTATIN",
          "TAMSULOSIN",
          "ALENDRONATE",
          "ATORVASTATIN",
          "LISINOPRIL",
          "LOSARTAN",
          "SERTRALINE",
          "METFORMIN",
          "PIOGLITAZONE",
          "PRAVASTATIN",
          "FUROSEMIDE",
          "POTASSIUM CHLORIDE",
          "HYDROCHLOROTHIAZIDE",
          "ATENOLOL",
          "WARFARIN",
          "ASPIRIN",
          "LOVASTATIN",
          "ALBUTEROL",
          "GLIPIZIDE",
          "RANITIDINE",
          "GABAPENTIN",
          "INSULIN GLARGINE",
          "CLOPIDOGREL",
          "ZOLPIDEM",
          "ALLOPURINOL",
          "CITALOPRAM",
          "PREDNISONE",
          "ROSUVASTATIN",
          "VALSARTAN",
          "IBUPROFEN",
          "FEXOFENADINE",
          "MONTELUKAST",
          "FLUTICASONE NASAL"
         ],
         "yaxis": "y",
         "z": {
          "bdata": "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",
          "dtype": "f8",
          "shape": "40, 40"
         }
        }
       ],
       "layout": {
        "coloraxis": {
         "cmax": 1,
         "cmin": -1,
         "colorscale": [
          [
           0,
           "rgb(103,0,31)"
          ],
          [
           0.1,
           "rgb(178,24,43)"
          ],
          [
           0.2,
           "rgb(214,96,77)"
          ],
          [
           0.3,
           "rgb(244,165,130)"
          ],
          [
           0.4,
           "rgb(253,219,199)"
          ],
          [
           0.5,
           "rgb(247,247,247)"
          ],
          [
           0.6,
           "rgb(209,229,240)"
          ],
          [
           0.7,
           "rgb(146,197,222)"
          ],
          [
           0.8,
           "rgb(67,147,195)"
          ],
          [
           0.9,
           "rgb(33,102,172)"
          ],
          [
           1,
           "rgb(5,48,97)"
          ]
         ]
        },
        "margin": {
         "t": 60
        },
        "template": {
         "data": {
          "bar": [
           {
            "error_x": {
             "color": "#2a3f5f"
            },
            "error_y": {
             "color": "#2a3f5f"
            },
            "marker": {
             "line": {
              "color": "#E5ECF6",
              "width": 0.5
             },
             "pattern": {
              "fillmode": "overlay",
              "size": 10,
              "solidity": 0.2
             }
            },
            "type": "bar"
           }
          ],
          "barpolar": [
           {
            "marker": {
             "line": {
              "color": "#E5ECF6",
              "width": 0.5
             },
             "pattern": {
              "fillmode": "overlay",
              "size": 10,
              "solidity": 0.2
             }
            },
            "type": "barpolar"
           }
          ],
          "carpet": [
           {
            "aaxis": {
             "endlinecolor": "#2a3f5f",
             "gridcolor": "white",
             "linecolor": "white",
             "minorgridcolor": "white",
             "startlinecolor": "#2a3f5f"
            },
            "baxis": {
             "endlinecolor": "#2a3f5f",
             "gridcolor": "white",
             "linecolor": "white",
             "minorgridcolor": "white",
             "startlinecolor": "#2a3f5f"
            },
            "type": "carpet"
           }
          ],
          "choropleth": [
           {
            "colorbar": {
             "outlinewidth": 0,
             "ticks": ""
            },
            "type": "choropleth"
           }
          ],
          "contour": [
           {
            "colorbar": {
             "outlinewidth": 0,
             "ticks": ""
            },
            "colorscale": [
             [
              0,
              "#0d0887"
             ],
             [
              0.1111111111111111,
              "#46039f"
             ],
             [
              0.2222222222222222,
              "#7201a8"
             ],
             [
              0.3333333333333333,
              "#9c179e"
             ],
             [
              0.4444444444444444,
              "#bd3786"
             ],
             [
              0.5555555555555556,
              "#d8576b"
             ],
             [
              0.6666666666666666,
              "#ed7953"
             ],
             [
              0.7777777777777778,
              "#fb9f3a"
             ],
             [
              0.8888888888888888,
              "#fdca26"
             ],
             [
              1,
              "#f0f921"
             ]
            ],
            "type": "contour"
           }
          ],
          "contourcarpet": [
           {
            "colorbar": {
             "outlinewidth": 0,
             "ticks": ""
            },
            "type": "contourcarpet"
           }
          ],
          "heatmap": [
           {
            "colorbar": {
             "outlinewidth": 0,
             "ticks": ""
            },
            "colorscale": [
             [
              0,
              "#0d0887"
             ],
             [
              0.1111111111111111,
              "#46039f"
             ],
             [
              0.2222222222222222,
              "#7201a8"
             ],
             [
              0.3333333333333333,
              "#9c179e"
             ],
             [
              0.4444444444444444,
              "#bd3786"
             ],
             [
              0.5555555555555556,
              "#d8576b"
             ],
             [
              0.6666666666666666,
              "#ed7953"
             ],
             [
              0.7777777777777778,
              "#fb9f3a"
             ],
             [
              0.8888888888888888,
              "#fdca26"
             ],
             [
              1,
              "#f0f921"
             ]
            ],
            "type": "heatmap"
           }
          ],
          "histogram": [
           {
            "marker": {
             "pattern": {
              "fillmode": "overlay",
              "size": 10,
              "solidity": 0.2
             }
            },
            "type": "histogram"
           }
          ],
          "histogram2d": [
           {
            "colorbar": {
             "outlinewidth": 0,
             "ticks": ""
            },
            "colorscale": [
             [
              0,
              "#0d0887"
             ],
             [
              0.1111111111111111,
              "#46039f"
             ],
             [
              0.2222222222222222,
              "#7201a8"
             ],
             [
              0.3333333333333333,
              "#9c179e"
             ],
             [
              0.4444444444444444,
              "#bd3786"
             ],
             [
              0.5555555555555556,
              "#d8576b"
             ],
             [
              0.6666666666666666,
              "#ed7953"
             ],
             [
              0.7777777777777778,
              "#fb9f3a"
             ],
             [
              0.8888888888888888,
              "#fdca26"
             ],
             [
              1,
              "#f0f921"
             ]
            ],
            "type": "histogram2d"
           }
          ],
          "histogram2dcontour": [
           {
            "colorbar": {
             "outlinewidth": 0,
             "ticks": ""
            },
            "colorscale": [
             [
              0,
              "#0d0887"
             ],
             [
              0.1111111111111111,
              "#46039f"
             ],
             [
              0.2222222222222222,
              "#7201a8"
             ],
             [
              0.3333333333333333,
              "#9c179e"
             ],
             [
              0.4444444444444444,
              "#bd3786"
             ],
             [
              0.5555555555555556,
              "#d8576b"
             ],
             [
              0.6666666666666666,
              "#ed7953"
             ],
             [
              0.7777777777777778,
              "#fb9f3a"
             ],
             [
              0.8888888888888888,
              "#fdca26"
             ],
             [
              1,
              "#f0f921"
             ]
            ],
            "type": "histogram2dcontour"
           }
          ],
          "mesh3d": [
           {
            "colorbar": {
             "outlinewidth": 0,
             "ticks": ""
            },
            "type": "mesh3d"
           }
          ],
          "parcoords": [
           {
            "line": {
             "colorbar": {
              "outlinewidth": 0,
              "ticks": ""
             }
            },
            "type": "parcoords"
           }
          ],
          "pie": [
           {
            "automargin": true,
            "type": "pie"
           }
          ],
          "scatter": [
           {
            "fillpattern": {
             "fillmode": "overlay",
             "size": 10,
             "solidity": 0.2
            },
            "type": "scatter"
           }
          ],
          "scatter3d": [
           {
            "line": {
             "colorbar": {
              "outlinewidth": 0,
              "ticks": ""
             }
            },
            "marker": {
             "colorbar": {
              "outlinewidth": 0,
              "ticks": ""
             }
            },
            "type": "scatter3d"
           }
          ],
          "scattercarpet": [
           {
            "marker": {
             "colorbar": {
              "outlinewidth": 0,
              "ticks": ""
             }
            },
            "type": "scattercarpet"
           }
          ],
          "scattergeo": [
           {
            "marker": {
             "colorbar": {
              "outlinewidth": 0,
              "ticks": ""
             }
            },
            "type": "scattergeo"
           }
          ],
          "scattergl": [
           {
            "marker": {
             "colorbar": {
              "outlinewidth": 0,
              "ticks": ""
             }
            },
            "type": "scattergl"
           }
          ],
          "scattermap": [
           {
            "marker": {
             "colorbar": {
              "outlinewidth": 0,
              "ticks": ""
             }
            },
            "type": "scattermap"
           }
          ],
          "scattermapbox": [
           {
            "marker": {
             "colorbar": {
              "outlinewidth": 0,
              "ticks": ""
             }
            },
            "type": "scattermapbox"
           }
          ],
          "scatterpolar": [
           {
            "marker": {
             "colorbar": {
              "outlinewidth": 0,
              "ticks": ""
             }
            },
            "type": "scatterpolar"
           }
          ],
          "scatterpolargl": [
           {
            "marker": {
             "colorbar": {
              "outlinewidth": 0,
              "ticks": ""
             }
            },
            "type": "scatterpolargl"
           }
          ],
          "scatterternary": [
           {
            "marker": {
             "colorbar": {
              "outlinewidth": 0,
              "ticks": ""
             }
            },
            "type": "scatterternary"
           }
          ],
          "surface": [
           {
            "colorbar": {
             "outlinewidth": 0,
             "ticks": ""
            },
            "colorscale": [
             [
              0,
              "#0d0887"
             ],
             [
              0.1111111111111111,
              "#46039f"
             ],
             [
              0.2222222222222222,
              "#7201a8"
             ],
             [
              0.3333333333333333,
              "#9c179e"
             ],
             [
              0.4444444444444444,
              "#bd3786"
             ],
             [
              0.5555555555555556,
              "#d8576b"
             ],
             [
              0.6666666666666666,
              "#ed7953"
             ],
             [
              0.7777777777777778,
              "#fb9f3a"
             ],
             [
              0.8888888888888888,
              "#fdca26"
             ],
             [
              1,
              "#f0f921"
             ]
            ],
            "type": "surface"
           }
          ],
          "table": [
           {
            "cells": {
             "fill": {
              "color": "#EBF0F8"
             },
             "line": {
              "color": "white"
             }
            },
            "header": {
             "fill": {
              "color": "#C8D4E3"
             },
             "line": {
              "color": "white"
             }
            },
            "type": "table"
           }
          ]
         },
         "layout": {
          "annotationdefaults": {
           "arrowcolor": "#2a3f5f",
           "arrowhead": 0,
           "arrowwidth": 1
          },
          "autotypenumbers": "strict",
          "coloraxis": {
           "colorbar": {
            "outlinewidth": 0,
            "ticks": ""
           }
          },
          "colorscale": {
           "diverging": [
            [
             0,
             "#8e0152"
            ],
            [
             0.1,
             "#c51b7d"
            ],
            [
             0.2,
             "#de77ae"
            ],
            [
             0.3,
             "#f1b6da"
            ],
            [
             0.4,
             "#fde0ef"
            ],
            [
             0.5,
             "#f7f7f7"
            ],
            [
             0.6,
             "#e6f5d0"
            ],
            [
             0.7,
             "#b8e186"
            ],
            [
             0.8,
             "#7fbc41"
            ],
            [
             0.9,
             "#4d9221"
            ],
            [
             1,
             "#276419"
            ]
           ],
           "sequential": [
            [
             0,
             "#0d0887"
            ],
            [
             0.1111111111111111,
             "#46039f"
            ],
            [
             0.2222222222222222,
             "#7201a8"
            ],
            [
             0.3333333333333333,
             "#9c179e"
            ],
            [
             0.4444444444444444,
             "#bd3786"
            ],
            [
             0.5555555555555556,
             "#d8576b"
            ],
            [
             0.6666666666666666,
             "#ed7953"
            ],
            [
             0.7777777777777778,
             "#fb9f3a"
            ],
            [
             0.8888888888888888,
             "#fdca26"
            ],
            [
             1,
             "#f0f921"
            ]
           ],
           "sequentialminus": [
            [
             0,
             "#0d0887"
            ],
            [
             0.1111111111111111,
             "#46039f"
            ],
            [
             0.2222222222222222,
             "#7201a8"
            ],
            [
             0.3333333333333333,
             "#9c179e"
            ],
            [
             0.4444444444444444,
             "#bd3786"
            ],
            [
             0.5555555555555556,
             "#d8576b"
            ],
            [
             0.6666666666666666,
             "#ed7953"
            ],
            [
             0.7777777777777778,
             "#fb9f3a"
            ],
            [
             0.8888888888888888,
             "#fdca26"
            ],
            [
             1,
             "#f0f921"
            ]
           ]
          },
          "colorway": [
           "#636efa",
           "#EF553B",
           "#00cc96",
           "#ab63fa",
           "#FFA15A",
           "#19d3f3",
           "#FF6692",
           "#B6E880",
           "#FF97FF",
           "#FECB52"
          ],
          "font": {
           "color": "#2a3f5f"
          },
          "geo": {
           "bgcolor": "white",
           "lakecolor": "white",
           "landcolor": "#E5ECF6",
           "showlakes": true,
           "showland": true,
           "subunitcolor": "white"
          },
          "hoverlabel": {
           "align": "left"
          },
          "hovermode": "closest",
          "mapbox": {
           "style": "light"
          },
          "paper_bgcolor": "white",
          "plot_bgcolor": "#E5ECF6",
          "polar": {
           "angularaxis": {
            "gridcolor": "white",
            "linecolor": "white",
            "ticks": ""
           },
           "bgcolor": "#E5ECF6",
           "radialaxis": {
            "gridcolor": "white",
            "linecolor": "white",
            "ticks": ""
           }
          },
          "scene": {
           "xaxis": {
            "backgroundcolor": "#E5ECF6",
            "gridcolor": "white",
            "gridwidth": 2,
            "linecolor": "white",
            "showbackground": true,
            "ticks": "",
            "zerolinecolor": "white"
           },
           "yaxis": {
            "backgroundcolor": "#E5ECF6",
            "gridcolor": "white",
            "gridwidth": 2,
            "linecolor": "white",
            "showbackground": true,
            "ticks": "",
            "zerolinecolor": "white"
           },
           "zaxis": {
            "backgroundcolor": "#E5ECF6",
            "gridcolor": "white",
            "gridwidth": 2,
            "linecolor": "white",
            "showbackground": true,
            "ticks": "",
            "zerolinecolor": "white"
           }
          },
          "shapedefaults": {
           "line": {
            "color": "#2a3f5f"
           }
          },
          "ternary": {
           "aaxis": {
            "gridcolor": "white",
            "linecolor": "white",
            "ticks": ""
           },
           "baxis": {
            "gridcolor": "white",
            "linecolor": "white",
            "ticks": ""
           },
           "bgcolor": "#E5ECF6",
           "caxis": {
            "gridcolor": "white",
            "linecolor": "white",
            "ticks": ""
           }
          },
          "title": {
           "x": 0.05
          },
          "xaxis": {
           "automargin": true,
           "gridcolor": "white",
           "linecolor": "white",
           "ticks": "",
           "title": {
            "standoff": 15
           },
           "zerolinecolor": "white",
           "zerolinewidth": 2
          },
          "yaxis": {
           "automargin": true,
           "gridcolor": "white",
           "linecolor": "white",
           "ticks": "",
           "title": {
            "standoff": 15
           },
           "zerolinecolor": "white",
           "zerolinewidth": 2
          }
         }
        },
        "xaxis": {
         "anchor": "y",
         "constrain": "domain",
         "domain": [
          0,
          1
         ],
         "scaleanchor": "y"
        },
        "yaxis": {
         "anchor": "x",
         "autorange": "reversed",
         "constrain": "domain",
         "domain": [
          0,
          1
         ]
        }
       }
      }
     },
     "metadata": {},
     "output_type": "display_data"
    },
    {
     "data": {
      "application/vnd.plotly.v1+json": {
       "config": {
        "plotlyServerURL": "https://plot.ly"
       },
       "data": [
        {
         "coloraxis": "coloraxis",
         "hovertemplate": "x: %{x}<br>y: %{y}<br>color: %{z}<extra></extra>",
         "name": "0",
         "type": "heatmap",
         "x": [
          "CARVEDILOL",
          "ESOMEPRAZOLE",
          "LEVOTHYROXINE",
          "TRAMADOL",
          "AMLODIPINE",
          "METOPROLOL",
          "OMEPRAZOLE",
          "SIMVASTATIN",
          "TAMSULOSIN",
          "ALENDRONATE",
          "ATORVASTATIN",
          "LISINOPRIL",
          "LOSARTAN",
          "SERTRALINE",
          "METFORMIN",
          "PIOGLITAZONE",
          "PRAVASTATIN",
          "FUROSEMIDE",
          "POTASSIUM CHLORIDE",
          "HYDROCHLOROTHIAZIDE",
          "ATENOLOL",
          "WARFARIN",
          "ASPIRIN",
          "LOVASTATIN",
          "ALBUTEROL",
          "GLIPIZIDE",
          "RANITIDINE",
          "GABAPENTIN",
          "INSULIN GLARGINE",
          "CLOPIDOGREL",
          "ZOLPIDEM",
          "ALLOPURINOL",
          "CITALOPRAM",
          "PREDNISONE",
          "ROSUVASTATIN",
          "VALSARTAN",
          "IBUPROFEN",
          "FEXOFENADINE",
          "MONTELUKAST",
          "FLUTICASONE NASAL"
         ],
         "xaxis": "x",
         "y": [
          "CARVEDILOL",
          "ESOMEPRAZOLE",
          "LEVOTHYROXINE",
          "TRAMADOL",
          "AMLODIPINE",
          "METOPROLOL",
          "OMEPRAZOLE",
          "SIMVASTATIN",
          "TAMSULOSIN",
          "ALENDRONATE",
          "ATORVASTATIN",
          "LISINOPRIL",
          "LOSARTAN",
          "SERTRALINE",
          "METFORMIN",
          "PIOGLITAZONE",
          "PRAVASTATIN",
          "FUROSEMIDE",
          "POTASSIUM CHLORIDE",
          "HYDROCHLOROTHIAZIDE",
          "ATENOLOL",
          "WARFARIN",
          "ASPIRIN",
          "LOVASTATIN",
          "ALBUTEROL",
          "GLIPIZIDE",
          "RANITIDINE",
          "GABAPENTIN",
          "INSULIN GLARGINE",
          "CLOPIDOGREL",
          "ZOLPIDEM",
          "ALLOPURINOL",
          "CITALOPRAM",
          "PREDNISONE",
          "ROSUVASTATIN",
          "VALSARTAN",
          "IBUPROFEN",
          "FEXOFENADINE",
          "MONTELUKAST",
          "FLUTICASONE NASAL"
         ],
         "yaxis": "y",
         "z": {
          "bdata": "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",
          "dtype": "f8",
          "shape": "40, 40"
         }
        }
       ],
       "layout": {
        "coloraxis": {
         "cmax": 1,
         "cmin": -1,
         "colorscale": [
          [
           0,
           "rgb(103,0,31)"
          ],
          [
           0.1,
           "rgb(178,24,43)"
          ],
          [
           0.2,
           "rgb(214,96,77)"
          ],
          [
           0.3,
           "rgb(244,165,130)"
          ],
          [
           0.4,
           "rgb(253,219,199)"
          ],
          [
           0.5,
           "rgb(247,247,247)"
          ],
          [
           0.6,
           "rgb(209,229,240)"
          ],
          [
           0.7,
           "rgb(146,197,222)"
          ],
          [
           0.8,
           "rgb(67,147,195)"
          ],
          [
           0.9,
           "rgb(33,102,172)"
          ],
          [
           1,
           "rgb(5,48,97)"
          ]
         ]
        },
        "margin": {
         "t": 60
        },
        "template": {
         "data": {
          "bar": [
           {
            "error_x": {
             "color": "#2a3f5f"
            },
            "error_y": {
             "color": "#2a3f5f"
            },
            "marker": {
             "line": {
              "color": "#E5ECF6",
              "width": 0.5
             },
             "pattern": {
              "fillmode": "overlay",
              "size": 10,
              "solidity": 0.2
             }
            },
            "type": "bar"
           }
          ],
          "barpolar": [
           {
            "marker": {
             "line": {
              "color": "#E5ECF6",
              "width": 0.5
             },
             "pattern": {
              "fillmode": "overlay",
              "size": 10,
              "solidity": 0.2
             }
            },
            "type": "barpolar"
           }
          ],
          "carpet": [
           {
            "aaxis": {
             "endlinecolor": "#2a3f5f",
             "gridcolor": "white",
             "linecolor": "white",
             "minorgridcolor": "white",
             "startlinecolor": "#2a3f5f"
            },
            "baxis": {
             "endlinecolor": "#2a3f5f",
             "gridcolor": "white",
             "linecolor": "white",
             "minorgridcolor": "white",
             "startlinecolor": "#2a3f5f"
            },
            "type": "carpet"
           }
          ],
          "choropleth": [
           {
            "colorbar": {
             "outlinewidth": 0,
             "ticks": ""
            },
            "type": "choropleth"
           }
          ],
          "contour": [
           {
            "colorbar": {
             "outlinewidth": 0,
             "ticks": ""
            },
            "colorscale": [
             [
              0,
              "#0d0887"
             ],
             [
              0.1111111111111111,
              "#46039f"
             ],
             [
              0.2222222222222222,
              "#7201a8"
             ],
             [
              0.3333333333333333,
              "#9c179e"
             ],
             [
              0.4444444444444444,
              "#bd3786"
             ],
             [
              0.5555555555555556,
              "#d8576b"
             ],
             [
              0.6666666666666666,
              "#ed7953"
             ],
             [
              0.7777777777777778,
              "#fb9f3a"
             ],
             [
              0.8888888888888888,
              "#fdca26"
             ],
             [
              1,
              "#f0f921"
             ]
            ],
            "type": "contour"
           }
          ],
          "contourcarpet": [
           {
            "colorbar": {
             "outlinewidth": 0,
             "ticks": ""
            },
            "type": "contourcarpet"
           }
          ],
          "heatmap": [
           {
            "colorbar": {
             "outlinewidth": 0,
             "ticks": ""
            },
            "colorscale": [
             [
              0,
              "#0d0887"
             ],
             [
              0.1111111111111111,
              "#46039f"
             ],
             [
              0.2222222222222222,
              "#7201a8"
             ],
             [
              0.3333333333333333,
              "#9c179e"
             ],
             [
              0.4444444444444444,
              "#bd3786"
             ],
             [
              0.5555555555555556,
              "#d8576b"
             ],
             [
              0.6666666666666666,
              "#ed7953"
             ],
             [
              0.7777777777777778,
              "#fb9f3a"
             ],
             [
              0.8888888888888888,
              "#fdca26"
             ],
             [
              1,
              "#f0f921"
             ]
            ],
            "type": "heatmap"
           }
          ],
          "histogram": [
           {
            "marker": {
             "pattern": {
              "fillmode": "overlay",
              "size": 10,
              "solidity": 0.2
             }
            },
            "type": "histogram"
           }
          ],
          "histogram2d": [
           {
            "colorbar": {
             "outlinewidth": 0,
             "ticks": ""
            },
            "colorscale": [
             [
              0,
              "#0d0887"
             ],
             [
              0.1111111111111111,
              "#46039f"
             ],
             [
              0.2222222222222222,
              "#7201a8"
             ],
             [
              0.3333333333333333,
              "#9c179e"
             ],
             [
              0.4444444444444444,
              "#bd3786"
             ],
             [
              0.5555555555555556,
              "#d8576b"
             ],
             [
              0.6666666666666666,
              "#ed7953"
             ],
             [
              0.7777777777777778,
              "#fb9f3a"
             ],
             [
              0.8888888888888888,
              "#fdca26"
             ],
             [
              1,
              "#f0f921"
             ]
            ],
            "type": "histogram2d"
           }
          ],
          "histogram2dcontour": [
           {
            "colorbar": {
             "outlinewidth": 0,
             "ticks": ""
            },
            "colorscale": [
             [
              0,
              "#0d0887"
             ],
             [
              0.1111111111111111,
              "#46039f"
             ],
             [
              0.2222222222222222,
              "#7201a8"
             ],
             [
              0.3333333333333333,
              "#9c179e"
             ],
             [
              0.4444444444444444,
              "#bd3786"
             ],
             [
              0.5555555555555556,
              "#d8576b"
             ],
             [
              0.6666666666666666,
              "#ed7953"
             ],
             [
              0.7777777777777778,
              "#fb9f3a"
             ],
             [
              0.8888888888888888,
              "#fdca26"
             ],
             [
              1,
              "#f0f921"
             ]
            ],
            "type": "histogram2dcontour"
           }
          ],
          "mesh3d": [
           {
            "colorbar": {
             "outlinewidth": 0,
             "ticks": ""
            },
            "type": "mesh3d"
           }
          ],
          "parcoords": [
           {
            "line": {
             "colorbar": {
              "outlinewidth": 0,
              "ticks": ""
             }
            },
            "type": "parcoords"
           }
          ],
          "pie": [
           {
            "automargin": true,
            "type": "pie"
           }
          ],
          "scatter": [
           {
            "fillpattern": {
             "fillmode": "overlay",
             "size": 10,
             "solidity": 0.2
            },
            "type": "scatter"
           }
          ],
          "scatter3d": [
           {
            "line": {
             "colorbar": {
              "outlinewidth": 0,
              "ticks": ""
             }
            },
            "marker": {
             "colorbar": {
              "outlinewidth": 0,
              "ticks": ""
             }
            },
            "type": "scatter3d"
           }
          ],
          "scattercarpet": [
           {
            "marker": {
             "colorbar": {
              "outlinewidth": 0,
              "ticks": ""
             }
            },
            "type": "scattercarpet"
           }
          ],
          "scattergeo": [
           {
            "marker": {
             "colorbar": {
              "outlinewidth": 0,
              "ticks": ""
             }
            },
            "type": "scattergeo"
           }
          ],
          "scattergl": [
           {
            "marker": {
             "colorbar": {
              "outlinewidth": 0,
              "ticks": ""
             }
            },
            "type": "scattergl"
           }
          ],
          "scattermap": [
           {
            "marker": {
             "colorbar": {
              "outlinewidth": 0,
              "ticks": ""
             }
            },
            "type": "scattermap"
           }
          ],
          "scattermapbox": [
           {
            "marker": {
             "colorbar": {
              "outlinewidth": 0,
              "ticks": ""
             }
            },
            "type": "scattermapbox"
           }
          ],
          "scatterpolar": [
           {
            "marker": {
             "colorbar": {
              "outlinewidth": 0,
              "ticks": ""
             }
            },
            "type": "scatterpolar"
           }
          ],
          "scatterpolargl": [
           {
            "marker": {
             "colorbar": {
              "outlinewidth": 0,
              "ticks": ""
             }
            },
            "type": "scatterpolargl"
           }
          ],
          "scatterternary": [
           {
            "marker": {
             "colorbar": {
              "outlinewidth": 0,
              "ticks": ""
             }
            },
            "type": "scatterternary"
           }
          ],
          "surface": [
           {
            "colorbar": {
             "outlinewidth": 0,
             "ticks": ""
            },
            "colorscale": [
             [
              0,
              "#0d0887"
             ],
             [
              0.1111111111111111,
              "#46039f"
             ],
             [
              0.2222222222222222,
              "#7201a8"
             ],
             [
              0.3333333333333333,
              "#9c179e"
             ],
             [
              0.4444444444444444,
              "#bd3786"
             ],
             [
              0.5555555555555556,
              "#d8576b"
             ],
             [
              0.6666666666666666,
              "#ed7953"
             ],
             [
              0.7777777777777778,
              "#fb9f3a"
             ],
             [
              0.8888888888888888,
              "#fdca26"
             ],
             [
              1,
              "#f0f921"
             ]
            ],
            "type": "surface"
           }
          ],
          "table": [
           {
            "cells": {
             "fill": {
              "color": "#EBF0F8"
             },
             "line": {
              "color": "white"
             }
            },
            "header": {
             "fill": {
              "color": "#C8D4E3"
             },
             "line": {
              "color": "white"
             }
            },
            "type": "table"
           }
          ]
         },
         "layout": {
          "annotationdefaults": {
           "arrowcolor": "#2a3f5f",
           "arrowhead": 0,
           "arrowwidth": 1
          },
          "autotypenumbers": "strict",
          "coloraxis": {
           "colorbar": {
            "outlinewidth": 0,
            "ticks": ""
           }
          },
          "colorscale": {
           "diverging": [
            [
             0,
             "#8e0152"
            ],
            [
             0.1,
             "#c51b7d"
            ],
            [
             0.2,
             "#de77ae"
            ],
            [
             0.3,
             "#f1b6da"
            ],
            [
             0.4,
             "#fde0ef"
            ],
            [
             0.5,
             "#f7f7f7"
            ],
            [
             0.6,
             "#e6f5d0"
            ],
            [
             0.7,
             "#b8e186"
            ],
            [
             0.8,
             "#7fbc41"
            ],
            [
             0.9,
             "#4d9221"
            ],
            [
             1,
             "#276419"
            ]
           ],
           "sequential": [
            [
             0,
             "#0d0887"
            ],
            [
             0.1111111111111111,
             "#46039f"
            ],
            [
             0.2222222222222222,
             "#7201a8"
            ],
            [
             0.3333333333333333,
             "#9c179e"
            ],
            [
             0.4444444444444444,
             "#bd3786"
            ],
            [
             0.5555555555555556,
             "#d8576b"
            ],
            [
             0.6666666666666666,
             "#ed7953"
            ],
            [
             0.7777777777777778,
             "#fb9f3a"
            ],
            [
             0.8888888888888888,
             "#fdca26"
            ],
            [
             1,
             "#f0f921"
            ]
           ],
           "sequentialminus": [
            [
             0,
             "#0d0887"
            ],
            [
             0.1111111111111111,
             "#46039f"
            ],
            [
             0.2222222222222222,
             "#7201a8"
            ],
            [
             0.3333333333333333,
             "#9c179e"
            ],
            [
             0.4444444444444444,
             "#bd3786"
            ],
            [
             0.5555555555555556,
             "#d8576b"
            ],
            [
             0.6666666666666666,
             "#ed7953"
            ],
            [
             0.7777777777777778,
             "#fb9f3a"
            ],
            [
             0.8888888888888888,
             "#fdca26"
            ],
            [
             1,
             "#f0f921"
            ]
           ]
          },
          "colorway": [
           "#636efa",
           "#EF553B",
           "#00cc96",
           "#ab63fa",
           "#FFA15A",
           "#19d3f3",
           "#FF6692",
           "#B6E880",
           "#FF97FF",
           "#FECB52"
          ],
          "font": {
           "color": "#2a3f5f"
          },
          "geo": {
           "bgcolor": "white",
           "lakecolor": "white",
           "landcolor": "#E5ECF6",
           "showlakes": true,
           "showland": true,
           "subunitcolor": "white"
          },
          "hoverlabel": {
           "align": "left"
          },
          "hovermode": "closest",
          "mapbox": {
           "style": "light"
          },
          "paper_bgcolor": "white",
          "plot_bgcolor": "#E5ECF6",
          "polar": {
           "angularaxis": {
            "gridcolor": "white",
            "linecolor": "white",
            "ticks": ""
           },
           "bgcolor": "#E5ECF6",
           "radialaxis": {
            "gridcolor": "white",
            "linecolor": "white",
            "ticks": ""
           }
          },
          "scene": {
           "xaxis": {
            "backgroundcolor": "#E5ECF6",
            "gridcolor": "white",
            "gridwidth": 2,
            "linecolor": "white",
            "showbackground": true,
            "ticks": "",
            "zerolinecolor": "white"
           },
           "yaxis": {
            "backgroundcolor": "#E5ECF6",
            "gridcolor": "white",
            "gridwidth": 2,
            "linecolor": "white",
            "showbackground": true,
            "ticks": "",
            "zerolinecolor": "white"
           },
           "zaxis": {
            "backgroundcolor": "#E5ECF6",
            "gridcolor": "white",
            "gridwidth": 2,
            "linecolor": "white",
            "showbackground": true,
            "ticks": "",
            "zerolinecolor": "white"
           }
          },
          "shapedefaults": {
           "line": {
            "color": "#2a3f5f"
           }
          },
          "ternary": {
           "aaxis": {
            "gridcolor": "white",
            "linecolor": "white",
            "ticks": ""
           },
           "baxis": {
            "gridcolor": "white",
            "linecolor": "white",
            "ticks": ""
           },
           "bgcolor": "#E5ECF6",
           "caxis": {
            "gridcolor": "white",
            "linecolor": "white",
            "ticks": ""
           }
          },
          "title": {
           "x": 0.05
          },
          "xaxis": {
           "automargin": true,
           "gridcolor": "white",
           "linecolor": "white",
           "ticks": "",
           "title": {
            "standoff": 15
           },
           "zerolinecolor": "white",
           "zerolinewidth": 2
          },
          "yaxis": {
           "automargin": true,
           "gridcolor": "white",
           "linecolor": "white",
           "ticks": "",
           "title": {
            "standoff": 15
           },
           "zerolinecolor": "white",
           "zerolinewidth": 2
          }
         }
        },
        "xaxis": {
         "anchor": "y",
         "constrain": "domain",
         "domain": [
          0,
          1
         ],
         "scaleanchor": "y"
        },
        "yaxis": {
         "anchor": "x",
         "autorange": "reversed",
         "constrain": "domain",
         "domain": [
          0,
          1
         ]
        }
       }
      }
     },
     "metadata": {},
     "output_type": "display_data"
    },
    {
     "data": {
      "application/vnd.plotly.v1+json": {
       "config": {
        "plotlyServerURL": "https://plot.ly"
       },
       "data": [
        {
         "hovertemplate": "x=%{x}<br>y=%{y}<extra></extra>",
         "legendgroup": "",
         "marker": {
          "color": "#636efa",
          "pattern": {
           "shape": ""
          }
         },
         "name": "",
         "orientation": "v",
         "showlegend": false,
         "textposition": "auto",
         "type": "bar",
         "x": [
          "CARVEDILOL",
          "ESOMEPRAZOLE",
          "LEVOTHYROXINE",
          "TRAMADOL",
          "AMLODIPINE",
          "METOPROLOL",
          "OMEPRAZOLE",
          "SIMVASTATIN",
          "TAMSULOSIN",
          "ALENDRONATE",
          "ATORVASTATIN",
          "LISINOPRIL",
          "LOSARTAN",
          "SERTRALINE",
          "METFORMIN",
          "PIOGLITAZONE",
          "PRAVASTATIN",
          "FUROSEMIDE",
          "POTASSIUM CHLORIDE",
          "HYDROCHLOROTHIAZIDE",
          "ATENOLOL",
          "WARFARIN",
          "ASPIRIN",
          "LOVASTATIN",
          "ALBUTEROL",
          "GLIPIZIDE",
          "RANITIDINE",
          "GABAPENTIN",
          "INSULIN GLARGINE",
          "CLOPIDOGREL",
          "ZOLPIDEM",
          "ALLOPURINOL",
          "CITALOPRAM",
          "PREDNISONE",
          "ROSUVASTATIN",
          "VALSARTAN",
          "IBUPROFEN",
          "FEXOFENADINE",
          "MONTELUKAST",
          "FLUTICASONE NASAL"
         ],
         "xaxis": "x",
         "y": {
          "bdata": "8xrKayivsT/uI7iP4D6yP8F9BPcR3Mc/MZ3FdBbTqT8N5TWU11DGP8Z0FtNZTM8/MZ3FdBbTwT8or6G8hvLSP3AfwX0E96E/Q3kN5TWUpz+rqqqqqqrCPxvKayivodQ/Ce4juI/grj9wH8F9BPehP89iOovpLM4/H8F9BPcRrD8or6G8hvKqP6uqqqqqqsI/XkN5DeU1tD+Q4D6C+wjGPzaU11BeQ8E/ymsor6G8tj/YUF5DeQ21PxbTWUxnMa0/SHAfwX0Etz8kuI/gPoK7PyivobyG8qo/DeU1lNdQrj9DeQ3lNZSnP+4juI/gPrI/cB/BfQT3oT9RXkN5DeWlP0N5DeU1lKc/BPcR3Edwnz8N5TWU11CuP3UW01lMZ7E/P4L7CO4jqD9sKK+hvIaiP2cxncV0FqM/fgT3EdxHoD8=",
          "dtype": "f8"
         },
         "yaxis": "y"
        }
       ],
       "layout": {
        "barmode": "relative",
        "legend": {
         "tracegroupgap": 0
        },
        "margin": {
         "t": 60
        },
        "template": {
         "data": {
          "bar": [
           {
            "error_x": {
             "color": "#2a3f5f"
            },
            "error_y": {
             "color": "#2a3f5f"
            },
            "marker": {
             "line": {
              "color": "#E5ECF6",
              "width": 0.5
             },
             "pattern": {
              "fillmode": "overlay",
              "size": 10,
              "solidity": 0.2
             }
            },
            "type": "bar"
           }
          ],
          "barpolar": [
           {
            "marker": {
             "line": {
              "color": "#E5ECF6",
              "width": 0.5
             },
             "pattern": {
              "fillmode": "overlay",
              "size": 10,
              "solidity": 0.2
             }
            },
            "type": "barpolar"
           }
          ],
          "carpet": [
           {
            "aaxis": {
             "endlinecolor": "#2a3f5f",
             "gridcolor": "white",
             "linecolor": "white",
             "minorgridcolor": "white",
             "startlinecolor": "#2a3f5f"
            },
            "baxis": {
             "endlinecolor": "#2a3f5f",
             "gridcolor": "white",
             "linecolor": "white",
             "minorgridcolor": "white",
             "startlinecolor": "#2a3f5f"
            },
            "type": "carpet"
           }
          ],
          "choropleth": [
           {
            "colorbar": {
             "outlinewidth": 0,
             "ticks": ""
            },
            "type": "choropleth"
           }
          ],
          "contour": [
           {
            "colorbar": {
             "outlinewidth": 0,
             "ticks": ""
            },
            "colorscale": [
             [
              0,
              "#0d0887"
             ],
             [
              0.1111111111111111,
              "#46039f"
             ],
             [
              0.2222222222222222,
              "#7201a8"
             ],
             [
              0.3333333333333333,
              "#9c179e"
             ],
             [
              0.4444444444444444,
              "#bd3786"
             ],
             [
              0.5555555555555556,
              "#d8576b"
             ],
             [
              0.6666666666666666,
              "#ed7953"
             ],
             [
              0.7777777777777778,
              "#fb9f3a"
             ],
             [
              0.8888888888888888,
              "#fdca26"
             ],
             [
              1,
              "#f0f921"
             ]
            ],
            "type": "contour"
           }
          ],
          "contourcarpet": [
           {
            "colorbar": {
             "outlinewidth": 0,
             "ticks": ""
            },
            "type": "contourcarpet"
           }
          ],
          "heatmap": [
           {
            "colorbar": {
             "outlinewidth": 0,
             "ticks": ""
            },
            "colorscale": [
             [
              0,
              "#0d0887"
             ],
             [
              0.1111111111111111,
              "#46039f"
             ],
             [
              0.2222222222222222,
              "#7201a8"
             ],
             [
              0.3333333333333333,
              "#9c179e"
             ],
             [
              0.4444444444444444,
              "#bd3786"
             ],
             [
              0.5555555555555556,
              "#d8576b"
             ],
             [
              0.6666666666666666,
              "#ed7953"
             ],
             [
              0.7777777777777778,
              "#fb9f3a"
             ],
             [
              0.8888888888888888,
              "#fdca26"
             ],
             [
              1,
              "#f0f921"
             ]
            ],
            "type": "heatmap"
           }
          ],
          "histogram": [
           {
            "marker": {
             "pattern": {
              "fillmode": "overlay",
              "size": 10,
              "solidity": 0.2
             }
            },
            "type": "histogram"
           }
          ],
          "histogram2d": [
           {
            "colorbar": {
             "outlinewidth": 0,
             "ticks": ""
            },
            "colorscale": [
             [
              0,
              "#0d0887"
             ],
             [
              0.1111111111111111,
              "#46039f"
             ],
             [
              0.2222222222222222,
              "#7201a8"
             ],
             [
              0.3333333333333333,
              "#9c179e"
             ],
             [
              0.4444444444444444,
              "#bd3786"
             ],
             [
              0.5555555555555556,
              "#d8576b"
             ],
             [
              0.6666666666666666,
              "#ed7953"
             ],
             [
              0.7777777777777778,
              "#fb9f3a"
             ],
             [
              0.8888888888888888,
              "#fdca26"
             ],
             [
              1,
              "#f0f921"
             ]
            ],
            "type": "histogram2d"
           }
          ],
          "histogram2dcontour": [
           {
            "colorbar": {
             "outlinewidth": 0,
             "ticks": ""
            },
            "colorscale": [
             [
              0,
              "#0d0887"
             ],
             [
              0.1111111111111111,
              "#46039f"
             ],
             [
              0.2222222222222222,
              "#7201a8"
             ],
             [
              0.3333333333333333,
              "#9c179e"
             ],
             [
              0.4444444444444444,
              "#bd3786"
             ],
             [
              0.5555555555555556,
              "#d8576b"
             ],
             [
              0.6666666666666666,
              "#ed7953"
             ],
             [
              0.7777777777777778,
              "#fb9f3a"
             ],
             [
              0.8888888888888888,
              "#fdca26"
             ],
             [
              1,
              "#f0f921"
             ]
            ],
            "type": "histogram2dcontour"
           }
          ],
          "mesh3d": [
           {
            "colorbar": {
             "outlinewidth": 0,
             "ticks": ""
            },
            "type": "mesh3d"
           }
          ],
          "parcoords": [
           {
            "line": {
             "colorbar": {
              "outlinewidth": 0,
              "ticks": ""
             }
            },
            "type": "parcoords"
           }
          ],
          "pie": [
           {
            "automargin": true,
            "type": "pie"
           }
          ],
          "scatter": [
           {
            "fillpattern": {
             "fillmode": "overlay",
             "size": 10,
             "solidity": 0.2
            },
            "type": "scatter"
           }
          ],
          "scatter3d": [
           {
            "line": {
             "colorbar": {
              "outlinewidth": 0,
              "ticks": ""
             }
            },
            "marker": {
             "colorbar": {
              "outlinewidth": 0,
              "ticks": ""
             }
            },
            "type": "scatter3d"
           }
          ],
          "scattercarpet": [
           {
            "marker": {
             "colorbar": {
              "outlinewidth": 0,
              "ticks": ""
             }
            },
            "type": "scattercarpet"
           }
          ],
          "scattergeo": [
           {
            "marker": {
             "colorbar": {
              "outlinewidth": 0,
              "ticks": ""
             }
            },
            "type": "scattergeo"
           }
          ],
          "scattergl": [
           {
            "marker": {
             "colorbar": {
              "outlinewidth": 0,
              "ticks": ""
             }
            },
            "type": "scattergl"
           }
          ],
          "scattermap": [
           {
            "marker": {
             "colorbar": {
              "outlinewidth": 0,
              "ticks": ""
             }
            },
            "type": "scattermap"
           }
          ],
          "scattermapbox": [
           {
            "marker": {
             "colorbar": {
              "outlinewidth": 0,
              "ticks": ""
             }
            },
            "type": "scattermapbox"
           }
          ],
          "scatterpolar": [
           {
            "marker": {
             "colorbar": {
              "outlinewidth": 0,
              "ticks": ""
             }
            },
            "type": "scatterpolar"
           }
          ],
          "scatterpolargl": [
           {
            "marker": {
             "colorbar": {
              "outlinewidth": 0,
              "ticks": ""
             }
            },
            "type": "scatterpolargl"
           }
          ],
          "scatterternary": [
           {
            "marker": {
             "colorbar": {
              "outlinewidth": 0,
              "ticks": ""
             }
            },
            "type": "scatterternary"
           }
          ],
          "surface": [
           {
            "colorbar": {
             "outlinewidth": 0,
             "ticks": ""
            },
            "colorscale": [
             [
              0,
              "#0d0887"
             ],
             [
              0.1111111111111111,
              "#46039f"
             ],
             [
              0.2222222222222222,
              "#7201a8"
             ],
             [
              0.3333333333333333,
              "#9c179e"
             ],
             [
              0.4444444444444444,
              "#bd3786"
             ],
             [
              0.5555555555555556,
              "#d8576b"
             ],
             [
              0.6666666666666666,
              "#ed7953"
             ],
             [
              0.7777777777777778,
              "#fb9f3a"
             ],
             [
              0.8888888888888888,
              "#fdca26"
             ],
             [
              1,
              "#f0f921"
             ]
            ],
            "type": "surface"
           }
          ],
          "table": [
           {
            "cells": {
             "fill": {
              "color": "#EBF0F8"
             },
             "line": {
              "color": "white"
             }
            },
            "header": {
             "fill": {
              "color": "#C8D4E3"
             },
             "line": {
              "color": "white"
             }
            },
            "type": "table"
           }
          ]
         },
         "layout": {
          "annotationdefaults": {
           "arrowcolor": "#2a3f5f",
           "arrowhead": 0,
           "arrowwidth": 1
          },
          "autotypenumbers": "strict",
          "coloraxis": {
           "colorbar": {
            "outlinewidth": 0,
            "ticks": ""
           }
          },
          "colorscale": {
           "diverging": [
            [
             0,
             "#8e0152"
            ],
            [
             0.1,
             "#c51b7d"
            ],
            [
             0.2,
             "#de77ae"
            ],
            [
             0.3,
             "#f1b6da"
            ],
            [
             0.4,
             "#fde0ef"
            ],
            [
             0.5,
             "#f7f7f7"
            ],
            [
             0.6,
             "#e6f5d0"
            ],
            [
             0.7,
             "#b8e186"
            ],
            [
             0.8,
             "#7fbc41"
            ],
            [
             0.9,
             "#4d9221"
            ],
            [
             1,
             "#276419"
            ]
           ],
           "sequential": [
            [
             0,
             "#0d0887"
            ],
            [
             0.1111111111111111,
             "#46039f"
            ],
            [
             0.2222222222222222,
             "#7201a8"
            ],
            [
             0.3333333333333333,
             "#9c179e"
            ],
            [
             0.4444444444444444,
             "#bd3786"
            ],
            [
             0.5555555555555556,
             "#d8576b"
            ],
            [
             0.6666666666666666,
             "#ed7953"
            ],
            [
             0.7777777777777778,
             "#fb9f3a"
            ],
            [
             0.8888888888888888,
             "#fdca26"
            ],
            [
             1,
             "#f0f921"
            ]
           ],
           "sequentialminus": [
            [
             0,
             "#0d0887"
            ],
            [
             0.1111111111111111,
             "#46039f"
            ],
            [
             0.2222222222222222,
             "#7201a8"
            ],
            [
             0.3333333333333333,
             "#9c179e"
            ],
            [
             0.4444444444444444,
             "#bd3786"
            ],
            [
             0.5555555555555556,
             "#d8576b"
            ],
            [
             0.6666666666666666,
             "#ed7953"
            ],
            [
             0.7777777777777778,
             "#fb9f3a"
            ],
            [
             0.8888888888888888,
             "#fdca26"
            ],
            [
             1,
             "#f0f921"
            ]
           ]
          },
          "colorway": [
           "#636efa",
           "#EF553B",
           "#00cc96",
           "#ab63fa",
           "#FFA15A",
           "#19d3f3",
           "#FF6692",
           "#B6E880",
           "#FF97FF",
           "#FECB52"
          ],
          "font": {
           "color": "#2a3f5f"
          },
          "geo": {
           "bgcolor": "white",
           "lakecolor": "white",
           "landcolor": "#E5ECF6",
           "showlakes": true,
           "showland": true,
           "subunitcolor": "white"
          },
          "hoverlabel": {
           "align": "left"
          },
          "hovermode": "closest",
          "mapbox": {
           "style": "light"
          },
          "paper_bgcolor": "white",
          "plot_bgcolor": "#E5ECF6",
          "polar": {
           "angularaxis": {
            "gridcolor": "white",
            "linecolor": "white",
            "ticks": ""
           },
           "bgcolor": "#E5ECF6",
           "radialaxis": {
            "gridcolor": "white",
            "linecolor": "white",
            "ticks": ""
           }
          },
          "scene": {
           "xaxis": {
            "backgroundcolor": "#E5ECF6",
            "gridcolor": "white",
            "gridwidth": 2,
            "linecolor": "white",
            "showbackground": true,
            "ticks": "",
            "zerolinecolor": "white"
           },
           "yaxis": {
            "backgroundcolor": "#E5ECF6",
            "gridcolor": "white",
            "gridwidth": 2,
            "linecolor": "white",
            "showbackground": true,
            "ticks": "",
            "zerolinecolor": "white"
           },
           "zaxis": {
            "backgroundcolor": "#E5ECF6",
            "gridcolor": "white",
            "gridwidth": 2,
            "linecolor": "white",
            "showbackground": true,
            "ticks": "",
            "zerolinecolor": "white"
           }
          },
          "shapedefaults": {
           "line": {
            "color": "#2a3f5f"
           }
          },
          "ternary": {
           "aaxis": {
            "gridcolor": "white",
            "linecolor": "white",
            "ticks": ""
           },
           "baxis": {
            "gridcolor": "white",
            "linecolor": "white",
            "ticks": ""
           },
           "bgcolor": "#E5ECF6",
           "caxis": {
            "gridcolor": "white",
            "linecolor": "white",
            "ticks": ""
           }
          },
          "title": {
           "x": 0.05
          },
          "xaxis": {
           "automargin": true,
           "gridcolor": "white",
           "linecolor": "white",
           "ticks": "",
           "title": {
            "standoff": 15
           },
           "zerolinecolor": "white",
           "zerolinewidth": 2
          },
          "yaxis": {
           "automargin": true,
           "gridcolor": "white",
           "linecolor": "white",
           "ticks": "",
           "title": {
            "standoff": 15
           },
           "zerolinecolor": "white",
           "zerolinewidth": 2
          }
         }
        },
        "xaxis": {
         "anchor": "y",
         "categoryorder": "total descending",
         "domain": [
          0,
          1
         ],
         "title": {
          "text": "x"
         }
        },
        "yaxis": {
         "anchor": "x",
         "domain": [
          0,
          1
         ],
         "title": {
          "text": "y"
         }
        }
       }
      }
     },
     "metadata": {},
     "output_type": "display_data"
    },
    {
     "data": {
      "application/vnd.plotly.v1+json": {
       "config": {
        "plotlyServerURL": "https://plot.ly"
       },
       "data": [
        {
         "hovertemplate": "x=%{x}<br>y=%{y}<extra></extra>",
         "legendgroup": "",
         "marker": {
          "color": "#636efa",
          "pattern": {
           "shape": ""
          }
         },
         "name": "",
         "orientation": "v",
         "showlegend": false,
         "textposition": "auto",
         "type": "bar",
         "x": [
          "CARVEDILOL",
          "ESOMEPRAZOLE",
          "LEVOTHYROXINE",
          "TRAMADOL",
          "AMLODIPINE",
          "METOPROLOL",
          "OMEPRAZOLE",
          "SIMVASTATIN",
          "TAMSULOSIN",
          "ALENDRONATE",
          "ATORVASTATIN",
          "LISINOPRIL",
          "LOSARTAN",
          "SERTRALINE",
          "METFORMIN",
          "PIOGLITAZONE",
          "PRAVASTATIN",
          "FUROSEMIDE",
          "POTASSIUM CHLORIDE",
          "HYDROCHLOROTHIAZIDE",
          "ATENOLOL",
          "WARFARIN",
          "ASPIRIN",
          "LOVASTATIN",
          "ALBUTEROL",
          "GLIPIZIDE",
          "RANITIDINE",
          "GABAPENTIN",
          "INSULIN GLARGINE",
          "CLOPIDOGREL",
          "ZOLPIDEM",
          "ALLOPURINOL",
          "CITALOPRAM",
          "PREDNISONE",
          "ROSUVASTATIN",
          "VALSARTAN",
          "IBUPROFEN",
          "FEXOFENADINE",
          "MONTELUKAST",
          "FLUTICASONE NASAL"
         ],
         "xaxis": "x",
         "y": {
          "bdata": "rIvbaABvsT+LbOf7qfGyPw+cM6K0N8g/iUFg5dAiqz8QWDm0yHbGP2+BBMWPMc8/8KfGSzeJwT8GgZVDi2zTP3/7OnDOiKI/Vp+rrdhfpj/T3uALk6nCP1YOLbKd79M/5x2n6Egurz+gibDh6ZWiP76fGi/dJM4/yXa+nxovrT9rmnecoiOpP42XbhKDwMI/ak3zjlN0tD+srdhfdk/GP4nS3uALk8E/9bnaiv1ltz8BTYQNT6+0P588LNSa5q0/yxDHuriNtj8QejarPle7P07RkVz+Q6o/PnlYqDXNqz/D0ytlGeKoPzvfT42XbrI/bcX+snvyoD+V1AloImyoP9QrZRniWKc/dnEbDeAtoD8ZBFYOLbKtP8GopE5AE7E/f9k9eViopT+x4emVsgyhPzj4wmSqYKQ/KqkT0ETYoD8=",
          "dtype": "f8"
         },
         "yaxis": "y"
        }
       ],
       "layout": {
        "barmode": "relative",
        "legend": {
         "tracegroupgap": 0
        },
        "margin": {
         "t": 60
        },
        "template": {
         "data": {
          "bar": [
           {
            "error_x": {
             "color": "#2a3f5f"
            },
            "error_y": {
             "color": "#2a3f5f"
            },
            "marker": {
             "line": {
              "color": "#E5ECF6",
              "width": 0.5
             },
             "pattern": {
              "fillmode": "overlay",
              "size": 10,
              "solidity": 0.2
             }
            },
            "type": "bar"
           }
          ],
          "barpolar": [
           {
            "marker": {
             "line": {
              "color": "#E5ECF6",
              "width": 0.5
             },
             "pattern": {
              "fillmode": "overlay",
              "size": 10,
              "solidity": 0.2
             }
            },
            "type": "barpolar"
           }
          ],
          "carpet": [
           {
            "aaxis": {
             "endlinecolor": "#2a3f5f",
             "gridcolor": "white",
             "linecolor": "white",
             "minorgridcolor": "white",
             "startlinecolor": "#2a3f5f"
            },
            "baxis": {
             "endlinecolor": "#2a3f5f",
             "gridcolor": "white",
             "linecolor": "white",
             "minorgridcolor": "white",
             "startlinecolor": "#2a3f5f"
            },
            "type": "carpet"
           }
          ],
          "choropleth": [
           {
            "colorbar": {
             "outlinewidth": 0,
             "ticks": ""
            },
            "type": "choropleth"
           }
          ],
          "contour": [
           {
            "colorbar": {
             "outlinewidth": 0,
             "ticks": ""
            },
            "colorscale": [
             [
              0,
              "#0d0887"
             ],
             [
              0.1111111111111111,
              "#46039f"
             ],
             [
              0.2222222222222222,
              "#7201a8"
             ],
             [
              0.3333333333333333,
              "#9c179e"
             ],
             [
              0.4444444444444444,
              "#bd3786"
             ],
             [
              0.5555555555555556,
              "#d8576b"
             ],
             [
              0.6666666666666666,
              "#ed7953"
             ],
             [
              0.7777777777777778,
              "#fb9f3a"
             ],
             [
              0.8888888888888888,
              "#fdca26"
             ],
             [
              1,
              "#f0f921"
             ]
            ],
            "type": "contour"
           }
          ],
          "contourcarpet": [
           {
            "colorbar": {
             "outlinewidth": 0,
             "ticks": ""
            },
            "type": "contourcarpet"
           }
          ],
          "heatmap": [
           {
            "colorbar": {
             "outlinewidth": 0,
             "ticks": ""
            },
            "colorscale": [
             [
              0,
              "#0d0887"
             ],
             [
              0.1111111111111111,
              "#46039f"
             ],
             [
              0.2222222222222222,
              "#7201a8"
             ],
             [
              0.3333333333333333,
              "#9c179e"
             ],
             [
              0.4444444444444444,
              "#bd3786"
             ],
             [
              0.5555555555555556,
              "#d8576b"
             ],
             [
              0.6666666666666666,
              "#ed7953"
             ],
             [
              0.7777777777777778,
              "#fb9f3a"
             ],
             [
              0.8888888888888888,
              "#fdca26"
             ],
             [
              1,
              "#f0f921"
             ]
            ],
            "type": "heatmap"
           }
          ],
          "histogram": [
           {
            "marker": {
             "pattern": {
              "fillmode": "overlay",
              "size": 10,
              "solidity": 0.2
             }
            },
            "type": "histogram"
           }
          ],
          "histogram2d": [
           {
            "colorbar": {
             "outlinewidth": 0,
             "ticks": ""
            },
            "colorscale": [
             [
              0,
              "#0d0887"
             ],
             [
              0.1111111111111111,
              "#46039f"
             ],
             [
              0.2222222222222222,
              "#7201a8"
             ],
             [
              0.3333333333333333,
              "#9c179e"
             ],
             [
              0.4444444444444444,
              "#bd3786"
             ],
             [
              0.5555555555555556,
              "#d8576b"
             ],
             [
              0.6666666666666666,
              "#ed7953"
             ],
             [
              0.7777777777777778,
              "#fb9f3a"
             ],
             [
              0.8888888888888888,
              "#fdca26"
             ],
             [
              1,
              "#f0f921"
             ]
            ],
            "type": "histogram2d"
           }
          ],
          "histogram2dcontour": [
           {
            "colorbar": {
             "outlinewidth": 0,
             "ticks": ""
            },
            "colorscale": [
             [
              0,
              "#0d0887"
             ],
             [
              0.1111111111111111,
              "#46039f"
             ],
             [
              0.2222222222222222,
              "#7201a8"
             ],
             [
              0.3333333333333333,
              "#9c179e"
             ],
             [
              0.4444444444444444,
              "#bd3786"
             ],
             [
              0.5555555555555556,
              "#d8576b"
             ],
             [
              0.6666666666666666,
              "#ed7953"
             ],
             [
              0.7777777777777778,
              "#fb9f3a"
             ],
             [
              0.8888888888888888,
              "#fdca26"
             ],
             [
              1,
              "#f0f921"
             ]
            ],
            "type": "histogram2dcontour"
           }
          ],
          "mesh3d": [
           {
            "colorbar": {
             "outlinewidth": 0,
             "ticks": ""
            },
            "type": "mesh3d"
           }
          ],
          "parcoords": [
           {
            "line": {
             "colorbar": {
              "outlinewidth": 0,
              "ticks": ""
             }
            },
            "type": "parcoords"
           }
          ],
          "pie": [
           {
            "automargin": true,
            "type": "pie"
           }
          ],
          "scatter": [
           {
            "fillpattern": {
             "fillmode": "overlay",
             "size": 10,
             "solidity": 0.2
            },
            "type": "scatter"
           }
          ],
          "scatter3d": [
           {
            "line": {
             "colorbar": {
              "outlinewidth": 0,
              "ticks": ""
             }
            },
            "marker": {
             "colorbar": {
              "outlinewidth": 0,
              "ticks": ""
             }
            },
            "type": "scatter3d"
           }
          ],
          "scattercarpet": [
           {
            "marker": {
             "colorbar": {
              "outlinewidth": 0,
              "ticks": ""
             }
            },
            "type": "scattercarpet"
           }
          ],
          "scattergeo": [
           {
            "marker": {
             "colorbar": {
              "outlinewidth": 0,
              "ticks": ""
             }
            },
            "type": "scattergeo"
           }
          ],
          "scattergl": [
           {
            "marker": {
             "colorbar": {
              "outlinewidth": 0,
              "ticks": ""
             }
            },
            "type": "scattergl"
           }
          ],
          "scattermap": [
           {
            "marker": {
             "colorbar": {
              "outlinewidth": 0,
              "ticks": ""
             }
            },
            "type": "scattermap"
           }
          ],
          "scattermapbox": [
           {
            "marker": {
             "colorbar": {
              "outlinewidth": 0,
              "ticks": ""
             }
            },
            "type": "scattermapbox"
           }
          ],
          "scatterpolar": [
           {
            "marker": {
             "colorbar": {
              "outlinewidth": 0,
              "ticks": ""
             }
            },
            "type": "scatterpolar"
           }
          ],
          "scatterpolargl": [
           {
            "marker": {
             "colorbar": {
              "outlinewidth": 0,
              "ticks": ""
             }
            },
            "type": "scatterpolargl"
           }
          ],
          "scatterternary": [
           {
            "marker": {
             "colorbar": {
              "outlinewidth": 0,
              "ticks": ""
             }
            },
            "type": "scatterternary"
           }
          ],
          "surface": [
           {
            "colorbar": {
             "outlinewidth": 0,
             "ticks": ""
            },
            "colorscale": [
             [
              0,
              "#0d0887"
             ],
             [
              0.1111111111111111,
              "#46039f"
             ],
             [
              0.2222222222222222,
              "#7201a8"
             ],
             [
              0.3333333333333333,
              "#9c179e"
             ],
             [
              0.4444444444444444,
              "#bd3786"
             ],
             [
              0.5555555555555556,
              "#d8576b"
             ],
             [
              0.6666666666666666,
              "#ed7953"
             ],
             [
              0.7777777777777778,
              "#fb9f3a"
             ],
             [
              0.8888888888888888,
              "#fdca26"
             ],
             [
              1,
              "#f0f921"
             ]
            ],
            "type": "surface"
           }
          ],
          "table": [
           {
            "cells": {
             "fill": {
              "color": "#EBF0F8"
             },
             "line": {
              "color": "white"
             }
            },
            "header": {
             "fill": {
              "color": "#C8D4E3"
             },
             "line": {
              "color": "white"
             }
            },
            "type": "table"
           }
          ]
         },
         "layout": {
          "annotationdefaults": {
           "arrowcolor": "#2a3f5f",
           "arrowhead": 0,
           "arrowwidth": 1
          },
          "autotypenumbers": "strict",
          "coloraxis": {
           "colorbar": {
            "outlinewidth": 0,
            "ticks": ""
           }
          },
          "colorscale": {
           "diverging": [
            [
             0,
             "#8e0152"
            ],
            [
             0.1,
             "#c51b7d"
            ],
            [
             0.2,
             "#de77ae"
            ],
            [
             0.3,
             "#f1b6da"
            ],
            [
             0.4,
             "#fde0ef"
            ],
            [
             0.5,
             "#f7f7f7"
            ],
            [
             0.6,
             "#e6f5d0"
            ],
            [
             0.7,
             "#b8e186"
            ],
            [
             0.8,
             "#7fbc41"
            ],
            [
             0.9,
             "#4d9221"
            ],
            [
             1,
             "#276419"
            ]
           ],
           "sequential": [
            [
             0,
             "#0d0887"
            ],
            [
             0.1111111111111111,
             "#46039f"
            ],
            [
             0.2222222222222222,
             "#7201a8"
            ],
            [
             0.3333333333333333,
             "#9c179e"
            ],
            [
             0.4444444444444444,
             "#bd3786"
            ],
            [
             0.5555555555555556,
             "#d8576b"
            ],
            [
             0.6666666666666666,
             "#ed7953"
            ],
            [
             0.7777777777777778,
             "#fb9f3a"
            ],
            [
             0.8888888888888888,
             "#fdca26"
            ],
            [
             1,
             "#f0f921"
            ]
           ],
           "sequentialminus": [
            [
             0,
             "#0d0887"
            ],
            [
             0.1111111111111111,
             "#46039f"
            ],
            [
             0.2222222222222222,
             "#7201a8"
            ],
            [
             0.3333333333333333,
             "#9c179e"
            ],
            [
             0.4444444444444444,
             "#bd3786"
            ],
            [
             0.5555555555555556,
             "#d8576b"
            ],
            [
             0.6666666666666666,
             "#ed7953"
            ],
            [
             0.7777777777777778,
             "#fb9f3a"
            ],
            [
             0.8888888888888888,
             "#fdca26"
            ],
            [
             1,
             "#f0f921"
            ]
           ]
          },
          "colorway": [
           "#636efa",
           "#EF553B",
           "#00cc96",
           "#ab63fa",
           "#FFA15A",
           "#19d3f3",
           "#FF6692",
           "#B6E880",
           "#FF97FF",
           "#FECB52"
          ],
          "font": {
           "color": "#2a3f5f"
          },
          "geo": {
           "bgcolor": "white",
           "lakecolor": "white",
           "landcolor": "#E5ECF6",
           "showlakes": true,
           "showland": true,
           "subunitcolor": "white"
          },
          "hoverlabel": {
           "align": "left"
          },
          "hovermode": "closest",
          "mapbox": {
           "style": "light"
          },
          "paper_bgcolor": "white",
          "plot_bgcolor": "#E5ECF6",
          "polar": {
           "angularaxis": {
            "gridcolor": "white",
            "linecolor": "white",
            "ticks": ""
           },
           "bgcolor": "#E5ECF6",
           "radialaxis": {
            "gridcolor": "white",
            "linecolor": "white",
            "ticks": ""
           }
          },
          "scene": {
           "xaxis": {
            "backgroundcolor": "#E5ECF6",
            "gridcolor": "white",
            "gridwidth": 2,
            "linecolor": "white",
            "showbackground": true,
            "ticks": "",
            "zerolinecolor": "white"
           },
           "yaxis": {
            "backgroundcolor": "#E5ECF6",
            "gridcolor": "white",
            "gridwidth": 2,
            "linecolor": "white",
            "showbackground": true,
            "ticks": "",
            "zerolinecolor": "white"
           },
           "zaxis": {
            "backgroundcolor": "#E5ECF6",
            "gridcolor": "white",
            "gridwidth": 2,
            "linecolor": "white",
            "showbackground": true,
            "ticks": "",
            "zerolinecolor": "white"
           }
          },
          "shapedefaults": {
           "line": {
            "color": "#2a3f5f"
           }
          },
          "ternary": {
           "aaxis": {
            "gridcolor": "white",
            "linecolor": "white",
            "ticks": ""
           },
           "baxis": {
            "gridcolor": "white",
            "linecolor": "white",
            "ticks": ""
           },
           "bgcolor": "#E5ECF6",
           "caxis": {
            "gridcolor": "white",
            "linecolor": "white",
            "ticks": ""
           }
          },
          "title": {
           "x": 0.05
          },
          "xaxis": {
           "automargin": true,
           "gridcolor": "white",
           "linecolor": "white",
           "ticks": "",
           "title": {
            "standoff": 15
           },
           "zerolinecolor": "white",
           "zerolinewidth": 2
          },
          "yaxis": {
           "automargin": true,
           "gridcolor": "white",
           "linecolor": "white",
           "ticks": "",
           "title": {
            "standoff": 15
           },
           "zerolinecolor": "white",
           "zerolinewidth": 2
          }
         }
        },
        "xaxis": {
         "anchor": "y",
         "domain": [
          0,
          1
         ],
         "title": {
          "text": "x"
         }
        },
        "yaxis": {
         "anchor": "x",
         "domain": [
          0,
          1
         ],
         "title": {
          "text": "y"
         }
        }
       }
      }
     },
     "metadata": {},
     "output_type": "display_data"
    }
   ],
   "source": [
    "sample.astype(int)\n",
    "\n",
    "import plotly.express as px\n",
    "corr_with_zero_diag = np.corrcoef(sample, rowvar=False) - np.eye(sample.shape[1])\n",
    "fig = px.imshow(corr_with_zero_diag, x=drug_names_unique, y=drug_names_unique, zmin=-1, zmax=1, color_continuous_scale='RdBu')\n",
    "fig.show()\n",
    "\n",
    "corr_with_zero_diag = np.corrcoef(data, rowvar=False) - np.eye(sample.shape[1])\n",
    "fig = px.imshow(corr_with_zero_diag, x=drug_names_unique, y=drug_names_unique, zmin=-1, zmax=1, color_continuous_scale='RdBu')\n",
    "fig.show()\n",
    "\n",
    "fig = px.bar(x=drug_names_unique, y=np.mean(data, axis=0))\n",
    "fig.update_xaxes(categoryorder='total descending')\n",
    "fig.show()\n",
    "fig = px.bar(x=drug_names_unique, y=np.mean(sample, axis=0))\n",
    "# fig.update_xaxes(categoryorder='total descending')\n",
    "fig.show()\n"
   ]
  },
  {
   "cell_type": "code",
   "execution_count": 104,
   "metadata": {},
   "outputs": [
    {
     "name": "stdout",
     "output_type": "stream",
     "text": [
      "[[0.05       0.         0.00263613]\n",
      " [0.         0.05       0.02695548]\n",
      " [0.00263613 0.02695548 0.15      ]]\n",
      "[0.06 0.03 0.12]\n",
      "[[ 1.         -0.04443104 -0.09329556]\n",
      " [-0.04443104  1.         -0.06494176]\n",
      " [-0.09329556 -0.06494176  1.        ]]\n"
     ]
    }
   ],
   "source": [
    "corr = np.array([[1., -0.25, -0.0625],\n",
    "                 [-0.25,   1.,  0.25],\n",
    "                 [-0.0625, 0.25, 1.]])\n",
    "commonprob = bnd.bincorr2commonprob(margprob=[0.05, 0.05, 0.15], \n",
    "                                        bincorr=corr)\n",
    "print(commonprob)\n",
    "sigma = bnd.commonprob2sigma(commonprob)\n",
    "X = bnd.rmvbin(margprob=np.diag(commonprob), \n",
    "                   commonprob=commonprob, N=100)\n",
    "print(X.mean(0))\n",
    "print(np.corrcoef(X, rowvar=False))"
   ]
  },
  {
   "cell_type": "code",
   "execution_count": 53,
   "metadata": {},
   "outputs": [
    {
     "name": "stdout",
     "output_type": "stream",
     "text": [
      "(151746, 13)\n",
      "(19924, 2)\n"
     ]
    }
   ],
   "source": [
    "import pandas as pd\n",
    "import numpy as np\n",
    "\n",
    "dataset_3comb = pd.read_csv('../doi_10_5061_dryad_sm847__v20181016/db_drugs_3s.tsv', sep='\\t')\n",
    "dataset_4comb = pd.read_csv('../doi_10_5061_dryad_sm847__v20181016/db_drugs_4s.tsv', sep='\\t')\n",
    "dataset_5comb = pd.read_csv('../doi_10_5061_dryad_sm847__v20181016/db_drugs_5s.tsv', sep='\\t')\n",
    "dataset_3comb['drug_names'] = dataset_3comb[['drug_name_A', 'drug_name_B', 'drug_name_C']].values.tolist()\n",
    "dataset_4comb['drug_names'] = dataset_4comb[['drug_name_A', 'drug_name_B', 'drug_name_C', 'drug_name_D']].values.tolist()\n",
    "dataset_5comb['drug_names'] = dataset_5comb[['drug_name_A', 'drug_name_B', 'drug_name_C', 'drug_name_D', 'drug_name_E']].values.tolist()\n",
    "\n",
    "dataset = pd.concat([dataset_3comb, dataset_4comb, dataset_5comb])\n",
    "\n",
    "drug_names_unique_2 = np.unique(np.concatenate(dataset['drug_names'].values))\n",
    "drug_names_unique_lowcase = np.char.lower(drug_names_unique.astype(str))\n",
    "drug_names_unique_lowcase = np.where(drug_names_unique_lowcase == 'fluticasone nasal', 'fluticasone', drug_names_unique_lowcase)\n",
    "drug_names_unique_lowcase = np.where(drug_names_unique_lowcase == 'levothyroxine', 'thyroxine', drug_names_unique_lowcase)\n",
    "\n",
    "print(dataset.shape)\n",
    "\n",
    "# filter out every row that contain at least one drug that is not in drug_names_unique_lowcase\n",
    "dataset = dataset[dataset['drug_names'].apply(lambda x: all([drug in drug_names_unique_lowcase for drug in x]))]\n",
    "dataset = dataset[['drug_names', 'exact_exposure_count']]\n",
    "dataset['exact_exposure_count'] = dataset['exact_exposure_count'].replace('<100', 100)\n",
    "\n",
    "capsules_with_exactexposue_1 = capsules[capsules['exact_exposure_count'] == 1]\n",
    "merged_dataset = pd.concat([dataset, capsules_with_exactexposue_1[['drug_names', 'exact_exposure_count']]])\n",
    "# everything that contained 1 exact_exposure_count -> 100 exact_exposure_count\n",
    "merged_dataset['exact_exposure_count'] = merged_dataset['exact_exposure_count'].replace(1, 100)\n",
    "merged_dataset['exact_exposure_count'] = merged_dataset['exact_exposure_count'].astype(int)\n",
    "# normalize capsules['exact_exposure_count] to 0, 1000\n",
    "merged_dataset['exact_exposure_count'] = merged_dataset['exact_exposure_count'] / (merged_dataset['exact_exposure_count']).max() * 10000\n",
    "merged_dataset['exact_exposure_count'] = merged_dataset['exact_exposure_count'].astype(int) + 1\n",
    "\n",
    "print(merged_dataset.shape)"
   ]
  },
  {
   "cell_type": "code",
   "execution_count": 54,
   "metadata": {},
   "outputs": [
    {
     "name": "stdout",
     "output_type": "stream",
     "text": [
      "(392730, 40)\n"
     ]
    },
    {
     "data": {
      "application/vnd.microsoft.datawrangler.viewer.v0+json": {
       "columns": [
        {
         "name": "index",
         "rawType": "object",
         "type": "string"
        },
        {
         "name": "carvedilol",
         "rawType": "int64",
         "type": "integer"
        },
        {
         "name": "esomeprazole",
         "rawType": "int64",
         "type": "integer"
        },
        {
         "name": "thyroxine",
         "rawType": "int64",
         "type": "integer"
        },
        {
         "name": "tramadol",
         "rawType": "int64",
         "type": "integer"
        },
        {
         "name": "amlodipine",
         "rawType": "int64",
         "type": "integer"
        },
        {
         "name": "metoprolol",
         "rawType": "int64",
         "type": "integer"
        },
        {
         "name": "omeprazole",
         "rawType": "int64",
         "type": "integer"
        },
        {
         "name": "simvastatin",
         "rawType": "int64",
         "type": "integer"
        },
        {
         "name": "tamsulosin",
         "rawType": "int64",
         "type": "integer"
        },
        {
         "name": "alendronate",
         "rawType": "int64",
         "type": "integer"
        },
        {
         "name": "atorvastatin",
         "rawType": "int64",
         "type": "integer"
        },
        {
         "name": "lisinopril",
         "rawType": "int64",
         "type": "integer"
        },
        {
         "name": "losartan",
         "rawType": "int64",
         "type": "integer"
        },
        {
         "name": "sertraline",
         "rawType": "int64",
         "type": "integer"
        },
        {
         "name": "metformin",
         "rawType": "int64",
         "type": "integer"
        },
        {
         "name": "pioglitazone",
         "rawType": "int64",
         "type": "integer"
        },
        {
         "name": "pravastatin",
         "rawType": "int64",
         "type": "integer"
        },
        {
         "name": "furosemide",
         "rawType": "int64",
         "type": "integer"
        },
        {
         "name": "potassium chloride",
         "rawType": "int64",
         "type": "integer"
        },
        {
         "name": "hydrochlorothiazide",
         "rawType": "int64",
         "type": "integer"
        },
        {
         "name": "atenolol",
         "rawType": "int64",
         "type": "integer"
        },
        {
         "name": "warfarin",
         "rawType": "int64",
         "type": "integer"
        },
        {
         "name": "aspirin",
         "rawType": "int64",
         "type": "integer"
        },
        {
         "name": "lovastatin",
         "rawType": "int64",
         "type": "integer"
        },
        {
         "name": "albuterol",
         "rawType": "int64",
         "type": "integer"
        },
        {
         "name": "glipizide",
         "rawType": "int64",
         "type": "integer"
        },
        {
         "name": "ranitidine",
         "rawType": "int64",
         "type": "integer"
        },
        {
         "name": "gabapentin",
         "rawType": "int64",
         "type": "integer"
        },
        {
         "name": "insulin glargine",
         "rawType": "int64",
         "type": "integer"
        },
        {
         "name": "clopidogrel",
         "rawType": "int64",
         "type": "integer"
        },
        {
         "name": "zolpidem",
         "rawType": "int64",
         "type": "integer"
        },
        {
         "name": "allopurinol",
         "rawType": "int64",
         "type": "integer"
        },
        {
         "name": "citalopram",
         "rawType": "int64",
         "type": "integer"
        },
        {
         "name": "prednisone",
         "rawType": "int64",
         "type": "integer"
        },
        {
         "name": "rosuvastatin",
         "rawType": "int64",
         "type": "integer"
        },
        {
         "name": "valsartan",
         "rawType": "int64",
         "type": "integer"
        },
        {
         "name": "ibuprofen",
         "rawType": "int64",
         "type": "integer"
        },
        {
         "name": "fexofenadine",
         "rawType": "int64",
         "type": "integer"
        },
        {
         "name": "montelukast",
         "rawType": "int64",
         "type": "integer"
        },
        {
         "name": "fluticasone",
         "rawType": "int64",
         "type": "integer"
        }
       ],
       "conversionMethod": "pd.DataFrame",
       "ref": "99a8189e-e260-4209-9442-712069634543",
       "rows": [
        [
         "comb0",
         "0",
         "0",
         "0",
         "0",
         "0",
         "0",
         "0",
         "1",
         "0",
         "0",
         "0",
         "1",
         "0",
         "0",
         "0",
         "0",
         "0",
         "0",
         "0",
         "1",
         "0",
         "0",
         "0",
         "0",
         "0",
         "0",
         "0",
         "0",
         "0",
         "0",
         "0",
         "0",
         "0",
         "0",
         "0",
         "0",
         "0",
         "0",
         "0",
         "0"
        ],
        [
         "comb1",
         "0",
         "0",
         "0",
         "0",
         "0",
         "0",
         "0",
         "1",
         "0",
         "0",
         "0",
         "1",
         "0",
         "0",
         "0",
         "0",
         "0",
         "0",
         "0",
         "1",
         "0",
         "0",
         "0",
         "0",
         "0",
         "0",
         "0",
         "0",
         "0",
         "0",
         "0",
         "0",
         "0",
         "0",
         "0",
         "0",
         "0",
         "0",
         "0",
         "0"
        ],
        [
         "comb2",
         "0",
         "0",
         "0",
         "0",
         "0",
         "0",
         "0",
         "1",
         "0",
         "0",
         "0",
         "1",
         "0",
         "0",
         "0",
         "0",
         "0",
         "0",
         "0",
         "1",
         "0",
         "0",
         "0",
         "0",
         "0",
         "0",
         "0",
         "0",
         "0",
         "0",
         "0",
         "0",
         "0",
         "0",
         "0",
         "0",
         "0",
         "0",
         "0",
         "0"
        ],
        [
         "comb3",
         "0",
         "0",
         "0",
         "0",
         "0",
         "0",
         "0",
         "1",
         "0",
         "0",
         "0",
         "1",
         "0",
         "0",
         "0",
         "0",
         "0",
         "0",
         "0",
         "1",
         "0",
         "0",
         "0",
         "0",
         "0",
         "0",
         "0",
         "0",
         "0",
         "0",
         "0",
         "0",
         "0",
         "0",
         "0",
         "0",
         "0",
         "0",
         "0",
         "0"
        ],
        [
         "comb4",
         "0",
         "0",
         "0",
         "0",
         "0",
         "0",
         "0",
         "1",
         "0",
         "0",
         "0",
         "1",
         "0",
         "0",
         "0",
         "0",
         "0",
         "0",
         "0",
         "1",
         "0",
         "0",
         "0",
         "0",
         "0",
         "0",
         "0",
         "0",
         "0",
         "0",
         "0",
         "0",
         "0",
         "0",
         "0",
         "0",
         "0",
         "0",
         "0",
         "0"
        ]
       ],
       "shape": {
        "columns": 40,
        "rows": 5
       }
      },
      "text/html": [
       "<div>\n",
       "<style scoped>\n",
       "    .dataframe tbody tr th:only-of-type {\n",
       "        vertical-align: middle;\n",
       "    }\n",
       "\n",
       "    .dataframe tbody tr th {\n",
       "        vertical-align: top;\n",
       "    }\n",
       "\n",
       "    .dataframe thead th {\n",
       "        text-align: right;\n",
       "    }\n",
       "</style>\n",
       "<table border=\"1\" class=\"dataframe\">\n",
       "  <thead>\n",
       "    <tr style=\"text-align: right;\">\n",
       "      <th></th>\n",
       "      <th>carvedilol</th>\n",
       "      <th>esomeprazole</th>\n",
       "      <th>thyroxine</th>\n",
       "      <th>tramadol</th>\n",
       "      <th>amlodipine</th>\n",
       "      <th>metoprolol</th>\n",
       "      <th>omeprazole</th>\n",
       "      <th>simvastatin</th>\n",
       "      <th>tamsulosin</th>\n",
       "      <th>alendronate</th>\n",
       "      <th>...</th>\n",
       "      <th>zolpidem</th>\n",
       "      <th>allopurinol</th>\n",
       "      <th>citalopram</th>\n",
       "      <th>prednisone</th>\n",
       "      <th>rosuvastatin</th>\n",
       "      <th>valsartan</th>\n",
       "      <th>ibuprofen</th>\n",
       "      <th>fexofenadine</th>\n",
       "      <th>montelukast</th>\n",
       "      <th>fluticasone</th>\n",
       "    </tr>\n",
       "  </thead>\n",
       "  <tbody>\n",
       "    <tr>\n",
       "      <th>comb0</th>\n",
       "      <td>0</td>\n",
       "      <td>0</td>\n",
       "      <td>0</td>\n",
       "      <td>0</td>\n",
       "      <td>0</td>\n",
       "      <td>0</td>\n",
       "      <td>0</td>\n",
       "      <td>1</td>\n",
       "      <td>0</td>\n",
       "      <td>0</td>\n",
       "      <td>...</td>\n",
       "      <td>0</td>\n",
       "      <td>0</td>\n",
       "      <td>0</td>\n",
       "      <td>0</td>\n",
       "      <td>0</td>\n",
       "      <td>0</td>\n",
       "      <td>0</td>\n",
       "      <td>0</td>\n",
       "      <td>0</td>\n",
       "      <td>0</td>\n",
       "    </tr>\n",
       "    <tr>\n",
       "      <th>comb1</th>\n",
       "      <td>0</td>\n",
       "      <td>0</td>\n",
       "      <td>0</td>\n",
       "      <td>0</td>\n",
       "      <td>0</td>\n",
       "      <td>0</td>\n",
       "      <td>0</td>\n",
       "      <td>1</td>\n",
       "      <td>0</td>\n",
       "      <td>0</td>\n",
       "      <td>...</td>\n",
       "      <td>0</td>\n",
       "      <td>0</td>\n",
       "      <td>0</td>\n",
       "      <td>0</td>\n",
       "      <td>0</td>\n",
       "      <td>0</td>\n",
       "      <td>0</td>\n",
       "      <td>0</td>\n",
       "      <td>0</td>\n",
       "      <td>0</td>\n",
       "    </tr>\n",
       "    <tr>\n",
       "      <th>comb2</th>\n",
       "      <td>0</td>\n",
       "      <td>0</td>\n",
       "      <td>0</td>\n",
       "      <td>0</td>\n",
       "      <td>0</td>\n",
       "      <td>0</td>\n",
       "      <td>0</td>\n",
       "      <td>1</td>\n",
       "      <td>0</td>\n",
       "      <td>0</td>\n",
       "      <td>...</td>\n",
       "      <td>0</td>\n",
       "      <td>0</td>\n",
       "      <td>0</td>\n",
       "      <td>0</td>\n",
       "      <td>0</td>\n",
       "      <td>0</td>\n",
       "      <td>0</td>\n",
       "      <td>0</td>\n",
       "      <td>0</td>\n",
       "      <td>0</td>\n",
       "    </tr>\n",
       "    <tr>\n",
       "      <th>comb3</th>\n",
       "      <td>0</td>\n",
       "      <td>0</td>\n",
       "      <td>0</td>\n",
       "      <td>0</td>\n",
       "      <td>0</td>\n",
       "      <td>0</td>\n",
       "      <td>0</td>\n",
       "      <td>1</td>\n",
       "      <td>0</td>\n",
       "      <td>0</td>\n",
       "      <td>...</td>\n",
       "      <td>0</td>\n",
       "      <td>0</td>\n",
       "      <td>0</td>\n",
       "      <td>0</td>\n",
       "      <td>0</td>\n",
       "      <td>0</td>\n",
       "      <td>0</td>\n",
       "      <td>0</td>\n",
       "      <td>0</td>\n",
       "      <td>0</td>\n",
       "    </tr>\n",
       "    <tr>\n",
       "      <th>comb4</th>\n",
       "      <td>0</td>\n",
       "      <td>0</td>\n",
       "      <td>0</td>\n",
       "      <td>0</td>\n",
       "      <td>0</td>\n",
       "      <td>0</td>\n",
       "      <td>0</td>\n",
       "      <td>1</td>\n",
       "      <td>0</td>\n",
       "      <td>0</td>\n",
       "      <td>...</td>\n",
       "      <td>0</td>\n",
       "      <td>0</td>\n",
       "      <td>0</td>\n",
       "      <td>0</td>\n",
       "      <td>0</td>\n",
       "      <td>0</td>\n",
       "      <td>0</td>\n",
       "      <td>0</td>\n",
       "      <td>0</td>\n",
       "      <td>0</td>\n",
       "    </tr>\n",
       "  </tbody>\n",
       "</table>\n",
       "<p>5 rows × 40 columns</p>\n",
       "</div>"
      ],
      "text/plain": [
       "       carvedilol  esomeprazole  thyroxine  tramadol  amlodipine  metoprolol  \\\n",
       "comb0           0             0          0         0           0           0   \n",
       "comb1           0             0          0         0           0           0   \n",
       "comb2           0             0          0         0           0           0   \n",
       "comb3           0             0          0         0           0           0   \n",
       "comb4           0             0          0         0           0           0   \n",
       "\n",
       "       omeprazole  simvastatin  tamsulosin  alendronate  ...  zolpidem  \\\n",
       "comb0           0            1           0            0  ...         0   \n",
       "comb1           0            1           0            0  ...         0   \n",
       "comb2           0            1           0            0  ...         0   \n",
       "comb3           0            1           0            0  ...         0   \n",
       "comb4           0            1           0            0  ...         0   \n",
       "\n",
       "       allopurinol  citalopram  prednisone  rosuvastatin  valsartan  \\\n",
       "comb0            0           0           0             0          0   \n",
       "comb1            0           0           0             0          0   \n",
       "comb2            0           0           0             0          0   \n",
       "comb3            0           0           0             0          0   \n",
       "comb4            0           0           0             0          0   \n",
       "\n",
       "       ibuprofen  fexofenadine  montelukast  fluticasone  \n",
       "comb0          0             0            0            0  \n",
       "comb1          0             0            0            0  \n",
       "comb2          0             0            0            0  \n",
       "comb3          0             0            0            0  \n",
       "comb4          0             0            0            0  \n",
       "\n",
       "[5 rows x 40 columns]"
      ]
     },
     "execution_count": 54,
     "metadata": {},
     "output_type": "execute_result"
    }
   ],
   "source": [
    "# Restructure the data (columns are drugs and rows are patients, values are 0 or 1)\n",
    "data_full = []\n",
    "for i, row in merged_dataset.iterrows():\n",
    "    patient_data = []\n",
    "    for drug in drug_names_unique_lowcase:\n",
    "        patient_data.append(int(drug in row['drug_names']))\n",
    "    \n",
    "    # data.append(patient_data)\n",
    "    data_full.extend([patient_data] * row['exact_exposure_count'])\n",
    "\n",
    "index = [f\"comb{i}\" for i in range(len(data_full))]\n",
    "data_full = pd.DataFrame(data_full, columns=drug_names_unique_lowcase, dtype=int, index=index)\n",
    "print(data_full.shape)\n",
    "data_full.head()"
   ]
  },
  {
   "cell_type": "code",
   "execution_count": null,
   "metadata": {},
   "outputs": [
    {
     "name": "stdout",
     "output_type": "stream",
     "text": [
      "3    267838\n",
      "4    104257\n",
      "5     20635\n",
      "Name: count, dtype: int64\n"
     ]
    }
   ],
   "source": [
    "# sampledf = pd.DataFrame(data_full, columns=drug_names_unique)\n",
    "# data_full['sum'] = data_full.sum(axis=1)\n",
    "# print(data_full.sum(axis=1).value_counts().sort_index())"
   ]
  },
  {
   "cell_type": "code",
   "execution_count": 199,
   "metadata": {},
   "outputs": [
    {
     "data": {
      "application/vnd.plotly.v1+json": {
       "config": {
        "plotlyServerURL": "https://plot.ly"
       },
       "data": [
        {
         "coloraxis": "coloraxis",
         "hovertemplate": "x: %{x}<br>y: %{y}<br>color: %{z}<extra></extra>",
         "name": "0",
         "type": "heatmap",
         "x": [
          "CARVEDILOL",
          "ESOMEPRAZOLE",
          "LEVOTHYROXINE",
          "TRAMADOL",
          "AMLODIPINE",
          "METOPROLOL",
          "OMEPRAZOLE",
          "SIMVASTATIN",
          "TAMSULOSIN",
          "ALENDRONATE",
          "ATORVASTATIN",
          "LISINOPRIL",
          "LOSARTAN",
          "SERTRALINE",
          "METFORMIN",
          "PIOGLITAZONE",
          "PRAVASTATIN",
          "FUROSEMIDE",
          "POTASSIUM CHLORIDE",
          "HYDROCHLOROTHIAZIDE",
          "ATENOLOL",
          "WARFARIN",
          "ASPIRIN",
          "LOVASTATIN",
          "ALBUTEROL",
          "GLIPIZIDE",
          "RANITIDINE",
          "GABAPENTIN",
          "INSULIN GLARGINE",
          "CLOPIDOGREL",
          "ZOLPIDEM",
          "ALLOPURINOL",
          "CITALOPRAM",
          "PREDNISONE",
          "ROSUVASTATIN",
          "VALSARTAN",
          "IBUPROFEN",
          "FEXOFENADINE",
          "MONTELUKAST",
          "FLUTICASONE NASAL"
         ],
         "xaxis": "x",
         "y": [
          "CARVEDILOL",
          "ESOMEPRAZOLE",
          "LEVOTHYROXINE",
          "TRAMADOL",
          "AMLODIPINE",
          "METOPROLOL",
          "OMEPRAZOLE",
          "SIMVASTATIN",
          "TAMSULOSIN",
          "ALENDRONATE",
          "ATORVASTATIN",
          "LISINOPRIL",
          "LOSARTAN",
          "SERTRALINE",
          "METFORMIN",
          "PIOGLITAZONE",
          "PRAVASTATIN",
          "FUROSEMIDE",
          "POTASSIUM CHLORIDE",
          "HYDROCHLOROTHIAZIDE",
          "ATENOLOL",
          "WARFARIN",
          "ASPIRIN",
          "LOVASTATIN",
          "ALBUTEROL",
          "GLIPIZIDE",
          "RANITIDINE",
          "GABAPENTIN",
          "INSULIN GLARGINE",
          "CLOPIDOGREL",
          "ZOLPIDEM",
          "ALLOPURINOL",
          "CITALOPRAM",
          "PREDNISONE",
          "ROSUVASTATIN",
          "VALSARTAN",
          "IBUPROFEN",
          "FEXOFENADINE",
          "MONTELUKAST",
          "FLUTICASONE NASAL"
         ],
         "yaxis": "y",
         "z": {
          "bdata": "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",
          "dtype": "f8",
          "shape": "40, 40"
         }
        }
       ],
       "layout": {
        "coloraxis": {
         "cmax": 0.4,
         "cmin": -0.4,
         "colorscale": [
          [
           0,
           "rgb(103,0,31)"
          ],
          [
           0.1,
           "rgb(178,24,43)"
          ],
          [
           0.2,
           "rgb(214,96,77)"
          ],
          [
           0.3,
           "rgb(244,165,130)"
          ],
          [
           0.4,
           "rgb(253,219,199)"
          ],
          [
           0.5,
           "rgb(247,247,247)"
          ],
          [
           0.6,
           "rgb(209,229,240)"
          ],
          [
           0.7,
           "rgb(146,197,222)"
          ],
          [
           0.8,
           "rgb(67,147,195)"
          ],
          [
           0.9,
           "rgb(33,102,172)"
          ],
          [
           1,
           "rgb(5,48,97)"
          ]
         ]
        },
        "margin": {
         "t": 60
        },
        "template": {
         "data": {
          "bar": [
           {
            "error_x": {
             "color": "#2a3f5f"
            },
            "error_y": {
             "color": "#2a3f5f"
            },
            "marker": {
             "line": {
              "color": "#E5ECF6",
              "width": 0.5
             },
             "pattern": {
              "fillmode": "overlay",
              "size": 10,
              "solidity": 0.2
             }
            },
            "type": "bar"
           }
          ],
          "barpolar": [
           {
            "marker": {
             "line": {
              "color": "#E5ECF6",
              "width": 0.5
             },
             "pattern": {
              "fillmode": "overlay",
              "size": 10,
              "solidity": 0.2
             }
            },
            "type": "barpolar"
           }
          ],
          "carpet": [
           {
            "aaxis": {
             "endlinecolor": "#2a3f5f",
             "gridcolor": "white",
             "linecolor": "white",
             "minorgridcolor": "white",
             "startlinecolor": "#2a3f5f"
            },
            "baxis": {
             "endlinecolor": "#2a3f5f",
             "gridcolor": "white",
             "linecolor": "white",
             "minorgridcolor": "white",
             "startlinecolor": "#2a3f5f"
            },
            "type": "carpet"
           }
          ],
          "choropleth": [
           {
            "colorbar": {
             "outlinewidth": 0,
             "ticks": ""
            },
            "type": "choropleth"
           }
          ],
          "contour": [
           {
            "colorbar": {
             "outlinewidth": 0,
             "ticks": ""
            },
            "colorscale": [
             [
              0,
              "#0d0887"
             ],
             [
              0.1111111111111111,
              "#46039f"
             ],
             [
              0.2222222222222222,
              "#7201a8"
             ],
             [
              0.3333333333333333,
              "#9c179e"
             ],
             [
              0.4444444444444444,
              "#bd3786"
             ],
             [
              0.5555555555555556,
              "#d8576b"
             ],
             [
              0.6666666666666666,
              "#ed7953"
             ],
             [
              0.7777777777777778,
              "#fb9f3a"
             ],
             [
              0.8888888888888888,
              "#fdca26"
             ],
             [
              1,
              "#f0f921"
             ]
            ],
            "type": "contour"
           }
          ],
          "contourcarpet": [
           {
            "colorbar": {
             "outlinewidth": 0,
             "ticks": ""
            },
            "type": "contourcarpet"
           }
          ],
          "heatmap": [
           {
            "colorbar": {
             "outlinewidth": 0,
             "ticks": ""
            },
            "colorscale": [
             [
              0,
              "#0d0887"
             ],
             [
              0.1111111111111111,
              "#46039f"
             ],
             [
              0.2222222222222222,
              "#7201a8"
             ],
             [
              0.3333333333333333,
              "#9c179e"
             ],
             [
              0.4444444444444444,
              "#bd3786"
             ],
             [
              0.5555555555555556,
              "#d8576b"
             ],
             [
              0.6666666666666666,
              "#ed7953"
             ],
             [
              0.7777777777777778,
              "#fb9f3a"
             ],
             [
              0.8888888888888888,
              "#fdca26"
             ],
             [
              1,
              "#f0f921"
             ]
            ],
            "type": "heatmap"
           }
          ],
          "histogram": [
           {
            "marker": {
             "pattern": {
              "fillmode": "overlay",
              "size": 10,
              "solidity": 0.2
             }
            },
            "type": "histogram"
           }
          ],
          "histogram2d": [
           {
            "colorbar": {
             "outlinewidth": 0,
             "ticks": ""
            },
            "colorscale": [
             [
              0,
              "#0d0887"
             ],
             [
              0.1111111111111111,
              "#46039f"
             ],
             [
              0.2222222222222222,
              "#7201a8"
             ],
             [
              0.3333333333333333,
              "#9c179e"
             ],
             [
              0.4444444444444444,
              "#bd3786"
             ],
             [
              0.5555555555555556,
              "#d8576b"
             ],
             [
              0.6666666666666666,
              "#ed7953"
             ],
             [
              0.7777777777777778,
              "#fb9f3a"
             ],
             [
              0.8888888888888888,
              "#fdca26"
             ],
             [
              1,
              "#f0f921"
             ]
            ],
            "type": "histogram2d"
           }
          ],
          "histogram2dcontour": [
           {
            "colorbar": {
             "outlinewidth": 0,
             "ticks": ""
            },
            "colorscale": [
             [
              0,
              "#0d0887"
             ],
             [
              0.1111111111111111,
              "#46039f"
             ],
             [
              0.2222222222222222,
              "#7201a8"
             ],
             [
              0.3333333333333333,
              "#9c179e"
             ],
             [
              0.4444444444444444,
              "#bd3786"
             ],
             [
              0.5555555555555556,
              "#d8576b"
             ],
             [
              0.6666666666666666,
              "#ed7953"
             ],
             [
              0.7777777777777778,
              "#fb9f3a"
             ],
             [
              0.8888888888888888,
              "#fdca26"
             ],
             [
              1,
              "#f0f921"
             ]
            ],
            "type": "histogram2dcontour"
           }
          ],
          "mesh3d": [
           {
            "colorbar": {
             "outlinewidth": 0,
             "ticks": ""
            },
            "type": "mesh3d"
           }
          ],
          "parcoords": [
           {
            "line": {
             "colorbar": {
              "outlinewidth": 0,
              "ticks": ""
             }
            },
            "type": "parcoords"
           }
          ],
          "pie": [
           {
            "automargin": true,
            "type": "pie"
           }
          ],
          "scatter": [
           {
            "fillpattern": {
             "fillmode": "overlay",
             "size": 10,
             "solidity": 0.2
            },
            "type": "scatter"
           }
          ],
          "scatter3d": [
           {
            "line": {
             "colorbar": {
              "outlinewidth": 0,
              "ticks": ""
             }
            },
            "marker": {
             "colorbar": {
              "outlinewidth": 0,
              "ticks": ""
             }
            },
            "type": "scatter3d"
           }
          ],
          "scattercarpet": [
           {
            "marker": {
             "colorbar": {
              "outlinewidth": 0,
              "ticks": ""
             }
            },
            "type": "scattercarpet"
           }
          ],
          "scattergeo": [
           {
            "marker": {
             "colorbar": {
              "outlinewidth": 0,
              "ticks": ""
             }
            },
            "type": "scattergeo"
           }
          ],
          "scattergl": [
           {
            "marker": {
             "colorbar": {
              "outlinewidth": 0,
              "ticks": ""
             }
            },
            "type": "scattergl"
           }
          ],
          "scattermap": [
           {
            "marker": {
             "colorbar": {
              "outlinewidth": 0,
              "ticks": ""
             }
            },
            "type": "scattermap"
           }
          ],
          "scattermapbox": [
           {
            "marker": {
             "colorbar": {
              "outlinewidth": 0,
              "ticks": ""
             }
            },
            "type": "scattermapbox"
           }
          ],
          "scatterpolar": [
           {
            "marker": {
             "colorbar": {
              "outlinewidth": 0,
              "ticks": ""
             }
            },
            "type": "scatterpolar"
           }
          ],
          "scatterpolargl": [
           {
            "marker": {
             "colorbar": {
              "outlinewidth": 0,
              "ticks": ""
             }
            },
            "type": "scatterpolargl"
           }
          ],
          "scatterternary": [
           {
            "marker": {
             "colorbar": {
              "outlinewidth": 0,
              "ticks": ""
             }
            },
            "type": "scatterternary"
           }
          ],
          "surface": [
           {
            "colorbar": {
             "outlinewidth": 0,
             "ticks": ""
            },
            "colorscale": [
             [
              0,
              "#0d0887"
             ],
             [
              0.1111111111111111,
              "#46039f"
             ],
             [
              0.2222222222222222,
              "#7201a8"
             ],
             [
              0.3333333333333333,
              "#9c179e"
             ],
             [
              0.4444444444444444,
              "#bd3786"
             ],
             [
              0.5555555555555556,
              "#d8576b"
             ],
             [
              0.6666666666666666,
              "#ed7953"
             ],
             [
              0.7777777777777778,
              "#fb9f3a"
             ],
             [
              0.8888888888888888,
              "#fdca26"
             ],
             [
              1,
              "#f0f921"
             ]
            ],
            "type": "surface"
           }
          ],
          "table": [
           {
            "cells": {
             "fill": {
              "color": "#EBF0F8"
             },
             "line": {
              "color": "white"
             }
            },
            "header": {
             "fill": {
              "color": "#C8D4E3"
             },
             "line": {
              "color": "white"
             }
            },
            "type": "table"
           }
          ]
         },
         "layout": {
          "annotationdefaults": {
           "arrowcolor": "#2a3f5f",
           "arrowhead": 0,
           "arrowwidth": 1
          },
          "autotypenumbers": "strict",
          "coloraxis": {
           "colorbar": {
            "outlinewidth": 0,
            "ticks": ""
           }
          },
          "colorscale": {
           "diverging": [
            [
             0,
             "#8e0152"
            ],
            [
             0.1,
             "#c51b7d"
            ],
            [
             0.2,
             "#de77ae"
            ],
            [
             0.3,
             "#f1b6da"
            ],
            [
             0.4,
             "#fde0ef"
            ],
            [
             0.5,
             "#f7f7f7"
            ],
            [
             0.6,
             "#e6f5d0"
            ],
            [
             0.7,
             "#b8e186"
            ],
            [
             0.8,
             "#7fbc41"
            ],
            [
             0.9,
             "#4d9221"
            ],
            [
             1,
             "#276419"
            ]
           ],
           "sequential": [
            [
             0,
             "#0d0887"
            ],
            [
             0.1111111111111111,
             "#46039f"
            ],
            [
             0.2222222222222222,
             "#7201a8"
            ],
            [
             0.3333333333333333,
             "#9c179e"
            ],
            [
             0.4444444444444444,
             "#bd3786"
            ],
            [
             0.5555555555555556,
             "#d8576b"
            ],
            [
             0.6666666666666666,
             "#ed7953"
            ],
            [
             0.7777777777777778,
             "#fb9f3a"
            ],
            [
             0.8888888888888888,
             "#fdca26"
            ],
            [
             1,
             "#f0f921"
            ]
           ],
           "sequentialminus": [
            [
             0,
             "#0d0887"
            ],
            [
             0.1111111111111111,
             "#46039f"
            ],
            [
             0.2222222222222222,
             "#7201a8"
            ],
            [
             0.3333333333333333,
             "#9c179e"
            ],
            [
             0.4444444444444444,
             "#bd3786"
            ],
            [
             0.5555555555555556,
             "#d8576b"
            ],
            [
             0.6666666666666666,
             "#ed7953"
            ],
            [
             0.7777777777777778,
             "#fb9f3a"
            ],
            [
             0.8888888888888888,
             "#fdca26"
            ],
            [
             1,
             "#f0f921"
            ]
           ]
          },
          "colorway": [
           "#636efa",
           "#EF553B",
           "#00cc96",
           "#ab63fa",
           "#FFA15A",
           "#19d3f3",
           "#FF6692",
           "#B6E880",
           "#FF97FF",
           "#FECB52"
          ],
          "font": {
           "color": "#2a3f5f"
          },
          "geo": {
           "bgcolor": "white",
           "lakecolor": "white",
           "landcolor": "#E5ECF6",
           "showlakes": true,
           "showland": true,
           "subunitcolor": "white"
          },
          "hoverlabel": {
           "align": "left"
          },
          "hovermode": "closest",
          "mapbox": {
           "style": "light"
          },
          "paper_bgcolor": "white",
          "plot_bgcolor": "#E5ECF6",
          "polar": {
           "angularaxis": {
            "gridcolor": "white",
            "linecolor": "white",
            "ticks": ""
           },
           "bgcolor": "#E5ECF6",
           "radialaxis": {
            "gridcolor": "white",
            "linecolor": "white",
            "ticks": ""
           }
          },
          "scene": {
           "xaxis": {
            "backgroundcolor": "#E5ECF6",
            "gridcolor": "white",
            "gridwidth": 2,
            "linecolor": "white",
            "showbackground": true,
            "ticks": "",
            "zerolinecolor": "white"
           },
           "yaxis": {
            "backgroundcolor": "#E5ECF6",
            "gridcolor": "white",
            "gridwidth": 2,
            "linecolor": "white",
            "showbackground": true,
            "ticks": "",
            "zerolinecolor": "white"
           },
           "zaxis": {
            "backgroundcolor": "#E5ECF6",
            "gridcolor": "white",
            "gridwidth": 2,
            "linecolor": "white",
            "showbackground": true,
            "ticks": "",
            "zerolinecolor": "white"
           }
          },
          "shapedefaults": {
           "line": {
            "color": "#2a3f5f"
           }
          },
          "ternary": {
           "aaxis": {
            "gridcolor": "white",
            "linecolor": "white",
            "ticks": ""
           },
           "baxis": {
            "gridcolor": "white",
            "linecolor": "white",
            "ticks": ""
           },
           "bgcolor": "#E5ECF6",
           "caxis": {
            "gridcolor": "white",
            "linecolor": "white",
            "ticks": ""
           }
          },
          "title": {
           "x": 0.05
          },
          "xaxis": {
           "automargin": true,
           "gridcolor": "white",
           "linecolor": "white",
           "ticks": "",
           "title": {
            "standoff": 15
           },
           "zerolinecolor": "white",
           "zerolinewidth": 2
          },
          "yaxis": {
           "automargin": true,
           "gridcolor": "white",
           "linecolor": "white",
           "ticks": "",
           "title": {
            "standoff": 15
           },
           "zerolinecolor": "white",
           "zerolinewidth": 2
          }
         }
        },
        "xaxis": {
         "anchor": "y",
         "constrain": "domain",
         "domain": [
          0,
          1
         ],
         "scaleanchor": "y"
        },
        "yaxis": {
         "anchor": "x",
         "autorange": "reversed",
         "constrain": "domain",
         "domain": [
          0,
          1
         ]
        }
       }
      }
     },
     "metadata": {},
     "output_type": "display_data"
    },
    {
     "data": {
      "application/vnd.plotly.v1+json": {
       "config": {
        "plotlyServerURL": "https://plot.ly"
       },
       "data": [
        {
         "hovertemplate": "x=%{x}<br>y=%{y}<extra></extra>",
         "legendgroup": "",
         "marker": {
          "color": "#636efa",
          "pattern": {
           "shape": ""
          }
         },
         "name": "",
         "orientation": "v",
         "showlegend": false,
         "textposition": "auto",
         "type": "bar",
         "x": [
          "CARVEDILOL",
          "ESOMEPRAZOLE",
          "LEVOTHYROXINE",
          "TRAMADOL",
          "AMLODIPINE",
          "METOPROLOL",
          "OMEPRAZOLE",
          "SIMVASTATIN",
          "TAMSULOSIN",
          "ALENDRONATE",
          "ATORVASTATIN",
          "LISINOPRIL",
          "LOSARTAN",
          "SERTRALINE",
          "METFORMIN",
          "PIOGLITAZONE",
          "PRAVASTATIN",
          "FUROSEMIDE",
          "POTASSIUM CHLORIDE",
          "HYDROCHLOROTHIAZIDE",
          "ATENOLOL",
          "WARFARIN",
          "ASPIRIN",
          "LOVASTATIN",
          "ALBUTEROL",
          "GLIPIZIDE",
          "RANITIDINE",
          "GABAPENTIN",
          "INSULIN GLARGINE",
          "CLOPIDOGREL",
          "ZOLPIDEM",
          "ALLOPURINOL",
          "CITALOPRAM",
          "PREDNISONE",
          "ROSUVASTATIN",
          "VALSARTAN",
          "IBUPROFEN",
          "FEXOFENADINE",
          "MONTELUKAST",
          "FLUTICASONE NASAL"
         ],
         "xaxis": "x",
         "y": {
          "bdata": "QxePhwLMoj+DVjYaeDWkPwebGK2/aMY/DDQ+nyDahz/1sWA4drvJP5/R7FNgpMo/u91hjkewtz8Pzf6WaELQP5rmICbpKJk/79cEZe9umT9R/XwF0zDIP5URRiTJfts/LUSMXp9SwD8RVFzPI0GkP3/ILAPzycY/UIC8dcxtoD/fxVC48lCtP3GCGbkG+6I/GAflMCQCKD9v4UsghireP/p4vKmQBbk/XWY4CF5Hnj9pozwUGQxQP+IgFWqWzKE/AMgf52tplz/mRly4zwuoP5iIlgs5L4U/Ro4m+dK2kD8JDvdQ55qRP1oA9cf7obA/5iqlISWGnz80N1g8KbSfPykWqBM2UaE/Yom57YoIhT84D9190/KrP9T9qdhIRcA/k88AtYR/iD//zSzcH1iQP+XJcMfq95w/uKZ/hD/xrD8=",
          "dtype": "f8"
         },
         "yaxis": "y"
        }
       ],
       "layout": {
        "barmode": "relative",
        "legend": {
         "tracegroupgap": 0
        },
        "margin": {
         "t": 60
        },
        "template": {
         "data": {
          "bar": [
           {
            "error_x": {
             "color": "#2a3f5f"
            },
            "error_y": {
             "color": "#2a3f5f"
            },
            "marker": {
             "line": {
              "color": "#E5ECF6",
              "width": 0.5
             },
             "pattern": {
              "fillmode": "overlay",
              "size": 10,
              "solidity": 0.2
             }
            },
            "type": "bar"
           }
          ],
          "barpolar": [
           {
            "marker": {
             "line": {
              "color": "#E5ECF6",
              "width": 0.5
             },
             "pattern": {
              "fillmode": "overlay",
              "size": 10,
              "solidity": 0.2
             }
            },
            "type": "barpolar"
           }
          ],
          "carpet": [
           {
            "aaxis": {
             "endlinecolor": "#2a3f5f",
             "gridcolor": "white",
             "linecolor": "white",
             "minorgridcolor": "white",
             "startlinecolor": "#2a3f5f"
            },
            "baxis": {
             "endlinecolor": "#2a3f5f",
             "gridcolor": "white",
             "linecolor": "white",
             "minorgridcolor": "white",
             "startlinecolor": "#2a3f5f"
            },
            "type": "carpet"
           }
          ],
          "choropleth": [
           {
            "colorbar": {
             "outlinewidth": 0,
             "ticks": ""
            },
            "type": "choropleth"
           }
          ],
          "contour": [
           {
            "colorbar": {
             "outlinewidth": 0,
             "ticks": ""
            },
            "colorscale": [
             [
              0,
              "#0d0887"
             ],
             [
              0.1111111111111111,
              "#46039f"
             ],
             [
              0.2222222222222222,
              "#7201a8"
             ],
             [
              0.3333333333333333,
              "#9c179e"
             ],
             [
              0.4444444444444444,
              "#bd3786"
             ],
             [
              0.5555555555555556,
              "#d8576b"
             ],
             [
              0.6666666666666666,
              "#ed7953"
             ],
             [
              0.7777777777777778,
              "#fb9f3a"
             ],
             [
              0.8888888888888888,
              "#fdca26"
             ],
             [
              1,
              "#f0f921"
             ]
            ],
            "type": "contour"
           }
          ],
          "contourcarpet": [
           {
            "colorbar": {
             "outlinewidth": 0,
             "ticks": ""
            },
            "type": "contourcarpet"
           }
          ],
          "heatmap": [
           {
            "colorbar": {
             "outlinewidth": 0,
             "ticks": ""
            },
            "colorscale": [
             [
              0,
              "#0d0887"
             ],
             [
              0.1111111111111111,
              "#46039f"
             ],
             [
              0.2222222222222222,
              "#7201a8"
             ],
             [
              0.3333333333333333,
              "#9c179e"
             ],
             [
              0.4444444444444444,
              "#bd3786"
             ],
             [
              0.5555555555555556,
              "#d8576b"
             ],
             [
              0.6666666666666666,
              "#ed7953"
             ],
             [
              0.7777777777777778,
              "#fb9f3a"
             ],
             [
              0.8888888888888888,
              "#fdca26"
             ],
             [
              1,
              "#f0f921"
             ]
            ],
            "type": "heatmap"
           }
          ],
          "histogram": [
           {
            "marker": {
             "pattern": {
              "fillmode": "overlay",
              "size": 10,
              "solidity": 0.2
             }
            },
            "type": "histogram"
           }
          ],
          "histogram2d": [
           {
            "colorbar": {
             "outlinewidth": 0,
             "ticks": ""
            },
            "colorscale": [
             [
              0,
              "#0d0887"
             ],
             [
              0.1111111111111111,
              "#46039f"
             ],
             [
              0.2222222222222222,
              "#7201a8"
             ],
             [
              0.3333333333333333,
              "#9c179e"
             ],
             [
              0.4444444444444444,
              "#bd3786"
             ],
             [
              0.5555555555555556,
              "#d8576b"
             ],
             [
              0.6666666666666666,
              "#ed7953"
             ],
             [
              0.7777777777777778,
              "#fb9f3a"
             ],
             [
              0.8888888888888888,
              "#fdca26"
             ],
             [
              1,
              "#f0f921"
             ]
            ],
            "type": "histogram2d"
           }
          ],
          "histogram2dcontour": [
           {
            "colorbar": {
             "outlinewidth": 0,
             "ticks": ""
            },
            "colorscale": [
             [
              0,
              "#0d0887"
             ],
             [
              0.1111111111111111,
              "#46039f"
             ],
             [
              0.2222222222222222,
              "#7201a8"
             ],
             [
              0.3333333333333333,
              "#9c179e"
             ],
             [
              0.4444444444444444,
              "#bd3786"
             ],
             [
              0.5555555555555556,
              "#d8576b"
             ],
             [
              0.6666666666666666,
              "#ed7953"
             ],
             [
              0.7777777777777778,
              "#fb9f3a"
             ],
             [
              0.8888888888888888,
              "#fdca26"
             ],
             [
              1,
              "#f0f921"
             ]
            ],
            "type": "histogram2dcontour"
           }
          ],
          "mesh3d": [
           {
            "colorbar": {
             "outlinewidth": 0,
             "ticks": ""
            },
            "type": "mesh3d"
           }
          ],
          "parcoords": [
           {
            "line": {
             "colorbar": {
              "outlinewidth": 0,
              "ticks": ""
             }
            },
            "type": "parcoords"
           }
          ],
          "pie": [
           {
            "automargin": true,
            "type": "pie"
           }
          ],
          "scatter": [
           {
            "fillpattern": {
             "fillmode": "overlay",
             "size": 10,
             "solidity": 0.2
            },
            "type": "scatter"
           }
          ],
          "scatter3d": [
           {
            "line": {
             "colorbar": {
              "outlinewidth": 0,
              "ticks": ""
             }
            },
            "marker": {
             "colorbar": {
              "outlinewidth": 0,
              "ticks": ""
             }
            },
            "type": "scatter3d"
           }
          ],
          "scattercarpet": [
           {
            "marker": {
             "colorbar": {
              "outlinewidth": 0,
              "ticks": ""
             }
            },
            "type": "scattercarpet"
           }
          ],
          "scattergeo": [
           {
            "marker": {
             "colorbar": {
              "outlinewidth": 0,
              "ticks": ""
             }
            },
            "type": "scattergeo"
           }
          ],
          "scattergl": [
           {
            "marker": {
             "colorbar": {
              "outlinewidth": 0,
              "ticks": ""
             }
            },
            "type": "scattergl"
           }
          ],
          "scattermap": [
           {
            "marker": {
             "colorbar": {
              "outlinewidth": 0,
              "ticks": ""
             }
            },
            "type": "scattermap"
           }
          ],
          "scattermapbox": [
           {
            "marker": {
             "colorbar": {
              "outlinewidth": 0,
              "ticks": ""
             }
            },
            "type": "scattermapbox"
           }
          ],
          "scatterpolar": [
           {
            "marker": {
             "colorbar": {
              "outlinewidth": 0,
              "ticks": ""
             }
            },
            "type": "scatterpolar"
           }
          ],
          "scatterpolargl": [
           {
            "marker": {
             "colorbar": {
              "outlinewidth": 0,
              "ticks": ""
             }
            },
            "type": "scatterpolargl"
           }
          ],
          "scatterternary": [
           {
            "marker": {
             "colorbar": {
              "outlinewidth": 0,
              "ticks": ""
             }
            },
            "type": "scatterternary"
           }
          ],
          "surface": [
           {
            "colorbar": {
             "outlinewidth": 0,
             "ticks": ""
            },
            "colorscale": [
             [
              0,
              "#0d0887"
             ],
             [
              0.1111111111111111,
              "#46039f"
             ],
             [
              0.2222222222222222,
              "#7201a8"
             ],
             [
              0.3333333333333333,
              "#9c179e"
             ],
             [
              0.4444444444444444,
              "#bd3786"
             ],
             [
              0.5555555555555556,
              "#d8576b"
             ],
             [
              0.6666666666666666,
              "#ed7953"
             ],
             [
              0.7777777777777778,
              "#fb9f3a"
             ],
             [
              0.8888888888888888,
              "#fdca26"
             ],
             [
              1,
              "#f0f921"
             ]
            ],
            "type": "surface"
           }
          ],
          "table": [
           {
            "cells": {
             "fill": {
              "color": "#EBF0F8"
             },
             "line": {
              "color": "white"
             }
            },
            "header": {
             "fill": {
              "color": "#C8D4E3"
             },
             "line": {
              "color": "white"
             }
            },
            "type": "table"
           }
          ]
         },
         "layout": {
          "annotationdefaults": {
           "arrowcolor": "#2a3f5f",
           "arrowhead": 0,
           "arrowwidth": 1
          },
          "autotypenumbers": "strict",
          "coloraxis": {
           "colorbar": {
            "outlinewidth": 0,
            "ticks": ""
           }
          },
          "colorscale": {
           "diverging": [
            [
             0,
             "#8e0152"
            ],
            [
             0.1,
             "#c51b7d"
            ],
            [
             0.2,
             "#de77ae"
            ],
            [
             0.3,
             "#f1b6da"
            ],
            [
             0.4,
             "#fde0ef"
            ],
            [
             0.5,
             "#f7f7f7"
            ],
            [
             0.6,
             "#e6f5d0"
            ],
            [
             0.7,
             "#b8e186"
            ],
            [
             0.8,
             "#7fbc41"
            ],
            [
             0.9,
             "#4d9221"
            ],
            [
             1,
             "#276419"
            ]
           ],
           "sequential": [
            [
             0,
             "#0d0887"
            ],
            [
             0.1111111111111111,
             "#46039f"
            ],
            [
             0.2222222222222222,
             "#7201a8"
            ],
            [
             0.3333333333333333,
             "#9c179e"
            ],
            [
             0.4444444444444444,
             "#bd3786"
            ],
            [
             0.5555555555555556,
             "#d8576b"
            ],
            [
             0.6666666666666666,
             "#ed7953"
            ],
            [
             0.7777777777777778,
             "#fb9f3a"
            ],
            [
             0.8888888888888888,
             "#fdca26"
            ],
            [
             1,
             "#f0f921"
            ]
           ],
           "sequentialminus": [
            [
             0,
             "#0d0887"
            ],
            [
             0.1111111111111111,
             "#46039f"
            ],
            [
             0.2222222222222222,
             "#7201a8"
            ],
            [
             0.3333333333333333,
             "#9c179e"
            ],
            [
             0.4444444444444444,
             "#bd3786"
            ],
            [
             0.5555555555555556,
             "#d8576b"
            ],
            [
             0.6666666666666666,
             "#ed7953"
            ],
            [
             0.7777777777777778,
             "#fb9f3a"
            ],
            [
             0.8888888888888888,
             "#fdca26"
            ],
            [
             1,
             "#f0f921"
            ]
           ]
          },
          "colorway": [
           "#636efa",
           "#EF553B",
           "#00cc96",
           "#ab63fa",
           "#FFA15A",
           "#19d3f3",
           "#FF6692",
           "#B6E880",
           "#FF97FF",
           "#FECB52"
          ],
          "font": {
           "color": "#2a3f5f"
          },
          "geo": {
           "bgcolor": "white",
           "lakecolor": "white",
           "landcolor": "#E5ECF6",
           "showlakes": true,
           "showland": true,
           "subunitcolor": "white"
          },
          "hoverlabel": {
           "align": "left"
          },
          "hovermode": "closest",
          "mapbox": {
           "style": "light"
          },
          "paper_bgcolor": "white",
          "plot_bgcolor": "#E5ECF6",
          "polar": {
           "angularaxis": {
            "gridcolor": "white",
            "linecolor": "white",
            "ticks": ""
           },
           "bgcolor": "#E5ECF6",
           "radialaxis": {
            "gridcolor": "white",
            "linecolor": "white",
            "ticks": ""
           }
          },
          "scene": {
           "xaxis": {
            "backgroundcolor": "#E5ECF6",
            "gridcolor": "white",
            "gridwidth": 2,
            "linecolor": "white",
            "showbackground": true,
            "ticks": "",
            "zerolinecolor": "white"
           },
           "yaxis": {
            "backgroundcolor": "#E5ECF6",
            "gridcolor": "white",
            "gridwidth": 2,
            "linecolor": "white",
            "showbackground": true,
            "ticks": "",
            "zerolinecolor": "white"
           },
           "zaxis": {
            "backgroundcolor": "#E5ECF6",
            "gridcolor": "white",
            "gridwidth": 2,
            "linecolor": "white",
            "showbackground": true,
            "ticks": "",
            "zerolinecolor": "white"
           }
          },
          "shapedefaults": {
           "line": {
            "color": "#2a3f5f"
           }
          },
          "ternary": {
           "aaxis": {
            "gridcolor": "white",
            "linecolor": "white",
            "ticks": ""
           },
           "baxis": {
            "gridcolor": "white",
            "linecolor": "white",
            "ticks": ""
           },
           "bgcolor": "#E5ECF6",
           "caxis": {
            "gridcolor": "white",
            "linecolor": "white",
            "ticks": ""
           }
          },
          "title": {
           "x": 0.05
          },
          "xaxis": {
           "automargin": true,
           "gridcolor": "white",
           "linecolor": "white",
           "ticks": "",
           "title": {
            "standoff": 15
           },
           "zerolinecolor": "white",
           "zerolinewidth": 2
          },
          "yaxis": {
           "automargin": true,
           "gridcolor": "white",
           "linecolor": "white",
           "ticks": "",
           "title": {
            "standoff": 15
           },
           "zerolinecolor": "white",
           "zerolinewidth": 2
          }
         }
        },
        "xaxis": {
         "anchor": "y",
         "categoryorder": "total descending",
         "domain": [
          0,
          1
         ],
         "title": {
          "text": "x"
         }
        },
        "yaxis": {
         "anchor": "x",
         "domain": [
          0,
          1
         ],
         "title": {
          "text": "y"
         }
        }
       }
      }
     },
     "metadata": {},
     "output_type": "display_data"
    }
   ],
   "source": [
    "corr_with_zero_diag = np.corrcoef(data_full, rowvar=False) - np.eye(data_full.shape[1])\n",
    "fig = px.imshow(corr_with_zero_diag, x=drug_names_unique, y=drug_names_unique, zmin=-0.4, zmax=0.4, color_continuous_scale='RdBu')\n",
    "fig.show()\n",
    "\n",
    "fig = px.bar(x=drug_names_unique, y=data_full.mean(0))\n",
    "fig.update_xaxes(categoryorder='total descending')\n",
    "fig.show()"
   ]
  },
  {
   "cell_type": "code",
   "execution_count": 203,
   "metadata": {},
   "outputs": [
    {
     "data": {
      "text/plain": [
       "carvedilol             0.036713\n",
       "esomeprazole           0.039470\n",
       "thyroxine              0.175072\n",
       "tramadol               0.011647\n",
       "amlodipine             0.201033\n",
       "metoprolol             0.208141\n",
       "omeprazole             0.092534\n",
       "simvastatin            0.254053\n",
       "tamsulosin             0.024570\n",
       "alendronate            0.024837\n",
       "atorvastatin           0.188990\n",
       "lisinopril             0.429613\n",
       "losartan               0.127521\n",
       "sertraline             0.039559\n",
       "metformin              0.178038\n",
       "pioglitazone           0.032088\n",
       "pravastatin            0.057258\n",
       "furosemide             0.037071\n",
       "potassium chloride     0.000183\n",
       "hydrochlorothiazide    0.471345\n",
       "atenolol               0.097741\n",
       "warfarin               0.029569\n",
       "aspirin                0.000979\n",
       "lovastatin             0.034764\n",
       "albuterol              0.022863\n",
       "glipizide              0.046965\n",
       "ranitidine             0.010344\n",
       "gabapentin             0.016322\n",
       "insulin glargine       0.017192\n",
       "clopidogrel            0.064972\n",
       "zolpidem               0.030785\n",
       "allopurinol            0.030961\n",
       "citalopram             0.033823\n",
       "prednisone             0.010270\n",
       "rosuvastatin           0.054587\n",
       "valsartan              0.127114\n",
       "ibuprofen              0.011962\n",
       "fexofenadine           0.015961\n",
       "montelukast            0.028289\n",
       "fluticasone            0.056528\n",
       "dtype: float64"
      ]
     },
     "execution_count": 203,
     "metadata": {},
     "output_type": "execute_result"
    }
   ],
   "source": [
    "data_full.mean(0)"
   ]
  },
  {
   "cell_type": "code",
   "execution_count": 201,
   "metadata": {},
   "outputs": [],
   "source": [
    "feature_probs = np.mean(data_full, axis=0)\n",
    "# feature_probs = np.round(feature_probs * 20) / 20 # round to 0.05 step\n",
    "correlation_matrix = np.corrcoef(data_full, rowvar=False) # correlation, same as (np.cov(X,Y)[0,1]/(np.std(X,ddof=1)*np.std(Y,ddof=1)))\n",
    "# correlation_matrix = np.round(correlation_matrix, 3)\n",
    "# np.savetxt('feat_probs.csv', feature_probs, delimiter=',')\n",
    "# np.savetxt('correlation_matrix.csv', correlation_matrix, delimiter=',')\n",
    "# ======================================================================\n",
    "commonprob = bnd.bincorr2commonprob(margprob=feature_probs, \n",
    "                                        bincorr=correlation_matrix)\n",
    "# commonprob2sigma\n",
    "sigma = bnd.commonprob2sigma(commonprob)\n",
    "µ, Σ = norm.ppf(feature_probs), sigma\n",
    "# find nearest positive semidefinite\n",
    "Σ = cov_nearest(Σ)\n",
    "# sample = multivariate_normal.rvs(µ, Σ, size=N)\n",
    "mvn = multivariate_normal(µ, Σ, allow_singular=True)\n",
    "sample = bnd.ra2ba(mvn.rvs(size=100000))"
   ]
  },
  {
   "cell_type": "code",
   "execution_count": 202,
   "metadata": {},
   "outputs": [
    {
     "data": {
      "application/vnd.plotly.v1+json": {
       "config": {
        "plotlyServerURL": "https://plot.ly"
       },
       "data": [
        {
         "coloraxis": "coloraxis",
         "hovertemplate": "x: %{x}<br>y: %{y}<br>color: %{z}<extra></extra>",
         "name": "0",
         "type": "heatmap",
         "x": [
          "CARVEDILOL",
          "ESOMEPRAZOLE",
          "LEVOTHYROXINE",
          "TRAMADOL",
          "AMLODIPINE",
          "METOPROLOL",
          "OMEPRAZOLE",
          "SIMVASTATIN",
          "TAMSULOSIN",
          "ALENDRONATE",
          "ATORVASTATIN",
          "LISINOPRIL",
          "LOSARTAN",
          "SERTRALINE",
          "METFORMIN",
          "PIOGLITAZONE",
          "PRAVASTATIN",
          "FUROSEMIDE",
          "POTASSIUM CHLORIDE",
          "HYDROCHLOROTHIAZIDE",
          "ATENOLOL",
          "WARFARIN",
          "ASPIRIN",
          "LOVASTATIN",
          "ALBUTEROL",
          "GLIPIZIDE",
          "RANITIDINE",
          "GABAPENTIN",
          "INSULIN GLARGINE",
          "CLOPIDOGREL",
          "ZOLPIDEM",
          "ALLOPURINOL",
          "CITALOPRAM",
          "PREDNISONE",
          "ROSUVASTATIN",
          "VALSARTAN",
          "IBUPROFEN",
          "FEXOFENADINE",
          "MONTELUKAST",
          "FLUTICASONE NASAL"
         ],
         "xaxis": "x",
         "y": [
          "CARVEDILOL",
          "ESOMEPRAZOLE",
          "LEVOTHYROXINE",
          "TRAMADOL",
          "AMLODIPINE",
          "METOPROLOL",
          "OMEPRAZOLE",
          "SIMVASTATIN",
          "TAMSULOSIN",
          "ALENDRONATE",
          "ATORVASTATIN",
          "LISINOPRIL",
          "LOSARTAN",
          "SERTRALINE",
          "METFORMIN",
          "PIOGLITAZONE",
          "PRAVASTATIN",
          "FUROSEMIDE",
          "POTASSIUM CHLORIDE",
          "HYDROCHLOROTHIAZIDE",
          "ATENOLOL",
          "WARFARIN",
          "ASPIRIN",
          "LOVASTATIN",
          "ALBUTEROL",
          "GLIPIZIDE",
          "RANITIDINE",
          "GABAPENTIN",
          "INSULIN GLARGINE",
          "CLOPIDOGREL",
          "ZOLPIDEM",
          "ALLOPURINOL",
          "CITALOPRAM",
          "PREDNISONE",
          "ROSUVASTATIN",
          "VALSARTAN",
          "IBUPROFEN",
          "FEXOFENADINE",
          "MONTELUKAST",
          "FLUTICASONE NASAL"
         ],
         "yaxis": "y",
         "z": {
          "bdata": "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",
          "dtype": "f8",
          "shape": "40, 40"
         }
        }
       ],
       "layout": {
        "coloraxis": {
         "cmax": 0.4,
         "cmin": -0.4,
         "colorscale": [
          [
           0,
           "rgb(103,0,31)"
          ],
          [
           0.1,
           "rgb(178,24,43)"
          ],
          [
           0.2,
           "rgb(214,96,77)"
          ],
          [
           0.3,
           "rgb(244,165,130)"
          ],
          [
           0.4,
           "rgb(253,219,199)"
          ],
          [
           0.5,
           "rgb(247,247,247)"
          ],
          [
           0.6,
           "rgb(209,229,240)"
          ],
          [
           0.7,
           "rgb(146,197,222)"
          ],
          [
           0.8,
           "rgb(67,147,195)"
          ],
          [
           0.9,
           "rgb(33,102,172)"
          ],
          [
           1,
           "rgb(5,48,97)"
          ]
         ]
        },
        "margin": {
         "t": 60
        },
        "template": {
         "data": {
          "bar": [
           {
            "error_x": {
             "color": "#2a3f5f"
            },
            "error_y": {
             "color": "#2a3f5f"
            },
            "marker": {
             "line": {
              "color": "#E5ECF6",
              "width": 0.5
             },
             "pattern": {
              "fillmode": "overlay",
              "size": 10,
              "solidity": 0.2
             }
            },
            "type": "bar"
           }
          ],
          "barpolar": [
           {
            "marker": {
             "line": {
              "color": "#E5ECF6",
              "width": 0.5
             },
             "pattern": {
              "fillmode": "overlay",
              "size": 10,
              "solidity": 0.2
             }
            },
            "type": "barpolar"
           }
          ],
          "carpet": [
           {
            "aaxis": {
             "endlinecolor": "#2a3f5f",
             "gridcolor": "white",
             "linecolor": "white",
             "minorgridcolor": "white",
             "startlinecolor": "#2a3f5f"
            },
            "baxis": {
             "endlinecolor": "#2a3f5f",
             "gridcolor": "white",
             "linecolor": "white",
             "minorgridcolor": "white",
             "startlinecolor": "#2a3f5f"
            },
            "type": "carpet"
           }
          ],
          "choropleth": [
           {
            "colorbar": {
             "outlinewidth": 0,
             "ticks": ""
            },
            "type": "choropleth"
           }
          ],
          "contour": [
           {
            "colorbar": {
             "outlinewidth": 0,
             "ticks": ""
            },
            "colorscale": [
             [
              0,
              "#0d0887"
             ],
             [
              0.1111111111111111,
              "#46039f"
             ],
             [
              0.2222222222222222,
              "#7201a8"
             ],
             [
              0.3333333333333333,
              "#9c179e"
             ],
             [
              0.4444444444444444,
              "#bd3786"
             ],
             [
              0.5555555555555556,
              "#d8576b"
             ],
             [
              0.6666666666666666,
              "#ed7953"
             ],
             [
              0.7777777777777778,
              "#fb9f3a"
             ],
             [
              0.8888888888888888,
              "#fdca26"
             ],
             [
              1,
              "#f0f921"
             ]
            ],
            "type": "contour"
           }
          ],
          "contourcarpet": [
           {
            "colorbar": {
             "outlinewidth": 0,
             "ticks": ""
            },
            "type": "contourcarpet"
           }
          ],
          "heatmap": [
           {
            "colorbar": {
             "outlinewidth": 0,
             "ticks": ""
            },
            "colorscale": [
             [
              0,
              "#0d0887"
             ],
             [
              0.1111111111111111,
              "#46039f"
             ],
             [
              0.2222222222222222,
              "#7201a8"
             ],
             [
              0.3333333333333333,
              "#9c179e"
             ],
             [
              0.4444444444444444,
              "#bd3786"
             ],
             [
              0.5555555555555556,
              "#d8576b"
             ],
             [
              0.6666666666666666,
              "#ed7953"
             ],
             [
              0.7777777777777778,
              "#fb9f3a"
             ],
             [
              0.8888888888888888,
              "#fdca26"
             ],
             [
              1,
              "#f0f921"
             ]
            ],
            "type": "heatmap"
           }
          ],
          "histogram": [
           {
            "marker": {
             "pattern": {
              "fillmode": "overlay",
              "size": 10,
              "solidity": 0.2
             }
            },
            "type": "histogram"
           }
          ],
          "histogram2d": [
           {
            "colorbar": {
             "outlinewidth": 0,
             "ticks": ""
            },
            "colorscale": [
             [
              0,
              "#0d0887"
             ],
             [
              0.1111111111111111,
              "#46039f"
             ],
             [
              0.2222222222222222,
              "#7201a8"
             ],
             [
              0.3333333333333333,
              "#9c179e"
             ],
             [
              0.4444444444444444,
              "#bd3786"
             ],
             [
              0.5555555555555556,
              "#d8576b"
             ],
             [
              0.6666666666666666,
              "#ed7953"
             ],
             [
              0.7777777777777778,
              "#fb9f3a"
             ],
             [
              0.8888888888888888,
              "#fdca26"
             ],
             [
              1,
              "#f0f921"
             ]
            ],
            "type": "histogram2d"
           }
          ],
          "histogram2dcontour": [
           {
            "colorbar": {
             "outlinewidth": 0,
             "ticks": ""
            },
            "colorscale": [
             [
              0,
              "#0d0887"
             ],
             [
              0.1111111111111111,
              "#46039f"
             ],
             [
              0.2222222222222222,
              "#7201a8"
             ],
             [
              0.3333333333333333,
              "#9c179e"
             ],
             [
              0.4444444444444444,
              "#bd3786"
             ],
             [
              0.5555555555555556,
              "#d8576b"
             ],
             [
              0.6666666666666666,
              "#ed7953"
             ],
             [
              0.7777777777777778,
              "#fb9f3a"
             ],
             [
              0.8888888888888888,
              "#fdca26"
             ],
             [
              1,
              "#f0f921"
             ]
            ],
            "type": "histogram2dcontour"
           }
          ],
          "mesh3d": [
           {
            "colorbar": {
             "outlinewidth": 0,
             "ticks": ""
            },
            "type": "mesh3d"
           }
          ],
          "parcoords": [
           {
            "line": {
             "colorbar": {
              "outlinewidth": 0,
              "ticks": ""
             }
            },
            "type": "parcoords"
           }
          ],
          "pie": [
           {
            "automargin": true,
            "type": "pie"
           }
          ],
          "scatter": [
           {
            "fillpattern": {
             "fillmode": "overlay",
             "size": 10,
             "solidity": 0.2
            },
            "type": "scatter"
           }
          ],
          "scatter3d": [
           {
            "line": {
             "colorbar": {
              "outlinewidth": 0,
              "ticks": ""
             }
            },
            "marker": {
             "colorbar": {
              "outlinewidth": 0,
              "ticks": ""
             }
            },
            "type": "scatter3d"
           }
          ],
          "scattercarpet": [
           {
            "marker": {
             "colorbar": {
              "outlinewidth": 0,
              "ticks": ""
             }
            },
            "type": "scattercarpet"
           }
          ],
          "scattergeo": [
           {
            "marker": {
             "colorbar": {
              "outlinewidth": 0,
              "ticks": ""
             }
            },
            "type": "scattergeo"
           }
          ],
          "scattergl": [
           {
            "marker": {
             "colorbar": {
              "outlinewidth": 0,
              "ticks": ""
             }
            },
            "type": "scattergl"
           }
          ],
          "scattermap": [
           {
            "marker": {
             "colorbar": {
              "outlinewidth": 0,
              "ticks": ""
             }
            },
            "type": "scattermap"
           }
          ],
          "scattermapbox": [
           {
            "marker": {
             "colorbar": {
              "outlinewidth": 0,
              "ticks": ""
             }
            },
            "type": "scattermapbox"
           }
          ],
          "scatterpolar": [
           {
            "marker": {
             "colorbar": {
              "outlinewidth": 0,
              "ticks": ""
             }
            },
            "type": "scatterpolar"
           }
          ],
          "scatterpolargl": [
           {
            "marker": {
             "colorbar": {
              "outlinewidth": 0,
              "ticks": ""
             }
            },
            "type": "scatterpolargl"
           }
          ],
          "scatterternary": [
           {
            "marker": {
             "colorbar": {
              "outlinewidth": 0,
              "ticks": ""
             }
            },
            "type": "scatterternary"
           }
          ],
          "surface": [
           {
            "colorbar": {
             "outlinewidth": 0,
             "ticks": ""
            },
            "colorscale": [
             [
              0,
              "#0d0887"
             ],
             [
              0.1111111111111111,
              "#46039f"
             ],
             [
              0.2222222222222222,
              "#7201a8"
             ],
             [
              0.3333333333333333,
              "#9c179e"
             ],
             [
              0.4444444444444444,
              "#bd3786"
             ],
             [
              0.5555555555555556,
              "#d8576b"
             ],
             [
              0.6666666666666666,
              "#ed7953"
             ],
             [
              0.7777777777777778,
              "#fb9f3a"
             ],
             [
              0.8888888888888888,
              "#fdca26"
             ],
             [
              1,
              "#f0f921"
             ]
            ],
            "type": "surface"
           }
          ],
          "table": [
           {
            "cells": {
             "fill": {
              "color": "#EBF0F8"
             },
             "line": {
              "color": "white"
             }
            },
            "header": {
             "fill": {
              "color": "#C8D4E3"
             },
             "line": {
              "color": "white"
             }
            },
            "type": "table"
           }
          ]
         },
         "layout": {
          "annotationdefaults": {
           "arrowcolor": "#2a3f5f",
           "arrowhead": 0,
           "arrowwidth": 1
          },
          "autotypenumbers": "strict",
          "coloraxis": {
           "colorbar": {
            "outlinewidth": 0,
            "ticks": ""
           }
          },
          "colorscale": {
           "diverging": [
            [
             0,
             "#8e0152"
            ],
            [
             0.1,
             "#c51b7d"
            ],
            [
             0.2,
             "#de77ae"
            ],
            [
             0.3,
             "#f1b6da"
            ],
            [
             0.4,
             "#fde0ef"
            ],
            [
             0.5,
             "#f7f7f7"
            ],
            [
             0.6,
             "#e6f5d0"
            ],
            [
             0.7,
             "#b8e186"
            ],
            [
             0.8,
             "#7fbc41"
            ],
            [
             0.9,
             "#4d9221"
            ],
            [
             1,
             "#276419"
            ]
           ],
           "sequential": [
            [
             0,
             "#0d0887"
            ],
            [
             0.1111111111111111,
             "#46039f"
            ],
            [
             0.2222222222222222,
             "#7201a8"
            ],
            [
             0.3333333333333333,
             "#9c179e"
            ],
            [
             0.4444444444444444,
             "#bd3786"
            ],
            [
             0.5555555555555556,
             "#d8576b"
            ],
            [
             0.6666666666666666,
             "#ed7953"
            ],
            [
             0.7777777777777778,
             "#fb9f3a"
            ],
            [
             0.8888888888888888,
             "#fdca26"
            ],
            [
             1,
             "#f0f921"
            ]
           ],
           "sequentialminus": [
            [
             0,
             "#0d0887"
            ],
            [
             0.1111111111111111,
             "#46039f"
            ],
            [
             0.2222222222222222,
             "#7201a8"
            ],
            [
             0.3333333333333333,
             "#9c179e"
            ],
            [
             0.4444444444444444,
             "#bd3786"
            ],
            [
             0.5555555555555556,
             "#d8576b"
            ],
            [
             0.6666666666666666,
             "#ed7953"
            ],
            [
             0.7777777777777778,
             "#fb9f3a"
            ],
            [
             0.8888888888888888,
             "#fdca26"
            ],
            [
             1,
             "#f0f921"
            ]
           ]
          },
          "colorway": [
           "#636efa",
           "#EF553B",
           "#00cc96",
           "#ab63fa",
           "#FFA15A",
           "#19d3f3",
           "#FF6692",
           "#B6E880",
           "#FF97FF",
           "#FECB52"
          ],
          "font": {
           "color": "#2a3f5f"
          },
          "geo": {
           "bgcolor": "white",
           "lakecolor": "white",
           "landcolor": "#E5ECF6",
           "showlakes": true,
           "showland": true,
           "subunitcolor": "white"
          },
          "hoverlabel": {
           "align": "left"
          },
          "hovermode": "closest",
          "mapbox": {
           "style": "light"
          },
          "paper_bgcolor": "white",
          "plot_bgcolor": "#E5ECF6",
          "polar": {
           "angularaxis": {
            "gridcolor": "white",
            "linecolor": "white",
            "ticks": ""
           },
           "bgcolor": "#E5ECF6",
           "radialaxis": {
            "gridcolor": "white",
            "linecolor": "white",
            "ticks": ""
           }
          },
          "scene": {
           "xaxis": {
            "backgroundcolor": "#E5ECF6",
            "gridcolor": "white",
            "gridwidth": 2,
            "linecolor": "white",
            "showbackground": true,
            "ticks": "",
            "zerolinecolor": "white"
           },
           "yaxis": {
            "backgroundcolor": "#E5ECF6",
            "gridcolor": "white",
            "gridwidth": 2,
            "linecolor": "white",
            "showbackground": true,
            "ticks": "",
            "zerolinecolor": "white"
           },
           "zaxis": {
            "backgroundcolor": "#E5ECF6",
            "gridcolor": "white",
            "gridwidth": 2,
            "linecolor": "white",
            "showbackground": true,
            "ticks": "",
            "zerolinecolor": "white"
           }
          },
          "shapedefaults": {
           "line": {
            "color": "#2a3f5f"
           }
          },
          "ternary": {
           "aaxis": {
            "gridcolor": "white",
            "linecolor": "white",
            "ticks": ""
           },
           "baxis": {
            "gridcolor": "white",
            "linecolor": "white",
            "ticks": ""
           },
           "bgcolor": "#E5ECF6",
           "caxis": {
            "gridcolor": "white",
            "linecolor": "white",
            "ticks": ""
           }
          },
          "title": {
           "x": 0.05
          },
          "xaxis": {
           "automargin": true,
           "gridcolor": "white",
           "linecolor": "white",
           "ticks": "",
           "title": {
            "standoff": 15
           },
           "zerolinecolor": "white",
           "zerolinewidth": 2
          },
          "yaxis": {
           "automargin": true,
           "gridcolor": "white",
           "linecolor": "white",
           "ticks": "",
           "title": {
            "standoff": 15
           },
           "zerolinecolor": "white",
           "zerolinewidth": 2
          }
         }
        },
        "xaxis": {
         "anchor": "y",
         "constrain": "domain",
         "domain": [
          0,
          1
         ],
         "scaleanchor": "y"
        },
        "yaxis": {
         "anchor": "x",
         "autorange": "reversed",
         "constrain": "domain",
         "domain": [
          0,
          1
         ]
        }
       }
      }
     },
     "metadata": {},
     "output_type": "display_data"
    },
    {
     "data": {
      "application/vnd.plotly.v1+json": {
       "config": {
        "plotlyServerURL": "https://plot.ly"
       },
       "data": [
        {
         "hovertemplate": "x=%{x}<br>y=%{y}<extra></extra>",
         "legendgroup": "",
         "marker": {
          "color": "#636efa",
          "pattern": {
           "shape": ""
          }
         },
         "name": "",
         "orientation": "v",
         "showlegend": false,
         "textposition": "auto",
         "type": "bar",
         "x": [
          "CARVEDILOL",
          "ESOMEPRAZOLE",
          "LEVOTHYROXINE",
          "TRAMADOL",
          "AMLODIPINE",
          "METOPROLOL",
          "OMEPRAZOLE",
          "SIMVASTATIN",
          "TAMSULOSIN",
          "ALENDRONATE",
          "ATORVASTATIN",
          "LISINOPRIL",
          "LOSARTAN",
          "SERTRALINE",
          "METFORMIN",
          "PIOGLITAZONE",
          "PRAVASTATIN",
          "FUROSEMIDE",
          "POTASSIUM CHLORIDE",
          "HYDROCHLOROTHIAZIDE",
          "ATENOLOL",
          "WARFARIN",
          "ASPIRIN",
          "LOVASTATIN",
          "ALBUTEROL",
          "GLIPIZIDE",
          "RANITIDINE",
          "GABAPENTIN",
          "INSULIN GLARGINE",
          "CLOPIDOGREL",
          "ZOLPIDEM",
          "ALLOPURINOL",
          "CITALOPRAM",
          "PREDNISONE",
          "ROSUVASTATIN",
          "VALSARTAN",
          "IBUPROFEN",
          "FEXOFENADINE",
          "MONTELUKAST",
          "FLUTICASONE NASAL"
         ],
         "xaxis": "x",
         "y": {
          "bdata": "YYkHlE25oj/kFB3J5T+kPwVR9wFIbcY/JLn8h/Tbhz9nJ4Oj5NXJPwltOZfiqso/qAAYz6Chtz/+1HjpJjHQPxhgH5268pk/s++K4H8rmT+lMVpHVRPIP4Y97fDXZNs/j41AvK5fwD/XaaSl8nakPwMmcOtunsY/443MI38woD/NkgA1tWytP636XG3F/qI/D9b/OcyXJz8CDqFKzR7eP8PTK2UZ4rg/JTs2AvG6nj8hAg6hSs1OP4fEPZY+dKE/NNdppKXylj8fuqC+ZU6nPx+i0R3EzoQ/5+PaUDHOjz/4Nv3ZjxSRP6BU+3Q8ZrA/Nqs+V1uxnz875Ga4AZ+fPzc3pics8aA/kIMSZtr+hT/mP6Tfvg6sP9VbA1slWMA/G0esxacAiD+PjUC8rl+QP+49XHLcKZ0/Kej2ksZorT8=",
          "dtype": "f8"
         },
         "yaxis": "y"
        }
       ],
       "layout": {
        "barmode": "relative",
        "legend": {
         "tracegroupgap": 0
        },
        "margin": {
         "t": 60
        },
        "template": {
         "data": {
          "bar": [
           {
            "error_x": {
             "color": "#2a3f5f"
            },
            "error_y": {
             "color": "#2a3f5f"
            },
            "marker": {
             "line": {
              "color": "#E5ECF6",
              "width": 0.5
             },
             "pattern": {
              "fillmode": "overlay",
              "size": 10,
              "solidity": 0.2
             }
            },
            "type": "bar"
           }
          ],
          "barpolar": [
           {
            "marker": {
             "line": {
              "color": "#E5ECF6",
              "width": 0.5
             },
             "pattern": {
              "fillmode": "overlay",
              "size": 10,
              "solidity": 0.2
             }
            },
            "type": "barpolar"
           }
          ],
          "carpet": [
           {
            "aaxis": {
             "endlinecolor": "#2a3f5f",
             "gridcolor": "white",
             "linecolor": "white",
             "minorgridcolor": "white",
             "startlinecolor": "#2a3f5f"
            },
            "baxis": {
             "endlinecolor": "#2a3f5f",
             "gridcolor": "white",
             "linecolor": "white",
             "minorgridcolor": "white",
             "startlinecolor": "#2a3f5f"
            },
            "type": "carpet"
           }
          ],
          "choropleth": [
           {
            "colorbar": {
             "outlinewidth": 0,
             "ticks": ""
            },
            "type": "choropleth"
           }
          ],
          "contour": [
           {
            "colorbar": {
             "outlinewidth": 0,
             "ticks": ""
            },
            "colorscale": [
             [
              0,
              "#0d0887"
             ],
             [
              0.1111111111111111,
              "#46039f"
             ],
             [
              0.2222222222222222,
              "#7201a8"
             ],
             [
              0.3333333333333333,
              "#9c179e"
             ],
             [
              0.4444444444444444,
              "#bd3786"
             ],
             [
              0.5555555555555556,
              "#d8576b"
             ],
             [
              0.6666666666666666,
              "#ed7953"
             ],
             [
              0.7777777777777778,
              "#fb9f3a"
             ],
             [
              0.8888888888888888,
              "#fdca26"
             ],
             [
              1,
              "#f0f921"
             ]
            ],
            "type": "contour"
           }
          ],
          "contourcarpet": [
           {
            "colorbar": {
             "outlinewidth": 0,
             "ticks": ""
            },
            "type": "contourcarpet"
           }
          ],
          "heatmap": [
           {
            "colorbar": {
             "outlinewidth": 0,
             "ticks": ""
            },
            "colorscale": [
             [
              0,
              "#0d0887"
             ],
             [
              0.1111111111111111,
              "#46039f"
             ],
             [
              0.2222222222222222,
              "#7201a8"
             ],
             [
              0.3333333333333333,
              "#9c179e"
             ],
             [
              0.4444444444444444,
              "#bd3786"
             ],
             [
              0.5555555555555556,
              "#d8576b"
             ],
             [
              0.6666666666666666,
              "#ed7953"
             ],
             [
              0.7777777777777778,
              "#fb9f3a"
             ],
             [
              0.8888888888888888,
              "#fdca26"
             ],
             [
              1,
              "#f0f921"
             ]
            ],
            "type": "heatmap"
           }
          ],
          "histogram": [
           {
            "marker": {
             "pattern": {
              "fillmode": "overlay",
              "size": 10,
              "solidity": 0.2
             }
            },
            "type": "histogram"
           }
          ],
          "histogram2d": [
           {
            "colorbar": {
             "outlinewidth": 0,
             "ticks": ""
            },
            "colorscale": [
             [
              0,
              "#0d0887"
             ],
             [
              0.1111111111111111,
              "#46039f"
             ],
             [
              0.2222222222222222,
              "#7201a8"
             ],
             [
              0.3333333333333333,
              "#9c179e"
             ],
             [
              0.4444444444444444,
              "#bd3786"
             ],
             [
              0.5555555555555556,
              "#d8576b"
             ],
             [
              0.6666666666666666,
              "#ed7953"
             ],
             [
              0.7777777777777778,
              "#fb9f3a"
             ],
             [
              0.8888888888888888,
              "#fdca26"
             ],
             [
              1,
              "#f0f921"
             ]
            ],
            "type": "histogram2d"
           }
          ],
          "histogram2dcontour": [
           {
            "colorbar": {
             "outlinewidth": 0,
             "ticks": ""
            },
            "colorscale": [
             [
              0,
              "#0d0887"
             ],
             [
              0.1111111111111111,
              "#46039f"
             ],
             [
              0.2222222222222222,
              "#7201a8"
             ],
             [
              0.3333333333333333,
              "#9c179e"
             ],
             [
              0.4444444444444444,
              "#bd3786"
             ],
             [
              0.5555555555555556,
              "#d8576b"
             ],
             [
              0.6666666666666666,
              "#ed7953"
             ],
             [
              0.7777777777777778,
              "#fb9f3a"
             ],
             [
              0.8888888888888888,
              "#fdca26"
             ],
             [
              1,
              "#f0f921"
             ]
            ],
            "type": "histogram2dcontour"
           }
          ],
          "mesh3d": [
           {
            "colorbar": {
             "outlinewidth": 0,
             "ticks": ""
            },
            "type": "mesh3d"
           }
          ],
          "parcoords": [
           {
            "line": {
             "colorbar": {
              "outlinewidth": 0,
              "ticks": ""
             }
            },
            "type": "parcoords"
           }
          ],
          "pie": [
           {
            "automargin": true,
            "type": "pie"
           }
          ],
          "scatter": [
           {
            "fillpattern": {
             "fillmode": "overlay",
             "size": 10,
             "solidity": 0.2
            },
            "type": "scatter"
           }
          ],
          "scatter3d": [
           {
            "line": {
             "colorbar": {
              "outlinewidth": 0,
              "ticks": ""
             }
            },
            "marker": {
             "colorbar": {
              "outlinewidth": 0,
              "ticks": ""
             }
            },
            "type": "scatter3d"
           }
          ],
          "scattercarpet": [
           {
            "marker": {
             "colorbar": {
              "outlinewidth": 0,
              "ticks": ""
             }
            },
            "type": "scattercarpet"
           }
          ],
          "scattergeo": [
           {
            "marker": {
             "colorbar": {
              "outlinewidth": 0,
              "ticks": ""
             }
            },
            "type": "scattergeo"
           }
          ],
          "scattergl": [
           {
            "marker": {
             "colorbar": {
              "outlinewidth": 0,
              "ticks": ""
             }
            },
            "type": "scattergl"
           }
          ],
          "scattermap": [
           {
            "marker": {
             "colorbar": {
              "outlinewidth": 0,
              "ticks": ""
             }
            },
            "type": "scattermap"
           }
          ],
          "scattermapbox": [
           {
            "marker": {
             "colorbar": {
              "outlinewidth": 0,
              "ticks": ""
             }
            },
            "type": "scattermapbox"
           }
          ],
          "scatterpolar": [
           {
            "marker": {
             "colorbar": {
              "outlinewidth": 0,
              "ticks": ""
             }
            },
            "type": "scatterpolar"
           }
          ],
          "scatterpolargl": [
           {
            "marker": {
             "colorbar": {
              "outlinewidth": 0,
              "ticks": ""
             }
            },
            "type": "scatterpolargl"
           }
          ],
          "scatterternary": [
           {
            "marker": {
             "colorbar": {
              "outlinewidth": 0,
              "ticks": ""
             }
            },
            "type": "scatterternary"
           }
          ],
          "surface": [
           {
            "colorbar": {
             "outlinewidth": 0,
             "ticks": ""
            },
            "colorscale": [
             [
              0,
              "#0d0887"
             ],
             [
              0.1111111111111111,
              "#46039f"
             ],
             [
              0.2222222222222222,
              "#7201a8"
             ],
             [
              0.3333333333333333,
              "#9c179e"
             ],
             [
              0.4444444444444444,
              "#bd3786"
             ],
             [
              0.5555555555555556,
              "#d8576b"
             ],
             [
              0.6666666666666666,
              "#ed7953"
             ],
             [
              0.7777777777777778,
              "#fb9f3a"
             ],
             [
              0.8888888888888888,
              "#fdca26"
             ],
             [
              1,
              "#f0f921"
             ]
            ],
            "type": "surface"
           }
          ],
          "table": [
           {
            "cells": {
             "fill": {
              "color": "#EBF0F8"
             },
             "line": {
              "color": "white"
             }
            },
            "header": {
             "fill": {
              "color": "#C8D4E3"
             },
             "line": {
              "color": "white"
             }
            },
            "type": "table"
           }
          ]
         },
         "layout": {
          "annotationdefaults": {
           "arrowcolor": "#2a3f5f",
           "arrowhead": 0,
           "arrowwidth": 1
          },
          "autotypenumbers": "strict",
          "coloraxis": {
           "colorbar": {
            "outlinewidth": 0,
            "ticks": ""
           }
          },
          "colorscale": {
           "diverging": [
            [
             0,
             "#8e0152"
            ],
            [
             0.1,
             "#c51b7d"
            ],
            [
             0.2,
             "#de77ae"
            ],
            [
             0.3,
             "#f1b6da"
            ],
            [
             0.4,
             "#fde0ef"
            ],
            [
             0.5,
             "#f7f7f7"
            ],
            [
             0.6,
             "#e6f5d0"
            ],
            [
             0.7,
             "#b8e186"
            ],
            [
             0.8,
             "#7fbc41"
            ],
            [
             0.9,
             "#4d9221"
            ],
            [
             1,
             "#276419"
            ]
           ],
           "sequential": [
            [
             0,
             "#0d0887"
            ],
            [
             0.1111111111111111,
             "#46039f"
            ],
            [
             0.2222222222222222,
             "#7201a8"
            ],
            [
             0.3333333333333333,
             "#9c179e"
            ],
            [
             0.4444444444444444,
             "#bd3786"
            ],
            [
             0.5555555555555556,
             "#d8576b"
            ],
            [
             0.6666666666666666,
             "#ed7953"
            ],
            [
             0.7777777777777778,
             "#fb9f3a"
            ],
            [
             0.8888888888888888,
             "#fdca26"
            ],
            [
             1,
             "#f0f921"
            ]
           ],
           "sequentialminus": [
            [
             0,
             "#0d0887"
            ],
            [
             0.1111111111111111,
             "#46039f"
            ],
            [
             0.2222222222222222,
             "#7201a8"
            ],
            [
             0.3333333333333333,
             "#9c179e"
            ],
            [
             0.4444444444444444,
             "#bd3786"
            ],
            [
             0.5555555555555556,
             "#d8576b"
            ],
            [
             0.6666666666666666,
             "#ed7953"
            ],
            [
             0.7777777777777778,
             "#fb9f3a"
            ],
            [
             0.8888888888888888,
             "#fdca26"
            ],
            [
             1,
             "#f0f921"
            ]
           ]
          },
          "colorway": [
           "#636efa",
           "#EF553B",
           "#00cc96",
           "#ab63fa",
           "#FFA15A",
           "#19d3f3",
           "#FF6692",
           "#B6E880",
           "#FF97FF",
           "#FECB52"
          ],
          "font": {
           "color": "#2a3f5f"
          },
          "geo": {
           "bgcolor": "white",
           "lakecolor": "white",
           "landcolor": "#E5ECF6",
           "showlakes": true,
           "showland": true,
           "subunitcolor": "white"
          },
          "hoverlabel": {
           "align": "left"
          },
          "hovermode": "closest",
          "mapbox": {
           "style": "light"
          },
          "paper_bgcolor": "white",
          "plot_bgcolor": "#E5ECF6",
          "polar": {
           "angularaxis": {
            "gridcolor": "white",
            "linecolor": "white",
            "ticks": ""
           },
           "bgcolor": "#E5ECF6",
           "radialaxis": {
            "gridcolor": "white",
            "linecolor": "white",
            "ticks": ""
           }
          },
          "scene": {
           "xaxis": {
            "backgroundcolor": "#E5ECF6",
            "gridcolor": "white",
            "gridwidth": 2,
            "linecolor": "white",
            "showbackground": true,
            "ticks": "",
            "zerolinecolor": "white"
           },
           "yaxis": {
            "backgroundcolor": "#E5ECF6",
            "gridcolor": "white",
            "gridwidth": 2,
            "linecolor": "white",
            "showbackground": true,
            "ticks": "",
            "zerolinecolor": "white"
           },
           "zaxis": {
            "backgroundcolor": "#E5ECF6",
            "gridcolor": "white",
            "gridwidth": 2,
            "linecolor": "white",
            "showbackground": true,
            "ticks": "",
            "zerolinecolor": "white"
           }
          },
          "shapedefaults": {
           "line": {
            "color": "#2a3f5f"
           }
          },
          "ternary": {
           "aaxis": {
            "gridcolor": "white",
            "linecolor": "white",
            "ticks": ""
           },
           "baxis": {
            "gridcolor": "white",
            "linecolor": "white",
            "ticks": ""
           },
           "bgcolor": "#E5ECF6",
           "caxis": {
            "gridcolor": "white",
            "linecolor": "white",
            "ticks": ""
           }
          },
          "title": {
           "x": 0.05
          },
          "xaxis": {
           "automargin": true,
           "gridcolor": "white",
           "linecolor": "white",
           "ticks": "",
           "title": {
            "standoff": 15
           },
           "zerolinecolor": "white",
           "zerolinewidth": 2
          },
          "yaxis": {
           "automargin": true,
           "gridcolor": "white",
           "linecolor": "white",
           "ticks": "",
           "title": {
            "standoff": 15
           },
           "zerolinecolor": "white",
           "zerolinewidth": 2
          }
         }
        },
        "xaxis": {
         "anchor": "y",
         "categoryorder": "total descending",
         "domain": [
          0,
          1
         ],
         "title": {
          "text": "x"
         }
        },
        "yaxis": {
         "anchor": "x",
         "domain": [
          0,
          1
         ],
         "title": {
          "text": "y"
         }
        }
       }
      }
     },
     "metadata": {},
     "output_type": "display_data"
    }
   ],
   "source": [
    "corr_with_zero_diag = np.corrcoef(sample, rowvar=False) - np.eye(sample.shape[1])\n",
    "fig = px.imshow(corr_with_zero_diag, x=drug_names_unique, y=drug_names_unique, zmin=-0.4, zmax=0.4, color_continuous_scale='RdBu')\n",
    "fig.show()\n",
    "\n",
    "fig = px.bar(x=drug_names_unique, y=sample.mean(0))\n",
    "fig.update_xaxes(categoryorder='total descending')\n",
    "fig.show()"
   ]
  },
  {
   "cell_type": "code",
   "execution_count": null,
   "metadata": {},
   "outputs": [],
   "source": []
  }
 ],
 "metadata": {
  "kernelspec": {
   "display_name": "Python 3",
   "language": "python",
   "name": "python3"
  },
  "language_info": {
   "codemirror_mode": {
    "name": "ipython",
    "version": 3
   },
   "file_extension": ".py",
   "mimetype": "text/x-python",
   "name": "python",
   "nbconvert_exporter": "python",
   "pygments_lexer": "ipython3",
   "version": "3.9.6"
  }
 },
 "nbformat": 4,
 "nbformat_minor": 2
}
